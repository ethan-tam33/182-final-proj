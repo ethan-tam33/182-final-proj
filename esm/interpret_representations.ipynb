{
 "cells": [
  {
   "cell_type": "code",
   "execution_count": 1,
   "id": "afcfd998",
   "metadata": {},
   "outputs": [],
   "source": [
    "import numpy as np\n",
    "import pandas as pd\n",
    "from Bio import SeqIO\n",
    "from Bio.Seq import Seq\n",
    "from Bio.SeqRecord import SeqRecord\n",
    "from Bio.SeqUtils.ProtParam import ProteinAnalysis\n",
    "import pandas as pd\n",
    "import numpy as np\n",
    "import matplotlib.pyplot as plt\n",
    "import torch\n",
    "import esm\n",
    "\n",
    "# takes FASTA files and generates dataframe and csv with descriptions and features"
   ]
  },
  {
   "cell_type": "code",
   "execution_count": 145,
   "id": "7ba56cb8",
   "metadata": {},
   "outputs": [
    {
     "name": "stdout",
     "output_type": "stream",
     "text": [
      "['Sequence', 'Name', 'Description', 'Length', 'Num_Features', 'Molecular Weight', 'Aromaticity', 'Instability Index', 'Flexibility', 'GRAVY', 'Isoelectric Point', 'Charge at pH:7.0']\n"
     ]
    }
   ],
   "source": [
    "df = pd.read_csv(\"seq_df_first_10000_less_1000.csv\", index_col=0).dropna()\n",
    "cols = list(df.columns)\n",
    "print(cols)"
   ]
  },
  {
   "cell_type": "code",
   "execution_count": 146,
   "id": "a1692606",
   "metadata": {},
   "outputs": [],
   "source": [
    "sort_feature = \"Molecular Weight\"\n",
    "assert sort_feature in cols, \"Feature not in df.columns\"\n",
    "df = df.sort_values(by=sort_feature, ascending=False)"
   ]
  },
  {
   "cell_type": "code",
   "execution_count": 147,
   "id": "02feb054",
   "metadata": {},
   "outputs": [
    {
     "data": {
      "text/html": [
       "<div>\n",
       "<style scoped>\n",
       "    .dataframe tbody tr th:only-of-type {\n",
       "        vertical-align: middle;\n",
       "    }\n",
       "\n",
       "    .dataframe tbody tr th {\n",
       "        vertical-align: top;\n",
       "    }\n",
       "\n",
       "    .dataframe thead th {\n",
       "        text-align: right;\n",
       "    }\n",
       "</style>\n",
       "<table border=\"1\" class=\"dataframe\">\n",
       "  <thead>\n",
       "    <tr style=\"text-align: right;\">\n",
       "      <th></th>\n",
       "      <th>Sequence</th>\n",
       "      <th>Name</th>\n",
       "      <th>Description</th>\n",
       "      <th>Length</th>\n",
       "      <th>Num_Features</th>\n",
       "      <th>Molecular Weight</th>\n",
       "      <th>Aromaticity</th>\n",
       "      <th>Instability Index</th>\n",
       "      <th>Flexibility</th>\n",
       "      <th>GRAVY</th>\n",
       "      <th>Isoelectric Point</th>\n",
       "      <th>Charge at pH:7.0</th>\n",
       "    </tr>\n",
       "    <tr>\n",
       "      <th>ID</th>\n",
       "      <th></th>\n",
       "      <th></th>\n",
       "      <th></th>\n",
       "      <th></th>\n",
       "      <th></th>\n",
       "      <th></th>\n",
       "      <th></th>\n",
       "      <th></th>\n",
       "      <th></th>\n",
       "      <th></th>\n",
       "      <th></th>\n",
       "      <th></th>\n",
       "    </tr>\n",
       "  </thead>\n",
       "  <tbody>\n",
       "    <tr>\n",
       "      <th>UniRef50_UPI001ABDBAD4</th>\n",
       "      <td>EREKKEREREEREREREEREREREEREREERERKREREEREREERE...</td>\n",
       "      <td>UniRef50_UPI001ABDBAD4</td>\n",
       "      <td>UniRef50_UPI001ABDBAD4 trichohyalin-like n=1 T...</td>\n",
       "      <td>478</td>\n",
       "      <td>0</td>\n",
       "      <td>67379.7753</td>\n",
       "      <td>0.000000</td>\n",
       "      <td>101.190795</td>\n",
       "      <td>[1.0737380952380955, 1.0552380952380953, 1.085...</td>\n",
       "      <td>-4.000837</td>\n",
       "      <td>11.023465</td>\n",
       "      <td>86.317066</td>\n",
       "    </tr>\n",
       "    <tr>\n",
       "      <th>UniRef50_A0A7R9FCU9</th>\n",
       "      <td>KEYCYFSTSQSLDIDYLHVAQAAQFCSAHFTSILYVELWSSEQIKE...</td>\n",
       "      <td>UniRef50_A0A7R9FCU9</td>\n",
       "      <td>UniRef50_A0A7R9FCU9 Uncharacterized protein (F...</td>\n",
       "      <td>463</td>\n",
       "      <td>0</td>\n",
       "      <td>61628.6454</td>\n",
       "      <td>0.412527</td>\n",
       "      <td>95.673240</td>\n",
       "      <td>[0.9677619047619048, 0.9975, 0.976892857142857...</td>\n",
       "      <td>-0.913607</td>\n",
       "      <td>6.132780</td>\n",
       "      <td>-13.983200</td>\n",
       "    </tr>\n",
       "    <tr>\n",
       "      <th>UniRef50_A0A8J7RNY4</th>\n",
       "      <td>MKKDYSDYKPTKNEIYNLNRSDRENVRLKYFYNYARFSKDDKRIHI...</td>\n",
       "      <td>UniRef50_A0A8J7RNY4</td>\n",
       "      <td>UniRef50_A0A8J7RNY4 EF-hand domain-containing ...</td>\n",
       "      <td>497</td>\n",
       "      <td>0</td>\n",
       "      <td>59346.4374</td>\n",
       "      <td>0.142857</td>\n",
       "      <td>49.837062</td>\n",
       "      <td>[1.051797619047619, 1.0363214285714288, 1.0007...</td>\n",
       "      <td>-0.854527</td>\n",
       "      <td>6.677809</td>\n",
       "      <td>-0.944757</td>\n",
       "    </tr>\n",
       "    <tr>\n",
       "      <th>UniRef50_A0A4Q9LJS8</th>\n",
       "      <td>MNTYELFRSRIYQVLDTKNIVYQKSDIDLEINDDDIYEFKRYLNIW...</td>\n",
       "      <td>UniRef50_A0A4Q9LJS8</td>\n",
       "      <td>UniRef50_A0A4Q9LJS8 3'5'-cyclic nucleotide pho...</td>\n",
       "      <td>490</td>\n",
       "      <td>0</td>\n",
       "      <td>59309.7513</td>\n",
       "      <td>0.151020</td>\n",
       "      <td>43.624367</td>\n",
       "      <td>[0.9606666666666667, 0.9839523809523809, 1.000...</td>\n",
       "      <td>-0.314490</td>\n",
       "      <td>9.240721</td>\n",
       "      <td>26.567350</td>\n",
       "    </tr>\n",
       "    <tr>\n",
       "      <th>UniRef50_UPI003776A4C8</th>\n",
       "      <td>MKKVKRFLFRNVYIKWLERDFNKKLELLEEFRLRKHVQAVIEENSE...</td>\n",
       "      <td>UniRef50_UPI003776A4C8</td>\n",
       "      <td>UniRef50_UPI003776A4C8 class 1 isoprenoid bios...</td>\n",
       "      <td>495</td>\n",
       "      <td>0</td>\n",
       "      <td>58931.1116</td>\n",
       "      <td>0.129293</td>\n",
       "      <td>51.186909</td>\n",
       "      <td>[0.990857142857143, 0.9771428571428573, 0.9828...</td>\n",
       "      <td>-0.288081</td>\n",
       "      <td>5.273374</td>\n",
       "      <td>-20.948914</td>\n",
       "    </tr>\n",
       "  </tbody>\n",
       "</table>\n",
       "</div>"
      ],
      "text/plain": [
       "                                                                 Sequence  \\\n",
       "ID                                                                          \n",
       "UniRef50_UPI001ABDBAD4  EREKKEREREEREREREEREREREEREREERERKREREEREREERE...   \n",
       "UniRef50_A0A7R9FCU9     KEYCYFSTSQSLDIDYLHVAQAAQFCSAHFTSILYVELWSSEQIKE...   \n",
       "UniRef50_A0A8J7RNY4     MKKDYSDYKPTKNEIYNLNRSDRENVRLKYFYNYARFSKDDKRIHI...   \n",
       "UniRef50_A0A4Q9LJS8     MNTYELFRSRIYQVLDTKNIVYQKSDIDLEINDDDIYEFKRYLNIW...   \n",
       "UniRef50_UPI003776A4C8  MKKVKRFLFRNVYIKWLERDFNKKLELLEEFRLRKHVQAVIEENSE...   \n",
       "\n",
       "                                          Name  \\\n",
       "ID                                               \n",
       "UniRef50_UPI001ABDBAD4  UniRef50_UPI001ABDBAD4   \n",
       "UniRef50_A0A7R9FCU9        UniRef50_A0A7R9FCU9   \n",
       "UniRef50_A0A8J7RNY4        UniRef50_A0A8J7RNY4   \n",
       "UniRef50_A0A4Q9LJS8        UniRef50_A0A4Q9LJS8   \n",
       "UniRef50_UPI003776A4C8  UniRef50_UPI003776A4C8   \n",
       "\n",
       "                                                              Description  \\\n",
       "ID                                                                          \n",
       "UniRef50_UPI001ABDBAD4  UniRef50_UPI001ABDBAD4 trichohyalin-like n=1 T...   \n",
       "UniRef50_A0A7R9FCU9     UniRef50_A0A7R9FCU9 Uncharacterized protein (F...   \n",
       "UniRef50_A0A8J7RNY4     UniRef50_A0A8J7RNY4 EF-hand domain-containing ...   \n",
       "UniRef50_A0A4Q9LJS8     UniRef50_A0A4Q9LJS8 3'5'-cyclic nucleotide pho...   \n",
       "UniRef50_UPI003776A4C8  UniRef50_UPI003776A4C8 class 1 isoprenoid bios...   \n",
       "\n",
       "                        Length  Num_Features  Molecular Weight  Aromaticity  \\\n",
       "ID                                                                            \n",
       "UniRef50_UPI001ABDBAD4     478             0        67379.7753     0.000000   \n",
       "UniRef50_A0A7R9FCU9        463             0        61628.6454     0.412527   \n",
       "UniRef50_A0A8J7RNY4        497             0        59346.4374     0.142857   \n",
       "UniRef50_A0A4Q9LJS8        490             0        59309.7513     0.151020   \n",
       "UniRef50_UPI003776A4C8     495             0        58931.1116     0.129293   \n",
       "\n",
       "                        Instability Index  \\\n",
       "ID                                          \n",
       "UniRef50_UPI001ABDBAD4         101.190795   \n",
       "UniRef50_A0A7R9FCU9             95.673240   \n",
       "UniRef50_A0A8J7RNY4             49.837062   \n",
       "UniRef50_A0A4Q9LJS8             43.624367   \n",
       "UniRef50_UPI003776A4C8          51.186909   \n",
       "\n",
       "                                                              Flexibility  \\\n",
       "ID                                                                          \n",
       "UniRef50_UPI001ABDBAD4  [1.0737380952380955, 1.0552380952380953, 1.085...   \n",
       "UniRef50_A0A7R9FCU9     [0.9677619047619048, 0.9975, 0.976892857142857...   \n",
       "UniRef50_A0A8J7RNY4     [1.051797619047619, 1.0363214285714288, 1.0007...   \n",
       "UniRef50_A0A4Q9LJS8     [0.9606666666666667, 0.9839523809523809, 1.000...   \n",
       "UniRef50_UPI003776A4C8  [0.990857142857143, 0.9771428571428573, 0.9828...   \n",
       "\n",
       "                           GRAVY  Isoelectric Point  Charge at pH:7.0  \n",
       "ID                                                                     \n",
       "UniRef50_UPI001ABDBAD4 -4.000837          11.023465         86.317066  \n",
       "UniRef50_A0A7R9FCU9    -0.913607           6.132780        -13.983200  \n",
       "UniRef50_A0A8J7RNY4    -0.854527           6.677809         -0.944757  \n",
       "UniRef50_A0A4Q9LJS8    -0.314490           9.240721         26.567350  \n",
       "UniRef50_UPI003776A4C8 -0.288081           5.273374        -20.948914  "
      ]
     },
     "execution_count": 147,
     "metadata": {},
     "output_type": "execute_result"
    }
   ],
   "source": [
    "df.head()"
   ]
  },
  {
   "cell_type": "markdown",
   "id": "3ed17a5e",
   "metadata": {},
   "source": [
    "### Exploratory Data Analysis"
   ]
  },
  {
   "cell_type": "code",
   "execution_count": 148,
   "id": "d7b88739",
   "metadata": {},
   "outputs": [
    {
     "data": {
      "text/plain": [
       "Text(0.5, 1.0, 'Distribution of GRAVY values')"
      ]
     },
     "execution_count": 148,
     "metadata": {},
     "output_type": "execute_result"
    },
    {
     "data": {
      "image/png": "[encoded data removed]",
      "text/plain": [
       "<Figure size 432x288 with 1 Axes>"
      ]
     },
     "metadata": {
      "needs_background": "light"
     },
     "output_type": "display_data"
    }
   ],
   "source": [
    "plt.hist(df[\"GRAVY\"], bins=200)\n",
    "plt.xlabel(\"GRAVY\")\n",
    "plt.ylabel(\"Frequency\")\n",
    "plt.title(\"Distribution of GRAVY values\")"
   ]
  },
  {
   "cell_type": "code",
   "execution_count": 149,
   "id": "609adcc3",
   "metadata": {},
   "outputs": [
    {
     "data": {
      "text/plain": [
       "Text(0.5, 1.0, 'Distribution of Aromaticity values')"
      ]
     },
     "execution_count": 149,
     "metadata": {},
     "output_type": "execute_result"
    },
    {
     "data": {
      "image/png": "[encoded data removed]",
      "text/plain": [
       "<Figure size 432x288 with 1 Axes>"
      ]
     },
     "metadata": {
      "needs_background": "light"
     },
     "output_type": "display_data"
    }
   ],
   "source": [
    "plt.hist(df[\"Aromaticity\"], bins=50)\n",
    "plt.xlabel(\"Aromaticity\")\n",
    "plt.ylabel(\"Frequency\")\n",
    "plt.title(\"Distribution of Aromaticity values\")"
   ]
  },
  {
   "cell_type": "code",
   "execution_count": 150,
   "id": "c489ecf9",
   "metadata": {},
   "outputs": [
    {
     "data": {
      "text/plain": [
       "Text(0.5, 1.0, 'Distribution of MW values')"
      ]
     },
     "execution_count": 150,
     "metadata": {},
     "output_type": "execute_result"
    },
    {
     "data": {
      "image/png": "[encoded data removed]",
      "text/plain": [
       "<Figure size 432x288 with 1 Axes>"
      ]
     },
     "metadata": {
      "needs_background": "light"
     },
     "output_type": "display_data"
    }
   ],
   "source": [
    "plt.hist(df[\"Molecular Weight\"], bins=100)\n",
    "plt.xlabel(\"MW\")\n",
    "plt.ylabel(\"Frequency\")\n",
    "plt.title(\"Distribution of MW values\")"
   ]
  },
  {
   "cell_type": "code",
   "execution_count": 151,
   "id": "e5259ad9",
   "metadata": {},
   "outputs": [
    {
     "data": {
      "text/plain": [
       "Text(0.5, 1.0, 'Distribution of Charge at pH:7.0 values')"
      ]
     },
     "execution_count": 151,
     "metadata": {},
     "output_type": "execute_result"
    },
    {
     "data": {
      "image/png": "[encoded data removed]",
      "text/plain": [
       "<Figure size 432x288 with 1 Axes>"
      ]
     },
     "metadata": {
      "needs_background": "light"
     },
     "output_type": "display_data"
    }
   ],
   "source": [
    "plt.hist(df[\"Charge at pH:7.0\"], bins=200)\n",
    "plt.xlabel(\"Aromaticity\")\n",
    "plt.ylabel(\"Frequency\")\n",
    "plt.title(\"Distribution of Charge at pH:7.0 values\")"
   ]
  },
  {
   "cell_type": "markdown",
   "id": "42832b20",
   "metadata": {},
   "source": [
    "### Load Model"
   ]
  },
  {
   "cell_type": "code",
   "execution_count": 155,
   "id": "b4ec8d6a",
   "metadata": {},
   "outputs": [
    {
     "name": "stderr",
     "output_type": "stream",
     "text": [
      "Downloading: \"https://dl.fbaipublicfiles.com/fair-esm/models/esm2_t30_150M_UR50D.pt\" to /Users/davidm/.cache/torch/hub/checkpoints/esm2_t30_150M_UR50D.pt\n",
      "Downloading: \"https://dl.fbaipublicfiles.com/fair-esm/regression/esm2_t30_150M_UR50D-contact-regression.pt\" to /Users/davidm/.cache/torch/hub/checkpoints/esm2_t30_150M_UR50D-contact-regression.pt\n"
     ]
    },
    {
     "data": {
      "text/plain": [
       "ESM2(\n",
       "  (embed_tokens): Embedding(33, 640, padding_idx=1)\n",
       "  (layers): ModuleList(\n",
       "    (0): TransformerLayer(\n",
       "      (self_attn): MultiheadAttention(\n",
       "        (k_proj): Linear(in_features=640, out_features=640, bias=True)\n",
       "        (v_proj): Linear(in_features=640, out_features=640, bias=True)\n",
       "        (q_proj): Linear(in_features=640, out_features=640, bias=True)\n",
       "        (out_proj): Linear(in_features=640, out_features=640, bias=True)\n",
       "        (rot_emb): RotaryEmbedding()\n",
       "      )\n",
       "      (self_attn_layer_norm): LayerNorm((640,), eps=1e-05, elementwise_affine=True)\n",
       "      (fc1): Linear(in_features=640, out_features=2560, bias=True)\n",
       "      (fc2): Linear(in_features=2560, out_features=640, bias=True)\n",
       "      (final_layer_norm): LayerNorm((640,), eps=1e-05, elementwise_affine=True)\n",
       "    )\n",
       "    (1): TransformerLayer(\n",
       "      (self_attn): MultiheadAttention(\n",
       "        (k_proj): Linear(in_features=640, out_features=640, bias=True)\n",
       "        (v_proj): Linear(in_features=640, out_features=640, bias=True)\n",
       "        (q_proj): Linear(in_features=640, out_features=640, bias=True)\n",
       "        (out_proj): Linear(in_features=640, out_features=640, bias=True)\n",
       "        (rot_emb): RotaryEmbedding()\n",
       "      )\n",
       "      (self_attn_layer_norm): LayerNorm((640,), eps=1e-05, elementwise_affine=True)\n",
       "      (fc1): Linear(in_features=640, out_features=2560, bias=True)\n",
       "      (fc2): Linear(in_features=2560, out_features=640, bias=True)\n",
       "      (final_layer_norm): LayerNorm((640,), eps=1e-05, elementwise_affine=True)\n",
       "    )\n",
       "    (2): TransformerLayer(\n",
       "      (self_attn): MultiheadAttention(\n",
       "        (k_proj): Linear(in_features=640, out_features=640, bias=True)\n",
       "        (v_proj): Linear(in_features=640, out_features=640, bias=True)\n",
       "        (q_proj): Linear(in_features=640, out_features=640, bias=True)\n",
       "        (out_proj): Linear(in_features=640, out_features=640, bias=True)\n",
       "        (rot_emb): RotaryEmbedding()\n",
       "      )\n",
       "      (self_attn_layer_norm): LayerNorm((640,), eps=1e-05, elementwise_affine=True)\n",
       "      (fc1): Linear(in_features=640, out_features=2560, bias=True)\n",
       "      (fc2): Linear(in_features=2560, out_features=640, bias=True)\n",
       "      (final_layer_norm): LayerNorm((640,), eps=1e-05, elementwise_affine=True)\n",
       "    )\n",
       "    (3): TransformerLayer(\n",
       "      (self_attn): MultiheadAttention(\n",
       "        (k_proj): Linear(in_features=640, out_features=640, bias=True)\n",
       "        (v_proj): Linear(in_features=640, out_features=640, bias=True)\n",
       "        (q_proj): Linear(in_features=640, out_features=640, bias=True)\n",
       "        (out_proj): Linear(in_features=640, out_features=640, bias=True)\n",
       "        (rot_emb): RotaryEmbedding()\n",
       "      )\n",
       "      (self_attn_layer_norm): LayerNorm((640,), eps=1e-05, elementwise_affine=True)\n",
       "      (fc1): Linear(in_features=640, out_features=2560, bias=True)\n",
       "      (fc2): Linear(in_features=2560, out_features=640, bias=True)\n",
       "      (final_layer_norm): LayerNorm((640,), eps=1e-05, elementwise_affine=True)\n",
       "    )\n",
       "    (4): TransformerLayer(\n",
       "      (self_attn): MultiheadAttention(\n",
       "        (k_proj): Linear(in_features=640, out_features=640, bias=True)\n",
       "        (v_proj): Linear(in_features=640, out_features=640, bias=True)\n",
       "        (q_proj): Linear(in_features=640, out_features=640, bias=True)\n",
       "        (out_proj): Linear(in_features=640, out_features=640, bias=True)\n",
       "        (rot_emb): RotaryEmbedding()\n",
       "      )\n",
       "      (self_attn_layer_norm): LayerNorm((640,), eps=1e-05, elementwise_affine=True)\n",
       "      (fc1): Linear(in_features=640, out_features=2560, bias=True)\n",
       "      (fc2): Linear(in_features=2560, out_features=640, bias=True)\n",
       "      (final_layer_norm): LayerNorm((640,), eps=1e-05, elementwise_affine=True)\n",
       "    )\n",
       "    (5): TransformerLayer(\n",
       "      (self_attn): MultiheadAttention(\n",
       "        (k_proj): Linear(in_features=640, out_features=640, bias=True)\n",
       "        (v_proj): Linear(in_features=640, out_features=640, bias=True)\n",
       "        (q_proj): Linear(in_features=640, out_features=640, bias=True)\n",
       "        (out_proj): Linear(in_features=640, out_features=640, bias=True)\n",
       "        (rot_emb): RotaryEmbedding()\n",
       "      )\n",
       "      (self_attn_layer_norm): LayerNorm((640,), eps=1e-05, elementwise_affine=True)\n",
       "      (fc1): Linear(in_features=640, out_features=2560, bias=True)\n",
       "      (fc2): Linear(in_features=2560, out_features=640, bias=True)\n",
       "      (final_layer_norm): LayerNorm((640,), eps=1e-05, elementwise_affine=True)\n",
       "    )\n",
       "    (6): TransformerLayer(\n",
       "      (self_attn): MultiheadAttention(\n",
       "        (k_proj): Linear(in_features=640, out_features=640, bias=True)\n",
       "        (v_proj): Linear(in_features=640, out_features=640, bias=True)\n",
       "        (q_proj): Linear(in_features=640, out_features=640, bias=True)\n",
       "        (out_proj): Linear(in_features=640, out_features=640, bias=True)\n",
       "        (rot_emb): RotaryEmbedding()\n",
       "      )\n",
       "      (self_attn_layer_norm): LayerNorm((640,), eps=1e-05, elementwise_affine=True)\n",
       "      (fc1): Linear(in_features=640, out_features=2560, bias=True)\n",
       "      (fc2): Linear(in_features=2560, out_features=640, bias=True)\n",
       "      (final_layer_norm): LayerNorm((640,), eps=1e-05, elementwise_affine=True)\n",
       "    )\n",
       "    (7): TransformerLayer(\n",
       "      (self_attn): MultiheadAttention(\n",
       "        (k_proj): Linear(in_features=640, out_features=640, bias=True)\n",
       "        (v_proj): Linear(in_features=640, out_features=640, bias=True)\n",
       "        (q_proj): Linear(in_features=640, out_features=640, bias=True)\n",
       "        (out_proj): Linear(in_features=640, out_features=640, bias=True)\n",
       "        (rot_emb): RotaryEmbedding()\n",
       "      )\n",
       "      (self_attn_layer_norm): LayerNorm((640,), eps=1e-05, elementwise_affine=True)\n",
       "      (fc1): Linear(in_features=640, out_features=2560, bias=True)\n",
       "      (fc2): Linear(in_features=2560, out_features=640, bias=True)\n",
       "      (final_layer_norm): LayerNorm((640,), eps=1e-05, elementwise_affine=True)\n",
       "    )\n",
       "    (8): TransformerLayer(\n",
       "      (self_attn): MultiheadAttention(\n",
       "        (k_proj): Linear(in_features=640, out_features=640, bias=True)\n",
       "        (v_proj): Linear(in_features=640, out_features=640, bias=True)\n",
       "        (q_proj): Linear(in_features=640, out_features=640, bias=True)\n",
       "        (out_proj): Linear(in_features=640, out_features=640, bias=True)\n",
       "        (rot_emb): RotaryEmbedding()\n",
       "      )\n",
       "      (self_attn_layer_norm): LayerNorm((640,), eps=1e-05, elementwise_affine=True)\n",
       "      (fc1): Linear(in_features=640, out_features=2560, bias=True)\n",
       "      (fc2): Linear(in_features=2560, out_features=640, bias=True)\n",
       "      (final_layer_norm): LayerNorm((640,), eps=1e-05, elementwise_affine=True)\n",
       "    )\n",
       "    (9): TransformerLayer(\n",
       "      (self_attn): MultiheadAttention(\n",
       "        (k_proj): Linear(in_features=640, out_features=640, bias=True)\n",
       "        (v_proj): Linear(in_features=640, out_features=640, bias=True)\n",
       "        (q_proj): Linear(in_features=640, out_features=640, bias=True)\n",
       "        (out_proj): Linear(in_features=640, out_features=640, bias=True)\n",
       "        (rot_emb): RotaryEmbedding()\n",
       "      )\n",
       "      (self_attn_layer_norm): LayerNorm((640,), eps=1e-05, elementwise_affine=True)\n",
       "      (fc1): Linear(in_features=640, out_features=2560, bias=True)\n",
       "      (fc2): Linear(in_features=2560, out_features=640, bias=True)\n",
       "      (final_layer_norm): LayerNorm((640,), eps=1e-05, elementwise_affine=True)\n",
       "    )\n",
       "    (10): TransformerLayer(\n",
       "      (self_attn): MultiheadAttention(\n",
       "        (k_proj): Linear(in_features=640, out_features=640, bias=True)\n",
       "        (v_proj): Linear(in_features=640, out_features=640, bias=True)\n",
       "        (q_proj): Linear(in_features=640, out_features=640, bias=True)\n",
       "        (out_proj): Linear(in_features=640, out_features=640, bias=True)\n",
       "        (rot_emb): RotaryEmbedding()\n",
       "      )\n",
       "      (self_attn_layer_norm): LayerNorm((640,), eps=1e-05, elementwise_affine=True)\n",
       "      (fc1): Linear(in_features=640, out_features=2560, bias=True)\n",
       "      (fc2): Linear(in_features=2560, out_features=640, bias=True)\n",
       "      (final_layer_norm): LayerNorm((640,), eps=1e-05, elementwise_affine=True)\n",
       "    )\n",
       "    (11): TransformerLayer(\n",
       "      (self_attn): MultiheadAttention(\n",
       "        (k_proj): Linear(in_features=640, out_features=640, bias=True)\n",
       "        (v_proj): Linear(in_features=640, out_features=640, bias=True)\n",
       "        (q_proj): Linear(in_features=640, out_features=640, bias=True)\n",
       "        (out_proj): Linear(in_features=640, out_features=640, bias=True)\n",
       "        (rot_emb): RotaryEmbedding()\n",
       "      )\n",
       "      (self_attn_layer_norm): LayerNorm((640,), eps=1e-05, elementwise_affine=True)\n",
       "      (fc1): Linear(in_features=640, out_features=2560, bias=True)\n",
       "      (fc2): Linear(in_features=2560, out_features=640, bias=True)\n",
       "      (final_layer_norm): LayerNorm((640,), eps=1e-05, elementwise_affine=True)\n",
       "    )\n",
       "    (12): TransformerLayer(\n",
       "      (self_attn): MultiheadAttention(\n",
       "        (k_proj): Linear(in_features=640, out_features=640, bias=True)\n",
       "        (v_proj): Linear(in_features=640, out_features=640, bias=True)\n",
       "        (q_proj): Linear(in_features=640, out_features=640, bias=True)\n",
       "        (out_proj): Linear(in_features=640, out_features=640, bias=True)\n",
       "        (rot_emb): RotaryEmbedding()\n",
       "      )\n",
       "      (self_attn_layer_norm): LayerNorm((640,), eps=1e-05, elementwise_affine=True)\n",
       "      (fc1): Linear(in_features=640, out_features=2560, bias=True)\n",
       "      (fc2): Linear(in_features=2560, out_features=640, bias=True)\n",
       "      (final_layer_norm): LayerNorm((640,), eps=1e-05, elementwise_affine=True)\n",
       "    )\n",
       "    (13): TransformerLayer(\n",
       "      (self_attn): MultiheadAttention(\n",
       "        (k_proj): Linear(in_features=640, out_features=640, bias=True)\n",
       "        (v_proj): Linear(in_features=640, out_features=640, bias=True)\n",
       "        (q_proj): Linear(in_features=640, out_features=640, bias=True)\n",
       "        (out_proj): Linear(in_features=640, out_features=640, bias=True)\n",
       "        (rot_emb): RotaryEmbedding()\n",
       "      )\n",
       "      (self_attn_layer_norm): LayerNorm((640,), eps=1e-05, elementwise_affine=True)\n",
       "      (fc1): Linear(in_features=640, out_features=2560, bias=True)\n",
       "      (fc2): Linear(in_features=2560, out_features=640, bias=True)\n",
       "      (final_layer_norm): LayerNorm((640,), eps=1e-05, elementwise_affine=True)\n",
       "    )\n",
       "    (14): TransformerLayer(\n",
       "      (self_attn): MultiheadAttention(\n",
       "        (k_proj): Linear(in_features=640, out_features=640, bias=True)\n",
       "        (v_proj): Linear(in_features=640, out_features=640, bias=True)\n",
       "        (q_proj): Linear(in_features=640, out_features=640, bias=True)\n",
       "        (out_proj): Linear(in_features=640, out_features=640, bias=True)\n",
       "        (rot_emb): RotaryEmbedding()\n",
       "      )\n",
       "      (self_attn_layer_norm): LayerNorm((640,), eps=1e-05, elementwise_affine=True)\n",
       "      (fc1): Linear(in_features=640, out_features=2560, bias=True)\n",
       "      (fc2): Linear(in_features=2560, out_features=640, bias=True)\n",
       "      (final_layer_norm): LayerNorm((640,), eps=1e-05, elementwise_affine=True)\n",
       "    )\n",
       "    (15): TransformerLayer(\n",
       "      (self_attn): MultiheadAttention(\n",
       "        (k_proj): Linear(in_features=640, out_features=640, bias=True)\n",
       "        (v_proj): Linear(in_features=640, out_features=640, bias=True)\n",
       "        (q_proj): Linear(in_features=640, out_features=640, bias=True)\n",
       "        (out_proj): Linear(in_features=640, out_features=640, bias=True)\n",
       "        (rot_emb): RotaryEmbedding()\n",
       "      )\n",
       "      (self_attn_layer_norm): LayerNorm((640,), eps=1e-05, elementwise_affine=True)\n",
       "      (fc1): Linear(in_features=640, out_features=2560, bias=True)\n",
       "      (fc2): Linear(in_features=2560, out_features=640, bias=True)\n",
       "      (final_layer_norm): LayerNorm((640,), eps=1e-05, elementwise_affine=True)\n",
       "    )\n",
       "    (16): TransformerLayer(\n",
       "      (self_attn): MultiheadAttention(\n",
       "        (k_proj): Linear(in_features=640, out_features=640, bias=True)\n",
       "        (v_proj): Linear(in_features=640, out_features=640, bias=True)\n",
       "        (q_proj): Linear(in_features=640, out_features=640, bias=True)\n",
       "        (out_proj): Linear(in_features=640, out_features=640, bias=True)\n",
       "        (rot_emb): RotaryEmbedding()\n",
       "      )\n",
       "      (self_attn_layer_norm): LayerNorm((640,), eps=1e-05, elementwise_affine=True)\n",
       "      (fc1): Linear(in_features=640, out_features=2560, bias=True)\n",
       "      (fc2): Linear(in_features=2560, out_features=640, bias=True)\n",
       "      (final_layer_norm): LayerNorm((640,), eps=1e-05, elementwise_affine=True)\n",
       "    )\n",
       "    (17): TransformerLayer(\n",
       "      (self_attn): MultiheadAttention(\n",
       "        (k_proj): Linear(in_features=640, out_features=640, bias=True)\n",
       "        (v_proj): Linear(in_features=640, out_features=640, bias=True)\n",
       "        (q_proj): Linear(in_features=640, out_features=640, bias=True)\n",
       "        (out_proj): Linear(in_features=640, out_features=640, bias=True)\n",
       "        (rot_emb): RotaryEmbedding()\n",
       "      )\n",
       "      (self_attn_layer_norm): LayerNorm((640,), eps=1e-05, elementwise_affine=True)\n",
       "      (fc1): Linear(in_features=640, out_features=2560, bias=True)\n",
       "      (fc2): Linear(in_features=2560, out_features=640, bias=True)\n",
       "      (final_layer_norm): LayerNorm((640,), eps=1e-05, elementwise_affine=True)\n",
       "    )\n",
       "    (18): TransformerLayer(\n",
       "      (self_attn): MultiheadAttention(\n",
       "        (k_proj): Linear(in_features=640, out_features=640, bias=True)\n",
       "        (v_proj): Linear(in_features=640, out_features=640, bias=True)\n",
       "        (q_proj): Linear(in_features=640, out_features=640, bias=True)\n",
       "        (out_proj): Linear(in_features=640, out_features=640, bias=True)\n",
       "        (rot_emb): RotaryEmbedding()\n",
       "      )\n",
       "      (self_attn_layer_norm): LayerNorm((640,), eps=1e-05, elementwise_affine=True)\n",
       "      (fc1): Linear(in_features=640, out_features=2560, bias=True)\n",
       "      (fc2): Linear(in_features=2560, out_features=640, bias=True)\n",
       "      (final_layer_norm): LayerNorm((640,), eps=1e-05, elementwise_affine=True)\n",
       "    )\n",
       "    (19): TransformerLayer(\n",
       "      (self_attn): MultiheadAttention(\n",
       "        (k_proj): Linear(in_features=640, out_features=640, bias=True)\n",
       "        (v_proj): Linear(in_features=640, out_features=640, bias=True)\n",
       "        (q_proj): Linear(in_features=640, out_features=640, bias=True)\n",
       "        (out_proj): Linear(in_features=640, out_features=640, bias=True)\n",
       "        (rot_emb): RotaryEmbedding()\n",
       "      )\n",
       "      (self_attn_layer_norm): LayerNorm((640,), eps=1e-05, elementwise_affine=True)\n",
       "      (fc1): Linear(in_features=640, out_features=2560, bias=True)\n",
       "      (fc2): Linear(in_features=2560, out_features=640, bias=True)\n",
       "      (final_layer_norm): LayerNorm((640,), eps=1e-05, elementwise_affine=True)\n",
       "    )\n",
       "    (20): TransformerLayer(\n",
       "      (self_attn): MultiheadAttention(\n",
       "        (k_proj): Linear(in_features=640, out_features=640, bias=True)\n",
       "        (v_proj): Linear(in_features=640, out_features=640, bias=True)\n",
       "        (q_proj): Linear(in_features=640, out_features=640, bias=True)\n",
       "        (out_proj): Linear(in_features=640, out_features=640, bias=True)\n",
       "        (rot_emb): RotaryEmbedding()\n",
       "      )\n",
       "      (self_attn_layer_norm): LayerNorm((640,), eps=1e-05, elementwise_affine=True)\n",
       "      (fc1): Linear(in_features=640, out_features=2560, bias=True)\n",
       "      (fc2): Linear(in_features=2560, out_features=640, bias=True)\n",
       "      (final_layer_norm): LayerNorm((640,), eps=1e-05, elementwise_affine=True)\n",
       "    )\n",
       "    (21): TransformerLayer(\n",
       "      (self_attn): MultiheadAttention(\n",
       "        (k_proj): Linear(in_features=640, out_features=640, bias=True)\n",
       "        (v_proj): Linear(in_features=640, out_features=640, bias=True)\n",
       "        (q_proj): Linear(in_features=640, out_features=640, bias=True)\n",
       "        (out_proj): Linear(in_features=640, out_features=640, bias=True)\n",
       "        (rot_emb): RotaryEmbedding()\n",
       "      )\n",
       "      (self_attn_layer_norm): LayerNorm((640,), eps=1e-05, elementwise_affine=True)\n",
       "      (fc1): Linear(in_features=640, out_features=2560, bias=True)\n",
       "      (fc2): Linear(in_features=2560, out_features=640, bias=True)\n",
       "      (final_layer_norm): LayerNorm((640,), eps=1e-05, elementwise_affine=True)\n",
       "    )\n",
       "    (22): TransformerLayer(\n",
       "      (self_attn): MultiheadAttention(\n",
       "        (k_proj): Linear(in_features=640, out_features=640, bias=True)\n",
       "        (v_proj): Linear(in_features=640, out_features=640, bias=True)\n",
       "        (q_proj): Linear(in_features=640, out_features=640, bias=True)\n",
       "        (out_proj): Linear(in_features=640, out_features=640, bias=True)\n",
       "        (rot_emb): RotaryEmbedding()\n",
       "      )\n",
       "      (self_attn_layer_norm): LayerNorm((640,), eps=1e-05, elementwise_affine=True)\n",
       "      (fc1): Linear(in_features=640, out_features=2560, bias=True)\n",
       "      (fc2): Linear(in_features=2560, out_features=640, bias=True)\n",
       "      (final_layer_norm): LayerNorm((640,), eps=1e-05, elementwise_affine=True)\n",
       "    )\n",
       "    (23): TransformerLayer(\n",
       "      (self_attn): MultiheadAttention(\n",
       "        (k_proj): Linear(in_features=640, out_features=640, bias=True)\n",
       "        (v_proj): Linear(in_features=640, out_features=640, bias=True)\n",
       "        (q_proj): Linear(in_features=640, out_features=640, bias=True)\n",
       "        (out_proj): Linear(in_features=640, out_features=640, bias=True)\n",
       "        (rot_emb): RotaryEmbedding()\n",
       "      )\n",
       "      (self_attn_layer_norm): LayerNorm((640,), eps=1e-05, elementwise_affine=True)\n",
       "      (fc1): Linear(in_features=640, out_features=2560, bias=True)\n",
       "      (fc2): Linear(in_features=2560, out_features=640, bias=True)\n",
       "      (final_layer_norm): LayerNorm((640,), eps=1e-05, elementwise_affine=True)\n",
       "    )\n",
       "    (24): TransformerLayer(\n",
       "      (self_attn): MultiheadAttention(\n",
       "        (k_proj): Linear(in_features=640, out_features=640, bias=True)\n",
       "        (v_proj): Linear(in_features=640, out_features=640, bias=True)\n",
       "        (q_proj): Linear(in_features=640, out_features=640, bias=True)\n",
       "        (out_proj): Linear(in_features=640, out_features=640, bias=True)\n",
       "        (rot_emb): RotaryEmbedding()\n",
       "      )\n",
       "      (self_attn_layer_norm): LayerNorm((640,), eps=1e-05, elementwise_affine=True)\n",
       "      (fc1): Linear(in_features=640, out_features=2560, bias=True)\n",
       "      (fc2): Linear(in_features=2560, out_features=640, bias=True)\n",
       "      (final_layer_norm): LayerNorm((640,), eps=1e-05, elementwise_affine=True)\n",
       "    )\n",
       "    (25): TransformerLayer(\n",
       "      (self_attn): MultiheadAttention(\n",
       "        (k_proj): Linear(in_features=640, out_features=640, bias=True)\n",
       "        (v_proj): Linear(in_features=640, out_features=640, bias=True)\n",
       "        (q_proj): Linear(in_features=640, out_features=640, bias=True)\n",
       "        (out_proj): Linear(in_features=640, out_features=640, bias=True)\n",
       "        (rot_emb): RotaryEmbedding()\n",
       "      )\n",
       "      (self_attn_layer_norm): LayerNorm((640,), eps=1e-05, elementwise_affine=True)\n",
       "      (fc1): Linear(in_features=640, out_features=2560, bias=True)\n",
       "      (fc2): Linear(in_features=2560, out_features=640, bias=True)\n",
       "      (final_layer_norm): LayerNorm((640,), eps=1e-05, elementwise_affine=True)\n",
       "    )\n",
       "    (26): TransformerLayer(\n",
       "      (self_attn): MultiheadAttention(\n",
       "        (k_proj): Linear(in_features=640, out_features=640, bias=True)\n",
       "        (v_proj): Linear(in_features=640, out_features=640, bias=True)\n",
       "        (q_proj): Linear(in_features=640, out_features=640, bias=True)\n",
       "        (out_proj): Linear(in_features=640, out_features=640, bias=True)\n",
       "        (rot_emb): RotaryEmbedding()\n",
       "      )\n",
       "      (self_attn_layer_norm): LayerNorm((640,), eps=1e-05, elementwise_affine=True)\n",
       "      (fc1): Linear(in_features=640, out_features=2560, bias=True)\n",
       "      (fc2): Linear(in_features=2560, out_features=640, bias=True)\n",
       "      (final_layer_norm): LayerNorm((640,), eps=1e-05, elementwise_affine=True)\n",
       "    )\n",
       "    (27): TransformerLayer(\n",
       "      (self_attn): MultiheadAttention(\n",
       "        (k_proj): Linear(in_features=640, out_features=640, bias=True)\n",
       "        (v_proj): Linear(in_features=640, out_features=640, bias=True)\n",
       "        (q_proj): Linear(in_features=640, out_features=640, bias=True)\n",
       "        (out_proj): Linear(in_features=640, out_features=640, bias=True)\n",
       "        (rot_emb): RotaryEmbedding()\n",
       "      )\n",
       "      (self_attn_layer_norm): LayerNorm((640,), eps=1e-05, elementwise_affine=True)\n",
       "      (fc1): Linear(in_features=640, out_features=2560, bias=True)\n",
       "      (fc2): Linear(in_features=2560, out_features=640, bias=True)\n",
       "      (final_layer_norm): LayerNorm((640,), eps=1e-05, elementwise_affine=True)\n",
       "    )\n",
       "    (28): TransformerLayer(\n",
       "      (self_attn): MultiheadAttention(\n",
       "        (k_proj): Linear(in_features=640, out_features=640, bias=True)\n",
       "        (v_proj): Linear(in_features=640, out_features=640, bias=True)\n",
       "        (q_proj): Linear(in_features=640, out_features=640, bias=True)\n",
       "        (out_proj): Linear(in_features=640, out_features=640, bias=True)\n",
       "        (rot_emb): RotaryEmbedding()\n",
       "      )\n",
       "      (self_attn_layer_norm): LayerNorm((640,), eps=1e-05, elementwise_affine=True)\n",
       "      (fc1): Linear(in_features=640, out_features=2560, bias=True)\n",
       "      (fc2): Linear(in_features=2560, out_features=640, bias=True)\n",
       "      (final_layer_norm): LayerNorm((640,), eps=1e-05, elementwise_affine=True)\n",
       "    )\n",
       "    (29): TransformerLayer(\n",
       "      (self_attn): MultiheadAttention(\n",
       "        (k_proj): Linear(in_features=640, out_features=640, bias=True)\n",
       "        (v_proj): Linear(in_features=640, out_features=640, bias=True)\n",
       "        (q_proj): Linear(in_features=640, out_features=640, bias=True)\n",
       "        (out_proj): Linear(in_features=640, out_features=640, bias=True)\n",
       "        (rot_emb): RotaryEmbedding()\n",
       "      )\n",
       "      (self_attn_layer_norm): LayerNorm((640,), eps=1e-05, elementwise_affine=True)\n",
       "      (fc1): Linear(in_features=640, out_features=2560, bias=True)\n",
       "      (fc2): Linear(in_features=2560, out_features=640, bias=True)\n",
       "      (final_layer_norm): LayerNorm((640,), eps=1e-05, elementwise_affine=True)\n",
       "    )\n",
       "  )\n",
       "  (contact_head): ContactPredictionHead(\n",
       "    (regression): Linear(in_features=600, out_features=1, bias=True)\n",
       "    (activation): Sigmoid()\n",
       "  )\n",
       "  (emb_layer_norm_after): LayerNorm((640,), eps=1e-05, elementwise_affine=True)\n",
       "  (lm_head): RobertaLMHead(\n",
       "    (dense): Linear(in_features=640, out_features=640, bias=True)\n",
       "    (layer_norm): LayerNorm((640,), eps=1e-05, elementwise_affine=True)\n",
       "  )\n",
       ")"
      ]
     },
     "execution_count": 155,
     "metadata": {},
     "output_type": "execute_result"
    }
   ],
   "source": [
    "# Load ESM-2 model\n",
    "#model, alphabet = esm.pretrained.esm2_t6_8M_UR50D()\n",
    "model, alphabet = esm.pretrained.esm2_t30_150M_UR50D()\n",
    "batch_converter = alphabet.get_batch_converter()\n",
    "model.eval()  # disables dropout for deterministic results"
   ]
  },
  {
   "cell_type": "code",
   "execution_count": 156,
   "id": "22003be3",
   "metadata": {},
   "outputs": [],
   "source": [
    "def get_features(data, model):    \n",
    "    batch_labels, batch_strs, batch_tokens = batch_converter(data)\n",
    "    batch_lens = (batch_tokens != alphabet.padding_idx).sum(1)\n",
    "\n",
    "    # Extract per-residue representations (on CPU)\n",
    "    with torch.no_grad():\n",
    "        results = model(batch_tokens, repr_layers=[6], return_contacts=True)\n",
    "    token_representations = results[\"representations\"][6]\n",
    "    # Generate per-sequence representations via averaging\n",
    "    # NOTE: token 0 is always a beginning-of-sequence token, so the first residue is token 1.\n",
    "    sequence_representations = []\n",
    "    for i, tokens_len in enumerate(batch_lens):\n",
    "        sequence_representations.append(token_representations[i, 1 : tokens_len - 1].mean(0).numpy())\n",
    "    results['sequence_representations'] = np.array(sequence_representations)\n",
    "    # Look at the unsupervised self-attention map contact predictions\n",
    "    # import matplotlib.pyplot as plt\n",
    "    # for (_, seq), tokens_len, attention_contacts in zip(data, batch_lens, results[\"contacts\"]):\n",
    "    #     plt.matshow(attention_contacts[: tokens_len, : tokens_len])\n",
    "    #     plt.title(seq[:10] + \"...\")\n",
    "    #     plt.colorbar()\n",
    "    #     plt.show()    \n",
    "    return results"
   ]
  },
  {
   "cell_type": "code",
   "execution_count": 159,
   "id": "31ca6c56",
   "metadata": {},
   "outputs": [
    {
     "data": {
      "text/plain": [
       "([('UniRef50_UPI001ABDBAD4',\n",
       "   'EREKKEREREEREREREEREREREEREREERERKREREEREREEREKRERERRKRERRKRERRKREREEREREEREKKEREKKERERRKREREEREREEREREEREREEREREEREREKKEREKKERERRKRERRKRERRKREERRKREREKKKREREKKEREKKEREKKERERRKRERREREEREREEREREKKERERRKRERRKREREEREREERERERKKERRKRERRKREREKKERERRKREREREEREREKKEREKREREEREREKKERERRKRERRKREREKKEREREERERERRKRERRKRERERRKRERRKREREEREREEREREEERRKRERRKREREEREREEREREEREREERERRKRERRKRERERRKRERRKRERRKRERRKREREERERERRKRERERRKRERRKRERRKREREEREREEREKKEREKKERERRKREREEREREEREREEREREEREREERERE'),\n",
       "  ('UniRef50_A0A7R9FCU9',\n",
       "   'KEYCYFSTSQSLDIDYLHVAQAAQFCSAHFTSILYVELWSSEQIKEHPSIIVGDNVSPLDCICDKDPERGRDVEDILREAYTRLQYKDAVSGCGSSYLLDSLTRVSHLELEGQWEQAMQEYQLHSKNDDPTAIQGLCRCLHRMGSHNLLHRYLAATEKTSELLAIQYECGWRLGQWDLGRCPQGDLYEGHHYDALQATEEGDLARARLSLSRARICVAATALAHASLESAMNLYPSLSRLQTLQELEDFLNDNPLNQDSMKYYYYYHYYYHYYYYYYYYYYYYYYYYYYYYYHYYYHYYYYHYYYYYYYYYYYYYYYYYYYYYYYYHYYYYYYYHYYYYYYYYYYHYYYYHHYYYHYYYHYYHYYYYYYYYYYHYYYYHYYYHYYYNHHYYYYHHYYHHHYYYHYYYHYYYHYYYYYYYYYYYYYYYYYYFYYYYHYYYYYHYYYYYYYCHYYYCYYYYYYYY'),\n",
       "  ('UniRef50_A0A8J7RNY4',\n",
       "   'MKKDYSDYKPTKNEIYNLNRSDRENVRLKYFYNYARFSKDDKRIHITVDEGNEYFSMNHLIEEYTGEEITVKNFADDTELPEYIERNKKQRDVFASRFQIDFEGAEYRETQYLWDKDTGFPKWPFNNVLSGARINLQYGEGILDFIYADFKSPIQEQLKSIEIENLLYKFAQQEGVRKEKSPIHKDEPEKIYSQLQERVEEYYEYSETIINIKDIVYASLYSAICPPVFKKRGDKKKQTLWYGNYLLRLQQEYREMIEFCFDEDYYPEALANRLPSERFYIYRSLKGLSPFLERTEEVAFSNTMSGKEMPYGMDIEGLKERFSQSSVPNDAHKALAEKFGTTPEKIVALINLPHFISRQYVFGSVAEILEMEFTKMLEHNVRFRKCKRCGKYFIMKGNYDTNYCDRIAEGETRNCQDLAAQENYKKKMADNAAIPLYQKYYKRYAARVRVRQIKEPDFKKWKYQAMTKRDECSDGNITLAEFEAWLEASFPNRKKKE'),\n",
       "  ('UniRef50_A0A4Q9LJS8',\n",
       "   'MNTYELFRSRIYQVLDTKNIVYQKSDIDLEINDDDIYEFKRYLNIWNISYLKCKLFKKNKLIIYIFESMNILKYLKITNKDLSVFINTVFYYYGPNAYHNEDHIIDVFISSYYLLKKIDNINQKTALIILVSALLHDIGHLGLSTKYLSSQKYFTDKFDRSSLCERIHCFISNLILNTYECNILRNLKIEERNEINFYIQQLILSTDILEQEKYINMFICHHHDFFFSRLDKNCKKDNECLKTEIIISKNSKNLNCLNYSNQRIGIQPIDLYLKSNSKKRNLESEKLLAKTHTKRDGHYKKRRYYYKKICQVCKLKQKNFEIPIFTIYLNVIKEIKKYFKLQHEIRKTARKFVIEKLNAYICKKSKILKHFEIYNLFLKKNIKNFEKFSIFDMFMIIKIADISATMKDTGSCLYCLKMLLQELKHEAFLTNNLDKLSFKCSDEIFFFDNYVFPVCKMMGFYDEKFEFLYKNANKCYFYFKNNMLNHYFLN'),\n",
       "  ('UniRef50_UPI003776A4C8',\n",
       "   'MKKVKRFLFRNVYIKWLERDFNKKLELLEEFRLRKHVQAVIEENSEVDESLPEIIDYVAAFVISMYRDHEQVPETKYTLEDEVEYVIQQFIESYQEGIKTKKTSLYDYFAIPPLNPYLKQRTIEEIPFQSRKGEFNLNNLEILFDKFNHYLGNNHKRFVPGIKHYAVALWYIVHECIQDVKAFSKLYNIHYVEDGEQRCLFNYFNLYIHGVLFTEKMLLDDSMKEVMFAASAIHPAQDDFIDKNDMTEQDIQNMLDKIEGKDVKPLNQNVANVFQLIDILYKHFPIDQHATLVKILTELHKWQIHSLKQRGNELDEEQLLEVSLNKGGYAFAFYGYIALGKMDIMEFRHFFGMGAIFQLMDDLHDIEIDLEECIQTIWTMRIMKQEDAAEALYGIIAIQQKFEEITTLIESLNKPVFIRRMELFAIRLDLLKFYMLNKQYINDGFIESLESHFNIDVSSIAENYKIQLDGLKTFDDFLDMLYQVKHTYTQKILKR'),\n",
       "  ('UniRef50_A0A815S6X1',\n",
       "   'MTTMHVSDQFIVAKTLQEQVSSFNSQTHLNTTKVVKRTIKYTHAQYICPEEQWNEQINCYLASNDVFVLVGDMHTRHTKEILHNMSNLIVRTIHQLLYRRLITNEQYGNIMFYNQRIDFNVNQLNFTIKMENVTIYPMALEQMVLEPIIQCSNIEPMKGISNLINTLLQPLVTKFFRNKQIVVASDAIDKWREYADMTSMPSCSYFVTIHLRHLRSSLPFHLIIASLEHFFHYFGSMTHINGISTATILQLTRLLLDNQYCIYENKLYRQTFGCSIDAPLMTTLIDIYMFSWQRQLLQRVGRNTHRFYCRSLNHICFLWRQSKEEFYKFFDKTYLANATYSSIEMSVSVDSNEIRFLDAILGRQPGDRTGFTRIYTHVAHRSTFEPYALPYISKAFEEKYQRYASSLSPLLTFALLRAILYCSDVREFENERLFIELSFALNGVSLYDIEKIIENFFVQFHESSWHIMRTTQVTYEELQCRVRGTLETQLKWCTSKTTN'),\n",
       "  ('UniRef50_A0A662F695',\n",
       "   'MFSFRRLFSPDVDSRIVRIRARQYVQRNPQSLAFFRQLVWHCQIWKVKRKTLEFQSFIDRLWFIYNSLGFPHKGTKVKRADFGLFMAYLWGDEDVFKEILLLYRRAMNRPPPVTTLYTNPIGKDEENVVREYYLSNLITDISRTIPLDIDKYLYSEEDEDRIILESEKKYDYFYLSWEDGMKVFQYLKLMTVFVKKNLHGILLDFIINEMLLKKMIPYFIPPVMKLWYVDLSYEKFQYLLGRVMDLASSSGWTFEAPDVNEVLYIIYGRYCSICETVFNTIGWSSFMRYLLSRASKSSFRFRFIELEDYEAMRLPIVGLSTPILIYYNDVEGRLIIWSSDPGNDESRVFRRRLYENFVKIRKEGDEVIKEENPTGWKKVVLALFGEYAIKPGKEKEKGWTKEDLYARIETMILSRVSGGREIEMSKIVKEITKTFKISLTRAYAMVREIVDKNPSLVTVPRGATTVIMLRETFEKERKEKEAEATPVQKAPQESSE'),\n",
       "  ('UniRef50_UPI001C337DB6',\n",
       "   'MIYFKLIGSFVFTKDITDLKEVIYKFLNENTKKILTKNGEIGCSINDFKIEKNILTIKFESNQLIRAHEVLIRLKKELSNFTGKKFKIGIRDVLIKYFDIKMESKKSLNIKNLPYVKNIEYGDKCIVILFDTESENKITYSEIEKRIPDRIITLLKNKMNDYGGKNEHWELLWESEDKKFKFKEDPTKVMEKEGWIKRGYNRGQWIYGPQATHLFRTFEKITLKELLEPLGFSEMIFPKLVPWEVWMRSGHAQGVYPEIYYVCPPKTRDPEYWEDVKNIYNITKEIPIDLIENKIDSPIGGMCYAQCPSFWGFLQGETVSIDQLPLKVYDHSGTSHRYESGGIHGIERVDEFHRLELVWLGTRKETLEMAEEIKEKYKNIFENILELKWRTAWVTPWFMAQEGKKGLSDMEGAGTVDYEAITPYNNKWIEFQNLSVNADKYTKGFNVKSQNNKKLWSGCSGIGLERWTAAFISQHGINIENWPDKFKKYFGKLPLGIKTL'),\n",
       "  ('UniRef50_UPI0026756223',\n",
       "   'MNRRYLTDYISIDDIEKWYNNKQIAVIQAPTGIGKSTLIKTILYDTCYEFKQKILILVNREKLKLEFIADLEREGKNNLIDVMTYQSLEAYGKNKGEYFNLNRYAFIVCDESHYFQTDSSFNKYTQLSSNTVMESDAIKIFMSATNKSLIDYLDMFDYKYELYDIPTDYSYIEEICFFNSKQYIYDILKDLQDKDEKCILFMDDIQLLYEFYKMFEADSLFLCSKNNKDYYRYVDEEAITEVLETKKFECSFLMTTTVFVNGNNIVDPDLHFMVIQLHDLENIQQAVGRKRVTSDNDYLNLAIWNIKGKSLNGLLSTAKNMIKGAELLINEGLEEYVKQYSYEHDPCVYDIYDYKNDKLDKRVNYFRYAKCLNDISYYEKWQQDKYHCGFKRDILQMLGKTWNDAYKFDEDDIQGYNLLEQYLVSIEGKELDKAARNKLTEMINFKDPKGKLIKNITLLNNYLSYIKSDYTIIKTTDKNRRVVWIIELIDPLK'),\n",
       "  ('UniRef50_A0A1V1P4G8',\n",
       "   'MDRTTRFPLTFFVTFILMLYTLTIPALSERTRSNPYLDLGIFAFEEGDFKTALSHLKRAMLKQPDNPVVFYYLGKTFQKMKRYQEARQYYDQAYRIDPDLNGLLYDRAYFNYLTHQYESALKDFSQVAKATPGNMMASYYAGICAFKTDQHHIALQYFLTTAKTSANARDNSQYYAAVCYLQTGNPSQARSLFGQIVKQTQSKTLKKDAQKWLEYINLNPSLFRPYHLYFSFSMTYDDNVTLTSPQDDTVSDEDDLIMKAFVGGSYNFIQSPTFTMGLGYRHFQSNHVDLGEYNLTSSTGEFYVTYHRQNTTQSLYLTPEHYWLDNKNYMSCQRLMYDVQWQRSKLFKLMANFEFAINDHFDNGDYDAQSTSFDIGFEQAMPDNKDITFFSHFRVINNAAKGLDKKYQKGLVRFGLTYQHKELDWVFGGDYSVKQYMHINPSFEKRRNDKLLSFHTSISVKNFSIQPVFKIEHMNNSSDIDDFDYRKTAISFSLRYLY')],\n",
       " [('UniRef50_A0A5E4QE00',\n",
       "   'MHQLLKSEKEIVMKLFILLTLVAAACAIPAARLIPVGPAVVDPEHGIDVGPAIEKPDEIIVGPAVVNPEHGIEVGPAVVNPEHGIEVGPAVVDPEHGIE'),\n",
       "  ('UniRef50_A0A396HRF3',\n",
       "   'MMTTPSNGKSGLKKGPWSSEEDKKLVDHIQKHGPGRWRDLPRRAGLNRCGKSCRLRWTNYLSPDIKRGKFSDEEEELIINLHSVLGNK'),\n",
       "  ('UniRef50_A0A351Y3E2',\n",
       "   'MQFSNDDITRSSREAFATTKAWTLSAGTGTKTVYANFDTDNNTATIEAIGNDTINYIDVLTGCIGDSCADITLEILSNGDGYCDIGDSVDFGLT'),\n",
       "  ('UniRef50_A0A8J5HGU3',\n",
       "   'MKCSPIRLCGLFKEKESSLEKVKEAFLMFNENGDGFIDAAELEESGNTIQVYDKNEDGKIDFSKFVEFM'),\n",
       "  ('UniRef50_A0AAN7Y3X3',\n",
       "   'MDHGGLLPAGNEEAYSTVTSVPAAVCLTGPEKLSRQESRNEDSDIYHVYSTISEEPPPSALEDMVYSTRQAY'),\n",
       "  ('UniRef50_A0A2P6Q8E6',\n",
       "   'MGDKTCGYWIMHYMRDIVEDKNQEWSAKWERKANHYYTMENVDAVRAEWAKYVMKFKDN'),\n",
       "  ('UniRef50_UPI000A81B140',\n",
       "   'MIESKGINAFQVASVLRIIISSNEDWIVPATFDERRFCVLNVADTRARDTVYFAKLR'),\n",
       "  ('UniRef50_O16130', 'MAAHKSFRIKQKLAKKLKQNRSVPQWVRLRTGNTIRYNAKRRHWRRTKLKL'),\n",
       "  ('UniRef50_A0A017SSW6', 'MTNHGPSQYASLRGEIKETEPDVCMVGGGEFAGEILPAQPTTFCCKAE'),\n",
       "  ('UniRef50_A0A5K1CRL5', 'MAKTAFLFSLSLLLLT')])"
      ]
     },
     "execution_count": 159,
     "metadata": {},
     "output_type": "execute_result"
    }
   ],
   "source": [
    "top_gravy = df.iloc[:10]\n",
    "low_gravy = df.iloc[-10:]\n",
    "\n",
    "top_gravy_X = [(top_gravy.iloc[i][\"Name\"], top_gravy.iloc[i][\"Sequence\"]) for i in range(len(top_gravy))]\n",
    "low_gravy_X = [(low_gravy.iloc[i][\"Name\"], low_gravy.iloc[i][\"Sequence\"]) for i in range(len(low_gravy))]\n",
    "top_gravy_X, low_gravy_X"
   ]
  },
  {
   "cell_type": "code",
   "execution_count": 160,
   "id": "ff420581",
   "metadata": {},
   "outputs": [],
   "source": [
    "# this can take a while...\n",
    "top_gravy_results = get_features(top_gravy_X, model)\n",
    "low_gravy_results = get_features(low_gravy_X, model)"
   ]
  },
  {
   "cell_type": "code",
   "execution_count": 164,
   "id": "53e73906",
   "metadata": {},
   "outputs": [
    {
     "name": "stdout",
     "output_type": "stream",
     "text": [
      "dict_keys(['logits', 'representations', 'attentions', 'contacts', 'sequence_representations'])\n",
      "dict_keys(['logits', 'representations', 'attentions', 'contacts', 'sequence_representations'])\n"
     ]
    }
   ],
   "source": [
    "res_high = dict(top_gravy_results)\n",
    "print(res_high.keys())\n",
    "res_low = dict(low_gravy_results)\n",
    "print(res_low.keys())"
   ]
  },
  {
   "cell_type": "code",
   "execution_count": 165,
   "id": "846a7d46",
   "metadata": {},
   "outputs": [
    {
     "data": {
      "text/plain": [
       "<matplotlib.image.AxesImage at 0x7fdf51232650>"
      ]
     },
     "execution_count": 165,
     "metadata": {},
     "output_type": "execute_result"
    },
    {
     "data": {
      "image/png": "[encoded data removed]",
      "text/plain": [
       "<Figure size 432x288 with 1 Axes>"
      ]
     },
     "metadata": {
      "needs_background": "light"
     },
     "output_type": "display_data"
    }
   ],
   "source": [
    "sr_high = res_high['sequence_representations'] # top feature representations\n",
    "plt.imshow(sr_high)"
   ]
  },
  {
   "cell_type": "code",
   "execution_count": 166,
   "id": "15dae341",
   "metadata": {},
   "outputs": [
    {
     "data": {
      "text/plain": [
       "<matplotlib.image.AxesImage at 0x7fdf9285ee10>"
      ]
     },
     "execution_count": 166,
     "metadata": {},
     "output_type": "execute_result"
    },
    {
     "data": {
      "image/png": "[encoded data removed]",
      "text/plain": [
       "<Figure size 432x288 with 1 Axes>"
      ]
     },
     "metadata": {
      "needs_background": "light"
     },
     "output_type": "display_data"
    }
   ],
   "source": [
    "sr_low = res_low['sequence_representations'] # top feature representations\n",
    "plt.imshow(sr_low)"
   ]
  },
  {
   "cell_type": "markdown",
   "id": "af7cbe51",
   "metadata": {},
   "source": [
    "### Visuals"
   ]
  },
  {
   "cell_type": "code",
   "execution_count": 167,
   "id": "79fcb249",
   "metadata": {},
   "outputs": [],
   "source": [
    "from sklearn.preprocessing import StandardScaler\n",
    "from sklearn.decomposition import PCA\n",
    "from sklearn.manifold import TSNE"
   ]
  },
  {
   "cell_type": "code",
   "execution_count": null,
   "id": "b1290929",
   "metadata": {},
   "outputs": [],
   "source": []
  },
  {
   "cell_type": "code",
   "execution_count": 168,
   "id": "3d722c34",
   "metadata": {},
   "outputs": [],
   "source": [
    "sr_high = sr_high[:]\n",
    "sr_high_std = sr_high - sr_high.mean(axis=0)\n",
    "sr_high_std /= sr_high_std.std(axis=0)\n",
    "\n",
    "sr_low = sr_low[:]\n",
    "sr_low_std = sr_low - sr_low.mean(axis=0)\n",
    "sr_low_std /= sr_low_std.std(axis=0)"
   ]
  },
  {
   "cell_type": "code",
   "execution_count": 169,
   "id": "92868c73",
   "metadata": {},
   "outputs": [],
   "source": [
    "pca = PCA(n_components=3)\n",
    "\n",
    "sr_high_pca = pca.fit_transform(sr_high_std)\n",
    "sr_low_pca = pca.fit_transform(sr_low_std)"
   ]
  },
  {
   "cell_type": "code",
   "execution_count": 170,
   "id": "0fadf23b",
   "metadata": {},
   "outputs": [
    {
     "data": {
      "text/plain": [
       "<matplotlib.collections.PathCollection at 0x7fdf608a7110>"
      ]
     },
     "execution_count": 170,
     "metadata": {},
     "output_type": "execute_result"
    },
    {
     "data": {
      "image/png": "[encoded data removed]",
      "text/plain": [
       "<Figure size 432x288 with 1 Axes>"
      ]
     },
     "metadata": {
      "needs_background": "light"
     },
     "output_type": "display_data"
    }
   ],
   "source": [
    "plt.scatter(sr_high_pca[:, 0], sr_high_pca[:, 1])\n",
    "plt.scatter(sr_low_pca[:, 0], sr_low_pca[:, 1])"
   ]
  },
  {
   "cell_type": "code",
   "execution_count": 179,
   "id": "943a6f04",
   "metadata": {},
   "outputs": [
    {
     "data": {
      "image/png": "[encoded data removed]",
      "text/plain": [
       "<Figure size 576x432 with 1 Axes>"
      ]
     },
     "metadata": {
      "needs_background": "light"
     },
     "output_type": "display_data"
    }
   ],
   "source": [
    "fig = plt.figure(figsize=(8, 6))\n",
    "ax  = fig.add_subplot(111, projection=\"3d\")\n",
    "\n",
    "# 3-D scatter for the two classes\n",
    "ax.scatter(\n",
    "    sr_high_pca[:, 0], sr_high_pca[:, 1], sr_high_pca[:, 2],\n",
    "    s=20, alpha=0.7, label=\"high SR\", marker=\"o\"\n",
    ")\n",
    "ax.scatter(\n",
    "    sr_low_pca[:, 0], sr_low_pca[:, 1], sr_low_pca[:, 2],\n",
    "    s=20, alpha=0.7, label=\"low SR\",  marker=\"^\"\n",
    ")\n",
    "\n",
    "# Axis labels (use real explained-variance % if you have pca.explained_variance_ratio_)\n",
    "ax.set_xlabel(\"PC 1\")\n",
    "ax.set_ylabel(\"PC 2\")\n",
    "ax.set_zlabel(\"PC 3\")\n",
    "\n",
    "ax.legend(loc=\"best\")\n",
    "ax.set_title(\"3-D PCA projection\")\n",
    "plt.tight_layout(); plt.show()"
   ]
  },
  {
   "cell_type": "code",
   "execution_count": 178,
   "id": "53931fe8",
   "metadata": {},
   "outputs": [
    {
     "name": "stdout",
     "output_type": "stream",
     "text": [
      "[t-SNE] Computing 4 nearest neighbors...\n",
      "[t-SNE] Indexed 10 samples in 0.000s...\n",
      "[t-SNE] Computed neighbors for 10 samples in 0.001s...\n",
      "[t-SNE] Computed conditional probabilities for sample 10 / 10\n",
      "[t-SNE] Mean sigma: 1.086893\n",
      "[t-SNE] KL divergence after 250 iterations with early exaggeration: 56.857567\n"
     ]
    },
    {
     "name": "stderr",
     "output_type": "stream",
     "text": [
      "/Users/davidm/opt/anaconda3/envs/esmfold/lib/python3.7/site-packages/sklearn/manifold/_t_sne.py:986: FutureWarning: The PCA initialization in TSNE will change to have the standard deviation of PC1 equal to 1e-4 in 1.2. This will ensure better convergence.\n",
      "  FutureWarning,\n"
     ]
    },
    {
     "name": "stdout",
     "output_type": "stream",
     "text": [
      "[t-SNE] KL divergence after 1100 iterations: 2.217350\n",
      "[t-SNE] Computing 4 nearest neighbors...\n",
      "[t-SNE] Indexed 10 samples in 0.000s...\n",
      "[t-SNE] Computed neighbors for 10 samples in 0.000s...\n",
      "[t-SNE] Computed conditional probabilities for sample 10 / 10\n",
      "[t-SNE] Mean sigma: 1.130382\n"
     ]
    },
    {
     "name": "stderr",
     "output_type": "stream",
     "text": [
      "/Users/davidm/opt/anaconda3/envs/esmfold/lib/python3.7/site-packages/sklearn/manifold/_t_sne.py:986: FutureWarning: The PCA initialization in TSNE will change to have the standard deviation of PC1 equal to 1e-4 in 1.2. This will ensure better convergence.\n",
      "  FutureWarning,\n"
     ]
    },
    {
     "name": "stdout",
     "output_type": "stream",
     "text": [
      "[t-SNE] KL divergence after 250 iterations with early exaggeration: 77.786453\n",
      "[t-SNE] KL divergence after 2000 iterations: 0.701047\n"
     ]
    },
    {
     "data": {
      "image/png": "[encoded data removed]",
      "text/plain": [
       "<Figure size 432x288 with 1 Axes>"
      ]
     },
     "metadata": {
      "needs_background": "light"
     },
     "output_type": "display_data"
    }
   ],
   "source": [
    "tsne = TSNE(\n",
    "    n_components     = 3,      # 2-D for plotting (use 3 for 3-D)\n",
    "    perplexity       = 1,     # “effective #neighbors” (5–50 typical)\n",
    "    learning_rate    = \"auto\", # or a value ~ n_samples / 12\n",
    "    init             = \"pca\",  # pca|random; pca gives stabler layouts\n",
    "    n_iter           = 2000,   # 250–1000 is common; more for cleaner structure\n",
    "    metric           = \"euclidean\",\n",
    "    random_state     = 0,\n",
    "    verbose          = 1\n",
    ")\n",
    "Z = tsne.fit_transform(sr_high_std)    \n",
    "Z_2 = tsne.fit_transform(sr_low_std) # shape (n_samples, 2)\n",
    "\n",
    "# 4) Visualise  ---------------------------------------------------------\n",
    "plt.scatter(Z[:,0], Z[:,1], s=10, alpha=0.7)\n",
    "plt.scatter(Z_2[:,0], Z_2[:,1], s=10, alpha=0.7)\n",
    "plt.title(\"t-SNE projection\"); plt.xlabel(\"t-SNE-1\"); plt.ylabel(\"t-SNE-2\"); plt.show()"
   ]
  },
  {
   "cell_type": "code",
   "execution_count": 173,
   "id": "d288b8b0",
   "metadata": {},
   "outputs": [
    {
     "data": {
      "image/png": "[encoded data removed]",
      "text/plain": [
       "<Figure size 576x432 with 1 Axes>"
      ]
     },
     "metadata": {
      "needs_background": "light"
     },
     "output_type": "display_data"
    }
   ],
   "source": [
    "fig = plt.figure(figsize=(8, 6))\n",
    "ax  = fig.add_subplot(111, projection=\"3d\")\n",
    "\n",
    "# 3-D scatter for the two classes\n",
    "ax.scatter(\n",
    "    Z[:, 0], Z[:, 1], Z[:, 2],\n",
    "    s=20, alpha=0.7, label=\"high SR\", marker=\"o\"\n",
    ")\n",
    "ax.scatter(\n",
    "    Z_2[:, 0], Z_2[:, 1], Z_2[:, 2],\n",
    "    s=20, alpha=0.7, label=\"low SR\",  marker=\"^\"\n",
    ")\n",
    "\n",
    "# Axis labels (use real explained-variance % if you have pca.explained_variance_ratio_)\n",
    "ax.set_xlabel(\"PC 1\")\n",
    "ax.set_ylabel(\"PC 2\")\n",
    "ax.set_zlabel(\"PC 3\")\n",
    "\n",
    "ax.legend(loc=\"best\")\n",
    "ax.set_title(\"3-D PCA projection\")\n",
    "plt.tight_layout(); plt.show()"
   ]
  },
  {
   "cell_type": "code",
   "execution_count": null,
   "id": "5a0a30a7",
   "metadata": {},
   "outputs": [],
   "source": []
  },
  {
   "cell_type": "code",
   "execution_count": null,
   "id": "a5892ce9",
   "metadata": {},
   "outputs": [],
   "source": []
  }
 ],
 "metadata": {
  "kernelspec": {
   "display_name": "esmfold",
   "language": "python",
   "name": "python3"
  },
  "language_info": {
   "codemirror_mode": {
    "name": "ipython",
    "version": 3
   },
   "file_extension": ".py",
   "mimetype": "text/x-python",
   "name": "python",
   "nbconvert_exporter": "python",
   "pygments_lexer": "ipython3",
   "version": "3.7.12"
  }
 },
 "nbformat": 4,
 "nbformat_minor": 5
}
