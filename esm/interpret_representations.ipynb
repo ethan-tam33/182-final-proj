{
 "cells": [
  {
   "cell_type": "code",
   "execution_count": 75,
   "id": "afcfd998",
   "metadata": {},
   "outputs": [],
   "source": [
    "import numpy as np\n",
    "import pandas as pd\n",
    "from Bio import SeqIO\n",
    "from Bio.Seq import Seq\n",
    "from Bio.SeqRecord import SeqRecord\n",
    "from Bio.SeqUtils.ProtParam import ProteinAnalysis\n",
    "import pandas as pd\n",
    "import numpy as np\n",
    "import matplotlib.pyplot as plt\n",
    "import torch\n",
    "import esm\n",
    "\n",
    "# takes FASTA files and generates dataframe and csv with descriptions and features"
   ]
  },
  {
   "cell_type": "code",
   "execution_count": 76,
   "id": "7ba56cb8",
   "metadata": {},
   "outputs": [
    {
     "name": "stdout",
     "output_type": "stream",
     "text": [
      "['Sequence', 'Name', 'Description', 'Length', 'Num_Features', 'Molecular Weight', 'Aromaticity', 'Instability Index', 'Flexibility', 'GRAVY', 'Isoelectric Point', 'Charge at pH:7.0']\n"
     ]
    }
   ],
   "source": [
    "df = pd.read_csv(\"seq_df_first_10000_less_1000.csv\", index_col=0).dropna()\n",
    "cols = list(df.columns)\n",
    "print(cols)"
   ]
  },
  {
   "cell_type": "code",
   "execution_count": 77,
   "id": "a1692606",
   "metadata": {},
   "outputs": [],
   "source": [
    "sort_feature = \"Molecular Weight\"\n",
    "assert sort_feature in cols, \"Feature not in df.columns\"\n",
    "#df = df.sort_values(by=sort_feature, ascending=False)"
   ]
  },
  {
   "cell_type": "code",
   "execution_count": 78,
   "id": "02feb054",
   "metadata": {},
   "outputs": [
    {
     "data": {
      "text/html": [
       "<div>\n",
       "<style scoped>\n",
       "    .dataframe tbody tr th:only-of-type {\n",
       "        vertical-align: middle;\n",
       "    }\n",
       "\n",
       "    .dataframe tbody tr th {\n",
       "        vertical-align: top;\n",
       "    }\n",
       "\n",
       "    .dataframe thead th {\n",
       "        text-align: right;\n",
       "    }\n",
       "</style>\n",
       "<table border=\"1\" class=\"dataframe\">\n",
       "  <thead>\n",
       "    <tr style=\"text-align: right;\">\n",
       "      <th></th>\n",
       "      <th>Sequence</th>\n",
       "      <th>Name</th>\n",
       "      <th>Description</th>\n",
       "      <th>Length</th>\n",
       "      <th>Num_Features</th>\n",
       "      <th>Molecular Weight</th>\n",
       "      <th>Aromaticity</th>\n",
       "      <th>Instability Index</th>\n",
       "      <th>Flexibility</th>\n",
       "      <th>GRAVY</th>\n",
       "      <th>Isoelectric Point</th>\n",
       "      <th>Charge at pH:7.0</th>\n",
       "    </tr>\n",
       "    <tr>\n",
       "      <th>ID</th>\n",
       "      <th></th>\n",
       "      <th></th>\n",
       "      <th></th>\n",
       "      <th></th>\n",
       "      <th></th>\n",
       "      <th></th>\n",
       "      <th></th>\n",
       "      <th></th>\n",
       "      <th></th>\n",
       "      <th></th>\n",
       "      <th></th>\n",
       "      <th></th>\n",
       "    </tr>\n",
       "  </thead>\n",
       "  <tbody>\n",
       "    <tr>\n",
       "      <th>UniRef50_A0AA42W546</th>\n",
       "      <td>TGQLQFNANGNFTYTPAPGEEGTVTFKYSITDGDGDVSEATVTITL...</td>\n",
       "      <td>UniRef50_A0AA42W546</td>\n",
       "      <td>UniRef50_A0AA42W546 Ig-like domain-containing ...</td>\n",
       "      <td>179</td>\n",
       "      <td>0</td>\n",
       "      <td>18214.3357</td>\n",
       "      <td>0.055866</td>\n",
       "      <td>19.449721</td>\n",
       "      <td>[0.9741071428571428, 1.0226904761904763, 0.992...</td>\n",
       "      <td>-0.165363</td>\n",
       "      <td>4.050028</td>\n",
       "      <td>-22.393667</td>\n",
       "    </tr>\n",
       "    <tr>\n",
       "      <th>UniRef50_A0A6G3PS79</th>\n",
       "      <td>PAPGGGTRLLAYATPAAGPLAPDRLREALRTRLPDYLVPAAVIPVD...</td>\n",
       "      <td>UniRef50_A0A6G3PS79</td>\n",
       "      <td>UniRef50_A0A6G3PS79 Non-ribosomal peptide synt...</td>\n",
       "      <td>368</td>\n",
       "      <td>0</td>\n",
       "      <td>39696.4009</td>\n",
       "      <td>0.057065</td>\n",
       "      <td>49.930435</td>\n",
       "      <td>[1.019547619047619, 1.0032142857142856, 1.0022...</td>\n",
       "      <td>-0.179348</td>\n",
       "      <td>5.741045</td>\n",
       "      <td>-9.655422</td>\n",
       "    </tr>\n",
       "    <tr>\n",
       "      <th>UniRef50_A0A351Y3E2</th>\n",
       "      <td>MQFSNDDITRSSREAFATTKAWTLSAGTGTKTVYANFDTDNNTATI...</td>\n",
       "      <td>UniRef50_A0A351Y3E2</td>\n",
       "      <td>UniRef50_A0A351Y3E2 Uncharacterized protein n=...</td>\n",
       "      <td>94</td>\n",
       "      <td>0</td>\n",
       "      <td>9975.6989</td>\n",
       "      <td>0.085106</td>\n",
       "      <td>20.857447</td>\n",
       "      <td>[1.023142857142857, 1.0224999999999997, 0.9933...</td>\n",
       "      <td>-0.148936</td>\n",
       "      <td>4.050028</td>\n",
       "      <td>-11.512483</td>\n",
       "    </tr>\n",
       "    <tr>\n",
       "      <th>UniRef50_A0A6J0CV59</th>\n",
       "      <td>MKRAKHLSTTSKKLTSVPELPFKKGLLNSSPKLKEKRNTKPLHDKT...</td>\n",
       "      <td>UniRef50_A0A6J0CV59</td>\n",
       "      <td>UniRef50_A0A6J0CV59 Coiled-coil domain-contain...</td>\n",
       "      <td>91</td>\n",
       "      <td>0</td>\n",
       "      <td>10300.0842</td>\n",
       "      <td>0.021978</td>\n",
       "      <td>57.538462</td>\n",
       "      <td>[0.9833809523809524, 1.002047619047619, 1.0209...</td>\n",
       "      <td>-0.775824</td>\n",
       "      <td>10.326820</td>\n",
       "      <td>11.766058</td>\n",
       "    </tr>\n",
       "    <tr>\n",
       "      <th>UniRef50_A0A0R1E8D2</th>\n",
       "      <td>MGGKHQGSGAGVSSGGGSLNSSLCNSVVTSATTASSSLTQQQQQLQ...</td>\n",
       "      <td>UniRef50_A0A0R1E8D2</td>\n",
       "      <td>UniRef50_A0A0R1E8D2 Drosophila melanogaster (F...</td>\n",
       "      <td>142</td>\n",
       "      <td>0</td>\n",
       "      <td>15366.3947</td>\n",
       "      <td>0.105634</td>\n",
       "      <td>44.885211</td>\n",
       "      <td>[1.041547619047619, 1.0264642857142856, 1.0294...</td>\n",
       "      <td>0.128873</td>\n",
       "      <td>9.596329</td>\n",
       "      <td>5.998322</td>\n",
       "    </tr>\n",
       "  </tbody>\n",
       "</table>\n",
       "</div>"
      ],
      "text/plain": [
       "                                                              Sequence  \\\n",
       "ID                                                                       \n",
       "UniRef50_A0AA42W546  TGQLQFNANGNFTYTPAPGEEGTVTFKYSITDGDGDVSEATVTITL...   \n",
       "UniRef50_A0A6G3PS79  PAPGGGTRLLAYATPAAGPLAPDRLREALRTRLPDYLVPAAVIPVD...   \n",
       "UniRef50_A0A351Y3E2  MQFSNDDITRSSREAFATTKAWTLSAGTGTKTVYANFDTDNNTATI...   \n",
       "UniRef50_A0A6J0CV59  MKRAKHLSTTSKKLTSVPELPFKKGLLNSSPKLKEKRNTKPLHDKT...   \n",
       "UniRef50_A0A0R1E8D2  MGGKHQGSGAGVSSGGGSLNSSLCNSVVTSATTASSSLTQQQQQLQ...   \n",
       "\n",
       "                                    Name  \\\n",
       "ID                                         \n",
       "UniRef50_A0AA42W546  UniRef50_A0AA42W546   \n",
       "UniRef50_A0A6G3PS79  UniRef50_A0A6G3PS79   \n",
       "UniRef50_A0A351Y3E2  UniRef50_A0A351Y3E2   \n",
       "UniRef50_A0A6J0CV59  UniRef50_A0A6J0CV59   \n",
       "UniRef50_A0A0R1E8D2  UniRef50_A0A0R1E8D2   \n",
       "\n",
       "                                                           Description  \\\n",
       "ID                                                                       \n",
       "UniRef50_A0AA42W546  UniRef50_A0AA42W546 Ig-like domain-containing ...   \n",
       "UniRef50_A0A6G3PS79  UniRef50_A0A6G3PS79 Non-ribosomal peptide synt...   \n",
       "UniRef50_A0A351Y3E2  UniRef50_A0A351Y3E2 Uncharacterized protein n=...   \n",
       "UniRef50_A0A6J0CV59  UniRef50_A0A6J0CV59 Coiled-coil domain-contain...   \n",
       "UniRef50_A0A0R1E8D2  UniRef50_A0A0R1E8D2 Drosophila melanogaster (F...   \n",
       "\n",
       "                     Length  Num_Features  Molecular Weight  Aromaticity  \\\n",
       "ID                                                                         \n",
       "UniRef50_A0AA42W546     179             0        18214.3357     0.055866   \n",
       "UniRef50_A0A6G3PS79     368             0        39696.4009     0.057065   \n",
       "UniRef50_A0A351Y3E2      94             0         9975.6989     0.085106   \n",
       "UniRef50_A0A6J0CV59      91             0        10300.0842     0.021978   \n",
       "UniRef50_A0A0R1E8D2     142             0        15366.3947     0.105634   \n",
       "\n",
       "                     Instability Index  \\\n",
       "ID                                       \n",
       "UniRef50_A0AA42W546          19.449721   \n",
       "UniRef50_A0A6G3PS79          49.930435   \n",
       "UniRef50_A0A351Y3E2          20.857447   \n",
       "UniRef50_A0A6J0CV59          57.538462   \n",
       "UniRef50_A0A0R1E8D2          44.885211   \n",
       "\n",
       "                                                           Flexibility  \\\n",
       "ID                                                                       \n",
       "UniRef50_A0AA42W546  [0.9741071428571428, 1.0226904761904763, 0.992...   \n",
       "UniRef50_A0A6G3PS79  [1.019547619047619, 1.0032142857142856, 1.0022...   \n",
       "UniRef50_A0A351Y3E2  [1.023142857142857, 1.0224999999999997, 0.9933...   \n",
       "UniRef50_A0A6J0CV59  [0.9833809523809524, 1.002047619047619, 1.0209...   \n",
       "UniRef50_A0A0R1E8D2  [1.041547619047619, 1.0264642857142856, 1.0294...   \n",
       "\n",
       "                        GRAVY  Isoelectric Point  Charge at pH:7.0  \n",
       "ID                                                                  \n",
       "UniRef50_A0AA42W546 -0.165363           4.050028        -22.393667  \n",
       "UniRef50_A0A6G3PS79 -0.179348           5.741045         -9.655422  \n",
       "UniRef50_A0A351Y3E2 -0.148936           4.050028        -11.512483  \n",
       "UniRef50_A0A6J0CV59 -0.775824          10.326820         11.766058  \n",
       "UniRef50_A0A0R1E8D2  0.128873           9.596329          5.998322  "
      ]
     },
     "execution_count": 78,
     "metadata": {},
     "output_type": "execute_result"
    }
   ],
   "source": [
    "df.head()"
   ]
  },
  {
   "cell_type": "markdown",
   "id": "3ed17a5e",
   "metadata": {},
   "source": [
    "### Exploratory Data Analysis"
   ]
  },
  {
   "cell_type": "code",
   "execution_count": 55,
   "id": "d7b88739",
   "metadata": {},
   "outputs": [
    {
     "data": {
      "text/plain": [
       "Text(0.5, 1.0, 'Distribution of GRAVY values')"
      ]
     },
     "execution_count": 55,
     "metadata": {},
     "output_type": "execute_result"
    },
    {
     "data": {
      "image/png": "[encoded data removed]",
      "text/plain": [
       "<Figure size 432x288 with 1 Axes>"
      ]
     },
     "metadata": {
      "needs_background": "light"
     },
     "output_type": "display_data"
    }
   ],
   "source": [
    "plt.hist(df[\"GRAVY\"], bins=200)\n",
    "plt.xlabel(\"GRAVY\")\n",
    "plt.ylabel(\"Frequency\")\n",
    "plt.title(\"Distribution of GRAVY values\")"
   ]
  },
  {
   "cell_type": "code",
   "execution_count": 56,
   "id": "609adcc3",
   "metadata": {},
   "outputs": [
    {
     "data": {
      "text/plain": [
       "Text(0.5, 1.0, 'Distribution of Aromaticity values')"
      ]
     },
     "execution_count": 56,
     "metadata": {},
     "output_type": "execute_result"
    },
    {
     "data": {
      "image/png": "[encoded data removed]",
      "text/plain": [
       "<Figure size 432x288 with 1 Axes>"
      ]
     },
     "metadata": {
      "needs_background": "light"
     },
     "output_type": "display_data"
    }
   ],
   "source": [
    "plt.hist(df[\"Aromaticity\"], bins=50)\n",
    "plt.xlabel(\"Aromaticity\")\n",
    "plt.ylabel(\"Frequency\")\n",
    "plt.title(\"Distribution of Aromaticity values\")"
   ]
  },
  {
   "cell_type": "code",
   "execution_count": 57,
   "id": "c489ecf9",
   "metadata": {},
   "outputs": [
    {
     "data": {
      "text/plain": [
       "Text(0.5, 1.0, 'Distribution of MW values')"
      ]
     },
     "execution_count": 57,
     "metadata": {},
     "output_type": "execute_result"
    },
    {
     "data": {
      "image/png": "[encoded data removed]",
      "text/plain": [
       "<Figure size 432x288 with 1 Axes>"
      ]
     },
     "metadata": {
      "needs_background": "light"
     },
     "output_type": "display_data"
    }
   ],
   "source": [
    "plt.hist(df[\"Molecular Weight\"], bins=100)\n",
    "plt.xlabel(\"MW\")\n",
    "plt.ylabel(\"Frequency\")\n",
    "plt.title(\"Distribution of MW values\")"
   ]
  },
  {
   "cell_type": "code",
   "execution_count": 58,
   "id": "e5259ad9",
   "metadata": {},
   "outputs": [
    {
     "data": {
      "text/plain": [
       "Text(0.5, 1.0, 'Distribution of Charge at pH:7.0 values')"
      ]
     },
     "execution_count": 58,
     "metadata": {},
     "output_type": "execute_result"
    },
    {
     "data": {
      "image/png": "[encoded data removed]",
      "text/plain": [
       "<Figure size 432x288 with 1 Axes>"
      ]
     },
     "metadata": {
      "needs_background": "light"
     },
     "output_type": "display_data"
    }
   ],
   "source": [
    "plt.hist(df[\"Charge at pH:7.0\"], bins=200)\n",
    "plt.xlabel(\"Aromaticity\")\n",
    "plt.ylabel(\"Frequency\")\n",
    "plt.title(\"Distribution of Charge at pH:7.0 values\")"
   ]
  },
  {
   "cell_type": "markdown",
   "id": "42832b20",
   "metadata": {},
   "source": [
    "### Load Model"
   ]
  },
  {
   "cell_type": "code",
   "execution_count": 59,
   "id": "b4ec8d6a",
   "metadata": {},
   "outputs": [
    {
     "data": {
      "text/plain": [
       "ESM2(\n",
       "  (embed_tokens): Embedding(33, 320, padding_idx=1)\n",
       "  (layers): ModuleList(\n",
       "    (0): TransformerLayer(\n",
       "      (self_attn): MultiheadAttention(\n",
       "        (k_proj): Linear(in_features=320, out_features=320, bias=True)\n",
       "        (v_proj): Linear(in_features=320, out_features=320, bias=True)\n",
       "        (q_proj): Linear(in_features=320, out_features=320, bias=True)\n",
       "        (out_proj): Linear(in_features=320, out_features=320, bias=True)\n",
       "        (rot_emb): RotaryEmbedding()\n",
       "      )\n",
       "      (self_attn_layer_norm): LayerNorm((320,), eps=1e-05, elementwise_affine=True)\n",
       "      (fc1): Linear(in_features=320, out_features=1280, bias=True)\n",
       "      (fc2): Linear(in_features=1280, out_features=320, bias=True)\n",
       "      (final_layer_norm): LayerNorm((320,), eps=1e-05, elementwise_affine=True)\n",
       "    )\n",
       "    (1): TransformerLayer(\n",
       "      (self_attn): MultiheadAttention(\n",
       "        (k_proj): Linear(in_features=320, out_features=320, bias=True)\n",
       "        (v_proj): Linear(in_features=320, out_features=320, bias=True)\n",
       "        (q_proj): Linear(in_features=320, out_features=320, bias=True)\n",
       "        (out_proj): Linear(in_features=320, out_features=320, bias=True)\n",
       "        (rot_emb): RotaryEmbedding()\n",
       "      )\n",
       "      (self_attn_layer_norm): LayerNorm((320,), eps=1e-05, elementwise_affine=True)\n",
       "      (fc1): Linear(in_features=320, out_features=1280, bias=True)\n",
       "      (fc2): Linear(in_features=1280, out_features=320, bias=True)\n",
       "      (final_layer_norm): LayerNorm((320,), eps=1e-05, elementwise_affine=True)\n",
       "    )\n",
       "    (2): TransformerLayer(\n",
       "      (self_attn): MultiheadAttention(\n",
       "        (k_proj): Linear(in_features=320, out_features=320, bias=True)\n",
       "        (v_proj): Linear(in_features=320, out_features=320, bias=True)\n",
       "        (q_proj): Linear(in_features=320, out_features=320, bias=True)\n",
       "        (out_proj): Linear(in_features=320, out_features=320, bias=True)\n",
       "        (rot_emb): RotaryEmbedding()\n",
       "      )\n",
       "      (self_attn_layer_norm): LayerNorm((320,), eps=1e-05, elementwise_affine=True)\n",
       "      (fc1): Linear(in_features=320, out_features=1280, bias=True)\n",
       "      (fc2): Linear(in_features=1280, out_features=320, bias=True)\n",
       "      (final_layer_norm): LayerNorm((320,), eps=1e-05, elementwise_affine=True)\n",
       "    )\n",
       "    (3): TransformerLayer(\n",
       "      (self_attn): MultiheadAttention(\n",
       "        (k_proj): Linear(in_features=320, out_features=320, bias=True)\n",
       "        (v_proj): Linear(in_features=320, out_features=320, bias=True)\n",
       "        (q_proj): Linear(in_features=320, out_features=320, bias=True)\n",
       "        (out_proj): Linear(in_features=320, out_features=320, bias=True)\n",
       "        (rot_emb): RotaryEmbedding()\n",
       "      )\n",
       "      (self_attn_layer_norm): LayerNorm((320,), eps=1e-05, elementwise_affine=True)\n",
       "      (fc1): Linear(in_features=320, out_features=1280, bias=True)\n",
       "      (fc2): Linear(in_features=1280, out_features=320, bias=True)\n",
       "      (final_layer_norm): LayerNorm((320,), eps=1e-05, elementwise_affine=True)\n",
       "    )\n",
       "    (4): TransformerLayer(\n",
       "      (self_attn): MultiheadAttention(\n",
       "        (k_proj): Linear(in_features=320, out_features=320, bias=True)\n",
       "        (v_proj): Linear(in_features=320, out_features=320, bias=True)\n",
       "        (q_proj): Linear(in_features=320, out_features=320, bias=True)\n",
       "        (out_proj): Linear(in_features=320, out_features=320, bias=True)\n",
       "        (rot_emb): RotaryEmbedding()\n",
       "      )\n",
       "      (self_attn_layer_norm): LayerNorm((320,), eps=1e-05, elementwise_affine=True)\n",
       "      (fc1): Linear(in_features=320, out_features=1280, bias=True)\n",
       "      (fc2): Linear(in_features=1280, out_features=320, bias=True)\n",
       "      (final_layer_norm): LayerNorm((320,), eps=1e-05, elementwise_affine=True)\n",
       "    )\n",
       "    (5): TransformerLayer(\n",
       "      (self_attn): MultiheadAttention(\n",
       "        (k_proj): Linear(in_features=320, out_features=320, bias=True)\n",
       "        (v_proj): Linear(in_features=320, out_features=320, bias=True)\n",
       "        (q_proj): Linear(in_features=320, out_features=320, bias=True)\n",
       "        (out_proj): Linear(in_features=320, out_features=320, bias=True)\n",
       "        (rot_emb): RotaryEmbedding()\n",
       "      )\n",
       "      (self_attn_layer_norm): LayerNorm((320,), eps=1e-05, elementwise_affine=True)\n",
       "      (fc1): Linear(in_features=320, out_features=1280, bias=True)\n",
       "      (fc2): Linear(in_features=1280, out_features=320, bias=True)\n",
       "      (final_layer_norm): LayerNorm((320,), eps=1e-05, elementwise_affine=True)\n",
       "    )\n",
       "  )\n",
       "  (contact_head): ContactPredictionHead(\n",
       "    (regression): Linear(in_features=120, out_features=1, bias=True)\n",
       "    (activation): Sigmoid()\n",
       "  )\n",
       "  (emb_layer_norm_after): LayerNorm((320,), eps=1e-05, elementwise_affine=True)\n",
       "  (lm_head): RobertaLMHead(\n",
       "    (dense): Linear(in_features=320, out_features=320, bias=True)\n",
       "    (layer_norm): LayerNorm((320,), eps=1e-05, elementwise_affine=True)\n",
       "  )\n",
       ")"
      ]
     },
     "execution_count": 59,
     "metadata": {},
     "output_type": "execute_result"
    }
   ],
   "source": [
    "# Load ESM-2 model\n",
    "model, alphabet = esm.pretrained.esm2_t6_8M_UR50D()\n",
    "#model, alphabet = esm.pretrained.esm2_t30_150M_UR50D()\n",
    "batch_converter = alphabet.get_batch_converter()\n",
    "model.eval()  # disables dropout for deterministic results"
   ]
  },
  {
   "cell_type": "code",
   "execution_count": 61,
   "id": "22003be3",
   "metadata": {},
   "outputs": [],
   "source": [
    "def get_features(data, model):    \n",
    "    batch_labels, batch_strs, batch_tokens = batch_converter(data)\n",
    "    batch_lens = (batch_tokens != alphabet.padding_idx).sum(1)\n",
    "\n",
    "    # Extract per-residue representations (on CPU)\n",
    "    with torch.no_grad():\n",
    "        results = model(batch_tokens, repr_layers=[6], return_contacts=True)\n",
    "    token_representations = results[\"representations\"][6]\n",
    "    results[\"token_representations\"] = token_representations\n",
    "    # Generate per-sequence representations via averaging\n",
    "    # NOTE: token 0 is always a beginning-of-sequence token, so the first residue is token 1.\n",
    "    sequence_representations = []\n",
    "    for i, tokens_len in enumerate(batch_lens):\n",
    "        sequence_representations.append(token_representations[i, 1 : tokens_len - 1].mean(0).numpy())\n",
    "    results['sequence_representations'] = torch.tensor(np.array(sequence_representations)) # first to np for speed-up\n",
    "    # Look at the unsupervised self-attention map contact predictions\n",
    "    # import matplotlib.pyplot as plt\n",
    "    # for (_, seq), tokens_len, attention_contacts in zip(data, batch_lens, results[\"contacts\"]):\n",
    "    #     plt.matshow(attention_contacts[: tokens_len, : tokens_len])\n",
    "    #     plt.title(seq[:10] + \"...\")\n",
    "    #     plt.colorbar()\n",
    "    #     plt.show()    \n",
    "    return results"
   ]
  },
  {
   "cell_type": "code",
   "execution_count": null,
   "id": "31ca6c56",
   "metadata": {},
   "outputs": [],
   "source": [
    "top_gravy = df.iloc[:10]\n",
    "low_gravy = df.iloc[-10:]\n",
    "\n",
    "top_gravy_X = [(top_gravy.iloc[i][\"Name\"], top_gravy.iloc[i][\"Sequence\"]) for i in range(len(top_gravy))]\n",
    "low_gravy_X = [(low_gravy.iloc[i][\"Name\"], low_gravy.iloc[i][\"Sequence\"]) for i in range(len(low_gravy))]\n",
    "top_gravy_X, low_gravy_X"
   ]
  },
  {
   "cell_type": "code",
   "execution_count": null,
   "id": "ff420581",
   "metadata": {},
   "outputs": [],
   "source": [
    "# this can take a while...\n",
    "top_gravy_results = get_features(top_gravy_X, model)\n",
    "low_gravy_results = get_features(low_gravy_X, model)"
   ]
  },
  {
   "cell_type": "code",
   "execution_count": null,
   "id": "53e73906",
   "metadata": {},
   "outputs": [],
   "source": [
    "res_high = dict(top_gravy_results)\n",
    "print(res_high.keys())\n",
    "res_low = dict(low_gravy_results)\n",
    "print(res_low.keys())"
   ]
  },
  {
   "cell_type": "code",
   "execution_count": null,
   "id": "846a7d46",
   "metadata": {},
   "outputs": [],
   "source": [
    "sr_high = res_high['sequence_representations'] # top feature representations\n",
    "plt.imshow(sr_high)"
   ]
  },
  {
   "cell_type": "code",
   "execution_count": null,
   "id": "15dae341",
   "metadata": {},
   "outputs": [],
   "source": [
    "sr_low = res_low['sequence_representations'] # top feature representations\n",
    "plt.imshow(sr_low)"
   ]
  },
  {
   "cell_type": "markdown",
   "id": "af7cbe51",
   "metadata": {},
   "source": [
    "### Visuals"
   ]
  },
  {
   "cell_type": "code",
   "execution_count": null,
   "id": "79fcb249",
   "metadata": {},
   "outputs": [],
   "source": [
    "from sklearn.preprocessing import StandardScaler\n",
    "from sklearn.decomposition import PCA\n",
    "from sklearn.manifold import TSNE"
   ]
  },
  {
   "cell_type": "code",
   "execution_count": null,
   "id": "b1290929",
   "metadata": {},
   "outputs": [],
   "source": []
  },
  {
   "cell_type": "code",
   "execution_count": null,
   "id": "3d722c34",
   "metadata": {},
   "outputs": [],
   "source": [
    "sr_high = sr_high[:]\n",
    "sr_high_std = sr_high - sr_high.mean(axis=0)\n",
    "sr_high_std /= sr_high_std.std(axis=0)\n",
    "\n",
    "sr_low = sr_low[:]\n",
    "sr_low_std = sr_low - sr_low.mean(axis=0)\n",
    "sr_low_std /= sr_low_std.std(axis=0)"
   ]
  },
  {
   "cell_type": "code",
   "execution_count": null,
   "id": "92868c73",
   "metadata": {},
   "outputs": [],
   "source": [
    "pca = PCA(n_components=3)\n",
    "\n",
    "sr_high_pca = pca.fit_transform(sr_high_std)\n",
    "sr_low_pca = pca.fit_transform(sr_low_std)"
   ]
  },
  {
   "cell_type": "code",
   "execution_count": null,
   "id": "0fadf23b",
   "metadata": {},
   "outputs": [],
   "source": [
    "plt.scatter(sr_high_pca[:, 0], sr_high_pca[:, 1])\n",
    "plt.scatter(sr_low_pca[:, 0], sr_low_pca[:, 1])"
   ]
  },
  {
   "cell_type": "code",
   "execution_count": null,
   "id": "943a6f04",
   "metadata": {},
   "outputs": [],
   "source": [
    "fig = plt.figure(figsize=(8, 6))\n",
    "ax  = fig.add_subplot(111, projection=\"3d\")\n",
    "\n",
    "# 3-D scatter for the two classes\n",
    "ax.scatter(\n",
    "    sr_high_pca[:, 0], sr_high_pca[:, 1], sr_high_pca[:, 2],\n",
    "    s=20, alpha=0.7, label=\"high SR\", marker=\"o\"\n",
    ")\n",
    "ax.scatter(\n",
    "    sr_low_pca[:, 0], sr_low_pca[:, 1], sr_low_pca[:, 2],\n",
    "    s=20, alpha=0.7, label=\"low SR\",  marker=\"^\"\n",
    ")\n",
    "\n",
    "# Axis labels (use real explained-variance % if you have pca.explained_variance_ratio_)\n",
    "ax.set_xlabel(\"PC 1\")\n",
    "ax.set_ylabel(\"PC 2\")\n",
    "ax.set_zlabel(\"PC 3\")\n",
    "\n",
    "ax.legend(loc=\"best\")\n",
    "ax.set_title(\"3-D PCA projection\")\n",
    "plt.tight_layout(); plt.show()"
   ]
  },
  {
   "cell_type": "code",
   "execution_count": null,
   "id": "53931fe8",
   "metadata": {},
   "outputs": [],
   "source": [
    "tsne = TSNE(\n",
    "    n_components     = 3,      # 2-D for plotting (use 3 for 3-D)\n",
    "    perplexity       = 1,     # “effective #neighbors” (5–50 typical)\n",
    "    learning_rate    = \"auto\", # or a value ~ n_samples / 12\n",
    "    init             = \"pca\",  # pca|random; pca gives stabler layouts\n",
    "    n_iter           = 2000,   # 250–1000 is common; more for cleaner structure\n",
    "    metric           = \"euclidean\",\n",
    "    random_state     = 0,\n",
    "    verbose          = 1\n",
    ")\n",
    "Z = tsne.fit_transform(sr_high_std)    \n",
    "Z_2 = tsne.fit_transform(sr_low_std) # shape (n_samples, 2)\n",
    "\n",
    "# 4) Visualise  ---------------------------------------------------------\n",
    "plt.scatter(Z[:,0], Z[:,1], s=10, alpha=0.7)\n",
    "plt.scatter(Z_2[:,0], Z_2[:,1], s=10, alpha=0.7)\n",
    "plt.title(\"t-SNE projection\"); plt.xlabel(\"t-SNE-1\"); plt.ylabel(\"t-SNE-2\"); plt.show()"
   ]
  },
  {
   "cell_type": "code",
   "execution_count": null,
   "id": "d288b8b0",
   "metadata": {},
   "outputs": [],
   "source": [
    "fig = plt.figure(figsize=(8, 6))\n",
    "ax  = fig.add_subplot(111, projection=\"3d\")\n",
    "\n",
    "# 3-D scatter for the two classes\n",
    "ax.scatter(\n",
    "    Z[:, 0], Z[:, 1], Z[:, 2],\n",
    "    s=20, alpha=0.7, label=\"high SR\", marker=\"o\"\n",
    ")\n",
    "ax.scatter(\n",
    "    Z_2[:, 0], Z_2[:, 1], Z_2[:, 2],\n",
    "    s=20, alpha=0.7, label=\"low SR\",  marker=\"^\"\n",
    ")\n",
    "\n",
    "# Axis labels (use real explained-variance % if you have pca.explained_variance_ratio_)\n",
    "ax.set_xlabel(\"PC 1\")\n",
    "ax.set_ylabel(\"PC 2\")\n",
    "ax.set_zlabel(\"PC 3\")\n",
    "\n",
    "ax.legend(loc=\"best\")\n",
    "ax.set_title(\"3-D PCA projection\")\n",
    "plt.tight_layout(); plt.show()"
   ]
  },
  {
   "cell_type": "code",
   "execution_count": 62,
   "id": "5a0a30a7",
   "metadata": {},
   "outputs": [],
   "source": [
    "# for each sample, calculate representation\n",
    "out_cols = [\"Name\", \"Sequence\", \"Token Representations\", \"Sequence Representations\", \"Contacts\"]\n",
    "outputs = [] # stores rows with name, sequence as strings and representations and contacts urls"
   ]
  },
  {
   "cell_type": "code",
   "execution_count": 69,
   "id": "60ec000f",
   "metadata": {},
   "outputs": [],
   "source": [
    "df = df.sample(frac=1)"
   ]
  },
  {
   "cell_type": "code",
   "execution_count": 70,
   "id": "b53062d8",
   "metadata": {},
   "outputs": [],
   "source": [
    "import tqdm"
   ]
  },
  {
   "cell_type": "code",
   "execution_count": 71,
   "id": "a5892ce9",
   "metadata": {},
   "outputs": [
    {
     "name": "stderr",
     "output_type": "stream",
     "text": [
      "1645it [06:57,  3.94it/s]\n"
     ]
    },
    {
     "ename": "KeyboardInterrupt",
     "evalue": "",
     "output_type": "error",
     "traceback": [
      "\u001b[0;31m---------------------------------------------------------------------------\u001b[0m",
      "\u001b[0;31mKeyboardInterrupt\u001b[0m                         Traceback (most recent call last)",
      "\u001b[0;32m<ipython-input-71-b7221b1b234f>\u001b[0m in \u001b[0;36m<module>\u001b[0;34m\u001b[0m\n\u001b[1;32m      6\u001b[0m         \u001b[0;34m(\u001b[0m\u001b[0mrow\u001b[0m\u001b[0;34m.\u001b[0m\u001b[0mName\u001b[0m\u001b[0;34m,\u001b[0m \u001b[0mrow\u001b[0m\u001b[0;34m.\u001b[0m\u001b[0mSequence\u001b[0m\u001b[0;34m)\u001b[0m\u001b[0;34m\u001b[0m\u001b[0;34m\u001b[0m\u001b[0m\n\u001b[1;32m      7\u001b[0m         ]\n\u001b[0;32m----> 8\u001b[0;31m     \u001b[0mres\u001b[0m \u001b[0;34m=\u001b[0m \u001b[0mget_features\u001b[0m\u001b[0;34m(\u001b[0m\u001b[0mbatch\u001b[0m\u001b[0;34m,\u001b[0m \u001b[0mmodel\u001b[0m\u001b[0;34m)\u001b[0m\u001b[0;34m\u001b[0m\u001b[0;34m\u001b[0m\u001b[0m\n\u001b[0m\u001b[1;32m      9\u001b[0m     \u001b[0;31m# generate paths\u001b[0m\u001b[0;34m\u001b[0m\u001b[0;34m\u001b[0m\u001b[0;34m\u001b[0m\u001b[0m\n\u001b[1;32m     10\u001b[0m     \u001b[0mtoken_representations_path\u001b[0m \u001b[0;34m=\u001b[0m \u001b[0moutput_path\u001b[0m \u001b[0;34m+\u001b[0m \u001b[0;34m\"token_representations/\"\u001b[0m \u001b[0;34m+\u001b[0m \u001b[0mstr\u001b[0m\u001b[0;34m(\u001b[0m\u001b[0mrow\u001b[0m\u001b[0;34m.\u001b[0m\u001b[0mName\u001b[0m\u001b[0;34m)\u001b[0m \u001b[0;34m+\u001b[0m \u001b[0;34m\".pt\"\u001b[0m\u001b[0;34m\u001b[0m\u001b[0;34m\u001b[0m\u001b[0m\n",
      "\u001b[0;32m<ipython-input-61-94fc56e58e1f>\u001b[0m in \u001b[0;36mget_features\u001b[0;34m(data, model)\u001b[0m\n\u001b[1;32m      5\u001b[0m     \u001b[0;31m# Extract per-residue representations (on CPU)\u001b[0m\u001b[0;34m\u001b[0m\u001b[0;34m\u001b[0m\u001b[0;34m\u001b[0m\u001b[0m\n\u001b[1;32m      6\u001b[0m     \u001b[0;32mwith\u001b[0m \u001b[0mtorch\u001b[0m\u001b[0;34m.\u001b[0m\u001b[0mno_grad\u001b[0m\u001b[0;34m(\u001b[0m\u001b[0;34m)\u001b[0m\u001b[0;34m:\u001b[0m\u001b[0;34m\u001b[0m\u001b[0;34m\u001b[0m\u001b[0m\n\u001b[0;32m----> 7\u001b[0;31m         \u001b[0mresults\u001b[0m \u001b[0;34m=\u001b[0m \u001b[0mmodel\u001b[0m\u001b[0;34m(\u001b[0m\u001b[0mbatch_tokens\u001b[0m\u001b[0;34m,\u001b[0m \u001b[0mrepr_layers\u001b[0m\u001b[0;34m=\u001b[0m\u001b[0;34m[\u001b[0m\u001b[0;36m6\u001b[0m\u001b[0;34m]\u001b[0m\u001b[0;34m,\u001b[0m \u001b[0mreturn_contacts\u001b[0m\u001b[0;34m=\u001b[0m\u001b[0;32mTrue\u001b[0m\u001b[0;34m)\u001b[0m\u001b[0;34m\u001b[0m\u001b[0;34m\u001b[0m\u001b[0m\n\u001b[0m\u001b[1;32m      8\u001b[0m     \u001b[0mtoken_representations\u001b[0m \u001b[0;34m=\u001b[0m \u001b[0mresults\u001b[0m\u001b[0;34m[\u001b[0m\u001b[0;34m\"representations\"\u001b[0m\u001b[0;34m]\u001b[0m\u001b[0;34m[\u001b[0m\u001b[0;36m6\u001b[0m\u001b[0;34m]\u001b[0m\u001b[0;34m\u001b[0m\u001b[0;34m\u001b[0m\u001b[0m\n\u001b[1;32m      9\u001b[0m     \u001b[0mresults\u001b[0m\u001b[0;34m[\u001b[0m\u001b[0;34m\"token_representations\"\u001b[0m\u001b[0;34m]\u001b[0m \u001b[0;34m=\u001b[0m \u001b[0mtoken_representations\u001b[0m\u001b[0;34m\u001b[0m\u001b[0;34m\u001b[0m\u001b[0m\n",
      "\u001b[0;32m~/opt/anaconda3/envs/esmfold/lib/python3.7/site-packages/torch/nn/modules/module.py\u001b[0m in \u001b[0;36m_call_impl\u001b[0;34m(self, *input, **kwargs)\u001b[0m\n\u001b[1;32m   1192\u001b[0m         if not (self._backward_hooks or self._forward_hooks or self._forward_pre_hooks or _global_backward_hooks\n\u001b[1;32m   1193\u001b[0m                 or _global_forward_hooks or _global_forward_pre_hooks):\n\u001b[0;32m-> 1194\u001b[0;31m             \u001b[0;32mreturn\u001b[0m \u001b[0mforward_call\u001b[0m\u001b[0;34m(\u001b[0m\u001b[0;34m*\u001b[0m\u001b[0minput\u001b[0m\u001b[0;34m,\u001b[0m \u001b[0;34m**\u001b[0m\u001b[0mkwargs\u001b[0m\u001b[0;34m)\u001b[0m\u001b[0;34m\u001b[0m\u001b[0;34m\u001b[0m\u001b[0m\n\u001b[0m\u001b[1;32m   1195\u001b[0m         \u001b[0;31m# Do not call functions when jit is used\u001b[0m\u001b[0;34m\u001b[0m\u001b[0;34m\u001b[0m\u001b[0;34m\u001b[0m\u001b[0m\n\u001b[1;32m   1196\u001b[0m         \u001b[0mfull_backward_hooks\u001b[0m\u001b[0;34m,\u001b[0m \u001b[0mnon_full_backward_hooks\u001b[0m \u001b[0;34m=\u001b[0m \u001b[0;34m[\u001b[0m\u001b[0;34m]\u001b[0m\u001b[0;34m,\u001b[0m \u001b[0;34m[\u001b[0m\u001b[0;34m]\u001b[0m\u001b[0;34m\u001b[0m\u001b[0;34m\u001b[0m\u001b[0m\n",
      "\u001b[0;32m~/182-proj/182-final-proj/esm/esm/model/esm2.py\u001b[0m in \u001b[0;36mforward\u001b[0;34m(self, tokens, repr_layers, need_head_weights, return_contacts)\u001b[0m\n\u001b[1;32m    113\u001b[0m                 \u001b[0mx\u001b[0m\u001b[0;34m,\u001b[0m\u001b[0;34m\u001b[0m\u001b[0;34m\u001b[0m\u001b[0m\n\u001b[1;32m    114\u001b[0m                 \u001b[0mself_attn_padding_mask\u001b[0m\u001b[0;34m=\u001b[0m\u001b[0mpadding_mask\u001b[0m\u001b[0;34m,\u001b[0m\u001b[0;34m\u001b[0m\u001b[0;34m\u001b[0m\u001b[0m\n\u001b[0;32m--> 115\u001b[0;31m                 \u001b[0mneed_head_weights\u001b[0m\u001b[0;34m=\u001b[0m\u001b[0mneed_head_weights\u001b[0m\u001b[0;34m,\u001b[0m\u001b[0;34m\u001b[0m\u001b[0;34m\u001b[0m\u001b[0m\n\u001b[0m\u001b[1;32m    116\u001b[0m             )\n\u001b[1;32m    117\u001b[0m             \u001b[0;32mif\u001b[0m \u001b[0;34m(\u001b[0m\u001b[0mlayer_idx\u001b[0m \u001b[0;34m+\u001b[0m \u001b[0;36m1\u001b[0m\u001b[0;34m)\u001b[0m \u001b[0;32min\u001b[0m \u001b[0mrepr_layers\u001b[0m\u001b[0;34m:\u001b[0m\u001b[0;34m\u001b[0m\u001b[0;34m\u001b[0m\u001b[0m\n",
      "\u001b[0;32m~/opt/anaconda3/envs/esmfold/lib/python3.7/site-packages/torch/nn/modules/module.py\u001b[0m in \u001b[0;36m_call_impl\u001b[0;34m(self, *input, **kwargs)\u001b[0m\n\u001b[1;32m   1192\u001b[0m         if not (self._backward_hooks or self._forward_hooks or self._forward_pre_hooks or _global_backward_hooks\n\u001b[1;32m   1193\u001b[0m                 or _global_forward_hooks or _global_forward_pre_hooks):\n\u001b[0;32m-> 1194\u001b[0;31m             \u001b[0;32mreturn\u001b[0m \u001b[0mforward_call\u001b[0m\u001b[0;34m(\u001b[0m\u001b[0;34m*\u001b[0m\u001b[0minput\u001b[0m\u001b[0;34m,\u001b[0m \u001b[0;34m**\u001b[0m\u001b[0mkwargs\u001b[0m\u001b[0;34m)\u001b[0m\u001b[0;34m\u001b[0m\u001b[0;34m\u001b[0m\u001b[0m\n\u001b[0m\u001b[1;32m   1195\u001b[0m         \u001b[0;31m# Do not call functions when jit is used\u001b[0m\u001b[0;34m\u001b[0m\u001b[0;34m\u001b[0m\u001b[0;34m\u001b[0m\u001b[0m\n\u001b[1;32m   1196\u001b[0m         \u001b[0mfull_backward_hooks\u001b[0m\u001b[0;34m,\u001b[0m \u001b[0mnon_full_backward_hooks\u001b[0m \u001b[0;34m=\u001b[0m \u001b[0;34m[\u001b[0m\u001b[0;34m]\u001b[0m\u001b[0;34m,\u001b[0m \u001b[0;34m[\u001b[0m\u001b[0;34m]\u001b[0m\u001b[0;34m\u001b[0m\u001b[0;34m\u001b[0m\u001b[0m\n",
      "\u001b[0;32m~/182-proj/182-final-proj/esm/esm/modules.py\u001b[0m in \u001b[0;36mforward\u001b[0;34m(self, x, self_attn_mask, self_attn_padding_mask, need_head_weights)\u001b[0m\n\u001b[1;32m    136\u001b[0m         \u001b[0mresidual\u001b[0m \u001b[0;34m=\u001b[0m \u001b[0mx\u001b[0m\u001b[0;34m\u001b[0m\u001b[0;34m\u001b[0m\u001b[0m\n\u001b[1;32m    137\u001b[0m         \u001b[0mx\u001b[0m \u001b[0;34m=\u001b[0m \u001b[0mself\u001b[0m\u001b[0;34m.\u001b[0m\u001b[0mfinal_layer_norm\u001b[0m\u001b[0;34m(\u001b[0m\u001b[0mx\u001b[0m\u001b[0;34m)\u001b[0m\u001b[0;34m\u001b[0m\u001b[0;34m\u001b[0m\u001b[0m\n\u001b[0;32m--> 138\u001b[0;31m         \u001b[0mx\u001b[0m \u001b[0;34m=\u001b[0m \u001b[0mgelu\u001b[0m\u001b[0;34m(\u001b[0m\u001b[0mself\u001b[0m\u001b[0;34m.\u001b[0m\u001b[0mfc1\u001b[0m\u001b[0;34m(\u001b[0m\u001b[0mx\u001b[0m\u001b[0;34m)\u001b[0m\u001b[0;34m)\u001b[0m\u001b[0;34m\u001b[0m\u001b[0;34m\u001b[0m\u001b[0m\n\u001b[0m\u001b[1;32m    139\u001b[0m         \u001b[0mx\u001b[0m \u001b[0;34m=\u001b[0m \u001b[0mself\u001b[0m\u001b[0;34m.\u001b[0m\u001b[0mfc2\u001b[0m\u001b[0;34m(\u001b[0m\u001b[0mx\u001b[0m\u001b[0;34m)\u001b[0m\u001b[0;34m\u001b[0m\u001b[0;34m\u001b[0m\u001b[0m\n\u001b[1;32m    140\u001b[0m         \u001b[0mx\u001b[0m \u001b[0;34m=\u001b[0m \u001b[0mresidual\u001b[0m \u001b[0;34m+\u001b[0m \u001b[0mx\u001b[0m\u001b[0;34m\u001b[0m\u001b[0;34m\u001b[0m\u001b[0m\n",
      "\u001b[0;32m~/182-proj/182-final-proj/esm/esm/modules.py\u001b[0m in \u001b[0;36mgelu\u001b[0;34m(x)\u001b[0m\n\u001b[1;32m     22\u001b[0m     \u001b[0;36m0.5\u001b[0m \u001b[0;34m*\u001b[0m \u001b[0mx\u001b[0m \u001b[0;34m*\u001b[0m \u001b[0;34m(\u001b[0m\u001b[0;36m1\u001b[0m \u001b[0;34m+\u001b[0m \u001b[0mtorch\u001b[0m\u001b[0;34m.\u001b[0m\u001b[0mtanh\u001b[0m\u001b[0;34m(\u001b[0m\u001b[0mmath\u001b[0m\u001b[0;34m.\u001b[0m\u001b[0msqrt\u001b[0m\u001b[0;34m(\u001b[0m\u001b[0;36m2\u001b[0m \u001b[0;34m/\u001b[0m \u001b[0mmath\u001b[0m\u001b[0;34m.\u001b[0m\u001b[0mpi\u001b[0m\u001b[0;34m)\u001b[0m \u001b[0;34m*\u001b[0m \u001b[0;34m(\u001b[0m\u001b[0mx\u001b[0m \u001b[0;34m+\u001b[0m \u001b[0;36m0.044715\u001b[0m \u001b[0;34m*\u001b[0m \u001b[0mtorch\u001b[0m\u001b[0;34m.\u001b[0m\u001b[0mpow\u001b[0m\u001b[0;34m(\u001b[0m\u001b[0mx\u001b[0m\u001b[0;34m,\u001b[0m \u001b[0;36m3\u001b[0m\u001b[0;34m)\u001b[0m\u001b[0;34m)\u001b[0m\u001b[0;34m)\u001b[0m\u001b[0;34m)\u001b[0m\u001b[0;34m\u001b[0m\u001b[0;34m\u001b[0m\u001b[0m\n\u001b[1;32m     23\u001b[0m     \"\"\"\n\u001b[0;32m---> 24\u001b[0;31m     \u001b[0;32mreturn\u001b[0m \u001b[0mx\u001b[0m \u001b[0;34m*\u001b[0m \u001b[0;36m0.5\u001b[0m \u001b[0;34m*\u001b[0m \u001b[0;34m(\u001b[0m\u001b[0;36m1.0\u001b[0m \u001b[0;34m+\u001b[0m \u001b[0mtorch\u001b[0m\u001b[0;34m.\u001b[0m\u001b[0merf\u001b[0m\u001b[0;34m(\u001b[0m\u001b[0mx\u001b[0m \u001b[0;34m/\u001b[0m \u001b[0mmath\u001b[0m\u001b[0;34m.\u001b[0m\u001b[0msqrt\u001b[0m\u001b[0;34m(\u001b[0m\u001b[0;36m2.0\u001b[0m\u001b[0;34m)\u001b[0m\u001b[0;34m)\u001b[0m\u001b[0;34m)\u001b[0m\u001b[0;34m\u001b[0m\u001b[0;34m\u001b[0m\u001b[0m\n\u001b[0m\u001b[1;32m     25\u001b[0m \u001b[0;34m\u001b[0m\u001b[0m\n\u001b[1;32m     26\u001b[0m \u001b[0;34m\u001b[0m\u001b[0m\n",
      "\u001b[0;31mKeyboardInterrupt\u001b[0m: "
     ]
    }
   ],
   "source": [
    "# unbatched\n",
    "output_path = \"model_outputs_8M/sample_output/\"\n",
    "\n",
    "for row in tqdm.tqdm(df[[\"Name\", \"Sequence\"]].itertuples()):\n",
    "    batch = [\n",
    "        (row.Name, row.Sequence)\n",
    "        ]\n",
    "    res = get_features(batch, model)\n",
    "    # generate paths\n",
    "    token_representations_path = output_path + \"token_representations/\" + str(row.Name) + \".pt\"\n",
    "    sequence_representations_path = output_path + \"sequence_representations/\" + str(row.Name) + \".pt\"\n",
    "    contacts_path = output_path + \"contacts/\" + str(row.Name) + \".pt\"\n",
    "    # save tensors as .pt\n",
    "    torch.save(res['token_representations'][0], token_representations_path) # uses index 0 due to being unbatched\n",
    "    torch.save(res['sequence_representations'][0], sequence_representations_path)\n",
    "    torch.save(res['contacts'][0], contacts_path)\n",
    "    # save urls to list for csv\n",
    "    outputs.append([row.Name, row.Sequence, token_representations_path, sequence_representations_path, contacts_path])"
   ]
  },
  {
   "cell_type": "code",
   "execution_count": 72,
   "id": "d6b76bae",
   "metadata": {},
   "outputs": [],
   "source": [
    "out_df = pd.DataFrame(outputs[0:], columns=out_cols)"
   ]
  },
  {
   "cell_type": "code",
   "execution_count": 73,
   "id": "86a41757",
   "metadata": {},
   "outputs": [
    {
     "data": {
      "text/html": [
       "<div>\n",
       "<style scoped>\n",
       "    .dataframe tbody tr th:only-of-type {\n",
       "        vertical-align: middle;\n",
       "    }\n",
       "\n",
       "    .dataframe tbody tr th {\n",
       "        vertical-align: top;\n",
       "    }\n",
       "\n",
       "    .dataframe thead th {\n",
       "        text-align: right;\n",
       "    }\n",
       "</style>\n",
       "<table border=\"1\" class=\"dataframe\">\n",
       "  <thead>\n",
       "    <tr style=\"text-align: right;\">\n",
       "      <th></th>\n",
       "      <th>Name</th>\n",
       "      <th>Sequence</th>\n",
       "      <th>Token Representations</th>\n",
       "      <th>Sequence Representations</th>\n",
       "      <th>Contacts</th>\n",
       "    </tr>\n",
       "  </thead>\n",
       "  <tbody>\n",
       "    <tr>\n",
       "      <th>0</th>\n",
       "      <td>UniRef50_A0A1D8AY05</td>\n",
       "      <td>MADPLDPRLDSLAEVIVRVGLNLQPGQPLLITDPYELQGVHPETAA...</td>\n",
       "      <td>model_outputs_8M/sample_output/token_represent...</td>\n",
       "      <td>model_outputs_8M/sample_output/sequence_repres...</td>\n",
       "      <td>model_outputs_8M/sample_output/contacts/UniRef...</td>\n",
       "    </tr>\n",
       "    <tr>\n",
       "      <th>1</th>\n",
       "      <td>UniRef50_T0ST41</td>\n",
       "      <td>MNQLTLGAIFILAIGAFTSISIMSGFHIFISIPSLFFAFKSRLKKT...</td>\n",
       "      <td>model_outputs_8M/sample_output/token_represent...</td>\n",
       "      <td>model_outputs_8M/sample_output/sequence_repres...</td>\n",
       "      <td>model_outputs_8M/sample_output/contacts/UniRef...</td>\n",
       "    </tr>\n",
       "    <tr>\n",
       "      <th>2</th>\n",
       "      <td>UniRef50_A0A0G2A7B9</td>\n",
       "      <td>MSLKIKLALYIGLGIVVVFAVLLVTGVIKPFQPETIKGDIVVWDKD...</td>\n",
       "      <td>model_outputs_8M/sample_output/token_represent...</td>\n",
       "      <td>model_outputs_8M/sample_output/sequence_repres...</td>\n",
       "      <td>model_outputs_8M/sample_output/contacts/UniRef...</td>\n",
       "    </tr>\n",
       "    <tr>\n",
       "      <th>3</th>\n",
       "      <td>UniRef50_Q0V391</td>\n",
       "      <td>MSPPRRDIMSHMSNRPSSSRSRGPAPKIVVKKEPNSPDMPTTTRHR...</td>\n",
       "      <td>model_outputs_8M/sample_output/token_represent...</td>\n",
       "      <td>model_outputs_8M/sample_output/sequence_repres...</td>\n",
       "      <td>model_outputs_8M/sample_output/contacts/UniRef...</td>\n",
       "    </tr>\n",
       "    <tr>\n",
       "      <th>4</th>\n",
       "      <td>UniRef50_UPI002251E226</td>\n",
       "      <td>MDNNGNQLIQVERVVEINERDILVGDFMISLIVENRSSIIYPSYRH...</td>\n",
       "      <td>model_outputs_8M/sample_output/token_represent...</td>\n",
       "      <td>model_outputs_8M/sample_output/sequence_repres...</td>\n",
       "      <td>model_outputs_8M/sample_output/contacts/UniRef...</td>\n",
       "    </tr>\n",
       "    <tr>\n",
       "      <th>...</th>\n",
       "      <td>...</td>\n",
       "      <td>...</td>\n",
       "      <td>...</td>\n",
       "      <td>...</td>\n",
       "      <td>...</td>\n",
       "    </tr>\n",
       "    <tr>\n",
       "      <th>1640</th>\n",
       "      <td>UniRef50_A0A7W9W9L3</td>\n",
       "      <td>MKVNSLWTPTRRELFIASGASLLAGCGGSSPSPNPTPTPTPAPTPT...</td>\n",
       "      <td>model_outputs_8M/sample_output/token_represent...</td>\n",
       "      <td>model_outputs_8M/sample_output/sequence_repres...</td>\n",
       "      <td>model_outputs_8M/sample_output/contacts/UniRef...</td>\n",
       "    </tr>\n",
       "    <tr>\n",
       "      <th>1641</th>\n",
       "      <td>UniRef50_A0A1S2LH12</td>\n",
       "      <td>MISDLIVNIAVLTSFTFFWHQALKNNRLTLNSRTKIKILDGIIGGV...</td>\n",
       "      <td>model_outputs_8M/sample_output/token_represent...</td>\n",
       "      <td>model_outputs_8M/sample_output/sequence_repres...</td>\n",
       "      <td>model_outputs_8M/sample_output/contacts/UniRef...</td>\n",
       "    </tr>\n",
       "    <tr>\n",
       "      <th>1642</th>\n",
       "      <td>UniRef50_A0A210QWA1</td>\n",
       "      <td>MVPKEHSESTVLTITSASEEDYGTYDVIVSNDGGQAVIPVKLTVHE...</td>\n",
       "      <td>model_outputs_8M/sample_output/token_represent...</td>\n",
       "      <td>model_outputs_8M/sample_output/sequence_repres...</td>\n",
       "      <td>model_outputs_8M/sample_output/contacts/UniRef...</td>\n",
       "    </tr>\n",
       "    <tr>\n",
       "      <th>1643</th>\n",
       "      <td>UniRef50_UPI00254AAAC8</td>\n",
       "      <td>MNNLVDIKEWEQKRKTTFFVYMLLYFFAEFEKSINTATLWFYLTKL...</td>\n",
       "      <td>model_outputs_8M/sample_output/token_represent...</td>\n",
       "      <td>model_outputs_8M/sample_output/sequence_repres...</td>\n",
       "      <td>model_outputs_8M/sample_output/contacts/UniRef...</td>\n",
       "    </tr>\n",
       "    <tr>\n",
       "      <th>1644</th>\n",
       "      <td>UniRef50_UPI003462EC52</td>\n",
       "      <td>MLALSQYSVCLPLTSVMGFGPCIEILLRCAAWHLVKINLLPMEGLY...</td>\n",
       "      <td>model_outputs_8M/sample_output/token_represent...</td>\n",
       "      <td>model_outputs_8M/sample_output/sequence_repres...</td>\n",
       "      <td>model_outputs_8M/sample_output/contacts/UniRef...</td>\n",
       "    </tr>\n",
       "  </tbody>\n",
       "</table>\n",
       "<p>1645 rows × 5 columns</p>\n",
       "</div>"
      ],
      "text/plain": [
       "                        Name  \\\n",
       "0        UniRef50_A0A1D8AY05   \n",
       "1            UniRef50_T0ST41   \n",
       "2        UniRef50_A0A0G2A7B9   \n",
       "3            UniRef50_Q0V391   \n",
       "4     UniRef50_UPI002251E226   \n",
       "...                      ...   \n",
       "1640     UniRef50_A0A7W9W9L3   \n",
       "1641     UniRef50_A0A1S2LH12   \n",
       "1642     UniRef50_A0A210QWA1   \n",
       "1643  UniRef50_UPI00254AAAC8   \n",
       "1644  UniRef50_UPI003462EC52   \n",
       "\n",
       "                                               Sequence  \\\n",
       "0     MADPLDPRLDSLAEVIVRVGLNLQPGQPLLITDPYELQGVHPETAA...   \n",
       "1     MNQLTLGAIFILAIGAFTSISIMSGFHIFISIPSLFFAFKSRLKKT...   \n",
       "2     MSLKIKLALYIGLGIVVVFAVLLVTGVIKPFQPETIKGDIVVWDKD...   \n",
       "3     MSPPRRDIMSHMSNRPSSSRSRGPAPKIVVKKEPNSPDMPTTTRHR...   \n",
       "4     MDNNGNQLIQVERVVEINERDILVGDFMISLIVENRSSIIYPSYRH...   \n",
       "...                                                 ...   \n",
       "1640  MKVNSLWTPTRRELFIASGASLLAGCGGSSPSPNPTPTPTPAPTPT...   \n",
       "1641  MISDLIVNIAVLTSFTFFWHQALKNNRLTLNSRTKIKILDGIIGGV...   \n",
       "1642  MVPKEHSESTVLTITSASEEDYGTYDVIVSNDGGQAVIPVKLTVHE...   \n",
       "1643  MNNLVDIKEWEQKRKTTFFVYMLLYFFAEFEKSINTATLWFYLTKL...   \n",
       "1644  MLALSQYSVCLPLTSVMGFGPCIEILLRCAAWHLVKINLLPMEGLY...   \n",
       "\n",
       "                                  Token Representations  \\\n",
       "0     model_outputs_8M/sample_output/token_represent...   \n",
       "1     model_outputs_8M/sample_output/token_represent...   \n",
       "2     model_outputs_8M/sample_output/token_represent...   \n",
       "3     model_outputs_8M/sample_output/token_represent...   \n",
       "4     model_outputs_8M/sample_output/token_represent...   \n",
       "...                                                 ...   \n",
       "1640  model_outputs_8M/sample_output/token_represent...   \n",
       "1641  model_outputs_8M/sample_output/token_represent...   \n",
       "1642  model_outputs_8M/sample_output/token_represent...   \n",
       "1643  model_outputs_8M/sample_output/token_represent...   \n",
       "1644  model_outputs_8M/sample_output/token_represent...   \n",
       "\n",
       "                               Sequence Representations  \\\n",
       "0     model_outputs_8M/sample_output/sequence_repres...   \n",
       "1     model_outputs_8M/sample_output/sequence_repres...   \n",
       "2     model_outputs_8M/sample_output/sequence_repres...   \n",
       "3     model_outputs_8M/sample_output/sequence_repres...   \n",
       "4     model_outputs_8M/sample_output/sequence_repres...   \n",
       "...                                                 ...   \n",
       "1640  model_outputs_8M/sample_output/sequence_repres...   \n",
       "1641  model_outputs_8M/sample_output/sequence_repres...   \n",
       "1642  model_outputs_8M/sample_output/sequence_repres...   \n",
       "1643  model_outputs_8M/sample_output/sequence_repres...   \n",
       "1644  model_outputs_8M/sample_output/sequence_repres...   \n",
       "\n",
       "                                               Contacts  \n",
       "0     model_outputs_8M/sample_output/contacts/UniRef...  \n",
       "1     model_outputs_8M/sample_output/contacts/UniRef...  \n",
       "2     model_outputs_8M/sample_output/contacts/UniRef...  \n",
       "3     model_outputs_8M/sample_output/contacts/UniRef...  \n",
       "4     model_outputs_8M/sample_output/contacts/UniRef...  \n",
       "...                                                 ...  \n",
       "1640  model_outputs_8M/sample_output/contacts/UniRef...  \n",
       "1641  model_outputs_8M/sample_output/contacts/UniRef...  \n",
       "1642  model_outputs_8M/sample_output/contacts/UniRef...  \n",
       "1643  model_outputs_8M/sample_output/contacts/UniRef...  \n",
       "1644  model_outputs_8M/sample_output/contacts/UniRef...  \n",
       "\n",
       "[1645 rows x 5 columns]"
      ]
     },
     "execution_count": 73,
     "metadata": {},
     "output_type": "execute_result"
    }
   ],
   "source": [
    "out_df"
   ]
  },
  {
   "cell_type": "code",
   "execution_count": 74,
   "id": "d879a93e",
   "metadata": {},
   "outputs": [],
   "source": [
    "# save csv\n",
    "out_df.to_csv(\"model_outputs_8M/UniRef50_n1645.csv\")"
   ]
  },
  {
   "cell_type": "code",
   "execution_count": null,
   "id": "d7c64f62",
   "metadata": {},
   "outputs": [],
   "source": []
  }
 ],
 "metadata": {
  "kernelspec": {
   "display_name": "esmfold",
   "language": "python",
   "name": "python3"
  },
  "language_info": {
   "codemirror_mode": {
    "name": "ipython",
    "version": 3
   },
   "file_extension": ".py",
   "mimetype": "text/x-python",
   "name": "python",
   "nbconvert_exporter": "python",
   "pygments_lexer": "ipython3",
   "version": "3.7.12"
  }
 },
 "nbformat": 4,
 "nbformat_minor": 5
}
