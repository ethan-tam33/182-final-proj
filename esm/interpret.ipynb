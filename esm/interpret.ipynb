{
 "cells": [
  {
   "cell_type": "code",
   "execution_count": 4,
   "id": "2516e819",
   "metadata": {},
   "outputs": [],
   "source": [
    "import numpy as np\n",
    "import pandas as pd\n",
    "from Bio import SeqIO\n",
    "from Bio.Seq import Seq\n",
    "from Bio.SeqRecord import SeqRecord\n",
    "from Bio.SeqUtils.ProtParam import ProteinAnalysis\n",
    "import pandas as pd\n",
    "import numpy as np\n",
    "import matplotlib.pyplot as plt\n",
    "import torch\n",
    "import esm\n",
    "\n",
    "# takes FASTA files and generates dataframe and csv with descriptions and features"
   ]
  },
  {
   "cell_type": "code",
   "execution_count": 45,
   "id": "ec32d3de",
   "metadata": {},
   "outputs": [],
   "source": [
    "df = pd.read_csv(\"seq_df_first_10000_less_1000.csv\", index_col=0).dropna()\n",
    "cols = list(df.columns)"
   ]
  },
  {
   "cell_type": "code",
   "execution_count": null,
   "id": "e3ba72bf",
   "metadata": {},
   "outputs": [],
   "source": [
    "sort_feature = \"GRAVY\"\n",
    "assert sort_feature in cols, \"Feature not in df.columns\"\n",
    "df = df.sort_values(by=sort_feature, ascending=False)\n",
    "df = df[df[\"Length\"] < 500]"
   ]
  },
  {
   "cell_type": "code",
   "execution_count": 51,
   "id": "c97bbe08",
   "metadata": {},
   "outputs": [
    {
     "data": {
      "text/html": [
       "<div>\n",
       "<style scoped>\n",
       "    .dataframe tbody tr th:only-of-type {\n",
       "        vertical-align: middle;\n",
       "    }\n",
       "\n",
       "    .dataframe tbody tr th {\n",
       "        vertical-align: top;\n",
       "    }\n",
       "\n",
       "    .dataframe thead th {\n",
       "        text-align: right;\n",
       "    }\n",
       "</style>\n",
       "<table border=\"1\" class=\"dataframe\">\n",
       "  <thead>\n",
       "    <tr style=\"text-align: right;\">\n",
       "      <th></th>\n",
       "      <th>Sequence</th>\n",
       "      <th>Name</th>\n",
       "      <th>Description</th>\n",
       "      <th>Length</th>\n",
       "      <th>Num_Features</th>\n",
       "      <th>Molecular Weight</th>\n",
       "      <th>Aromaticity</th>\n",
       "      <th>Instability Index</th>\n",
       "      <th>Flexibility</th>\n",
       "      <th>GRAVY</th>\n",
       "      <th>Isoelectric Point</th>\n",
       "      <th>Charge at pH:7.0</th>\n",
       "    </tr>\n",
       "    <tr>\n",
       "      <th>ID</th>\n",
       "      <th></th>\n",
       "      <th></th>\n",
       "      <th></th>\n",
       "      <th></th>\n",
       "      <th></th>\n",
       "      <th></th>\n",
       "      <th></th>\n",
       "      <th></th>\n",
       "      <th></th>\n",
       "      <th></th>\n",
       "      <th></th>\n",
       "      <th></th>\n",
       "    </tr>\n",
       "  </thead>\n",
       "  <tbody>\n",
       "    <tr>\n",
       "      <th>UniRef50_UPI0023E77DCC</th>\n",
       "      <td>MCVVCGVFCMWCVVCVYFVCGGYCVCGVYVAYFVCGVWCILYVVCG...</td>\n",
       "      <td>UniRef50_UPI0023E77DCC</td>\n",
       "      <td>UniRef50_UPI0023E77DCC cytochrome c oxidase su...</td>\n",
       "      <td>387</td>\n",
       "      <td>0</td>\n",
       "      <td>42969.7412</td>\n",
       "      <td>0.196382</td>\n",
       "      <td>12.550646</td>\n",
       "      <td>[0.9619166666666666, 0.922952380952381, 0.9354...</td>\n",
       "      <td>2.273385</td>\n",
       "      <td>7.558301</td>\n",
       "      <td>2.829080</td>\n",
       "    </tr>\n",
       "    <tr>\n",
       "      <th>UniRef50_UPI0037422E0A</th>\n",
       "      <td>MVSNAIIGIVSNAIIGIVDNAIIGIVSNAIIGIVGNAIIGIVGNAI...</td>\n",
       "      <td>UniRef50_UPI0037422E0A</td>\n",
       "      <td>UniRef50_UPI0037422E0A A-kinase anchor protein...</td>\n",
       "      <td>392</td>\n",
       "      <td>0</td>\n",
       "      <td>38139.0669</td>\n",
       "      <td>0.000000</td>\n",
       "      <td>-19.473724</td>\n",
       "      <td>[0.9700833333333333, 0.9729047619047618, 0.991...</td>\n",
       "      <td>1.687500</td>\n",
       "      <td>4.050028</td>\n",
       "      <td>-19.390066</td>\n",
       "    </tr>\n",
       "    <tr>\n",
       "      <th>UniRef50_A0A5K1CRL5</th>\n",
       "      <td>MAKTAFLFSLSLLLLT</td>\n",
       "      <td>UniRef50_A0A5K1CRL5</td>\n",
       "      <td>UniRef50_A0A5K1CRL5 Uncharacterized protein (F...</td>\n",
       "      <td>16</td>\n",
       "      <td>0</td>\n",
       "      <td>1769.1950</td>\n",
       "      <td>0.125000</td>\n",
       "      <td>17.087500</td>\n",
       "      <td>[0.9660833333333333, 0.9730833333333334, 0.962...</td>\n",
       "      <td>1.687500</td>\n",
       "      <td>8.500108</td>\n",
       "      <td>0.499356</td>\n",
       "    </tr>\n",
       "    <tr>\n",
       "      <th>UniRef50_A0A812DJF2</th>\n",
       "      <td>MWVIAGRPMWVIAGRPMWVIAGRPMWVIPGRPMCVIAGRPMWVIAG...</td>\n",
       "      <td>UniRef50_A0A812DJF2</td>\n",
       "      <td>UniRef50_A0A812DJF2 Uncharacterized protein n=...</td>\n",
       "      <td>323</td>\n",
       "      <td>0</td>\n",
       "      <td>39218.4060</td>\n",
       "      <td>0.365325</td>\n",
       "      <td>25.003127</td>\n",
       "      <td>[0.9836547619047619, 0.9785357142857143, 0.993...</td>\n",
       "      <td>1.531579</td>\n",
       "      <td>9.557132</td>\n",
       "      <td>4.749784</td>\n",
       "    </tr>\n",
       "    <tr>\n",
       "      <th>UniRef50_A0A812DVB7</th>\n",
       "      <td>MIYHFCFHFNSAIFFLSLLLSSLFLSFYFSYAFPIHFLFFFILSFF...</td>\n",
       "      <td>UniRef50_A0A812DVB7</td>\n",
       "      <td>UniRef50_A0A812DVB7 Uncharacterized protein n=...</td>\n",
       "      <td>344</td>\n",
       "      <td>0</td>\n",
       "      <td>41555.0557</td>\n",
       "      <td>0.351744</td>\n",
       "      <td>36.572442</td>\n",
       "      <td>[0.9246547619047618, 0.9314047619047618, 0.946...</td>\n",
       "      <td>1.447384</td>\n",
       "      <td>7.534770</td>\n",
       "      <td>1.545642</td>\n",
       "    </tr>\n",
       "    <tr>\n",
       "      <th>...</th>\n",
       "      <td>...</td>\n",
       "      <td>...</td>\n",
       "      <td>...</td>\n",
       "      <td>...</td>\n",
       "      <td>...</td>\n",
       "      <td>...</td>\n",
       "      <td>...</td>\n",
       "      <td>...</td>\n",
       "      <td>...</td>\n",
       "      <td>...</td>\n",
       "      <td>...</td>\n",
       "      <td>...</td>\n",
       "    </tr>\n",
       "    <tr>\n",
       "      <th>UniRef50_A0A8C7MWL0</th>\n",
       "      <td>MKNDRQRQTAPDRARQRQTGPDRARQRQTEPDRDRQRQGQTGPDRA...</td>\n",
       "      <td>UniRef50_A0A8C7MWL0</td>\n",
       "      <td>UniRef50_A0A8C7MWL0 Uncharacterized protein n=...</td>\n",
       "      <td>432</td>\n",
       "      <td>0</td>\n",
       "      <td>50544.0570</td>\n",
       "      <td>0.000000</td>\n",
       "      <td>67.004861</td>\n",
       "      <td>[1.0391190476190477, 1.024345238095238, 1.0280...</td>\n",
       "      <td>-2.260648</td>\n",
       "      <td>11.469844</td>\n",
       "      <td>25.703672</td>\n",
       "    </tr>\n",
       "    <tr>\n",
       "      <th>UniRef50_A0AAZ3RTF0</th>\n",
       "      <td>HRGHNKDQHRGHRGHKDIEDITKINIEDITKIYIEDIEDITKTNRG...</td>\n",
       "      <td>UniRef50_A0AAZ3RTF0</td>\n",
       "      <td>UniRef50_A0AAZ3RTF0 Uncharacterized protein n=...</td>\n",
       "      <td>393</td>\n",
       "      <td>0</td>\n",
       "      <td>47289.5918</td>\n",
       "      <td>0.010178</td>\n",
       "      <td>73.126209</td>\n",
       "      <td>[1.0382500000000001, 1.028535714285714, 1.0277...</td>\n",
       "      <td>-2.298219</td>\n",
       "      <td>10.188857</td>\n",
       "      <td>38.249840</td>\n",
       "    </tr>\n",
       "    <tr>\n",
       "      <th>UniRef50_UPI00200983D7</th>\n",
       "      <td>MAVLLNGNGKDDGLKGDDDGPKGDDDGQRENDDGPRGNDDGPKEDD...</td>\n",
       "      <td>UniRef50_UPI00200983D7</td>\n",
       "      <td>UniRef50_UPI00200983D7 S-antigen protein-like ...</td>\n",
       "      <td>401</td>\n",
       "      <td>0</td>\n",
       "      <td>41294.0079</td>\n",
       "      <td>0.002494</td>\n",
       "      <td>4.868329</td>\n",
       "      <td>[1.003845238095238, 0.9995476190476191, 1.0229...</td>\n",
       "      <td>-2.385786</td>\n",
       "      <td>4.050028</td>\n",
       "      <td>-101.246152</td>\n",
       "    </tr>\n",
       "    <tr>\n",
       "      <th>UniRef50_UPI001E66D2CD</th>\n",
       "      <td>ERQRERETKRERERERERERERERQRETERERQRERERERETKRER...</td>\n",
       "      <td>UniRef50_UPI001E66D2CD</td>\n",
       "      <td>UniRef50_UPI001E66D2CD zinc finger CCCH domain...</td>\n",
       "      <td>386</td>\n",
       "      <td>0</td>\n",
       "      <td>54067.0140</td>\n",
       "      <td>0.000000</td>\n",
       "      <td>20.399741</td>\n",
       "      <td>[1.0293452380952381, 1.0599404761904763, 1.031...</td>\n",
       "      <td>-3.910363</td>\n",
       "      <td>10.582888</td>\n",
       "      <td>17.270444</td>\n",
       "    </tr>\n",
       "    <tr>\n",
       "      <th>UniRef50_UPI001ABDBAD4</th>\n",
       "      <td>EREKKEREREEREREREEREREREEREREERERKREREEREREERE...</td>\n",
       "      <td>UniRef50_UPI001ABDBAD4</td>\n",
       "      <td>UniRef50_UPI001ABDBAD4 trichohyalin-like n=1 T...</td>\n",
       "      <td>478</td>\n",
       "      <td>0</td>\n",
       "      <td>67379.7753</td>\n",
       "      <td>0.000000</td>\n",
       "      <td>101.190795</td>\n",
       "      <td>[1.0737380952380955, 1.0552380952380953, 1.085...</td>\n",
       "      <td>-4.000837</td>\n",
       "      <td>11.023465</td>\n",
       "      <td>86.317066</td>\n",
       "    </tr>\n",
       "  </tbody>\n",
       "</table>\n",
       "<p>8051 rows × 12 columns</p>\n",
       "</div>"
      ],
      "text/plain": [
       "                                                                 Sequence  \\\n",
       "ID                                                                          \n",
       "UniRef50_UPI0023E77DCC  MCVVCGVFCMWCVVCVYFVCGGYCVCGVYVAYFVCGVWCILYVVCG...   \n",
       "UniRef50_UPI0037422E0A  MVSNAIIGIVSNAIIGIVDNAIIGIVSNAIIGIVGNAIIGIVGNAI...   \n",
       "UniRef50_A0A5K1CRL5                                      MAKTAFLFSLSLLLLT   \n",
       "UniRef50_A0A812DJF2     MWVIAGRPMWVIAGRPMWVIAGRPMWVIPGRPMCVIAGRPMWVIAG...   \n",
       "UniRef50_A0A812DVB7     MIYHFCFHFNSAIFFLSLLLSSLFLSFYFSYAFPIHFLFFFILSFF...   \n",
       "...                                                                   ...   \n",
       "UniRef50_A0A8C7MWL0     MKNDRQRQTAPDRARQRQTGPDRARQRQTEPDRDRQRQGQTGPDRA...   \n",
       "UniRef50_A0AAZ3RTF0     HRGHNKDQHRGHRGHKDIEDITKINIEDITKIYIEDIEDITKTNRG...   \n",
       "UniRef50_UPI00200983D7  MAVLLNGNGKDDGLKGDDDGPKGDDDGQRENDDGPRGNDDGPKEDD...   \n",
       "UniRef50_UPI001E66D2CD  ERQRERETKRERERERERERERERQRETERERQRERERERETKRER...   \n",
       "UniRef50_UPI001ABDBAD4  EREKKEREREEREREREEREREREEREREERERKREREEREREERE...   \n",
       "\n",
       "                                          Name  \\\n",
       "ID                                               \n",
       "UniRef50_UPI0023E77DCC  UniRef50_UPI0023E77DCC   \n",
       "UniRef50_UPI0037422E0A  UniRef50_UPI0037422E0A   \n",
       "UniRef50_A0A5K1CRL5        UniRef50_A0A5K1CRL5   \n",
       "UniRef50_A0A812DJF2        UniRef50_A0A812DJF2   \n",
       "UniRef50_A0A812DVB7        UniRef50_A0A812DVB7   \n",
       "...                                        ...   \n",
       "UniRef50_A0A8C7MWL0        UniRef50_A0A8C7MWL0   \n",
       "UniRef50_A0AAZ3RTF0        UniRef50_A0AAZ3RTF0   \n",
       "UniRef50_UPI00200983D7  UniRef50_UPI00200983D7   \n",
       "UniRef50_UPI001E66D2CD  UniRef50_UPI001E66D2CD   \n",
       "UniRef50_UPI001ABDBAD4  UniRef50_UPI001ABDBAD4   \n",
       "\n",
       "                                                              Description  \\\n",
       "ID                                                                          \n",
       "UniRef50_UPI0023E77DCC  UniRef50_UPI0023E77DCC cytochrome c oxidase su...   \n",
       "UniRef50_UPI0037422E0A  UniRef50_UPI0037422E0A A-kinase anchor protein...   \n",
       "UniRef50_A0A5K1CRL5     UniRef50_A0A5K1CRL5 Uncharacterized protein (F...   \n",
       "UniRef50_A0A812DJF2     UniRef50_A0A812DJF2 Uncharacterized protein n=...   \n",
       "UniRef50_A0A812DVB7     UniRef50_A0A812DVB7 Uncharacterized protein n=...   \n",
       "...                                                                   ...   \n",
       "UniRef50_A0A8C7MWL0     UniRef50_A0A8C7MWL0 Uncharacterized protein n=...   \n",
       "UniRef50_A0AAZ3RTF0     UniRef50_A0AAZ3RTF0 Uncharacterized protein n=...   \n",
       "UniRef50_UPI00200983D7  UniRef50_UPI00200983D7 S-antigen protein-like ...   \n",
       "UniRef50_UPI001E66D2CD  UniRef50_UPI001E66D2CD zinc finger CCCH domain...   \n",
       "UniRef50_UPI001ABDBAD4  UniRef50_UPI001ABDBAD4 trichohyalin-like n=1 T...   \n",
       "\n",
       "                        Length  Num_Features  Molecular Weight  Aromaticity  \\\n",
       "ID                                                                            \n",
       "UniRef50_UPI0023E77DCC     387             0        42969.7412     0.196382   \n",
       "UniRef50_UPI0037422E0A     392             0        38139.0669     0.000000   \n",
       "UniRef50_A0A5K1CRL5         16             0         1769.1950     0.125000   \n",
       "UniRef50_A0A812DJF2        323             0        39218.4060     0.365325   \n",
       "UniRef50_A0A812DVB7        344             0        41555.0557     0.351744   \n",
       "...                        ...           ...               ...          ...   \n",
       "UniRef50_A0A8C7MWL0        432             0        50544.0570     0.000000   \n",
       "UniRef50_A0AAZ3RTF0        393             0        47289.5918     0.010178   \n",
       "UniRef50_UPI00200983D7     401             0        41294.0079     0.002494   \n",
       "UniRef50_UPI001E66D2CD     386             0        54067.0140     0.000000   \n",
       "UniRef50_UPI001ABDBAD4     478             0        67379.7753     0.000000   \n",
       "\n",
       "                        Instability Index  \\\n",
       "ID                                          \n",
       "UniRef50_UPI0023E77DCC          12.550646   \n",
       "UniRef50_UPI0037422E0A         -19.473724   \n",
       "UniRef50_A0A5K1CRL5             17.087500   \n",
       "UniRef50_A0A812DJF2             25.003127   \n",
       "UniRef50_A0A812DVB7             36.572442   \n",
       "...                                   ...   \n",
       "UniRef50_A0A8C7MWL0             67.004861   \n",
       "UniRef50_A0AAZ3RTF0             73.126209   \n",
       "UniRef50_UPI00200983D7           4.868329   \n",
       "UniRef50_UPI001E66D2CD          20.399741   \n",
       "UniRef50_UPI001ABDBAD4         101.190795   \n",
       "\n",
       "                                                              Flexibility  \\\n",
       "ID                                                                          \n",
       "UniRef50_UPI0023E77DCC  [0.9619166666666666, 0.922952380952381, 0.9354...   \n",
       "UniRef50_UPI0037422E0A  [0.9700833333333333, 0.9729047619047618, 0.991...   \n",
       "UniRef50_A0A5K1CRL5     [0.9660833333333333, 0.9730833333333334, 0.962...   \n",
       "UniRef50_A0A812DJF2     [0.9836547619047619, 0.9785357142857143, 0.993...   \n",
       "UniRef50_A0A812DVB7     [0.9246547619047618, 0.9314047619047618, 0.946...   \n",
       "...                                                                   ...   \n",
       "UniRef50_A0A8C7MWL0     [1.0391190476190477, 1.024345238095238, 1.0280...   \n",
       "UniRef50_A0AAZ3RTF0     [1.0382500000000001, 1.028535714285714, 1.0277...   \n",
       "UniRef50_UPI00200983D7  [1.003845238095238, 0.9995476190476191, 1.0229...   \n",
       "UniRef50_UPI001E66D2CD  [1.0293452380952381, 1.0599404761904763, 1.031...   \n",
       "UniRef50_UPI001ABDBAD4  [1.0737380952380955, 1.0552380952380953, 1.085...   \n",
       "\n",
       "                           GRAVY  Isoelectric Point  Charge at pH:7.0  \n",
       "ID                                                                     \n",
       "UniRef50_UPI0023E77DCC  2.273385           7.558301          2.829080  \n",
       "UniRef50_UPI0037422E0A  1.687500           4.050028        -19.390066  \n",
       "UniRef50_A0A5K1CRL5     1.687500           8.500108          0.499356  \n",
       "UniRef50_A0A812DJF2     1.531579           9.557132          4.749784  \n",
       "UniRef50_A0A812DVB7     1.447384           7.534770          1.545642  \n",
       "...                          ...                ...               ...  \n",
       "UniRef50_A0A8C7MWL0    -2.260648          11.469844         25.703672  \n",
       "UniRef50_A0AAZ3RTF0    -2.298219          10.188857         38.249840  \n",
       "UniRef50_UPI00200983D7 -2.385786           4.050028       -101.246152  \n",
       "UniRef50_UPI001E66D2CD -3.910363          10.582888         17.270444  \n",
       "UniRef50_UPI001ABDBAD4 -4.000837          11.023465         86.317066  \n",
       "\n",
       "[8051 rows x 12 columns]"
      ]
     },
     "execution_count": 51,
     "metadata": {},
     "output_type": "execute_result"
    }
   ],
   "source": [
    "df"
   ]
  },
  {
   "cell_type": "markdown",
   "id": "93520bb0",
   "metadata": {},
   "source": [
    "### Exploratory Data Analysis"
   ]
  },
  {
   "cell_type": "code",
   "execution_count": 52,
   "id": "5e0d6f1b",
   "metadata": {},
   "outputs": [
    {
     "data": {
      "text/plain": [
       "Text(0.5, 1.0, 'Distribution of GRAVY values')"
      ]
     },
     "execution_count": 52,
     "metadata": {},
     "output_type": "execute_result"
    },
    {
     "data": {
      "image/png": "[encoded data removed]",
      "text/plain": [
       "<Figure size 432x288 with 1 Axes>"
      ]
     },
     "metadata": {
      "needs_background": "light"
     },
     "output_type": "display_data"
    }
   ],
   "source": [
    "plt.hist(df[\"GRAVY\"], bins=200)\n",
    "plt.xlabel(\"GRAVY\")\n",
    "plt.ylabel(\"Frequency\")\n",
    "plt.title(\"Distribution of GRAVY values\")"
   ]
  },
  {
   "cell_type": "code",
   "execution_count": 53,
   "id": "3aa97e4b",
   "metadata": {},
   "outputs": [
    {
     "data": {
      "text/plain": [
       "Text(0.5, 1.0, 'Distribution of Aromaticity values')"
      ]
     },
     "execution_count": 53,
     "metadata": {},
     "output_type": "execute_result"
    },
    {
     "data": {
      "image/png": "[encoded data removed]",
      "text/plain": [
       "<Figure size 432x288 with 1 Axes>"
      ]
     },
     "metadata": {
      "needs_background": "light"
     },
     "output_type": "display_data"
    }
   ],
   "source": [
    "plt.hist(df[\"Aromaticity\"], bins=50)\n",
    "plt.xlabel(\"Aromaticity\")\n",
    "plt.ylabel(\"Frequency\")\n",
    "plt.title(\"Distribution of Aromaticity values\")"
   ]
  },
  {
   "cell_type": "code",
   "execution_count": 54,
   "id": "e511b14d",
   "metadata": {},
   "outputs": [
    {
     "data": {
      "text/plain": [
       "Text(0.5, 1.0, 'Distribution of MW values')"
      ]
     },
     "execution_count": 54,
     "metadata": {},
     "output_type": "execute_result"
    },
    {
     "data": {
      "image/png": "[encoded data removed]",
      "text/plain": [
       "<Figure size 432x288 with 1 Axes>"
      ]
     },
     "metadata": {
      "needs_background": "light"
     },
     "output_type": "display_data"
    }
   ],
   "source": [
    "plt.hist(df[\"Molecular Weight\"], bins=100)\n",
    "plt.xlabel(\"MW\")\n",
    "plt.ylabel(\"Frequency\")\n",
    "plt.title(\"Distribution of MW values\")"
   ]
  },
  {
   "cell_type": "code",
   "execution_count": 55,
   "id": "7ae4a529",
   "metadata": {},
   "outputs": [
    {
     "data": {
      "text/plain": [
       "Text(0.5, 1.0, 'Distribution of Charge at pH:7.0 values')"
      ]
     },
     "execution_count": 55,
     "metadata": {},
     "output_type": "execute_result"
    },
    {
     "data": {
      "image/png": "[encoded data removed]",
      "text/plain": [
       "<Figure size 432x288 with 1 Axes>"
      ]
     },
     "metadata": {
      "needs_background": "light"
     },
     "output_type": "display_data"
    }
   ],
   "source": [
    "plt.hist(df[\"Charge at pH:7.0\"], bins=200)\n",
    "plt.xlabel(\"Aromaticity\")\n",
    "plt.ylabel(\"Frequency\")\n",
    "plt.title(\"Distribution of Charge at pH:7.0 values\")"
   ]
  },
  {
   "cell_type": "markdown",
   "id": "e8ea251b",
   "metadata": {},
   "source": [
    "### Analyze Model Weights"
   ]
  },
  {
   "cell_type": "code",
   "execution_count": 56,
   "id": "1a644d4e",
   "metadata": {},
   "outputs": [
    {
     "data": {
      "text/plain": [
       "ESM2(\n",
       "  (embed_tokens): Embedding(33, 320, padding_idx=1)\n",
       "  (layers): ModuleList(\n",
       "    (0): TransformerLayer(\n",
       "      (self_attn): MultiheadAttention(\n",
       "        (k_proj): Linear(in_features=320, out_features=320, bias=True)\n",
       "        (v_proj): Linear(in_features=320, out_features=320, bias=True)\n",
       "        (q_proj): Linear(in_features=320, out_features=320, bias=True)\n",
       "        (out_proj): Linear(in_features=320, out_features=320, bias=True)\n",
       "        (rot_emb): RotaryEmbedding()\n",
       "      )\n",
       "      (self_attn_layer_norm): LayerNorm((320,), eps=1e-05, elementwise_affine=True)\n",
       "      (fc1): Linear(in_features=320, out_features=1280, bias=True)\n",
       "      (fc2): Linear(in_features=1280, out_features=320, bias=True)\n",
       "      (final_layer_norm): LayerNorm((320,), eps=1e-05, elementwise_affine=True)\n",
       "    )\n",
       "    (1): TransformerLayer(\n",
       "      (self_attn): MultiheadAttention(\n",
       "        (k_proj): Linear(in_features=320, out_features=320, bias=True)\n",
       "        (v_proj): Linear(in_features=320, out_features=320, bias=True)\n",
       "        (q_proj): Linear(in_features=320, out_features=320, bias=True)\n",
       "        (out_proj): Linear(in_features=320, out_features=320, bias=True)\n",
       "        (rot_emb): RotaryEmbedding()\n",
       "      )\n",
       "      (self_attn_layer_norm): LayerNorm((320,), eps=1e-05, elementwise_affine=True)\n",
       "      (fc1): Linear(in_features=320, out_features=1280, bias=True)\n",
       "      (fc2): Linear(in_features=1280, out_features=320, bias=True)\n",
       "      (final_layer_norm): LayerNorm((320,), eps=1e-05, elementwise_affine=True)\n",
       "    )\n",
       "    (2): TransformerLayer(\n",
       "      (self_attn): MultiheadAttention(\n",
       "        (k_proj): Linear(in_features=320, out_features=320, bias=True)\n",
       "        (v_proj): Linear(in_features=320, out_features=320, bias=True)\n",
       "        (q_proj): Linear(in_features=320, out_features=320, bias=True)\n",
       "        (out_proj): Linear(in_features=320, out_features=320, bias=True)\n",
       "        (rot_emb): RotaryEmbedding()\n",
       "      )\n",
       "      (self_attn_layer_norm): LayerNorm((320,), eps=1e-05, elementwise_affine=True)\n",
       "      (fc1): Linear(in_features=320, out_features=1280, bias=True)\n",
       "      (fc2): Linear(in_features=1280, out_features=320, bias=True)\n",
       "      (final_layer_norm): LayerNorm((320,), eps=1e-05, elementwise_affine=True)\n",
       "    )\n",
       "    (3): TransformerLayer(\n",
       "      (self_attn): MultiheadAttention(\n",
       "        (k_proj): Linear(in_features=320, out_features=320, bias=True)\n",
       "        (v_proj): Linear(in_features=320, out_features=320, bias=True)\n",
       "        (q_proj): Linear(in_features=320, out_features=320, bias=True)\n",
       "        (out_proj): Linear(in_features=320, out_features=320, bias=True)\n",
       "        (rot_emb): RotaryEmbedding()\n",
       "      )\n",
       "      (self_attn_layer_norm): LayerNorm((320,), eps=1e-05, elementwise_affine=True)\n",
       "      (fc1): Linear(in_features=320, out_features=1280, bias=True)\n",
       "      (fc2): Linear(in_features=1280, out_features=320, bias=True)\n",
       "      (final_layer_norm): LayerNorm((320,), eps=1e-05, elementwise_affine=True)\n",
       "    )\n",
       "    (4): TransformerLayer(\n",
       "      (self_attn): MultiheadAttention(\n",
       "        (k_proj): Linear(in_features=320, out_features=320, bias=True)\n",
       "        (v_proj): Linear(in_features=320, out_features=320, bias=True)\n",
       "        (q_proj): Linear(in_features=320, out_features=320, bias=True)\n",
       "        (out_proj): Linear(in_features=320, out_features=320, bias=True)\n",
       "        (rot_emb): RotaryEmbedding()\n",
       "      )\n",
       "      (self_attn_layer_norm): LayerNorm((320,), eps=1e-05, elementwise_affine=True)\n",
       "      (fc1): Linear(in_features=320, out_features=1280, bias=True)\n",
       "      (fc2): Linear(in_features=1280, out_features=320, bias=True)\n",
       "      (final_layer_norm): LayerNorm((320,), eps=1e-05, elementwise_affine=True)\n",
       "    )\n",
       "    (5): TransformerLayer(\n",
       "      (self_attn): MultiheadAttention(\n",
       "        (k_proj): Linear(in_features=320, out_features=320, bias=True)\n",
       "        (v_proj): Linear(in_features=320, out_features=320, bias=True)\n",
       "        (q_proj): Linear(in_features=320, out_features=320, bias=True)\n",
       "        (out_proj): Linear(in_features=320, out_features=320, bias=True)\n",
       "        (rot_emb): RotaryEmbedding()\n",
       "      )\n",
       "      (self_attn_layer_norm): LayerNorm((320,), eps=1e-05, elementwise_affine=True)\n",
       "      (fc1): Linear(in_features=320, out_features=1280, bias=True)\n",
       "      (fc2): Linear(in_features=1280, out_features=320, bias=True)\n",
       "      (final_layer_norm): LayerNorm((320,), eps=1e-05, elementwise_affine=True)\n",
       "    )\n",
       "  )\n",
       "  (contact_head): ContactPredictionHead(\n",
       "    (regression): Linear(in_features=120, out_features=1, bias=True)\n",
       "    (activation): Sigmoid()\n",
       "  )\n",
       "  (emb_layer_norm_after): LayerNorm((320,), eps=1e-05, elementwise_affine=True)\n",
       "  (lm_head): RobertaLMHead(\n",
       "    (dense): Linear(in_features=320, out_features=320, bias=True)\n",
       "    (layer_norm): LayerNorm((320,), eps=1e-05, elementwise_affine=True)\n",
       "  )\n",
       ")"
      ]
     },
     "execution_count": 56,
     "metadata": {},
     "output_type": "execute_result"
    }
   ],
   "source": [
    "# Load ESM-2 model\n",
    "model, alphabet = esm.pretrained.esm2_t6_8M_UR50D()\n",
    "batch_converter = alphabet.get_batch_converter()\n",
    "model.eval()  # disables dropout for deterministic results"
   ]
  },
  {
   "cell_type": "code",
   "execution_count": 57,
   "id": "b66fced6",
   "metadata": {},
   "outputs": [],
   "source": [
    "def get_features(data, model):    \n",
    "    batch_labels, batch_strs, batch_tokens = batch_converter(data)\n",
    "    batch_lens = (batch_tokens != alphabet.padding_idx).sum(1)\n",
    "\n",
    "    # Extract per-residue representations (on CPU)\n",
    "    with torch.no_grad():\n",
    "        results = model(batch_tokens, repr_layers=[6], return_contacts=True)\n",
    "    token_representations = results[\"representations\"][6]\n",
    "    # Generate per-sequence representations via averaging\n",
    "    # NOTE: token 0 is always a beginning-of-sequence token, so the first residue is token 1.\n",
    "    sequence_representations = []\n",
    "    for i, tokens_len in enumerate(batch_lens):\n",
    "        sequence_representations.append(token_representations[i, 1 : tokens_len - 1].mean(0).numpy())\n",
    "    results['sequence_representations'] = np.array(sequence_representations)\n",
    "    # Look at the unsupervised self-attention map contact predictions\n",
    "    # import matplotlib.pyplot as plt\n",
    "    # for (_, seq), tokens_len, attention_contacts in zip(data, batch_lens, results[\"contacts\"]):\n",
    "    #     plt.matshow(attention_contacts[: tokens_len, : tokens_len])\n",
    "    #     plt.title(seq[:10] + \"...\")\n",
    "    #     plt.colorbar()\n",
    "    #     plt.show()    \n",
    "    return results"
   ]
  },
  {
   "cell_type": "code",
   "execution_count": 58,
   "id": "3ce6193f",
   "metadata": {},
   "outputs": [],
   "source": [
    "def get_representations(data, model, layers=[6]):\n",
    "    batch_labels, batch_strs, batch_tokens = batch_converter(data)\n",
    "    batch_lens = (batch_tokens != alphabet.padding_idx).sum(1)\n",
    "\n",
    "    # Extract per-residue representations (on CPU)\n",
    "    with torch.no_grad():\n",
    "        results = model(batch_tokens, repr_layers=[6], return_contacts=True)\n",
    "    token_representations = results[\"representations\"][6]\n",
    "    # Generate per-sequence representations via averaging\n",
    "    # NOTE: token 0 is always a beginning-of-sequence token, so the first residue is token 1.\n",
    "    sequence_representations = []\n",
    "    for i, tokens_len in enumerate(batch_lens):\n",
    "        sequence_representations.append(token_representations[i, 1 : tokens_len - 1].mean(0))\n",
    "    results['sequence_representations'] = sequence_representations\n",
    "    return token_representations"
   ]
  },
  {
   "cell_type": "code",
   "execution_count": 59,
   "id": "a701ae35",
   "metadata": {},
   "outputs": [
    {
     "data": {
      "text/plain": [
       "([('UniRef50_UPI0023E77DCC',\n",
       "   'MCVVCGVFCMWCVVCVYFVCGGYCVCGVYVAYFVCGVWCILYVVCGMCVFCVWCALFVSHILCIVCGVCVACGVWCILCVVCVGCGVSIFSCVVCVRCVVCIYFVFGVHCVCGVCVVYFVCGVWYVCGVWCILCVVCGVFCVWHVWCVVCVVCGVFRVWCILCVVCVVYFVCGVWCISCVVYFVYSVCGVFCVWCVVYFVCGVFCVGVFCVWCVVYFMCGVFCVWRVWCILCVVCGVFCVQCVWCILRVVYVACGVWCVVYSVCGVFCVWCVVYFVCGVCGVFCVWCISCVVYFVCGVCDVFCVWCILCVVCVVYLVCGVWCISCVVYFVCGVCCILCVVCGVFRVWCILCVVCVVYFVCGVCGVFCVWYVVYFVCGVCMWCAAYGV'),\n",
       "  ('UniRef50_UPI0037422E0A',\n",
       "   'MVSNAIIGIVSNAIIGIVDNAIIGIVSNAIIGIVGNAIIGIVGNAIIGIVDNAIIGIVDNAIIGIVSNAIIGIVDNAIIGIVDNAIIGIVGNAIIGIVSNAIIGIVGNAIIGIVGNAIIGIVDNAIIGIVSNAIIGIVDNAIIGIVSNAIIGIVDNAIIGIVSNAIIGIVDNAIIGIVSNAIIGIVDNAIIGIVDNAIIGIVSNAIIGIVDNAIIGIVSNAIIGIVGNAIIGIVGNAIIGIMDNAIIGIVSNAIIGIVGNAIIGIVDNAIIGIVSNAIIGIVDNAIIGIVSNAIIGIVDNAIIGIVSNAIIGIVGNAIIGIMDNAIIGIVSNAIIGIVDNAIIGIVSNAIIGIVDNAIIGIVSNAIIGIVGNAIIDTVGIVLSPSVRALIIH'),\n",
       "  ('UniRef50_A0A5K1CRL5', 'MAKTAFLFSLSLLLLT'),\n",
       "  ('UniRef50_A0A812DJF2',\n",
       "   'MWVIAGRPMWVIAGRPMWVIAGRPMWVIPGRPMCVIAGRPMWVIAGRPIRIFVFSLFALHFFLSFFLSFFLSFFLSFDPYLRWSVFLSFFLSFFLSFFLSFDPYLRWSVFLSFFLSFFFLSFDPYLRWSFFLSFFLSFFLFFFLSFFLLIHGLSFFLSFFLSFFLSFFLSFDPYLRWSMVFLSFFLSSFFLSFFLSFTLSLVFFLSFFLSFFLSFFLSFFLSFDPYLIFSYFFSFFVFHSLIFSFILSFFISFFFLSFFFLSFFLFISLFIVFLFLSLVSFLASAFFLSLYISLYFSFSFFLPFNLFYLSIYLSIYLSIYLSD'),\n",
       "  ('UniRef50_A0A812DVB7',\n",
       "   'MIYHFCFHFNSAIFFLSLLLSSLFLSFYFSYAFPIHFLFFFILSFFFFGSFIYFLIYALSYFFLSYFLFILFSFCFFLSLIPFFLSFLLFIHSFFFLSFCFFLSFIPFFFFLTFFSSLIPDLLLYSQGLYISSCFFFCIFICTIVCQFFFFFFFFIFFFFFFFFCFFIHLQILSSSFFISFFFIPPFFHSFIFLSKFHLVLHFFRSFLFFFLSFFLSFTLFINFFNALFLFFILFLPLISSSSPFSSHSFTLFHNLLISKFFRSLFCCCCCCCCFYSFFHFSSIFLIPSISTNQQIKPFPTPPHFVPGSTHLLFLFFNIPSTTTGLFLEPICNDQPFATIFHDP'),\n",
       "  ('UniRef50_UPI00360E79D8',\n",
       "   'MPLADADRAACLFAVAVSDLPAAARAAPRLAAAVVAAADFAAALRVPAVRVAADFAAAVLVAADFAAADLVAADFAAVVLVAADFAAAVLVAADFAAVVLVVGLVAVPPVVVDRAIVAVLAAIVLALAARVAAVVFAVFPAAVIPVAFLVLFAAVPILAADALALAAVAVLAVAVFAAGAFAVALAAAAFVVAFAAAAFVDAFAAAAFVVAFAVAVFVVALAAAFLAVAAPALVVFAAPVALAAAARARVAALPAALAAAAAAFFISGSGLTVGIPLIEPIVVSMSPVRLRRPTLPPAERTPDSVGSSRSGAGGIESSMSAAGVGSGGIVADIIPGIGLSAAAARREVTGRRLMAGRAALRTADAALLGEVGLGTAGRVVVVVRMAAWRAAPAVPRFATGFAAADFETARWGEACFETAC'),\n",
       "  ('UniRef50_A0A562VEW1',\n",
       "   'MDDRTGIAVRRATIAPPAPVASVVAMTVARVAVSVTVMTAVRALVVSVVVTIAVPVGASVTATIVAPVRVVGSEAAMTVAPVAVSVTVMTAVRALVVSVVVTIAVPVGASVTVTIAVRARVAASVTVMTVARVPVVSVAATTVALVVSATTVAPVPAVGSATAMTAVPVRVVASVVAMTAVPVGASVTVMTVAPVPVVSVAATTVVPVAASATATTVAPVPVVSVTVMTVVHAPVGASAIVMTAARVPAVSVTATIAVPVPAGSATAMTVARVRVVLGAVTIAVLVAVSVTVTTVARAPVGSEVAMTVAPVAASATVTTVARAPVGSAMPARWSIPTAT'),\n",
       "  ('UniRef50_A0A9X1P432',\n",
       "   'MTALVALGGIFALAVVGMPIAFVLLAMATALIVSLNLPLMSAVQHMVAGIDSFILIAVPCFVLAAKLMNAGKITDRIFTLAGAFVRHVRGGLAHVNILASLIFSGMSGSAVADAAGLGEIEVRAMRKAGFDGPFAAAITAASSVIGPIFPPSVPFVIYAGLASVSVAKLFLAGAVPAILMALMLGIAAYAISVRRNYPTERRATFKELLSAFAAAFWPLLSPVFVVGAIVFGITTPTEAAVIAVLYSLILGLVYRTIRLADLPRILVETAVESGVLLFIVATVAVFSWTITFERIPQDVMEAVFSLSSSPSVVMALVIAVMLLLGMFMNPTPGLLIATPFMLPLASAMGIDPIQLGVVMVLTLAIGLVTPPIGICLFIVCRVARVDVGAVVRECLPFIVALIVVAILVAYLPALTLWLPEVFFGD'),\n",
       "  ('UniRef50_Q2FKT2',\n",
       "   'MIAVLYPVVAMVILLLQLLLRTHRSLSLLGVIHPVISLIITLYFIVSPGIWDDSPFFLIDHMSLFVMLTTSIIFAAAALYAVGYIDGLVRSGDLEKRSLRIFYFGFSFLLAATTMAIFTPNIALFWICAELTTVLSAVLIAILALKATIDASLKYIFICSTSMLFSFIGIIFLFEAVRNKTGVGSLLWTEIVDEAAGLDSGMVFIAFVFFFIGFAAKSGIVPFHTWLPLAHAKAPSAVSAVLSGAILNIGMYGILRMTGIMKETGVFGQVSVLLIVFAMITISVACLSMLRQKKLKTLIAFSSIENMGFILLGIGIGSPVALFWALFHMLSHSCIKAGLFFSAGILHRQYKVPTRTGEDEIGDLLLLQPFAAVTVMAGCAALIGMPLFPLFLSKVGILLAAAAISVWIPAIVLLLFACAGVALLRFYLPVMAVRFPAGEGPVPYTAPLSMKVPIVLLLLLSIMIGTVMIPGEEAFLAAAVADLGFGVQL'),\n",
       "  ('UniRef50_A0A5B0DVB1',\n",
       "   'MDFLASIDPIILGSLGLVLVVVLIMLGIPIALSIFAVGFFGQAIFFDLERAAGQLYHAFAGKGMDLLLGSIPLFVFMGQLISKSRIGQDLYDCVYRWTGHMPGGIAITGVVSGAGFGAVTGVSGAAVATMATITMPEMERYRYDLRLGAGAIASSSALAILIPPSLLMILYGIATDSSIGDLFIAGIFPAILLTISYALYIVVVAKISPERAPRGPSFSWEERFKSLVGLLPIVVIFTLLMGGIYSGAFTPSEAAGVGSVVVLLYLMVTRRLTLRTLFEATTDSIRLTAMVFLIFVSVTLLSSFLVLTGVLDAFISLASDTDVPAIFIILFFVLLYLILGMILDGIGMMLLTLPVTFPIVMALGYDPIWFGIIVTILVEVGLVTPPVGLNCYILRQVYPKVSLKDIFIGVIPFFLITMIWVFVFVFFPESITWVLGR'),\n",
       "  ('UniRef50_C7LTW5',\n",
       "   'MEIFRRWMSAVFSDTQLVILFLVLVVSVAIVLSVGNLLAPVIASVVISFLLDGLVRFLVRFRWPRMLVVVLVFGLFMLFLAVMILALVPLLVSQITDLIDNIPWIISKAQNALTHLPRQYPILTEAQVQTVVDSLTVQFSQYGQQVLAFSLSSVRSVFSFVVYMVLMPIMVFFFLKDKDVILDWLCGFLPQDHTLASTVWMDVKTQAGNYVRGRIWEVLIVWGATYASFLFFGLDYAMLLSLLVGLSVIIPYIGAVVVTVPVLIIAYIQWGFDAQFTWTMIVYLVIQLLDANLLVPLLLSGAVNLHPIASITAILIFGGIWGFWGVFFAIPLASLVQSVLGVWKLRRGCVVGES'),\n",
       "  ('UniRef50_A0A2C2V413',\n",
       "   'MEHVGLYLPFILMFVFMAMGMPIAFAVGISGALGIYLVSGGSALMGVLQSTPYHEVSKYLLVSLPIFVFFAEVISQTSLVNKIFDAARVWTRRIPGGMVISTVLASAGLGSITGSSTGTAAFVAKAAIPEMRRLGYDIRISLGTVSSAGAIAILLPPSLALIMYGIIANQSISNLFLAAIVPAIIQVILYISLIIWKAKKKPELFAPMEEVTKGEGWKHFVNLLPILLVITLIFTSIYTGMLTIVESAAFGAILIIAISFFNGLTIRKLGKAAIETVQIASMLFFNLIGAIIFGYYITMTQVTQKLVNLISSMDANRFVILALILSVFFVLGFFMEQVIILVVAVPLVYPLIESLGFDLIWFGIVATVMAEIGMIHPPLGLNVFVATAVSGTKIEDGFAGVWGYVGACLVLIALLIIFPNIAIWLPSIL'),\n",
       "  ('UniRef50_A0A365U5U5',\n",
       "   'MLALSLGSVILFGLLTGSLLGVVIAASGLAVLQFEFNGNFSVLGNATWNLFNSFTFTAVPTFILLGEILGQSGLARRIYGAISPGFERMPGKLLQTNIGACTVFSAISGSSTATTAVVGSIAYDEMRRRGYDRRAIVGSIAAGGTLGILIPPSIALIVYGAWQNVSVGALFIAGILPGLLLAGLFMLYIAARAALRPGTVPTAGEVMPWGRALIASAEAWPFVILVFAILGTIFLGLATPTEAAALGVVTAILLAALYGEFTPGRLWAALQATVRTFSALALVIVGALVLSQAVALTGLPQKLVLMVGEAGLPPPVVLTLIYALYLVLGCFFGPVEMLLITLPFVFPLVTGLGYDPVWFGIVLVIVIEIGLLTPPLGINLFVAMAVSRNEVSLGEAALACLPFWLLMLAALALITLFPQIALVLPQAAGFG'),\n",
       "  ('UniRef50_A6ETG2',\n",
       "   'MNGLHKKLQKGLLWSVVQVVVKRVFDLFVKLILLNILFPEDFGLIGIAAAITAIVYVVAEFGLKDALIQRKKQVLKDLHYQSIFWWSLLWALFIFAFVYFVITPLAVVFYNEPLLYKIIPILTLPVITQALTLVYRVKMLRALNFKVLAIFNSIASIIAGIIAIVVALKGWGFWSLIFYILIPYFITLPLFLLLIPWRPKFVFNYAFFKQIVTFGIYTFGTALVITISLNIDYLLIGRLISIELLGVYNVSFMLTLLVFKQVTSMIDRVLFPFYSKIQGSIPLIKNYYLTSIKYYTILLAPVMLSFIVLSTPIVKFFIGIKWIASVTSLRILAVAVLINLLTHGCTIVFRSIGKPKLELQILIAVLFFVTVPGIYVGSAHGINGVALAMLLSSVVNALICLYFLHRELKIRLLDILIELKAPITGFFVALFVVLPVYLLFSFNVTLLLALIIVVYGVVLHYFYKKEIKQFINKTLMSKNELE'),\n",
       "  ('UniRef50_D6GUV2',\n",
       "   'MALDIIIQILIILAVSMVIGEIFEQLKFPSIVGYLIAGLIIGPFFLDVISINSSLQTLSSLALFFIIFLLGIEMKTEYVIKYLKPGIKMVIPSFVLPLILAIALSTTLFSFGIKADLIVSLSIAVPSISIISVLIMKYRLERDSKGVTIISSVIITDTLAFILLGMTYKNFLDAILMIVYFTVFLLIFVNIDKVLNKGKKKFRMHLTRSRAILKSEHFGYGVIIIIGLLVGVISQLIGINYIIGVFFAGLIIHEGLIGRKLFGKIRKTLKRMNDGFFIPIFFGIAGIEVSSFQIIKNIVIQIVIISFAVIFFSLILNFYFSGRVMRIKNKKVKRKVSAIINGRGAVGIAIATVGLSIGVITEQAYSVAILATIIISIIATSFLRGS'),\n",
       "  ('UniRef50_A0A945ETN6',\n",
       "   'MKRLLKSDIVTVGLAIFSMLFGAGNLIFPIGVGLNSGIHIIFGMAGLLLSAVVLPLIGLIAMILFNGDYRSFFDRIGRAPGSLLLLACIVVVGPGLAIPRIVSVSYEMMSPFLPAMPIYVFALIFLGITFLLTFRESKIVDVLGKYISPALLTALVIIIVRGLWTAESVVPTTGTPGTLFTQSFMKGFGTLDLLGSIFFCSIILLLLREKLGEKGRSDQKKLALLGLKAGGLGIILLGLVYIGMGLLGAFHGHGLDGNLGQLFSLVSFRILGSYGAFIIGVAVLMACFSTSIALSAVVAEYVERDIFNKRINFVTSLTIVLLLCIPLSIYGLDRVLEITAGSIVMIGYPIIIALTFCNIAYKWFGFKLVKGPVAAVGIFAFISYNWSTISTLF'),\n",
       "  ('UniRef50_A0A937PH46',\n",
       "   'MFSSFAIKDFRIYLIGMFVSLCGTWIQSMAQNWLVFELSNSSFLLGLVGFMSFSPILLFSLFSGVLVDRFNKRKLLLLTQVSFMLLALSLAILTQFNLITVNFILVISLIHGIILSLDAPARQAMVFDLVGKQKILNAVALNSIAFHSARMIGPALAGIFVAIISIAGCFYLNAVSFLSFIIALCIIRPKHNVNHNNNHFLQDLKSGLNFIKNNRIYLILISIVGTISLFGFSYVILLPVFAKTILNLGIKGYGLLMSASGVGSLLGGLMLASLKKPSHQPKILIFSLYIFAFSLVIFSLSKSLIISVLILALAGFSSLSSLAIINSLIQIMVPNEFRGRIMSIYMLTFAGTIPFGSLLAGSLAQSIGVSSTLLIFGSVCLVLFLPLSKKIINNTKLIFP'),\n",
       "  ('UniRef50_A0A498H3K0',\n",
       "   'MEGIAIGLGLCLILALVSRSLSLPPIPFYILGGLAIGRSGLCLVEPTAISDYFTGLGLIFLLFYVGLELKPGELLQQRASILQIGFVDLQINLVVGFIAALALGFSLVESLVVAAAFYVSSSAIAFAHLIENRRVILRETETIVWLMLVEDMVLILIILLLHAGETSPIAILTGTVFLAGLFAAISQWGKDLIGGLLDRDDELPVLLTFSAVICSAFFASTVGIPEAIVVIALGAALAATSPTLLERHAKPFRDVFLALFFVFFGISVDFASSPGIVPIAALSILAIASKLISGVIIGRMTHGSSTAGIVIGSVSIARGEFSIILAALYGSAMVSSTIAALVITTSVAGSFAAQYSHLLKKHWTRFHSRHALTGIPSLLP'),\n",
       "  ('UniRef50_A0AAV6DHU6',\n",
       "   'MGWAATTNYTNHAAVLPLLMAELGFGPVGAGFLSTAFFVTLGVACVPAGIWCDRRGPTGVGTAGLLMVFASNLLLGASRGLPDLVVIKVLGGLGCALAFVAGMRYAALVVPPARVPRALGFYGGFVQLGGGTSLYLVPVLATRLGWRPAFVVSSVLVALSTVAWWALAPPVRPTAAATPLAEATRSRRVWTLGLVHAATFGLAVLTGIWITTFLVHEFGLTLVRAGAAGSGILALGVLSRPLGGLVVDRGRLSAAAVMRLTVLTGAIGLLVLAWPGRPLAAAALAIGVLGVAFNAPYAAVMQTTASALPRAPGAAVGLVSGVGVISIAAGAPAVGALLAATGGFALPLLLLAVYSFAVLWALSTV'),\n",
       "  ('UniRef50_A0A0H5NJL1',\n",
       "   'MVNIVYHRSTVGTARVVLFVTCAAQFLVVLDGLIVTIALPDMARDLGLSAAGQQWVLNGYLLTFGGLLLLAGRAGDVFGHRRVFLYGAAVSTVAVLVAGVAGAAWLLIAARFAQGVGAAALAPSTLSLLVTTFAEPERRRHAVAIWAAVSATAGVLGFVLGGAITALLGWRWVLLVNVPLGVVVLATAAVGLPVVRPVERARLDVTGAVAVTGGAGALILGLAHAAEHGWGTARVLLALSAAVILFGLAVVVEQRVPAPLLPLPVLGRRGVATGVAIMALFGGVMNATVYFLSLYHQQVLGYGPLRTGAALLPMSAVILVGSLASRTLLPRCGARLLVVAGSLVAAVALVWMARLPESPGYVVHVLGPTMVWAAGVGVLTMPIVELVTGAVGPQLAGLGSGLVNMARHVGGAVGLAGLVTVVGTVADGGGSAVRGYNAALLVAAGLAAGMAVLGLLTEDR')],\n",
       " [('UniRef50_A0A9P1N5U3',\n",
       "   'MNLQIIGGNVEKLVEKWRIERGGGEKTAKTASLAPKWIPFGKKAKQVQQLDKNFKANQVLPKNEIDETTDFAKNREEVLKNLGDDKKDQKVFSRPNVEVPLPQIQKTVPQNKPKKNTEDNNINKKKQRRGRKNSEDDDTPLPDYVKPGAAPTLFDFIGATTGLEDEIKNIQITRQQNTPRGNRSEPQNFSSGNRNSHGPREKQENPRGNFGNNPRKKRNDQRTSTSGNSENPTSSGFRGNRNDGLGKPNNFQENRQQQQKFPEKKREDQQRGNSSRVENNQQNRNNKAQNYQHQDKYPNRNQNFASNQGSGRSDVAGNQGNRQQGNRQQQQQYGNQQNRDVSNRNTQNQRVAQSHHQPAQSTFNPNQQPPRPSVWQIGSQCMAPWEDGRIYPAQIMNILPNGTCVIRYTEYGNITEIPLDFLMYC'),\n",
       "  ('UniRef50_A0A8R1I5N1',\n",
       "   'MRLLTVALLSLILLTVITDASRRPRKLKSCRRRPKNYNVDDEGNQEKDEEGVDRNKEIQKDVEGEDDLAENESGSNSKLATGRHGHGHGHGKGSKGCRHGNHGRSRNYGTQRRGYDDEEDGADNDGANEMKGSESDSNSTSGSTSRRHGCRKRSRGGKGCRRGSSGGKDSDDSSKHSGGRHGLPGRHGSPGTRGGDGRDGNDNDDEYSTVKKWNSLEEKTHRQTPRQSETSKSTVGTEVITTRMKAEMKFAKMLLILTLSLTPKPTPRGNGGHNKPRGGSGGRQGSSGHGGKNSDDNDSGNSPKHSGGHHGGHNKPRGGRGDRHGSSSLGGKDSNDSPKHSGGHHGSSGHGIQESDDSPKHSGDGHGVKKPKHENGNGGHRTRNSEPDNGKILHIANV'),\n",
       "  ('UniRef50_A0A821NW02',\n",
       "   'YIYIFYLAGFESRDDRRHPLGNNNNRSDNRFRQGGRRDNNSYNQQETFQNVTDGYDVDGYNNESLNERNYRSSTSGKTRERHHSYNQQQKVPNDDVFLASDTPASNEDTIDQTNNDQSTTIVRQQSRNWADCPIDETIIEPSPPPSANNTFTSDDFQVVRNKTVKSRTNQQSSSSSSRSMGGNQFTRNRNNGNHHRGGTSQMVGGRNYYEQFPMQYINHPQQFYHQQQPPSQIHMGLSYRMNNNNNNNNNNNNNNRHQPSSGSRQRLNSNRSNNSRNYNDNNGPIKNETSDNSNDINNNSVPSENRPRLRLLPRSQKLSSSTDDNQTPEPTTRNPSIFGSGKPRDEHDPKLAELNKHIEEVVEKEQHVPRIKSTPSNGSIDVVAK'),\n",
       "  ('UniRef50_A0AAU9SXW0',\n",
       "   'MVRSSPRRGQRSKGLKVKHCVQLTLLLGLGIWLIYQMKHSHEKKAVFEESAKIVAGDKVVTLGRKDLLDPRVEETTNVKDDEGSKSHESFNESVEREEERGEEKANDEKETDEGTGSEESDKVVDESEGGNETSSEEAREKNYKGDDASSEVVQEKKVGVEEDSKSNATESENSVSFHEDESGPKTEELKDSVVKNISSNATEDSGEISSDDGEQQERNETKTESESVVLEKGFSDSNGELPESHQTSSNATEKTSDGDESGKSTGYQETKNEEDEQEKVQSSELSSQDESKNKESEDKDKEQSSSEEVSKEQEEPSSQKESKEEESEKEVKEESSSQEENENKEAEQKENEESSDSKLKENTNNEKKIEQVESTNFSKTDESKSESVSVINETKPDTSKTESEKEENNKSGETEETQTDQDHSKSTSDKSVPQDVKDAGTDLKTLPEASNGLTNDKVAAE'),\n",
       "  ('UniRef50_UPI002FD0C4B4',\n",
       "   'MGDKKSPTRPKRHAKPSADDGFWDCSVCTFKNSAEAFKCSMCDVRKGTSTRKPRINSQLVAQQVAQQFATPPPPKKERRERGERGDRHDPHDPDDDHLDTDHSDSDRLSSVHPDSDTSETPRPSHGPRSDTSETPRPSPRIMDDRPPPALQHRMDDRAPPPPLPPPLHQRMEDRPPPHRMDERPPHRMEEHGERERERERERERRLERLGLERGREVGRGRQSDQDRDRERDRNQDRQLSERERERERAWPGRDSPPPLPVPVGLDKARANRPAHNMLHQDHRRSSAGSDGPGEAEGDSGCPVREQLRRDKAERDKAERDKAERDKAERDKAERDKADNEPDKHSSNAAKGGAGAIKKPTAKKTKPRLANKGLPSEKNSVKSGKAAGKKNNRLISRPRLKNIDRSSAQQLAITVGNVTVIITDFKEKSRSTSTSSSTVTSSVGSDQQNPTSGSESNDRGSSRASTPRGELAARHEEAL'),\n",
       "  ('UniRef50_A0A9J6CGN4',\n",
       "   'MRPSKPKDLKEKSRTPSPSKDDKILPSDGTKHVEPEKLLTKDEPSKPKDLKEKSRTPSPSKDDKILPSDDTKHVKPEKLLTKDEPSKTKDLKEKSRTPSPSKDDKILPSDDTKHVEPEKLLTKDEPSKPKDLKEKSRTPSPSKDDKICQRICHSFTKQEKVIHEVTTVIKEHVEKSLFDEPKKENHVCVRDKPKDLKEESRTPSPSKDDKIMPSDDTKHVEPEKLLTKDESSKPKDLKEKSRTQSPSKDDKILPSDDTKHVEPEKLLTKDEPSKPKDLKEKSRTPSPSKDDKILPSDGTKHVEPEKLLTKDETSKPKDLKEKSRTPSPSKDDKILPSDDTKHVEPEKLLTKDESSKHKDLKEKSSTPSPSKDDKILPNLKEKSRTPSPSKDDKILPSDDTKHVEPEKLLTKDEPSKPKDLKEKSRTPSPSKDDKILPSDDTKHVEPEKLLTKDEPF'),\n",
       "  ('UniRef50_UPI0012DD7ED4',\n",
       "   'MPPGAMEPNQTQRRDAPGGHGTKPDSEEEGCPQGPWNQHGTKPDSEEEGCPPVAMEPNQTQRRRDAPGGHGTKPDSEEGCPQGPWNQTRLRRRDAPRGHGTNMEPNQTQRRRDAPRLPWNQTRLRGGGMPPGAMEPNQTQRRDAPRGHGTRQDSGGGGMPPGAMEPNQTQRRDAPRGHGTKQDSGGGGMPSGAMEPNKTQEEEGCPQGPWNQTRLRGGMPPGAMEPNQTQRRDAPGGHGTKPDSEEEGCPQGPWNQHGTKPDSEEEGCPRGPWNQTRLRGGMPPGAMEPDKTQEEEGCPQGPWNQTRLRGGMPPGAMEPNKTQEEEGCPQGPWNQTRLRRRRDAPRGHGTRPDSEEGCPLGSWNQTRLRGGMPSGAMEKTRLRGGGMPSGAMEPDKTQRRDALRGHGTRQDSGGGMECVF'),\n",
       "  ('UniRef50_A0A8D9ATB7',\n",
       "   'GAQQGNGGQYGAQQGNGGQYGAQQGNGGQYGAQQGNGGQYGAQQGNGGQYGAQQGNGGQYGAQQGNGGQYGAQQGNGGQYGAQQGNGGQYGAHQGNGGQHGAHQQNRQYSLPTTAGYGGKYDDTVPAAGKCVGRDDGAGRKKFNEKYNDSRGVTESLQHQGKPKYKATEYREGTPFETGEYSMETQPQGGGGGGGKKQTGGDKTNNKREGGGGGDKHQHQSTAGGRGNNKEKGGKGKGGNGKHSQRGDSGDYSSGEEEDEVEDDVEQELEEIKQEEREKRKEKANREKLGQMMKHSSSNSSGESVTKKITEGISKLGVGKKN'),\n",
       "  ('UniRef50_A0AAD9R546',\n",
       "   'MNPLTNVKNIQKLNETMLEMGVEDGQAWHKQYKDSAYVFIGGLPYGLTEGDILCVFSQYGEIVNINLVRDKKTGKTKGFCFLCYEDQRSTILAVDNFNGIKLGGRTIRVDHCANYRRPKSDEKDEHGNYKEIIEEGCAPKSPPQVDDEEDDVEISKKRKKERKQKQSKEKSENKKRKKTRSSEEEDKQEKLNFKRREGSHKNMEEKERDKNARSEQNAVDEYKLWKHEGRLDNGSDYRKTVKGERHVYKSRGESEHKYRDDEYKHKQDSHDSIQSYGGNGRHVANEFRERTRNVHCTSHNERGVSPHERRTERSNKRESRENERRSHKRQGNRSPHFDRRER'),\n",
       "  ('UniRef50_A0A6J4L5C1',\n",
       "   'ESAERLDRGAVRQGDGDRWLPPPPGGRQRRDRHLHRLLRRVDPHPLRDHRAPLGQRGRDRLDDEPGREPQGAGARRGRGRPDRHRHRRHRQPPAPDPGHRHHHRQRARGQERRRVRRLGRLRRVLLRADDGGLLRPDRRLEVRAGDRGGAAHRHHRQARPLDRVHLRRRRGRGRGRTERDPGHRPGRLGLRRRAGPPDRPDRAVGRRHGRSGARGRSAAVAGDADERQPGLQVGLLHDGQDRGRGHGRGRGEARGPGGLRPAPGQHADHRRHAQGPQAARHRRRRPRRRHPGQHLRRLHPVGHRDAARVGRSLQRPDLPGHRLRCRAGLRGPGHPAPL'),\n",
       "  ('UniRef50_T0RR23',\n",
       "   'MHKVTIRPTGQIVEIDEDKTLLQSLKDQGLFINSSCGGHASCSDCIIKIIDGEDYVNTPPFPEVQLMGNVFHITKERLSCQTYVMGDITIDISDHDKTRVDDRLNKKGRGFLKNRAPVNTKVRKKEDVDKMYTERQAIRDEKREKDGEWQKHWEREKDVLAVKKLGGGKRPRLFRTDHLEEKMAEASEENKREQSAPREFREKRDFGDKREFREKRDFGEKREFREKREYGEKRDFREKREFGEKREYKGKRDFNENREYKGKRDFNENREYKGKRDFNENREYKGKRDFNENREYKGKRDFNKGPRPDRDFRRPREEREDGENRGPRTPREDRPRFKDSAFPRPKSSQRDGQAQRKDRGDKAGFPRKDFRKSRKD'),\n",
       "  ('UniRef50_UPI0022DFCE7A',\n",
       "   'MNTNKYTTKYTNMNTNKYTTKYTNKYTNMYTIKYTNKHTTKYTNRYTFKHTTKYTNMYTYKYTTKYTNRYTYKYTTKYTTKDTTKYTNRYTYKYTTMYTNRYTYKHTTKYTNRYTYKHTTKYTNRYTYKYTNRYTYKYTTKYTYRYTYKYTNKYTTKYTNRYTYKYTTKYTNRYTYKYTTKYTNRYTYKYTNRYTTKYTNRYTYKYTTKYTNRYTYKYTTKSTNWYTYKYAIKFTNRYSYKYTTKYTSRYTYKYTTKYTNRYTYKYTSKYTSKYTDKYTNKCTTKYTNRYTYKYTTKYTNRYTYKYTTKYINRYTYKYTSKYTSKYTKKYTNKCTTKYTNRYTYKYTSKYTNRYTYKNMYKYINMYTSK'),\n",
       "  ('UniRef50_A0A3B1JAC5',\n",
       "   'PQPARQNKPQTPQPARQNKPQTPQPARQNKPQTPQPARQTKPQTPQPARQTKPQTPQPARQTKPQTPQPARQTKPQTPQPARQTKPQTPQPAHQNKPQTPQPNKPQTPQPAHQTKPQTPQPVSQNKPQTPQPARQNKPQTPQPVRQNKPQTPQPVRQNKPQTLQPALQSKPQTLQPARQTKPQTPQPAHQTKPQTLQPAHQTKLQTPQPVRQNKPQTPQPVRQNKPQTPQPARQNKPQTPQPRARLKPQTPQPVRQNKPQTLQPALQSKPQTPQPARQTKPQTLQPALQTKPQTLQPARQTKPQTLQPALQTKPQTLQPARQTKPQTLQPALQTKPQTL'),\n",
       "  ('UniRef50_A0A835VG71',\n",
       "   'MFLSDISTPTEVGARSKKSCRTRRSKSDSTKNIDSISSLKPEGMKSLKEARASRSNDTQCLKQKKKGVGPQNGEILVASNNRKEENEVKLHSRRDAHKGKHPRRDAHKGNFDNYDRIGVEQPKAKAGVDYKKKYDITGCMDFDPDEHDEEGIAFCRLSSWPKVVSHVGLHVIAPQDNFEGIAFSVMEERRKEREKEKENEKEEGVEEKEKKRRRRRRRRRRRRGEKKKEEEEEKTKEMQKEKQKEKKKESMEKDMEKGRKRRRRRRRRERGEEEEEEEEEEEKEEEEEEEEKYQKMKKYDRRRKKEGGRRKMEEVRRRMKKKKKKKKRKKMKKKRKKKKKKKKWKKGRGRGRGRGKREMEEVDLIEDTKLMDILRKYKKLWSRAFVDGLFHRDTR'),\n",
       "  ('UniRef50_A0A3M6TR61',\n",
       "   'MQRKKNIEVAMFNSNALVQNQEEVESADDSEDESQEEQGNGEQHAGSGEDNEQPTESQQVDHEQDEEPKQEKEESTEAQKVECEENEEQKQGRKEPTEQQRVERKQDEEPKQGQEEATEQQQVVGEQDEEPKQCQEEPAEQQQDESKRNEAPKDDHEEPPKKQEVEQDHQADSKGKKEVSETQREKQELNKDDGKPERKLKGYDQESKQPGTQKEEEEKEPNVDHAEPDELKDEGKQKKKSKRNEKESEKQQEQNKKDEQEQEEHQEETEKEQVDCDQEEREQDHEDPKLEQIGQGKPKGEDEDPKKEQQDYEQPKEGHEEPMKDKLQQGKPKGENQEPKQEQLETEKPKGEYEKLNQNQLGDEKSKEACGDSQPQGDGSTEDKSSRQQQLVMDEGHYEEDDMVLDTQDETVGFPLGHIKINPRSVAETGRAGNGR'),\n",
       "  ('UniRef50_A0A8C7MWL0',\n",
       "   'MKNDRQRQTAPDRARQRQTGPDRARQRQTEPDRDRQRQGQTGPDRARQSQTEPDRARQGQTETDRARQRQTGPDRARQSQTAPDRDRQRQTAPDSARQSQTEPDSARQRQTAPDSARQRQTEPDRARQRQTATDSDRQRQTAPDSARQSQTETDRDRQRQTETDRARQGQTETDRARQRQTETDRARQGQTEPDRARQSQTETDRDRQGQTEPDRARQRQTETDSARQRQTAPDRDRQRQTETDSARQRQTEPDSARQRQTAPDSARQRQTEPDRARQRQTAPDRARQRQTAPDRDRQRQTAPDSARQRQTEPDRDRQRQTAPDSARQRQRQTETDSARQRQTAPDRDRQRQTETDSARQRQTAPDRDRQRQTETDSARQRQTAPDSARQRQTAPDRDSLPSQPLGHSLVIRRELDRLVGKLGVEAVQSKLS'),\n",
       "  ('UniRef50_A0AAZ3RTF0',\n",
       "   'HRGHNKDQHRGHRGHKDIEDITKINIEDITKIYIEDIEDITKTNRGHRGHNKDQHRGHNKDQHRGHNKDQHRHRGHNKDQHRGHNKYQHRGHNKDQHRGHRGHNKDLHRGHNKDQHRGHNKDQHRGHNKDQHRGHRGHNKDQHRGHNKDQHRGHNKDLHRGHRGHNKDQHRGHNKDQHRGHRGHNKDQHRGHNKDQHRGHNKDQHRGHNKVQHRGHNKYQHRGHNKDQHRGHNKYQHRGHNKDLHRGHNKDQHRGHNKDQHRGHNKDQHRGHRGHNKDQHRGHNKDQHRGHNKDQHRGHNKDQHRGHRGHKKINIEDITKINIEDIRTKINIEDITKINIENIEDITKINIEDITKINIEDIEDITKINIEDITKINIEDITKINIEDITKTT'),\n",
       "  ('UniRef50_UPI00200983D7',\n",
       "   'MAVLLNGNGKDDGLKGDDDGPKGDDDGQRENDDGPRGNDDGPKEDDDRPKGDDDGPKRDDDGRKGDNDGLKGDDDEPKGTMMDGPRGDDDGPKGDDDGPRGNDNGPKGDNDGSKGDNDGPKGDDDGPKGDDYEPKGDDDGPKRDEDGPRGDDDGPKGDDDGPKSDDDGPRGDDDEPKGDNDGPKGDDDGPRGDDDEPNGDDDGSRGNDDGPKGDEDGLRGDDDDGPKEDDDGPRGNDDGPKGDDDGPKGDDDGPKGDDDEPKGDDDGPRGDDDGLRGDDDGPKGNNDGPKGDDDGPKGDHRPKEDDDGPRGEDDEPKGDDDGPKGDDDEPKGDDDESKGDDDGPKGDDDGPKGDDDGPKVDGDGPRGDDDGPKGDNDGPKGDDDGPRGDNDGPKADDDNEP'),\n",
       "  ('UniRef50_UPI001E66D2CD',\n",
       "   'ERQRERETKRERERERERERERERQRETERERQRERERERETKRERERERERERERERERQRERERERQRERERERQRERDRERERERERERERQRERERERQRERERERERERERQRETERERDKDREREREGRQRERERERERDRERERERERERERQERERDKERERERERDKERERQRERERERERDRERERERERERERERDKEREREKERERERERQRQRERERERERERQRERERERERERDRERERERERDKERERERERERERERERDRERERERERERDKERERDKERERQRERQRERERERETERERERDRERERDRERERERERERERQRERERERERERERQERERDKERERERAERDRERERQRERDKERER'),\n",
       "  ('UniRef50_UPI001ABDBAD4',\n",
       "   'EREKKEREREEREREREEREREREEREREERERKREREEREREEREKRERERRKRERRKRERRKREREEREREEREKKEREKKERERRKREREEREREEREREEREREEREREEREREKKEREKKERERRKRERRKRERRKREERRKREREKKKREREKKEREKKEREKKERERRKRERREREEREREEREREKKERERRKRERRKREREEREREERERERKKERRKRERRKREREKKERERRKREREREEREREKKEREKREREEREREKKERERRKRERRKREREKKEREREERERERRKRERRKRERERRKRERRKREREEREREEREREEERRKRERRKREREEREREEREREEREREERERRKRERRKRERERRKRERRKRERRKRERRKREREERERERRKRERERRKRERRKRERRKREREEREREEREKKEREKKERERRKREREEREREEREREEREREEREREERERE')])"
      ]
     },
     "execution_count": 59,
     "metadata": {},
     "output_type": "execute_result"
    }
   ],
   "source": [
    "top_gravy = df.iloc[:20]\n",
    "low_gravy = df.iloc[-20:]\n",
    "\n",
    "top_gravy_X = [(top_gravy.iloc[i][\"Name\"], top_gravy.iloc[i][\"Sequence\"]) for i in range(len(top_gravy))]\n",
    "low_gravy_X = [(low_gravy.iloc[i][\"Name\"], low_gravy.iloc[i][\"Sequence\"]) for i in range(len(low_gravy))]\n",
    "top_gravy_X, low_gravy_X"
   ]
  },
  {
   "cell_type": "code",
   "execution_count": 60,
   "id": "72d13b3f",
   "metadata": {},
   "outputs": [],
   "source": [
    "top_gravy_results = get_features(top_gravy_X, model)\n",
    "low_gravy_results = get_features(low_gravy_X, model)"
   ]
  },
  {
   "cell_type": "code",
   "execution_count": 64,
   "id": "f1060bef",
   "metadata": {},
   "outputs": [
    {
     "name": "stdout",
     "output_type": "stream",
     "text": [
      "dict_keys(['logits', 'representations', 'attentions', 'contacts', 'sequence_representations'])\n",
      "dict_keys(['logits', 'representations', 'attentions', 'contacts', 'sequence_representations'])\n"
     ]
    }
   ],
   "source": [
    "res = dict(top_gravy_results)\n",
    "print(res.keys())\n",
    "res_2 = dict(low_gravy_results)\n",
    "print(res_2.keys())"
   ]
  },
  {
   "cell_type": "code",
   "execution_count": 65,
   "id": "923cf7fe",
   "metadata": {},
   "outputs": [
    {
     "data": {
      "text/plain": [
       "<matplotlib.image.AxesImage at 0x7f95e9873990>"
      ]
     },
     "execution_count": 65,
     "metadata": {},
     "output_type": "execute_result"
    },
    {
     "data": {
      "image/png": "[encoded data removed]",
      "text/plain": [
       "<Figure size 432x288 with 1 Axes>"
      ]
     },
     "metadata": {
      "needs_background": "light"
     },
     "output_type": "display_data"
    }
   ],
   "source": [
    "sr = res['sequence_representations']\n",
    "plt.imshow(sr)"
   ]
  },
  {
   "cell_type": "code",
   "execution_count": 18,
   "id": "e1ffe918",
   "metadata": {},
   "outputs": [
    {
     "data": {
      "text/plain": [
       "<matplotlib.image.AxesImage at 0x7f95b9a95350>"
      ]
     },
     "execution_count": 18,
     "metadata": {},
     "output_type": "execute_result"
    },
    {
     "data": {
      "image/png": "[encoded data removed]",
      "text/plain": [
       "<Figure size 432x288 with 1 Axes>"
      ]
     },
     "metadata": {
      "needs_background": "light"
     },
     "output_type": "display_data"
    }
   ],
   "source": [
    "# logits\n",
    "plt.imshow(res['logits'][3])"
   ]
  },
  {
   "cell_type": "code",
   "execution_count": 22,
   "id": "fb98a348",
   "metadata": {},
   "outputs": [
    {
     "data": {
      "text/plain": [
       "dict_keys([1, 2, 4, 6])"
      ]
     },
     "execution_count": 22,
     "metadata": {},
     "output_type": "execute_result"
    }
   ],
   "source": [
    "res['representations'].keys()"
   ]
  },
  {
   "cell_type": "code",
   "execution_count": 19,
   "id": "a48cd222",
   "metadata": {},
   "outputs": [
    {
     "data": {
      "text/plain": [
       "torch.Size([10, 6, 20, 491, 491])"
      ]
     },
     "execution_count": 19,
     "metadata": {},
     "output_type": "execute_result"
    }
   ],
   "source": [
    "# attentions\n",
    "res['attentions'].shape"
   ]
  },
  {
   "cell_type": "code",
   "execution_count": null,
   "id": "da706b73",
   "metadata": {},
   "outputs": [],
   "source": [
    "# Assume this tensor: (batch, layers, heads, seq_len, seq_len)\n",
    "attn = res['attentions']  # Shape: [3, 6, 20, 190, 190]\n",
    "\n",
    "sequence_idx = 0  # pick which sequence to visualize\n",
    "heads_to_plot = [0, 1, 2, 3, 4]  # pick a few heads\n",
    "num_layers = attn.shape[1]\n",
    "\n",
    "for layer in range(num_layers):\n",
    "    fig, axes = plt.subplots(1, len(heads_to_plot), figsize=(15, 5))\n",
    "    fig.suptitle(f\"Sequence {sequence_idx}, Layer {layer}\")\n",
    "    \n",
    "    for i, head in enumerate(heads_to_plot):\n",
    "        ax = axes[i]\n",
    "        ax.imshow(attn[sequence_idx, layer, head].cpu().numpy(), cmap='viridis')\n",
    "        ax.set_title(f\"Head {head}\")\n",
    "        ax.axis('off')\n",
    "    \n",
    "    plt.tight_layout()\n",
    "    plt.show()"
   ]
  },
  {
   "cell_type": "code",
   "execution_count": null,
   "id": "f7befe6f",
   "metadata": {},
   "outputs": [],
   "source": [
    "# Shape: [batch, layers, heads, seq_len, seq_len]\n",
    "attn = res['attentions']\n",
    "sequence_idx = 0  # pick which sequence to visualize\n",
    "num_layers = attn.shape[1]\n",
    "num_heads = attn.shape[2]\n",
    "\n",
    "for layer in range(num_layers):\n",
    "    fig, axes = plt.subplots(4, 5, figsize=(20, 16))  # 4x5 grid for 20 heads\n",
    "    fig.suptitle(f\"Attention Heads — Sequence {sequence_idx}, Layer {layer}\", fontsize=16)\n",
    "    axes = axes.flatten()\n",
    "\n",
    "    for head in range(num_heads):\n",
    "        ax = axes[head]\n",
    "        ax.imshow(attn[sequence_idx, layer, head].cpu().numpy(), cmap='viridis')\n",
    "        ax.set_title(f\"Head {head}\")\n",
    "        ax.axis('off')\n",
    "\n",
    "    plt.tight_layout(rect=[0, 0.03, 1, 0.95])  # Leave space for the title\n",
    "    plt.show()\n"
   ]
  },
  {
   "cell_type": "code",
   "execution_count": null,
   "id": "df753534",
   "metadata": {},
   "outputs": [],
   "source": [
    "# Mean over batch → shape: [layers, heads, seq_len, seq_len]\n",
    "attn = res['attentions'].mean(dim=0)\n",
    "\n",
    "num_layers = attn.shape[0]\n",
    "num_heads = attn.shape[1]\n",
    "\n",
    "for layer in range(num_layers):\n",
    "    fig, axes = plt.subplots(4, 5, figsize=(20, 16))  # 4x5 grid for 20 heads\n",
    "    fig.suptitle(f\"Mean Attention Across Batch — Layer {layer}\", fontsize=16)\n",
    "    axes = axes.flatten()\n",
    "\n",
    "    for head in range(num_heads):\n",
    "        ax = axes[head]\n",
    "        ax.imshow(attn[layer, head].cpu().numpy(), cmap='viridis')\n",
    "        ax.set_title(f\"Head {head}\")\n",
    "        ax.axis('off')\n",
    "\n",
    "    plt.tight_layout(rect=[0, 0.03, 1, 0.95])\n",
    "    plt.show()\n"
   ]
  },
  {
   "cell_type": "code",
   "execution_count": null,
   "id": "827ff63b",
   "metadata": {},
   "outputs": [],
   "source": [
    "# Mean over batch → shape: [layers, heads, seq_len, seq_len]\n",
    "attn = res_2['attentions'].mean(dim=0)\n",
    "\n",
    "num_layers = attn.shape[0]\n",
    "num_heads = attn.shape[1]\n",
    "\n",
    "for layer in range(num_layers):\n",
    "    fig, axes = plt.subplots(4, 5, figsize=(20, 16))  # 4x5 grid for 20 heads\n",
    "    fig.suptitle(f\"Mean Attention Across Batch — Layer {layer}\", fontsize=16)\n",
    "    axes = axes.flatten()\n",
    "\n",
    "    for head in range(num_heads):\n",
    "        ax = axes[head]\n",
    "        ax.imshow(attn[layer, head].cpu().numpy(), cmap='viridis')\n",
    "        ax.set_title(f\"Head {head}\")\n",
    "        ax.axis('off')\n",
    "\n",
    "    plt.tight_layout(rect=[0, 0.03, 1, 0.95])\n",
    "    plt.show()\n"
   ]
  },
  {
   "cell_type": "code",
   "execution_count": null,
   "id": "60d79f0c",
   "metadata": {},
   "outputs": [],
   "source": [
    "attn = res[\"attentions\"].mean(dim=0)  # shape: [layers, heads, seq_len, seq_len]\n",
    "\n",
    "summary = []\n",
    "\n",
    "for layer in range(attn.shape[0]):\n",
    "    for head in range(attn.shape[1]):\n",
    "        matrix = attn[layer, head]\n",
    "        norm = torch.norm(matrix).item()\n",
    "        min_val = matrix.min().item()\n",
    "        max_val = matrix.max().item()\n",
    "        summary.append({\n",
    "            \"layer\": layer,\n",
    "            \"head\": head,\n",
    "            \"norm\": round(norm, 4),\n",
    "            \"min\": round(min_val, 4),\n",
    "            \"max\": round(max_val, 4)\n",
    "        })\n",
    "\n",
    "# Print a nice table\n",
    "df_1 = pd.DataFrame(summary)\n"
   ]
  },
  {
   "cell_type": "code",
   "execution_count": null,
   "id": "6a07adf5",
   "metadata": {},
   "outputs": [],
   "source": [
    "attn = res_2[\"attentions\"].mean(dim=0)  # shape: [layers, heads, seq_len, seq_len]\n",
    "\n",
    "summary = []\n",
    "\n",
    "for layer in range(attn.shape[0]):\n",
    "    for head in range(attn.shape[1]):\n",
    "        matrix = attn[layer, head]\n",
    "        norm = torch.norm(matrix).item()\n",
    "        min_val = matrix.min().item()\n",
    "        max_val = matrix.max().item()\n",
    "        summary.append({\n",
    "            \"layer\": layer,\n",
    "            \"head\": head,\n",
    "            \"norm\": round(norm, 4),\n",
    "            \"min\": round(min_val, 4),\n",
    "            \"max\": round(max_val, 4)\n",
    "        })\n",
    "\n",
    "# Print a nice table\n",
    "df_2 = pd.DataFrame(summary)\n"
   ]
  },
  {
   "cell_type": "code",
   "execution_count": null,
   "id": "d2b50c02",
   "metadata": {},
   "outputs": [],
   "source": [
    "(df_1 - df_2).sort_values(\"norm\", ascending=False).head(20)"
   ]
  },
  {
   "cell_type": "code",
   "execution_count": null,
   "id": "03cb8c81",
   "metadata": {},
   "outputs": [],
   "source": [
    "res['contacts'].shape"
   ]
  },
  {
   "cell_type": "code",
   "execution_count": null,
   "id": "960f67fc",
   "metadata": {},
   "outputs": [],
   "source": [
    "f, axarr = plt.subplots(1, 2, figsize=(20, 10))\n",
    "\n",
    "criterion = \"Molecular Weight\"\n",
    "\n",
    "# Compute mean contact maps once\n",
    "mean_contact_1 = np.mean(res['contacts'].numpy(), axis=0) ** 0.5\n",
    "mean_contact_2 = np.mean(res_2['contacts'].numpy(), axis=0) ** 0.5\n",
    "\n",
    "# Use the global min/max for consistent color scale\n",
    "v_max = max(np.max(mean_contact_1), np.max(mean_contact_2))\n",
    "v_min = min(np.min(mean_contact_1), np.min(mean_contact_2))\n",
    "\n",
    "# Plot contact maps\n",
    "im0 = axarr[0].imshow(mean_contact_1[:50, :50], cmap='viridis', vmin=v_min, vmax=v_max)\n",
    "axarr[0].set_title(f\"Mean Contact - Top {criterion}\")\n",
    "\n",
    "im1 = axarr[1].imshow(mean_contact_2[:50, :50], cmap='viridis', vmin=v_min, vmax=v_max)\n",
    "axarr[1].set_title(f\"Mean Contact - Lowest {criterion}\")\n",
    "\n",
    "# Add colorbars to each subplot\n",
    "f.colorbar(im0, ax=axarr[0])\n",
    "f.colorbar(im1, ax=axarr[1])\n",
    "\n",
    "plt.tight_layout()\n",
    "plt.show()"
   ]
  },
  {
   "cell_type": "code",
   "execution_count": null,
   "id": "9da51251",
   "metadata": {},
   "outputs": [],
   "source": [
    "f, axarr = plt.subplots(2, 2, figsize=(20, 10))\n",
    "criterion = \"Molecular_weight\"\n",
    "\n",
    "# Compute mean contact maps once\n",
    "mean_contact_1 = np.mean(res['contacts'].numpy(), axis=0) ** 0.5\n",
    "mean_contact_2 = np.mean(res_2['contacts'].numpy(), axis=0) ** 0.5\n",
    "\n",
    "# Use the global min/max for consistent color scale\n",
    "v_max = max(np.max(mean_contact_1), np.max(mean_contact_2))\n",
    "v_min = min(np.min(mean_contact_1), np.min(mean_contact_2))\n",
    "\n",
    "# Plot contact maps\n",
    "im0 = axarr[1, 0].imshow(mean_contact_1[300:, 300:], cmap='viridis', vmin=v_min, vmax=v_max)\n",
    "axarr[1, 0].set_title(f\"Sequence End Mean Contact - Top {criterion}\")\n",
    "\n",
    "im1 = axarr[1,1].imshow(mean_contact_2[300:, 300:], cmap='viridis', vmin=v_min, vmax=v_max)\n",
    "axarr[1, 1].set_title(f\"Sequence End Mean Contact - Lowest {criterion}\")\n",
    "\n",
    "im0 = axarr[0, 0].imshow(mean_contact_1[:200, :200], cmap='viridis', vmin=v_min, vmax=v_max)\n",
    "axarr[0,0].set_title(f\"Sequence Start Mean Contact - Top {criterion}\")\n",
    "\n",
    "im1 = axarr[0,1].imshow(mean_contact_2[:200, :200], cmap='viridis', vmin=v_min, vmax=v_max)\n",
    "axarr[0, 1].set_title(f\"Sequence Start Mean Contact - Lowest {criterion}\")\n",
    "\n",
    "# Add colorbars to each subplot\n",
    "# f.colorbar(im0, ax=axarr[0])\n",
    "# f.colorbar(im1, ax=axarr[1])\n",
    "\n",
    "plt.tight_layout()\n",
    "plt.show()"
   ]
  },
  {
   "cell_type": "code",
   "execution_count": null,
   "id": "e89b8209",
   "metadata": {},
   "outputs": [],
   "source": [
    "plt.imshow(np.mean(res['contacts'].numpy(), axis=0))"
   ]
  },
  {
   "cell_type": "code",
   "execution_count": null,
   "id": "0726f02a",
   "metadata": {},
   "outputs": [],
   "source": [
    "plt.imshow(np.mean(res_2['contacts'].numpy(), axis=0))"
   ]
  },
  {
   "cell_type": "code",
   "execution_count": null,
   "id": "d51b0c8c",
   "metadata": {},
   "outputs": [],
   "source": [
    "print(res['representations'][6].shape)\n",
    "plt.imshow(res['representations'][6][0])"
   ]
  },
  {
   "cell_type": "code",
   "execution_count": null,
   "id": "378edafa",
   "metadata": {},
   "outputs": [],
   "source": [
    "# sequence representation visuals"
   ]
  },
  {
   "cell_type": "code",
   "execution_count": null,
   "id": "0c096fa4",
   "metadata": {},
   "outputs": [],
   "source": []
  }
 ],
 "metadata": {
  "kernelspec": {
   "display_name": "esmfold",
   "language": "python",
   "name": "python3"
  },
  "language_info": {
   "codemirror_mode": {
    "name": "ipython",
    "version": 3
   },
   "file_extension": ".py",
   "mimetype": "text/x-python",
   "name": "python",
   "nbconvert_exporter": "python",
   "pygments_lexer": "ipython3",
   "version": "3.7.12"
  }
 },
 "nbformat": 4,
 "nbformat_minor": 5
}
