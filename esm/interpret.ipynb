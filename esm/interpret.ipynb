{
 "cells": [
  {
   "cell_type": "code",
   "execution_count": null,
   "id": "2516e819",
   "metadata": {},
   "outputs": [],
   "source": [
    "import numpy as np\n",
    "import pandas as pd\n",
    "from Bio import SeqIO\n",
    "from Bio.Seq import Seq\n",
    "from Bio.SeqRecord import SeqRecord\n",
    "from Bio.SeqUtils.ProtParam import ProteinAnalysis\n",
    "import pandas as pd\n",
    "import numpy as np\n",
    "import matplotlib.pyplot as plt\n",
    "import torch\n",
    "import esm\n",
    "\n",
    "# takes FASTA files and generates dataframe and csv with descriptions and features"
   ]
  },
  {
   "cell_type": "code",
   "execution_count": null,
   "id": "e3ba72bf",
   "metadata": {},
   "outputs": [],
   "source": [
    "df = pd.read_csv(\"seq_df_first_2000.csv\", index_col=0).dropna().sort_values(by=\"GRAVY\", ascending=False)\n",
    "df = df[df[\"Length\"] < 500]"
   ]
  },
  {
   "cell_type": "code",
   "execution_count": null,
   "id": "263ade70",
   "metadata": {},
   "outputs": [],
   "source": [
    "df = pd.read_csv(\"seq_df_first_20000_less_500.csv\", index_col=0).dropna().sort_values(by=\"Instability Index\", ascending=False)\n"
   ]
  },
  {
   "cell_type": "code",
   "execution_count": null,
   "id": "c97bbe08",
   "metadata": {},
   "outputs": [],
   "source": [
    "df"
   ]
  },
  {
   "cell_type": "markdown",
   "id": "93520bb0",
   "metadata": {},
   "source": [
    "### Exploratory Data Analysis"
   ]
  },
  {
   "cell_type": "code",
   "execution_count": null,
   "id": "5e0d6f1b",
   "metadata": {},
   "outputs": [],
   "source": [
    "plt.hist(df[\"GRAVY\"], bins=200)\n",
    "plt.xlabel(\"GRAVY\")\n",
    "plt.ylabel(\"Frequency\")\n",
    "plt.title(\"Distribution of GRAVY values\")"
   ]
  },
  {
   "cell_type": "code",
   "execution_count": null,
   "id": "3aa97e4b",
   "metadata": {},
   "outputs": [],
   "source": [
    "plt.hist(df[\"Aromaticity\"], bins=50)\n",
    "plt.xlabel(\"Aromaticity\")\n",
    "plt.ylabel(\"Frequency\")\n",
    "plt.title(\"Distribution of Aromaticity values\")"
   ]
  },
  {
   "cell_type": "code",
   "execution_count": null,
   "id": "e511b14d",
   "metadata": {},
   "outputs": [],
   "source": [
    "plt.hist(df[\"Molecular Weight\"], bins=100)\n",
    "plt.xlabel(\"MW\")\n",
    "plt.ylabel(\"Frequency\")\n",
    "plt.title(\"Distribution of MW values\")"
   ]
  },
  {
   "cell_type": "code",
   "execution_count": null,
   "id": "7ae4a529",
   "metadata": {},
   "outputs": [],
   "source": [
    "plt.hist(df[\"Charge at pH:7.0\"], bins=200)\n",
    "plt.xlabel(\"Aromaticity\")\n",
    "plt.ylabel(\"Frequency\")\n",
    "plt.title(\"Distribution of Charge at pH:7.0 values\")"
   ]
  },
  {
   "cell_type": "markdown",
   "id": "e8ea251b",
   "metadata": {},
   "source": [
    "### Analyze Model Weights"
   ]
  },
  {
   "cell_type": "code",
   "execution_count": null,
   "id": "1a644d4e",
   "metadata": {},
   "outputs": [],
   "source": [
    "# Load ESM-2 model\n",
    "model, alphabet = esm.pretrained.esm2_t6_8M_UR50D()\n",
    "batch_converter = alphabet.get_batch_converter()\n",
    "model.eval()  # disables dropout for deterministic results"
   ]
  },
  {
   "cell_type": "code",
   "execution_count": null,
   "id": "b66fced6",
   "metadata": {},
   "outputs": [],
   "source": [
    "def get_features(data, model):    \n",
    "    batch_labels, batch_strs, batch_tokens = batch_converter(data)\n",
    "    batch_lens = (batch_tokens != alphabet.padding_idx).sum(1)\n",
    "\n",
    "    # Extract per-residue representations (on CPU)\n",
    "    with torch.no_grad():\n",
    "        results = model(batch_tokens, repr_layers=[6], return_contacts=True)\n",
    "    token_representations = results[\"representations\"][6]\n",
    "    # Generate per-sequence representations via averaging\n",
    "    # NOTE: token 0 is always a beginning-of-sequence token, so the first residue is token 1.\n",
    "    sequence_representations = []\n",
    "    for i, tokens_len in enumerate(batch_lens):\n",
    "        sequence_representations.append(token_representations[i, 1 : tokens_len - 1].mean(0))\n",
    "    # Look at the unsupervised self-attention map contact predictions\n",
    "    import matplotlib.pyplot as plt\n",
    "    for (_, seq), tokens_len, attention_contacts in zip(data, batch_lens, results[\"contacts\"]):\n",
    "        plt.matshow(attention_contacts[: tokens_len, : tokens_len])\n",
    "        plt.title(seq[:10] + \"...\")\n",
    "        plt.colorbar()\n",
    "        plt.show()    \n",
    "    return results"
   ]
  },
  {
   "cell_type": "code",
   "execution_count": null,
   "id": "a701ae35",
   "metadata": {},
   "outputs": [],
   "source": [
    "top_gravy = df.iloc[:10]\n",
    "low_gravy = df.iloc[-10:]\n",
    "\n",
    "top_gravy_X = [(top_gravy.iloc[i][\"Name\"], top_gravy.iloc[i][\"Sequence\"]) for i in range(len(top_gravy))]\n",
    "low_gravy_X = [(low_gravy.iloc[i][\"Name\"], low_gravy.iloc[i][\"Sequence\"]) for i in range(len(low_gravy))]\n",
    "top_gravy_X, low_gravy_X"
   ]
  },
  {
   "cell_type": "code",
   "execution_count": null,
   "id": "72d13b3f",
   "metadata": {},
   "outputs": [],
   "source": [
    "top_gravy_results = get_features(top_gravy_X, model)\n",
    "low_gravy_results = get_features(low_gravy_X, model)"
   ]
  },
  {
   "cell_type": "code",
   "execution_count": null,
   "id": "f1060bef",
   "metadata": {},
   "outputs": [],
   "source": [
    "res = dict(top_gravy_results)\n",
    "print(res.keys())\n",
    "res_2 = dict(low_gravy_results)\n",
    "print(res_2.keys())"
   ]
  },
  {
   "cell_type": "code",
   "execution_count": null,
   "id": "e1ffe918",
   "metadata": {},
   "outputs": [],
   "source": [
    "# logits\n",
    "plt.imshow(res['logits'][3])"
   ]
  },
  {
   "cell_type": "code",
   "execution_count": null,
   "id": "a48cd222",
   "metadata": {},
   "outputs": [],
   "source": [
    "# attentions\n",
    "res['attentions'].shape"
   ]
  },
  {
   "cell_type": "code",
   "execution_count": null,
   "id": "da706b73",
   "metadata": {},
   "outputs": [],
   "source": [
    "# Assume this tensor: (batch, layers, heads, seq_len, seq_len)\n",
    "attn = res['attentions']  # Shape: [3, 6, 20, 190, 190]\n",
    "\n",
    "sequence_idx = 0  # pick which sequence to visualize\n",
    "heads_to_plot = [0, 1, 2, 3, 4]  # pick a few heads\n",
    "num_layers = attn.shape[1]\n",
    "\n",
    "for layer in range(num_layers):\n",
    "    fig, axes = plt.subplots(1, len(heads_to_plot), figsize=(15, 5))\n",
    "    fig.suptitle(f\"Sequence {sequence_idx}, Layer {layer}\")\n",
    "    \n",
    "    for i, head in enumerate(heads_to_plot):\n",
    "        ax = axes[i]\n",
    "        ax.imshow(attn[sequence_idx, layer, head].cpu().numpy(), cmap='viridis')\n",
    "        ax.set_title(f\"Head {head}\")\n",
    "        ax.axis('off')\n",
    "    \n",
    "    plt.tight_layout()\n",
    "    plt.show()"
   ]
  },
  {
   "cell_type": "code",
   "execution_count": null,
   "id": "f7befe6f",
   "metadata": {},
   "outputs": [],
   "source": [
    "# Shape: [batch, layers, heads, seq_len, seq_len]\n",
    "attn = res['attentions']\n",
    "sequence_idx = 0  # pick which sequence to visualize\n",
    "num_layers = attn.shape[1]\n",
    "num_heads = attn.shape[2]\n",
    "\n",
    "for layer in range(num_layers):\n",
    "    fig, axes = plt.subplots(4, 5, figsize=(20, 16))  # 4x5 grid for 20 heads\n",
    "    fig.suptitle(f\"Attention Heads — Sequence {sequence_idx}, Layer {layer}\", fontsize=16)\n",
    "    axes = axes.flatten()\n",
    "\n",
    "    for head in range(num_heads):\n",
    "        ax = axes[head]\n",
    "        ax.imshow(attn[sequence_idx, layer, head].cpu().numpy(), cmap='viridis')\n",
    "        ax.set_title(f\"Head {head}\")\n",
    "        ax.axis('off')\n",
    "\n",
    "    plt.tight_layout(rect=[0, 0.03, 1, 0.95])  # Leave space for the title\n",
    "    plt.show()\n"
   ]
  },
  {
   "cell_type": "code",
   "execution_count": null,
   "id": "df753534",
   "metadata": {},
   "outputs": [],
   "source": [
    "# Mean over batch → shape: [layers, heads, seq_len, seq_len]\n",
    "attn = res['attentions'].mean(dim=0)\n",
    "\n",
    "num_layers = attn.shape[0]\n",
    "num_heads = attn.shape[1]\n",
    "\n",
    "for layer in range(num_layers):\n",
    "    fig, axes = plt.subplots(4, 5, figsize=(20, 16))  # 4x5 grid for 20 heads\n",
    "    fig.suptitle(f\"Mean Attention Across Batch — Layer {layer}\", fontsize=16)\n",
    "    axes = axes.flatten()\n",
    "\n",
    "    for head in range(num_heads):\n",
    "        ax = axes[head]\n",
    "        ax.imshow(attn[layer, head].cpu().numpy(), cmap='viridis')\n",
    "        ax.set_title(f\"Head {head}\")\n",
    "        ax.axis('off')\n",
    "\n",
    "    plt.tight_layout(rect=[0, 0.03, 1, 0.95])\n",
    "    plt.show()\n"
   ]
  },
  {
   "cell_type": "code",
   "execution_count": null,
   "id": "827ff63b",
   "metadata": {},
   "outputs": [],
   "source": [
    "# Mean over batch → shape: [layers, heads, seq_len, seq_len]\n",
    "attn = res_2['attentions'].mean(dim=0)\n",
    "\n",
    "num_layers = attn.shape[0]\n",
    "num_heads = attn.shape[1]\n",
    "\n",
    "for layer in range(num_layers):\n",
    "    fig, axes = plt.subplots(4, 5, figsize=(20, 16))  # 4x5 grid for 20 heads\n",
    "    fig.suptitle(f\"Mean Attention Across Batch — Layer {layer}\", fontsize=16)\n",
    "    axes = axes.flatten()\n",
    "\n",
    "    for head in range(num_heads):\n",
    "        ax = axes[head]\n",
    "        ax.imshow(attn[layer, head].cpu().numpy(), cmap='viridis')\n",
    "        ax.set_title(f\"Head {head}\")\n",
    "        ax.axis('off')\n",
    "\n",
    "    plt.tight_layout(rect=[0, 0.03, 1, 0.95])\n",
    "    plt.show()\n"
   ]
  },
  {
   "cell_type": "code",
   "execution_count": null,
   "id": "60d79f0c",
   "metadata": {},
   "outputs": [],
   "source": [
    "attn = res[\"attentions\"].mean(dim=0)  # shape: [layers, heads, seq_len, seq_len]\n",
    "\n",
    "summary = []\n",
    "\n",
    "for layer in range(attn.shape[0]):\n",
    "    for head in range(attn.shape[1]):\n",
    "        matrix = attn[layer, head]\n",
    "        norm = torch.norm(matrix).item()\n",
    "        min_val = matrix.min().item()\n",
    "        max_val = matrix.max().item()\n",
    "        summary.append({\n",
    "            \"layer\": layer,\n",
    "            \"head\": head,\n",
    "            \"norm\": round(norm, 4),\n",
    "            \"min\": round(min_val, 4),\n",
    "            \"max\": round(max_val, 4)\n",
    "        })\n",
    "\n",
    "# Print a nice table\n",
    "df_1 = pd.DataFrame(summary)\n"
   ]
  },
  {
   "cell_type": "code",
   "execution_count": null,
   "id": "6a07adf5",
   "metadata": {},
   "outputs": [],
   "source": [
    "attn = res_2[\"attentions\"].mean(dim=0)  # shape: [layers, heads, seq_len, seq_len]\n",
    "\n",
    "summary = []\n",
    "\n",
    "for layer in range(attn.shape[0]):\n",
    "    for head in range(attn.shape[1]):\n",
    "        matrix = attn[layer, head]\n",
    "        norm = torch.norm(matrix).item()\n",
    "        min_val = matrix.min().item()\n",
    "        max_val = matrix.max().item()\n",
    "        summary.append({\n",
    "            \"layer\": layer,\n",
    "            \"head\": head,\n",
    "            \"norm\": round(norm, 4),\n",
    "            \"min\": round(min_val, 4),\n",
    "            \"max\": round(max_val, 4)\n",
    "        })\n",
    "\n",
    "# Print a nice table\n",
    "df_2 = pd.DataFrame(summary)\n"
   ]
  },
  {
   "cell_type": "code",
   "execution_count": null,
   "id": "d2b50c02",
   "metadata": {},
   "outputs": [],
   "source": [
    "(df_1 - df_2).sort_values(\"norm\", ascending=False).head(20)"
   ]
  },
  {
   "cell_type": "code",
   "execution_count": null,
   "id": "03cb8c81",
   "metadata": {},
   "outputs": [],
   "source": [
    "res['contacts'].shape"
   ]
  },
  {
   "cell_type": "code",
   "execution_count": null,
   "id": "960f67fc",
   "metadata": {},
   "outputs": [],
   "source": [
    "f, axarr = plt.subplots(1, 2, figsize=(20, 10))\n",
    "\n",
    "criterion = \"Molecular Weight\"\n",
    "\n",
    "# Compute mean contact maps once\n",
    "mean_contact_1 = np.mean(res['contacts'].numpy(), axis=0) ** 0.5\n",
    "mean_contact_2 = np.mean(res_2['contacts'].numpy(), axis=0) ** 0.5\n",
    "\n",
    "# Use the global min/max for consistent color scale\n",
    "v_max = max(np.max(mean_contact_1), np.max(mean_contact_2))\n",
    "v_min = min(np.min(mean_contact_1), np.min(mean_contact_2))\n",
    "\n",
    "# Plot contact maps\n",
    "im0 = axarr[0].imshow(mean_contact_1[:50, :50], cmap='viridis', vmin=v_min, vmax=v_max)\n",
    "axarr[0].set_title(f\"Mean Contact - Top {criterion}\")\n",
    "\n",
    "im1 = axarr[1].imshow(mean_contact_2[:50, :50], cmap='viridis', vmin=v_min, vmax=v_max)\n",
    "axarr[1].set_title(f\"Mean Contact - Lowest {criterion}\")\n",
    "\n",
    "# Add colorbars to each subplot\n",
    "f.colorbar(im0, ax=axarr[0])\n",
    "f.colorbar(im1, ax=axarr[1])\n",
    "\n",
    "plt.tight_layout()\n",
    "plt.show()"
   ]
  },
  {
   "cell_type": "code",
   "execution_count": null,
   "id": "9da51251",
   "metadata": {},
   "outputs": [],
   "source": [
    "f, axarr = plt.subplots(2, 2, figsize=(20, 10))\n",
    "criterion = \"Molecular_weight\"\n",
    "\n",
    "# Compute mean contact maps once\n",
    "mean_contact_1 = np.mean(res['contacts'].numpy(), axis=0) ** 0.5\n",
    "mean_contact_2 = np.mean(res_2['contacts'].numpy(), axis=0) ** 0.5\n",
    "\n",
    "# Use the global min/max for consistent color scale\n",
    "v_max = max(np.max(mean_contact_1), np.max(mean_contact_2))\n",
    "v_min = min(np.min(mean_contact_1), np.min(mean_contact_2))\n",
    "\n",
    "# Plot contact maps\n",
    "im0 = axarr[1, 0].imshow(mean_contact_1[300:, 300:], cmap='viridis', vmin=v_min, vmax=v_max)\n",
    "axarr[1, 0].set_title(f\"Sequence End Mean Contact - Top {criterion}\")\n",
    "\n",
    "im1 = axarr[1,1].imshow(mean_contact_2[300:, 300:], cmap='viridis', vmin=v_min, vmax=v_max)\n",
    "axarr[1, 1].set_title(f\"Sequence End Mean Contact - Lowest {criterion}\")\n",
    "\n",
    "im0 = axarr[0, 0].imshow(mean_contact_1[:200, :200], cmap='viridis', vmin=v_min, vmax=v_max)\n",
    "axarr[0,0].set_title(f\"Sequence Start Mean Contact - Top {criterion}\")\n",
    "\n",
    "im1 = axarr[0,1].imshow(mean_contact_2[:200, :200], cmap='viridis', vmin=v_min, vmax=v_max)\n",
    "axarr[0, 1].set_title(f\"Sequence Start Mean Contact - Lowest {criterion}\")\n",
    "\n",
    "# Add colorbars to each subplot\n",
    "# f.colorbar(im0, ax=axarr[0])\n",
    "# f.colorbar(im1, ax=axarr[1])\n",
    "\n",
    "plt.tight_layout()\n",
    "plt.show()"
   ]
  },
  {
   "cell_type": "code",
   "execution_count": null,
   "id": "e89b8209",
   "metadata": {},
   "outputs": [],
   "source": [
    "plt.imshow(np.mean(res['contacts'].numpy(), axis=0))"
   ]
  },
  {
   "cell_type": "code",
   "execution_count": null,
   "id": "0726f02a",
   "metadata": {},
   "outputs": [],
   "source": [
    "plt.imshow(np.mean(res_2['contacts'].numpy(), axis=0))"
   ]
  },
  {
   "cell_type": "code",
   "execution_count": null,
   "id": "d51b0c8c",
   "metadata": {},
   "outputs": [],
   "source": [
    "print(res['representations'][6].shape)\n",
    "plt.imshow(res['representations'][6][0])"
   ]
  },
  {
   "cell_type": "code",
   "execution_count": null,
   "id": "378edafa",
   "metadata": {},
   "outputs": [],
   "source": [
    "res"
   ]
  },
  {
   "cell_type": "code",
   "execution_count": null,
   "id": "0c096fa4",
   "metadata": {},
   "outputs": [],
   "source": []
  }
 ],
 "metadata": {
  "kernelspec": {
   "display_name": "esmfold",
   "language": "python",
   "name": "python3"
  },
  "language_info": {
   "codemirror_mode": {
    "name": "ipython",
    "version": 3
   },
   "file_extension": ".py",
   "mimetype": "text/x-python",
   "name": "python",
   "nbconvert_exporter": "python",
   "pygments_lexer": "ipython3",
   "version": "3.7.12"
  }
 },
 "nbformat": 4,
 "nbformat_minor": 5
}
