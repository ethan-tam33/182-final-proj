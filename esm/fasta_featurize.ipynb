{
 "cells": [
  {
   "cell_type": "code",
   "execution_count": 1,
   "id": "905e813c",
   "metadata": {},
   "outputs": [],
   "source": [
    "import numpy as np\n",
    "import pandas as pd\n",
    "from Bio import SeqIO\n",
    "from Bio.Seq import Seq\n",
    "from Bio.SeqRecord import SeqRecord\n",
    "from Bio.SeqUtils.ProtParam import ProteinAnalysis\n",
    "import pandas as pd\n",
    "import numpy as np\n",
    "\n",
    "# takes FASTA files and generates dataframe and csv with descriptions and features"
   ]
  },
  {
   "cell_type": "code",
   "execution_count": null,
   "id": "fa31bd71",
   "metadata": {},
   "outputs": [],
   "source": [
    "# prot_features = {\n",
    "#     \"Molecular Weight\": lambda x: ProteinAnalysis(str(x)).molecular_weight(),\n",
    "#     \"Aromaticity\": lambda x: ProteinAnalysis(str(x)).aromaticity(),\n",
    "#     \"Instability Index\": lambda x: ProteinAnalysis(str(x)).instability_index(),\n",
    "#     \"Flexibility\": lambda x: ProteinAnalysis(str(x)).flexibility(),\n",
    "#     \"GRAVY\": lambda x: ProteinAnalysis(str(x)).gravy(),\n",
    "#     \"Isoelectric Point\": lambda x: ProteinAnalysis(str(x)).isoelectric_point(),\n",
    "#     \"Charge at pH:7.0\": lambda x: ProteinAnalysis(str(x)).charge_at_pH(7.0),\n",
    "# }\n",
    "prot_feats = {\n",
    "    \"Molecular Weight\": lambda x: x.molecular_weight(),\n",
    "    \"Aromaticity\": lambda x: x.aromaticity(),\n",
    "    \"Instability Index\": lambda x: x.instability_index(),\n",
    "    \"Flexibility\": lambda x: x.flexibility(),\n",
    "    \"GRAVY\": lambda x: x.gravy(),\n",
    "    \"Isoelectric Point\": lambda x: x.isoelectric_point(),\n",
    "    \"Charge at pH:7.0\": lambda x: x.charge_at_pH(7.0),\n",
    "}"
   ]
  },
  {
   "cell_type": "code",
   "execution_count": null,
   "id": "ed02c44f",
   "metadata": {},
   "outputs": [],
   "source": [
    "input_file = \"filtered_len_less_500.fasta\"\n",
    "\n",
    "records = []\n",
    "lim = 10000\n",
    "for record in SeqIO.parse(input_file, \"fasta\"):\n",
    "    seq_str = str(record.seq)\n",
    "\n",
    "    row = {\n",
    "        \"Sequence\": seq_str,\n",
    "        \"ID\": record.id,\n",
    "        \"Name\": record.name,\n",
    "        \"Description\": record.description,\n",
    "        \"Length\": len(seq_str),\n",
    "        \"Num_Features\": len(getattr(record, \"features\", [])),  # robust to missing 'features'\n",
    "    }\n",
    "\n",
    "    # Compute protein features unless there's an 'X' (unknown amino acid)\n",
    "    prot = ProteinAnalysis(seq_str)\n",
    "    if \"X\" in seq_str or \"U\" in seq_str:\n",
    "        for feature_name in prot_feats:\n",
    "            row[feature_name] = np.nan\n",
    "    else:\n",
    "        for feature_name, feature_func in prot_feats.items():\n",
    "            row[feature_name] = feature_func(prot)\n",
    "\n",
    "    records.append(row)\n",
    "    lim -= 1\n",
    "    if lim == 0:\n",
    "        break\n",
    "\n",
    "# Create DataFrame in one go (much faster)\n",
    "seq_df = pd.DataFrame(records)\n",
    "seq_df.set_index(\"ID\", inplace=True)\n",
    "seq_df.head()"
   ]
  },
  {
   "cell_type": "code",
   "execution_count": null,
   "id": "c8c3d7af",
   "metadata": {},
   "outputs": [],
   "source": [
    "seq_df.to_csv(\"seq_df_first_20000_less_500.csv\", index=True, compression=None)"
   ]
  },
  {
   "cell_type": "code",
   "execution_count": null,
   "id": "aadb3f88",
   "metadata": {},
   "outputs": [],
   "source": [
    "first_5000 = seq_df.head(2000)\n",
    "first_5000.to_csv(\"seq_df_first_2000.csv\", index=True)"
   ]
  },
  {
   "cell_type": "code",
   "execution_count": null,
   "id": "1aabd6b8",
   "metadata": {},
   "outputs": [],
   "source": [
    "seq_df"
   ]
  },
  {
   "cell_type": "code",
   "execution_count": null,
   "id": "b0f2e89f",
   "metadata": {},
   "outputs": [],
   "source": []
  }
 ],
 "metadata": {
  "kernelspec": {
   "display_name": "esmfold",
   "language": "python",
   "name": "python3"
  },
  "language_info": {
   "codemirror_mode": {
    "name": "ipython",
    "version": 3
   },
   "file_extension": ".py",
   "mimetype": "text/x-python",
   "name": "python",
   "nbconvert_exporter": "python",
   "pygments_lexer": "ipython3",
   "version": "3.7.12"
  }
 },
 "nbformat": 4,
 "nbformat_minor": 5
}
