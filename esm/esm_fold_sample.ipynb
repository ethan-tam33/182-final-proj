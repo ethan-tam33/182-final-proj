{
 "cells": [
  {
   "cell_type": "code",
   "execution_count": 1,
   "id": "e2dda2d0",
   "metadata": {},
   "outputs": [
    {
     "ename": "",
     "evalue": "",
     "output_type": "error",
     "traceback": [
      "\u001b[1;31mThe Kernel crashed while executing code in the current cell or a previous cell. \n",
      "\u001b[1;31mPlease review the code in the cell(s) to identify a possible cause of the failure. \n",
      "\u001b[1;31mClick <a href='https://aka.ms/vscodeJupyterKernelCrash'>here</a> for more info. \n",
      "\u001b[1;31mView Jupyter <a href='command:jupyter.viewOutput'>log</a> for further details."
     ]
    }
   ],
   "source": [
    "import esm\n",
    "import torch"
   ]
  },
  {
   "cell_type": "code",
   "execution_count": 3,
   "id": "51dd3ffc",
   "metadata": {},
   "outputs": [
    {
     "ename": "SyntaxError",
     "evalue": "invalid syntax (einops.py, line 807)",
     "output_type": "error",
     "traceback": [
      "Traceback \u001b[0;36m(most recent call last)\u001b[0m:\n",
      "  File \u001b[1;32m\"/Users/davidm/opt/anaconda3/envs/esmfold/lib/python3.7/site-packages/IPython/core/interactiveshell.py\"\u001b[0m, line \u001b[1;32m3552\u001b[0m, in \u001b[1;35mrun_code\u001b[0m\n    exec(code_obj, self.user_global_ns, self.user_ns)\n",
      "  File \u001b[1;32m\"<ipython-input-3-5fb94e04e3ed>\"\u001b[0m, line \u001b[1;32m1\u001b[0m, in \u001b[1;35m<module>\u001b[0m\n    model = esm.pretrained.esmfold_v1()\n",
      "  File \u001b[1;32m\"/Users/davidm/182-final-proj/esm/esm/pretrained.py\"\u001b[0m, line \u001b[1;32m419\u001b[0m, in \u001b[1;35mesmfold_v1\u001b[0m\n    import esm.esmfold.v1.pretrained\n",
      "  File \u001b[1;32m\"/Users/davidm/182-final-proj/esm/esm/esmfold/v1/pretrained.py\"\u001b[0m, line \u001b[1;32m10\u001b[0m, in \u001b[1;35m<module>\u001b[0m\n    from esm.esmfold.v1.esmfold import ESMFold\n",
      "  File \u001b[1;32m\"/Users/davidm/182-final-proj/esm/esm/esmfold/v1/esmfold.py\"\u001b[0m, line \u001b[1;32m17\u001b[0m, in \u001b[1;35m<module>\u001b[0m\n    from esm.esmfold.v1.misc import (\n",
      "  File \u001b[1;32m\"/Users/davidm/182-final-proj/esm/esm/esmfold/v1/misc.py\"\u001b[0m, line \u001b[1;32m10\u001b[0m, in \u001b[1;35m<module>\u001b[0m\n    from einops import rearrange, repeat\n",
      "\u001b[0;36m  File \u001b[0;32m\"/Users/davidm/opt/anaconda3/envs/esmfold/lib/python3.7/site-packages/einops/__init__.py\"\u001b[0;36m, line \u001b[0;32m14\u001b[0;36m, in \u001b[0;35m<module>\u001b[0;36m\u001b[0m\n\u001b[0;31m    from .einops import rearrange, reduce, repeat, einsum, parse_shape, asnumpy\u001b[0m\n",
      "\u001b[0;36m  File \u001b[0;32m\"/Users/davidm/opt/anaconda3/envs/esmfold/lib/python3.7/site-packages/einops/einops.py\"\u001b[0;36m, line \u001b[0;32m807\u001b[0m\n\u001b[0;31m    def einsum(tensor: Tensor, pattern: str, /) -> Tensor:\u001b[0m\n\u001b[0m                                             ^\u001b[0m\n\u001b[0;31mSyntaxError\u001b[0m\u001b[0;31m:\u001b[0m invalid syntax\n"
     ]
    }
   ],
   "source": [
    "model = esm.pretrained.esmfold_v1()\n",
    "model = model.eval()\n",
    "\n",
    "# Optionally, uncomment to set a chunk size for axial attention. This can help reduce memory.\n",
    "# Lower sizes will have lower memory requirements at the cost of increased speed.\n",
    "# model.set_chunk_size(128)\n",
    "\n",
    "sequence = \"MKTVRQERLKSIVRILERSKEPVSGAQLAEELSVSRQVIVQDIAYLRSLGYNIVATPRGYVLAGG\"\n",
    "# Multimer prediction can be done with chains separated by ':'\n",
    "\n",
    "with torch.no_grad():\n",
    "    output = model.infer_pdb(sequence)\n"
   ]
  },
  {
   "cell_type": "code",
   "execution_count": null,
   "id": "6b6ad5f2",
   "metadata": {},
   "outputs": [],
   "source": []
  }
 ],
 "metadata": {
  "kernelspec": {
   "display_name": "esmfold_2",
   "language": "python",
   "name": "python3"
  },
  "language_info": {
   "codemirror_mode": {
    "name": "ipython",
    "version": 3
   },
   "file_extension": ".py",
   "mimetype": "text/x-python",
   "name": "python",
   "nbconvert_exporter": "python",
   "pygments_lexer": "ipython3",
   "version": "3.8.20"
  }
 },
 "nbformat": 4,
 "nbformat_minor": 5
}
