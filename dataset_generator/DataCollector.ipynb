{
  "cells": [
    {
      "cell_type": "code",
      "execution_count": null,
      "metadata": {
        "colab": {
          "base_uri": "https://localhost:8080/"
        },
        "id": "6UagLDXhtMK1",
        "outputId": "0f3db8e3-9b15-4a78-ada8-8841982c015d"
      },
      "outputs": [
        {
          "name": "stdout",
          "output_type": "stream",
          "text": [
            "Collecting esm\n",
            "  Downloading esm-3.2.0-py3-none-any.whl.metadata (17 kB)\n",
            "Requirement already satisfied: torch>=2.2.0 in /usr/local/lib/python3.11/dist-packages (from esm) (2.6.0+cu124)\n",
            "Requirement already satisfied: torchvision in /usr/local/lib/python3.11/dist-packages (from esm) (0.21.0+cu124)\n",
            "Collecting torchtext (from esm)\n",
            "  Downloading torchtext-0.18.0-cp311-cp311-manylinux1_x86_64.whl.metadata (7.9 kB)\n",
            "Collecting transformers<4.48.2 (from esm)\n",
            "  Downloading transformers-4.48.1-py3-none-any.whl.metadata (44 kB)\n",
            "\u001b[2K     \u001b[90m━━━━━━━━━━━━━━━━━━━━━━━━━━━━━━━━━━━━━━━━\u001b[0m \u001b[32m44.4/44.4 kB\u001b[0m \u001b[31m4.1 MB/s\u001b[0m eta \u001b[36m0:00:00\u001b[0m\n",
            "\u001b[?25hRequirement already satisfied: ipython in /usr/local/lib/python3.11/dist-packages (from esm) (7.34.0)\n",
            "Requirement already satisfied: einops in /usr/local/lib/python3.11/dist-packages (from esm) (0.8.1)\n",
            "Collecting biotite>=1.0.0 (from esm)\n",
            "  Downloading biotite-1.2.0-cp311-cp311-manylinux_2_17_x86_64.manylinux2014_x86_64.whl.metadata (7.3 kB)\n",
            "Collecting msgpack-numpy (from esm)\n",
            "  Downloading msgpack_numpy-0.4.8-py2.py3-none-any.whl.metadata (5.0 kB)\n",
            "Collecting biopython (from esm)\n",
            "  Downloading biopython-1.85-cp311-cp311-manylinux_2_17_x86_64.manylinux2014_x86_64.whl.metadata (13 kB)\n",
            "Requirement already satisfied: scikit-learn in /usr/local/lib/python3.11/dist-packages (from esm) (1.6.1)\n",
            "Collecting brotli (from esm)\n",
            "  Downloading Brotli-1.1.0-cp311-cp311-manylinux_2_17_x86_64.manylinux2014_x86_64.whl.metadata (5.5 kB)\n",
            "Requirement already satisfied: attrs in /usr/local/lib/python3.11/dist-packages (from esm) (25.3.0)\n",
            "Requirement already satisfied: pandas in /usr/local/lib/python3.11/dist-packages (from esm) (2.2.2)\n",
            "Requirement already satisfied: cloudpathlib in /usr/local/lib/python3.11/dist-packages (from esm) (0.21.0)\n",
            "Requirement already satisfied: tenacity in /usr/local/lib/python3.11/dist-packages (from esm) (9.1.2)\n",
            "Collecting zstd (from esm)\n",
            "  Downloading zstd-1.5.6.7-cp311-cp311-manylinux_2_17_x86_64.manylinux2014_x86_64.manylinux_2_24_x86_64.whl.metadata (20 kB)\n",
            "Collecting biotraj<2.0,>=1.0 (from biotite>=1.0.0->esm)\n",
            "  Downloading biotraj-1.2.2-cp311-cp311-manylinux_2_17_x86_64.manylinux2014_x86_64.whl.metadata (32 kB)\n",
            "Requirement already satisfied: msgpack>=0.5.6 in /usr/local/lib/python3.11/dist-packages (from biotite>=1.0.0->esm) (1.1.0)\n",
            "Requirement already satisfied: networkx>=2.0 in /usr/local/lib/python3.11/dist-packages (from biotite>=1.0.0->esm) (3.4.2)\n",
            "Requirement already satisfied: numpy>=1.25 in /usr/local/lib/python3.11/dist-packages (from biotite>=1.0.0->esm) (2.0.2)\n",
            "Requirement already satisfied: packaging>=24.0 in /usr/local/lib/python3.11/dist-packages (from biotite>=1.0.0->esm) (24.2)\n",
            "Requirement already satisfied: requests>=2.12 in /usr/local/lib/python3.11/dist-packages (from biotite>=1.0.0->esm) (2.32.3)\n",
            "Requirement already satisfied: filelock in /usr/local/lib/python3.11/dist-packages (from torch>=2.2.0->esm) (3.18.0)\n",
            "Requirement already satisfied: typing-extensions>=4.10.0 in /usr/local/lib/python3.11/dist-packages (from torch>=2.2.0->esm) (4.13.2)\n",
            "Requirement already satisfied: jinja2 in /usr/local/lib/python3.11/dist-packages (from torch>=2.2.0->esm) (3.1.6)\n",
            "Requirement already satisfied: fsspec in /usr/local/lib/python3.11/dist-packages (from torch>=2.2.0->esm) (2025.3.2)\n",
            "Collecting nvidia-cuda-nvrtc-cu12==12.4.127 (from torch>=2.2.0->esm)\n",
            "  Downloading nvidia_cuda_nvrtc_cu12-12.4.127-py3-none-manylinux2014_x86_64.whl.metadata (1.5 kB)\n",
            "Collecting nvidia-cuda-runtime-cu12==12.4.127 (from torch>=2.2.0->esm)\n",
            "  Downloading nvidia_cuda_runtime_cu12-12.4.127-py3-none-manylinux2014_x86_64.whl.metadata (1.5 kB)\n",
            "Collecting nvidia-cuda-cupti-cu12==12.4.127 (from torch>=2.2.0->esm)\n",
            "  Downloading nvidia_cuda_cupti_cu12-12.4.127-py3-none-manylinux2014_x86_64.whl.metadata (1.6 kB)\n",
            "Collecting nvidia-cudnn-cu12==9.1.0.70 (from torch>=2.2.0->esm)\n",
            "  Downloading nvidia_cudnn_cu12-9.1.0.70-py3-none-manylinux2014_x86_64.whl.metadata (1.6 kB)\n",
            "Collecting nvidia-cublas-cu12==12.4.5.8 (from torch>=2.2.0->esm)\n",
            "  Downloading nvidia_cublas_cu12-12.4.5.8-py3-none-manylinux2014_x86_64.whl.metadata (1.5 kB)\n",
            "Collecting nvidia-cufft-cu12==11.2.1.3 (from torch>=2.2.0->esm)\n",
            "  Downloading nvidia_cufft_cu12-11.2.1.3-py3-none-manylinux2014_x86_64.whl.metadata (1.5 kB)\n",
            "Collecting nvidia-curand-cu12==10.3.5.147 (from torch>=2.2.0->esm)\n",
            "  Downloading nvidia_curand_cu12-10.3.5.147-py3-none-manylinux2014_x86_64.whl.metadata (1.5 kB)\n",
            "Collecting nvidia-cusolver-cu12==11.6.1.9 (from torch>=2.2.0->esm)\n",
            "  Downloading nvidia_cusolver_cu12-11.6.1.9-py3-none-manylinux2014_x86_64.whl.metadata (1.6 kB)\n",
            "Collecting nvidia-cusparse-cu12==12.3.1.170 (from torch>=2.2.0->esm)\n",
            "  Downloading nvidia_cusparse_cu12-12.3.1.170-py3-none-manylinux2014_x86_64.whl.metadata (1.6 kB)\n",
            "Requirement already satisfied: nvidia-cusparselt-cu12==0.6.2 in /usr/local/lib/python3.11/dist-packages (from torch>=2.2.0->esm) (0.6.2)\n",
            "Requirement already satisfied: nvidia-nccl-cu12==2.21.5 in /usr/local/lib/python3.11/dist-packages (from torch>=2.2.0->esm) (2.21.5)\n",
            "Requirement already satisfied: nvidia-nvtx-cu12==12.4.127 in /usr/local/lib/python3.11/dist-packages (from torch>=2.2.0->esm) (12.4.127)\n",
            "Collecting nvidia-nvjitlink-cu12==12.4.127 (from torch>=2.2.0->esm)\n",
            "  Downloading nvidia_nvjitlink_cu12-12.4.127-py3-none-manylinux2014_x86_64.whl.metadata (1.5 kB)\n",
            "Requirement already satisfied: triton==3.2.0 in /usr/local/lib/python3.11/dist-packages (from torch>=2.2.0->esm) (3.2.0)\n",
            "Requirement already satisfied: sympy==1.13.1 in /usr/local/lib/python3.11/dist-packages (from torch>=2.2.0->esm) (1.13.1)\n",
            "Requirement already satisfied: mpmath<1.4,>=1.1.0 in /usr/local/lib/python3.11/dist-packages (from sympy==1.13.1->torch>=2.2.0->esm) (1.3.0)\n",
            "Requirement already satisfied: huggingface-hub<1.0,>=0.24.0 in /usr/local/lib/python3.11/dist-packages (from transformers<4.48.2->esm) (0.30.2)\n",
            "Requirement already satisfied: pyyaml>=5.1 in /usr/local/lib/python3.11/dist-packages (from transformers<4.48.2->esm) (6.0.2)\n",
            "Requirement already satisfied: regex!=2019.12.17 in /usr/local/lib/python3.11/dist-packages (from transformers<4.48.2->esm) (2024.11.6)\n",
            "Requirement already satisfied: tokenizers<0.22,>=0.21 in /usr/local/lib/python3.11/dist-packages (from transformers<4.48.2->esm) (0.21.1)\n",
            "Requirement already satisfied: safetensors>=0.4.1 in /usr/local/lib/python3.11/dist-packages (from transformers<4.48.2->esm) (0.5.3)\n",
            "Requirement already satisfied: tqdm>=4.27 in /usr/local/lib/python3.11/dist-packages (from transformers<4.48.2->esm) (4.67.1)\n",
            "Requirement already satisfied: setuptools>=18.5 in /usr/local/lib/python3.11/dist-packages (from ipython->esm) (75.2.0)\n",
            "Collecting jedi>=0.16 (from ipython->esm)\n",
            "  Downloading jedi-0.19.2-py2.py3-none-any.whl.metadata (22 kB)\n",
            "Requirement already satisfied: decorator in /usr/local/lib/python3.11/dist-packages (from ipython->esm) (4.4.2)\n",
            "Requirement already satisfied: pickleshare in /usr/local/lib/python3.11/dist-packages (from ipython->esm) (0.7.5)\n",
            "Requirement already satisfied: traitlets>=4.2 in /usr/local/lib/python3.11/dist-packages (from ipython->esm) (5.7.1)\n",
            "Requirement already satisfied: prompt-toolkit!=3.0.0,!=3.0.1,<3.1.0,>=2.0.0 in /usr/local/lib/python3.11/dist-packages (from ipython->esm) (3.0.51)\n",
            "Requirement already satisfied: pygments in /usr/local/lib/python3.11/dist-packages (from ipython->esm) (2.19.1)\n",
            "Requirement already satisfied: backcall in /usr/local/lib/python3.11/dist-packages (from ipython->esm) (0.2.0)\n",
            "Requirement already satisfied: matplotlib-inline in /usr/local/lib/python3.11/dist-packages (from ipython->esm) (0.1.7)\n",
            "Requirement already satisfied: pexpect>4.3 in /usr/local/lib/python3.11/dist-packages (from ipython->esm) (4.9.0)\n",
            "Requirement already satisfied: python-dateutil>=2.8.2 in /usr/local/lib/python3.11/dist-packages (from pandas->esm) (2.9.0.post0)\n",
            "Requirement already satisfied: pytz>=2020.1 in /usr/local/lib/python3.11/dist-packages (from pandas->esm) (2025.2)\n",
            "Requirement already satisfied: tzdata>=2022.7 in /usr/local/lib/python3.11/dist-packages (from pandas->esm) (2025.2)\n",
            "Requirement already satisfied: scipy>=1.6.0 in /usr/local/lib/python3.11/dist-packages (from scikit-learn->esm) (1.15.2)\n",
            "Requirement already satisfied: joblib>=1.2.0 in /usr/local/lib/python3.11/dist-packages (from scikit-learn->esm) (1.4.2)\n",
            "Requirement already satisfied: threadpoolctl>=3.1.0 in /usr/local/lib/python3.11/dist-packages (from scikit-learn->esm) (3.6.0)\n",
            "Requirement already satisfied: pillow!=8.3.*,>=5.3.0 in /usr/local/lib/python3.11/dist-packages (from torchvision->esm) (11.2.1)\n",
            "Requirement already satisfied: parso<0.9.0,>=0.8.4 in /usr/local/lib/python3.11/dist-packages (from jedi>=0.16->ipython->esm) (0.8.4)\n",
            "Requirement already satisfied: ptyprocess>=0.5 in /usr/local/lib/python3.11/dist-packages (from pexpect>4.3->ipython->esm) (0.7.0)\n",
            "Requirement already satisfied: wcwidth in /usr/local/lib/python3.11/dist-packages (from prompt-toolkit!=3.0.0,!=3.0.1,<3.1.0,>=2.0.0->ipython->esm) (0.2.13)\n",
            "Requirement already satisfied: six>=1.5 in /usr/local/lib/python3.11/dist-packages (from python-dateutil>=2.8.2->pandas->esm) (1.17.0)\n",
            "Requirement already satisfied: charset-normalizer<4,>=2 in /usr/local/lib/python3.11/dist-packages (from requests>=2.12->biotite>=1.0.0->esm) (3.4.1)\n",
            "Requirement already satisfied: idna<4,>=2.5 in /usr/local/lib/python3.11/dist-packages (from requests>=2.12->biotite>=1.0.0->esm) (3.10)\n",
            "Requirement already satisfied: urllib3<3,>=1.21.1 in /usr/local/lib/python3.11/dist-packages (from requests>=2.12->biotite>=1.0.0->esm) (2.4.0)\n",
            "Requirement already satisfied: certifi>=2017.4.17 in /usr/local/lib/python3.11/dist-packages (from requests>=2.12->biotite>=1.0.0->esm) (2025.1.31)\n",
            "Requirement already satisfied: MarkupSafe>=2.0 in /usr/local/lib/python3.11/dist-packages (from jinja2->torch>=2.2.0->esm) (3.0.2)\n",
            "Downloading esm-3.2.0-py3-none-any.whl (2.4 MB)\n",
            "\u001b[2K   \u001b[90m━━━━━━━━━━━━━━━━━━━━━━━━━━━━━━━━━━━━━━━━\u001b[0m \u001b[32m2.4/2.4 MB\u001b[0m \u001b[31m50.1 MB/s\u001b[0m eta \u001b[36m0:00:00\u001b[0m\n",
            "\u001b[?25hDownloading biotite-1.2.0-cp311-cp311-manylinux_2_17_x86_64.manylinux2014_x86_64.whl (53.8 MB)\n",
            "\u001b[2K   \u001b[90m━━━━━━━━━━━━━━━━━━━━━━━━━━━━━━━━━━━━━━━━\u001b[0m \u001b[32m53.8/53.8 MB\u001b[0m \u001b[31m12.7 MB/s\u001b[0m eta \u001b[36m0:00:00\u001b[0m\n",
            "\u001b[?25hDownloading nvidia_cublas_cu12-12.4.5.8-py3-none-manylinux2014_x86_64.whl (363.4 MB)\n",
            "\u001b[2K   \u001b[90m━━━━━━━━━━━━━━━━━━━━━━━━━━━━━━━━━━━━━━━━\u001b[0m \u001b[32m363.4/363.4 MB\u001b[0m \u001b[31m3.1 MB/s\u001b[0m eta \u001b[36m0:00:00\u001b[0m\n",
            "\u001b[?25hDownloading nvidia_cuda_cupti_cu12-12.4.127-py3-none-manylinux2014_x86_64.whl (13.8 MB)\n",
            "\u001b[2K   \u001b[90m━━━━━━━━━━━━━━━━━━━━━━━━━━━━━━━━━━━━━━━━\u001b[0m \u001b[32m13.8/13.8 MB\u001b[0m \u001b[31m93.9 MB/s\u001b[0m eta \u001b[36m0:00:00\u001b[0m\n",
            "\u001b[?25hDownloading nvidia_cuda_nvrtc_cu12-12.4.127-py3-none-manylinux2014_x86_64.whl (24.6 MB)\n",
            "\u001b[2K   \u001b[90m━━━━━━━━━━━━━━━━━━━━━━━━━━━━━━━━━━━━━━━━\u001b[0m \u001b[32m24.6/24.6 MB\u001b[0m \u001b[31m100.4 MB/s\u001b[0m eta \u001b[36m0:00:00\u001b[0m\n",
            "\u001b[?25hDownloading nvidia_cuda_runtime_cu12-12.4.127-py3-none-manylinux2014_x86_64.whl (883 kB)\n",
            "\u001b[2K   \u001b[90m━━━━━━━━━━━━━━━━━━━━━━━━━━━━━━━━━━━━━━━━\u001b[0m \u001b[32m883.7/883.7 kB\u001b[0m \u001b[31m52.2 MB/s\u001b[0m eta \u001b[36m0:00:00\u001b[0m\n",
            "\u001b[?25hDownloading nvidia_cudnn_cu12-9.1.0.70-py3-none-manylinux2014_x86_64.whl (664.8 MB)\n",
            "\u001b[2K   \u001b[90m━━━━━━━━━━━━━━━━━━━━━━━━━━━━━━━━━━━━━━━━\u001b[0m \u001b[32m664.8/664.8 MB\u001b[0m \u001b[31m2.1 MB/s\u001b[0m eta \u001b[36m0:00:00\u001b[0m\n",
            "\u001b[?25hDownloading nvidia_cufft_cu12-11.2.1.3-py3-none-manylinux2014_x86_64.whl (211.5 MB)\n",
            "\u001b[2K   \u001b[90m━━━━━━━━━━━━━━━━━━━━━━━━━━━━━━━━━━━━━━━━\u001b[0m \u001b[32m211.5/211.5 MB\u001b[0m \u001b[31m5.5 MB/s\u001b[0m eta \u001b[36m0:00:00\u001b[0m\n",
            "\u001b[?25hDownloading nvidia_curand_cu12-10.3.5.147-py3-none-manylinux2014_x86_64.whl (56.3 MB)\n",
            "\u001b[2K   \u001b[90m━━━━━━━━━━━━━━━━━━━━━━━━━━━━━━━━━━━━━━━━\u001b[0m \u001b[32m56.3/56.3 MB\u001b[0m \u001b[31m14.4 MB/s\u001b[0m eta \u001b[36m0:00:00\u001b[0m\n",
            "\u001b[?25hDownloading nvidia_cusolver_cu12-11.6.1.9-py3-none-manylinux2014_x86_64.whl (127.9 MB)\n",
            "\u001b[2K   \u001b[90m━━━━━━━━━━━━━━━━━━━━━━━━━━━━━━━━━━━━━━━━\u001b[0m \u001b[32m127.9/127.9 MB\u001b[0m \u001b[31m7.4 MB/s\u001b[0m eta \u001b[36m0:00:00\u001b[0m\n",
            "\u001b[?25hDownloading nvidia_cusparse_cu12-12.3.1.170-py3-none-manylinux2014_x86_64.whl (207.5 MB)\n",
            "\u001b[2K   \u001b[90m━━━━━━━━━━━━━━━━━━━━━━━━━━━━━━━━━━━━━━━━\u001b[0m \u001b[32m207.5/207.5 MB\u001b[0m \u001b[31m5.4 MB/s\u001b[0m eta \u001b[36m0:00:00\u001b[0m\n",
            "\u001b[?25hDownloading nvidia_nvjitlink_cu12-12.4.127-py3-none-manylinux2014_x86_64.whl (21.1 MB)\n",
            "\u001b[2K   \u001b[90m━━━━━━━━━━━━━━━━━━━━━━━━━━━━━━━━━━━━━━━━\u001b[0m \u001b[32m21.1/21.1 MB\u001b[0m \u001b[31m54.3 MB/s\u001b[0m eta \u001b[36m0:00:00\u001b[0m\n",
            "\u001b[?25hDownloading transformers-4.48.1-py3-none-any.whl (9.7 MB)\n",
            "\u001b[2K   \u001b[90m━━━━━━━━━━━━━━━━━━━━━━━━━━━━━━━━━━━━━━━━\u001b[0m \u001b[32m9.7/9.7 MB\u001b[0m \u001b[31m120.3 MB/s\u001b[0m eta \u001b[36m0:00:00\u001b[0m\n",
            "\u001b[?25hDownloading biopython-1.85-cp311-cp311-manylinux_2_17_x86_64.manylinux2014_x86_64.whl (3.3 MB)\n",
            "\u001b[2K   \u001b[90m━━━━━━━━━━━━━━━━━━━━━━━━━━━━━━━━━━━━━━━━\u001b[0m \u001b[32m3.3/3.3 MB\u001b[0m \u001b[31m103.8 MB/s\u001b[0m eta \u001b[36m0:00:00\u001b[0m\n",
            "\u001b[?25hDownloading Brotli-1.1.0-cp311-cp311-manylinux_2_17_x86_64.manylinux2014_x86_64.whl (2.9 MB)\n",
            "\u001b[2K   \u001b[90m━━━━━━━━━━━━━━━━━━━━━━━━━━━━━━━━━━━━━━━━\u001b[0m \u001b[32m2.9/2.9 MB\u001b[0m \u001b[31m102.1 MB/s\u001b[0m eta \u001b[36m0:00:00\u001b[0m\n",
            "\u001b[?25hDownloading msgpack_numpy-0.4.8-py2.py3-none-any.whl (6.9 kB)\n",
            "Downloading torchtext-0.18.0-cp311-cp311-manylinux1_x86_64.whl (2.0 MB)\n",
            "\u001b[2K   \u001b[90m━━━━━━━━━━━━━━━━━━━━━━━━━━━━━━━━━━━━━━━━\u001b[0m \u001b[32m2.0/2.0 MB\u001b[0m \u001b[31m94.8 MB/s\u001b[0m eta \u001b[36m0:00:00\u001b[0m\n",
            "\u001b[?25hDownloading zstd-1.5.6.7-cp311-cp311-manylinux_2_17_x86_64.manylinux2014_x86_64.manylinux_2_24_x86_64.whl (1.4 MB)\n",
            "\u001b[2K   \u001b[90m━━━━━━━━━━━━━━━━━━━━━━━━━━━━━━━━━━━━━━━━\u001b[0m \u001b[32m1.4/1.4 MB\u001b[0m \u001b[31m72.8 MB/s\u001b[0m eta \u001b[36m0:00:00\u001b[0m\n",
            "\u001b[?25hDownloading biotraj-1.2.2-cp311-cp311-manylinux_2_17_x86_64.manylinux2014_x86_64.whl (2.2 MB)\n",
            "\u001b[2K   \u001b[90m━━━━━━━━━━━━━━━━━━━━━━━━━━━━━━━━━━━━━━━━\u001b[0m \u001b[32m2.2/2.2 MB\u001b[0m \u001b[31m74.3 MB/s\u001b[0m eta \u001b[36m0:00:00\u001b[0m\n",
            "\u001b[?25hDownloading jedi-0.19.2-py2.py3-none-any.whl (1.6 MB)\n",
            "\u001b[2K   \u001b[90m━━━━━━━━━━━━━━━━━━━━━━━━━━━━━━━━━━━━━━━━\u001b[0m \u001b[32m1.6/1.6 MB\u001b[0m \u001b[31m87.5 MB/s\u001b[0m eta \u001b[36m0:00:00\u001b[0m\n",
            "\u001b[?25hInstalling collected packages: zstd, brotli, nvidia-nvjitlink-cu12, nvidia-curand-cu12, nvidia-cufft-cu12, nvidia-cuda-runtime-cu12, nvidia-cuda-nvrtc-cu12, nvidia-cuda-cupti-cu12, nvidia-cublas-cu12, msgpack-numpy, jedi, biopython, nvidia-cusparse-cu12, nvidia-cudnn-cu12, biotraj, nvidia-cusolver-cu12, biotite, transformers, torchtext, esm\n",
            "  Attempting uninstall: nvidia-nvjitlink-cu12\n",
            "    Found existing installation: nvidia-nvjitlink-cu12 12.5.82\n",
            "    Uninstalling nvidia-nvjitlink-cu12-12.5.82:\n",
            "      Successfully uninstalled nvidia-nvjitlink-cu12-12.5.82\n",
            "  Attempting uninstall: nvidia-curand-cu12\n",
            "    Found existing installation: nvidia-curand-cu12 10.3.6.82\n",
            "    Uninstalling nvidia-curand-cu12-10.3.6.82:\n",
            "      Successfully uninstalled nvidia-curand-cu12-10.3.6.82\n",
            "  Attempting uninstall: nvidia-cufft-cu12\n",
            "    Found existing installation: nvidia-cufft-cu12 11.2.3.61\n",
            "    Uninstalling nvidia-cufft-cu12-11.2.3.61:\n",
            "      Successfully uninstalled nvidia-cufft-cu12-11.2.3.61\n",
            "  Attempting uninstall: nvidia-cuda-runtime-cu12\n",
            "    Found existing installation: nvidia-cuda-runtime-cu12 12.5.82\n",
            "    Uninstalling nvidia-cuda-runtime-cu12-12.5.82:\n",
            "      Successfully uninstalled nvidia-cuda-runtime-cu12-12.5.82\n",
            "  Attempting uninstall: nvidia-cuda-nvrtc-cu12\n",
            "    Found existing installation: nvidia-cuda-nvrtc-cu12 12.5.82\n",
            "    Uninstalling nvidia-cuda-nvrtc-cu12-12.5.82:\n",
            "      Successfully uninstalled nvidia-cuda-nvrtc-cu12-12.5.82\n",
            "  Attempting uninstall: nvidia-cuda-cupti-cu12\n",
            "    Found existing installation: nvidia-cuda-cupti-cu12 12.5.82\n",
            "    Uninstalling nvidia-cuda-cupti-cu12-12.5.82:\n",
            "      Successfully uninstalled nvidia-cuda-cupti-cu12-12.5.82\n",
            "  Attempting uninstall: nvidia-cublas-cu12\n",
            "    Found existing installation: nvidia-cublas-cu12 12.5.3.2\n",
            "    Uninstalling nvidia-cublas-cu12-12.5.3.2:\n",
            "      Successfully uninstalled nvidia-cublas-cu12-12.5.3.2\n",
            "  Attempting uninstall: nvidia-cusparse-cu12\n",
            "    Found existing installation: nvidia-cusparse-cu12 12.5.1.3\n",
            "    Uninstalling nvidia-cusparse-cu12-12.5.1.3:\n",
            "      Successfully uninstalled nvidia-cusparse-cu12-12.5.1.3\n",
            "  Attempting uninstall: nvidia-cudnn-cu12\n",
            "    Found existing installation: nvidia-cudnn-cu12 9.3.0.75\n",
            "    Uninstalling nvidia-cudnn-cu12-9.3.0.75:\n",
            "      Successfully uninstalled nvidia-cudnn-cu12-9.3.0.75\n",
            "  Attempting uninstall: nvidia-cusolver-cu12\n",
            "    Found existing installation: nvidia-cusolver-cu12 11.6.3.83\n",
            "    Uninstalling nvidia-cusolver-cu12-11.6.3.83:\n",
            "      Successfully uninstalled nvidia-cusolver-cu12-11.6.3.83\n",
            "  Attempting uninstall: transformers\n",
            "    Found existing installation: transformers 4.51.3\n",
            "    Uninstalling transformers-4.51.3:\n",
            "      Successfully uninstalled transformers-4.51.3\n",
            "Successfully installed biopython-1.85 biotite-1.2.0 biotraj-1.2.2 brotli-1.1.0 esm-3.2.0 jedi-0.19.2 msgpack-numpy-0.4.8 nvidia-cublas-cu12-12.4.5.8 nvidia-cuda-cupti-cu12-12.4.127 nvidia-cuda-nvrtc-cu12-12.4.127 nvidia-cuda-runtime-cu12-12.4.127 nvidia-cudnn-cu12-9.1.0.70 nvidia-cufft-cu12-11.2.1.3 nvidia-curand-cu12-10.3.5.147 nvidia-cusolver-cu12-11.6.1.9 nvidia-cusparse-cu12-12.3.1.170 nvidia-nvjitlink-cu12-12.4.127 torchtext-0.18.0 transformers-4.48.1 zstd-1.5.6.7\n",
            "Requirement already satisfied: biopython in /usr/local/lib/python3.11/dist-packages (1.85)\n",
            "Requirement already satisfied: numpy in /usr/local/lib/python3.11/dist-packages (from biopython) (2.0.2)\n"
          ]
        }
      ],
      "source": [
        "!pip install esm\n",
        "!pip install biopython"
      ]
    },
    {
      "cell_type": "code",
      "execution_count": null,
      "metadata": {
        "id": "gFi1AWFFtIv9"
      },
      "outputs": [],
      "source": [
        "import os\n",
        "import torch\n",
        "import pandas as pd\n",
        "from tqdm import tqdm\n",
        "from Bio import SeqIO\n",
        "from esm import pretrained\n",
        "from Bio.SeqUtils.ProtParam import ProteinAnalysis"
      ]
    },
    {
      "cell_type": "code",
      "execution_count": null,
      "metadata": {
        "colab": {
          "base_uri": "https://localhost:8080/",
          "height": 81,
          "referenced_widgets": [
            "12d5426edd404b7692137834945c184d",
            "628d70b07d894fe19f465f48d1640c4f",
            "c330d3620e844b71a9f154f7f3b27425",
            "7889f24688394d05b2f9e1c116f795c8",
            "fff0b89e91b94832b8a91b5f587ea913",
            "1f179512591f4e3183ec5a13a914146a",
            "f866c418674540578976d8bc2cc7e6b8",
            "0a2ea8c86ad64825a56ebacbfd4f8486",
            "bf6f1a8af6f04bc98035be50a72e74fe",
            "3dce696809d848818fd1b6bfe95b1b89",
            "2e9a6645c42d40e1b8271980c9c38d34",
            "800baa5042b64361b6a471e958373f49",
            "1196e0034a0b465e9aaa88b4e413d9b9",
            "4c441251b2e14c0bbd5ab920568b30a3",
            "e68e12e1832b474c91efda1598115685",
            "c1505bf2263c4c99abd4e22ca98e4dab",
            "0861ee1e3d1444d8bf6dc012fffbe7c2",
            "0c154f9b4f6244f8ae208c8758c3ec8d",
            "2124c05e06f64f6088416d32ab1f2b38",
            "8e03610655b24a3db70c0a9d5bbdb7b0",
            "4fde6aa2415a477d9daf881412c7d3a6",
            "c2d5687dfd1a494699c28312757044e6"
          ]
        },
        "id": "Mq2Mbru2xr0S",
        "outputId": "e28cb271-facb-46e1-f0ea-918962ba8d33"
      },
      "outputs": [
        {
          "data": {
            "application/vnd.jupyter.widget-view+json": {
              "model_id": "12d5426edd404b7692137834945c184d",
              "version_major": 2,
              "version_minor": 0
            },
            "text/plain": [
              "Resolving data files:   0%|          | 0/40 [00:00<?, ?it/s]"
            ]
          },
          "metadata": {},
          "output_type": "display_data"
        },
        {
          "data": {
            "application/vnd.jupyter.widget-view+json": {
              "model_id": "800baa5042b64361b6a471e958373f49",
              "version_major": 2,
              "version_minor": 0
            },
            "text/plain": [
              "Resolving data files:   0%|          | 0/40 [00:00<?, ?it/s]"
            ]
          },
          "metadata": {},
          "output_type": "display_data"
        }
      ],
      "source": [
        "from datasets import load_dataset\n",
        "\n",
        "# Load the dataset in streaming mode\n",
        "streamed_dataset = load_dataset(\"bloyal/uniref50\", split=\"train\", streaming=True)\n",
        "\n",
        "# Take only the first 25,000 items\n",
        "from itertools import islice\n",
        "dataset = list(islice(streamed_dataset, 25000))"
      ]
    },
    {
      "cell_type": "code",
      "execution_count": null,
      "metadata": {
        "id": "UYFf-vwutvjN"
      },
      "outputs": [],
      "source": [
        "# Setup\n",
        "fasta_path = \"input.fasta\"\n",
        "output_dir = \"data\"\n",
        "os.makedirs(output_dir, exist_ok=True)"
      ]
    },
    {
      "cell_type": "code",
      "execution_count": null,
      "metadata": {
        "colab": {
          "base_uri": "https://localhost:8080/"
        },
        "id": "MnJwLVsQtwZN",
        "outputId": "0287298f-49e4-4331-aa9b-0326782c95b0"
      },
      "outputs": [
        {
          "name": "stderr",
          "output_type": "stream",
          "text": [
            "Some weights of EsmModel were not initialized from the model checkpoint at facebook/esm2_t6_8M_UR50D and are newly initialized: ['esm.pooler.dense.bias', 'esm.pooler.dense.weight']\n",
            "You should probably TRAIN this model on a down-stream task to be able to use it for predictions and inference.\n"
          ]
        },
        {
          "data": {
            "text/plain": [
              "EsmModel(\n",
              "  (embeddings): EsmEmbeddings(\n",
              "    (word_embeddings): Embedding(33, 320, padding_idx=1)\n",
              "    (dropout): Dropout(p=0.0, inplace=False)\n",
              "    (position_embeddings): Embedding(1026, 320, padding_idx=1)\n",
              "  )\n",
              "  (encoder): EsmEncoder(\n",
              "    (layer): ModuleList(\n",
              "      (0-5): 6 x EsmLayer(\n",
              "        (attention): EsmAttention(\n",
              "          (self): EsmSelfAttention(\n",
              "            (query): Linear(in_features=320, out_features=320, bias=True)\n",
              "            (key): Linear(in_features=320, out_features=320, bias=True)\n",
              "            (value): Linear(in_features=320, out_features=320, bias=True)\n",
              "            (dropout): Dropout(p=0.0, inplace=False)\n",
              "            (rotary_embeddings): RotaryEmbedding()\n",
              "          )\n",
              "          (output): EsmSelfOutput(\n",
              "            (dense): Linear(in_features=320, out_features=320, bias=True)\n",
              "            (dropout): Dropout(p=0.0, inplace=False)\n",
              "          )\n",
              "          (LayerNorm): LayerNorm((320,), eps=1e-05, elementwise_affine=True)\n",
              "        )\n",
              "        (intermediate): EsmIntermediate(\n",
              "          (dense): Linear(in_features=320, out_features=1280, bias=True)\n",
              "        )\n",
              "        (output): EsmOutput(\n",
              "          (dense): Linear(in_features=1280, out_features=320, bias=True)\n",
              "          (dropout): Dropout(p=0.0, inplace=False)\n",
              "        )\n",
              "        (LayerNorm): LayerNorm((320,), eps=1e-05, elementwise_affine=True)\n",
              "      )\n",
              "    )\n",
              "    (emb_layer_norm_after): LayerNorm((320,), eps=1e-05, elementwise_affine=True)\n",
              "  )\n",
              "  (pooler): EsmPooler(\n",
              "    (dense): Linear(in_features=320, out_features=320, bias=True)\n",
              "    (activation): Tanh()\n",
              "  )\n",
              "  (contact_head): EsmContactPredictionHead(\n",
              "    (regression): Linear(in_features=120, out_features=1, bias=True)\n",
              "    (activation): Sigmoid()\n",
              "  )\n",
              ")"
            ]
          },
          "execution_count": 36,
          "metadata": {},
          "output_type": "execute_result"
        }
      ],
      "source": [
        "from transformers import EsmModel, EsmTokenizer\n",
        "\n",
        "model_name = \"facebook/esm2_t6_8M_UR50D\"\n",
        "tokenizer = EsmTokenizer.from_pretrained(model_name)\n",
        "model = EsmModel.from_pretrained(model_name)\n",
        "model.eval().cuda()  # If using a GPU"
      ]
    },
    {
      "cell_type": "code",
      "execution_count": null,
      "metadata": {
        "colab": {
          "background_save": true,
          "base_uri": "https://localhost:8080/"
        },
        "id": "21XyUBOms-2r",
        "outputId": "5eda2ddc-ae1f-4def-80de-3481f7efb1ef"
      },
      "outputs": [
        {
          "name": "stderr",
          "output_type": "stream",
          "text": [
            "  0%|          | 8/25000 [00:02<1:21:48,  5.09it/s]"
          ]
        },
        {
          "name": "stdout",
          "output_type": "stream",
          "text": [
            "Skipping UniRef50_K7G060 due to ProteinAnalysis error: ''X'' is not a valid unambiguous letter for protein\n"
          ]
        },
        {
          "name": "stderr",
          "output_type": "stream",
          "text": [
            "  0%|          | 18/25000 [00:04<1:17:14,  5.39it/s]"
          ]
        },
        {
          "name": "stdout",
          "output_type": "stream",
          "text": [
            "Skipping UniRef50_UPI00244459C2 due to ProteinAnalysis error: ''X'' is not a valid unambiguous letter for protein\n"
          ]
        },
        {
          "name": "stderr",
          "output_type": "stream",
          "text": [
            "  0%|          | 22/25000 [00:05<1:17:42,  5.36it/s]"
          ]
        },
        {
          "name": "stdout",
          "output_type": "stream",
          "text": [
            "Skipping UniRef50_G1P5X9 due to ProteinAnalysis error: ''X'' is not a valid unambiguous letter for protein\n"
          ]
        },
        {
          "name": "stderr",
          "output_type": "stream",
          "text": [
            "  0%|          | 25/25000 [00:05<59:10,  7.03it/s]  "
          ]
        },
        {
          "name": "stdout",
          "output_type": "stream",
          "text": [
            "Skipping UniRef50_L5K2L4 due to ProteinAnalysis error: ''X'' is not a valid unambiguous letter for protein\n"
          ]
        },
        {
          "name": "stderr",
          "output_type": "stream",
          "text": [
            "  0%|          | 29/25000 [00:06<1:07:56,  6.13it/s]"
          ]
        },
        {
          "name": "stdout",
          "output_type": "stream",
          "text": [
            "Skipping UniRef50_A0A2I4CMN8 due to ProteinAnalysis error: ''X'' is not a valid unambiguous letter for protein\n"
          ]
        },
        {
          "name": "stderr",
          "output_type": "stream",
          "text": [
            "  0%|          | 32/25000 [00:06<1:12:21,  5.75it/s]"
          ]
        },
        {
          "name": "stdout",
          "output_type": "stream",
          "text": [
            "Skipping UniRef50_A0A8J7NXK8 due to ProteinAnalysis error: ''X'' is not a valid unambiguous letter for protein\n"
          ]
        },
        {
          "name": "stderr",
          "output_type": "stream",
          "text": [
            "  0%|          | 34/25000 [00:06<1:06:13,  6.28it/s]"
          ]
        },
        {
          "name": "stdout",
          "output_type": "stream",
          "text": [
            "Skipping UniRef50_A0A2I4CVD6 due to ProteinAnalysis error: ''X'' is not a valid unambiguous letter for protein\n"
          ]
        },
        {
          "name": "stderr",
          "output_type": "stream",
          "text": [
            "  0%|          | 43/25000 [00:08<1:06:48,  6.23it/s]"
          ]
        },
        {
          "name": "stdout",
          "output_type": "stream",
          "text": [
            "Skipping UniRef50_UPI001864B27E due to ProteinAnalysis error: ''X'' is not a valid unambiguous letter for protein\n"
          ]
        },
        {
          "name": "stderr",
          "output_type": "stream",
          "text": [
            "  0%|          | 48/25000 [00:09<1:41:34,  4.09it/s]"
          ]
        },
        {
          "name": "stdout",
          "output_type": "stream",
          "text": [
            "Skipping UniRef50_A0A6J2PCY7 due to ProteinAnalysis error: ''X'' is not a valid unambiguous letter for protein\n"
          ]
        },
        {
          "name": "stderr",
          "output_type": "stream",
          "text": [
            "  0%|          | 58/25000 [00:12<1:25:09,  4.88it/s]"
          ]
        },
        {
          "name": "stdout",
          "output_type": "stream",
          "text": [
            "Skipping UniRef50_UPI001643D7A3 due to ProteinAnalysis error: ''X'' is not a valid unambiguous letter for protein\n"
          ]
        },
        {
          "name": "stderr",
          "output_type": "stream",
          "text": [
            "  0%|          | 61/25000 [00:12<1:12:48,  5.71it/s]"
          ]
        },
        {
          "name": "stdout",
          "output_type": "stream",
          "text": [
            "Skipping UniRef50_UPI00155EA062 due to ProteinAnalysis error: ''X'' is not a valid unambiguous letter for protein\n"
          ]
        },
        {
          "name": "stderr",
          "output_type": "stream",
          "text": [
            "  0%|          | 69/25000 [00:13<1:08:02,  6.11it/s]"
          ]
        },
        {
          "name": "stdout",
          "output_type": "stream",
          "text": [
            "Skipping UniRef50_UPI0024919CF4 due to ProteinAnalysis error: ''X'' is not a valid unambiguous letter for protein\n"
          ]
        },
        {
          "name": "stderr",
          "output_type": "stream",
          "text": [
            "  0%|          | 83/25000 [00:15<1:05:27,  6.34it/s]"
          ]
        },
        {
          "name": "stdout",
          "output_type": "stream",
          "text": [
            "Skipping UniRef50_UPI001130E85F due to ProteinAnalysis error: ''X'' is not a valid unambiguous letter for protein\n"
          ]
        },
        {
          "name": "stderr",
          "output_type": "stream",
          "text": [
            "  0%|          | 91/25000 [00:17<1:03:02,  6.59it/s]"
          ]
        },
        {
          "name": "stdout",
          "output_type": "stream",
          "text": [
            "Skipping UniRef50_A0A9D2Y405 due to ProteinAnalysis error: ''X'' is not a valid unambiguous letter for protein\n"
          ]
        },
        {
          "name": "stderr",
          "output_type": "stream",
          "text": [
            "  0%|          | 116/25000 [00:20<49:07,  8.44it/s]"
          ]
        },
        {
          "name": "stdout",
          "output_type": "stream",
          "text": [
            "Skipping UniRef50_UPI001D06D21B due to ProteinAnalysis error: ''X'' is not a valid unambiguous letter for protein\n"
          ]
        },
        {
          "name": "stderr",
          "output_type": "stream",
          "text": [
            "  1%|          | 142/25000 [00:26<56:39,  7.31it/s]  "
          ]
        },
        {
          "name": "stdout",
          "output_type": "stream",
          "text": [
            "Skipping UniRef50_A0A2I0MII3 due to ProteinAnalysis error: ''X'' is not a valid unambiguous letter for protein\n"
          ]
        },
        {
          "name": "stderr",
          "output_type": "stream",
          "text": [
            "  1%|          | 151/25000 [00:27<57:00,  7.26it/s]"
          ]
        },
        {
          "name": "stdout",
          "output_type": "stream",
          "text": [
            "Skipping UniRef50_UPI001BE4D5DC due to ProteinAnalysis error: ''X'' is not a valid unambiguous letter for protein\n"
          ]
        },
        {
          "name": "stderr",
          "output_type": "stream",
          "text": [
            "  1%|          | 155/25000 [00:27<49:10,  8.42it/s]"
          ]
        },
        {
          "name": "stdout",
          "output_type": "stream",
          "text": [
            "Skipping UniRef50_UPI00203562A8 due to ProteinAnalysis error: ''X'' is not a valid unambiguous letter for protein\n"
          ]
        },
        {
          "name": "stderr",
          "output_type": "stream",
          "text": [
            "  1%|          | 158/25000 [00:28<48:13,  8.59it/s]"
          ]
        },
        {
          "name": "stdout",
          "output_type": "stream",
          "text": [
            "Skipping UniRef50_A0A1S6Q8L9 due to ProteinAnalysis error: ''X'' is not a valid unambiguous letter for protein\n",
            "Skipping UniRef50_UPI000F08E794 due to ProteinAnalysis error: ''X'' is not a valid unambiguous letter for protein\n"
          ]
        },
        {
          "name": "stderr",
          "output_type": "stream",
          "text": [
            "  1%|          | 178/25000 [00:30<50:24,  8.21it/s]"
          ]
        },
        {
          "name": "stdout",
          "output_type": "stream",
          "text": [
            "Skipping UniRef50_UPI0022E16D95 due to ProteinAnalysis error: ''X'' is not a valid unambiguous letter for protein\n"
          ]
        },
        {
          "name": "stderr",
          "output_type": "stream",
          "text": [
            "  1%|          | 188/25000 [00:32<55:27,  7.46it/s]"
          ]
        },
        {
          "name": "stdout",
          "output_type": "stream",
          "text": [
            "Skipping UniRef50_G0MXP9 due to ProteinAnalysis error: ''X'' is not a valid unambiguous letter for protein\n"
          ]
        },
        {
          "name": "stderr",
          "output_type": "stream",
          "text": [
            "  1%|          | 198/25000 [00:33<57:30,  7.19it/s]"
          ]
        },
        {
          "name": "stdout",
          "output_type": "stream",
          "text": [
            "Skipping UniRef50_A0A913XPM5 due to ProteinAnalysis error: ''X'' is not a valid unambiguous letter for protein\n"
          ]
        },
        {
          "name": "stderr",
          "output_type": "stream",
          "text": [
            "  1%|          | 205/25000 [00:34<53:38,  7.70it/s]"
          ]
        },
        {
          "name": "stdout",
          "output_type": "stream",
          "text": [
            "Skipping UniRef50_UPI001CF73CE5 due to ProteinAnalysis error: ''X'' is not a valid unambiguous letter for protein\n"
          ]
        },
        {
          "name": "stderr",
          "output_type": "stream",
          "text": [
            "  1%|          | 222/25000 [00:37<1:21:25,  5.07it/s]"
          ]
        },
        {
          "name": "stdout",
          "output_type": "stream",
          "text": [
            "Skipping UniRef50_UPI001C716072 due to ProteinAnalysis error: ''X'' is not a valid unambiguous letter for protein\n"
          ]
        },
        {
          "name": "stderr",
          "output_type": "stream",
          "text": [
            "  1%|          | 226/25000 [00:38<1:03:40,  6.49it/s]"
          ]
        },
        {
          "name": "stdout",
          "output_type": "stream",
          "text": [
            "Skipping UniRef50_UPI000B8E250A due to ProteinAnalysis error: ''X'' is not a valid unambiguous letter for protein\n"
          ]
        },
        {
          "name": "stderr",
          "output_type": "stream",
          "text": [
            "  1%|          | 246/25000 [00:40<54:26,  7.58it/s]"
          ]
        },
        {
          "name": "stdout",
          "output_type": "stream",
          "text": [
            "Skipping UniRef50_A0A6P8IAI0 due to ProteinAnalysis error: ''X'' is not a valid unambiguous letter for protein\n"
          ]
        },
        {
          "name": "stderr",
          "output_type": "stream",
          "text": [
            "  1%|          | 248/25000 [00:41<52:55,  7.79it/s]"
          ]
        },
        {
          "name": "stdout",
          "output_type": "stream",
          "text": [
            "Skipping UniRef50_A0A6P4EYV9 due to ProteinAnalysis error: ''X'' is not a valid unambiguous letter for protein\n"
          ]
        },
        {
          "name": "stderr",
          "output_type": "stream",
          "text": [
            "  1%|          | 255/25000 [00:42<53:51,  7.66it/s]"
          ]
        },
        {
          "name": "stdout",
          "output_type": "stream",
          "text": [
            "Skipping UniRef50_UPI001F037830 due to ProteinAnalysis error: ''X'' is not a valid unambiguous letter for protein\n"
          ]
        },
        {
          "name": "stderr",
          "output_type": "stream",
          "text": [
            "  1%|          | 260/25000 [00:42<53:46,  7.67it/s]"
          ]
        },
        {
          "name": "stdout",
          "output_type": "stream",
          "text": [
            "Skipping UniRef50_UPI0021496CA3 due to ProteinAnalysis error: ''X'' is not a valid unambiguous letter for protein\n"
          ]
        },
        {
          "name": "stderr",
          "output_type": "stream",
          "text": [
            "  1%|          | 293/25000 [00:46<40:59, 10.05it/s]"
          ]
        },
        {
          "name": "stdout",
          "output_type": "stream",
          "text": [
            "Skipping UniRef50_UPI0021C86AC4 due to ProteinAnalysis error: ''X'' is not a valid unambiguous letter for protein\n"
          ]
        },
        {
          "name": "stderr",
          "output_type": "stream",
          "text": [
            "  1%|          | 303/25000 [00:47<39:47, 10.35it/s]"
          ]
        },
        {
          "name": "stdout",
          "output_type": "stream",
          "text": [
            "Skipping UniRef50_A0A833W593 due to ProteinAnalysis error: ''X'' is not a valid unambiguous letter for protein\n"
          ]
        },
        {
          "name": "stderr",
          "output_type": "stream",
          "text": [
            "  1%|          | 307/25000 [00:47<37:20, 11.02it/s]"
          ]
        },
        {
          "name": "stdout",
          "output_type": "stream",
          "text": [
            "Skipping UniRef50_UPI001C890AC7 due to ProteinAnalysis error: ''X'' is not a valid unambiguous letter for protein\n"
          ]
        },
        {
          "name": "stderr",
          "output_type": "stream",
          "text": [
            "  1%|▏         | 315/25000 [00:48<37:47, 10.89it/s]"
          ]
        },
        {
          "name": "stdout",
          "output_type": "stream",
          "text": [
            "Skipping UniRef50_UPI0014591907 due to ProteinAnalysis error: ''X'' is not a valid unambiguous letter for protein\n"
          ]
        },
        {
          "name": "stderr",
          "output_type": "stream",
          "text": [
            "  1%|▏         | 324/25000 [00:49<1:08:48,  5.98it/s]"
          ]
        },
        {
          "name": "stdout",
          "output_type": "stream",
          "text": [
            "Skipping UniRef50_A0A8K0CF94 due to ProteinAnalysis error: ''X'' is not a valid unambiguous letter for protein\n"
          ]
        },
        {
          "name": "stderr",
          "output_type": "stream",
          "text": [
            "  1%|▏         | 330/25000 [00:51<1:19:09,  5.19it/s]"
          ]
        },
        {
          "name": "stdout",
          "output_type": "stream",
          "text": [
            "Skipping UniRef50_UPI000C2546D7 due to ProteinAnalysis error: ''X'' is not a valid unambiguous letter for protein\n"
          ]
        },
        {
          "name": "stderr",
          "output_type": "stream",
          "text": [
            "  1%|▏         | 341/25000 [00:53<56:16,  7.30it/s]"
          ]
        },
        {
          "name": "stdout",
          "output_type": "stream",
          "text": [
            "Skipping UniRef50_UPI0008F9B8CB due to ProteinAnalysis error: ''X'' is not a valid unambiguous letter for protein\n"
          ]
        },
        {
          "name": "stderr",
          "output_type": "stream",
          "text": [
            "  1%|▏         | 350/25000 [00:54<46:53,  8.76it/s]"
          ]
        },
        {
          "name": "stdout",
          "output_type": "stream",
          "text": [
            "Skipping UniRef50_A0A6J3LFW1 due to ProteinAnalysis error: ''X'' is not a valid unambiguous letter for protein\n"
          ]
        },
        {
          "name": "stderr",
          "output_type": "stream",
          "text": [
            "  1%|▏         | 354/25000 [00:54<39:43, 10.34it/s]"
          ]
        },
        {
          "name": "stdout",
          "output_type": "stream",
          "text": [
            "Skipping UniRef50_A0A357BHU0 due to ProteinAnalysis error: ''X'' is not a valid unambiguous letter for protein\n"
          ]
        },
        {
          "name": "stderr",
          "output_type": "stream",
          "text": [
            "  1%|▏         | 365/25000 [00:55<50:20,  8.16it/s]"
          ]
        },
        {
          "name": "stdout",
          "output_type": "stream",
          "text": [
            "Skipping UniRef50_A0A6J3KK64 due to ProteinAnalysis error: ''X'' is not a valid unambiguous letter for protein\n"
          ]
        },
        {
          "name": "stderr",
          "output_type": "stream",
          "text": [
            "  2%|▏         | 381/25000 [00:58<49:34,  8.28it/s]"
          ]
        },
        {
          "name": "stdout",
          "output_type": "stream",
          "text": [
            "Skipping UniRef50_UPI000B8E9EE2 due to ProteinAnalysis error: ''X'' is not a valid unambiguous letter for protein\n",
            "Skipping UniRef50_UPI00193D70CD due to ProteinAnalysis error: ''X'' is not a valid unambiguous letter for protein\n"
          ]
        },
        {
          "name": "stderr",
          "output_type": "stream",
          "text": [
            "  2%|▏         | 386/25000 [00:58<50:59,  8.04it/s]"
          ]
        },
        {
          "name": "stdout",
          "output_type": "stream",
          "text": [
            "Skipping UniRef50_UPI000E6E3136 due to ProteinAnalysis error: ''X'' is not a valid unambiguous letter for protein\n"
          ]
        },
        {
          "name": "stderr",
          "output_type": "stream",
          "text": [
            "  2%|▏         | 389/25000 [00:59<49:21,  8.31it/s]"
          ]
        },
        {
          "name": "stdout",
          "output_type": "stream",
          "text": [
            "Skipping UniRef50_UPI0024946E24 due to ProteinAnalysis error: ''X'' is not a valid unambiguous letter for protein\n"
          ]
        },
        {
          "name": "stderr",
          "output_type": "stream",
          "text": [
            "  2%|▏         | 397/25000 [01:00<49:19,  8.31it/s]"
          ]
        },
        {
          "name": "stdout",
          "output_type": "stream",
          "text": [
            "Skipping UniRef50_A0A8N4L651 due to ProteinAnalysis error: ''X'' is not a valid unambiguous letter for protein\n"
          ]
        },
        {
          "name": "stderr",
          "output_type": "stream",
          "text": [
            "  2%|▏         | 401/25000 [01:00<42:41,  9.60it/s]"
          ]
        },
        {
          "name": "stdout",
          "output_type": "stream",
          "text": [
            "Skipping UniRef50_A0A383WN25 due to ProteinAnalysis error: ''X'' is not a valid unambiguous letter for protein\n"
          ]
        },
        {
          "name": "stderr",
          "output_type": "stream",
          "text": [
            "  2%|▏         | 408/25000 [01:01<38:58, 10.52it/s]"
          ]
        },
        {
          "name": "stdout",
          "output_type": "stream",
          "text": [
            "Skipping UniRef50_UPI001D07D43B due to ProteinAnalysis error: ''X'' is not a valid unambiguous letter for protein\n"
          ]
        },
        {
          "name": "stderr",
          "output_type": "stream",
          "text": [
            "  2%|▏         | 417/25000 [01:02<50:13,  8.16it/s]"
          ]
        },
        {
          "name": "stdout",
          "output_type": "stream",
          "text": [
            "Skipping UniRef50_H3DPY8 due to ProteinAnalysis error: ''X'' is not a valid unambiguous letter for protein\n"
          ]
        },
        {
          "name": "stderr",
          "output_type": "stream",
          "text": [
            "  2%|▏         | 437/25000 [01:08<1:11:20,  5.74it/s]"
          ]
        },
        {
          "name": "stdout",
          "output_type": "stream",
          "text": [
            "Skipping UniRef50_A0A9C6SXT0 due to ProteinAnalysis error: ''X'' is not a valid unambiguous letter for protein\n"
          ]
        },
        {
          "name": "stderr",
          "output_type": "stream",
          "text": [
            "  2%|▏         | 441/25000 [01:09<58:00,  7.06it/s]"
          ]
        },
        {
          "name": "stdout",
          "output_type": "stream",
          "text": [
            "Skipping UniRef50_A0A815Q749 due to ProteinAnalysis error: ''X'' is not a valid unambiguous letter for protein\n"
          ]
        },
        {
          "name": "stderr",
          "output_type": "stream",
          "text": [
            "\r  2%|▏         | 443/25000 [01:09<52:17,  7.83it/s]"
          ]
        },
        {
          "name": "stdout",
          "output_type": "stream",
          "text": [
            "Skipping UniRef50_UPI000C6CD619 due to ProteinAnalysis error: ''X'' is not a valid unambiguous letter for protein\n"
          ]
        },
        {
          "name": "stderr",
          "output_type": "stream",
          "text": [
            "  2%|▏         | 456/25000 [01:10<49:49,  8.21it/s]"
          ]
        },
        {
          "name": "stdout",
          "output_type": "stream",
          "text": [
            "Skipping UniRef50_UPI00067B9069 due to ProteinAnalysis error: ''X'' is not a valid unambiguous letter for protein\n"
          ]
        },
        {
          "name": "stderr",
          "output_type": "stream",
          "text": [
            "  2%|▏         | 459/25000 [01:11<45:08,  9.06it/s]"
          ]
        },
        {
          "name": "stdout",
          "output_type": "stream",
          "text": [
            "Skipping UniRef50_UPI0022EC4958 due to ProteinAnalysis error: ''X'' is not a valid unambiguous letter for protein\n"
          ]
        },
        {
          "name": "stderr",
          "output_type": "stream",
          "text": [
            "  2%|▏         | 461/25000 [01:11<46:30,  8.79it/s]"
          ]
        },
        {
          "name": "stdout",
          "output_type": "stream",
          "text": [
            "Skipping UniRef50_UPI00244DE9E0 due to ProteinAnalysis error: ''X'' is not a valid unambiguous letter for protein\n"
          ]
        },
        {
          "name": "stderr",
          "output_type": "stream",
          "text": [
            "  2%|▏         | 469/25000 [01:12<43:34,  9.38it/s]"
          ]
        },
        {
          "name": "stdout",
          "output_type": "stream",
          "text": [
            "Skipping UniRef50_UPI00193E5D7D due to ProteinAnalysis error: ''X'' is not a valid unambiguous letter for protein\n",
            "Skipping UniRef50_UPI002379A0F6 due to ProteinAnalysis error: ''X'' is not a valid unambiguous letter for protein\n",
            "Skipping UniRef50_A0A834MUH9 due to ProteinAnalysis error: ''X'' is not a valid unambiguous letter for protein\n"
          ]
        },
        {
          "name": "stderr",
          "output_type": "stream",
          "text": [
            "  2%|▏         | 482/25000 [01:13<47:05,  8.68it/s]"
          ]
        },
        {
          "name": "stdout",
          "output_type": "stream",
          "text": [
            "Skipping UniRef50_UPI00083C4E40 due to ProteinAnalysis error: ''X'' is not a valid unambiguous letter for protein\n"
          ]
        },
        {
          "name": "stderr",
          "output_type": "stream",
          "text": [
            "  2%|▏         | 490/25000 [01:14<47:36,  8.58it/s]"
          ]
        },
        {
          "name": "stdout",
          "output_type": "stream",
          "text": [
            "Skipping UniRef50_A0A6J0BQK6 due to ProteinAnalysis error: ''X'' is not a valid unambiguous letter for protein\n"
          ]
        },
        {
          "name": "stderr",
          "output_type": "stream",
          "text": [
            "  2%|▏         | 496/25000 [01:15<45:49,  8.91it/s]"
          ]
        },
        {
          "name": "stdout",
          "output_type": "stream",
          "text": [
            "Skipping UniRef50_A0A7I0ZYW4 due to ProteinAnalysis error: ''X'' is not a valid unambiguous letter for protein\n"
          ]
        },
        {
          "name": "stderr",
          "output_type": "stream",
          "text": [
            "\r  2%|▏         | 498/25000 [01:15<45:38,  8.95it/s]"
          ]
        },
        {
          "name": "stdout",
          "output_type": "stream",
          "text": [
            "Skipping UniRef50_UPI0007674B8B due to ProteinAnalysis error: ''X'' is not a valid unambiguous letter for protein\n"
          ]
        },
        {
          "name": "stderr",
          "output_type": "stream",
          "text": [
            "  2%|▏         | 502/25000 [01:16<46:43,  8.74it/s]"
          ]
        },
        {
          "name": "stdout",
          "output_type": "stream",
          "text": [
            "Skipping UniRef50_A0A8B8D257 due to ProteinAnalysis error: ''X'' is not a valid unambiguous letter for protein\n"
          ]
        },
        {
          "name": "stderr",
          "output_type": "stream",
          "text": [
            "  2%|▏         | 504/25000 [01:16<50:54,  8.02it/s]"
          ]
        },
        {
          "name": "stdout",
          "output_type": "stream",
          "text": [
            "Skipping UniRef50_A0A8R2NTY6 due to ProteinAnalysis error: ''X'' is not a valid unambiguous letter for protein\n"
          ]
        },
        {
          "name": "stderr",
          "output_type": "stream",
          "text": [
            "  2%|▏         | 515/25000 [01:18<1:00:30,  6.74it/s]"
          ]
        },
        {
          "name": "stdout",
          "output_type": "stream",
          "text": [
            "Skipping UniRef50_A0A9C6TYK9 due to ProteinAnalysis error: ''X'' is not a valid unambiguous letter for protein\n",
            "Skipping UniRef50_UPI0012FEEE69 due to ProteinAnalysis error: ''X'' is not a valid unambiguous letter for protein\n"
          ]
        },
        {
          "name": "stderr",
          "output_type": "stream",
          "text": [
            "  2%|▏         | 520/25000 [01:19<1:08:02,  6.00it/s]"
          ]
        },
        {
          "name": "stdout",
          "output_type": "stream",
          "text": [
            "Skipping UniRef50_A0A913YCT5 due to ProteinAnalysis error: ''X'' is not a valid unambiguous letter for protein\n"
          ]
        },
        {
          "name": "stderr",
          "output_type": "stream",
          "text": [
            "  2%|▏         | 543/25000 [01:22<47:44,  8.54it/s]"
          ]
        },
        {
          "name": "stdout",
          "output_type": "stream",
          "text": [
            "Skipping UniRef50_UPI001CC289FD due to ProteinAnalysis error: ''X'' is not a valid unambiguous letter for protein\n"
          ]
        },
        {
          "name": "stderr",
          "output_type": "stream",
          "text": [
            "  2%|▏         | 555/25000 [01:23<46:06,  8.84it/s]"
          ]
        },
        {
          "name": "stdout",
          "output_type": "stream",
          "text": [
            "Skipping UniRef50_UPI002165F7C1 due to ProteinAnalysis error: ''X'' is not a valid unambiguous letter for protein\n"
          ]
        },
        {
          "name": "stderr",
          "output_type": "stream",
          "text": [
            "  2%|▏         | 614/25000 [01:30<1:02:02,  6.55it/s]"
          ]
        },
        {
          "name": "stdout",
          "output_type": "stream",
          "text": [
            "Skipping UniRef50_UPI0020D0411D due to ProteinAnalysis error: ''X'' is not a valid unambiguous letter for protein\n"
          ]
        },
        {
          "name": "stderr",
          "output_type": "stream",
          "text": [
            "  3%|▎         | 631/25000 [01:33<1:03:18,  6.42it/s]"
          ]
        },
        {
          "name": "stdout",
          "output_type": "stream",
          "text": [
            "Skipping UniRef50_UPI00143D178F due to ProteinAnalysis error: ''X'' is not a valid unambiguous letter for protein\n"
          ]
        },
        {
          "name": "stderr",
          "output_type": "stream",
          "text": [
            "  3%|▎         | 649/25000 [01:35<45:21,  8.95it/s]"
          ]
        },
        {
          "name": "stdout",
          "output_type": "stream",
          "text": [
            "Skipping UniRef50_UPI0010FADC28 due to ProteinAnalysis error: ''X'' is not a valid unambiguous letter for protein\n"
          ]
        },
        {
          "name": "stderr",
          "output_type": "stream",
          "text": [
            "  3%|▎         | 652/25000 [01:36<44:32,  9.11it/s]"
          ]
        },
        {
          "name": "stdout",
          "output_type": "stream",
          "text": [
            "Skipping UniRef50_UPI000D6298A0 due to ProteinAnalysis error: ''X'' is not a valid unambiguous letter for protein\n"
          ]
        },
        {
          "name": "stderr",
          "output_type": "stream",
          "text": [
            "  3%|▎         | 662/25000 [01:37<43:26,  9.34it/s]"
          ]
        },
        {
          "name": "stdout",
          "output_type": "stream",
          "text": [
            "Skipping UniRef50_A0A6P8XWM1 due to ProteinAnalysis error: ''X'' is not a valid unambiguous letter for protein\n"
          ]
        },
        {
          "name": "stderr",
          "output_type": "stream",
          "text": [
            "  3%|▎         | 669/25000 [01:37<44:19,  9.15it/s]"
          ]
        },
        {
          "name": "stdout",
          "output_type": "stream",
          "text": [
            "Skipping UniRef50_UPI00083DB3F2 due to ProteinAnalysis error: ''X'' is not a valid unambiguous letter for protein\n"
          ]
        },
        {
          "name": "stderr",
          "output_type": "stream",
          "text": [
            "  3%|▎         | 677/25000 [01:38<42:38,  9.51it/s]"
          ]
        },
        {
          "name": "stdout",
          "output_type": "stream",
          "text": [
            "Skipping UniRef50_UPI000CEB30AE due to ProteinAnalysis error: ''X'' is not a valid unambiguous letter for protein\n"
          ]
        },
        {
          "name": "stderr",
          "output_type": "stream",
          "text": [
            "  3%|▎         | 680/25000 [01:39<42:53,  9.45it/s]"
          ]
        },
        {
          "name": "stdout",
          "output_type": "stream",
          "text": [
            "Skipping UniRef50_A0A0L7LUF1 due to ProteinAnalysis error: ''X'' is not a valid unambiguous letter for protein\n"
          ]
        },
        {
          "name": "stderr",
          "output_type": "stream",
          "text": [
            "  3%|▎         | 683/25000 [01:39<42:44,  9.48it/s]"
          ]
        },
        {
          "name": "stdout",
          "output_type": "stream",
          "text": [
            "Skipping UniRef50_A0A6I8TVF9 due to ProteinAnalysis error: ''X'' is not a valid unambiguous letter for protein\n"
          ]
        },
        {
          "name": "stderr",
          "output_type": "stream",
          "text": [
            "  3%|▎         | 697/25000 [01:40<39:26, 10.27it/s]"
          ]
        },
        {
          "name": "stdout",
          "output_type": "stream",
          "text": [
            "Skipping UniRef50_UPI001E1D09C9 due to ProteinAnalysis error: ''X'' is not a valid unambiguous letter for protein\n"
          ]
        },
        {
          "name": "stderr",
          "output_type": "stream",
          "text": [
            "  3%|▎         | 709/25000 [01:42<42:52,  9.44it/s]"
          ]
        },
        {
          "name": "stdout",
          "output_type": "stream",
          "text": [
            "Skipping UniRef50_A0A814VI71 due to ProteinAnalysis error: ''X'' is not a valid unambiguous letter for protein\n"
          ]
        },
        {
          "name": "stderr",
          "output_type": "stream",
          "text": [
            "  3%|▎         | 717/25000 [01:43<43:54,  9.22it/s]"
          ]
        },
        {
          "name": "stdout",
          "output_type": "stream",
          "text": [
            "Skipping UniRef50_A0A7F5RIX7 due to ProteinAnalysis error: ''X'' is not a valid unambiguous letter for protein\n"
          ]
        },
        {
          "name": "stderr",
          "output_type": "stream",
          "text": [
            "  3%|▎         | 729/25000 [01:44<1:05:41,  6.16it/s]"
          ]
        },
        {
          "name": "stdout",
          "output_type": "stream",
          "text": [
            "Skipping UniRef50_A0A6J2YYV3 due to ProteinAnalysis error: ''X'' is not a valid unambiguous letter for protein\n"
          ]
        },
        {
          "name": "stderr",
          "output_type": "stream",
          "text": [
            "  3%|▎         | 757/25000 [01:48<43:24,  9.31it/s]"
          ]
        },
        {
          "name": "stdout",
          "output_type": "stream",
          "text": [
            "Skipping UniRef50_A0A7M7QVF9 due to ProteinAnalysis error: ''X'' is not a valid unambiguous letter for protein\n"
          ]
        },
        {
          "name": "stderr",
          "output_type": "stream",
          "text": [
            "  3%|▎         | 800/25000 [01:53<43:54,  9.19it/s]"
          ]
        },
        {
          "name": "stdout",
          "output_type": "stream",
          "text": [
            "Skipping UniRef50_UPI0010FB14F7 due to ProteinAnalysis error: ''X'' is not a valid unambiguous letter for protein\n"
          ]
        },
        {
          "name": "stderr",
          "output_type": "stream",
          "text": [
            "  3%|▎         | 817/25000 [01:55<37:38, 10.71it/s]"
          ]
        },
        {
          "name": "stdout",
          "output_type": "stream",
          "text": [
            "Skipping UniRef50_UPI001569AC86 due to ProteinAnalysis error: ''X'' is not a valid unambiguous letter for protein\n"
          ]
        },
        {
          "name": "stderr",
          "output_type": "stream",
          "text": [
            "  3%|▎         | 845/25000 [01:59<1:01:36,  6.53it/s]"
          ]
        },
        {
          "name": "stdout",
          "output_type": "stream",
          "text": [
            "Skipping UniRef50_UPI0013DDAC61 due to ProteinAnalysis error: ''X'' is not a valid unambiguous letter for protein\n"
          ]
        },
        {
          "name": "stderr",
          "output_type": "stream",
          "text": [
            "  3%|▎         | 864/25000 [02:01<39:26, 10.20it/s]"
          ]
        },
        {
          "name": "stdout",
          "output_type": "stream",
          "text": [
            "Skipping UniRef50_UPI0023789547 due to ProteinAnalysis error: ''X'' is not a valid unambiguous letter for protein\n"
          ]
        },
        {
          "name": "stderr",
          "output_type": "stream",
          "text": [
            "  4%|▎         | 910/25000 [02:07<41:35,  9.65it/s]"
          ]
        },
        {
          "name": "stdout",
          "output_type": "stream",
          "text": [
            "Skipping UniRef50_UPI0010A20A6E due to ProteinAnalysis error: ''X'' is not a valid unambiguous letter for protein\n"
          ]
        },
        {
          "name": "stderr",
          "output_type": "stream",
          "text": [
            "  4%|▎         | 914/25000 [02:07<41:16,  9.72it/s]"
          ]
        },
        {
          "name": "stdout",
          "output_type": "stream",
          "text": [
            "Skipping UniRef50_A0A6P8HDK5 due to ProteinAnalysis error: ''X'' is not a valid unambiguous letter for protein\n"
          ]
        },
        {
          "name": "stderr",
          "output_type": "stream",
          "text": [
            "  4%|▍         | 960/25000 [02:14<56:12,  7.13it/s]  "
          ]
        },
        {
          "name": "stdout",
          "output_type": "stream",
          "text": [
            "Skipping UniRef50_A0A8I6TM87 due to ProteinAnalysis error: ''X'' is not a valid unambiguous letter for protein\n"
          ]
        },
        {
          "name": "stderr",
          "output_type": "stream",
          "text": [
            "  4%|▍         | 965/25000 [02:14<34:54, 11.47it/s]"
          ]
        },
        {
          "name": "stdout",
          "output_type": "stream",
          "text": [
            "Skipping UniRef50_C3Z8P2 due to ProteinAnalysis error: ''X'' is not a valid unambiguous letter for protein\n"
          ]
        },
        {
          "name": "stderr",
          "output_type": "stream",
          "text": [
            "  4%|▍         | 973/25000 [02:15<41:54,  9.56it/s]"
          ]
        },
        {
          "name": "stdout",
          "output_type": "stream",
          "text": [
            "Skipping UniRef50_UPI001CF22F47 due to ProteinAnalysis error: ''X'' is not a valid unambiguous letter for protein\n"
          ]
        },
        {
          "name": "stderr",
          "output_type": "stream",
          "text": [
            "  4%|▍         | 990/25000 [02:17<43:02,  9.30it/s]"
          ]
        },
        {
          "name": "stdout",
          "output_type": "stream",
          "text": [
            "Skipping UniRef50_A0A8I6SGK9 due to ProteinAnalysis error: ''X'' is not a valid unambiguous letter for protein\n"
          ]
        },
        {
          "name": "stderr",
          "output_type": "stream",
          "text": [
            "  4%|▍         | 1022/25000 [02:21<44:06,  9.06it/s]"
          ]
        },
        {
          "name": "stdout",
          "output_type": "stream",
          "text": [
            "Skipping UniRef50_A0A4S2KS19 due to ProteinAnalysis error: ''X'' is not a valid unambiguous letter for protein\n"
          ]
        },
        {
          "name": "stderr",
          "output_type": "stream",
          "text": [
            "  4%|▍         | 1027/25000 [02:21<41:01,  9.74it/s]"
          ]
        },
        {
          "name": "stdout",
          "output_type": "stream",
          "text": [
            "Skipping UniRef50_A0A6P7Z8W5 due to ProteinAnalysis error: ''X'' is not a valid unambiguous letter for protein\n"
          ]
        },
        {
          "name": "stderr",
          "output_type": "stream",
          "text": [
            "  4%|▍         | 1032/25000 [02:22<40:47,  9.79it/s]"
          ]
        },
        {
          "name": "stdout",
          "output_type": "stream",
          "text": [
            "Skipping UniRef50_I6MZ87 due to ProteinAnalysis error: ''X'' is not a valid unambiguous letter for protein\n"
          ]
        },
        {
          "name": "stderr",
          "output_type": "stream",
          "text": [
            "  4%|▍         | 1037/25000 [02:22<40:14,  9.93it/s]"
          ]
        },
        {
          "name": "stdout",
          "output_type": "stream",
          "text": [
            "Skipping UniRef50_UPI001470C628 due to ProteinAnalysis error: ''X'' is not a valid unambiguous letter for protein\n"
          ]
        },
        {
          "name": "stderr",
          "output_type": "stream",
          "text": [
            "  4%|▍         | 1063/25000 [02:27<39:49, 10.02it/s]"
          ]
        },
        {
          "name": "stdout",
          "output_type": "stream",
          "text": [
            "Skipping UniRef50_A0A8J6HHT3 due to ProteinAnalysis error: ''X'' is not a valid unambiguous letter for protein\n"
          ]
        },
        {
          "name": "stderr",
          "output_type": "stream",
          "text": [
            "  4%|▍         | 1085/25000 [02:30<53:28,  7.45it/s]"
          ]
        },
        {
          "name": "stdout",
          "output_type": "stream",
          "text": [
            "Skipping UniRef50_UPI0009E5E2B1 due to ProteinAnalysis error: ''X'' is not a valid unambiguous letter for protein\n"
          ]
        },
        {
          "name": "stderr",
          "output_type": "stream",
          "text": [
            "  5%|▍         | 1134/25000 [02:35<42:26,  9.37it/s]"
          ]
        },
        {
          "name": "stdout",
          "output_type": "stream",
          "text": [
            "Skipping UniRef50_A0A1Q3HH56 due to ProteinAnalysis error: ''X'' is not a valid unambiguous letter for protein\n"
          ]
        },
        {
          "name": "stderr",
          "output_type": "stream",
          "text": [
            "  5%|▍         | 1138/25000 [02:36<40:38,  9.78it/s]"
          ]
        },
        {
          "name": "stdout",
          "output_type": "stream",
          "text": [
            "Skipping UniRef50_A0A8J5ZL40 due to ProteinAnalysis error: ''X'' is not a valid unambiguous letter for protein\n"
          ]
        },
        {
          "name": "stderr",
          "output_type": "stream",
          "text": [
            "  5%|▍         | 1219/25000 [02:49<1:37:48,  4.05it/s]"
          ]
        },
        {
          "name": "stdout",
          "output_type": "stream",
          "text": [
            "Skipping UniRef50_UPI0014430854 due to ProteinAnalysis error: ''X'' is not a valid unambiguous letter for protein\n"
          ]
        },
        {
          "name": "stderr",
          "output_type": "stream",
          "text": [
            "  5%|▍         | 1234/25000 [02:52<40:29,  9.78it/s]"
          ]
        },
        {
          "name": "stdout",
          "output_type": "stream",
          "text": [
            "Skipping UniRef50_UPI00189713F5 due to ProteinAnalysis error: ''X'' is not a valid unambiguous letter for protein\n"
          ]
        },
        {
          "name": "stderr",
          "output_type": "stream",
          "text": [
            "  5%|▍         | 1242/25000 [02:53<37:01, 10.69it/s]"
          ]
        },
        {
          "name": "stdout",
          "output_type": "stream",
          "text": [
            "Skipping UniRef50_A0A6P7GF15 due to ProteinAnalysis error: ''X'' is not a valid unambiguous letter for protein\n"
          ]
        },
        {
          "name": "stderr",
          "output_type": "stream",
          "text": [
            "  5%|▌         | 1309/25000 [03:03<1:27:49,  4.50it/s]"
          ]
        },
        {
          "name": "stdout",
          "output_type": "stream",
          "text": [
            "Skipping UniRef50_A0A1B0BHC7 due to ProteinAnalysis error: ''X'' is not a valid unambiguous letter for protein\n"
          ]
        },
        {
          "name": "stderr",
          "output_type": "stream",
          "text": [
            "  5%|▌         | 1317/25000 [03:06<1:21:24,  4.85it/s]"
          ]
        },
        {
          "name": "stdout",
          "output_type": "stream",
          "text": [
            "Skipping UniRef50_A0A817WHA6 due to ProteinAnalysis error: ''X'' is not a valid unambiguous letter for protein\n"
          ]
        },
        {
          "name": "stderr",
          "output_type": "stream",
          "text": [
            "  5%|▌         | 1357/25000 [03:12<53:35,  7.35it/s]"
          ]
        },
        {
          "name": "stdout",
          "output_type": "stream",
          "text": [
            "Skipping UniRef50_A0A817C6P0 due to ProteinAnalysis error: ''X'' is not a valid unambiguous letter for protein\n"
          ]
        },
        {
          "name": "stderr",
          "output_type": "stream",
          "text": [
            "  6%|▌         | 1380/25000 [03:18<41:33,  9.47it/s]"
          ]
        },
        {
          "name": "stdout",
          "output_type": "stream",
          "text": [
            "Skipping UniRef50_A0A2D6VJ48 due to ProteinAnalysis error: ''X'' is not a valid unambiguous letter for protein\n"
          ]
        },
        {
          "name": "stderr",
          "output_type": "stream",
          "text": [
            "  6%|▌         | 1395/25000 [03:21<45:21,  8.68it/s]"
          ]
        },
        {
          "name": "stdout",
          "output_type": "stream",
          "text": [
            "Skipping UniRef50_UPI0018A7C2DE due to ProteinAnalysis error: ''X'' is not a valid unambiguous letter for protein\n"
          ]
        },
        {
          "name": "stderr",
          "output_type": "stream",
          "text": [
            "  6%|▌         | 1419/25000 [03:25<37:38, 10.44it/s]"
          ]
        },
        {
          "name": "stdout",
          "output_type": "stream",
          "text": [
            "Skipping UniRef50_A0A818I3J3 due to ProteinAnalysis error: ''X'' is not a valid unambiguous letter for protein\n"
          ]
        },
        {
          "name": "stderr",
          "output_type": "stream",
          "text": [
            "  6%|▌         | 1479/25000 [03:38<47:13,  8.30it/s]"
          ]
        },
        {
          "name": "stdout",
          "output_type": "stream",
          "text": [
            "Skipping UniRef50_E3LUM9 due to ProteinAnalysis error: ''X'' is not a valid unambiguous letter for protein\n",
            "Skipping UniRef50_UPI001F5C0978 due to ProteinAnalysis error: ''X'' is not a valid unambiguous letter for protein\n"
          ]
        },
        {
          "name": "stderr",
          "output_type": "stream",
          "text": [
            "  6%|▌         | 1487/25000 [03:40<2:21:13,  2.77it/s]"
          ]
        },
        {
          "name": "stdout",
          "output_type": "stream",
          "text": [
            "Skipping UniRef50_A0A6P8J3K3 due to ProteinAnalysis error: ''X'' is not a valid unambiguous letter for protein\n"
          ]
        },
        {
          "name": "stderr",
          "output_type": "stream",
          "text": [
            "  6%|▌         | 1492/25000 [03:41<1:28:47,  4.41it/s]"
          ]
        },
        {
          "name": "stdout",
          "output_type": "stream",
          "text": [
            "Skipping UniRef50_A0A0B7K3X6 due to ProteinAnalysis error: ''X'' is not a valid unambiguous letter for protein\n"
          ]
        },
        {
          "name": "stderr",
          "output_type": "stream",
          "text": [
            "  6%|▌         | 1495/25000 [03:41<59:16,  6.61it/s]  "
          ]
        },
        {
          "name": "stdout",
          "output_type": "stream",
          "text": [
            "Skipping UniRef50_UPI0022EC2DD4 due to ProteinAnalysis error: ''X'' is not a valid unambiguous letter for protein\n"
          ]
        },
        {
          "name": "stderr",
          "output_type": "stream",
          "text": [
            "  6%|▌         | 1524/25000 [03:48<44:05,  8.87it/s]"
          ]
        },
        {
          "name": "stdout",
          "output_type": "stream",
          "text": [
            "Skipping UniRef50_A0A1Q3HR82 due to ProteinAnalysis error: ''X'' is not a valid unambiguous letter for protein\n"
          ]
        },
        {
          "name": "stderr",
          "output_type": "stream",
          "text": [
            "  6%|▌         | 1527/25000 [03:48<42:34,  9.19it/s]"
          ]
        },
        {
          "name": "stdout",
          "output_type": "stream",
          "text": [
            "Skipping UniRef50_A0A1T4QC30 due to ProteinAnalysis error: ''X'' is not a valid unambiguous letter for protein\n"
          ]
        },
        {
          "name": "stderr",
          "output_type": "stream",
          "text": [
            "  6%|▌         | 1561/25000 [03:55<37:25, 10.44it/s]"
          ]
        },
        {
          "name": "stdout",
          "output_type": "stream",
          "text": [
            "Skipping UniRef50_A0A814W4L8 due to ProteinAnalysis error: ''X'' is not a valid unambiguous letter for protein\n"
          ]
        },
        {
          "name": "stderr",
          "output_type": "stream",
          "text": [
            "  7%|▋         | 1642/25000 [04:15<2:24:26,  2.70it/s]"
          ]
        },
        {
          "name": "stdout",
          "output_type": "stream",
          "text": [
            "Skipping UniRef50_UPI001CF58545 due to ProteinAnalysis error: ''X'' is not a valid unambiguous letter for protein\n"
          ]
        },
        {
          "name": "stderr",
          "output_type": "stream",
          "text": [
            "  7%|▋         | 1675/25000 [04:23<1:02:19,  6.24it/s]"
          ]
        },
        {
          "name": "stdout",
          "output_type": "stream",
          "text": [
            "Skipping UniRef50_UPI001300FACB due to ProteinAnalysis error: ''X'' is not a valid unambiguous letter for protein\n"
          ]
        },
        {
          "name": "stderr",
          "output_type": "stream",
          "text": [
            "  7%|▋         | 1696/25000 [04:26<45:57,  8.45it/s]"
          ]
        },
        {
          "name": "stdout",
          "output_type": "stream",
          "text": [
            "Skipping UniRef50_UPI0005CF0034 due to ProteinAnalysis error: ''X'' is not a valid unambiguous letter for protein\n"
          ]
        },
        {
          "name": "stderr",
          "output_type": "stream",
          "text": [
            "  7%|▋         | 1747/25000 [04:42<4:13:29,  1.53it/s]"
          ]
        },
        {
          "name": "stdout",
          "output_type": "stream",
          "text": [
            "Skipping UniRef50_A0A3M8W9B9 due to ProteinAnalysis error: ''X'' is not a valid unambiguous letter for protein\n"
          ]
        },
        {
          "name": "stderr",
          "output_type": "stream",
          "text": [
            "  7%|▋         | 1774/25000 [04:47<45:13,  8.56it/s]"
          ]
        },
        {
          "name": "stdout",
          "output_type": "stream",
          "text": [
            "Skipping UniRef50_UPI000D7276EF due to ProteinAnalysis error: ''X'' is not a valid unambiguous letter for protein\n"
          ]
        },
        {
          "name": "stderr",
          "output_type": "stream",
          "text": [
            "  7%|▋         | 1844/25000 [05:05<3:07:12,  2.06it/s]"
          ]
        },
        {
          "name": "stdout",
          "output_type": "stream",
          "text": [
            "Skipping UniRef50_UPI00196576ED due to ProteinAnalysis error: ''X'' is not a valid unambiguous letter for protein\n"
          ]
        },
        {
          "name": "stderr",
          "output_type": "stream",
          "text": [
            "  8%|▊         | 1974/25000 [05:41<4:02:23,  1.58it/s]"
          ]
        },
        {
          "name": "stdout",
          "output_type": "stream",
          "text": [
            "Skipping UniRef50_UPI001955AF97 due to ProteinAnalysis error: ''X'' is not a valid unambiguous letter for protein\n"
          ]
        },
        {
          "name": "stderr",
          "output_type": "stream",
          "text": [
            "  8%|▊         | 2004/25000 [05:48<59:28,  6.44it/s]  "
          ]
        },
        {
          "name": "stdout",
          "output_type": "stream",
          "text": [
            "Skipping UniRef50_A0A6P4Z7X0 due to ProteinAnalysis error: ''X'' is not a valid unambiguous letter for protein\n"
          ]
        },
        {
          "name": "stderr",
          "output_type": "stream",
          "text": [
            "  8%|▊         | 2032/25000 [05:54<1:53:39,  3.37it/s]"
          ]
        },
        {
          "name": "stdout",
          "output_type": "stream",
          "text": [
            "Skipping UniRef50_A0A834HZK0 due to ProteinAnalysis error: ''X'' is not a valid unambiguous letter for protein\n",
            "Skipping UniRef50_UPI001CF74E40 due to ProteinAnalysis error: ''X'' is not a valid unambiguous letter for protein\n"
          ]
        },
        {
          "name": "stderr",
          "output_type": "stream",
          "text": [
            "  8%|▊         | 2060/25000 [06:01<1:07:54,  5.63it/s]"
          ]
        },
        {
          "name": "stdout",
          "output_type": "stream",
          "text": [
            "Skipping UniRef50_A0A7M3P2V9 due to ProteinAnalysis error: ''X'' is not a valid unambiguous letter for protein\n"
          ]
        },
        {
          "name": "stderr",
          "output_type": "stream",
          "text": [
            "  9%|▊         | 2130/25000 [06:25<2:16:15,  2.80it/s]"
          ]
        },
        {
          "name": "stdout",
          "output_type": "stream",
          "text": [
            "Skipping UniRef50_A0A0L0MYI0 due to ProteinAnalysis error: ''X'' is not a valid unambiguous letter for protein\n"
          ]
        },
        {
          "name": "stderr",
          "output_type": "stream",
          "text": [
            "  9%|▊         | 2135/25000 [06:25<1:03:13,  6.03it/s]"
          ]
        },
        {
          "name": "stdout",
          "output_type": "stream",
          "text": [
            "Skipping UniRef50_UPI001A7E18AA due to ProteinAnalysis error: ''X'' is not a valid unambiguous letter for protein\n"
          ]
        },
        {
          "name": "stderr",
          "output_type": "stream",
          "text": [
            "  9%|▊         | 2139/25000 [06:27<3:28:58,  1.82it/s]"
          ]
        },
        {
          "name": "stdout",
          "output_type": "stream",
          "text": [
            "Skipping UniRef50_L9JUT9 due to ProteinAnalysis error: ''X'' is not a valid unambiguous letter for protein\n"
          ]
        },
        {
          "name": "stderr",
          "output_type": "stream",
          "text": [
            "  9%|▊         | 2187/25000 [06:46<1:25:10,  4.46it/s]"
          ]
        },
        {
          "name": "stdout",
          "output_type": "stream",
          "text": [
            "Skipping UniRef50_UPI0009E21D27 due to ProteinAnalysis error: ''X'' is not a valid unambiguous letter for protein\n"
          ]
        },
        {
          "name": "stderr",
          "output_type": "stream",
          "text": [
            "  9%|▉         | 2206/25000 [06:55<2:25:49,  2.61it/s]"
          ]
        },
        {
          "name": "stdout",
          "output_type": "stream",
          "text": [
            "Skipping UniRef50_UPI00083C0204 due to ProteinAnalysis error: ''X'' is not a valid unambiguous letter for protein\n"
          ]
        },
        {
          "name": "stderr",
          "output_type": "stream",
          "text": [
            "  9%|▉         | 2210/25000 [06:56<1:20:56,  4.69it/s]"
          ]
        },
        {
          "name": "stdout",
          "output_type": "stream",
          "text": [
            "Skipping UniRef50_UPI000C6D2ADC due to ProteinAnalysis error: ''X'' is not a valid unambiguous letter for protein\n",
            "Skipping UniRef50_F4WE47 due to ProteinAnalysis error: ''X'' is not a valid unambiguous letter for protein\n"
          ]
        },
        {
          "name": "stderr",
          "output_type": "stream",
          "text": [
            "  9%|▉         | 2226/25000 [07:02<1:22:40,  4.59it/s]"
          ]
        },
        {
          "name": "stdout",
          "output_type": "stream",
          "text": [
            "Skipping UniRef50_A0A8K0GFM5 due to ProteinAnalysis error: ''X'' is not a valid unambiguous letter for protein\n"
          ]
        },
        {
          "name": "stderr",
          "output_type": "stream",
          "text": [
            "  9%|▉         | 2231/25000 [07:04<2:17:59,  2.75it/s]"
          ]
        },
        {
          "name": "stdout",
          "output_type": "stream",
          "text": [
            "Skipping UniRef50_A0A913WYD5 due to ProteinAnalysis error: ''X'' is not a valid unambiguous letter for protein\n"
          ]
        },
        {
          "name": "stderr",
          "output_type": "stream",
          "text": [
            "  9%|▉         | 2243/25000 [07:07<1:28:35,  4.28it/s]"
          ]
        },
        {
          "name": "stdout",
          "output_type": "stream",
          "text": [
            "Skipping UniRef50_UPI001B88C6AF due to ProteinAnalysis error: ''X'' is not a valid unambiguous letter for protein\n"
          ]
        },
        {
          "name": "stderr",
          "output_type": "stream",
          "text": [
            "\r  9%|▉         | 2244/25000 [07:08<2:00:31,  3.15it/s]"
          ]
        },
        {
          "name": "stdout",
          "output_type": "stream",
          "text": [
            "Skipping UniRef50_UPI001CFAC5AE due to ProteinAnalysis error: ''X'' is not a valid unambiguous letter for protein\n"
          ]
        },
        {
          "name": "stderr",
          "output_type": "stream",
          "text": [
            "  9%|▉         | 2264/25000 [07:16<4:26:01,  1.42it/s]"
          ]
        },
        {
          "name": "stdout",
          "output_type": "stream",
          "text": [
            "Skipping UniRef50_A0A0L8IAK7 due to ProteinAnalysis error: ''X'' is not a valid unambiguous letter for protein\n"
          ]
        },
        {
          "name": "stderr",
          "output_type": "stream",
          "text": [
            "  9%|▉         | 2297/25000 [07:27<1:08:54,  5.49it/s]"
          ]
        },
        {
          "name": "stdout",
          "output_type": "stream",
          "text": [
            "Skipping UniRef50_UPI002378EA92 due to ProteinAnalysis error: ''X'' is not a valid unambiguous letter for protein\n"
          ]
        },
        {
          "name": "stderr",
          "output_type": "stream",
          "text": [
            "  9%|▉         | 2310/25000 [07:28<37:53,  9.98it/s]"
          ]
        },
        {
          "name": "stdout",
          "output_type": "stream",
          "text": [
            "Skipping UniRef50_A0A2E7EGR8 due to ProteinAnalysis error: ''X'' is not a valid unambiguous letter for protein\n"
          ]
        },
        {
          "name": "stderr",
          "output_type": "stream",
          "text": [
            "  9%|▉         | 2359/25000 [07:41<1:48:33,  3.48it/s]"
          ]
        },
        {
          "name": "stdout",
          "output_type": "stream",
          "text": [
            "Skipping UniRef50_UPI00174E004A due to ProteinAnalysis error: ''X'' is not a valid unambiguous letter for protein\n"
          ]
        },
        {
          "name": "stderr",
          "output_type": "stream",
          "text": [
            "  9%|▉         | 2363/25000 [07:42<1:16:09,  4.95it/s]"
          ]
        },
        {
          "name": "stdout",
          "output_type": "stream",
          "text": [
            "Skipping UniRef50_A0A090M772 due to ProteinAnalysis error: ''X'' is not a valid unambiguous letter for protein\n"
          ]
        },
        {
          "name": "stderr",
          "output_type": "stream",
          "text": [
            " 10%|▉         | 2379/25000 [09:16<63:10:52, 10.05s/it]"
          ]
        },
        {
          "name": "stdout",
          "output_type": "stream",
          "text": [
            "Skipping UniRef50_A0A2I0KDF8 due to ProteinAnalysis error: ''X'' is not a valid unambiguous letter for protein\n"
          ]
        },
        {
          "name": "stderr",
          "output_type": "stream",
          "text": [
            " 10%|▉         | 2387/25000 [10:53<56:53:39,  9.06s/it]"
          ]
        },
        {
          "name": "stdout",
          "output_type": "stream",
          "text": [
            "Skipping UniRef50_A0A2C6KZC2 due to ProteinAnalysis error: ''X'' is not a valid unambiguous letter for protein\n"
          ]
        },
        {
          "name": "stderr",
          "output_type": "stream",
          "text": [
            " 10%|▉         | 2391/25000 [11:13<41:27:32,  6.60s/it]"
          ]
        },
        {
          "name": "stdout",
          "output_type": "stream",
          "text": [
            "Skipping UniRef50_A0A913YK56 due to ProteinAnalysis error: ''X'' is not a valid unambiguous letter for protein\n"
          ]
        },
        {
          "name": "stderr",
          "output_type": "stream",
          "text": [
            " 10%|▉         | 2405/25000 [15:58<143:07:19, 22.80s/it]"
          ]
        },
        {
          "name": "stdout",
          "output_type": "stream",
          "text": [
            "Skipping UniRef50_UPI001640FFE7 due to ProteinAnalysis error: ''X'' is not a valid unambiguous letter for protein\n"
          ]
        },
        {
          "name": "stderr",
          "output_type": "stream",
          "text": [
            " 10%|▉         | 2432/25000 [16:02<37:28, 10.04it/s]"
          ]
        },
        {
          "name": "stdout",
          "output_type": "stream",
          "text": [
            "Skipping UniRef50_UPI0022B14398 due to ProteinAnalysis error: ''X'' is not a valid unambiguous letter for protein\n"
          ]
        },
        {
          "name": "stderr",
          "output_type": "stream",
          "text": [
            " 10%|▉         | 2458/25000 [16:07<52:54,  7.10it/s]  "
          ]
        },
        {
          "name": "stdout",
          "output_type": "stream",
          "text": [
            "Skipping UniRef50_UPI0012938F3D due to ProteinAnalysis error: ''X'' is not a valid unambiguous letter for protein\n",
            "Skipping UniRef50_UPI001747B062 due to ProteinAnalysis error: ''X'' is not a valid unambiguous letter for protein\n"
          ]
        },
        {
          "name": "stderr",
          "output_type": "stream",
          "text": [
            " 10%|▉         | 2478/25000 [16:08<30:38, 12.25it/s]"
          ]
        },
        {
          "name": "stdout",
          "output_type": "stream",
          "text": [
            "Skipping UniRef50_A0A2C6KIT0 due to ProteinAnalysis error: ''X'' is not a valid unambiguous letter for protein\n"
          ]
        },
        {
          "name": "stderr",
          "output_type": "stream",
          "text": [
            " 10%|▉         | 2482/25000 [16:09<30:25, 12.33it/s]"
          ]
        },
        {
          "name": "stdout",
          "output_type": "stream",
          "text": [
            "Skipping UniRef50_UPI0011E9DDCD due to ProteinAnalysis error: ''X'' is not a valid unambiguous letter for protein\n"
          ]
        },
        {
          "name": "stderr",
          "output_type": "stream",
          "text": [
            " 10%|█         | 2504/25000 [16:11<31:15, 11.99it/s]"
          ]
        },
        {
          "name": "stdout",
          "output_type": "stream",
          "text": [
            "Skipping UniRef50_UPI00193EC7D3 due to ProteinAnalysis error: ''X'' is not a valid unambiguous letter for protein\n"
          ]
        },
        {
          "name": "stderr",
          "output_type": "stream",
          "text": [
            " 10%|█         | 2522/25000 [16:13<43:13,  8.67it/s]"
          ]
        },
        {
          "name": "stdout",
          "output_type": "stream",
          "text": [
            "Skipping UniRef50_A0A814VIW3 due to ProteinAnalysis error: ''X'' is not a valid unambiguous letter for protein\n"
          ]
        },
        {
          "name": "stderr",
          "output_type": "stream",
          "text": [
            " 10%|█         | 2528/25000 [16:13<46:26,  8.07it/s]"
          ]
        },
        {
          "name": "stdout",
          "output_type": "stream",
          "text": [
            "Skipping UniRef50_UPI00083CF26B due to ProteinAnalysis error: ''X'' is not a valid unambiguous letter for protein\n"
          ]
        },
        {
          "name": "stderr",
          "output_type": "stream",
          "text": [
            " 10%|█         | 2546/25000 [16:17<40:36,  9.21it/s]"
          ]
        },
        {
          "name": "stdout",
          "output_type": "stream",
          "text": [
            "Skipping UniRef50_A0A1B3SNY6 due to ProteinAnalysis error: ''X'' is not a valid unambiguous letter for protein\n",
            "Skipping UniRef50_UPI001BEABFEE due to ProteinAnalysis error: ''X'' is not a valid unambiguous letter for protein\n"
          ]
        },
        {
          "name": "stderr",
          "output_type": "stream",
          "text": [
            " 10%|█         | 2562/25000 [16:19<31:15, 11.97it/s]"
          ]
        },
        {
          "name": "stdout",
          "output_type": "stream",
          "text": [
            "Skipping UniRef50_A0A074ZTN8 due to ProteinAnalysis error: ''X'' is not a valid unambiguous letter for protein\n"
          ]
        },
        {
          "name": "stderr",
          "output_type": "stream",
          "text": [
            " 10%|█         | 2600/25000 [16:22<30:46, 12.13it/s]"
          ]
        },
        {
          "name": "stdout",
          "output_type": "stream",
          "text": [
            "Skipping UniRef50_UPI00083C2150 due to ProteinAnalysis error: ''X'' is not a valid unambiguous letter for protein\n"
          ]
        },
        {
          "name": "stderr",
          "output_type": "stream",
          "text": [
            "\r 10%|█         | 2602/25000 [16:22<30:42, 12.16it/s]"
          ]
        },
        {
          "name": "stdout",
          "output_type": "stream",
          "text": [
            "Skipping UniRef50_A0A918KBD4 due to ProteinAnalysis error: ''X'' is not a valid unambiguous letter for protein\n",
            "Skipping UniRef50_UPI000F7D4C50 due to ProteinAnalysis error: ''X'' is not a valid unambiguous letter for protein\n"
          ]
        },
        {
          "name": "stderr",
          "output_type": "stream",
          "text": [
            " 10%|█         | 2622/25000 [16:24<31:19, 11.91it/s]"
          ]
        },
        {
          "name": "stdout",
          "output_type": "stream",
          "text": [
            "Skipping UniRef50_UPI001176BFB0 due to ProteinAnalysis error: ''X'' is not a valid unambiguous letter for protein\n"
          ]
        },
        {
          "name": "stderr",
          "output_type": "stream",
          "text": [
            " 11%|█         | 2643/25000 [16:27<47:02,  7.92it/s]"
          ]
        },
        {
          "name": "stdout",
          "output_type": "stream",
          "text": [
            "Skipping UniRef50_A0A2P9GRV6 due to ProteinAnalysis error: ''X'' is not a valid unambiguous letter for protein\n"
          ]
        },
        {
          "name": "stderr",
          "output_type": "stream",
          "text": [
            " 11%|█         | 2645/25000 [16:27<46:17,  8.05it/s]"
          ]
        },
        {
          "name": "stdout",
          "output_type": "stream",
          "text": [
            "Skipping UniRef50_A0A6J0C6T2 due to ProteinAnalysis error: ''X'' is not a valid unambiguous letter for protein\n"
          ]
        },
        {
          "name": "stderr",
          "output_type": "stream",
          "text": [
            " 11%|█         | 2668/25000 [16:29<40:46,  9.13it/s]"
          ]
        },
        {
          "name": "stdout",
          "output_type": "stream",
          "text": [
            "Skipping UniRef50_A0A7R5KPG4 due to ProteinAnalysis error: ''X'' is not a valid unambiguous letter for protein\n"
          ]
        },
        {
          "name": "stderr",
          "output_type": "stream",
          "text": [
            " 11%|█         | 2703/25000 [16:33<29:13, 12.72it/s]"
          ]
        },
        {
          "name": "stdout",
          "output_type": "stream",
          "text": [
            "Skipping UniRef50_A0A2A5AI72 due to ProteinAnalysis error: ''X'' is not a valid unambiguous letter for protein\n"
          ]
        },
        {
          "name": "stderr",
          "output_type": "stream",
          "text": [
            " 11%|█         | 2726/25000 [16:36<34:14, 10.84it/s]"
          ]
        },
        {
          "name": "stdout",
          "output_type": "stream",
          "text": [
            "Skipping UniRef50_UPI000A1D09B1 due to ProteinAnalysis error: ''X'' is not a valid unambiguous letter for protein\n"
          ]
        },
        {
          "name": "stderr",
          "output_type": "stream",
          "text": [
            " 11%|█         | 2746/25000 [16:38<38:29,  9.64it/s]"
          ]
        },
        {
          "name": "stdout",
          "output_type": "stream",
          "text": [
            "Skipping UniRef50_A0A9Q9YRX1 due to ProteinAnalysis error: ''X'' is not a valid unambiguous letter for protein\n"
          ]
        },
        {
          "name": "stderr",
          "output_type": "stream",
          "text": [
            " 11%|█         | 2749/25000 [16:40<2:32:10,  2.44it/s]"
          ]
        },
        {
          "name": "stdout",
          "output_type": "stream",
          "text": [
            "Skipping UniRef50_W3VCZ3 due to ProteinAnalysis error: ''X'' is not a valid unambiguous letter for protein\n"
          ]
        },
        {
          "name": "stderr",
          "output_type": "stream",
          "text": [
            " 11%|█         | 2758/25000 [16:42<51:49,  7.15it/s]  "
          ]
        },
        {
          "name": "stdout",
          "output_type": "stream",
          "text": [
            "Skipping UniRef50_UPI002264C7DB due to ProteinAnalysis error: ''X'' is not a valid unambiguous letter for protein\n"
          ]
        },
        {
          "name": "stderr",
          "output_type": "stream",
          "text": [
            " 11%|█         | 2764/25000 [16:42<39:09,  9.46it/s]"
          ]
        },
        {
          "name": "stdout",
          "output_type": "stream",
          "text": [
            "Skipping UniRef50_UPI002434C197 due to ProteinAnalysis error: ''X'' is not a valid unambiguous letter for protein\n"
          ]
        },
        {
          "name": "stderr",
          "output_type": "stream",
          "text": [
            " 11%|█         | 2774/25000 [16:43<32:13, 11.50it/s]"
          ]
        },
        {
          "name": "stdout",
          "output_type": "stream",
          "text": [
            "Skipping UniRef50_A0A1Q3HSB7 due to ProteinAnalysis error: ''X'' is not a valid unambiguous letter for protein\n"
          ]
        },
        {
          "name": "stderr",
          "output_type": "stream",
          "text": [
            "\r 11%|█         | 2776/25000 [16:43<31:05, 11.91it/s]"
          ]
        },
        {
          "name": "stdout",
          "output_type": "stream",
          "text": [
            "Skipping UniRef50_A0A7W5DYB3 due to ProteinAnalysis error: ''X'' is not a valid unambiguous letter for protein\n"
          ]
        },
        {
          "name": "stderr",
          "output_type": "stream",
          "text": [
            " 11%|█         | 2792/25000 [16:45<42:17,  8.75it/s]"
          ]
        },
        {
          "name": "stdout",
          "output_type": "stream",
          "text": [
            "Skipping UniRef50_A0A814IQ99 due to ProteinAnalysis error: ''X'' is not a valid unambiguous letter for protein\n"
          ]
        },
        {
          "name": "stderr",
          "output_type": "stream",
          "text": [
            " 11%|█         | 2808/25000 [16:46<30:11, 12.25it/s]"
          ]
        },
        {
          "name": "stdout",
          "output_type": "stream",
          "text": [
            "Skipping UniRef50_A0A913YU04 due to ProteinAnalysis error: ''X'' is not a valid unambiguous letter for protein\n"
          ]
        },
        {
          "name": "stderr",
          "output_type": "stream",
          "text": [
            " 11%|█▏        | 2829/25000 [16:48<27:05, 13.64it/s]"
          ]
        },
        {
          "name": "stdout",
          "output_type": "stream",
          "text": [
            "Skipping UniRef50_A0A814XNW6 due to ProteinAnalysis error: ''X'' is not a valid unambiguous letter for protein\n"
          ]
        },
        {
          "name": "stderr",
          "output_type": "stream",
          "text": [
            " 12%|█▏        | 2898/25000 [16:56<29:10, 12.63it/s]"
          ]
        },
        {
          "name": "stdout",
          "output_type": "stream",
          "text": [
            "Skipping UniRef50_UPI0010BDD81E due to ProteinAnalysis error: ''X'' is not a valid unambiguous letter for protein\n"
          ]
        },
        {
          "name": "stderr",
          "output_type": "stream",
          "text": [
            " 12%|█▏        | 2937/25000 [17:02<1:20:52,  4.55it/s]"
          ]
        },
        {
          "name": "stdout",
          "output_type": "stream",
          "text": [
            "Skipping UniRef50_UPI00234E9155 due to ProteinAnalysis error: ''X'' is not a valid unambiguous letter for protein\n"
          ]
        },
        {
          "name": "stderr",
          "output_type": "stream",
          "text": [
            " 12%|█▏        | 2949/25000 [17:03<35:37, 10.32it/s]"
          ]
        },
        {
          "name": "stdout",
          "output_type": "stream",
          "text": [
            "Skipping UniRef50_UPI000F092CAF due to ProteinAnalysis error: ''X'' is not a valid unambiguous letter for protein\n"
          ]
        },
        {
          "name": "stderr",
          "output_type": "stream",
          "text": [
            " 12%|█▏        | 3010/25000 [17:12<1:50:37,  3.31it/s]"
          ]
        },
        {
          "name": "stdout",
          "output_type": "stream",
          "text": [
            "Skipping UniRef50_UPI001E1CB16F due to ProteinAnalysis error: ''X'' is not a valid unambiguous letter for protein\n"
          ]
        },
        {
          "name": "stderr",
          "output_type": "stream",
          "text": [
            " 12%|█▏        | 3025/25000 [17:13<33:58, 10.78it/s]"
          ]
        },
        {
          "name": "stdout",
          "output_type": "stream",
          "text": [
            "Skipping UniRef50_UPI002548CAD5 due to ProteinAnalysis error: ''X'' is not a valid unambiguous letter for protein\n"
          ]
        },
        {
          "name": "stderr",
          "output_type": "stream",
          "text": [
            " 12%|█▏        | 3059/25000 [17:16<28:40, 12.75it/s]"
          ]
        },
        {
          "name": "stdout",
          "output_type": "stream",
          "text": [
            "Skipping UniRef50_UPI001EEB5939 due to ProteinAnalysis error: ''X'' is not a valid unambiguous letter for protein\n"
          ]
        },
        {
          "name": "stderr",
          "output_type": "stream",
          "text": [
            " 12%|█▏        | 3119/25000 [17:24<29:55, 12.19it/s]"
          ]
        },
        {
          "name": "stdout",
          "output_type": "stream",
          "text": [
            "Skipping UniRef50_UPI001CF749D6 due to ProteinAnalysis error: ''X'' is not a valid unambiguous letter for protein\n"
          ]
        },
        {
          "name": "stderr",
          "output_type": "stream",
          "text": [
            " 12%|█▎        | 3125/25000 [17:24<28:18, 12.88it/s]"
          ]
        },
        {
          "name": "stdout",
          "output_type": "stream",
          "text": [
            "Skipping UniRef50_A0A6P8IIQ5 due to ProteinAnalysis error: ''X'' is not a valid unambiguous letter for protein\n",
            "Skipping UniRef50_A0A3Q0IN39 due to ProteinAnalysis error: ''X'' is not a valid unambiguous letter for protein\n"
          ]
        },
        {
          "name": "stderr",
          "output_type": "stream",
          "text": [
            " 13%|█▎        | 3146/25000 [17:26<26:33, 13.72it/s]"
          ]
        },
        {
          "name": "stdout",
          "output_type": "stream",
          "text": [
            "Skipping UniRef50_A0A2D7H9J3 due to ProteinAnalysis error: ''X'' is not a valid unambiguous letter for protein\n"
          ]
        },
        {
          "name": "stderr",
          "output_type": "stream",
          "text": [
            " 13%|█▎        | 3184/25000 [17:30<1:09:56,  5.20it/s]"
          ]
        },
        {
          "name": "stdout",
          "output_type": "stream",
          "text": [
            "Skipping UniRef50_A0A9W6ZRQ0 due to ProteinAnalysis error: ''X'' is not a valid unambiguous letter for protein\n"
          ]
        },
        {
          "name": "stderr",
          "output_type": "stream",
          "text": [
            " 13%|█▎        | 3215/25000 [17:33<29:19, 12.38it/s]"
          ]
        },
        {
          "name": "stdout",
          "output_type": "stream",
          "text": [
            "Skipping UniRef50_A0A2E4YVJ6 due to ProteinAnalysis error: ''X'' is not a valid unambiguous letter for protein\n"
          ]
        },
        {
          "name": "stderr",
          "output_type": "stream",
          "text": [
            " 13%|█▎        | 3240/25000 [17:38<27:49, 13.03it/s]"
          ]
        },
        {
          "name": "stdout",
          "output_type": "stream",
          "text": [
            "Skipping UniRef50_A0A834IL42 due to ProteinAnalysis error: ''X'' is not a valid unambiguous letter for protein\n",
            "Skipping UniRef50_UPI001BFCFBD7 due to ProteinAnalysis error: ''X'' is not a valid unambiguous letter for protein\n"
          ]
        },
        {
          "name": "stderr",
          "output_type": "stream",
          "text": [
            " 13%|█▎        | 3248/25000 [17:38<29:15, 12.39it/s]"
          ]
        },
        {
          "name": "stdout",
          "output_type": "stream",
          "text": [
            "Skipping UniRef50_A0A1I8P2P9 due to ProteinAnalysis error: ''X'' is not a valid unambiguous letter for protein\n"
          ]
        },
        {
          "name": "stderr",
          "output_type": "stream",
          "text": [
            " 13%|█▎        | 3311/25000 [17:45<42:34,  8.49it/s]"
          ]
        },
        {
          "name": "stdout",
          "output_type": "stream",
          "text": [
            "Skipping UniRef50_A0A6P8VLA0 due to ProteinAnalysis error: ''X'' is not a valid unambiguous letter for protein\n"
          ]
        },
        {
          "name": "stderr",
          "output_type": "stream",
          "text": [
            " 13%|█▎        | 3314/25000 [17:45<36:19,  9.95it/s]"
          ]
        },
        {
          "name": "stdout",
          "output_type": "stream",
          "text": [
            "Skipping UniRef50_A0A397GK35 due to ProteinAnalysis error: ''X'' is not a valid unambiguous letter for protein\n"
          ]
        },
        {
          "name": "stderr",
          "output_type": "stream",
          "text": [
            " 14%|█▎        | 3396/25000 [17:54<25:06, 14.34it/s]"
          ]
        },
        {
          "name": "stdout",
          "output_type": "stream",
          "text": [
            "Skipping UniRef50_UPI00234E32ED due to ProteinAnalysis error: ''X'' is not a valid unambiguous letter for protein\n",
            "Skipping UniRef50_A0A840B0F6 due to ProteinAnalysis error: ''X'' is not a valid unambiguous letter for protein\n"
          ]
        },
        {
          "name": "stderr",
          "output_type": "stream",
          "text": [
            " 14%|█▎        | 3414/25000 [17:58<33:22, 10.78it/s]"
          ]
        },
        {
          "name": "stdout",
          "output_type": "stream",
          "text": [
            "Skipping UniRef50_UPI00235AAE89 due to ProteinAnalysis error: ''X'' is not a valid unambiguous letter for protein\n"
          ]
        },
        {
          "name": "stderr",
          "output_type": "stream",
          "text": [
            " 14%|█▎        | 3418/25000 [17:58<31:59, 11.25it/s]"
          ]
        },
        {
          "name": "stdout",
          "output_type": "stream",
          "text": [
            "Skipping UniRef50_UPI0021C6CBBC due to ProteinAnalysis error: ''X'' is not a valid unambiguous letter for protein\n"
          ]
        },
        {
          "name": "stderr",
          "output_type": "stream",
          "text": [
            " 14%|█▎        | 3428/25000 [17:59<29:48, 12.06it/s]"
          ]
        },
        {
          "name": "stdout",
          "output_type": "stream",
          "text": [
            "Skipping UniRef50_A0A815FFV0 due to ProteinAnalysis error: ''X'' is not a valid unambiguous letter for protein\n"
          ]
        },
        {
          "name": "stderr",
          "output_type": "stream",
          "text": [
            " 14%|█▍        | 3442/25000 [18:00<35:29, 10.12it/s]"
          ]
        },
        {
          "name": "stdout",
          "output_type": "stream",
          "text": [
            "Skipping UniRef50_UPI002403A8AC due to ProteinAnalysis error: ''X'' is not a valid unambiguous letter for protein\n"
          ]
        },
        {
          "name": "stderr",
          "output_type": "stream",
          "text": [
            " 14%|█▍        | 3481/25000 [18:03<27:29, 13.05it/s]"
          ]
        },
        {
          "name": "stdout",
          "output_type": "stream",
          "text": [
            "Skipping UniRef50_A0A3N0Y4D8 due to ProteinAnalysis error: ''X'' is not a valid unambiguous letter for protein\n"
          ]
        },
        {
          "name": "stderr",
          "output_type": "stream",
          "text": [
            " 14%|█▍        | 3509/25000 [18:06<27:41, 12.94it/s]"
          ]
        },
        {
          "name": "stdout",
          "output_type": "stream",
          "text": [
            "Skipping UniRef50_A0A1Q9EH80 due to ProteinAnalysis error: ''X'' is not a valid unambiguous letter for protein\n"
          ]
        },
        {
          "name": "stderr",
          "output_type": "stream",
          "text": [
            " 14%|█▍        | 3524/25000 [18:09<2:03:21,  2.90it/s]"
          ]
        },
        {
          "name": "stdout",
          "output_type": "stream",
          "text": [
            "Skipping UniRef50_UPI0007B850A2 due to ProteinAnalysis error: ''X'' is not a valid unambiguous letter for protein\n"
          ]
        },
        {
          "name": "stderr",
          "output_type": "stream",
          "text": [
            "\r 14%|█▍        | 3525/25000 [18:10<2:33:31,  2.33it/s]"
          ]
        },
        {
          "name": "stdout",
          "output_type": "stream",
          "text": [
            "Skipping UniRef50_UPI000782273A due to ProteinAnalysis error: ''X'' is not a valid unambiguous letter for protein\n"
          ]
        },
        {
          "name": "stderr",
          "output_type": "stream",
          "text": [
            " 14%|█▍        | 3540/25000 [18:12<34:55, 10.24it/s]"
          ]
        },
        {
          "name": "stdout",
          "output_type": "stream",
          "text": [
            "Skipping UniRef50_UPI000B457A43 due to ProteinAnalysis error: ''X'' is not a valid unambiguous letter for protein\n",
            "Skipping UniRef50_UPI00146E8E65 due to ProteinAnalysis error: ''X'' is not a valid unambiguous letter for protein\n"
          ]
        },
        {
          "name": "stderr",
          "output_type": "stream",
          "text": [
            " 14%|█▍        | 3554/25000 [18:13<32:30, 11.00it/s]"
          ]
        },
        {
          "name": "stdout",
          "output_type": "stream",
          "text": [
            "Skipping UniRef50_A0A2I0JZ66 due to ProteinAnalysis error: ''X'' is not a valid unambiguous letter for protein\n"
          ]
        },
        {
          "name": "stderr",
          "output_type": "stream",
          "text": [
            " 14%|█▍        | 3571/25000 [18:16<36:01,  9.92it/s]"
          ]
        },
        {
          "name": "stdout",
          "output_type": "stream",
          "text": [
            "Skipping UniRef50_N6U3Z2 due to ProteinAnalysis error: ''X'' is not a valid unambiguous letter for protein\n"
          ]
        },
        {
          "name": "stderr",
          "output_type": "stream",
          "text": [
            " 14%|█▍        | 3613/25000 [18:23<33:22, 10.68it/s]"
          ]
        },
        {
          "name": "stdout",
          "output_type": "stream",
          "text": [
            "Skipping UniRef50_UPI0023B8B695 due to ProteinAnalysis error: ''X'' is not a valid unambiguous letter for protein\n"
          ]
        },
        {
          "name": "stderr",
          "output_type": "stream",
          "text": [
            " 15%|█▍        | 3670/25000 [18:27<24:33, 14.48it/s]"
          ]
        },
        {
          "name": "stdout",
          "output_type": "stream",
          "text": [
            "Skipping UniRef50_UPI001864DAD5 due to ProteinAnalysis error: ''X'' is not a valid unambiguous letter for protein\n"
          ]
        },
        {
          "name": "stderr",
          "output_type": "stream",
          "text": [
            " 15%|█▍        | 3719/25000 [18:35<42:05,  8.43it/s]"
          ]
        },
        {
          "name": "stdout",
          "output_type": "stream",
          "text": [
            "Skipping UniRef50_A0A816SK52 due to ProteinAnalysis error: ''X'' is not a valid unambiguous letter for protein\n"
          ]
        },
        {
          "name": "stderr",
          "output_type": "stream",
          "text": [
            " 15%|█▌        | 3754/25000 [18:38<26:47, 13.22it/s]"
          ]
        },
        {
          "name": "stdout",
          "output_type": "stream",
          "text": [
            "Skipping UniRef50_UPI0022420EFC due to ProteinAnalysis error: ''X'' is not a valid unambiguous letter for protein\n"
          ]
        },
        {
          "name": "stderr",
          "output_type": "stream",
          "text": [
            " 15%|█▌        | 3774/25000 [18:43<31:11, 11.34it/s]"
          ]
        },
        {
          "name": "stdout",
          "output_type": "stream",
          "text": [
            "Skipping UniRef50_A0A4Q7JLR3 due to ProteinAnalysis error: ''X'' is not a valid unambiguous letter for protein\n"
          ]
        },
        {
          "name": "stderr",
          "output_type": "stream",
          "text": [
            " 15%|█▌        | 3784/25000 [18:43<27:41, 12.77it/s]"
          ]
        },
        {
          "name": "stdout",
          "output_type": "stream",
          "text": [
            "Skipping UniRef50_A0A4Q7JMT6 due to ProteinAnalysis error: ''X'' is not a valid unambiguous letter for protein\n"
          ]
        },
        {
          "name": "stderr",
          "output_type": "stream",
          "text": [
            "\r 15%|█▌        | 3786/25000 [18:43<27:05, 13.05it/s]"
          ]
        },
        {
          "name": "stdout",
          "output_type": "stream",
          "text": [
            "Skipping UniRef50_A0A2E7PW77 due to ProteinAnalysis error: ''X'' is not a valid unambiguous letter for protein\n"
          ]
        },
        {
          "name": "stderr",
          "output_type": "stream",
          "text": [
            " 15%|█▌        | 3793/25000 [18:46<1:31:38,  3.86it/s]"
          ]
        },
        {
          "name": "stdout",
          "output_type": "stream",
          "text": [
            "Skipping UniRef50_A0A814BFQ5 due to ProteinAnalysis error: ''X'' is not a valid unambiguous letter for protein\n"
          ]
        },
        {
          "name": "stderr",
          "output_type": "stream",
          "text": [
            " 15%|█▌        | 3843/25000 [18:53<30:29, 11.56it/s]"
          ]
        },
        {
          "name": "stdout",
          "output_type": "stream",
          "text": [
            "Skipping UniRef50_A0A1Q9CHN3 due to ProteinAnalysis error: ''X'' is not a valid unambiguous letter for protein\n"
          ]
        },
        {
          "name": "stderr",
          "output_type": "stream",
          "text": [
            " 15%|█▌        | 3847/25000 [18:54<29:35, 11.92it/s]"
          ]
        },
        {
          "name": "stdout",
          "output_type": "stream",
          "text": [
            "Skipping UniRef50_UPI0024B4CA01 due to ProteinAnalysis error: ''X'' is not a valid unambiguous letter for protein\n"
          ]
        },
        {
          "name": "stderr",
          "output_type": "stream",
          "text": [
            " 16%|█▌        | 3882/25000 [18:59<32:38, 10.78it/s]"
          ]
        },
        {
          "name": "stdout",
          "output_type": "stream",
          "text": [
            "Skipping UniRef50_A0A7E4W4F4 due to ProteinAnalysis error: ''X'' is not a valid unambiguous letter for protein\n",
            "Skipping UniRef50_A2E2C1 due to ProteinAnalysis error: ''X'' is not a valid unambiguous letter for protein\n"
          ]
        },
        {
          "name": "stderr",
          "output_type": "stream",
          "text": [
            " 16%|█▌        | 3904/25000 [19:03<33:21, 10.54it/s]"
          ]
        },
        {
          "name": "stdout",
          "output_type": "stream",
          "text": [
            "Skipping UniRef50_UPI002223227D due to ProteinAnalysis error: ''X'' is not a valid unambiguous letter for protein\n"
          ]
        },
        {
          "name": "stderr",
          "output_type": "stream",
          "text": [
            " 16%|█▌        | 3932/25000 [19:08<31:16, 11.23it/s]"
          ]
        },
        {
          "name": "stdout",
          "output_type": "stream",
          "text": [
            "Skipping UniRef50_UPI001E1CD444 due to ProteinAnalysis error: ''X'' is not a valid unambiguous letter for protein\n"
          ]
        },
        {
          "name": "stderr",
          "output_type": "stream",
          "text": [
            " 16%|█▌        | 3958/25000 [19:12<42:38,  8.22it/s]"
          ]
        },
        {
          "name": "stdout",
          "output_type": "stream",
          "text": [
            "Skipping UniRef50_A0A2E3H6V5 due to ProteinAnalysis error: ''X'' is not a valid unambiguous letter for protein\n"
          ]
        },
        {
          "name": "stderr",
          "output_type": "stream",
          "text": [
            " 16%|█▌        | 3961/25000 [19:12<37:14,  9.41it/s]"
          ]
        },
        {
          "name": "stdout",
          "output_type": "stream",
          "text": [
            "Skipping UniRef50_A0A6P8I808 due to ProteinAnalysis error: ''X'' is not a valid unambiguous letter for protein\n",
            "Skipping UniRef50_D5GN99 due to ProteinAnalysis error: ''X'' is not a valid unambiguous letter for protein\n"
          ]
        },
        {
          "name": "stderr",
          "output_type": "stream",
          "text": [
            " 16%|█▌        | 3971/25000 [19:14<39:19,  8.91it/s]"
          ]
        },
        {
          "name": "stdout",
          "output_type": "stream",
          "text": [
            "Skipping UniRef50_UPI00226445AF due to ProteinAnalysis error: ''X'' is not a valid unambiguous letter for protein\n"
          ]
        },
        {
          "name": "stderr",
          "output_type": "stream",
          "text": [
            " 16%|█▌        | 3979/25000 [19:17<1:24:35,  4.14it/s]"
          ]
        },
        {
          "name": "stdout",
          "output_type": "stream",
          "text": [
            "Skipping UniRef50_A0A2E5LU35 due to ProteinAnalysis error: ''X'' is not a valid unambiguous letter for protein\n"
          ]
        },
        {
          "name": "stderr",
          "output_type": "stream",
          "text": [
            " 16%|█▌        | 4001/25000 [19:20<1:38:42,  3.55it/s]"
          ]
        },
        {
          "name": "stdout",
          "output_type": "stream",
          "text": [
            "Skipping UniRef50_UPI00145822C8 due to ProteinAnalysis error: ''X'' is not a valid unambiguous letter for protein\n"
          ]
        },
        {
          "name": "stderr",
          "output_type": "stream",
          "text": [
            " 16%|█▌        | 4006/25000 [19:21<1:08:53,  5.08it/s]"
          ]
        },
        {
          "name": "stdout",
          "output_type": "stream",
          "text": [
            "Skipping UniRef50_A0A0Q4LN61 due to ProteinAnalysis error: ''X'' is not a valid unambiguous letter for protein\n",
            "Skipping UniRef50_UPI001CA87F49 due to ProteinAnalysis error: ''X'' is not a valid unambiguous letter for protein\n"
          ]
        },
        {
          "name": "stderr",
          "output_type": "stream",
          "text": [
            " 16%|█▌        | 4015/25000 [19:21<29:27, 11.87it/s]"
          ]
        },
        {
          "name": "stdout",
          "output_type": "stream",
          "text": [
            "Skipping UniRef50_A0A0N8WHY8 due to ProteinAnalysis error: ''X'' is not a valid unambiguous letter for protein\n"
          ]
        },
        {
          "name": "stderr",
          "output_type": "stream",
          "text": [
            " 16%|█▌        | 4029/25000 [19:23<28:47, 12.14it/s]"
          ]
        },
        {
          "name": "stdout",
          "output_type": "stream",
          "text": [
            "Skipping UniRef50_A0A814LRF8 due to ProteinAnalysis error: ''X'' is not a valid unambiguous letter for protein\n",
            "Skipping UniRef50_UPI002544A7BF due to ProteinAnalysis error: ''X'' is not a valid unambiguous letter for protein\n"
          ]
        },
        {
          "name": "stderr",
          "output_type": "stream",
          "text": [
            " 16%|█▌        | 4037/25000 [19:25<1:03:36,  5.49it/s]"
          ]
        },
        {
          "name": "stdout",
          "output_type": "stream",
          "text": [
            "Skipping UniRef50_A0A3N0Y4E8 due to ProteinAnalysis error: ''X'' is not a valid unambiguous letter for protein\n"
          ]
        },
        {
          "name": "stderr",
          "output_type": "stream",
          "text": [
            " 16%|█▌        | 4045/25000 [19:26<35:13,  9.91it/s]"
          ]
        },
        {
          "name": "stdout",
          "output_type": "stream",
          "text": [
            "Skipping UniRef50_A0A814LHL2 due to ProteinAnalysis error: ''X'' is not a valid unambiguous letter for protein\n"
          ]
        },
        {
          "name": "stderr",
          "output_type": "stream",
          "text": [
            " 16%|█▌        | 4059/25000 [19:27<28:43, 12.15it/s]"
          ]
        },
        {
          "name": "stdout",
          "output_type": "stream",
          "text": [
            "Skipping UniRef50_A0A1Z8VFW6 due to ProteinAnalysis error: ''X'' is not a valid unambiguous letter for protein\n"
          ]
        },
        {
          "name": "stderr",
          "output_type": "stream",
          "text": [
            "\r 16%|█▌        | 4061/25000 [19:27<27:40, 12.61it/s]"
          ]
        },
        {
          "name": "stdout",
          "output_type": "stream",
          "text": [
            "Skipping UniRef50_A0A8S1KZP9 due to ProteinAnalysis error: ''X'' is not a valid unambiguous letter for protein\n"
          ]
        },
        {
          "name": "stderr",
          "output_type": "stream",
          "text": [
            " 16%|█▋        | 4069/25000 [19:28<26:50, 13.00it/s]"
          ]
        },
        {
          "name": "stdout",
          "output_type": "stream",
          "text": [
            "Skipping UniRef50_A0A8B8CRU4 due to ProteinAnalysis error: ''X'' is not a valid unambiguous letter for protein\n"
          ]
        },
        {
          "name": "stderr",
          "output_type": "stream",
          "text": [
            " 16%|█▋        | 4087/25000 [19:32<37:12,  9.37it/s]"
          ]
        },
        {
          "name": "stdout",
          "output_type": "stream",
          "text": [
            "Skipping UniRef50_A0A8N5F0Q8 due to ProteinAnalysis error: ''X'' is not a valid unambiguous letter for protein\n"
          ]
        },
        {
          "name": "stderr",
          "output_type": "stream",
          "text": [
            " 16%|█▋        | 4099/25000 [19:33<30:46, 11.32it/s]"
          ]
        },
        {
          "name": "stdout",
          "output_type": "stream",
          "text": [
            "Skipping UniRef50_A0A8B8CGQ7 due to ProteinAnalysis error: ''X'' is not a valid unambiguous letter for protein\n"
          ]
        },
        {
          "name": "stderr",
          "output_type": "stream",
          "text": [
            " 17%|█▋        | 4138/25000 [19:40<36:48,  9.45it/s]"
          ]
        },
        {
          "name": "stdout",
          "output_type": "stream",
          "text": [
            "Skipping UniRef50_UPI001CF246BF due to ProteinAnalysis error: ''X'' is not a valid unambiguous letter for protein\n"
          ]
        },
        {
          "name": "stderr",
          "output_type": "stream",
          "text": [
            " 17%|█▋        | 4164/25000 [19:44<43:13,  8.03it/s]"
          ]
        },
        {
          "name": "stdout",
          "output_type": "stream",
          "text": [
            "Skipping UniRef50_A0A2J7ZUW5 due to ProteinAnalysis error: ''X'' is not a valid unambiguous letter for protein\n"
          ]
        },
        {
          "name": "stderr",
          "output_type": "stream",
          "text": [
            " 17%|█▋        | 4178/25000 [19:48<59:42,  5.81it/s]  "
          ]
        },
        {
          "name": "stdout",
          "output_type": "stream",
          "text": [
            "Skipping UniRef50_UPI0018E2C29F due to ProteinAnalysis error: ''X'' is not a valid unambiguous letter for protein\n"
          ]
        },
        {
          "name": "stderr",
          "output_type": "stream",
          "text": [
            " 17%|█▋        | 4186/25000 [19:48<33:39, 10.30it/s]"
          ]
        },
        {
          "name": "stdout",
          "output_type": "stream",
          "text": [
            "Skipping UniRef50_A0A8R1HYK5 due to ProteinAnalysis error: ''X'' is not a valid unambiguous letter for protein\n"
          ]
        },
        {
          "name": "stderr",
          "output_type": "stream",
          "text": [
            " 17%|█▋        | 4195/25000 [19:50<1:47:56,  3.21it/s]"
          ]
        },
        {
          "name": "stdout",
          "output_type": "stream",
          "text": [
            "Skipping UniRef50_UPI00146F116B due to ProteinAnalysis error: ''X'' is not a valid unambiguous letter for protein\n"
          ]
        },
        {
          "name": "stderr",
          "output_type": "stream",
          "text": [
            " 17%|█▋        | 4223/25000 [19:53<25:13, 13.72it/s]"
          ]
        },
        {
          "name": "stdout",
          "output_type": "stream",
          "text": [
            "Skipping UniRef50_UPI00273B474A due to ProteinAnalysis error: ''X'' is not a valid unambiguous letter for protein\n"
          ]
        },
        {
          "name": "stderr",
          "output_type": "stream",
          "text": [
            " 17%|█▋        | 4231/25000 [19:54<26:15, 13.18it/s]"
          ]
        },
        {
          "name": "stdout",
          "output_type": "stream",
          "text": [
            "Skipping UniRef50_A0A6H5K0L4 due to ProteinAnalysis error: ''X'' is not a valid unambiguous letter for protein\n"
          ]
        },
        {
          "name": "stderr",
          "output_type": "stream",
          "text": [
            " 17%|█▋        | 4268/25000 [19:58<25:50, 13.37it/s]"
          ]
        },
        {
          "name": "stdout",
          "output_type": "stream",
          "text": [
            "Skipping UniRef50_A0A0S7Z2A6 due to ProteinAnalysis error: ''X'' is not a valid unambiguous letter for protein\n"
          ]
        },
        {
          "name": "stderr",
          "output_type": "stream",
          "text": [
            " 17%|█▋        | 4272/25000 [19:58<26:30, 13.04it/s]"
          ]
        },
        {
          "name": "stdout",
          "output_type": "stream",
          "text": [
            "Skipping UniRef50_A0A212D0V4 due to ProteinAnalysis error: ''X'' is not a valid unambiguous letter for protein\n"
          ]
        },
        {
          "name": "stderr",
          "output_type": "stream",
          "text": [
            " 17%|█▋        | 4281/25000 [20:02<1:22:54,  4.17it/s]"
          ]
        },
        {
          "name": "stdout",
          "output_type": "stream",
          "text": [
            "Skipping UniRef50_UPI002158A4E3 due to ProteinAnalysis error: ''X'' is not a valid unambiguous letter for protein\n"
          ]
        },
        {
          "name": "stderr",
          "output_type": "stream",
          "text": [
            " 17%|█▋        | 4320/25000 [20:07<27:13, 12.66it/s]"
          ]
        },
        {
          "name": "stdout",
          "output_type": "stream",
          "text": [
            "Skipping UniRef50_A0A2I0JUM4 due to ProteinAnalysis error: ''X'' is not a valid unambiguous letter for protein\n",
            "Skipping UniRef50_A0A2E3L5R5 due to ProteinAnalysis error: ''X'' is not a valid unambiguous letter for protein\n"
          ]
        },
        {
          "name": "stderr",
          "output_type": "stream",
          "text": [
            " 18%|█▊        | 4384/25000 [20:17<28:25, 12.08it/s]"
          ]
        },
        {
          "name": "stdout",
          "output_type": "stream",
          "text": [
            "Skipping UniRef50_A0A2W1BNE8 due to ProteinAnalysis error: ''X'' is not a valid unambiguous letter for protein\n"
          ]
        },
        {
          "name": "stderr",
          "output_type": "stream",
          "text": [
            " 18%|█▊        | 4403/25000 [20:23<45:43,  7.51it/s]"
          ]
        },
        {
          "name": "stdout",
          "output_type": "stream",
          "text": [
            "Skipping UniRef50_A0A836EZ19 due to ProteinAnalysis error: ''X'' is not a valid unambiguous letter for protein\n"
          ]
        },
        {
          "name": "stderr",
          "output_type": "stream",
          "text": [
            " 18%|█▊        | 4413/25000 [20:24<31:18, 10.96it/s]"
          ]
        },
        {
          "name": "stdout",
          "output_type": "stream",
          "text": [
            "Skipping UniRef50_UPI0013C45282 due to ProteinAnalysis error: ''X'' is not a valid unambiguous letter for protein\n"
          ]
        },
        {
          "name": "stderr",
          "output_type": "stream",
          "text": [
            " 18%|█▊        | 4460/25000 [20:33<36:12,  9.46it/s]"
          ]
        },
        {
          "name": "stdout",
          "output_type": "stream",
          "text": [
            "Skipping UniRef50_A0A7I0ZTF4 due to ProteinAnalysis error: ''X'' is not a valid unambiguous letter for protein\n"
          ]
        },
        {
          "name": "stderr",
          "output_type": "stream",
          "text": [
            " 18%|█▊        | 4497/25000 [20:38<28:31, 11.98it/s]"
          ]
        },
        {
          "name": "stdout",
          "output_type": "stream",
          "text": [
            "Skipping UniRef50_A0A2D5Y8W9 due to ProteinAnalysis error: ''X'' is not a valid unambiguous letter for protein\n",
            "Skipping UniRef50_UPI00174D66BE due to ProteinAnalysis error: ''X'' is not a valid unambiguous letter for protein\n"
          ]
        },
        {
          "name": "stderr",
          "output_type": "stream",
          "text": [
            "\r 18%|█▊        | 4499/25000 [20:39<1:22:27,  4.14it/s]"
          ]
        },
        {
          "name": "stdout",
          "output_type": "stream",
          "text": [
            "Skipping UniRef50_A0A814WZ62 due to ProteinAnalysis error: ''X'' is not a valid unambiguous letter for protein\n"
          ]
        },
        {
          "name": "stderr",
          "output_type": "stream",
          "text": [
            " 18%|█▊        | 4526/25000 [20:46<2:46:36,  2.05it/s]"
          ]
        },
        {
          "name": "stdout",
          "output_type": "stream",
          "text": [
            "Skipping UniRef50_UPI0023501412 due to ProteinAnalysis error: ''X'' is not a valid unambiguous letter for protein\n"
          ]
        },
        {
          "name": "stderr",
          "output_type": "stream",
          "text": [
            " 18%|█▊        | 4538/25000 [20:47<41:18,  8.26it/s]"
          ]
        },
        {
          "name": "stdout",
          "output_type": "stream",
          "text": [
            "Skipping UniRef50_UPI001EE596B5 due to ProteinAnalysis error: ''X'' is not a valid unambiguous letter for protein\n"
          ]
        },
        {
          "name": "stderr",
          "output_type": "stream",
          "text": [
            " 18%|█▊        | 4588/25000 [20:55<1:09:41,  4.88it/s]"
          ]
        },
        {
          "name": "stdout",
          "output_type": "stream",
          "text": [
            "Skipping UniRef50_UPI00067DA091 due to ProteinAnalysis error: ''X'' is not a valid unambiguous letter for protein\n"
          ]
        },
        {
          "name": "stderr",
          "output_type": "stream",
          "text": [
            "\r 18%|█▊        | 4589/25000 [20:56<1:43:03,  3.30it/s]"
          ]
        },
        {
          "name": "stdout",
          "output_type": "stream",
          "text": [
            "Skipping UniRef50_UPI001AE4A6FE due to ProteinAnalysis error: ''X'' is not a valid unambiguous letter for protein\n"
          ]
        },
        {
          "name": "stderr",
          "output_type": "stream",
          "text": [
            " 18%|█▊        | 4606/25000 [20:58<25:19, 13.42it/s]"
          ]
        },
        {
          "name": "stdout",
          "output_type": "stream",
          "text": [
            "Skipping UniRef50_UPI000F676DC4 due to ProteinAnalysis error: ''X'' is not a valid unambiguous letter for protein\n"
          ]
        },
        {
          "name": "stderr",
          "output_type": "stream",
          "text": [
            " 19%|█▊        | 4649/25000 [21:05<59:17,  5.72it/s]  "
          ]
        },
        {
          "name": "stdout",
          "output_type": "stream",
          "text": [
            "Skipping UniRef50_A0A6P8QWY4 due to ProteinAnalysis error: ''X'' is not a valid unambiguous letter for protein\n"
          ]
        },
        {
          "name": "stderr",
          "output_type": "stream",
          "text": [
            " 19%|█▊        | 4656/25000 [21:06<40:20,  8.40it/s]"
          ]
        },
        {
          "name": "stdout",
          "output_type": "stream",
          "text": [
            "Skipping UniRef50_A0A2E6LH85 due to ProteinAnalysis error: ''X'' is not a valid unambiguous letter for protein\n"
          ]
        },
        {
          "name": "stderr",
          "output_type": "stream",
          "text": [
            "\r 19%|█▊        | 4658/25000 [21:06<35:55,  9.44it/s]"
          ]
        },
        {
          "name": "stdout",
          "output_type": "stream",
          "text": [
            "Skipping UniRef50_A0A2I0HSV6 due to ProteinAnalysis error: ''X'' is not a valid unambiguous letter for protein\n"
          ]
        },
        {
          "name": "stderr",
          "output_type": "stream",
          "text": [
            " 19%|█▊        | 4668/25000 [21:09<2:19:20,  2.43it/s]"
          ]
        },
        {
          "name": "stdout",
          "output_type": "stream",
          "text": [
            "Skipping UniRef50_UPI000B7D9673 due to ProteinAnalysis error: ''X'' is not a valid unambiguous letter for protein\n"
          ]
        },
        {
          "name": "stderr",
          "output_type": "stream",
          "text": [
            " 19%|█▉        | 4719/25000 [21:22<1:49:56,  3.07it/s]"
          ]
        },
        {
          "name": "stdout",
          "output_type": "stream",
          "text": [
            "Skipping UniRef50_A0A6P8H4W4 due to ProteinAnalysis error: ''X'' is not a valid unambiguous letter for protein\n"
          ]
        },
        {
          "name": "stderr",
          "output_type": "stream",
          "text": [
            " 19%|█▉        | 4729/25000 [21:22<37:31,  9.00it/s]"
          ]
        },
        {
          "name": "stdout",
          "output_type": "stream",
          "text": [
            "Skipping UniRef50_A0A0K0PDD1 due to ProteinAnalysis error: ''X'' is not a valid unambiguous letter for protein\n"
          ]
        },
        {
          "name": "stderr",
          "output_type": "stream",
          "text": [
            " 19%|█▉        | 4751/25000 [21:24<33:13, 10.16it/s]"
          ]
        },
        {
          "name": "stdout",
          "output_type": "stream",
          "text": [
            "Skipping UniRef50_UPI002443E628 due to ProteinAnalysis error: ''X'' is not a valid unambiguous letter for protein\n"
          ]
        },
        {
          "name": "stderr",
          "output_type": "stream",
          "text": [
            " 19%|█▉        | 4765/25000 [21:28<44:10,  7.63it/s]"
          ]
        },
        {
          "name": "stdout",
          "output_type": "stream",
          "text": [
            "Skipping UniRef50_A0A2A5AIY5 due to ProteinAnalysis error: ''X'' is not a valid unambiguous letter for protein\n"
          ]
        },
        {
          "name": "stderr",
          "output_type": "stream",
          "text": [
            " 19%|█▉        | 4773/25000 [21:29<32:18, 10.44it/s]"
          ]
        },
        {
          "name": "stdout",
          "output_type": "stream",
          "text": [
            "Skipping UniRef50_A0A6B7HGV7 due to ProteinAnalysis error: ''X'' is not a valid unambiguous letter for protein\n",
            "Skipping UniRef50_UPI000D72D31C due to ProteinAnalysis error: ''X'' is not a valid unambiguous letter for protein\n"
          ]
        },
        {
          "name": "stderr",
          "output_type": "stream",
          "text": [
            " 19%|█▉        | 4796/25000 [21:33<29:36, 11.38it/s]"
          ]
        },
        {
          "name": "stdout",
          "output_type": "stream",
          "text": [
            "Skipping UniRef50_A0A814BCZ8 due to ProteinAnalysis error: ''X'' is not a valid unambiguous letter for protein\n"
          ]
        },
        {
          "name": "stderr",
          "output_type": "stream",
          "text": [
            " 19%|█▉        | 4844/25000 [21:43<40:33,  8.28it/s]"
          ]
        },
        {
          "name": "stdout",
          "output_type": "stream",
          "text": [
            "Skipping UniRef50_A0A8B7WX62 due to ProteinAnalysis error: ''X'' is not a valid unambiguous letter for protein\n"
          ]
        },
        {
          "name": "stderr",
          "output_type": "stream",
          "text": [
            " 19%|█▉        | 4848/25000 [21:44<37:04,  9.06it/s]"
          ]
        },
        {
          "name": "stdout",
          "output_type": "stream",
          "text": [
            "Skipping UniRef50_UPI0004D04517 due to ProteinAnalysis error: ''X'' is not a valid unambiguous letter for protein\n"
          ]
        },
        {
          "name": "stderr",
          "output_type": "stream",
          "text": [
            "\r 19%|█▉        | 4849/25000 [21:44<42:20,  7.93it/s]"
          ]
        },
        {
          "name": "stdout",
          "output_type": "stream",
          "text": [
            "Skipping UniRef50_A0A9D2Z0P5 due to ProteinAnalysis error: ''X'' is not a valid unambiguous letter for protein\n"
          ]
        },
        {
          "name": "stderr",
          "output_type": "stream",
          "text": [
            " 19%|█▉        | 4860/25000 [21:47<44:01,  7.63it/s]"
          ]
        },
        {
          "name": "stdout",
          "output_type": "stream",
          "text": [
            "Skipping UniRef50_L5LN39 due to ProteinAnalysis error: ''X'' is not a valid unambiguous letter for protein\n"
          ]
        },
        {
          "name": "stderr",
          "output_type": "stream",
          "text": [
            " 19%|█▉        | 4866/25000 [21:47<31:20, 10.71it/s]"
          ]
        },
        {
          "name": "stdout",
          "output_type": "stream",
          "text": [
            "Skipping UniRef50_A0A2E4ZUD2 due to ProteinAnalysis error: ''X'' is not a valid unambiguous letter for protein\n",
            "Skipping UniRef50_A0A814HZ30 due to ProteinAnalysis error: ''X'' is not a valid unambiguous letter for protein\n"
          ]
        },
        {
          "name": "stderr",
          "output_type": "stream",
          "text": [
            " 19%|█▉        | 4872/25000 [21:48<35:11,  9.53it/s]"
          ]
        },
        {
          "name": "stdout",
          "output_type": "stream",
          "text": [
            "Skipping UniRef50_A0A8D0JTI7 due to ProteinAnalysis error: ''X'' is not a valid unambiguous letter for protein\n"
          ]
        },
        {
          "name": "stderr",
          "output_type": "stream",
          "text": [
            " 20%|█▉        | 4881/25000 [21:52<2:00:11,  2.79it/s]"
          ]
        },
        {
          "name": "stdout",
          "output_type": "stream",
          "text": [
            "Skipping UniRef50_UPI001425A330 due to ProteinAnalysis error: ''X'' is not a valid unambiguous letter for protein\n"
          ]
        },
        {
          "name": "stderr",
          "output_type": "stream",
          "text": [
            " 20%|█▉        | 4924/25000 [21:59<1:25:12,  3.93it/s]"
          ]
        },
        {
          "name": "stdout",
          "output_type": "stream",
          "text": [
            "Skipping UniRef50_A0A177Y6E0 due to ProteinAnalysis error: ''X'' is not a valid unambiguous letter for protein\n"
          ]
        },
        {
          "name": "stderr",
          "output_type": "stream",
          "text": [
            " 20%|█▉        | 4930/25000 [22:03<2:11:16,  2.55it/s]"
          ]
        },
        {
          "name": "stdout",
          "output_type": "stream",
          "text": [
            "Skipping UniRef50_UPI0023A90170 due to ProteinAnalysis error: ''X'' is not a valid unambiguous letter for protein\n"
          ]
        },
        {
          "name": "stderr",
          "output_type": "stream",
          "text": [
            " 20%|█▉        | 4953/25000 [22:07<1:33:55,  3.56it/s]"
          ]
        },
        {
          "name": "stdout",
          "output_type": "stream",
          "text": [
            "Skipping UniRef50_A0A8T0DTJ6 due to ProteinAnalysis error: ''X'' is not a valid unambiguous letter for protein\n"
          ]
        },
        {
          "name": "stderr",
          "output_type": "stream",
          "text": [
            " 20%|█▉        | 4975/25000 [22:11<1:17:09,  4.33it/s]"
          ]
        },
        {
          "name": "stdout",
          "output_type": "stream",
          "text": [
            "Skipping UniRef50_A0A4S2KPJ3 due to ProteinAnalysis error: ''X'' is not a valid unambiguous letter for protein\n"
          ]
        },
        {
          "name": "stderr",
          "output_type": "stream",
          "text": [
            " 20%|█▉        | 4987/25000 [22:12<30:23, 10.97it/s]"
          ]
        },
        {
          "name": "stdout",
          "output_type": "stream",
          "text": [
            "Skipping UniRef50_A0A1V2IN36 due to ProteinAnalysis error: ''X'' is not a valid unambiguous letter for protein\n"
          ]
        },
        {
          "name": "stderr",
          "output_type": "stream",
          "text": [
            " 20%|██        | 5012/25000 [22:18<35:21,  9.42it/s]"
          ]
        },
        {
          "name": "stdout",
          "output_type": "stream",
          "text": [
            "Skipping UniRef50_A0A817TX69 due to ProteinAnalysis error: ''X'' is not a valid unambiguous letter for protein\n"
          ]
        },
        {
          "name": "stderr",
          "output_type": "stream",
          "text": [
            " 20%|██        | 5029/25000 [22:22<43:12,  7.70it/s]"
          ]
        },
        {
          "name": "stdout",
          "output_type": "stream",
          "text": [
            "Skipping UniRef50_A0A8S1XJJ5 due to ProteinAnalysis error: ''X'' is not a valid unambiguous letter for protein\n"
          ]
        },
        {
          "name": "stderr",
          "output_type": "stream",
          "text": [
            " 20%|██        | 5039/25000 [22:23<33:37,  9.90it/s]"
          ]
        },
        {
          "name": "stdout",
          "output_type": "stream",
          "text": [
            "Skipping UniRef50_A0A812ZVG7 due to ProteinAnalysis error: ''X'' is not a valid unambiguous letter for protein\n"
          ]
        },
        {
          "name": "stderr",
          "output_type": "stream",
          "text": [
            "\r 20%|██        | 5041/25000 [22:23<58:02,  5.73it/s]"
          ]
        },
        {
          "name": "stdout",
          "output_type": "stream",
          "text": [
            "Skipping UniRef50_UPI001CE1EB51 due to ProteinAnalysis error: ''X'' is not a valid unambiguous letter for protein\n"
          ]
        },
        {
          "name": "stderr",
          "output_type": "stream",
          "text": [
            " 20%|██        | 5064/25000 [22:27<26:31, 12.53it/s]"
          ]
        },
        {
          "name": "stdout",
          "output_type": "stream",
          "text": [
            "Skipping UniRef50_A0A4S2JUD3 due to ProteinAnalysis error: ''X'' is not a valid unambiguous letter for protein\n"
          ]
        },
        {
          "name": "stderr",
          "output_type": "stream",
          "text": [
            " 20%|██        | 5079/25000 [22:31<1:36:55,  3.43it/s]"
          ]
        },
        {
          "name": "stdout",
          "output_type": "stream",
          "text": [
            "Skipping UniRef50_A0A1Z9AUD8 due to ProteinAnalysis error: ''X'' is not a valid unambiguous letter for protein\n"
          ]
        },
        {
          "name": "stderr",
          "output_type": "stream",
          "text": [
            " 20%|██        | 5116/25000 [22:37<27:50, 11.90it/s]"
          ]
        },
        {
          "name": "stdout",
          "output_type": "stream",
          "text": [
            "Skipping UniRef50_A0A814PWL9 due to ProteinAnalysis error: ''X'' is not a valid unambiguous letter for protein\n"
          ]
        },
        {
          "name": "stderr",
          "output_type": "stream",
          "text": [
            " 21%|██        | 5142/25000 [22:42<30:46, 10.75it/s]"
          ]
        },
        {
          "name": "stdout",
          "output_type": "stream",
          "text": [
            "Skipping UniRef50_A0A6P3Y6J6 due to ProteinAnalysis error: ''X'' is not a valid unambiguous letter for protein\n",
            "Skipping UniRef50_UPI000FFDAD25 due to ProteinAnalysis error: ''X'' is not a valid unambiguous letter for protein\n"
          ]
        },
        {
          "name": "stderr",
          "output_type": "stream",
          "text": [
            " 21%|██        | 5146/25000 [22:43<35:34,  9.30it/s]"
          ]
        },
        {
          "name": "stdout",
          "output_type": "stream",
          "text": [
            "Skipping UniRef50_UPI001E1C5245 due to ProteinAnalysis error: ''X'' is not a valid unambiguous letter for protein\n"
          ]
        },
        {
          "name": "stderr",
          "output_type": "stream",
          "text": [
            " 21%|██        | 5162/25000 [22:48<43:11,  7.65it/s]"
          ]
        },
        {
          "name": "stdout",
          "output_type": "stream",
          "text": [
            "Skipping UniRef50_UPI0024464A07 due to ProteinAnalysis error: ''X'' is not a valid unambiguous letter for protein\n",
            "Skipping UniRef50_UPI001C0908C1 due to ProteinAnalysis error: ''X'' is not a valid unambiguous letter for protein\n",
            "Skipping UniRef50_L9LCN4 due to ProteinAnalysis error: ''X'' is not a valid unambiguous letter for protein\n"
          ]
        },
        {
          "name": "stderr",
          "output_type": "stream",
          "text": [
            " 21%|██        | 5189/25000 [22:53<29:59, 11.01it/s]"
          ]
        },
        {
          "name": "stdout",
          "output_type": "stream",
          "text": [
            "Skipping UniRef50_A0A6P6DQU7 due to ProteinAnalysis error: ''X'' is not a valid unambiguous letter for protein\n"
          ]
        },
        {
          "name": "stderr",
          "output_type": "stream",
          "text": [
            " 21%|██        | 5219/25000 [22:57<29:10, 11.30it/s]"
          ]
        },
        {
          "name": "stdout",
          "output_type": "stream",
          "text": [
            "Skipping UniRef50_A0A6J2V6Z7 due to ProteinAnalysis error: ''X'' is not a valid unambiguous letter for protein\n"
          ]
        },
        {
          "name": "stderr",
          "output_type": "stream",
          "text": [
            " 21%|██        | 5225/25000 [22:58<33:30,  9.84it/s]"
          ]
        },
        {
          "name": "stdout",
          "output_type": "stream",
          "text": [
            "Skipping UniRef50_A0A6H5J981 due to ProteinAnalysis error: ''X'' is not a valid unambiguous letter for protein\n"
          ]
        },
        {
          "name": "stderr",
          "output_type": "stream",
          "text": [
            " 21%|██        | 5239/25000 [23:02<1:42:55,  3.20it/s]"
          ]
        },
        {
          "name": "stdout",
          "output_type": "stream",
          "text": [
            "Skipping UniRef50_C3XRB2 due to ProteinAnalysis error: ''X'' is not a valid unambiguous letter for protein\n"
          ]
        },
        {
          "name": "stderr",
          "output_type": "stream",
          "text": [
            " 21%|██        | 5282/25000 [23:09<1:47:46,  3.05it/s]"
          ]
        },
        {
          "name": "stdout",
          "output_type": "stream",
          "text": [
            "Skipping UniRef50_A0A815FI60 due to ProteinAnalysis error: ''X'' is not a valid unambiguous letter for protein\n"
          ]
        },
        {
          "name": "stderr",
          "output_type": "stream",
          "text": [
            " 21%|██        | 5295/25000 [23:13<45:58,  7.14it/s]"
          ]
        },
        {
          "name": "stdout",
          "output_type": "stream",
          "text": [
            "Skipping UniRef50_A0A9J7EP48 due to ProteinAnalysis error: ''X'' is not a valid unambiguous letter for protein\n"
          ]
        },
        {
          "name": "stderr",
          "output_type": "stream",
          "text": [
            " 21%|██▏       | 5329/25000 [23:20<2:40:14,  2.05it/s]"
          ]
        },
        {
          "name": "stdout",
          "output_type": "stream",
          "text": [
            "Skipping UniRef50_A0A2I4CRW1 due to ProteinAnalysis error: ''X'' is not a valid unambiguous letter for protein\n"
          ]
        },
        {
          "name": "stderr",
          "output_type": "stream",
          "text": [
            " 21%|██▏       | 5339/25000 [23:23<50:06,  6.54it/s]  "
          ]
        },
        {
          "name": "stdout",
          "output_type": "stream",
          "text": [
            "Skipping UniRef50_A0A2I0IZ70 due to ProteinAnalysis error: ''X'' is not a valid unambiguous letter for protein\n"
          ]
        },
        {
          "name": "stderr",
          "output_type": "stream",
          "text": [
            " 21%|██▏       | 5355/25000 [23:27<1:15:55,  4.31it/s]"
          ]
        },
        {
          "name": "stdout",
          "output_type": "stream",
          "text": [
            "Skipping UniRef50_A0A674KF94 due to ProteinAnalysis error: ''X'' is not a valid unambiguous letter for protein\n"
          ]
        },
        {
          "name": "stderr",
          "output_type": "stream",
          "text": [
            " 21%|██▏       | 5363/25000 [23:27<36:50,  8.88it/s]"
          ]
        },
        {
          "name": "stdout",
          "output_type": "stream",
          "text": [
            "Skipping UniRef50_A0A2I0J7E0 due to ProteinAnalysis error: ''X'' is not a valid unambiguous letter for protein\n"
          ]
        },
        {
          "name": "stderr",
          "output_type": "stream",
          "text": [
            " 22%|██▏       | 5379/25000 [23:33<1:23:40,  3.91it/s]"
          ]
        },
        {
          "name": "stdout",
          "output_type": "stream",
          "text": [
            "Skipping UniRef50_A0A913Y9B5 due to ProteinAnalysis error: ''X'' is not a valid unambiguous letter for protein\n"
          ]
        },
        {
          "name": "stderr",
          "output_type": "stream",
          "text": [
            " 22%|██▏       | 5454/25000 [23:48<35:10,  9.26it/s]"
          ]
        },
        {
          "name": "stdout",
          "output_type": "stream",
          "text": [
            "Skipping UniRef50_A0A9B0UBH8 due to ProteinAnalysis error: ''X'' is not a valid unambiguous letter for protein\n"
          ]
        },
        {
          "name": "stderr",
          "output_type": "stream",
          "text": [
            " 22%|██▏       | 5498/25000 [23:57<26:17, 12.36it/s]"
          ]
        },
        {
          "name": "stdout",
          "output_type": "stream",
          "text": [
            "Skipping UniRef50_Q6VT95 due to ProteinAnalysis error: ''X'' is not a valid unambiguous letter for protein\n",
            "Skipping UniRef50_A0A2E6WA18 due to ProteinAnalysis error: ''X'' is not a valid unambiguous letter for protein\n"
          ]
        },
        {
          "name": "stderr",
          "output_type": "stream",
          "text": [
            " 22%|██▏       | 5513/25000 [24:02<59:12,  5.48it/s]  "
          ]
        },
        {
          "name": "stdout",
          "output_type": "stream",
          "text": [
            "Skipping UniRef50_A0A0L0CHI6 due to ProteinAnalysis error: ''X'' is not a valid unambiguous letter for protein\n",
            "Skipping UniRef50_A0A1I8CUS4 due to ProteinAnalysis error: ''X'' is not a valid unambiguous letter for protein\n"
          ]
        },
        {
          "name": "stderr",
          "output_type": "stream",
          "text": [
            " 22%|██▏       | 5517/25000 [24:02<41:43,  7.78it/s]"
          ]
        },
        {
          "name": "stdout",
          "output_type": "stream",
          "text": [
            "Skipping UniRef50_A0A699GH69 due to ProteinAnalysis error: ''X'' is not a valid unambiguous letter for protein\n"
          ]
        },
        {
          "name": "stderr",
          "output_type": "stream",
          "text": [
            " 22%|██▏       | 5521/25000 [24:02<33:11,  9.78it/s]"
          ]
        },
        {
          "name": "stdout",
          "output_type": "stream",
          "text": [
            "Skipping UniRef50_UPI000811724A due to ProteinAnalysis error: ''X'' is not a valid unambiguous letter for protein\n"
          ]
        },
        {
          "name": "stderr",
          "output_type": "stream",
          "text": [
            " 22%|██▏       | 5530/25000 [24:05<1:28:59,  3.65it/s]"
          ]
        },
        {
          "name": "stdout",
          "output_type": "stream",
          "text": [
            "Skipping UniRef50_A0A4S2KQT3 due to ProteinAnalysis error: ''X'' is not a valid unambiguous letter for protein\n"
          ]
        },
        {
          "name": "stderr",
          "output_type": "stream",
          "text": [
            " 22%|██▏       | 5574/25000 [24:16<3:00:54,  1.79it/s]"
          ]
        },
        {
          "name": "stdout",
          "output_type": "stream",
          "text": [
            "Skipping UniRef50_A0A1Y5LM59 due to ProteinAnalysis error: ''X'' is not a valid unambiguous letter for protein\n"
          ]
        },
        {
          "name": "stderr",
          "output_type": "stream",
          "text": [
            " 23%|██▎       | 5627/25000 [24:27<35:42,  9.04it/s]"
          ]
        },
        {
          "name": "stdout",
          "output_type": "stream",
          "text": [
            "Skipping UniRef50_A0A914CIL8 due to ProteinAnalysis error: ''X'' is not a valid unambiguous letter for protein\n"
          ]
        },
        {
          "name": "stderr",
          "output_type": "stream",
          "text": [
            " 23%|██▎       | 5656/25000 [24:34<52:02,  6.19it/s]"
          ]
        },
        {
          "name": "stdout",
          "output_type": "stream",
          "text": [
            "Skipping UniRef50_A0A341BXP8 due to ProteinAnalysis error: ''X'' is not a valid unambiguous letter for protein\n"
          ]
        },
        {
          "name": "stderr",
          "output_type": "stream",
          "text": [
            " 23%|██▎       | 5682/25000 [24:42<2:21:11,  2.28it/s]"
          ]
        },
        {
          "name": "stdout",
          "output_type": "stream",
          "text": [
            "Skipping UniRef50_A0A4S2KA88 due to ProteinAnalysis error: ''X'' is not a valid unambiguous letter for protein\n"
          ]
        },
        {
          "name": "stderr",
          "output_type": "stream",
          "text": [
            " 23%|██▎       | 5696/25000 [24:44<1:17:39,  4.14it/s]"
          ]
        },
        {
          "name": "stdout",
          "output_type": "stream",
          "text": [
            "Skipping UniRef50_A0A6P8I2Z0 due to ProteinAnalysis error: ''X'' is not a valid unambiguous letter for protein\n"
          ]
        },
        {
          "name": "stderr",
          "output_type": "stream",
          "text": [
            " 23%|██▎       | 5721/25000 [24:53<2:11:00,  2.45it/s]"
          ]
        },
        {
          "name": "stdout",
          "output_type": "stream",
          "text": [
            "Skipping UniRef50_UPI002452E7C8 due to ProteinAnalysis error: ''X'' is not a valid unambiguous letter for protein\n"
          ]
        },
        {
          "name": "stderr",
          "output_type": "stream",
          "text": [
            " 23%|██▎       | 5733/25000 [24:54<1:03:29,  5.06it/s]"
          ]
        },
        {
          "name": "stdout",
          "output_type": "stream",
          "text": [
            "Skipping UniRef50_A0A2I0J829 due to ProteinAnalysis error: ''X'' is not a valid unambiguous letter for protein\n"
          ]
        },
        {
          "name": "stderr",
          "output_type": "stream",
          "text": [
            " 23%|██▎       | 5739/25000 [24:57<1:26:50,  3.70it/s]"
          ]
        },
        {
          "name": "stdout",
          "output_type": "stream",
          "text": [
            "Skipping UniRef50_UPI001786BF4C due to ProteinAnalysis error: ''X'' is not a valid unambiguous letter for protein\n"
          ]
        },
        {
          "name": "stderr",
          "output_type": "stream",
          "text": [
            " 23%|██▎       | 5791/25000 [25:10<1:44:33,  3.06it/s]"
          ]
        },
        {
          "name": "stdout",
          "output_type": "stream",
          "text": [
            "Skipping UniRef50_A0A7M5V3U3 due to ProteinAnalysis error: ''X'' is not a valid unambiguous letter for protein\n"
          ]
        },
        {
          "name": "stderr",
          "output_type": "stream",
          "text": [
            " 23%|██▎       | 5816/25000 [25:17<2:01:58,  2.62it/s]"
          ]
        },
        {
          "name": "stdout",
          "output_type": "stream",
          "text": [
            "Skipping UniRef50_A0A8C4PEP8 due to ProteinAnalysis error: ''X'' is not a valid unambiguous letter for protein\n"
          ]
        },
        {
          "name": "stderr",
          "output_type": "stream",
          "text": [
            " 23%|██▎       | 5837/25000 [25:22<54:23,  5.87it/s]  "
          ]
        },
        {
          "name": "stdout",
          "output_type": "stream",
          "text": [
            "Skipping UniRef50_A0A2K6G2G8 due to ProteinAnalysis error: ''X'' is not a valid unambiguous letter for protein\n"
          ]
        },
        {
          "name": "stderr",
          "output_type": "stream",
          "text": [
            " 23%|██▎       | 5856/25000 [25:24<34:53,  9.14it/s]"
          ]
        },
        {
          "name": "stdout",
          "output_type": "stream",
          "text": [
            "Skipping UniRef50_A0A8S1TEI5 due to ProteinAnalysis error: ''X'' is not a valid unambiguous letter for protein\n"
          ]
        },
        {
          "name": "stderr",
          "output_type": "stream",
          "text": [
            " 23%|██▎       | 5867/25000 [25:28<55:11,  5.78it/s]  "
          ]
        },
        {
          "name": "stdout",
          "output_type": "stream",
          "text": [
            "Skipping UniRef50_A0A171EBL6 due to ProteinAnalysis error: ''X'' is not a valid unambiguous letter for protein\n"
          ]
        },
        {
          "name": "stderr",
          "output_type": "stream",
          "text": [
            " 24%|██▎       | 5904/25000 [25:36<44:34,  7.14it/s]"
          ]
        },
        {
          "name": "stdout",
          "output_type": "stream",
          "text": [
            "Skipping UniRef50_A0A663MLB6 due to ProteinAnalysis error: ''X'' is not a valid unambiguous letter for protein\n"
          ]
        },
        {
          "name": "stderr",
          "output_type": "stream",
          "text": [
            " 24%|██▎       | 5912/25000 [25:37<35:03,  9.07it/s]"
          ]
        },
        {
          "name": "stdout",
          "output_type": "stream",
          "text": [
            "Skipping UniRef50_A0A016U4J2 due to ProteinAnalysis error: ''X'' is not a valid unambiguous letter for protein\n"
          ]
        },
        {
          "name": "stderr",
          "output_type": "stream",
          "text": [
            " 24%|██▎       | 5915/25000 [25:37<53:59,  5.89it/s]"
          ]
        },
        {
          "name": "stdout",
          "output_type": "stream",
          "text": [
            "Skipping UniRef50_Q4RE89 due to ProteinAnalysis error: ''X'' is not a valid unambiguous letter for protein\n"
          ]
        },
        {
          "name": "stderr",
          "output_type": "stream",
          "text": [
            " 24%|██▎       | 5926/25000 [25:42<1:08:58,  4.61it/s]"
          ]
        },
        {
          "name": "stdout",
          "output_type": "stream",
          "text": [
            "Skipping UniRef50_A0A357BMC7 due to ProteinAnalysis error: ''X'' is not a valid unambiguous letter for protein\n"
          ]
        },
        {
          "name": "stderr",
          "output_type": "stream",
          "text": [
            " 24%|██▍       | 5938/25000 [25:46<2:46:27,  1.91it/s]"
          ]
        },
        {
          "name": "stdout",
          "output_type": "stream",
          "text": [
            "Skipping UniRef50_A0A6P7ZPT3 due to ProteinAnalysis error: ''X'' is not a valid unambiguous letter for protein\n"
          ]
        },
        {
          "name": "stderr",
          "output_type": "stream",
          "text": [
            " 24%|██▍       | 5954/25000 [25:50<39:41,  8.00it/s]"
          ]
        },
        {
          "name": "stdout",
          "output_type": "stream",
          "text": [
            "Skipping UniRef50_A0A1S3F5A6 due to ProteinAnalysis error: ''X'' is not a valid unambiguous letter for protein\n"
          ]
        },
        {
          "name": "stderr",
          "output_type": "stream",
          "text": [
            " 24%|██▍       | 5963/25000 [25:51<36:25,  8.71it/s]"
          ]
        },
        {
          "name": "stdout",
          "output_type": "stream",
          "text": [
            "Skipping UniRef50_UPI0023066CCA due to ProteinAnalysis error: ''X'' is not a valid unambiguous letter for protein\n"
          ]
        },
        {
          "name": "stderr",
          "output_type": "stream",
          "text": [
            " 24%|██▍       | 5967/25000 [25:51<34:44,  9.13it/s]"
          ]
        },
        {
          "name": "stdout",
          "output_type": "stream",
          "text": [
            "Skipping UniRef50_A0A2E8GNA3 due to ProteinAnalysis error: ''X'' is not a valid unambiguous letter for protein\n"
          ]
        },
        {
          "name": "stderr",
          "output_type": "stream",
          "text": [
            " 24%|██▍       | 5973/25000 [25:53<1:07:44,  4.68it/s]"
          ]
        },
        {
          "name": "stdout",
          "output_type": "stream",
          "text": [
            "Skipping UniRef50_A0A345GNZ4 due to ProteinAnalysis error: ''X'' is not a valid unambiguous letter for protein\n"
          ]
        },
        {
          "name": "stderr",
          "output_type": "stream",
          "text": [
            " 24%|██▍       | 6006/25000 [26:02<2:38:12,  2.00it/s]"
          ]
        },
        {
          "name": "stdout",
          "output_type": "stream",
          "text": [
            "Skipping UniRef50_UPI000C6D93F7 due to ProteinAnalysis error: ''X'' is not a valid unambiguous letter for protein\n"
          ]
        },
        {
          "name": "stderr",
          "output_type": "stream",
          "text": [
            " 24%|██▍       | 6028/25000 [26:07<48:41,  6.49it/s]  "
          ]
        },
        {
          "name": "stdout",
          "output_type": "stream",
          "text": [
            "Skipping UniRef50_Q4S6Y5 due to ProteinAnalysis error: ''X'' is not a valid unambiguous letter for protein\n"
          ]
        },
        {
          "name": "stderr",
          "output_type": "stream",
          "text": [
            " 24%|██▍       | 6065/25000 [26:17<44:34,  7.08it/s]"
          ]
        },
        {
          "name": "stdout",
          "output_type": "stream",
          "text": [
            "Skipping UniRef50_A0A2E3EKV3 due to ProteinAnalysis error: ''X'' is not a valid unambiguous letter for protein\n"
          ]
        },
        {
          "name": "stderr",
          "output_type": "stream",
          "text": [
            " 24%|██▍       | 6074/25000 [26:18<38:38,  8.16it/s]"
          ]
        },
        {
          "name": "stdout",
          "output_type": "stream",
          "text": [
            "Skipping UniRef50_UPI001CC82850 due to ProteinAnalysis error: ''X'' is not a valid unambiguous letter for protein\n"
          ]
        },
        {
          "name": "stderr",
          "output_type": "stream",
          "text": [
            " 24%|██▍       | 6094/25000 [26:25<1:44:46,  3.01it/s]"
          ]
        },
        {
          "name": "stdout",
          "output_type": "stream",
          "text": [
            "Skipping UniRef50_A0A2Y9IFC6 due to ProteinAnalysis error: ''X'' is not a valid unambiguous letter for protein\n"
          ]
        },
        {
          "name": "stderr",
          "output_type": "stream",
          "text": [
            " 25%|██▍       | 6126/25000 [26:33<1:14:59,  4.19it/s]"
          ]
        },
        {
          "name": "stdout",
          "output_type": "stream",
          "text": [
            "Skipping UniRef50_A0A2Y9G3B7 due to ProteinAnalysis error: ''X'' is not a valid unambiguous letter for protein\n"
          ]
        },
        {
          "name": "stderr",
          "output_type": "stream",
          "text": [
            "\r 25%|██▍       | 6128/25000 [26:34<54:48,  5.74it/s]  "
          ]
        },
        {
          "name": "stdout",
          "output_type": "stream",
          "text": [
            "Skipping UniRef50_A0A2I4CIU3 due to ProteinAnalysis error: ''X'' is not a valid unambiguous letter for protein\n",
            "Skipping UniRef50_A0A3S4BTG6 due to ProteinAnalysis error: ''X'' is not a valid unambiguous letter for protein\n"
          ]
        },
        {
          "name": "stderr",
          "output_type": "stream",
          "text": [
            " 25%|██▍       | 6132/25000 [26:34<42:26,  7.41it/s]"
          ]
        },
        {
          "name": "stdout",
          "output_type": "stream",
          "text": [
            "Skipping UniRef50_A0A060W9W1 due to ProteinAnalysis error: ''X'' is not a valid unambiguous letter for protein\n"
          ]
        },
        {
          "name": "stderr",
          "output_type": "stream",
          "text": [
            " 25%|██▍       | 6177/25000 [26:44<2:18:43,  2.26it/s]"
          ]
        },
        {
          "name": "stdout",
          "output_type": "stream",
          "text": [
            "Skipping UniRef50_UPI000B50CCE8 due to ProteinAnalysis error: ''X'' is not a valid unambiguous letter for protein\n"
          ]
        },
        {
          "name": "stderr",
          "output_type": "stream",
          "text": [
            " 25%|██▍       | 6215/25000 [26:54<42:07,  7.43it/s]"
          ]
        },
        {
          "name": "stdout",
          "output_type": "stream",
          "text": [
            "Skipping UniRef50_UPI0004BD92A4 due to ProteinAnalysis error: ''X'' is not a valid unambiguous letter for protein\n"
          ]
        },
        {
          "name": "stderr",
          "output_type": "stream",
          "text": [
            " 25%|██▍       | 6230/25000 [26:59<50:49,  6.16it/s]"
          ]
        },
        {
          "name": "stdout",
          "output_type": "stream",
          "text": [
            "Skipping UniRef50_A0A5P9K4W0 due to ProteinAnalysis error: ''X'' is not a valid unambiguous letter for protein\n"
          ]
        },
        {
          "name": "stderr",
          "output_type": "stream",
          "text": [
            " 25%|██▍       | 6245/25000 [27:02<41:08,  7.60it/s]"
          ]
        },
        {
          "name": "stdout",
          "output_type": "stream",
          "text": [
            "Skipping UniRef50_O96554 due to ProteinAnalysis error: ''X'' is not a valid unambiguous letter for protein\n"
          ]
        },
        {
          "name": "stderr",
          "output_type": "stream",
          "text": [
            " 25%|██▌       | 6255/25000 [27:06<1:34:50,  3.29it/s]"
          ]
        },
        {
          "name": "stdout",
          "output_type": "stream",
          "text": [
            "Skipping UniRef50_A0A0K0G019 due to ProteinAnalysis error: ''X'' is not a valid unambiguous letter for protein\n"
          ]
        },
        {
          "name": "stderr",
          "output_type": "stream",
          "text": [
            " 25%|██▌       | 6298/25000 [27:18<1:08:25,  4.56it/s]"
          ]
        },
        {
          "name": "stdout",
          "output_type": "stream",
          "text": [
            "Skipping UniRef50_G3RAL6 due to ProteinAnalysis error: ''X'' is not a valid unambiguous letter for protein\n"
          ]
        },
        {
          "name": "stderr",
          "output_type": "stream",
          "text": [
            " 25%|██▌       | 6308/25000 [27:23<1:12:20,  4.31it/s]"
          ]
        },
        {
          "name": "stdout",
          "output_type": "stream",
          "text": [
            "Skipping UniRef50_A0A914V448 due to ProteinAnalysis error: ''X'' is not a valid unambiguous letter for protein\n"
          ]
        },
        {
          "name": "stderr",
          "output_type": "stream",
          "text": [
            " 25%|██▌       | 6368/25000 [27:44<1:32:33,  3.36it/s]"
          ]
        },
        {
          "name": "stdout",
          "output_type": "stream",
          "text": [
            "Skipping UniRef50_A0A8S1GMY3 due to ProteinAnalysis error: ''X'' is not a valid unambiguous letter for protein\n"
          ]
        },
        {
          "name": "stderr",
          "output_type": "stream",
          "text": [
            " 26%|██▌       | 6375/25000 [27:45<1:41:12,  3.07it/s]"
          ]
        },
        {
          "name": "stdout",
          "output_type": "stream",
          "text": [
            "Skipping UniRef50_UPI001C2EB754 due to ProteinAnalysis error: ''X'' is not a valid unambiguous letter for protein\n"
          ]
        },
        {
          "name": "stderr",
          "output_type": "stream",
          "text": [
            " 26%|██▌       | 6392/25000 [27:51<2:59:21,  1.73it/s]"
          ]
        },
        {
          "name": "stdout",
          "output_type": "stream",
          "text": [
            "Skipping UniRef50_UPI00073FBBB4 due to ProteinAnalysis error: ''X'' is not a valid unambiguous letter for protein\n"
          ]
        },
        {
          "name": "stderr",
          "output_type": "stream",
          "text": [
            " 26%|██▌       | 6426/25000 [28:03<1:10:39,  4.38it/s]"
          ]
        },
        {
          "name": "stdout",
          "output_type": "stream",
          "text": [
            "Skipping UniRef50_A0A913XZ57 due to ProteinAnalysis error: ''X'' is not a valid unambiguous letter for protein\n"
          ]
        },
        {
          "name": "stderr",
          "output_type": "stream",
          "text": [
            " 26%|██▌       | 6462/25000 [28:18<5:33:34,  1.08s/it]"
          ]
        },
        {
          "name": "stdout",
          "output_type": "stream",
          "text": [
            "Skipping UniRef50_A0A0P4X051 due to ProteinAnalysis error: ''X'' is not a valid unambiguous letter for protein\n"
          ]
        },
        {
          "name": "stderr",
          "output_type": "stream",
          "text": [
            " 26%|██▌       | 6470/25000 [28:19<1:13:29,  4.20it/s]"
          ]
        },
        {
          "name": "stdout",
          "output_type": "stream",
          "text": [
            "Skipping UniRef50_UPI000D6262EE due to ProteinAnalysis error: ''X'' is not a valid unambiguous letter for protein\n"
          ]
        },
        {
          "name": "stderr",
          "output_type": "stream",
          "text": [
            " 26%|██▌       | 6481/25000 [28:22<41:03,  7.52it/s]"
          ]
        },
        {
          "name": "stdout",
          "output_type": "stream",
          "text": [
            "Skipping UniRef50_UPI0021E296F6 due to ProteinAnalysis error: ''X'' is not a valid unambiguous letter for protein\n"
          ]
        },
        {
          "name": "stderr",
          "output_type": "stream",
          "text": [
            "\r 26%|██▌       | 6483/25000 [28:22<37:58,  8.13it/s]"
          ]
        },
        {
          "name": "stdout",
          "output_type": "stream",
          "text": [
            "Skipping UniRef50_A0A011PZ21 due to ProteinAnalysis error: ''X'' is not a valid unambiguous letter for protein\n"
          ]
        },
        {
          "name": "stderr",
          "output_type": "stream",
          "text": [
            " 26%|██▌       | 6504/25000 [28:32<1:50:46,  2.78it/s]"
          ]
        },
        {
          "name": "stdout",
          "output_type": "stream",
          "text": [
            "Skipping UniRef50_A0A2E4WQ50 due to ProteinAnalysis error: ''X'' is not a valid unambiguous letter for protein\n"
          ]
        },
        {
          "name": "stderr",
          "output_type": "stream",
          "text": [
            " 26%|██▌       | 6517/25000 [28:36<1:57:30,  2.62it/s]"
          ]
        },
        {
          "name": "stdout",
          "output_type": "stream",
          "text": [
            "Skipping UniRef50_UPI0018A766D5 due to ProteinAnalysis error: ''X'' is not a valid unambiguous letter for protein\n"
          ]
        },
        {
          "name": "stderr",
          "output_type": "stream",
          "text": [
            " 26%|██▌       | 6525/25000 [28:37<50:04,  6.15it/s]"
          ]
        },
        {
          "name": "stdout",
          "output_type": "stream",
          "text": [
            "Skipping UniRef50_UPI0011765B6A due to ProteinAnalysis error: ''X'' is not a valid unambiguous letter for protein\n"
          ]
        },
        {
          "name": "stderr",
          "output_type": "stream",
          "text": [
            " 26%|██▌       | 6556/25000 [28:50<2:26:29,  2.10it/s]"
          ]
        }
      ],
      "source": [
        "# Output directory for token representations\n",
        "output_dir = \"data/\"\n",
        "os.makedirs(output_dir, exist_ok=True)\n",
        "os.makedirs(\"data/token_representations\", exist_ok=True)\n",
        "\n",
        "\n",
        "reps_data = []\n",
        "master_data = []\n",
        "\n",
        "for entry in tqdm(dataset):\n",
        "    # Extract UniRef name (e.g. UniRef50_A0A1H6RCR4)\n",
        "    name = entry[\"ids\"].split()[0]\n",
        "\n",
        "    # Flatten multi-line FASTA to single string sequence\n",
        "    lines = entry[\"text\"].splitlines()\n",
        "    seq = \"\".join(line.strip() for line in lines if not line.startswith(\">\"))\n",
        "\n",
        "    if len(seq) == 0:\n",
        "        continue\n",
        "\n",
        "    # Tokenize and run model\n",
        "    inputs = tokenizer(seq, return_tensors=\"pt\", truncation=True, max_length=1022)\n",
        "    inputs = {k: v.cuda() for k, v in inputs.items()}\n",
        "\n",
        "    with torch.no_grad():\n",
        "        outputs = model(**inputs)\n",
        "\n",
        "    # Extract representation, removing [CLS]\n",
        "    last_hidden = outputs.last_hidden_state[0]\n",
        "    token_reps = last_hidden[1:len(seq)+1].cpu()\n",
        "\n",
        "    # Save as data/token_representations/UniRef50_XXXX.pt\n",
        "    pt_filename = f\"{name}.pt\"\n",
        "    pt_path = os.path.join(\"data/token_representations\", pt_filename)\n",
        "    torch.save(token_reps, pt_path)\n",
        "\n",
        "    # Save relative path\n",
        "    rel_path = os.path.join(\"data/token_representations\", pt_filename)\n",
        "    reps_data.append([name, seq, rel_path])\n",
        "\n",
        "    try:\n",
        "        analysis = ProteinAnalysis(seq)\n",
        "        master_data.append([\n",
        "            name, seq, rel_path, name, \"\", len(seq),\n",
        "            token_reps.shape[1], analysis.molecular_weight(), analysis.aromaticity(),\n",
        "            analysis.instability_index(), analysis.flexibility(),\n",
        "            analysis.gravy(), analysis.isoelectric_point(), analysis.charge_at_pH(7.0)\n",
        "        ])\n",
        "    except Exception as e:\n",
        "        print(f\"Skipping {name} due to ProteinAnalysis error: {e}\")\n",
        "        continue\n",
        "\n",
        "# Save CSVs\n",
        "pd.DataFrame(reps_data, columns=[\"Name\", \"Sequence\", \"Token Representations\"]).to_csv(\"data/reps_paths.csv\", index=False)\n",
        "pd.DataFrame(master_data, columns=[\n",
        "    \"Name\", \"Sequence\", \"Token Representations\", \"ID\", \"Description\", \"Length\",\n",
        "    \"Num_Features\", \"Molecular Weight\", \"Aromaticity\", \"Instability Index\",\n",
        "    \"Flexibility\", \"GRAVY\", \"Isoelectric Point\", \"Charge at pH:7.0\"\n",
        "]).to_csv(\"data/master_tokens_dataframe.csv\", index=False)\n"
      ]
    },
    {
      "cell_type": "code",
      "execution_count": null,
      "metadata": {
        "colab": {
          "base_uri": "https://localhost:8080/"
        },
        "id": "vCIy3L8dtBWI",
        "outputId": "500eeef9-599e-4517-beef-df142f87c388"
      },
      "outputs": [
        {
          "name": "stdout",
          "output_type": "stream",
          "text": [
            "dict_keys(['ids', 'text'])\n"
          ]
        }
      ],
      "source": [
        "print(dataset[0].keys())\n"
      ]
    },
    {
      "cell_type": "code",
      "execution_count": null,
      "metadata": {
        "colab": {
          "base_uri": "https://localhost:8080/"
        },
        "id": "Z5M_7bALI8ft",
        "outputId": "5d9ebaab-0b16-469e-e035-86459bb4ce7e"
      },
      "outputs": [
        {
          "name": "stdout",
          "output_type": "stream",
          "text": [
            "\u001b[1;30;43mStreaming output truncated to the last 5000 lines.\u001b[0m\n",
            "  adding: data/token_representations/UniRef50_A0A369SCI2.pt (deflated 7%)\n",
            "  adding: data/token_representations/UniRef50_H3D3Z4.pt (deflated 7%)\n",
            "  adding: data/token_representations/UniRef50_UPI0022B6AE3B.pt (deflated 7%)\n",
            "  adding: data/token_representations/UniRef50_A0A9Q9XUU9.pt (deflated 7%)\n",
            "  adding: data/token_representations/UniRef50_A0A977KQ20.pt (deflated 7%)\n",
            "  adding: data/token_representations/UniRef50_B4N0D6.pt (deflated 7%)\n",
            "  adding: data/token_representations/UniRef50_U2HBY5.pt (deflated 7%)\n",
            "  adding: data/token_representations/UniRef50_UPI0025FFCD96.pt (deflated 7%)\n",
            "  adding: data/token_representations/UniRef50_A0A2U1U5Y8.pt (deflated 8%)\n",
            "  adding: data/token_representations/UniRef50_K8FEQ1.pt (deflated 7%)\n",
            "  adding: data/token_representations/UniRef50_A0A0G4HRG7.pt (deflated 7%)\n",
            "  adding: data/token_representations/UniRef50_UPI0023B7D512.pt (deflated 7%)\n",
            "  adding: data/token_representations/UniRef50_UPI00187CD64B.pt (deflated 7%)\n",
            "  adding: data/token_representations/UniRef50_UPI001C203C5D.pt (deflated 7%)\n",
            "  adding: data/token_representations/UniRef50_A0A7X9J8I5.pt (deflated 7%)\n",
            "  adding: data/token_representations/UniRef50_UPI00131B156C.pt (deflated 7%)\n",
            "  adding: data/token_representations/UniRef50_UPI00234AF5C0.pt (deflated 7%)\n",
            "  adding: data/token_representations/UniRef50_UPI0015A9A6A8.pt (deflated 7%)\n",
            "  adding: data/token_representations/UniRef50_UPI001E527062.pt (deflated 7%)\n",
            "  adding: data/token_representations/UniRef50_A0A1F4K9M8.pt (deflated 7%)\n",
            "  adding: data/token_representations/UniRef50_J2GHZ9.pt (deflated 7%)\n",
            "  adding: data/token_representations/UniRef50_A0A2S3R7M0.pt (deflated 7%)\n",
            "  adding: data/token_representations/UniRef50_UPI0022B35139.pt (deflated 7%)\n",
            "  adding: data/token_representations/UniRef50_A0A1E5XME5.pt (deflated 7%)\n",
            "  adding: data/token_representations/UniRef50_F4PWH7.pt (deflated 7%)\n",
            "  adding: data/token_representations/UniRef50_UPI001E654F53.pt (deflated 7%)\n",
            "  adding: data/token_representations/UniRef50_UPI002472E8E4.pt (deflated 7%)\n",
            "  adding: data/token_representations/UniRef50_A0A7W7PZT6.pt (deflated 7%)\n",
            "  adding: data/token_representations/UniRef50_UPI00146FB18A.pt (deflated 7%)\n",
            "  adding: data/token_representations/UniRef50_UPI0024E1580B.pt (deflated 7%)\n",
            "  adding: data/token_representations/UniRef50_UPI00112AD6E7.pt (deflated 7%)\n",
            "  adding: data/token_representations/UniRef50_X2KS74.pt (deflated 7%)\n",
            "  adding: data/token_representations/UniRef50_A3MU76.pt (deflated 7%)\n",
            "  adding: data/token_representations/UniRef50_UPI0004BE9476.pt (deflated 7%)\n",
            "  adding: data/token_representations/UniRef50_A0A183SGM4.pt (deflated 7%)\n",
            "  adding: data/token_representations/UniRef50_A0A1I8JFZ9.pt (deflated 7%)\n",
            "  adding: data/token_representations/UniRef50_A4HFH5.pt (deflated 7%)\n",
            "  adding: data/token_representations/UniRef50_A0A914EMB5.pt (deflated 7%)\n",
            "  adding: data/token_representations/UniRef50_UPI002113EA48.pt (deflated 7%)\n",
            "  adding: data/token_representations/UniRef50_A0A8P4KK15.pt (deflated 7%)\n",
            "  adding: data/token_representations/UniRef50_A0A1J1HHX2.pt (deflated 7%)\n",
            "  adding: data/token_representations/UniRef50_A0RW12.pt (deflated 7%)\n",
            "  adding: data/token_representations/UniRef50_UPI001677EAA8.pt (deflated 7%)\n",
            "  adding: data/token_representations/UniRef50_A0A5A8C995.pt (deflated 7%)\n",
            "  adding: data/token_representations/UniRef50_A0A6C1CC39.pt (deflated 7%)\n",
            "  adding: data/token_representations/UniRef50_A0A9J7LBX9.pt (deflated 7%)\n",
            "  adding: data/token_representations/UniRef50_A0A853MEQ4.pt (deflated 7%)\n",
            "  adding: data/token_representations/UniRef50_A0A959N069.pt (deflated 7%)\n",
            "  adding: data/token_representations/UniRef50_UPI0023F953F2.pt (deflated 7%)\n",
            "  adding: data/token_representations/UniRef50_A0A8B7P7A0.pt (deflated 7%)\n",
            "  adding: data/token_representations/UniRef50_UPI002258F4F7.pt (deflated 7%)\n",
            "  adding: data/token_representations/UniRef50_A0A963IH70.pt (deflated 7%)\n",
            "  adding: data/token_representations/UniRef50_A0A848LK69.pt (deflated 7%)\n",
            "  adding: data/token_representations/UniRef50_A0A935X9X9.pt (deflated 7%)\n",
            "  adding: data/token_representations/UniRef50_A0A3N4SLT3.pt (deflated 7%)\n",
            "  adding: data/token_representations/UniRef50_A0A3N0XG95.pt (deflated 7%)\n",
            "  adding: data/token_representations/UniRef50_A0A9P0CGX5.pt (deflated 7%)\n",
            "  adding: data/token_representations/UniRef50_A0A9J7LUX6.pt (deflated 7%)\n",
            "  adding: data/token_representations/UniRef50_UPI001CF9D52D.pt (deflated 7%)\n",
            "  adding: data/token_representations/UniRef50_A0A2E0HNP1.pt (deflated 7%)\n",
            "  adding: data/token_representations/UniRef50_A0A453YTY9.pt (deflated 7%)\n",
            "  adding: data/token_representations/UniRef50_A0A0N9X5I3.pt (deflated 7%)\n",
            "  adding: data/token_representations/UniRef50_UPI001E671A77.pt (deflated 7%)\n",
            "  adding: data/token_representations/UniRef50_A0A2H0QNM0.pt (deflated 7%)\n",
            "  adding: data/token_representations/UniRef50_A0A7G8GVY4.pt (deflated 7%)\n",
            "  adding: data/token_representations/UniRef50_A0A660LI45.pt (deflated 7%)\n",
            "  adding: data/token_representations/UniRef50_A0A2N3V8A4.pt (deflated 7%)\n",
            "  adding: data/token_representations/UniRef50_UPI002622A0F3.pt (deflated 7%)\n",
            "  adding: data/token_representations/UniRef50_A0A6F8XKT5.pt (deflated 7%)\n",
            "  adding: data/token_representations/UniRef50_A0A384XSP2.pt (deflated 7%)\n",
            "  adding: data/token_representations/UniRef50_UPI002572AC6F.pt (deflated 7%)\n",
            "  adding: data/token_representations/UniRef50_A0A9Q3STN8.pt (deflated 7%)\n",
            "  adding: data/token_representations/UniRef50_UPI000379A8C3.pt (deflated 7%)\n",
            "  adding: data/token_representations/UniRef50_A0A1U8IPP9.pt (deflated 7%)\n",
            "  adding: data/token_representations/UniRef50_UPI001EE26FF3.pt (deflated 7%)\n",
            "  adding: data/token_representations/UniRef50_UPI00227834C3.pt (deflated 7%)\n",
            "  adding: data/token_representations/UniRef50_A0A202DQE7.pt (deflated 7%)\n",
            "  adding: data/token_representations/UniRef50_UPI001C4AAAC3.pt (deflated 7%)\n",
            "  adding: data/token_representations/UniRef50_UPI000948AB58.pt (deflated 7%)\n",
            "  adding: data/token_representations/UniRef50_UPI001D16DDB4.pt (deflated 7%)\n",
            "  adding: data/token_representations/UniRef50_A0A2K3D8G7.pt (deflated 7%)\n",
            "  adding: data/token_representations/UniRef50_A0A1K0GG54.pt (deflated 7%)\n",
            "  adding: data/token_representations/UniRef50_A0A3N7CXZ9.pt (deflated 7%)\n",
            "  adding: data/token_representations/UniRef50_H3A0V8.pt (deflated 7%)\n",
            "  adding: data/token_representations/UniRef50_Q4X212.pt (deflated 7%)\n",
            "  adding: data/token_representations/UniRef50_UPI00214E8B7B.pt (deflated 7%)\n",
            "  adding: data/token_representations/UniRef50_A0A2I4CIU3.pt (deflated 7%)\n",
            "  adding: data/token_representations/UniRef50_UPI001C2CD9E0.pt (deflated 7%)\n",
            "  adding: data/token_representations/UniRef50_UPI002674D0BC.pt (deflated 7%)\n",
            "  adding: data/token_representations/UniRef50_A0A177SEQ1.pt (deflated 7%)\n",
            "  adding: data/token_representations/UniRef50_A0A835TIU6.pt (deflated 7%)\n",
            "  adding: data/token_representations/UniRef50_UPI001651C67A.pt (deflated 7%)\n",
            "  adding: data/token_representations/UniRef50_G3NX39.pt (deflated 8%)\n",
            "  adding: data/token_representations/UniRef50_A0A4R7W5M4.pt (deflated 7%)\n",
            "  adding: data/token_representations/UniRef50_A0A8J6E333.pt (deflated 7%)\n",
            "  adding: data/token_representations/UniRef50_A0A256C0C5.pt (deflated 7%)\n",
            "  adding: data/token_representations/UniRef50_UPI0011B79BC5.pt (deflated 7%)\n",
            "  adding: data/token_representations/UniRef50_A0A1F9VLQ3.pt (deflated 7%)\n",
            "  adding: data/token_representations/UniRef50_A0A1E4GAM6.pt (deflated 7%)\n",
            "  adding: data/token_representations/UniRef50_UPI00234EF97A.pt (deflated 7%)\n",
            "  adding: data/token_representations/UniRef50_A0A6P3Y4B0.pt (deflated 7%)\n",
            "  adding: data/token_representations/UniRef50_A0A7K3KM01.pt (deflated 7%)\n",
            "  adding: data/token_representations/UniRef50_UPI002608442C.pt (deflated 7%)\n",
            "  adding: data/token_representations/UniRef50_A0A1J4MNX4.pt (deflated 7%)\n",
            "  adding: data/token_representations/UniRef50_A0A401MXP7.pt (deflated 7%)\n",
            "  adding: data/token_representations/UniRef50_A0A0S7Z2A6.pt (deflated 7%)\n",
            "  adding: data/token_representations/UniRef50_UPI001ED82107.pt (deflated 7%)\n",
            "  adding: data/token_representations/UniRef50_Q80Z19.pt (deflated 7%)\n",
            "  adding: data/token_representations/UniRef50_A0A9E8KJB0.pt (deflated 7%)\n",
            "  adding: data/token_representations/UniRef50_A0A644URJ2.pt (deflated 7%)\n",
            "  adding: data/token_representations/UniRef50_A0A968W1C8.pt (deflated 7%)\n",
            "  adding: data/token_representations/UniRef50_H2YFD3.pt (deflated 7%)\n",
            "  adding: data/token_representations/UniRef50_A0A2T0V7V9.pt (deflated 7%)\n",
            "  adding: data/token_representations/UniRef50_UPI0007B327EF.pt (deflated 7%)\n",
            "  adding: data/token_representations/UniRef50_A0A7C4L7L3.pt (deflated 7%)\n",
            "  adding: data/token_representations/UniRef50_A0A5C9F199.pt (deflated 7%)\n",
            "  adding: data/token_representations/UniRef50_UPI0023B29E8E.pt (deflated 7%)\n",
            "  adding: data/token_representations/UniRef50_A0A8I6SSF8.pt (deflated 7%)\n",
            "  adding: data/token_representations/UniRef50_A0A931IIG4.pt (deflated 7%)\n",
            "  adding: data/token_representations/UniRef50_A0A8B9LD87.pt (deflated 7%)\n",
            "  adding: data/token_representations/UniRef50_A0A5B9PC82.pt (deflated 7%)\n",
            "  adding: data/token_representations/UniRef50_A0A4Z1SY71.pt (deflated 7%)\n",
            "  adding: data/token_representations/UniRef50_A0A034VJ33.pt (deflated 7%)\n",
            "  adding: data/token_representations/UniRef50_A0A9P5HEZ9.pt (deflated 7%)\n",
            "  adding: data/token_representations/UniRef50_A0A3M7L4U4.pt (deflated 7%)\n",
            "  adding: data/token_representations/UniRef50_A0A175YMS7.pt (deflated 7%)\n",
            "  adding: data/token_representations/UniRef50_A0A401U4H8.pt (deflated 7%)\n",
            "  adding: data/token_representations/UniRef50_UPI0011E60039.pt (deflated 7%)\n",
            "  adding: data/token_representations/UniRef50_A0A1Q3HH56.pt (deflated 7%)\n",
            "  adding: data/token_representations/UniRef50_UPI0022DF1F11.pt (deflated 7%)\n",
            "  adding: data/token_representations/UniRef50_UPI0023F8DEE1.pt (deflated 7%)\n",
            "  adding: data/token_representations/UniRef50_UPI001E50F1FD.pt (deflated 7%)\n",
            "  adding: data/token_representations/UniRef50_UPI001A96E690.pt (deflated 7%)\n",
            "  adding: data/token_representations/UniRef50_A0A8T0BMP3.pt (deflated 7%)\n",
            "  adding: data/token_representations/UniRef50_A0A8X6WJZ9.pt (deflated 7%)\n",
            "  adding: data/token_representations/UniRef50_UPI00200D304E.pt (deflated 7%)\n",
            "  adding: data/token_representations/UniRef50_A0A5B9PBH9.pt (deflated 7%)\n",
            "  adding: data/token_representations/UniRef50_UPI0003F07520.pt (deflated 7%)\n",
            "  adding: data/token_representations/UniRef50_A0A0K1JVM3.pt (deflated 7%)\n",
            "  adding: data/token_representations/UniRef50_A0A1X2A6B9.pt (deflated 7%)\n",
            "  adding: data/token_representations/UniRef50_A0A8S1P232.pt (deflated 7%)\n",
            "  adding: data/token_representations/UniRef50_UPI00214ECC7E.pt (deflated 7%)\n",
            "  adding: data/token_representations/UniRef50_S4Y3N9.pt (deflated 7%)\n",
            "  adding: data/token_representations/UniRef50_UPI001F4FFF3B.pt (deflated 7%)\n",
            "  adding: data/token_representations/UniRef50_M4Z335.pt (deflated 7%)\n",
            "  adding: data/token_representations/UniRef50_A0A8R2R1S6.pt (deflated 7%)\n",
            "  adding: data/token_representations/UniRef50_A0A973VXC8.pt (deflated 7%)\n",
            "  adding: data/token_representations/UniRef50_UPI0022E24505.pt (deflated 7%)\n",
            "  adding: data/token_representations/UniRef50_A0A1G1KV48.pt (deflated 7%)\n",
            "  adding: data/token_representations/UniRef50_UPI0024C47D27.pt (deflated 7%)\n",
            "  adding: data/token_representations/UniRef50_A0A139IVU9.pt (deflated 7%)\n",
            "  adding: data/token_representations/UniRef50_UPI0025FA1919.pt (deflated 7%)\n",
            "  adding: data/token_representations/UniRef50_A0A1I8NZ35.pt (deflated 7%)\n",
            "  adding: data/token_representations/UniRef50_A0A6F9DWZ4.pt (deflated 7%)\n",
            "  adding: data/token_representations/UniRef50_A0A139HF88.pt (deflated 7%)\n",
            "  adding: data/token_representations/UniRef50_A0A4Q7JLR3.pt (deflated 7%)\n",
            "  adding: data/token_representations/UniRef50_UPI001E47E76F.pt (deflated 7%)\n",
            "  adding: data/token_representations/UniRef50_F2TWP4.pt (deflated 7%)\n",
            "  adding: data/token_representations/UniRef50_A0A8D0BHR4.pt (deflated 7%)\n",
            "  adding: data/token_representations/UniRef50_A0A9W8B941.pt (deflated 7%)\n",
            "  adding: data/token_representations/UniRef50_A0A2R5G9X8.pt (deflated 7%)\n",
            "  adding: data/token_representations/UniRef50_UPI0025ACFA0A.pt (deflated 7%)\n",
            "  adding: data/token_representations/UniRef50_A0A7I8B5P9.pt (deflated 7%)\n",
            "  adding: data/token_representations/UniRef50_A0A2M8Y3R8.pt (deflated 7%)\n",
            "  adding: data/token_representations/UniRef50_A0A6V8N839.pt (deflated 7%)\n",
            "  adding: data/token_representations/UniRef50_UPI002029B605.pt (deflated 7%)\n",
            "  adding: data/token_representations/UniRef50_A0A8J3NBY6.pt (deflated 7%)\n",
            "  adding: data/token_representations/UniRef50_A0A6G1QAD0.pt (deflated 7%)\n",
            "  adding: data/token_representations/UniRef50_A0A7J7ZPJ2.pt (deflated 7%)\n",
            "  adding: data/token_representations/UniRef50_A0A5K1I6I0.pt (deflated 7%)\n",
            "  adding: data/token_representations/UniRef50_A0A221P8F6.pt (deflated 7%)\n",
            "  adding: data/token_representations/UniRef50_UPI0024855724.pt (deflated 7%)\n",
            "  adding: data/token_representations/UniRef50_UPI002416E065.pt (deflated 7%)\n",
            "  adding: data/token_representations/UniRef50_A0A7W7VZI6.pt (deflated 7%)\n",
            "  adding: data/token_representations/UniRef50_UPI00235ADBA6.pt (deflated 7%)\n",
            "  adding: data/token_representations/UniRef50_E9AHU1.pt (deflated 7%)\n",
            "  adding: data/token_representations/UniRef50_A0A939FUR3.pt (deflated 7%)\n",
            "  adding: data/token_representations/UniRef50_A0A6P8QWY4.pt (deflated 7%)\n",
            "  adding: data/token_representations/UniRef50_T0SI86.pt (deflated 7%)\n",
            "  adding: data/token_representations/UniRef50_A0A913XUL0.pt (deflated 7%)\n",
            "  adding: data/token_representations/UniRef50_UPI0021C86AC4.pt (deflated 7%)\n",
            "  adding: data/token_representations/UniRef50_A0A9P6IHD6.pt (deflated 7%)\n",
            "  adding: data/token_representations/UniRef50_UPI002458770C.pt (deflated 7%)\n",
            "  adding: data/token_representations/UniRef50_A0A8C7UCZ2.pt (deflated 7%)\n",
            "  adding: data/token_representations/UniRef50_A0A8B3S2M1.pt (deflated 7%)\n",
            "  adding: data/token_representations/UniRef50_A0A0F3NMD8.pt (deflated 7%)\n",
            "  adding: data/token_representations/UniRef50_A0A8J2N773.pt (deflated 7%)\n",
            "  adding: data/token_representations/UniRef50_A0A2P6MQY7.pt (deflated 7%)\n",
            "  adding: data/token_representations/UniRef50_A0A1Q9DR79.pt (deflated 7%)\n",
            "  adding: data/token_representations/UniRef50_UPI0018F2FEA9.pt (deflated 7%)\n",
            "  adding: data/token_representations/UniRef50_A0A8H4TUF2.pt (deflated 7%)\n",
            "  adding: data/token_representations/UniRef50_A0A449B8K4.pt (deflated 7%)\n",
            "  adding: data/token_representations/UniRef50_A9GJ30.pt (deflated 7%)\n",
            "  adding: data/token_representations/UniRef50_A0A2D5S957.pt (deflated 7%)\n",
            "  adding: data/token_representations/UniRef50_UPI001FE80A01.pt (deflated 7%)\n",
            "  adding: data/token_representations/UniRef50_A0A2P9DJ49.pt (deflated 7%)\n",
            "  adding: data/token_representations/UniRef50_UPI00241570EF.pt (deflated 7%)\n",
            "  adding: data/token_representations/UniRef50_A0A914I6W1.pt (deflated 7%)\n",
            "  adding: data/token_representations/UniRef50_A0A212FA77.pt (deflated 7%)\n",
            "  adding: data/token_representations/UniRef50_A0A428ZNG6.pt (deflated 7%)\n",
            "  adding: data/token_representations/UniRef50_A0A183MF64.pt (deflated 7%)\n",
            "  adding: data/token_representations/UniRef50_A0A3D9DFV9.pt (deflated 7%)\n",
            "  adding: data/token_representations/UniRef50_A0A3S8R8L1.pt (deflated 7%)\n",
            "  adding: data/token_representations/UniRef50_A0A6I9KZM0.pt (deflated 7%)\n",
            "  adding: data/token_representations/UniRef50_A0A370TT45.pt (deflated 7%)\n",
            "  adding: data/token_representations/UniRef50_D7P611.pt (deflated 7%)\n",
            "  adding: data/token_representations/UniRef50_L1IYX0.pt (deflated 7%)\n",
            "  adding: data/token_representations/UniRef50_A0A0Q7MXW0.pt (deflated 7%)\n",
            "  adding: data/token_representations/UniRef50_A0A9W7A5H9.pt (deflated 7%)\n",
            "  adding: data/token_representations/UniRef50_UPI001E512BEC.pt (deflated 7%)\n",
            "  adding: data/token_representations/UniRef50_UPI0012EE834E.pt (deflated 7%)\n",
            "  adding: data/token_representations/UniRef50_V8RFR0.pt (deflated 7%)\n",
            "  adding: data/token_representations/UniRef50_A0A8C8GKC5.pt (deflated 7%)\n",
            "  adding: data/token_representations/UniRef50_A0A143DDB7.pt (deflated 7%)\n",
            "  adding: data/token_representations/UniRef50_UPI0005852B00.pt (deflated 7%)\n",
            "  adding: data/token_representations/UniRef50_UPI0024C3B6BC.pt (deflated 7%)\n",
            "  adding: data/token_representations/UniRef50_UPI0021C666F7.pt (deflated 7%)\n",
            "  adding: data/token_representations/UniRef50_A0A024W9V4.pt (deflated 7%)\n",
            "  adding: data/token_representations/UniRef50_F0VBL3.pt (deflated 7%)\n",
            "  adding: data/token_representations/UniRef50_A0A9X6RKP2.pt (deflated 7%)\n",
            "  adding: data/token_representations/UniRef50_A0A1Q9CIX8.pt (deflated 7%)\n",
            "  adding: data/token_representations/UniRef50_A0A1Y1I8F6.pt (deflated 7%)\n",
            "  adding: data/token_representations/UniRef50_UPI0010200276.pt (deflated 7%)\n",
            "  adding: data/token_representations/UniRef50_A0A5E6R7N7.pt (deflated 7%)\n",
            "  adding: data/token_representations/UniRef50_UPI0024C2D70D.pt (deflated 7%)\n",
            "  adding: data/token_representations/UniRef50_A0A835WMF9.pt (deflated 7%)\n",
            "  adding: data/token_representations/UniRef50_UPI0025D65C84.pt (deflated 7%)\n",
            "  adding: data/token_representations/UniRef50_A0A1G7RU05.pt (deflated 7%)\n",
            "  adding: data/token_representations/UniRef50_A0A813IE00.pt (deflated 7%)\n",
            "  adding: data/token_representations/UniRef50_UPI0024914DC0.pt (deflated 7%)\n",
            "  adding: data/token_representations/UniRef50_A0A3M6V5P3.pt (deflated 7%)\n",
            "  adding: data/token_representations/UniRef50_D5GN99.pt (deflated 7%)\n",
            "  adding: data/token_representations/UniRef50_A0A6J2PC09.pt (deflated 7%)\n",
            "  adding: data/token_representations/UniRef50_UPI0020CE8D07.pt (deflated 7%)\n",
            "  adding: data/token_representations/UniRef50_J2WC77.pt (deflated 7%)\n",
            "  adding: data/token_representations/UniRef50_W7AXP6.pt (deflated 7%)\n",
            "  adding: data/token_representations/UniRef50_A0A6A4S3B4.pt (deflated 7%)\n",
            "  adding: data/token_representations/UniRef50_A0A853IH75.pt (deflated 7%)\n",
            "  adding: data/token_representations/UniRef50_A0A1S4GPA5.pt (deflated 7%)\n",
            "  adding: data/token_representations/UniRef50_UPI001C936BA4.pt (deflated 7%)\n",
            "  adding: data/token_representations/UniRef50_A0A365XWI0.pt (deflated 7%)\n",
            "  adding: data/token_representations/UniRef50_A0A9W6F5B8.pt (deflated 7%)\n",
            "  adding: data/token_representations/UniRef50_A0A6H2BDD4.pt (deflated 7%)\n",
            "  adding: data/token_representations/UniRef50_A0A7S0HF82.pt (deflated 7%)\n",
            "  adding: data/token_representations/UniRef50_A0A6I2FTC5.pt (deflated 7%)\n",
            "  adding: data/token_representations/UniRef50_A0A9W5EFL4.pt (deflated 7%)\n",
            "  adding: data/token_representations/UniRef50_A0A1V5HIC2.pt (deflated 7%)\n",
            "  adding: data/token_representations/UniRef50_A0A5J6KV18.pt (deflated 7%)\n",
            "  adding: data/token_representations/UniRef50_A0A0V0TR50.pt (deflated 7%)\n",
            "  adding: data/token_representations/UniRef50_A0A1I8JHJ6.pt (deflated 7%)\n",
            "  adding: data/token_representations/UniRef50_A0A2A4F5F8.pt (deflated 7%)\n",
            "  adding: data/token_representations/UniRef50_A0A1T4J4Z6.pt (deflated 7%)\n",
            "  adding: data/token_representations/UniRef50_A0A1J4MJ61.pt (deflated 7%)\n",
            "  adding: data/token_representations/UniRef50_A0A1A7PR48.pt (deflated 7%)\n",
            "  adding: data/token_representations/UniRef50_A0A928XVN2.pt (deflated 7%)\n",
            "  adding: data/token_representations/UniRef50_UPI002230B491.pt (deflated 7%)\n",
            "  adding: data/token_representations/UniRef50_A0A1Q9DMB5.pt (deflated 7%)\n",
            "  adding: data/token_representations/UniRef50_A0A4D8PPI5.pt (deflated 7%)\n",
            "  adding: data/token_representations/UniRef50_A0A2T7PFE8.pt (deflated 7%)\n",
            "  adding: data/token_representations/UniRef50_A0A8T2HNA8.pt (deflated 7%)\n",
            "  adding: data/token_representations/UniRef50_UPI001470953E.pt (deflated 7%)\n",
            "  adding: data/token_representations/UniRef50_A0A194QBS6.pt (deflated 7%)\n",
            "  adding: data/token_representations/UniRef50_UPI00249047E7.pt (deflated 7%)\n",
            "  adding: data/token_representations/UniRef50_A0A2Y9IFC6.pt (deflated 7%)\n",
            "  adding: data/token_representations/UniRef50_UPI001CFB1669.pt (deflated 7%)\n",
            "  adding: data/token_representations/UniRef50_UPI0018939EA8.pt (deflated 7%)\n",
            "  adding: data/token_representations/UniRef50_A0A7Y5CYG6.pt (deflated 7%)\n",
            "  adding: data/token_representations/UniRef50_A0A3A1Y9S6.pt (deflated 7%)\n",
            "  adding: data/token_representations/UniRef50_A0A4S2KKV8.pt (deflated 7%)\n",
            "  adding: data/token_representations/UniRef50_UPI001C72460C.pt (deflated 7%)\n",
            "  adding: data/token_representations/UniRef50_A0A0S4JSC2.pt (deflated 7%)\n",
            "  adding: data/token_representations/UniRef50_A0A833SDK9.pt (deflated 7%)\n",
            "  adding: data/token_representations/UniRef50_UPI0003641307.pt (deflated 7%)\n",
            "  adding: data/token_representations/UniRef50_UPI001878EF47.pt (deflated 7%)\n",
            "  adding: data/token_representations/UniRef50_A0A180EN02.pt (deflated 7%)\n",
            "  adding: data/token_representations/UniRef50_A0A918GTY0.pt (deflated 7%)\n",
            "  adding: data/token_representations/UniRef50_A0A7C8BSV0.pt (deflated 8%)\n",
            "  adding: data/token_representations/UniRef50_A0A8X7XJM7.pt (deflated 7%)\n",
            "  adding: data/token_representations/UniRef50_A0A951QGA4.pt (deflated 7%)\n",
            "  adding: data/token_representations/UniRef50_A0A8C4TA23.pt (deflated 7%)\n",
            "  adding: data/token_representations/UniRef50_A0A0G4GLK9.pt (deflated 7%)\n",
            "  adding: data/token_representations/UniRef50_UPI0021F88DE2.pt (deflated 7%)\n",
            "  adding: data/token_representations/UniRef50_A0A222FNB1.pt (deflated 7%)\n",
            "  adding: data/token_representations/UniRef50_A0A410UNC8.pt (deflated 7%)\n",
            "  adding: data/token_representations/UniRef50_A0A8U0P2Q1.pt (deflated 7%)\n",
            "  adding: data/token_representations/UniRef50_A0A223D1C6.pt (deflated 7%)\n",
            "  adding: data/token_representations/UniRef50_A0A954TM52.pt (deflated 7%)\n",
            "  adding: data/token_representations/UniRef50_A0A7Y5R1Y7.pt (deflated 7%)\n",
            "  adding: data/token_representations/UniRef50_UPI0013A5BDE8.pt (deflated 7%)\n",
            "  adding: data/token_representations/UniRef50_G7G655.pt (deflated 7%)\n",
            "  adding: data/token_representations/UniRef50_A0A835WKM0.pt (deflated 7%)\n",
            "  adding: data/token_representations/UniRef50_Q87W61.pt (deflated 7%)\n",
            "  adding: data/token_representations/UniRef50_A0A9W8DU00.pt (deflated 7%)\n",
            "  adding: data/token_representations/UniRef50_A0A8T1YC26.pt (deflated 7%)\n",
            "  adding: data/token_representations/UniRef50_A0A4D9D5Q9.pt (deflated 7%)\n",
            "  adding: data/token_representations/UniRef50_A0A8J4DR09.pt (deflated 7%)\n",
            "  adding: data/token_representations/UniRef50_UPI00167DC905.pt (deflated 7%)\n",
            "  adding: data/token_representations/UniRef50_A0A4E0S253.pt (deflated 7%)\n",
            "  adding: data/token_representations/UniRef50_I0Z730.pt (deflated 7%)\n",
            "  adding: data/token_representations/UniRef50_A0A8C5JD57.pt (deflated 7%)\n",
            "  adding: data/token_representations/UniRef50_A0A5S6QGN1.pt (deflated 7%)\n",
            "  adding: data/token_representations/UniRef50_UPI00148B0D7A.pt (deflated 7%)\n",
            "  adding: data/token_representations/UniRef50_A0A7X1NRK7.pt (deflated 7%)\n",
            "  adding: data/token_representations/UniRef50_A0A1G9W9M5.pt (deflated 7%)\n",
            "  adding: data/token_representations/UniRef50_UPI0011C36742.pt (deflated 7%)\n",
            "  adding: data/token_representations/UniRef50_A0A2K3E3G9.pt (deflated 7%)\n",
            "  adding: data/token_representations/UniRef50_A0A914DFI6.pt (deflated 7%)\n",
            "  adding: data/token_representations/UniRef50_A0A6P1IKS2.pt (deflated 7%)\n",
            "  adding: data/token_representations/UniRef50_A0A2R3Z6T3.pt (deflated 7%)\n",
            "  adding: data/token_representations/UniRef50_A0A918RR06.pt (deflated 7%)\n",
            "  adding: data/token_representations/UniRef50_A0A0Q7FB30.pt (deflated 7%)\n",
            "  adding: data/token_representations/UniRef50_A0A1Y1JL43.pt (deflated 7%)\n",
            "  adding: data/token_representations/UniRef50_A0A0G4HC28.pt (deflated 7%)\n",
            "  adding: data/token_representations/UniRef50_UPI0021E2BABB.pt (deflated 7%)\n",
            "  adding: data/token_representations/UniRef50_A0A0L0BSA8.pt (deflated 7%)\n",
            "  adding: data/token_representations/UniRef50_A0A2Z4XFZ7.pt (deflated 7%)\n",
            "  adding: data/token_representations/UniRef50_A0A979FXG2.pt (deflated 7%)\n",
            "  adding: data/token_representations/UniRef50_A0A2H3E121.pt (deflated 7%)\n",
            "  adding: data/token_representations/UniRef50_UPI0022838F3B.pt (deflated 7%)\n",
            "  adding: data/token_representations/UniRef50_A0A1J1GN63.pt (deflated 7%)\n",
            "  adding: data/token_representations/UniRef50_A0A1Q3H8T8.pt (deflated 7%)\n",
            "  adding: data/token_representations/UniRef50_A0A7V1KXZ6.pt (deflated 7%)\n",
            "  adding: data/token_representations/UniRef50_A0A0D1Z778.pt (deflated 7%)\n",
            "  adding: data/token_representations/UniRef50_A0A8S9X000.pt (deflated 7%)\n",
            "  adding: data/token_representations/UniRef50_UPI0023B97EBA.pt (deflated 7%)\n",
            "  adding: data/token_representations/UniRef50_A0A2R3ETR3.pt (deflated 7%)\n",
            "  adding: data/token_representations/UniRef50_UPI0015B694F9.pt (deflated 7%)\n",
            "  adding: data/token_representations/UniRef50_UPI001CF77054.pt (deflated 7%)\n",
            "  adding: data/token_representations/UniRef50_A0A7R8X5R4.pt (deflated 7%)\n",
            "  adding: data/token_representations/UniRef50_UPI001623EC38.pt (deflated 7%)\n",
            "  adding: data/token_representations/UniRef50_UPI00234E51E4.pt (deflated 7%)\n",
            "  adding: data/token_representations/UniRef50_A0A8H7A7K0.pt (deflated 7%)\n",
            "  adding: data/token_representations/UniRef50_T2M397.pt (deflated 7%)\n",
            "  adding: data/token_representations/UniRef50_A0A915PSQ5.pt (deflated 7%)\n",
            "  adding: data/token_representations/UniRef50_A0A2K6N3C2.pt (deflated 7%)\n",
            "  adding: data/token_representations/UniRef50_UPI001884F7D9.pt (deflated 7%)\n",
            "  adding: data/token_representations/UniRef50_U5N7W1.pt (deflated 7%)\n",
            "  adding: data/token_representations/UniRef50_A0A9E3XPX4.pt (deflated 7%)\n",
            "  adding: data/token_representations/UniRef50_A0A117Q538.pt (deflated 7%)\n",
            "  adding: data/token_representations/UniRef50_A0A084R300.pt (deflated 7%)\n",
            "  adding: data/token_representations/UniRef50_UPI0012DF8CB2.pt (deflated 7%)\n",
            "  adding: data/token_representations/UniRef50_UPI00234E4CE4.pt (deflated 7%)\n",
            "  adding: data/token_representations/UniRef50_A0A8H3EYP3.pt (deflated 7%)\n",
            "  adding: data/token_representations/UniRef50_UPI0003F06DAD.pt (deflated 7%)\n",
            "  adding: data/token_representations/UniRef50_A0A263NL33.pt (deflated 7%)\n",
            "  adding: data/token_representations/UniRef50_UPI00200D834F.pt (deflated 7%)\n",
            "  adding: data/token_representations/UniRef50_G7DSF4.pt (deflated 7%)\n",
            "  adding: data/token_representations/UniRef50_A0A1B9VMZ2.pt (deflated 7%)\n",
            "  adding: data/token_representations/UniRef50_A0A3Q3GJ64.pt (deflated 7%)\n",
            "  adding: data/token_representations/UniRef50_A0A1Q9C333.pt (deflated 7%)\n",
            "  adding: data/token_representations/UniRef50_A0A086T6Z1.pt (deflated 7%)\n",
            "  adding: data/token_representations/UniRef50_A0A8A4TIL3.pt (deflated 7%)\n",
            "  adding: data/token_representations/UniRef50_A0A6B9UF22.pt (deflated 7%)\n",
            "  adding: data/token_representations/UniRef50_UPI00077ABAA1.pt (deflated 7%)\n",
            "  adding: data/token_representations/UniRef50_A0A182F1P3.pt (deflated 7%)\n",
            "  adding: data/token_representations/UniRef50_A0A0P7AVU8.pt (deflated 7%)\n",
            "  adding: data/token_representations/UniRef50_A0A7W7R7W7.pt (deflated 7%)\n",
            "  adding: data/token_representations/UniRef50_A0A965JVE0.pt (deflated 7%)\n",
            "  adding: data/token_representations/UniRef50_A0A497T583.pt (deflated 7%)\n",
            "  adding: data/token_representations/UniRef50_H2M0W7.pt (deflated 7%)\n",
            "  adding: data/token_representations/UniRef50_UPI0015D0843F.pt (deflated 7%)\n",
            "  adding: data/token_representations/UniRef50_A0A7I7Y5X6.pt (deflated 7%)\n",
            "  adding: data/token_representations/UniRef50_UPI001E61FA67.pt (deflated 7%)\n",
            "  adding: data/token_representations/UniRef50_UPI000678650F.pt (deflated 7%)\n",
            "  adding: data/token_representations/UniRef50_A0A8J6C9I2.pt (deflated 7%)\n",
            "  adding: data/token_representations/UniRef50_A0A0M1K2X3.pt (deflated 7%)\n",
            "  adding: data/token_representations/UniRef50_A0A959HLN7.pt (deflated 7%)\n",
            "  adding: data/token_representations/UniRef50_A0A8S1UQ05.pt (deflated 7%)\n",
            "  adding: data/token_representations/UniRef50_C7G038.pt (deflated 7%)\n",
            "  adding: data/token_representations/UniRef50_A0A7G8KKK8.pt (deflated 7%)\n",
            "  adding: data/token_representations/UniRef50_UPI00254E32D0.pt (deflated 7%)\n",
            "  adding: data/token_representations/UniRef50_H5X0A3.pt (deflated 7%)\n",
            "  adding: data/token_representations/UniRef50_A0A7M7SVC0.pt (deflated 7%)\n",
            "  adding: data/token_representations/UniRef50_A0A9K3LVW2.pt (deflated 7%)\n",
            "  adding: data/token_representations/UniRef50_UPI001916EF0A.pt (deflated 7%)\n",
            "  adding: data/token_representations/UniRef50_UPI0018F39492.pt (deflated 7%)\n",
            "  adding: data/token_representations/UniRef50_A0A7Y6KXB0.pt (deflated 7%)\n",
            "  adding: data/token_representations/UniRef50_A0A1Q8LWT9.pt (deflated 7%)\n",
            "  adding: data/token_representations/UniRef50_UPI00273B7641.pt (deflated 7%)\n",
            "  adding: data/token_representations/UniRef50_UPI002444E502.pt (deflated 7%)\n",
            "  adding: data/token_representations/UniRef50_A0A3A8HW56.pt (deflated 7%)\n",
            "  adding: data/token_representations/UniRef50_A0A8J2SGE5.pt (deflated 7%)\n",
            "  adding: data/token_representations/UniRef50_A0A0K2AZY4.pt (deflated 7%)\n",
            "  adding: data/token_representations/UniRef50_A0A6S7FHT9.pt (deflated 7%)\n",
            "  adding: data/token_representations/UniRef50_A0A9D8IHM1.pt (deflated 7%)\n",
            "  adding: data/token_representations/UniRef50_A0A2A2W453.pt (deflated 7%)\n",
            "  adding: data/token_representations/UniRef50_A0A3N0Y4D8.pt (deflated 7%)\n",
            "  adding: data/token_representations/UniRef50_UPI001EAF127C.pt (deflated 7%)\n",
            "  adding: data/token_representations/UniRef50_A0A6P7WM34.pt (deflated 7%)\n",
            "  adding: data/token_representations/UniRef50_C7RST5.pt (deflated 7%)\n",
            "  adding: data/token_representations/UniRef50_A0A9W2YZ62.pt (deflated 7%)\n",
            "  adding: data/token_representations/UniRef50_A0A2A4JTC9.pt (deflated 7%)\n",
            "  adding: data/token_representations/UniRef50_UPI000C6D93F7.pt (deflated 7%)\n",
            "  adding: data/token_representations/UniRef50_Q23JI1.pt (deflated 7%)\n",
            "  adding: data/token_representations/UniRef50_UPI00099FB33E.pt (deflated 7%)\n",
            "  adding: data/token_representations/UniRef50_A0A7I8VN61.pt (deflated 7%)\n",
            "  adding: data/token_representations/UniRef50_UPI0023B1DCF3.pt (deflated 7%)\n",
            "  adding: data/token_representations/UniRef50_A0A127M1E4.pt (deflated 7%)\n",
            "  adding: data/token_representations/UniRef50_A0A673X9U5.pt (deflated 7%)\n",
            "  adding: data/token_representations/UniRef50_UPI000EFFE3DB.pt (deflated 7%)\n",
            "  adding: data/token_representations/UniRef50_A0A8F9XJX0.pt (deflated 7%)\n",
            "  adding: data/token_representations/UniRef50_S8GAK6.pt (deflated 7%)\n",
            "  adding: data/token_representations/UniRef50_A0A0L0CH70.pt (deflated 7%)\n",
            "  adding: data/token_representations/UniRef50_A0A8C2P9K4.pt (deflated 7%)\n",
            "  adding: data/token_representations/UniRef50_H2SL47.pt (deflated 7%)\n",
            "  adding: data/token_representations/UniRef50_UPI0011169974.pt (deflated 7%)\n",
            "  adding: data/token_representations/UniRef50_A0A8H9HLS0.pt (deflated 7%)\n",
            "  adding: data/token_representations/UniRef50_A0A0L8HP77.pt (deflated 7%)\n",
            "  adding: data/token_representations/UniRef50_A0A8A4TCX8.pt (deflated 7%)\n",
            "  adding: data/token_representations/UniRef50_A0A7Z1J8V7.pt (deflated 7%)\n",
            "  adding: data/token_representations/UniRef50_UPI001893F9EC.pt (deflated 7%)\n",
            "  adding: data/token_representations/UniRef50_A0A8T0BZA2.pt (deflated 7%)\n",
            "  adding: data/token_representations/UniRef50_A0A2E4IE76.pt (deflated 7%)\n",
            "  adding: data/token_representations/UniRef50_UPI00214F30FD.pt (deflated 7%)\n",
            "  adding: data/token_representations/UniRef50_A0A1V6FLK5.pt (deflated 7%)\n",
            "  adding: data/token_representations/UniRef50_A0A2E3BF75.pt (deflated 7%)\n",
            "  adding: data/token_representations/UniRef50_A0A812KHR3.pt (deflated 7%)\n",
            "  adding: data/token_representations/UniRef50_A0A2E4YWP9.pt (deflated 7%)\n",
            "  adding: data/token_representations/UniRef50_UPI0024543F3C.pt (deflated 7%)\n",
            "  adding: data/token_representations/UniRef50_J3NJV7.pt (deflated 7%)\n",
            "  adding: data/token_representations/UniRef50_A0A1J1H688.pt (deflated 7%)\n",
            "  adding: data/token_representations/UniRef50_A0A1V9Y6I8.pt (deflated 7%)\n",
            "  adding: data/token_representations/UniRef50_A0A6A4TNK3.pt (deflated 7%)\n",
            "  adding: data/token_representations/UniRef50_A0A7H1Q9B4.pt (deflated 7%)\n",
            "  adding: data/token_representations/UniRef50_A0A3P3YG54.pt (deflated 7%)\n",
            "  adding: data/token_representations/UniRef50_A0A2V4K4N9.pt (deflated 7%)\n",
            "  adding: data/token_representations/UniRef50_A0A2I6SBB9.pt (deflated 7%)\n",
            "  adding: data/token_representations/UniRef50_A0A8W8KP26.pt (deflated 7%)\n",
            "  adding: data/token_representations/UniRef50_A0A8J2E9K8.pt (deflated 7%)\n",
            "  adding: data/token_representations/UniRef50_A0A559FUJ2.pt (deflated 7%)\n",
            "  adding: data/token_representations/UniRef50_UPI0022EC4958.pt (deflated 7%)\n",
            "  adding: data/token_representations/UniRef50_UPI00220F798D.pt (deflated 7%)\n",
            "  adding: data/token_representations/UniRef50_A0A1X9NBT3.pt (deflated 7%)\n",
            "  adding: data/token_representations/UniRef50_A0A8B9ZYR3.pt (deflated 7%)\n",
            "  adding: data/token_representations/UniRef50_A0A812UW99.pt (deflated 7%)\n",
            "  adding: data/token_representations/UniRef50_A0A1M6KGG9.pt (deflated 7%)\n",
            "  adding: data/token_representations/UniRef50_A0A1B0GFE7.pt (deflated 10%)\n",
            "  adding: data/token_representations/UniRef50_A0A8C7T7K8.pt (deflated 7%)\n",
            "  adding: data/token_representations/UniRef50_UPI000719ACC4.pt (deflated 7%)\n",
            "  adding: data/token_representations/UniRef50_A0A934EZT0.pt (deflated 7%)\n",
            "  adding: data/token_representations/UniRef50_A0A076HB95.pt (deflated 7%)\n",
            "  adding: data/token_representations/UniRef50_UPI00255059D9.pt (deflated 7%)\n",
            "  adding: data/token_representations/UniRef50_A0A3M6U331.pt (deflated 7%)\n",
            "  adding: data/token_representations/UniRef50_UPI001EE553F1.pt (deflated 7%)\n",
            "  adding: data/token_representations/UniRef50_A0A8B7DQF6.pt (deflated 7%)\n",
            "  adding: data/token_representations/UniRef50_UPI00149039E2.pt (deflated 7%)\n",
            "  adding: data/token_representations/UniRef50_A0A3P3ZW48.pt (deflated 7%)\n",
            "  adding: data/token_representations/UniRef50_A0A369S8H1.pt (deflated 7%)\n",
            "  adding: data/token_representations/UniRef50_A0A176VEY1.pt (deflated 7%)\n",
            "  adding: data/token_representations/UniRef50_A0A1D3TCL6.pt (deflated 7%)\n",
            "  adding: data/token_representations/UniRef50_L7LGQ0.pt (deflated 7%)\n",
            "  adding: data/token_representations/UniRef50_UPI00278C0D64.pt (deflated 7%)\n",
            "  adding: data/token_representations/UniRef50_A0A6P5PYL0.pt (deflated 7%)\n",
            "  adding: data/token_representations/UniRef50_A0A223D1N3.pt (deflated 7%)\n",
            "  adding: data/token_representations/UniRef50_A0A1B8W7V4.pt (deflated 7%)\n",
            "  adding: data/token_representations/UniRef50_A0A653DGP8.pt (deflated 7%)\n",
            "  adding: data/token_representations/UniRef50_A0A813HT68.pt (deflated 7%)\n",
            "  adding: data/token_representations/UniRef50_A0A8K9UL57.pt (deflated 7%)\n",
            "  adding: data/token_representations/UniRef50_A0A8J5N378.pt (deflated 7%)\n",
            "  adding: data/token_representations/UniRef50_UPI000A8B8C09.pt (deflated 7%)\n",
            "  adding: data/token_representations/UniRef50_UPI0009E1E547.pt (deflated 7%)\n",
            "  adding: data/token_representations/UniRef50_A0A7G3ACH2.pt (deflated 8%)\n",
            "  adding: data/token_representations/UniRef50_A0A858USX9.pt (deflated 7%)\n",
            "  adding: data/token_representations/UniRef50_UPI0021B5D3FD.pt (deflated 7%)\n",
            "  adding: data/token_representations/UniRef50_UPI000DAC574C.pt (deflated 7%)\n",
            "  adding: data/token_representations/UniRef50_A0A0G2JUP3.pt (deflated 7%)\n",
            "  adding: data/token_representations/UniRef50_A0A2A4JVT8.pt (deflated 7%)\n",
            "  adding: data/token_representations/UniRef50_UPI001BD9F697.pt (deflated 7%)\n",
            "  adding: data/token_representations/UniRef50_A0A260MJG5.pt (deflated 7%)\n",
            "  adding: data/token_representations/UniRef50_A0A1S3JRT6.pt (deflated 7%)\n",
            "  adding: data/token_representations/UniRef50_A0A5A7VUV2.pt (deflated 7%)\n",
            "  adding: data/token_representations/UniRef50_A0A7W9HJ15.pt (deflated 7%)\n",
            "  adding: data/token_representations/UniRef50_UPI001E64282D.pt (deflated 7%)\n",
            "  adding: data/token_representations/UniRef50_A0A182VDH2.pt (deflated 7%)\n",
            "  adding: data/token_representations/UniRef50_A0A812XB33.pt (deflated 7%)\n",
            "  adding: data/token_representations/UniRef50_A0A1F9V6Y1.pt (deflated 7%)\n",
            "  adding: data/token_representations/UniRef50_A0A1G1BZP6.pt (deflated 7%)\n",
            "  adding: data/token_representations/UniRef50_A0A1J0VZ53.pt (deflated 7%)\n",
            "  adding: data/token_representations/UniRef50_UPI00035D22B4.pt (deflated 7%)\n",
            "  adding: data/token_representations/UniRef50_A0A239IUL9.pt (deflated 7%)\n",
            "  adding: data/token_representations/UniRef50_A0A401PBZ8.pt (deflated 7%)\n",
            "  adding: data/token_representations/UniRef50_A0A3F3ACM7.pt (deflated 7%)\n",
            "  adding: data/token_representations/UniRef50_A0A811K371.pt (deflated 7%)\n",
            "  adding: data/token_representations/UniRef50_A0A2J6QTM8.pt (deflated 7%)\n",
            "  adding: data/token_representations/UniRef50_A0A226MGC7.pt (deflated 7%)\n",
            "  adding: data/token_representations/UniRef50_UPI002554B734.pt (deflated 7%)\n",
            "  adding: data/token_representations/UniRef50_A0A9Q0S883.pt (deflated 7%)\n",
            "  adding: data/token_representations/UniRef50_A0A8T2M3W0.pt (deflated 7%)\n",
            "  adding: data/token_representations/UniRef50_W8BEN4.pt (deflated 7%)\n",
            "  adding: data/token_representations/UniRef50_A0A498LXS0.pt (deflated 7%)\n",
            "  adding: data/token_representations/UniRef50_A0A6H5KET3.pt (deflated 7%)\n",
            "  adding: data/token_representations/UniRef50_UPI002151238D.pt (deflated 7%)\n",
            "  adding: data/token_representations/UniRef50_UPI000528D6B7.pt (deflated 7%)\n",
            "  adding: data/token_representations/UniRef50_UPI00084E624B.pt (deflated 7%)\n",
            "  adding: data/token_representations/UniRef50_UPI0027420C95.pt (deflated 7%)\n",
            "  adding: data/token_representations/UniRef50_UPI0026ECD1CB.pt (deflated 7%)\n",
            "  adding: data/token_representations/UniRef50_UPI0007C4CDB9.pt (deflated 7%)\n",
            "  adding: data/token_representations/UniRef50_A0A8T4IHY2.pt (deflated 7%)\n",
            "  adding: data/token_representations/UniRef50_J9I607.pt (deflated 7%)\n",
            "  adding: data/token_representations/UniRef50_A6EDF1.pt (deflated 7%)\n",
            "  adding: data/token_representations/UniRef50_Q70LM5.pt (deflated 7%)\n",
            "  adding: data/token_representations/UniRef50_A0A127PDT0.pt (deflated 7%)\n",
            "  adding: data/token_representations/UniRef50_A0A9Q0BDU3.pt (deflated 7%)\n",
            "  adding: data/token_representations/UniRef50_F0V9Y1.pt (deflated 7%)\n",
            "  adding: data/token_representations/UniRef50_UPI001E5F15C0.pt (deflated 7%)\n",
            "  adding: data/token_representations/UniRef50_A0A9W7FUG3.pt (deflated 7%)\n",
            "  adding: data/token_representations/UniRef50_A0A670ZE95.pt (deflated 7%)\n",
            "  adding: data/token_representations/UniRef50_A0A1C6RBH0.pt (deflated 7%)\n",
            "  adding: data/token_representations/UniRef50_F0V815.pt (deflated 7%)\n",
            "  adding: data/token_representations/UniRef50_A0A941G329.pt (deflated 7%)\n",
            "  adding: data/token_representations/UniRef50_A0A8H6FHR7.pt (deflated 7%)\n",
            "  adding: data/token_representations/UniRef50_A0A4W3HX67.pt (deflated 7%)\n",
            "  adding: data/token_representations/UniRef50_Q0U9R7.pt (deflated 7%)\n",
            "  adding: data/token_representations/UniRef50_A0A8J2T2H5.pt (deflated 7%)\n",
            "  adding: data/token_representations/UniRef50_UPI001CD81E33.pt (deflated 7%)\n",
            "  adding: data/token_representations/UniRef50_Q90985.pt (deflated 7%)\n",
            "  adding: data/token_representations/UniRef50_A0A0R2I195.pt (deflated 7%)\n",
            "  adding: data/token_representations/UniRef50_UPI0005525B8A.pt (deflated 7%)\n",
            "  adding: data/token_representations/UniRef50_UPI000B4F7298.pt (deflated 7%)\n",
            "  adding: data/token_representations/UniRef50_A0A151LP08.pt (deflated 7%)\n",
            "  adding: data/token_representations/UniRef50_A0A9N8ZD55.pt (deflated 7%)\n",
            "  adding: data/token_representations/UniRef50_A0A7M7PNC5.pt (deflated 7%)\n",
            "  adding: data/token_representations/UniRef50_A0A0S2FB99.pt (deflated 7%)\n",
            "  adding: data/token_representations/UniRef50_UPI00227B35B2.pt (deflated 7%)\n",
            "  adding: data/token_representations/UniRef50_A0A954GW67.pt (deflated 7%)\n",
            "  adding: data/token_representations/UniRef50_A0A934V1L5.pt (deflated 7%)\n",
            "  adding: data/token_representations/UniRef50_A0A846EBG3.pt (deflated 7%)\n",
            "  adding: data/token_representations/UniRef50_A0A932JYA9.pt (deflated 7%)\n",
            "  adding: data/token_representations/UniRef50_A0A9W2XJ31.pt (deflated 7%)\n",
            "  adding: data/token_representations/UniRef50_UPI0022772DFC.pt (deflated 7%)\n",
            "  adding: data/token_representations/UniRef50_A0A5A8C090.pt (deflated 7%)\n",
            "  adding: data/token_representations/UniRef50_A0A4U5MK76.pt (deflated 7%)\n",
            "  adding: data/token_representations/UniRef50_UPI00234F7316.pt (deflated 7%)\n",
            "  adding: data/token_representations/UniRef50_G0PXB1.pt (deflated 7%)\n",
            "  adding: data/token_representations/UniRef50_A0A5J4P4L4.pt (deflated 7%)\n",
            "  adding: data/token_representations/UniRef50_A0A969BCP8.pt (deflated 7%)\n",
            "  adding: data/token_representations/UniRef50_B5YM02.pt (deflated 7%)\n",
            "  adding: data/token_representations/UniRef50_UPI000C054EEB.pt (deflated 7%)\n",
            "  adding: data/token_representations/UniRef50_F0XZL1.pt (deflated 7%)\n",
            "  adding: data/token_representations/UniRef50_UPI0020FFADD7.pt (deflated 7%)\n",
            "  adding: data/token_representations/UniRef50_UPI0010748F4E.pt (deflated 7%)\n",
            "  adding: data/token_representations/UniRef50_A0A370DA48.pt (deflated 7%)\n",
            "  adding: data/token_representations/UniRef50_UPI00118BCA2F.pt (deflated 7%)\n",
            "  adding: data/token_representations/UniRef50_A0A3G8JTG1.pt (deflated 7%)\n",
            "  adding: data/token_representations/UniRef50_A0A353G3N1.pt (deflated 7%)\n",
            "  adding: data/token_representations/UniRef50_A0A643BXV9.pt (deflated 7%)\n",
            "  adding: data/token_representations/UniRef50_UPI0008F99B61.pt (deflated 7%)\n",
            "  adding: data/token_representations/UniRef50_A0A2Z2NR28.pt (deflated 7%)\n",
            "  adding: data/token_representations/UniRef50_A0A2B4SMH3.pt (deflated 7%)\n",
            "  adding: data/token_representations/UniRef50_A0A838CHR4.pt (deflated 7%)\n",
            "  adding: data/token_representations/UniRef50_A0A7C8P726.pt (deflated 7%)\n",
            "  adding: data/token_representations/UniRef50_A0A0H3JG23.pt (deflated 7%)\n",
            "  adding: data/token_representations/UniRef50_A0A366QXU3.pt (deflated 7%)\n",
            "  adding: data/token_representations/UniRef50_A0A419I1T4.pt (deflated 7%)\n",
            "  adding: data/token_representations/UniRef50_A0A1Q8CTG3.pt (deflated 7%)\n",
            "  adding: data/token_representations/UniRef50_A0A5S4UMX7.pt (deflated 7%)\n",
            "  adding: data/token_representations/UniRef50_A0A6P4ZR22.pt (deflated 7%)\n",
            "  adding: data/token_representations/UniRef50_UPI002573BB8A.pt (deflated 7%)\n",
            "  adding: data/token_representations/UniRef50_A0A3L8D612.pt (deflated 7%)\n",
            "  adding: data/token_representations/UniRef50_A0A1Q2Z736.pt (deflated 7%)\n",
            "  adding: data/token_representations/UniRef50_UPI0004C40DAF.pt (deflated 7%)\n",
            "  adding: data/token_representations/UniRef50_S8F5N9.pt (deflated 7%)\n",
            "  adding: data/token_representations/UniRef50_A0A836B2U3.pt (deflated 7%)\n",
            "  adding: data/token_representations/UniRef50_A0A3M6TVU3.pt (deflated 7%)\n",
            "  adding: data/token_representations/UniRef50_D7G8Y9.pt (deflated 7%)\n",
            "  adding: data/token_representations/UniRef50_A0A1Y1MM47.pt (deflated 7%)\n",
            "  adding: data/token_representations/UniRef50_UPI000CF8227D.pt (deflated 7%)\n",
            "  adding: data/token_representations/UniRef50_A2F7W7.pt (deflated 7%)\n",
            "  adding: data/token_representations/UniRef50_UPI000B17A1C4.pt (deflated 7%)\n",
            "  adding: data/token_representations/UniRef50_A0A1V8ZY44.pt (deflated 7%)\n",
            "  adding: data/token_representations/UniRef50_A0A7M7KLJ4.pt (deflated 7%)\n",
            "  adding: data/token_representations/UniRef50_A0A016W0A9.pt (deflated 7%)\n",
            "  adding: data/token_representations/UniRef50_A0A1I7ST69.pt (deflated 7%)\n",
            "  adding: data/token_representations/UniRef50_A0A5N5DTB3.pt (deflated 7%)\n",
            "  adding: data/token_representations/UniRef50_A0A0C5VMZ5.pt (deflated 7%)\n",
            "  adding: data/token_representations/UniRef50_A0A8X7X6F7.pt (deflated 7%)\n",
            "  adding: data/token_representations/UniRef50_A0A815F959.pt (deflated 7%)\n",
            "  adding: data/token_representations/UniRef50_A0A813S530.pt (deflated 7%)\n",
            "  adding: data/token_representations/UniRef50_A0A1H8SFB1.pt (deflated 7%)\n",
            "  adding: data/token_representations/UniRef50_A0A8I6TI52.pt (deflated 7%)\n",
            "  adding: data/token_representations/UniRef50_A0A3D2MB85.pt (deflated 7%)\n",
            "  adding: data/token_representations/UniRef50_A0A834F257.pt (deflated 7%)\n",
            "  adding: data/token_representations/UniRef50_A0A1D3CYU5.pt (deflated 7%)\n",
            "  adding: data/token_representations/UniRef50_W8AHT6.pt (deflated 7%)\n",
            "  adding: data/token_representations/UniRef50_UPI0023293D71.pt (deflated 7%)\n",
            "  adding: data/token_representations/UniRef50_UPI000525D31E.pt (deflated 7%)\n",
            "  adding: data/token_representations/UniRef50_A0A226F7E7.pt (deflated 7%)\n",
            "  adding: data/token_representations/UniRef50_A0A261Y107.pt (deflated 7%)\n",
            "  adding: data/token_representations/UniRef50_A0A834Y363.pt (deflated 7%)\n",
            "  adding: data/token_representations/UniRef50_UPI000D72D2E7.pt (deflated 7%)\n",
            "  adding: data/token_representations/UniRef50_UPI00201431C1.pt (deflated 7%)\n",
            "  adding: data/token_representations/UniRef50_A0A1S2NW87.pt (deflated 7%)\n",
            "  adding: data/token_representations/UniRef50_A0A2S0VPZ3.pt (deflated 7%)\n",
            "  adding: data/token_representations/UniRef50_A0A261D4D6.pt (deflated 7%)\n",
            "  adding: data/token_representations/UniRef50_UPI0015C40DA4.pt (deflated 7%)\n",
            "  adding: data/token_representations/UniRef50_A0A2S7UBE1.pt (deflated 7%)\n",
            "  adding: data/token_representations/UniRef50_A0A9N9LHA6.pt (deflated 7%)\n",
            "  adding: data/token_representations/UniRef50_A0A8B6Y2J9.pt (deflated 7%)\n",
            "  adding: data/token_representations/UniRef50_UPI0025ADEF44.pt (deflated 7%)\n",
            "  adding: data/token_representations/UniRef50_A0A2K6GY22.pt (deflated 7%)\n",
            "  adding: data/token_representations/UniRef50_A0A699GLD3.pt (deflated 7%)\n",
            "  adding: data/token_representations/UniRef50_UPI00083C12AB.pt (deflated 7%)\n",
            "  adding: data/token_representations/UniRef50_A0A815LC27.pt (deflated 7%)\n",
            "  adding: data/token_representations/UniRef50_A0A4S2JNK6.pt (deflated 7%)\n",
            "  adding: data/token_representations/UniRef50_X2JF73.pt (deflated 7%)\n",
            "  adding: data/token_representations/UniRef50_A0A9E7VLD8.pt (deflated 7%)\n",
            "  adding: data/token_representations/UniRef50_A0A2Z4L7X9.pt (deflated 7%)\n",
            "  adding: data/token_representations/UniRef50_A0A395TB75.pt (deflated 7%)\n",
            "  adding: data/token_representations/UniRef50_A0A1I8J496.pt (deflated 7%)\n",
            "  adding: data/token_representations/UniRef50_A0A5A8CD87.pt (deflated 7%)\n",
            "  adding: data/token_representations/UniRef50_UPI002257675F.pt (deflated 7%)\n",
            "  adding: data/token_representations/UniRef50_A0A6P7WM02.pt (deflated 7%)\n",
            "  adding: data/token_representations/UniRef50_A0A5A8EAV7.pt (deflated 7%)\n",
            "  adding: data/token_representations/UniRef50_A0A8A4TTX9.pt (deflated 7%)\n",
            "  adding: data/token_representations/UniRef50_UPI00145822C8.pt (deflated 7%)\n",
            "  adding: data/token_representations/UniRef50_UPI000AF52822.pt (deflated 7%)\n",
            "  adding: data/token_representations/UniRef50_UPI0023F8D32D.pt (deflated 7%)\n",
            "  adding: data/token_representations/UniRef50_A0A0Q3XAL9.pt (deflated 7%)\n",
            "  adding: data/token_representations/UniRef50_UPI0021CA9DD6.pt (deflated 7%)\n",
            "  adding: data/token_representations/UniRef50_A0A7E6ESI7.pt (deflated 7%)\n",
            "  adding: data/token_representations/UniRef50_UPI000C78CCE7.pt (deflated 7%)\n",
            "  adding: data/token_representations/UniRef50_A0A0A1F8H1.pt (deflated 7%)\n",
            "  adding: data/token_representations/UniRef50_A0A078A7A0.pt (deflated 7%)\n",
            "  adding: data/token_representations/UniRef50_A0A917QNC5.pt (deflated 7%)\n",
            "  adding: data/token_representations/UniRef50_UPI00201F7B09.pt (deflated 7%)\n",
            "  adding: data/token_representations/UniRef50_A0A2E0Z4T1.pt (deflated 7%)\n",
            "  adding: data/token_representations/UniRef50_A0A9K3GES7.pt (deflated 7%)\n",
            "  adding: data/token_representations/UniRef50_A0A5S9ISJ0.pt (deflated 7%)\n",
            "  adding: data/token_representations/UniRef50_Q5CZC0.pt (deflated 7%)\n",
            "  adding: data/token_representations/UniRef50_A0A022J435.pt (deflated 7%)\n",
            "  adding: data/token_representations/UniRef50_UPI0022595521.pt (deflated 7%)\n",
            "  adding: data/token_representations/UniRef50_A0A353G3N4.pt (deflated 7%)\n",
            "  adding: data/token_representations/UniRef50_A0A8U0PVP9.pt (deflated 7%)\n",
            "  adding: data/token_representations/UniRef50_A0A2M9LWP6.pt (deflated 7%)\n",
            "  adding: data/token_representations/UniRef50_UPI0026662267.pt (deflated 7%)\n",
            "  adding: data/token_representations/UniRef50_S3ZJR5.pt (deflated 7%)\n",
            "  adding: data/token_representations/UniRef50_UPI000840122D.pt (deflated 7%)\n",
            "  adding: data/token_representations/UniRef50_UPI0023EEA179.pt (deflated 7%)\n",
            "  adding: data/token_representations/UniRef50_D7C428.pt (deflated 7%)\n",
            "  adding: data/token_representations/UniRef50_A0A2C9JRK8.pt (deflated 7%)\n",
            "  adding: data/token_representations/UniRef50_A0A4V1EIU9.pt (deflated 7%)\n",
            "  adding: data/token_representations/UniRef50_A0A3N0XJP1.pt (deflated 7%)\n",
            "  adding: data/token_representations/UniRef50_UPI000786128F.pt (deflated 7%)\n",
            "  adding: data/token_representations/UniRef50_UPI00243116F7.pt (deflated 7%)\n",
            "  adding: data/token_representations/UniRef50_A0A1B6AJS4.pt (deflated 7%)\n",
            "  adding: data/token_representations/UniRef50_A0A7X3FEK1.pt (deflated 7%)\n",
            "  adding: data/token_representations/UniRef50_A0A0A0CMA2.pt (deflated 7%)\n",
            "  adding: data/token_representations/UniRef50_UPI001FB73698.pt (deflated 7%)\n",
            "  adding: data/token_representations/UniRef50_UPI001CD245F3.pt (deflated 7%)\n",
            "  adding: data/token_representations/UniRef50_UPI001868101C.pt (deflated 7%)\n",
            "  adding: data/token_representations/UniRef50_A0A522USC4.pt (deflated 7%)\n",
            "  adding: data/token_representations/UniRef50_A0A9W3AK13.pt (deflated 7%)\n",
            "  adding: data/token_representations/UniRef50_A0A1S4GBB2.pt (deflated 7%)\n",
            "  adding: data/token_representations/UniRef50_A0A2E0G5Y2.pt (deflated 7%)\n",
            "  adding: data/token_representations/UniRef50_UPI0024856F2A.pt (deflated 7%)\n",
            "  adding: data/token_representations/UniRef50_A0A8I3N0L9.pt (deflated 7%)\n",
            "  adding: data/token_representations/UniRef50_UPI002247BD9E.pt (deflated 7%)\n",
            "  adding: data/token_representations/UniRef50_A0A1F9H8U2.pt (deflated 7%)\n",
            "  adding: data/token_representations/UniRef50_A0A939JW26.pt (deflated 7%)\n",
            "  adding: data/token_representations/UniRef50_A0A9K3KGE3.pt (deflated 7%)\n",
            "  adding: data/token_representations/UniRef50_A0A1H5C4G1.pt (deflated 7%)\n",
            "  adding: data/token_representations/UniRef50_A0A6J4FNG1.pt (deflated 7%)\n",
            "  adding: data/token_representations/UniRef50_A0A395NL37.pt (deflated 7%)\n",
            "  adding: data/token_representations/UniRef50_UPI002796EFFF.pt (deflated 7%)\n",
            "  adding: data/token_representations/UniRef50_A0A699GG60.pt (deflated 7%)\n",
            "  adding: data/token_representations/UniRef50_A0A553NTJ3.pt (deflated 7%)\n",
            "  adding: data/token_representations/UniRef50_A0A6P0R7A4.pt (deflated 7%)\n",
            "  adding: data/token_representations/UniRef50_A0A482XVK8.pt (deflated 7%)\n",
            "  adding: data/token_representations/UniRef50_A0A0Q9WIK0.pt (deflated 7%)\n",
            "  adding: data/token_representations/UniRef50_A0A930XZR9.pt (deflated 7%)\n",
            "  adding: data/token_representations/UniRef50_UPI00083C0EF8.pt (deflated 7%)\n",
            "  adding: data/token_representations/UniRef50_A0A1Q5MSC0.pt (deflated 7%)\n",
            "  adding: data/token_representations/UniRef50_A0A8B7A5I7.pt (deflated 7%)\n",
            "  adding: data/token_representations/UniRef50_UPI0023AAAFEE.pt (deflated 7%)\n",
            "  adding: data/token_representations/UniRef50_A0A9W7WG47.pt (deflated 7%)\n",
            "  adding: data/token_representations/UniRef50_UPI0019623BAE.pt (deflated 7%)\n",
            "  adding: data/token_representations/UniRef50_A0A0J6S2T1.pt (deflated 7%)\n",
            "  adding: data/token_representations/UniRef50_A0A2C6KNW5.pt (deflated 7%)\n",
            "  adding: data/token_representations/UniRef50_UPI00136124B7.pt (deflated 7%)\n",
            "  adding: data/token_representations/UniRef50_A0A919SXJ2.pt (deflated 7%)\n",
            "  adding: data/token_representations/UniRef50_A0A7I7RMH0.pt (deflated 7%)\n",
            "  adding: data/token_representations/UniRef50_UPI00248EFE80.pt (deflated 7%)\n",
            "  adding: data/token_representations/UniRef50_A0A024GE98.pt (deflated 7%)\n",
            "  adding: data/token_representations/UniRef50_UPI001C71D80F.pt (deflated 7%)\n",
            "  adding: data/token_representations/UniRef50_UPI00260EC3CE.pt (deflated 7%)\n",
            "  adding: data/token_representations/UniRef50_A0A9P1FRG7.pt (deflated 7%)\n",
            "  adding: data/token_representations/UniRef50_A0A673ACF5.pt (deflated 7%)\n",
            "  adding: data/token_representations/UniRef50_A0A9Q0S9T5.pt (deflated 7%)\n",
            "  adding: data/token_representations/UniRef50_UPI00273B1906.pt (deflated 7%)\n",
            "  adding: data/token_representations/UniRef50_A0A672UII3.pt (deflated 7%)\n",
            "  adding: data/token_representations/UniRef50_UPI001A9D2249.pt (deflated 7%)\n",
            "  adding: data/token_representations/UniRef50_A0A913ZWA9.pt (deflated 7%)\n",
            "  adding: data/token_representations/UniRef50_A0A8J7U4J7.pt (deflated 7%)\n",
            "  adding: data/token_representations/UniRef50_A0A499UZ77.pt (deflated 7%)\n",
            "  adding: data/token_representations/UniRef50_A0A401R7K3.pt (deflated 7%)\n",
            "  adding: data/token_representations/UniRef50_A0A347U580.pt (deflated 7%)\n",
            "  adding: data/token_representations/UniRef50_A0A5A5T7G5.pt (deflated 7%)\n",
            "  adding: data/token_representations/UniRef50_A0A0G4HNR8.pt (deflated 7%)\n",
            "  adding: data/token_representations/UniRef50_A0A024XD77.pt (deflated 7%)\n",
            "  adding: data/token_representations/UniRef50_UPI000D630D62.pt (deflated 7%)\n",
            "  adding: data/token_representations/UniRef50_A0A917WRQ8.pt (deflated 7%)\n",
            "  adding: data/token_representations/UniRef50_UPI002257CA25.pt (deflated 7%)\n",
            "  adding: data/token_representations/UniRef50_A0A327QHX6.pt (deflated 7%)\n",
            "  adding: data/token_representations/UniRef50_A0A193KXX9.pt (deflated 7%)\n",
            "  adding: data/token_representations/UniRef50_A0A126P1B3.pt (deflated 7%)\n",
            "  adding: data/token_representations/UniRef50_A0A6A5VRS4.pt (deflated 7%)\n",
            "  adding: data/token_representations/UniRef50_A0A0F9UIV0.pt (deflated 7%)\n",
            "  adding: data/token_representations/UniRef50_UPI001ABF6563.pt (deflated 7%)\n",
            "  adding: data/token_representations/UniRef50_A0A0M0J712.pt (deflated 7%)\n",
            "  adding: data/token_representations/UniRef50_A0A2I4CYZ8.pt (deflated 7%)\n",
            "  adding: data/token_representations/UniRef50_A0A8T1TT08.pt (deflated 7%)\n",
            "  adding: data/token_representations/UniRef50_UPI0024B576BD.pt (deflated 7%)\n",
            "  adding: data/token_representations/UniRef50_A0A1S3SRA7.pt (deflated 7%)\n",
            "  adding: data/token_representations/UniRef50_A0A5K1DUN2.pt (deflated 8%)\n",
            "  adding: data/token_representations/UniRef50_UPI001C088E6D.pt (deflated 7%)\n",
            "  adding: data/token_representations/UniRef50_A0A5A8E8N2.pt (deflated 7%)\n",
            "  adding: data/token_representations/UniRef50_H7BX05.pt (deflated 7%)\n",
            "  adding: data/token_representations/UniRef50_A0A836B7M8.pt (deflated 7%)\n",
            "  adding: data/token_representations/UniRef50_A0A5C6EKC1.pt (deflated 7%)\n",
            "  adding: data/token_representations/UniRef50_A0A8S4P0T2.pt (deflated 7%)\n",
            "  adding: data/token_representations/UniRef50_A9UZ19.pt (deflated 7%)\n",
            "  adding: data/token_representations/UniRef50_A0A1M7ACJ7.pt (deflated 7%)\n",
            "  adding: data/token_representations/UniRef50_M9PEP8.pt (deflated 7%)\n",
            "  adding: data/token_representations/UniRef50_A0A2Y9G3B7.pt (deflated 7%)\n",
            "  adding: data/token_representations/UniRef50_UPI0020358143.pt (deflated 7%)\n",
            "  adding: data/token_representations/UniRef50_A0A2B4RXV7.pt (deflated 7%)\n",
            "  adding: data/token_representations/UniRef50_UPI00249A4A89.pt (deflated 7%)\n",
            "  adding: data/token_representations/UniRef50_A0A498S1D4.pt (deflated 7%)\n",
            "  adding: data/token_representations/UniRef50_A0A0B6AAI3.pt (deflated 7%)\n",
            "  adding: data/token_representations/UniRef50_A0A365XYA6.pt (deflated 7%)\n",
            "  adding: data/token_representations/UniRef50_A0A9E1BH13.pt (deflated 7%)\n",
            "  adding: data/token_representations/UniRef50_A0A7R9PTD5.pt (deflated 7%)\n",
            "  adding: data/token_representations/UniRef50_A0A803JQZ5.pt (deflated 7%)\n",
            "  adding: data/token_representations/UniRef50_A0A2A5HT22.pt (deflated 7%)\n",
            "  adding: data/token_representations/UniRef50_UPI00142E8CCB.pt (deflated 7%)\n",
            "  adding: data/token_representations/UniRef50_A0A1B0BFF4.pt (deflated 7%)\n",
            "  adding: data/token_representations/UniRef50_UPI002443E628.pt (deflated 7%)\n",
            "  adding: data/token_representations/UniRef50_UPI0011B793B9.pt (deflated 7%)\n",
            "  adding: data/token_representations/UniRef50_UPI0025A04287.pt (deflated 7%)\n",
            "  adding: data/token_representations/UniRef50_A0A1L9WZX9.pt (deflated 7%)\n",
            "  adding: data/token_representations/UniRef50_A0A060W9W1.pt (deflated 7%)\n",
            "  adding: data/token_representations/UniRef50_A0A8B8DW59.pt (deflated 7%)\n",
            "  adding: data/token_representations/UniRef50_A0A2K3E1Z3.pt (deflated 7%)\n",
            "  adding: data/token_representations/UniRef50_UPI001055C00F.pt (deflated 7%)\n",
            "  adding: data/token_representations/UniRef50_A0A2T5BYS9.pt (deflated 7%)\n",
            "  adding: data/token_representations/UniRef50_A0A2U9CVY8.pt (deflated 7%)\n",
            "  adding: data/token_representations/UniRef50_A0A5E6N7M1.pt (deflated 7%)\n",
            "  adding: data/token_representations/UniRef50_A0A2T7PKM3.pt (deflated 7%)\n",
            "  adding: data/token_representations/UniRef50_UPI0024743952.pt (deflated 7%)\n",
            "  adding: data/token_representations/UniRef50_A0A6A4RW85.pt (deflated 7%)\n",
            "  adding: data/token_representations/UniRef50_A0A232F5Z4.pt (deflated 7%)\n",
            "  adding: data/token_representations/UniRef50_UPI00210F6D9F.pt (deflated 7%)\n",
            "  adding: data/token_representations/UniRef50_UPI0018A825F1.pt (deflated 7%)\n",
            "  adding: data/token_representations/UniRef50_A0A2E4ZV63.pt (deflated 7%)\n",
            "  adding: data/token_representations/UniRef50_A0A8B7ZXJ9.pt (deflated 7%)\n",
            "  adding: data/token_representations/UniRef50_A0A1Y1IEY2.pt (deflated 7%)\n",
            "  adding: data/token_representations/UniRef50_A0A1L9SHA2.pt (deflated 7%)\n",
            "  adding: data/token_representations/UniRef50_UPI000C99DFDF.pt (deflated 7%)\n",
            "  adding: data/token_representations/UniRef50_A0A3G3IL20.pt (deflated 7%)\n",
            "  adding: data/token_representations/UniRef50_UPI000EAB3D75.pt (deflated 7%)\n",
            "  adding: data/token_representations/UniRef50_UPI001C89E378.pt (deflated 7%)\n",
            "  adding: data/token_representations/UniRef50_UPI0025B045BB.pt (deflated 7%)\n",
            "  adding: data/token_representations/UniRef50_A0A195CDD6.pt (deflated 7%)\n",
            "  adding: data/token_representations/UniRef50_A0A0A0DNF7.pt (deflated 7%)\n",
            "  adding: data/token_representations/UniRef50_UPI00210FC716.pt (deflated 7%)\n",
            "  adding: data/token_representations/UniRef50_A0A896WDU1.pt (deflated 7%)\n",
            "  adding: data/token_representations/UniRef50_A0A7K1V9R1.pt (deflated 7%)\n",
            "  adding: data/token_representations/UniRef50_A0A410WWQ4.pt (deflated 7%)\n",
            "  adding: data/token_representations/UniRef50_A0A1M2VRL1.pt (deflated 7%)\n",
            "  adding: data/token_representations/UniRef50_A0A418AWD2.pt (deflated 7%)\n",
            "  adding: data/token_representations/UniRef50_A0A5N6YP07.pt (deflated 7%)\n",
            "  adding: data/token_representations/UniRef50_A0A348AQQ9.pt (deflated 7%)\n",
            "  adding: data/token_representations/UniRef50_A0A086TLZ4.pt (deflated 7%)\n",
            "  adding: data/token_representations/UniRef50_A0A1G9SU24.pt (deflated 7%)\n",
            "  adding: data/token_representations/UniRef50_A0A3Q0FHT0.pt (deflated 7%)\n",
            "  adding: data/token_representations/UniRef50_A0A1L9RCD6.pt (deflated 7%)\n",
            "  adding: data/token_representations/UniRef50_H8MSC6.pt (deflated 7%)\n",
            "  adding: data/token_representations/UniRef50_A1DA53.pt (deflated 7%)\n",
            "  adding: data/token_representations/UniRef50_A0A1Y6CWK4.pt (deflated 7%)\n",
            "  adding: data/token_representations/UniRef50_A0A903XTT2.pt (deflated 7%)\n",
            "  adding: data/token_representations/UniRef50_A0A931G4B2.pt (deflated 7%)\n",
            "  adding: data/token_representations/UniRef50_UPI00186BB97D.pt (deflated 7%)\n",
            "  adding: data/token_representations/UniRef50_A0A086MQR5.pt (deflated 7%)\n",
            "  adding: data/token_representations/UniRef50_A0A517R108.pt (deflated 7%)\n",
            "  adding: data/token_representations/UniRef50_UPI0020D0411D.pt (deflated 7%)\n",
            "  adding: data/token_representations/UniRef50_A0A821NGC0.pt (deflated 7%)\n",
            "  adding: data/token_representations/UniRef50_B3RIJ8.pt (deflated 7%)\n",
            "  adding: data/token_representations/UniRef50_A0A1I8HTS2.pt (deflated 7%)\n",
            "  adding: data/token_representations/UniRef50_UPI000C782015.pt (deflated 7%)\n",
            "  adding: data/token_representations/UniRef50_A0A7R8Z1F2.pt (deflated 7%)\n",
            "  adding: data/token_representations/UniRef50_A0A8S3XRA6.pt (deflated 7%)\n",
            "  adding: data/token_representations/UniRef50_UPI0026300086.pt (deflated 7%)\n",
            "  adding: data/token_representations/UniRef50_A0A1H4SSA7.pt (deflated 7%)\n",
            "  adding: data/token_representations/UniRef50_A0A8S1F7G7.pt (deflated 7%)\n",
            "  adding: data/token_representations/UniRef50_UPI0019D12BF9.pt (deflated 7%)\n",
            "  adding: data/token_representations/UniRef50_A0A4S2AF69.pt (deflated 7%)\n",
            "  adding: data/token_representations/UniRef50_UPI000412726D.pt (deflated 7%)\n",
            "  adding: data/token_representations/UniRef50_A0A7I8VM31.pt (deflated 7%)\n",
            "  adding: data/token_representations/UniRef50_A0A0K0XXT0.pt (deflated 7%)\n",
            "  adding: data/token_representations/UniRef50_A0A2A9M8I4.pt (deflated 7%)\n",
            "  adding: data/token_representations/UniRef50_A0A8W8KTL2.pt (deflated 7%)\n",
            "  adding: data/token_representations/UniRef50_UPI0024068999.pt (deflated 7%)\n",
            "  adding: data/token_representations/UniRef50_A0A2A5CHZ5.pt (deflated 7%)\n",
            "  adding: data/token_representations/UniRef50_A0A5E4A9U3.pt (deflated 7%)\n",
            "  adding: data/token_representations/UniRef50_UPI00254E3760.pt (deflated 7%)\n",
            "  adding: data/token_representations/UniRef50_UPI001176250E.pt (deflated 7%)\n",
            "  adding: data/token_representations/UniRef50_A0A3M7TH11.pt (deflated 7%)\n",
            "  adding: data/token_representations/UniRef50_UPI00234EEFBB.pt (deflated 7%)\n",
            "  adding: data/token_representations/UniRef50_A0A1G1KTW0.pt (deflated 7%)\n",
            "  adding: data/token_representations/UniRef50_A0A8C7WHW2.pt (deflated 7%)\n",
            "  adding: data/token_representations/UniRef50_A0A2M9HTV8.pt (deflated 7%)\n",
            "  adding: data/token_representations/UniRef50_A0A914AFH9.pt (deflated 7%)\n",
            "  adding: data/token_representations/UniRef50_A0A7I8VMS8.pt (deflated 7%)\n",
            "  adding: data/token_representations/UniRef50_A0A815I7V5.pt (deflated 7%)\n",
            "  adding: data/token_representations/UniRef50_A0A2R8A7Y4.pt (deflated 7%)\n",
            "  adding: data/token_representations/UniRef50_A0A561S9I0.pt (deflated 7%)\n",
            "  adding: data/token_representations/UniRef50_A0A0S4JB47.pt (deflated 7%)\n",
            "  adding: data/token_representations/UniRef50_A0A9W6ZAL1.pt (deflated 7%)\n",
            "  adding: data/token_representations/UniRef50_A0A388KWQ6.pt (deflated 7%)\n",
            "  adding: data/token_representations/UniRef50_UPI001F341444.pt (deflated 7%)\n",
            "  adding: data/token_representations/UniRef50_A0A8J4GJT4.pt (deflated 7%)\n",
            "  adding: data/token_representations/UniRef50_A0A9R1W838.pt (deflated 7%)\n",
            "  adding: data/token_representations/UniRef50_A0A8J8M8W3.pt (deflated 7%)\n",
            "  adding: data/token_representations/UniRef50_A0A4V3CY57.pt (deflated 7%)\n",
            "  adding: data/token_representations/UniRef50_A0A0C5VK82.pt (deflated 7%)\n",
            "  adding: data/token_representations/UniRef50_A0A518IE17.pt (deflated 7%)\n",
            "  adding: data/token_representations/UniRef50_A0A388LUG3.pt (deflated 7%)\n",
            "  adding: data/token_representations/UniRef50_A0A0G4GY96.pt (deflated 7%)\n",
            "  adding: data/token_representations/UniRef50_A0A2T6FFJ9.pt (deflated 7%)\n",
            "  adding: data/token_representations/UniRef50_A0A975N1N2.pt (deflated 7%)\n",
            "  adding: data/token_representations/UniRef50_O54666.pt (deflated 7%)\n",
            "  adding: data/token_representations/UniRef50_UPI001184291B.pt (deflated 7%)\n",
            "  adding: data/token_representations/UniRef50_A0A1Q6IZ17.pt (deflated 7%)\n",
            "  adding: data/token_representations/UniRef50_UPI0021135456.pt (deflated 7%)\n",
            "  adding: data/token_representations/UniRef50_UPI00240654B4.pt (deflated 7%)\n",
            "  adding: data/token_representations/UniRef50_D3YXG0.pt (deflated 7%)\n",
            "  adding: data/token_representations/UniRef50_A0A8B0M7B9.pt (deflated 7%)\n",
            "  adding: data/token_representations/UniRef50_A0A516MLU2.pt (deflated 7%)\n",
            "  adding: data/token_representations/UniRef50_UPI0021805C8E.pt (deflated 7%)\n",
            "  adding: data/token_representations/UniRef50_G8SK12.pt (deflated 7%)\n",
            "  adding: data/token_representations/UniRef50_A0A8K1XCJ8.pt (deflated 7%)\n",
            "  adding: data/token_representations/UniRef50_UPI0024B7C2D1.pt (deflated 7%)\n",
            "  adding: data/token_representations/UniRef50_A0A0R3X5P1.pt (deflated 7%)\n",
            "  adding: data/token_representations/UniRef50_A0A8I2FV12.pt (deflated 7%)\n",
            "  adding: data/token_representations/UniRef50_A0A8C2Y4T2.pt (deflated 7%)\n",
            "  adding: data/token_representations/UniRef50_UPI0024E1E89E.pt (deflated 7%)\n",
            "  adding: data/token_representations/UniRef50_A0A7S0DVA6.pt (deflated 7%)\n",
            "  adding: data/token_representations/UniRef50_UPI000E0B1551.pt (deflated 7%)\n",
            "  adding: data/token_representations/UniRef50_UPI001CF273A2.pt (deflated 7%)\n",
            "  adding: data/token_representations/UniRef50_A0A556TRP0.pt (deflated 7%)\n",
            "  adding: data/token_representations/UniRef50_A0A2J0KUX0.pt (deflated 7%)\n",
            "  adding: data/token_representations/UniRef50_A0A8C7TGV3.pt (deflated 7%)\n",
            "  adding: data/token_representations/UniRef50_A0A9P3J2W2.pt (deflated 7%)\n",
            "  adding: data/token_representations/UniRef50_A0A0Q4LN61.pt (deflated 7%)\n",
            "  adding: data/token_representations/UniRef50_A0A0K8VP60.pt (deflated 7%)\n",
            "  adding: data/token_representations/UniRef50_A0A238ZZ02.pt (deflated 7%)\n",
            "  adding: data/token_representations/UniRef50_A0A8B7DKZ3.pt (deflated 7%)\n",
            "  adding: data/token_representations/UniRef50_A0A9J7IGQ8.pt (deflated 8%)\n",
            "  adding: data/token_representations/UniRef50_A0A7Y4B8D2.pt (deflated 7%)\n",
            "  adding: data/token_representations/UniRef50_A0A8H7EB80.pt (deflated 7%)\n",
            "  adding: data/token_representations/UniRef50_UPI000C20BAC3.pt (deflated 7%)\n",
            "  adding: data/token_representations/UniRef50_A0A8P4G808.pt (deflated 7%)\n",
            "  adding: data/token_representations/UniRef50_K2RQP2.pt (deflated 7%)\n",
            "  adding: data/token_representations/UniRef50_A0A1A0K2A1.pt (deflated 7%)\n",
            "  adding: data/token_representations/UniRef50_A0A9P0DMZ3.pt (deflated 7%)\n",
            "  adding: data/token_representations/UniRef50_UPI001898A662.pt (deflated 7%)\n",
            "  adding: data/token_representations/UniRef50_A0A1T4Y829.pt (deflated 7%)\n",
            "  adding: data/token_representations/UniRef50_A0A6I4LX00.pt (deflated 7%)\n",
            "  adding: data/token_representations/UniRef50_A0A7H8V0H6.pt (deflated 7%)\n",
            "  adding: data/token_representations/UniRef50_A0A919G8Y5.pt (deflated 7%)\n",
            "  adding: data/token_representations/UniRef50_UPI001906BF2C.pt (deflated 7%)\n",
            "  adding: data/token_representations/UniRef50_A0A2J8AD42.pt (deflated 7%)\n",
            "  adding: data/token_representations/UniRef50_A0A8J5VDE8.pt (deflated 7%)\n",
            "  adding: data/token_representations/UniRef50_A0A7Y4Z141.pt (deflated 7%)\n",
            "  adding: data/token_representations/UniRef50_A0A9R1W7P6.pt (deflated 7%)\n",
            "  adding: data/token_representations/UniRef50_UPI0025876F88.pt (deflated 7%)\n",
            "  adding: data/token_representations/UniRef50_A0A5Q0GX16.pt (deflated 7%)\n",
            "  adding: data/token_representations/UniRef50_UPI0021F67D8A.pt (deflated 7%)\n",
            "  adding: data/token_representations/UniRef50_UPI001175DE71.pt (deflated 7%)\n",
            "  adding: data/token_representations/UniRef50_UPI002254FAC7.pt (deflated 7%)\n",
            "  adding: data/token_representations/UniRef50_A0A1G4W218.pt (deflated 7%)\n",
            "  adding: data/token_representations/UniRef50_A0A6P1D3Z0.pt (deflated 7%)\n",
            "  adding: data/token_representations/UniRef50_UPI002242B11C.pt (deflated 7%)\n",
            "  adding: data/token_representations/UniRef50_A0A0M8WGV9.pt (deflated 7%)\n",
            "  adding: data/token_representations/UniRef50_A0A167E468.pt (deflated 7%)\n",
            "  adding: data/token_representations/UniRef50_D4GIP0.pt (deflated 7%)\n",
            "  adding: data/token_representations/UniRef50_A0A7N4PSF9.pt (deflated 7%)\n",
            "  adding: data/token_representations/UniRef50_A0A086JYB7.pt (deflated 7%)\n",
            "  adding: data/token_representations/UniRef50_UPI000C75F18E.pt (deflated 7%)\n",
            "  adding: data/token_representations/UniRef50_A0A818PJZ0.pt (deflated 7%)\n",
            "  adding: data/token_representations/UniRef50_A0A8T2IWC3.pt (deflated 7%)\n",
            "  adding: data/token_representations/UniRef50_A0A815C5Z0.pt (deflated 7%)\n",
            "  adding: data/token_representations/UniRef50_UPI0022269D53.pt (deflated 7%)\n",
            "  adding: data/token_representations/UniRef50_UPI001FE14BC5.pt (deflated 7%)\n",
            "  adding: data/token_representations/UniRef50_A0A7S0KLQ8.pt (deflated 7%)\n",
            "  adding: data/token_representations/UniRef50_A0A8R1I645.pt (deflated 7%)\n",
            "  adding: data/token_representations/UniRef50_A0A0S4TW17.pt (deflated 7%)\n",
            "  adding: data/token_representations/UniRef50_A0A931RY08.pt (deflated 7%)\n",
            "  adding: data/token_representations/UniRef50_A0A918JSB2.pt (deflated 7%)\n",
            "  adding: data/token_representations/UniRef50_A0A8B8BC13.pt (deflated 7%)\n",
            "  adding: data/token_representations/UniRef50_A0A1F3SLU2.pt (deflated 7%)\n",
            "  adding: data/token_representations/UniRef50_UPI0014472468.pt (deflated 7%)\n",
            "  adding: data/token_representations/UniRef50_A0A2G9S1T9.pt (deflated 7%)\n",
            "  adding: data/token_representations/UniRef50_UPI001EE5D7ED.pt (deflated 7%)\n",
            "  adding: data/token_representations/UniRef50_A0A1C3KTZ2.pt (deflated 7%)\n",
            "  adding: data/token_representations/UniRef50_A0A848LC89.pt (deflated 7%)\n",
            "  adding: data/token_representations/UniRef50_UPI001FF6D7CD.pt (deflated 7%)\n",
            "  adding: data/token_representations/UniRef50_UPI000903F313.pt (deflated 7%)\n",
            "  adding: data/token_representations/UniRef50_A0A6I8WDB3.pt (deflated 7%)\n",
            "  adding: data/token_representations/UniRef50_A0A815DCH3.pt (deflated 7%)\n",
            "  adding: data/token_representations/UniRef50_A0A0M9DXK2.pt (deflated 7%)\n",
            "  adding: data/token_representations/UniRef50_A0A0S4JBD6.pt (deflated 7%)\n",
            "  adding: data/token_representations/UniRef50_A0A369GS84.pt (deflated 7%)\n",
            "  adding: data/token_representations/UniRef50_UPI001CC56064.pt (deflated 7%)\n",
            "  adding: data/token_representations/UniRef50_UPI001F263CA6.pt (deflated 7%)\n",
            "  adding: data/token_representations/UniRef50_A0A8T2A5P9.pt (deflated 7%)\n",
            "  adding: data/token_representations/UniRef50_A0A2C9K9F3.pt (deflated 7%)\n",
            "  adding: data/token_representations/UniRef50_A0A6P7TGY3.pt (deflated 7%)\n",
            "  adding: data/token_representations/UniRef50_UPI0026F20EBE.pt (deflated 7%)\n",
            "  adding: data/token_representations/UniRef50_A0A1H3SD92.pt (deflated 7%)\n",
            "  adding: data/token_representations/UniRef50_A0A1Q3HJZ6.pt (deflated 7%)\n",
            "  adding: data/token_representations/UniRef50_A0A2B4S3D1.pt (deflated 7%)\n",
            "  adding: data/token_representations/UniRef50_A0A0Q8QP71.pt (deflated 7%)\n",
            "  adding: data/token_representations/UniRef50_A0A918N4T5.pt (deflated 7%)\n",
            "  adding: data/token_representations/UniRef50_UPI001E53F9E4.pt (deflated 7%)\n",
            "  adding: data/token_representations/UniRef50_UPI001ADDF984.pt (deflated 7%)\n",
            "  adding: data/token_representations/UniRef50_UPI00106D6115.pt (deflated 7%)\n",
            "  adding: data/token_representations/UniRef50_A0A538JKT9.pt (deflated 7%)\n",
            "  adding: data/token_representations/UniRef50_UPI001BDAD6AD.pt (deflated 7%)\n",
            "  adding: data/token_representations/UniRef50_A0A2T0SDU7.pt (deflated 7%)\n",
            "  adding: data/token_representations/UniRef50_A0A671XCM0.pt (deflated 7%)\n",
            "  adding: data/token_representations/UniRef50_A0A6M0SDN0.pt (deflated 7%)\n",
            "  adding: data/token_representations/UniRef50_A0A6N7YA00.pt (deflated 7%)\n",
            "  adding: data/token_representations/UniRef50_A0A8T1ZW10.pt (deflated 7%)\n",
            "  adding: data/token_representations/UniRef50_W7TRD9.pt (deflated 7%)\n",
            "  adding: data/token_representations/UniRef50_A0A3P1SK08.pt (deflated 7%)\n",
            "  adding: data/token_representations/UniRef50_A0A922HSF7.pt (deflated 7%)\n",
            "  adding: data/token_representations/UniRef50_A0A2U9AVQ4.pt (deflated 8%)\n",
            "  adding: data/token_representations/UniRef50_A0A848LHP0.pt (deflated 7%)\n",
            "  adding: data/token_representations/UniRef50_A0A232FAA8.pt (deflated 7%)\n",
            "  adding: data/token_representations/UniRef50_F2TZH1.pt (deflated 7%)\n",
            "  adding: data/token_representations/UniRef50_A0A066RLZ7.pt (deflated 7%)\n",
            "  adding: data/token_representations/UniRef50_UPI00242CCC99.pt (deflated 7%)\n",
            "  adding: data/token_representations/UniRef50_A0A5A8EDG9.pt (deflated 7%)\n",
            "  adding: data/token_representations/UniRef50_A0A5M9N927.pt (deflated 7%)\n",
            "  adding: data/token_representations/UniRef50_UPI001C0A5BFE.pt (deflated 7%)\n",
            "  adding: data/token_representations/UniRef50_G1PVG0.pt (deflated 7%)\n",
            "  adding: data/token_representations/UniRef50_UPI001E597EE3.pt (deflated 7%)\n",
            "  adding: data/token_representations/UniRef50_A0A903VB85.pt (deflated 7%)\n",
            "  adding: data/token_representations/UniRef50_A0A6N4X5S1.pt (deflated 7%)\n",
            "  adding: data/token_representations/UniRef50_A0A3G2JLB3.pt (deflated 7%)\n",
            "  adding: data/token_representations/UniRef50_A0A813II47.pt (deflated 7%)\n",
            "  adding: data/token_representations/UniRef50_UPI0011B5E3D7.pt (deflated 7%)\n",
            "  adding: data/token_representations/UniRef50_A0A8T5PW80.pt (deflated 7%)\n",
            "  adding: data/token_representations/UniRef50_A0A1Q9DCW8.pt (deflated 7%)\n",
            "  adding: data/token_representations/UniRef50_A0A7J6EVB9.pt (deflated 7%)\n",
            "  adding: data/token_representations/UniRef50_UPI0003748DFF.pt (deflated 7%)\n",
            "  adding: data/token_representations/UniRef50_A0A1J0R257.pt (deflated 7%)\n",
            "  adding: data/token_representations/UniRef50_A0A9P1FGH4.pt (deflated 7%)\n",
            "  adding: data/token_representations/UniRef50_A0A1W2TDT4.pt (deflated 7%)\n",
            "  adding: data/token_representations/UniRef50_A0A7V8F6E9.pt (deflated 7%)\n",
            "  adding: data/token_representations/UniRef50_A0A0N0VG78.pt (deflated 7%)\n",
            "  adding: data/token_representations/UniRef50_A0A949F9E0.pt (deflated 7%)\n",
            "  adding: data/token_representations/UniRef50_R7KA39.pt (deflated 7%)\n",
            "  adding: data/token_representations/UniRef50_A0A0M3ALP5.pt (deflated 7%)\n",
            "  adding: data/token_representations/UniRef50_A0A9N9Z0R0.pt (deflated 7%)\n",
            "  adding: data/token_representations/UniRef50_A0A839UNE9.pt (deflated 7%)\n",
            "  adding: data/token_representations/UniRef50_A0A2E6BWS5.pt (deflated 7%)\n",
            "  adding: data/token_representations/UniRef50_A0A6P7SJS2.pt (deflated 7%)\n",
            "  adding: data/token_representations/UniRef50_A0A1A2P9J4.pt (deflated 7%)\n",
            "  adding: data/token_representations/UniRef50_Q57YC6.pt (deflated 7%)\n",
            "  adding: data/token_representations/UniRef50_A0A167IT38.pt (deflated 7%)\n",
            "  adding: data/token_representations/UniRef50_A0A7W5AC85.pt (deflated 7%)\n",
            "  adding: data/token_representations/UniRef50_A0A5P2CVM3.pt (deflated 7%)\n",
            "  adding: data/token_representations/UniRef50_UPI001AAD8A0B.pt (deflated 7%)\n",
            "  adding: data/token_representations/UniRef50_UPI00148AA6E6.pt (deflated 7%)\n",
            "  adding: data/token_representations/UniRef50_I7LZY8.pt (deflated 7%)\n",
            "  adding: data/token_representations/UniRef50_A0A0J9TAS5.pt (deflated 7%)\n",
            "  adding: data/token_representations/UniRef50_A0A8B9LTG9.pt (deflated 7%)\n",
            "  adding: data/token_representations/UniRef50_UPI00067670F8.pt (deflated 7%)\n",
            "  adding: data/token_representations/UniRef50_C1FIX3.pt (deflated 7%)\n",
            "  adding: data/token_representations/UniRef50_UPI0021E76F76.pt (deflated 7%)\n",
            "  adding: data/token_representations/UniRef50_A0A814P1F6.pt (deflated 7%)\n",
            "  adding: data/token_representations/UniRef50_W7ARL1.pt (deflated 7%)\n",
            "  adding: data/token_representations/UniRef50_G6YMF1.pt (deflated 7%)\n",
            "  adding: data/token_representations/UniRef50_UPI001C9267B3.pt (deflated 7%)\n",
            "  adding: data/token_representations/UniRef50_UPI0015B249D8.pt (deflated 7%)\n",
            "  adding: data/token_representations/UniRef50_UPI001B889E4B.pt (deflated 7%)\n",
            "  adding: data/token_representations/UniRef50_A0A4S2LC38.pt (deflated 7%)\n",
            "  adding: data/token_representations/UniRef50_A0A249DW02.pt (deflated 7%)\n",
            "  adding: data/token_representations/UniRef50_UPI001CF9BE80.pt (deflated 7%)\n",
            "  adding: data/token_representations/UniRef50_A0A8B8EPL2.pt (deflated 7%)\n",
            "  adding: data/token_representations/UniRef50_Q4Q1T2.pt (deflated 7%)\n",
            "  adding: data/token_representations/UniRef50_A0A1H9P382.pt (deflated 7%)\n",
            "  adding: data/token_representations/UniRef50_UPI00272BB80C.pt (deflated 7%)\n",
            "  adding: data/token_representations/UniRef50_UPI002225BDCA.pt (deflated 7%)\n",
            "  adding: data/token_representations/UniRef50_A0A3R7PYS0.pt (deflated 7%)\n",
            "  adding: data/token_representations/UniRef50_A0A2T0T1W8.pt (deflated 7%)\n",
            "  adding: data/token_representations/UniRef50_A0A2R5GEQ2.pt (deflated 7%)\n",
            "  adding: data/token_representations/UniRef50_UPI0027BB017E.pt (deflated 7%)\n",
            "  adding: data/token_representations/UniRef50_A0A2K9CF85.pt (deflated 7%)\n",
            "  adding: data/token_representations/UniRef50_A0A2M8LWJ3.pt (deflated 7%)\n",
            "  adding: data/token_representations/UniRef50_A0A5C2CYX5.pt (deflated 7%)\n",
            "  adding: data/token_representations/UniRef50_A0A1I6RM00.pt (deflated 7%)\n",
            "  adding: data/token_representations/UniRef50_UPI0015904426.pt (deflated 7%)\n",
            "  adding: data/token_representations/UniRef50_D6WI48.pt (deflated 7%)\n",
            "  adding: data/token_representations/UniRef50_A0A158QW44.pt (deflated 7%)\n",
            "  adding: data/token_representations/UniRef50_A0A0P6J5D2.pt (deflated 7%)\n",
            "  adding: data/token_representations/UniRef50_UPI00214EC448.pt (deflated 7%)\n",
            "  adding: data/token_representations/UniRef50_A0A315ETH3.pt (deflated 7%)\n",
            "  adding: data/token_representations/UniRef50_A0A2K3DSA5.pt (deflated 7%)\n",
            "  adding: data/token_representations/UniRef50_A0A2R6WKH0.pt (deflated 7%)\n",
            "  adding: data/token_representations/UniRef50_A0A931ZDP1.pt (deflated 7%)\n",
            "  adding: data/token_representations/UniRef50_A0A1S3HIY5.pt (deflated 7%)\n",
            "  adding: data/token_representations/UniRef50_UPI0022E2D5DF.pt (deflated 7%)\n",
            "  adding: data/token_representations/UniRef50_A0A1P8WC83.pt (deflated 7%)\n",
            "  adding: data/token_representations/UniRef50_A0A1I1TA72.pt (deflated 7%)\n",
            "  adding: data/token_representations/UniRef50_A0A1N6DAC1.pt (deflated 7%)\n",
            "  adding: data/token_representations/UniRef50_A0A507FKF4.pt (deflated 7%)\n",
            "  adding: data/token_representations/UniRef50_UPI002242D9E7.pt (deflated 7%)\n",
            "  adding: data/token_representations/UniRef50_A0A1Z7YQV0.pt (deflated 7%)\n",
            "  adding: data/token_representations/UniRef50_A0A6J3J814.pt (deflated 7%)\n",
            "  adding: data/token_representations/UniRef50_A0A3E0AJL6.pt (deflated 7%)\n",
            "  adding: data/token_representations/UniRef50_A0A5S5CDM5.pt (deflated 7%)\n",
            "  adding: data/token_representations/UniRef50_F0W1K8.pt (deflated 7%)\n",
            "  adding: data/token_representations/UniRef50_A0A512AIN3.pt (deflated 7%)\n",
            "  adding: data/token_representations/UniRef50_A0A7R5KHC1.pt (deflated 7%)\n",
            "  adding: data/token_representations/UniRef50_A0A7M5TQU5.pt (deflated 7%)\n",
            "  adding: data/token_representations/UniRef50_A0A383WHX4.pt (deflated 7%)\n",
            "  adding: data/token_representations/UniRef50_A0A9Q2WKM0.pt (deflated 7%)\n",
            "  adding: data/token_representations/UniRef50_A0A318K220.pt (deflated 7%)\n",
            "  adding: data/token_representations/UniRef50_A0A131YML4.pt (deflated 7%)\n",
            "  adding: data/token_representations/UniRef50_A0A7R9DZQ1.pt (deflated 7%)\n",
            "  adding: data/token_representations/UniRef50_UPI001C258482.pt (deflated 7%)\n",
            "  adding: data/token_representations/UniRef50_H2MMH8.pt (deflated 7%)\n",
            "  adding: data/token_representations/UniRef50_UPI00138B0B99.pt (deflated 7%)\n",
            "  adding: data/token_representations/UniRef50_A0A7K0CPR4.pt (deflated 7%)\n",
            "  adding: data/token_representations/UniRef50_A0A2P6TE22.pt (deflated 7%)\n",
            "  adding: data/token_representations/UniRef50_UPI000D7274E7.pt (deflated 7%)\n",
            "  adding: data/token_representations/UniRef50_A0A3M6TA43.pt (deflated 7%)\n",
            "  adding: data/token_representations/UniRef50_UPI00227DC0A3.pt (deflated 7%)\n",
            "  adding: data/token_representations/UniRef50_A0A9P0AKB1.pt (deflated 7%)\n",
            "  adding: data/token_representations/UniRef50_A0A4U5MD72.pt (deflated 7%)\n",
            "  adding: data/token_representations/UniRef50_A0A7W8YY35.pt (deflated 7%)\n",
            "  adding: data/token_representations/UniRef50_A2CLL1.pt (deflated 7%)\n",
            "  adding: data/token_representations/UniRef50_UPI001C9A9CA8.pt (deflated 7%)\n",
            "  adding: data/token_representations/UniRef50_A0A7G8HDH1.pt (deflated 7%)\n",
            "  adding: data/token_representations/UniRef50_A0A8R2R473.pt (deflated 7%)\n",
            "  adding: data/token_representations/UniRef50_A0A915AGK9.pt (deflated 7%)\n",
            "  adding: data/token_representations/UniRef50_A0A7S2WLG6.pt (deflated 7%)\n",
            "  adding: data/token_representations/UniRef50_A0A9P1BEZ9.pt (deflated 7%)\n",
            "  adding: data/token_representations/UniRef50_A0A968W8B3.pt (deflated 7%)\n",
            "  adding: data/token_representations/UniRef50_A0A814PPR0.pt (deflated 7%)\n",
            "  adding: data/token_representations/UniRef50_UPI0025DA5DD2.pt (deflated 7%)\n",
            "  adding: data/token_representations/UniRef50_A0A7D8UBW1.pt (deflated 7%)\n",
            "  adding: data/token_representations/UniRef50_A0A6G6XP78.pt (deflated 7%)\n",
            "  adding: data/token_representations/UniRef50_A0A975TPW4.pt (deflated 7%)\n",
            "  adding: data/token_representations/UniRef50_UPI001E1C8DC5.pt (deflated 7%)\n",
            "  adding: data/token_representations/UniRef50_A0A158RDG7.pt (deflated 7%)\n",
            "  adding: data/token_representations/UniRef50_A0A2U9B570.pt (deflated 7%)\n",
            "  adding: data/token_representations/UniRef50_A0A7M7QV09.pt (deflated 7%)\n",
            "  adding: data/token_representations/UniRef50_A0A1Q9E6V3.pt (deflated 7%)\n",
            "  adding: data/token_representations/UniRef50_UPI002454417D.pt (deflated 7%)\n",
            "  adding: data/token_representations/UniRef50_UPI000D59F445.pt (deflated 7%)\n",
            "  adding: data/token_representations/UniRef50_UPI001BB1F3AE.pt (deflated 7%)\n",
            "  adding: data/token_representations/UniRef50_UPI001FEF9E9D.pt (deflated 7%)\n",
            "  adding: data/token_representations/UniRef50_A0A3S2PMG0.pt (deflated 7%)\n",
            "  adding: data/token_representations/UniRef50_A0A1Q9EB31.pt (deflated 7%)\n",
            "  adding: data/token_representations/UniRef50_A0A5A8C5V9.pt (deflated 7%)\n",
            "  adding: data/token_representations/UniRef50_UPI0019624FF4.pt (deflated 7%)\n",
            "  adding: data/token_representations/UniRef50_A0A2P6VLA1.pt (deflated 7%)\n",
            "  adding: data/token_representations/UniRef50_A0A812PN80.pt (deflated 7%)\n",
            "  adding: data/token_representations/UniRef50_A0A9P4CCW4.pt (deflated 7%)\n",
            "  adding: data/token_representations/UniRef50_A0A9X2LRD0.pt (deflated 7%)\n",
            "  adding: data/token_representations/UniRef50_A0A202DN20.pt (deflated 7%)\n",
            "  adding: data/token_representations/UniRef50_UPI001C71F653.pt (deflated 7%)\n",
            "  adding: data/token_representations/UniRef50_A0A2E2B165.pt (deflated 7%)\n",
            "  adding: data/token_representations/UniRef50_A0A1Q9E7P2.pt (deflated 7%)\n",
            "  adding: data/token_representations/UniRef50_A0A388KCQ1.pt (deflated 7%)\n",
            "  adding: data/token_representations/UniRef50_E5ESI2.pt (deflated 7%)\n",
            "  adding: data/token_representations/UniRef50_A0A2U1QC35.pt (deflated 7%)\n",
            "  adding: data/token_representations/UniRef50_C4RAI4.pt (deflated 7%)\n",
            "  adding: data/token_representations/UniRef50_A0A9X3DH10.pt (deflated 8%)\n",
            "  adding: data/token_representations/UniRef50_A0A6H5I002.pt (deflated 7%)\n",
            "  adding: data/token_representations/UniRef50_A0A3C1ESH0.pt (deflated 7%)\n",
            "  adding: data/token_representations/UniRef50_A0A257E986.pt (deflated 7%)\n",
            "  adding: data/token_representations/UniRef50_A0A6J2JMZ2.pt (deflated 7%)\n",
            "  adding: data/token_representations/UniRef50_A0A1Y1Y292.pt (deflated 7%)\n",
            "  adding: data/token_representations/UniRef50_UPI0024786A5C.pt (deflated 7%)\n",
            "  adding: data/token_representations/UniRef50_UPI0013587A81.pt (deflated 7%)\n",
            "  adding: data/token_representations/UniRef50_A0A2N2EG13.pt (deflated 7%)\n",
            "  adding: data/token_representations/UniRef50_UPI0024319803.pt (deflated 7%)\n",
            "  adding: data/token_representations/UniRef50_A0A1C0TJW9.pt (deflated 7%)\n",
            "  adding: data/token_representations/UniRef50_L8MXW6.pt (deflated 7%)\n",
            "  adding: data/token_representations/UniRef50_A0A1G4PCU9.pt (deflated 7%)\n",
            "  adding: data/token_representations/UniRef50_A0A0D2N5T7.pt (deflated 7%)\n",
            "  adding: data/token_representations/UniRef50_UPI001C401806.pt (deflated 7%)\n",
            "  adding: data/token_representations/UniRef50_A0A2U2PK54.pt (deflated 7%)\n",
            "  adding: data/token_representations/UniRef50_UPI002624CDF3.pt (deflated 7%)\n",
            "  adding: data/token_representations/UniRef50_A0A6J2SVI8.pt (deflated 7%)\n",
            "  adding: data/token_representations/UniRef50_A0A5R8PE57.pt (deflated 7%)\n",
            "  adding: data/token_representations/UniRef50_UPI000D0C8457.pt (deflated 7%)\n",
            "  adding: data/token_representations/UniRef50_A0A8I3W891.pt (deflated 7%)\n",
            "  adding: data/token_representations/UniRef50_UPI00202FF63D.pt (deflated 7%)\n",
            "  adding: data/token_representations/UniRef50_A0A9F7R2Z3.pt (deflated 7%)\n",
            "  adding: data/token_representations/UniRef50_A0A0F7ZHE7.pt (deflated 7%)\n",
            "  adding: data/token_representations/UniRef50_A0A9N7KZL1.pt (deflated 7%)\n",
            "  adding: data/token_representations/UniRef50_A0A515XXP6.pt (deflated 7%)\n",
            "  adding: data/token_representations/UniRef50_A0A285L8F2.pt (deflated 7%)\n",
            "  adding: data/token_representations/UniRef50_A0A0Q3U1F8.pt (deflated 7%)\n",
            "  adding: data/token_representations/UniRef50_A0A2S8GQE1.pt (deflated 7%)\n",
            "  adding: data/token_representations/UniRef50_A0A954UHY6.pt (deflated 7%)\n",
            "  adding: data/token_representations/UniRef50_A0A8I6AAE1.pt (deflated 7%)\n",
            "  adding: data/token_representations/UniRef50_D8PXL7.pt (deflated 7%)\n",
            "  adding: data/token_representations/UniRef50_A0A5B9WRA4.pt (deflated 7%)\n",
            "  adding: data/token_representations/UniRef50_A0A7I0ZYW4.pt (deflated 7%)\n",
            "  adding: data/token_representations/UniRef50_A0A1I8JIU0.pt (deflated 7%)\n",
            "  adding: data/token_representations/UniRef50_UPI0020BF74AD.pt (deflated 7%)\n",
            "  adding: data/token_representations/UniRef50_A0A2N3MZW9.pt (deflated 7%)\n",
            "  adding: data/token_representations/UniRef50_F2TZI1.pt (deflated 7%)\n",
            "  adding: data/token_representations/UniRef50_UPI00223E35BD.pt (deflated 7%)\n",
            "  adding: data/token_representations/UniRef50_A0A2N8NVE9.pt (deflated 7%)\n",
            "  adding: data/token_representations/UniRef50_A0A0Q6KBY9.pt (deflated 7%)\n",
            "  adding: data/token_representations/UniRef50_UPI00244E913A.pt (deflated 7%)\n",
            "  adding: data/token_representations/UniRef50_A0A0N0CPX1.pt (deflated 7%)\n",
            "  adding: data/token_representations/UniRef50_UPI0024456481.pt (deflated 7%)\n",
            "  adding: data/token_representations/UniRef50_UPI0020B2BD7D.pt (deflated 7%)\n",
            "  adding: data/token_representations/UniRef50_UPI001CD3A12D.pt (deflated 7%)\n",
            "  adding: data/token_representations/UniRef50_UPI001ED8AD4B.pt (deflated 7%)\n",
            "  adding: data/token_representations/UniRef50_UPI0024568D53.pt (deflated 7%)\n",
            "  adding: data/token_representations/UniRef50_A0A8K1FC97.pt (deflated 7%)\n",
            "  adding: data/token_representations/UniRef50_A0A2J7RJ17.pt (deflated 7%)\n",
            "  adding: data/token_representations/UniRef50_A0A8S4BVR5.pt (deflated 7%)\n",
            "  adding: data/token_representations/UniRef50_UPI001BB1181B.pt (deflated 7%)\n",
            "  adding: data/token_representations/UniRef50_A0A9N8L596.pt (deflated 7%)\n",
            "  adding: data/token_representations/UniRef50_D8U3I3.pt (deflated 7%)\n",
            "  adding: data/token_representations/UniRef50_UPI002445E904.pt (deflated 7%)\n",
            "  adding: data/token_representations/UniRef50_UPI00230616B0.pt (deflated 7%)\n",
            "  adding: data/token_representations/UniRef50_A0A2E7D2G8.pt (deflated 7%)\n",
            "  adding: data/token_representations/UniRef50_D2VMG7.pt (deflated 7%)\n",
            "  adding: data/token_representations/UniRef50_A0CPI6.pt (deflated 7%)\n",
            "  adding: data/token_representations/UniRef50_A0A8D2LPM8.pt (deflated 7%)\n",
            "  adding: data/token_representations/UniRef50_UPI0009E5E2B1.pt (deflated 7%)\n",
            "  adding: data/token_representations/UniRef50_UPI0018F5B505.pt (deflated 7%)\n",
            "  adding: data/token_representations/UniRef50_A0A4V1XVG6.pt (deflated 7%)\n",
            "  adding: data/token_representations/UniRef50_A0A8X7XC85.pt (deflated 7%)\n",
            "  adding: data/token_representations/UniRef50_A0A074ZAX9.pt (deflated 7%)\n",
            "  adding: data/token_representations/UniRef50_A0A974U760.pt (deflated 7%)\n",
            "  adding: data/token_representations/UniRef50_A0A9P1IFH5.pt (deflated 7%)\n",
            "  adding: data/token_representations/UniRef50_A0A961GZS1.pt (deflated 7%)\n",
            "  adding: data/token_representations/UniRef50_A0A818W485.pt (deflated 7%)\n",
            "  adding: data/token_representations/UniRef50_A0A914CPZ3.pt (deflated 7%)\n",
            "  adding: data/token_representations/UniRef50_UPI002495824C.pt (deflated 7%)\n",
            "  adding: data/token_representations/UniRef50_A0A2E4EDG1.pt (deflated 7%)\n",
            "  adding: data/token_representations/UniRef50_A0A6B2EIQ7.pt (deflated 7%)\n",
            "  adding: data/token_representations/UniRef50_A0A7C4IHI1.pt (deflated 7%)\n",
            "  adding: data/token_representations/UniRef50_A0A9N9XCX7.pt (deflated 7%)\n",
            "  adding: data/token_representations/UniRef50_A0A653GZN9.pt (deflated 7%)\n",
            "  adding: data/token_representations/UniRef50_A0A817FFU1.pt (deflated 7%)\n",
            "  adding: data/token_representations/UniRef50_A0A838B574.pt (deflated 7%)\n",
            "  adding: data/token_representations/UniRef50_A0A1G9YQ05.pt (deflated 7%)\n",
            "  adding: data/token_representations/UniRef50_A0A8R1U5C0.pt (deflated 7%)\n",
            "  adding: data/token_representations/UniRef50_UPI001E3CF0E1.pt (deflated 7%)\n",
            "  adding: data/token_representations/UniRef50_M5T7W8.pt (deflated 7%)\n",
            "  adding: data/token_representations/UniRef50_A0A8G0L913.pt (deflated 7%)\n",
            "  adding: data/token_representations/UniRef50_UPI0024B27737.pt (deflated 7%)\n",
            "  adding: data/token_representations/UniRef50_UPI001E1D09C9.pt (deflated 7%)\n",
            "  adding: data/token_representations/UniRef50_UPI00200034C9.pt (deflated 7%)\n",
            "  adding: data/token_representations/UniRef50_A0A1Y0FSZ2.pt (deflated 7%)\n",
            "  adding: data/token_representations/UniRef50_A0A2C9U783.pt (deflated 7%)\n",
            "  adding: data/token_representations/UniRef50_A0A7M7MME5.pt (deflated 7%)\n",
            "  adding: data/token_representations/UniRef50_A0A812BML8.pt (deflated 7%)\n",
            "  adding: data/token_representations/UniRef50_A0A2N3JEQ5.pt (deflated 7%)\n",
            "  adding: data/token_representations/UniRef50_A0A2A4KAM8.pt (deflated 7%)\n",
            "  adding: data/token_representations/UniRef50_A0A8S1BJV3.pt (deflated 7%)\n",
            "  adding: data/token_representations/UniRef50_UPI000E591BA1.pt (deflated 7%)\n",
            "  adding: data/token_representations/UniRef50_A0A1I8J0A4.pt (deflated 7%)\n",
            "  adding: data/token_representations/UniRef50_A0A8X6IYS9.pt (deflated 7%)\n",
            "  adding: data/token_representations/UniRef50_A0A554G5C4.pt (deflated 7%)\n",
            "  adding: data/token_representations/UniRef50_A8LV91.pt (deflated 7%)\n",
            "  adding: data/token_representations/UniRef50_A0A7M7SSH1.pt (deflated 7%)\n",
            "  adding: data/token_representations/UniRef50_A0A814RUA2.pt (deflated 7%)\n",
            "  adding: data/token_representations/UniRef50_A0A3G3IJQ8.pt (deflated 7%)\n",
            "  adding: data/token_representations/UniRef50_A0A158NVR4.pt (deflated 7%)\n",
            "  adding: data/token_representations/UniRef50_A0A504X6P9.pt (deflated 7%)\n",
            "  adding: data/token_representations/UniRef50_A0A6F9CFD0.pt (deflated 7%)\n",
            "  adding: data/token_representations/UniRef50_UPI002113730C.pt (deflated 7%)\n",
            "  adding: data/token_representations/UniRef50_UPI0020369250.pt (deflated 7%)\n",
            "  adding: data/token_representations/UniRef50_A0A0H4CDL3.pt (deflated 7%)\n",
            "  adding: data/token_representations/UniRef50_UPI000A2B3DF5.pt (deflated 7%)\n",
            "  adding: data/token_representations/UniRef50_A0A808VW73.pt (deflated 7%)\n",
            "  adding: data/token_representations/UniRef50_A0A974PWI9.pt (deflated 7%)\n",
            "  adding: data/token_representations/UniRef50_UPI0022B6AA0B.pt (deflated 7%)\n",
            "  adding: data/token_representations/UniRef50_A0A927M8P6.pt (deflated 7%)\n",
            "  adding: data/token_representations/UniRef50_K7F3G7.pt (deflated 7%)\n",
            "  adding: data/token_representations/UniRef50_A0A7W7QWN9.pt (deflated 7%)\n",
            "  adding: data/token_representations/UniRef50_F4PHL9.pt (deflated 7%)\n",
            "  adding: data/token_representations/UniRef50_A0A6B0QQP8.pt (deflated 7%)\n",
            "  adding: data/token_representations/UniRef50_F3ZBA2.pt (deflated 7%)\n",
            "  adding: data/token_representations/UniRef50_UPI0008375399.pt (deflated 7%)\n",
            "  adding: data/token_representations/UniRef50_A0A9P1HSQ4.pt (deflated 7%)\n",
            "  adding: data/token_representations/UniRef50_A0A835WTI2.pt (deflated 7%)\n",
            "  adding: data/token_representations/UniRef50_A0A433NWG9.pt (deflated 7%)\n",
            "  adding: data/token_representations/UniRef50_A0A7D6CFI2.pt (deflated 7%)\n",
            "  adding: data/token_representations/UniRef50_UPI0018F246FC.pt (deflated 7%)\n",
            "  adding: data/token_representations/UniRef50_UPI00226FB755.pt (deflated 7%)\n",
            "  adding: data/token_representations/UniRef50_UPI001E2A08DF.pt (deflated 7%)\n",
            "  adding: data/token_representations/UniRef50_A0A6S6VU49.pt (deflated 7%)\n",
            "  adding: data/token_representations/UniRef50_UPI000A51DD52.pt (deflated 7%)\n",
            "  adding: data/token_representations/UniRef50_A0A5N5N263.pt (deflated 7%)\n",
            "  adding: data/token_representations/UniRef50_A0A8H5ZLV2.pt (deflated 7%)\n",
            "  adding: data/token_representations/UniRef50_A0A3M7TFR2.pt (deflated 7%)\n",
            "  adding: data/token_representations/UniRef50_A0A7W2UT63.pt (deflated 7%)\n",
            "  adding: data/token_representations/UniRef50_A0A250XAE2.pt (deflated 7%)\n",
            "  adding: data/token_representations/UniRef50_UPI00247B055F.pt (deflated 7%)\n",
            "  adding: data/token_representations/UniRef50_A0A6L2PV82.pt (deflated 7%)\n",
            "  adding: data/token_representations/UniRef50_A0A5B7V4F4.pt (deflated 7%)\n",
            "  adding: data/token_representations/UniRef50_A0A2K9JUT7.pt (deflated 7%)\n",
            "  adding: data/token_representations/UniRef50_A0A164ZXX5.pt (deflated 7%)\n",
            "  adding: data/token_representations/UniRef50_B3TMQ7.pt (deflated 7%)\n",
            "  adding: data/token_representations/UniRef50_UPI00245709BD.pt (deflated 7%)\n",
            "  adding: data/token_representations/UniRef50_A0A0U1YZA2.pt (deflated 7%)\n",
            "  adding: data/token_representations/UniRef50_A0A9D4YV47.pt (deflated 7%)\n",
            "  adding: data/token_representations/UniRef50_A0A819LKS5.pt (deflated 7%)\n",
            "  adding: data/token_representations/UniRef50_A0A814LHL2.pt (deflated 7%)\n",
            "  adding: data/token_representations/UniRef50_A0A836B6N1.pt (deflated 7%)\n",
            "  adding: data/token_representations/UniRef50_W6L6S9.pt (deflated 7%)\n",
            "  adding: data/token_representations/UniRef50_A0A431IEI0.pt (deflated 7%)\n",
            "  adding: data/token_representations/UniRef50_UPI0009D6CC14.pt (deflated 7%)\n",
            "  adding: data/token_representations/UniRef50_J9EHD7.pt (deflated 7%)\n",
            "  adding: data/token_representations/UniRef50_A0A817TX69.pt (deflated 7%)\n",
            "  adding: data/token_representations/UniRef50_UPI0007AD5978.pt (deflated 7%)\n",
            "  adding: data/token_representations/UniRef50_A0A9X4BK03.pt (deflated 7%)\n",
            "  adding: data/token_representations/UniRef50_A0A366DHW2.pt (deflated 7%)\n",
            "  adding: data/token_representations/UniRef50_A0A5K4FB61.pt (deflated 7%)\n",
            "  adding: data/token_representations/UniRef50_A0A420J3Z5.pt (deflated 7%)\n",
            "  adding: data/token_representations/UniRef50_A0A1Q9EH80.pt (deflated 7%)\n",
            "  adding: data/token_representations/UniRef50_UPI0025B48C5A.pt (deflated 7%)\n",
            "  adding: data/token_representations/UniRef50_A0A365HBE1.pt (deflated 7%)\n",
            "  adding: data/token_representations/UniRef50_A0A0L8IAF8.pt (deflated 7%)\n",
            "  adding: data/token_representations/UniRef50_A0A3P3YIQ6.pt (deflated 7%)\n",
            "  adding: data/token_representations/UniRef50_UPI0009FEBF5C.pt (deflated 7%)\n",
            "  adding: data/token_representations/UniRef50_A0A2E7EGL4.pt (deflated 7%)\n",
            "  adding: data/token_representations/UniRef50_A0A7M7IWM3.pt (deflated 7%)\n",
            "  adding: data/token_representations/UniRef50_A0A365XVZ6.pt (deflated 7%)\n",
            "  adding: data/token_representations/UniRef50_A0A1J1HFZ7.pt (deflated 7%)\n",
            "  adding: data/token_representations/UniRef50_UPI00266B6688.pt (deflated 7%)\n",
            "  adding: data/token_representations/UniRef50_K7GJQ3.pt (deflated 7%)\n",
            "  adding: data/token_representations/UniRef50_UPI00099B8809.pt (deflated 7%)\n",
            "  adding: data/token_representations/UniRef50_UPI002247A0DE.pt (deflated 7%)\n",
            "  adding: data/token_representations/UniRef50_A0A6G9Y737.pt (deflated 7%)\n",
            "  adding: data/token_representations/UniRef50_A0A239QF71.pt (deflated 7%)\n",
            "  adding: data/token_representations/UniRef50_A0A949T873.pt (deflated 7%)\n",
            "  adding: data/token_representations/UniRef50_O93321.pt (deflated 7%)\n",
            "  adding: data/token_representations/UniRef50_C3GTB5.pt (deflated 7%)\n",
            "  adding: data/token_representations/UniRef50_A0A1V2IH89.pt (deflated 7%)\n",
            "  adding: data/token_representations/UniRef50_A0A2D6TS22.pt (deflated 7%)\n",
            "  adding: data/token_representations/UniRef50_A0A263DWT3.pt (deflated 7%)\n",
            "  adding: data/token_representations/UniRef50_A0A0E1SH30.pt (deflated 7%)\n",
            "  adding: data/token_representations/UniRef50_A0A1U9R5E3.pt (deflated 7%)\n",
            "  adding: data/token_representations/UniRef50_A0A519YZJ3.pt (deflated 7%)\n",
            "  adding: data/token_representations/UniRef50_G8RR88.pt (deflated 7%)\n",
            "  adding: data/token_representations/UniRef50_A0A7W7Q3X2.pt (deflated 7%)\n",
            "  adding: data/token_representations/UniRef50_A0A7W5BDY5.pt (deflated 7%)\n",
            "  adding: data/token_representations/UniRef50_A0A919T1I3.pt (deflated 7%)\n",
            "  adding: data/token_representations/UniRef50_A5K9D5.pt (deflated 7%)\n",
            "  adding: data/token_representations/UniRef50_A0A7S4E9T8.pt (deflated 7%)\n",
            "  adding: data/token_representations/UniRef50_UPI001787AD11.pt (deflated 7%)\n",
            "  adding: data/token_representations/UniRef50_A0A1A9W7E5.pt (deflated 7%)\n",
            "  adding: data/token_representations/UniRef50_A0A1F9VD22.pt (deflated 7%)\n",
            "  adding: data/token_representations/UniRef50_UPI002243B962.pt (deflated 7%)\n",
            "  adding: data/token_representations/UniRef50_A0A9W7CK58.pt (deflated 7%)\n",
            "  adding: data/token_representations/UniRef50_A0A9D4R5G4.pt (deflated 8%)\n",
            "  adding: data/token_representations/UniRef50_A0A8C0GFB6.pt (deflated 7%)\n",
            "  adding: data/token_representations/UniRef50_A0A0D9NTP6.pt (deflated 7%)\n",
            "  adding: data/token_representations/UniRef50_A0A3N4JUJ3.pt (deflated 7%)\n",
            "  adding: data/token_representations/UniRef50_B4D5R1.pt (deflated 7%)\n",
            "  adding: data/token_representations/UniRef50_A0A521WTA2.pt (deflated 7%)\n",
            "  adding: data/token_representations/UniRef50_UPI00201F3218.pt (deflated 7%)\n",
            "  adding: data/token_representations/UniRef50_A0A1H9P3J9.pt (deflated 7%)\n",
            "  adding: data/token_representations/UniRef50_A0A119A8H0.pt (deflated 7%)\n",
            "  adding: data/token_representations/UniRef50_A0A9P1A7H0.pt (deflated 7%)\n",
            "  adding: data/token_representations/UniRef50_A0A8J2HM67.pt (deflated 7%)\n",
            "  adding: data/token_representations/UniRef50_A0A2S2F9V6.pt (deflated 7%)\n",
            "  adding: data/token_representations/UniRef50_A0A482XL73.pt (deflated 7%)\n",
            "  adding: data/token_representations/UniRef50_A0A3B7MKZ3.pt (deflated 7%)\n",
            "  adding: data/token_representations/UniRef50_A0A8C8EUI9.pt (deflated 7%)\n",
            "  adding: data/token_representations/UniRef50_M5S7G8.pt (deflated 7%)\n",
            "  adding: data/token_representations/UniRef50_A0A918KBD4.pt (deflated 7%)\n",
            "  adding: data/token_representations/UniRef50_UPI00146EA47C.pt (deflated 7%)\n",
            "  adding: data/token_representations/UniRef50_A0A957BGJ0.pt (deflated 7%)\n",
            "  adding: data/token_representations/UniRef50_UPI001C9226C4.pt (deflated 7%)\n",
            "  adding: data/token_representations/UniRef50_A0A834ME12.pt (deflated 7%)\n",
            "  adding: data/token_representations/UniRef50_A0A344LHI8.pt (deflated 7%)\n",
            "  adding: data/token_representations/UniRef50_UPI001781359B.pt (deflated 7%)\n",
            "  adding: data/token_representations/UniRef50_A0A7J7WHI8.pt (deflated 7%)\n",
            "  adding: data/token_representations/UniRef50_A0A7C6X0F3.pt (deflated 7%)\n",
            "  adding: data/token_representations/UniRef50_S4XYD3.pt (deflated 7%)\n",
            "  adding: data/token_representations/UniRef50_A0A6J2SY60.pt (deflated 7%)\n",
            "  adding: data/token_representations/UniRef50_A0A653CFS7.pt (deflated 7%)\n",
            "  adding: data/token_representations/UniRef50_A0A3A9Z190.pt (deflated 7%)\n",
            "  adding: data/token_representations/UniRef50_A0A0V0R9F2.pt (deflated 7%)\n",
            "  adding: data/token_representations/UniRef50_A0A6A3JSZ5.pt (deflated 8%)\n",
            "  adding: data/token_representations/UniRef50_A0A518CTM9.pt (deflated 7%)\n",
            "  adding: data/token_representations/UniRef50_UPI001FFED7E0.pt (deflated 7%)\n",
            "  adding: data/token_representations/UniRef50_A0A944TDR4.pt (deflated 7%)\n",
            "  adding: data/token_representations/UniRef50_A0A8K9UTV0.pt (deflated 7%)\n",
            "  adding: data/token_representations/UniRef50_UPI001303BE00.pt (deflated 7%)\n",
            "  adding: data/token_representations/UniRef50_R7GGE9.pt (deflated 7%)\n",
            "  adding: data/token_representations/UniRef50_UPI0025A525ED.pt (deflated 7%)\n",
            "  adding: data/token_representations/UniRef50_A0A8N5F519.pt (deflated 7%)\n",
            "  adding: data/token_representations/UniRef50_A0A5E4MVU9.pt (deflated 7%)\n",
            "  adding: data/token_representations/UniRef50_A0A3E1E7P0.pt (deflated 7%)\n",
            "  adding: data/token_representations/UniRef50_A0A166PAH6.pt (deflated 7%)\n",
            "  adding: data/token_representations/UniRef50_A0A1X7VN07.pt (deflated 7%)\n",
            "  adding: data/token_representations/UniRef50_A0A922MNG9.pt (deflated 7%)\n",
            "  adding: data/token_representations/UniRef50_UPI00201E92C5.pt (deflated 7%)\n",
            "  adding: data/token_representations/UniRef50_A0A8S1C321.pt (deflated 7%)\n",
            "  adding: data/token_representations/UniRef50_A0A0K2VBF3.pt (deflated 7%)\n",
            "  adding: data/token_representations/UniRef50_A0A5A8DWL6.pt (deflated 7%)\n",
            "  adding: data/token_representations/UniRef50_C5BN78.pt (deflated 7%)\n",
            "  adding: data/token_representations/UniRef50_A0A1B7XU16.pt (deflated 7%)\n",
            "  adding: data/token_representations/UniRef50_A0A813ABL0.pt (deflated 7%)\n",
            "  adding: data/token_representations/UniRef50_G4UBN7.pt (deflated 7%)\n",
            "  adding: data/token_representations/UniRef50_A0A016UW58.pt (deflated 7%)\n",
            "  adding: data/token_representations/UniRef50_UPI00266CE0F1.pt (deflated 7%)\n",
            "  adding: data/token_representations/UniRef50_B5ZBW6.pt (deflated 7%)\n",
            "  adding: data/token_representations/UniRef50_UPI000B231400.pt (deflated 7%)\n",
            "  adding: data/token_representations/UniRef50_A0A942HFV1.pt (deflated 7%)\n",
            "  adding: data/token_representations/UniRef50_E2BM23.pt (deflated 7%)\n",
            "  adding: data/token_representations/UniRef50_UPI0021F347FB.pt (deflated 7%)\n",
            "  adding: data/token_representations/UniRef50_A0A1S3FPW5.pt (deflated 7%)\n",
            "  adding: data/token_representations/UniRef50_D6ZJT4.pt (deflated 7%)\n",
            "  adding: data/token_representations/UniRef50_A0A9P0G4B7.pt (deflated 7%)\n",
            "  adding: data/token_representations/UniRef50_A0A0A2VW33.pt (deflated 7%)\n",
            "  adding: data/token_representations/UniRef50_A0A4Q9LD69.pt (deflated 7%)\n",
            "  adding: data/token_representations/UniRef50_A0A7L5T7Z5.pt (deflated 7%)\n",
            "  adding: data/token_representations/UniRef50_UPI002452E7C8.pt (deflated 7%)\n",
            "  adding: data/token_representations/UniRef50_UPI001E6737B7.pt (deflated 7%)\n",
            "  adding: data/token_representations/UniRef50_A0A9D8JCL0.pt (deflated 7%)\n",
            "  adding: data/token_representations/UniRef50_UPI0004AC0F6C.pt (deflated 7%)\n",
            "  adding: data/token_representations/UniRef50_A0A955AIG8.pt (deflated 7%)\n",
            "  adding: data/token_representations/UniRef50_UPI001BB2CA0E.pt (deflated 7%)\n",
            "  adding: data/token_representations/UniRef50_A0A518FN76.pt (deflated 7%)\n",
            "  adding: data/token_representations/UniRef50_UPI0020A37240.pt (deflated 7%)\n",
            "  adding: data/token_representations/UniRef50_UPI001F32AFC7.pt (deflated 7%)\n",
            "  adding: data/token_representations/UniRef50_Q2IXV9.pt (deflated 7%)\n",
            "  adding: data/token_representations/UniRef50_A0A379ESK8.pt (deflated 7%)\n",
            "  adding: data/token_representations/UniRef50_UPI001FED9321.pt (deflated 7%)\n",
            "  adding: data/token_representations/UniRef50_A0A1Q9F7K5.pt (deflated 7%)\n",
            "  adding: data/token_representations/UniRef50_A0A3N2QW12.pt (deflated 7%)\n",
            "  adding: data/token_representations/UniRef50_A0A8S3WGU7.pt (deflated 7%)\n",
            "  adding: data/token_representations/UniRef50_A0A7W7YG86.pt (deflated 7%)\n",
            "  adding: data/token_representations/UniRef50_A0A292A8M6.pt (deflated 7%)\n",
            "  adding: data/token_representations/UniRef50_UPI0005E97B84.pt (deflated 7%)\n",
            "  adding: data/token_representations/UniRef50_C4JQC3.pt (deflated 7%)\n",
            "  adding: data/token_representations/UniRef50_A0A0V1JS26.pt (deflated 7%)\n",
            "  adding: data/token_representations/UniRef50_C1EDQ4.pt (deflated 7%)\n",
            "  adding: data/token_representations/UniRef50_A0A1S3IQQ5.pt (deflated 7%)\n",
            "  adding: data/token_representations/UniRef50_UPI0022B1AB75.pt (deflated 7%)\n",
            "  adding: data/token_representations/UniRef50_A0A9E2FHQ1.pt (deflated 7%)\n",
            "  adding: data/token_representations/UniRef50_Q01886.pt (deflated 7%)\n",
            "  adding: data/token_representations/UniRef50_A0A2V7VX19.pt (deflated 7%)\n",
            "  adding: data/token_representations/UniRef50_A0A445FLY1.pt (deflated 7%)\n",
            "  adding: data/token_representations/UniRef50_A0A507FK68.pt (deflated 7%)\n",
            "  adding: data/token_representations/UniRef50_UPI002675B764.pt (deflated 7%)\n",
            "  adding: data/token_representations/UniRef50_A0A6I8MCC1.pt (deflated 7%)\n",
            "  adding: data/token_representations/UniRef50_A0A932CMA1.pt (deflated 7%)\n",
            "  adding: data/token_representations/UniRef50_A0A336LN46.pt (deflated 7%)\n",
            "  adding: data/token_representations/UniRef50_Q2PC93.pt (deflated 7%)\n",
            "  adding: data/token_representations/UniRef50_A0A914K552.pt (deflated 7%)\n",
            "  adding: data/token_representations/UniRef50_A0A1R1MEQ6.pt (deflated 7%)\n",
            "  adding: data/token_representations/UniRef50_A0A9D7XT08.pt (deflated 7%)\n",
            "  adding: data/token_representations/UniRef50_UPI0011B03009.pt (deflated 7%)\n",
            "  adding: data/token_representations/UniRef50_A0A090BVA3.pt (deflated 7%)\n",
            "  adding: data/token_representations/UniRef50_A0A9W7LF37.pt (deflated 7%)\n",
            "  adding: data/token_representations/UniRef50_UPI002413ED1C.pt (deflated 7%)\n",
            "  adding: data/token_representations/UniRef50_UPI000C842576.pt (deflated 7%)\n",
            "  adding: data/token_representations/UniRef50_UPI0005B8382E.pt (deflated 7%)\n",
            "  adding: data/token_representations/UniRef50_A0A315VQA0.pt (deflated 7%)\n",
            "  adding: data/token_representations/UniRef50_A4HZR8.pt (deflated 7%)\n",
            "  adding: data/token_representations/UniRef50_A0A9P1FFR1.pt (deflated 7%)\n",
            "  adding: data/token_representations/UniRef50_A0A6A3B474.pt (deflated 7%)\n",
            "  adding: data/token_representations/UniRef50_A5K399.pt (deflated 7%)\n",
            "  adding: data/token_representations/UniRef50_UPI001C69E4AF.pt (deflated 7%)\n",
            "  adding: data/token_representations/UniRef50_A0A4Z0NUB9.pt (deflated 7%)\n",
            "  adding: data/token_representations/UniRef50_A0A812UE42.pt (deflated 7%)\n",
            "  adding: data/token_representations/UniRef50_A0A2A9MFQ7.pt (deflated 7%)\n",
            "  adding: data/token_representations/UniRef50_A0A674KF94.pt (deflated 7%)\n",
            "  adding: data/token_representations/UniRef50_A0A2A2W2M0.pt (deflated 7%)\n",
            "  adding: data/token_representations/UniRef50_W7IYB1.pt (deflated 7%)\n",
            "  adding: data/token_representations/UniRef50_UPI001C75025C.pt (deflated 7%)\n",
            "  adding: data/token_representations/UniRef50_A0A1X7VLI1.pt (deflated 7%)\n",
            "  adding: data/token_representations/UniRef50_A0A7C1WIW9.pt (deflated 7%)\n",
            "  adding: data/token_representations/UniRef50_Q9SMH3.pt (deflated 7%)\n",
            "  adding: data/token_representations/UniRef50_UPI001483A5C9.pt (deflated 7%)\n",
            "  adding: data/token_representations/UniRef50_A0A011PRD2.pt (deflated 7%)\n",
            "  adding: data/token_representations/UniRef50_A0A101TR24.pt (deflated 7%)\n",
            "  adding: data/token_representations/UniRef50_A0A0T6YLS9.pt (deflated 7%)\n",
            "  adding: data/token_representations/UniRef50_A0A0V0QFD7.pt (deflated 7%)\n",
            "  adding: data/token_representations/UniRef50_A0A2U1ZHC2.pt (deflated 7%)\n",
            "  adding: data/token_representations/UniRef50_A0A370TMI5.pt (deflated 7%)\n",
            "  adding: data/token_representations/UniRef50_G4MUB8.pt (deflated 7%)\n",
            "  adding: data/token_representations/UniRef50_A0A0G0C9X2.pt (deflated 7%)\n",
            "  adding: data/token_representations/UniRef50_A0A949W8R9.pt (deflated 7%)\n",
            "  adding: data/token_representations/UniRef50_A0A8T2K012.pt (deflated 7%)\n",
            "  adding: data/token_representations/UniRef50_UPI0026058C05.pt (deflated 7%)\n",
            "  adding: data/token_representations/UniRef50_UPI001F0622EE.pt (deflated 7%)\n",
            "  adding: data/token_representations/UniRef50_UPI0020A4E524.pt (deflated 7%)\n",
            "  adding: data/token_representations/UniRef50_UPI00225252B8.pt (deflated 7%)\n",
            "  adding: data/token_representations/UniRef50_A0A973HN51.pt (deflated 7%)\n",
            "  adding: data/token_representations/UniRef50_A0A6N4TEQ4.pt (deflated 7%)\n",
            "  adding: data/token_representations/UniRef50_A0A6S6VWC8.pt (deflated 7%)\n",
            "  adding: data/token_representations/UniRef50_UPI0007C54941.pt (deflated 7%)\n",
            "  adding: data/token_representations/UniRef50_P81672.pt (deflated 11%)\n",
            "  adding: data/token_representations/UniRef50_A0A9P4HBS5.pt (deflated 7%)\n",
            "  adding: data/token_representations/UniRef50_A0A814UDR7.pt (deflated 7%)\n",
            "  adding: data/token_representations/UniRef50_UPI00247318EF.pt (deflated 7%)\n",
            "  adding: data/token_representations/UniRef50_S4RE61.pt (deflated 7%)\n",
            "  adding: data/token_representations/UniRef50_A0A6A4WP34.pt (deflated 7%)\n",
            "  adding: data/token_representations/UniRef50_C2BGP3.pt (deflated 7%)\n",
            "  adding: data/token_representations/UniRef50_UPI0021659FD9.pt (deflated 7%)\n",
            "  adding: data/token_representations/UniRef50_A0A365XUT5.pt (deflated 7%)\n",
            "  adding: data/token_representations/UniRef50_A0A1I8PFQ4.pt (deflated 7%)\n",
            "  adding: data/token_representations/UniRef50_UPI002222AC2A.pt (deflated 7%)\n",
            "  adding: data/token_representations/UniRef50_A0A139AZ36.pt (deflated 7%)\n",
            "  adding: data/token_representations/UniRef50_A0A1I1QI78.pt (deflated 7%)\n",
            "  adding: data/token_representations/UniRef50_A0A391NI06.pt (deflated 7%)\n",
            "  adding: data/token_representations/UniRef50_A0A9Q5CF01.pt (deflated 7%)\n",
            "  adding: data/token_representations/UniRef50_UPI0024580891.pt (deflated 7%)\n",
            "  adding: data/token_representations/UniRef50_A0A5C5XVE0.pt (deflated 7%)\n",
            "  adding: data/token_representations/UniRef50_A0A2P4UHJ2.pt (deflated 7%)\n",
            "  adding: data/token_representations/UniRef50_UPI0020B7495F.pt (deflated 7%)\n",
            "  adding: data/token_representations/UniRef50_UPI001B7F85DE.pt (deflated 7%)\n",
            "  adding: data/token_representations/UniRef50_UPI0005606EFE.pt (deflated 7%)\n",
            "  adding: data/token_representations/UniRef50_A0A3P9BKC0.pt (deflated 7%)\n",
            "  adding: data/token_representations/UniRef50_A0A0L8J170.pt (deflated 7%)\n",
            "  adding: data/token_representations/UniRef50_A0A194PHT3.pt (deflated 7%)\n",
            "  adding: data/token_representations/UniRef50_UPI001FD6CCD7.pt (deflated 7%)\n",
            "  adding: data/token_representations/UniRef50_UPI001294C95C.pt (deflated 7%)\n",
            "  adding: data/token_representations/UniRef50_A0A6A3NRP8.pt (deflated 7%)\n",
            "  adding: data/token_representations/UniRef50_UPI000D11E5FD.pt (deflated 7%)\n",
            "  adding: data/token_representations/UniRef50_A7TT12.pt (deflated 7%)\n",
            "  adding: data/token_representations/UniRef50_A0A8S1C0B5.pt (deflated 7%)\n",
            "  adding: data/token_representations/UniRef50_F2USU1.pt (deflated 7%)\n",
            "  adding: data/token_representations/UniRef50_UPI00052638B2.pt (deflated 7%)\n",
            "  adding: data/token_representations/UniRef50_A0A2S6I2B7.pt (deflated 7%)\n",
            "  adding: data/token_representations/UniRef50_A0A5P2DGA0.pt (deflated 7%)\n",
            "  adding: data/token_representations/UniRef50_D2VR89.pt (deflated 7%)\n",
            "  adding: data/token_representations/UniRef50_A0A9J7LBN4.pt (deflated 7%)\n",
            "  adding: data/token_representations/UniRef50_A0A180EKI4.pt (deflated 7%)\n",
            "  adding: data/token_representations/UniRef50_A0A919RPR7.pt (deflated 7%)\n",
            "  adding: data/token_representations/UniRef50_A0A9B0T5Z3.pt (deflated 7%)\n",
            "  adding: data/token_representations/UniRef50_A0A180ELK9.pt (deflated 7%)\n",
            "  adding: data/token_representations/UniRef50_G1KRA0.pt (deflated 7%)\n",
            "  adding: data/token_representations/UniRef50_A0A8C3P175.pt (deflated 7%)\n",
            "  adding: data/token_representations/UniRef50_A0A932JGM1.pt (deflated 7%)\n",
            "  adding: data/token_representations/UniRef50_A0A4U5WRL9.pt (deflated 7%)\n",
            "  adding: data/token_representations/UniRef50_A0A810MU52.pt (deflated 7%)\n",
            "  adding: data/token_representations/UniRef50_UPI001CF58545.pt (deflated 7%)\n",
            "  adding: data/token_representations/UniRef50_B6AIU8.pt (deflated 7%)\n",
            "  adding: data/token_representations/UniRef50_A0A674DJ71.pt (deflated 7%)\n",
            "  adding: data/token_representations/UniRef50_A0A1S8W2M2.pt (deflated 7%)\n",
            "  adding: data/token_representations/UniRef50_A0A9N8E1R8.pt (deflated 7%)\n",
            "  adding: data/token_representations/UniRef50_UPI001057989E.pt (deflated 7%)\n",
            "  adding: data/token_representations/UniRef50_A0A7C4QS33.pt (deflated 7%)\n",
            "  adding: data/token_representations/UniRef50_A0A2D7SS28.pt (deflated 7%)\n",
            "  adding: data/token_representations/UniRef50_UPI002403A8AC.pt (deflated 7%)\n",
            "  adding: data/token_representations/UniRef50_UPI00117E56A0.pt (deflated 7%)\n",
            "  adding: data/token_representations/UniRef50_A8BM14.pt (deflated 7%)\n",
            "  adding: data/token_representations/UniRef50_A0A9P1CYX5.pt (deflated 7%)\n",
            "  adding: data/token_representations/UniRef50_A0A950VTT6.pt (deflated 7%)\n",
            "  adding: data/token_representations/UniRef50_A0A2K8WW05.pt (deflated 7%)\n",
            "  adding: data/token_representations/UniRef50_UPI0025CBC61E.pt (deflated 7%)\n",
            "  adding: data/token_representations/UniRef50_A0A4P9UUK1.pt (deflated 7%)\n",
            "  adding: data/token_representations/UniRef50_A0A395NWT0.pt (deflated 7%)\n",
            "  adding: data/token_representations/UniRef50_A0A7J9ZNF0.pt (deflated 7%)\n",
            "  adding: data/token_representations/UniRef50_A0A222FP60.pt (deflated 7%)\n",
            "  adding: data/token_representations/UniRef50_A0A210QA16.pt (deflated 7%)\n",
            "  adding: data/token_representations/UniRef50_UPI00140312BD.pt (deflated 7%)\n",
            "  adding: data/token_representations/UniRef50_A0A8D3AIX8.pt (deflated 7%)\n",
            "  adding: data/token_representations/UniRef50_C0QRA8.pt (deflated 7%)\n",
            "  adding: data/token_representations/UniRef50_A0A9D3P2G7.pt (deflated 7%)\n",
            "  adding: data/token_representations/UniRef50_UPI00096B2D63.pt (deflated 7%)\n",
            "  adding: data/token_representations/UniRef50_A0A6I8VRH3.pt (deflated 7%)\n",
            "  adding: data/token_representations/UniRef50_A0A932NLJ4.pt (deflated 7%)\n",
            "  adding: data/token_representations/UniRef50_UPI002628F16C.pt (deflated 7%)\n",
            "  adding: data/token_representations/UniRef50_A0A378IZY7.pt (deflated 7%)\n",
            "  adding: data/token_representations/UniRef50_UPI00214ED519.pt (deflated 7%)\n",
            "  adding: data/token_representations/UniRef50_UPI001E3D8EFB.pt (deflated 7%)\n",
            "  adding: data/token_representations/UniRef50_A0A8J2ALS0.pt (deflated 7%)\n",
            "  adding: data/token_representations/UniRef50_UPI000D0C80CC.pt (deflated 7%)\n",
            "  adding: data/token_representations/UniRef50_UPI00193B40AD.pt (deflated 7%)\n",
            "  adding: data/token_representations/UniRef50_A0A4V1M051.pt (deflated 7%)\n",
            "  adding: data/token_representations/UniRef50_UPI001C4E3E2B.pt (deflated 7%)\n",
            "  adding: data/token_representations/UniRef50_A0A8M1KPC6.pt (deflated 7%)\n",
            "  adding: data/token_representations/UniRef50_UPI0024B829AD.pt (deflated 7%)\n",
            "  adding: data/token_representations/UniRef50_A0A813HN65.pt (deflated 7%)\n",
            "  adding: data/token_representations/UniRef50_A0A6P3JAG3.pt (deflated 7%)\n",
            "  adding: data/token_representations/UniRef50_UPI0021F33692.pt (deflated 7%)\n",
            "  adding: data/token_representations/UniRef50_F1QA09.pt (deflated 7%)\n",
            "  adding: data/token_representations/UniRef50_UPI0003347CEF.pt (deflated 7%)\n",
            "  adding: data/token_representations/UniRef50_A0A2N1PNW0.pt (deflated 7%)\n",
            "  adding: data/token_representations/UniRef50_A0A1A1YF87.pt (deflated 7%)\n",
            "  adding: data/token_representations/UniRef50_A0A1I8JJ81.pt (deflated 7%)\n",
            "  adding: data/token_representations/UniRef50_A0A5J5DB85.pt (deflated 7%)\n",
            "  adding: data/token_representations/UniRef50_A0A1F9VCZ3.pt (deflated 7%)\n",
            "  adding: data/token_representations/UniRef50_A0A1H9VPS4.pt (deflated 7%)\n",
            "  adding: data/token_representations/UniRef50_Q09221.pt (deflated 7%)\n",
            "  adding: data/token_representations/UniRef50_A0A7W9UJC8.pt (deflated 7%)\n",
            "  adding: data/token_representations/UniRef50_A0A5S4UHP8.pt (deflated 7%)\n",
            "  adding: data/token_representations/UniRef50_UPI0015921405.pt (deflated 7%)\n",
            "  adding: data/token_representations/UniRef50_A0A6P6Y6X9.pt (deflated 7%)\n",
            "  adding: data/token_representations/UniRef50_A0A679J5B7.pt (deflated 7%)\n",
            "  adding: data/token_representations/UniRef50_UPI002659109D.pt (deflated 7%)\n",
            "  adding: data/token_representations/UniRef50_UPI0007BAC626.pt (deflated 7%)\n",
            "  adding: data/token_representations/UniRef50_A0A2J7QB23.pt (deflated 7%)\n",
            "  adding: data/token_representations/UniRef50_A0A918GRP9.pt (deflated 7%)\n",
            "  adding: data/token_representations/UniRef50_UPI0011B24833.pt (deflated 7%)\n",
            "  adding: data/token_representations/UniRef50_UPI0020774A8C.pt (deflated 7%)\n",
            "  adding: data/token_representations/UniRef50_UPI0003476991.pt (deflated 7%)\n",
            "  adding: data/token_representations/UniRef50_UPI001C05E3B2.pt (deflated 7%)\n",
            "  adding: data/token_representations/UniRef50_UPI001F3432F4.pt (deflated 7%)\n",
            "  adding: data/token_representations/UniRef50_A0A401NJQ2.pt (deflated 7%)\n",
            "  adding: data/token_representations/UniRef50_UPI001D04EB41.pt (deflated 7%)\n",
            "  adding: data/token_representations/UniRef50_A0A1S1VTB7.pt (deflated 7%)\n",
            "  adding: data/token_representations/UniRef50_A0A1D7SKM4.pt (deflated 7%)\n",
            "  adding: data/token_representations/UniRef50_A0A8D0AKZ6.pt (deflated 7%)\n",
            "  adding: data/token_representations/UniRef50_D6W9D4.pt (deflated 7%)\n",
            "  adding: data/token_representations/UniRef50_P40806.pt (deflated 7%)\n",
            "  adding: data/token_representations/UniRef50_UPI0026224C0B.pt (deflated 7%)\n",
            "  adding: data/token_representations/UniRef50_A0A8X6J5H7.pt (deflated 7%)\n",
            "  adding: data/token_representations/UniRef50_A0A0N1GC06.pt (deflated 7%)\n",
            "  adding: data/token_representations/UniRef50_UPI00155B3F18.pt (deflated 7%)\n",
            "  adding: data/token_representations/UniRef50_UPI0006FAC3BE.pt (deflated 7%)\n",
            "  adding: data/token_representations/UniRef50_A0A4W3HSK9.pt (deflated 7%)\n",
            "  adding: data/token_representations/UniRef50_A0A1Y1HWZ8.pt (deflated 7%)\n",
            "  adding: data/token_representations/UniRef50_B2HNF5.pt (deflated 7%)\n",
            "  adding: data/token_representations/UniRef50_A0A0W0YZ13.pt (deflated 7%)\n",
            "  adding: data/token_representations/UniRef50_A0A7J6HRU8.pt (deflated 7%)\n",
            "  adding: data/token_representations/UniRef50_UPI001470E3AE.pt (deflated 7%)\n",
            "  adding: data/token_representations/UniRef50_UPI000AB84403.pt (deflated 7%)\n",
            "  adding: data/token_representations/UniRef50_A0A935X6E4.pt (deflated 7%)\n",
            "  adding: data/token_representations/UniRef50_A0A133PTM1.pt (deflated 7%)\n",
            "  adding: data/token_representations/UniRef50_A0A8B7R931.pt (deflated 7%)\n",
            "  adding: data/token_representations/UniRef50_UPI0024946E24.pt (deflated 7%)\n",
            "  adding: data/token_representations/UniRef50_A0A2I2LDV8.pt (deflated 7%)\n",
            "  adding: data/token_representations/UniRef50_UPI001C8A06BC.pt (deflated 7%)\n",
            "  adding: data/token_representations/UniRef50_A0A975H8K2.pt (deflated 7%)\n",
            "  adding: data/token_representations/UniRef50_A0A9D2AEA6.pt (deflated 7%)\n",
            "  adding: data/token_representations/UniRef50_S8EXW7.pt (deflated 7%)\n",
            "  adding: data/token_representations/UniRef50_UPI001DEF2380.pt (deflated 7%)\n",
            "  adding: data/token_representations/UniRef50_UPI001EE24216.pt (deflated 7%)\n",
            "  adding: data/token_representations/UniRef50_UPI001B380771.pt (deflated 7%)\n",
            "  adding: data/token_representations/UniRef50_A0A935MQW3.pt (deflated 7%)\n",
            "  adding: data/token_representations/UniRef50_A0A0K1EK62.pt (deflated 7%)\n",
            "  adding: data/token_representations/UniRef50_UPI002596B4BD.pt (deflated 7%)\n",
            "  adding: data/token_representations/UniRef50_A0A9R0E890.pt (deflated 7%)\n",
            "  adding: data/token_representations/UniRef50_A0A5Q0THC3.pt (deflated 7%)\n",
            "  adding: data/token_representations/UniRef50_A0A6P7GKZ4.pt (deflated 7%)\n",
            "  adding: data/token_representations/UniRef50_A0A363D5P8.pt (deflated 7%)\n",
            "  adding: data/token_representations/UniRef50_A0A7I7ZTJ3.pt (deflated 7%)\n",
            "  adding: data/token_representations/UniRef50_A0A1F9VCY3.pt (deflated 7%)\n",
            "  adding: data/token_representations/UniRef50_UPI000E45CF1B.pt (deflated 7%)\n",
            "  adding: data/token_representations/UniRef50_A0A1M7FSD9.pt (deflated 7%)\n",
            "  adding: data/token_representations/UniRef50_A0A9D3S9Q2.pt (deflated 7%)\n",
            "  adding: data/token_representations/UniRef50_A0A7J0CFM6.pt (deflated 7%)\n",
            "  adding: data/token_representations/UniRef50_A0A8C7V068.pt (deflated 7%)\n",
            "  adding: data/token_representations/UniRef50_A0A315VMU0.pt (deflated 7%)\n",
            "  adding: data/token_representations/UniRef50_A0A2U9CIA5.pt (deflated 7%)\n",
            "  adding: data/token_representations/UniRef50_A0A8T2VI19.pt (deflated 7%)\n",
            "  adding: data/token_representations/UniRef50_R0JUS2.pt (deflated 8%)\n",
            "  adding: data/token_representations/UniRef50_A0A1J4XUT7.pt (deflated 7%)\n",
            "  adding: data/token_representations/UniRef50_A0A224ANA9.pt (deflated 7%)\n",
            "  adding: data/token_representations/UniRef50_A0A1X9Z2Q4.pt (deflated 7%)\n",
            "  adding: data/token_representations/UniRef50_UPI0010C51846.pt (deflated 7%)\n",
            "  adding: data/token_representations/UniRef50_L1J8A0.pt (deflated 7%)\n",
            "  adding: data/token_representations/UniRef50_A0A2H5P5Q0.pt (deflated 7%)\n",
            "  adding: data/token_representations/UniRef50_A0A2P6N8E8.pt (deflated 7%)\n",
            "  adding: data/token_representations/UniRef50_A0A1Q5LGJ0.pt (deflated 7%)\n",
            "  adding: data/token_representations/UniRef50_UPI0014259EBC.pt (deflated 7%)\n",
            "  adding: data/token_representations/UniRef50_A0A930ZXR2.pt (deflated 7%)\n",
            "  adding: data/token_representations/UniRef50_UPI0024C458EE.pt (deflated 7%)\n",
            "  adding: data/token_representations/UniRef50_UPI0011D29214.pt (deflated 7%)\n",
            "  adding: data/token_representations/UniRef50_A0A553NWQ1.pt (deflated 7%)\n",
            "  adding: data/token_representations/UniRef50_A0A8K9XYB1.pt (deflated 7%)\n",
            "  adding: data/token_representations/UniRef50_UPI0022531BAF.pt (deflated 7%)\n",
            "  adding: data/token_representations/UniRef50_A4C512.pt (deflated 7%)\n",
            "  adding: data/token_representations/UniRef50_A0A522F2A2.pt (deflated 7%)\n",
            "  adding: data/token_representations/UniRef50_UPI00194DD97D.pt (deflated 7%)\n",
            "  adding: data/token_representations/UniRef50_A0A061QHV0.pt (deflated 7%)\n",
            "  adding: data/token_representations/UniRef50_UPI001C07357F.pt (deflated 7%)\n",
            "  adding: data/token_representations/UniRef50_A0A8I6SGK9.pt (deflated 7%)\n",
            "  adding: data/token_representations/UniRef50_A0A6M0RSA4.pt (deflated 7%)\n",
            "  adding: data/token_representations/UniRef50_UPI0024179640.pt (deflated 7%)\n",
            "  adding: data/token_representations/UniRef50_A0A4P5TBR0.pt (deflated 7%)\n",
            "  adding: data/token_representations/UniRef50_A0A1L9U7P9.pt (deflated 7%)\n",
            "  adding: data/token_representations/UniRef50_A0A319EBL5.pt (deflated 7%)\n",
            "  adding: data/token_representations/UniRef50_A0A9N8W2P4.pt (deflated 7%)\n",
            "  adding: data/token_representations/UniRef50_UPI002409D8E5.pt (deflated 7%)\n",
            "  adding: data/token_representations/UniRef50_A0A401SBF2.pt (deflated 7%)\n",
            "  adding: data/token_representations/UniRef50_A0A6F9AHB8.pt (deflated 7%)\n",
            "  adding: data/token_representations/UniRef50_A0A2G3K1F7.pt (deflated 7%)\n",
            "  adding: data/token_representations/UniRef50_A0A954VFF1.pt (deflated 7%)\n",
            "  adding: data/token_representations/UniRef50_A0A0W7X5U8.pt (deflated 7%)\n",
            "  adding: data/token_representations/UniRef50_A0A9Q0BH44.pt (deflated 7%)\n",
            "  adding: data/token_representations/UniRef50_A0A9J7IHX2.pt (deflated 7%)\n",
            "  adding: data/token_representations/UniRef50_R7U6U8.pt (deflated 7%)\n",
            "  adding: data/token_representations/UniRef50_UPI0018849758.pt (deflated 7%)\n",
            "  adding: data/token_representations/UniRef50_UPI0020C2BE26.pt (deflated 7%)\n",
            "  adding: data/token_representations/UniRef50_A0A379I5L1.pt (deflated 7%)\n",
            "  adding: data/token_representations/UniRef50_UPI001F2FC6C8.pt (deflated 7%)\n",
            "  adding: data/token_representations/UniRef50_UPI001F1FC9B9.pt (deflated 7%)\n",
            "  adding: data/token_representations/UniRef50_A0A812YZ53.pt (deflated 7%)\n",
            "  adding: data/token_representations/UniRef50_A0A1A3PBT0.pt (deflated 7%)\n",
            "  adding: data/token_representations/UniRef50_A0A7C8B4D9.pt (deflated 7%)\n",
            "  adding: data/token_representations/UniRef50_G7GXV9.pt (deflated 7%)\n",
            "  adding: data/token_representations/UniRef50_UPI00263B9A17.pt (deflated 7%)\n",
            "  adding: data/token_representations/UniRef50_A0A4Z1P0V6.pt (deflated 7%)\n",
            "  adding: data/token_representations/UniRef50_A0A6P7TCC2.pt (deflated 7%)\n",
            "  adding: data/token_representations/UniRef50_A0A931DQ38.pt (deflated 7%)\n",
            "  adding: data/token_representations/UniRef50_UPI001C208F68.pt (deflated 7%)\n",
            "  adding: data/token_representations/UniRef50_UPI001890C91D.pt (deflated 7%)\n",
            "  adding: data/token_representations/UniRef50_A0A081IB59.pt (deflated 7%)\n",
            "  adding: data/token_representations/UniRef50_UPI0022375097.pt (deflated 7%)\n",
            "  adding: data/token_representations/UniRef50_F8CDJ3.pt (deflated 7%)\n",
            "  adding: data/token_representations/UniRef50_A0A5C6EQG3.pt (deflated 7%)\n",
            "  adding: data/token_representations/UniRef50_A0A5A8DRG9.pt (deflated 7%)\n",
            "  adding: data/token_representations/UniRef50_UPI00187D7744.pt (deflated 7%)\n",
            "  adding: data/token_representations/UniRef50_UPI00067B7B4A.pt (deflated 7%)\n",
            "  adding: data/token_representations/UniRef50_UPI001E8D9653.pt (deflated 7%)\n",
            "  adding: data/token_representations/UniRef50_A0A933JBC0.pt (deflated 7%)\n",
            "  adding: data/token_representations/UniRef50_A0A813BZ24.pt (deflated 7%)\n",
            "  adding: data/token_representations/UniRef50_UPI001C904725.pt (deflated 7%)\n",
            "  adding: data/token_representations/UniRef50_A0A6I8UH74.pt (deflated 7%)\n",
            "  adding: data/token_representations/UniRef50_UPI0025783B4C.pt (deflated 7%)\n",
            "  adding: data/token_representations/UniRef50_UPI001A3500C0.pt (deflated 7%)\n",
            "  adding: data/token_representations/UniRef50_A0A0N1IQP8.pt (deflated 7%)\n",
            "  adding: data/token_representations/UniRef50_UPI00197C958A.pt (deflated 7%)\n",
            "  adding: data/token_representations/UniRef50_A0A178IP90.pt (deflated 7%)\n",
            "  adding: data/token_representations/UniRef50_UPI00261A7564.pt (deflated 7%)\n",
            "  adding: data/token_representations/UniRef50_A0A1C6SF32.pt (deflated 7%)\n",
            "  adding: data/token_representations/UniRef50_A0A2P8HHF7.pt (deflated 7%)\n",
            "  adding: data/token_representations/UniRef50_A0A5A8D821.pt (deflated 7%)\n",
            "  adding: data/token_representations/UniRef50_UPI0024DF5948.pt (deflated 7%)\n",
            "  adding: data/token_representations/UniRef50_UPI0024DFB435.pt (deflated 7%)\n",
            "  adding: data/token_representations/UniRef50_A0A443RP59.pt (deflated 7%)\n",
            "  adding: data/token_representations/UniRef50_UPI00054D64F4.pt (deflated 7%)\n",
            "  adding: data/token_representations/UniRef50_UPI001FB578AC.pt (deflated 7%)\n",
            "  adding: data/token_representations/UniRef50_A0A2A4JTM3.pt (deflated 7%)\n",
            "  adding: data/token_representations/UniRef50_UPI00195390E8.pt (deflated 7%)\n",
            "  adding: data/token_representations/UniRef50_E0MSY8.pt (deflated 7%)\n",
            "  adding: data/token_representations/UniRef50_UPI0012EBAFE7.pt (deflated 7%)\n",
            "  adding: data/token_representations/UniRef50_A0A6J2V8B8.pt (deflated 7%)\n",
            "  adding: data/token_representations/UniRef50_UPI0023AA4B7E.pt (deflated 7%)\n",
            "  adding: data/token_representations/UniRef50_A0A0K0XBN9.pt (deflated 7%)\n",
            "  adding: data/token_representations/UniRef50_A0A369XMC0.pt (deflated 7%)\n",
            "  adding: data/token_representations/UniRef50_A0A7C9JJR5.pt (deflated 7%)\n",
            "  adding: data/token_representations/UniRef50_UPI001C85EBB5.pt (deflated 7%)\n",
            "  adding: data/token_representations/UniRef50_A0A1P8KQ26.pt (deflated 7%)\n",
            "  adding: data/token_representations/UniRef50_UPI00200AD990.pt (deflated 7%)\n",
            "  adding: data/token_representations/UniRef50_UPI00211F0EC9.pt (deflated 7%)\n",
            "  adding: data/token_representations/UniRef50_A0A7R9BJ50.pt (deflated 7%)\n",
            "  adding: data/token_representations/UniRef50_A0A8B7Y6Z7.pt (deflated 7%)\n",
            "  adding: data/token_representations/UniRef50_A0A0B2V722.pt (deflated 7%)\n",
            "  adding: data/token_representations/UniRef50_UPI001C1DED86.pt (deflated 7%)\n",
            "  adding: data/token_representations/UniRef50_A0A8S2HUB9.pt (deflated 7%)\n",
            "  adding: data/token_representations/UniRef50_A0A1G1KYQ6.pt (deflated 7%)\n",
            "  adding: data/token_representations/UniRef50_UPI0021E478DE.pt (deflated 7%)\n",
            "  adding: data/token_representations/UniRef50_D9PJ53.pt (deflated 7%)\n",
            "  adding: data/token_representations/UniRef50_UPI001301EDE4.pt (deflated 7%)\n",
            "  adding: data/token_representations/UniRef50_A0A1Z9AUD8.pt (deflated 7%)\n",
            "  adding: data/token_representations/UniRef50_A0A1I1L9Q8.pt (deflated 7%)\n",
            "  adding: data/token_representations/UniRef50_A0A1G2NAB9.pt (deflated 7%)\n",
            "  adding: data/token_representations/UniRef50_A0A818KBJ3.pt (deflated 7%)\n",
            "  adding: data/token_representations/UniRef50_UPI001CA9D383.pt (deflated 7%)\n",
            "  adding: data/token_representations/UniRef50_A0A3N2DQB9.pt (deflated 7%)\n",
            "  adding: data/token_representations/UniRef50_UPI000CE1F10B.pt (deflated 7%)\n",
            "  adding: data/token_representations/UniRef50_A0A2Z4YUJ4.pt (deflated 7%)\n",
            "  adding: data/token_representations/UniRef50_A0A2A6BKR6.pt (deflated 7%)\n",
            "  adding: data/token_representations/UniRef50_A0A4W3HHW7.pt (deflated 7%)\n",
            "  adding: data/token_representations/UniRef50_A0A1R2CDN1.pt (deflated 7%)\n",
            "  adding: data/token_representations/UniRef50_A0A0C5VQN4.pt (deflated 7%)\n",
            "  adding: data/token_representations/UniRef50_UPI0011C06208.pt (deflated 7%)\n",
            "  adding: data/token_representations/UniRef50_A0A6P9D132.pt (deflated 7%)\n",
            "  adding: data/token_representations/UniRef50_A0A9P1C3F2.pt (deflated 7%)\n",
            "  adding: data/token_representations/UniRef50_A0A3N2R196.pt (deflated 7%)\n",
            "  adding: data/token_representations/UniRef50_UPI0022705833.pt (deflated 7%)\n",
            "  adding: data/token_representations/UniRef50_A0L6L9.pt (deflated 7%)\n",
            "  adding: data/token_representations/UniRef50_UPI0023E3AEF4.pt (deflated 7%)\n",
            "  adding: data/token_representations/UniRef50_A0A699GFJ8.pt (deflated 7%)\n",
            "  adding: data/token_representations/UniRef50_A0A976DIU5.pt (deflated 7%)\n",
            "  adding: data/token_representations/UniRef50_UPI0022E2C419.pt (deflated 7%)\n",
            "  adding: data/token_representations/UniRef50_UPI00235ACF5A.pt (deflated 7%)\n",
            "  adding: data/token_representations/UniRef50_A0A5A8DHR8.pt (deflated 7%)\n",
            "  adding: data/token_representations/UniRef50_A0A844MEU4.pt (deflated 7%)\n",
            "  adding: data/token_representations/UniRef50_UPI0025963DC6.pt (deflated 7%)\n",
            "  adding: data/token_representations/UniRef50_A0A3B4GSD9.pt (deflated 7%)\n",
            "  adding: data/token_representations/UniRef50_UPI0024902C5A.pt (deflated 7%)\n",
            "  adding: data/token_representations/UniRef50_A0A1C4PNZ0.pt (deflated 7%)\n",
            "  adding: data/token_representations/UniRef50_A0A5C7FTE4.pt (deflated 7%)\n",
            "  adding: data/token_representations/UniRef50_A0A0T1W5J2.pt (deflated 7%)\n",
            "  adding: data/token_representations/UniRef50_A0A7R9GRK5.pt (deflated 7%)\n",
            "  adding: data/token_representations/UniRef50_A0A3P9P2H8.pt (deflated 7%)\n",
            "  adding: data/token_representations/UniRef50_A0A2K3D140.pt (deflated 7%)\n",
            "  adding: data/token_representations/UniRef50_A0A7E6FII3.pt (deflated 7%)\n",
            "  adding: data/token_representations/UniRef50_H0JZ66.pt (deflated 7%)\n",
            "  adding: data/token_representations/UniRef50_A0A4R2P884.pt (deflated 7%)\n",
            "  adding: data/token_representations/UniRef50_UPI000EF51F89.pt (deflated 7%)\n",
            "  adding: data/token_representations/UniRef50_UPI001BFDC76C.pt (deflated 7%)\n",
            "  adding: data/token_representations/UniRef50_A0A061A095.pt (deflated 7%)\n",
            "  adding: data/token_representations/UniRef50_A0A1S1J224.pt (deflated 7%)\n",
            "  adding: data/token_representations/UniRef50_UPI001C71E42C.pt (deflated 7%)\n",
            "  adding: data/token_representations/UniRef50_A0A5C5YX57.pt (deflated 7%)\n",
            "  adding: data/token_representations/UniRef50_UPI001EEF53C0.pt (deflated 7%)\n",
            "  adding: data/token_representations/UniRef50_UPI0002E7C733.pt (deflated 7%)\n",
            "  adding: data/token_representations/UniRef50_A0A9P0EB53.pt (deflated 7%)\n",
            "  adding: data/token_representations/UniRef50_A0A1T3VN77.pt (deflated 7%)\n",
            "  adding: data/token_representations/UniRef50_UPI0022446D6F.pt (deflated 7%)\n",
            "  adding: data/token_representations/UniRef50_A0A917KLQ0.pt (deflated 7%)\n",
            "  adding: data/token_representations/UniRef50_UPI0018F6A2E8.pt (deflated 7%)\n",
            "  adding: data/token_representations/UniRef50_UPI002258D233.pt (deflated 7%)\n",
            "  adding: data/token_representations/UniRef50_V7J0S5.pt (deflated 7%)\n",
            "  adding: data/token_representations/UniRef50_A0A380NNU1.pt (deflated 7%)\n",
            "  adding: data/token_representations/UniRef50_UPI001E678D52.pt (deflated 7%)\n",
            "  adding: data/token_representations/UniRef50_A0A344TZX4.pt (deflated 7%)\n",
            "  adding: data/token_representations/UniRef50_A0A1S3SZD0.pt (deflated 7%)\n",
            "  adding: data/token_representations/UniRef50_A0A257DFF6.pt (deflated 7%)\n",
            "  adding: data/token_representations/UniRef50_UPI00217FF4BC.pt (deflated 7%)\n",
            "  adding: data/token_representations/UniRef50_UPI001C711C92.pt (deflated 7%)\n",
            "  adding: data/token_representations/UniRef50_UPI0008323DEB.pt (deflated 7%)\n",
            "  adding: data/token_representations/UniRef50_A0A7R9GAC9.pt (deflated 7%)\n",
            "  adding: data/token_representations/UniRef50_A0A8J3Y7X6.pt (deflated 7%)\n",
            "  adding: data/token_representations/UniRef50_A0A833RL84.pt (deflated 7%)\n",
            "  adding: data/token_representations/UniRef50_UPI00189069A8.pt (deflated 7%)\n",
            "  adding: data/token_representations/UniRef50_A0A2H2YRT7.pt (deflated 7%)\n",
            "  adding: data/token_representations/UniRef50_A5K9P1.pt (deflated 7%)\n",
            "  adding: data/token_representations/UniRef50_UPI001C0C4FD8.pt (deflated 7%)\n",
            "  adding: data/token_representations/UniRef50_A0A6A5FR91.pt (deflated 7%)\n",
            "  adding: data/token_representations/UniRef50_A0A6P7U124.pt (deflated 7%)\n",
            "  adding: data/token_representations/UniRef50_A0A7I4Z728.pt (deflated 7%)\n",
            "  adding: data/token_representations/UniRef50_A0A8R2QX11.pt (deflated 7%)\n",
            "  adding: data/token_representations/UniRef50_UPI00235AD0EA.pt (deflated 7%)\n",
            "  adding: data/token_representations/UniRef50_A0A3A8LNF6.pt (deflated 7%)\n",
            "  adding: data/token_representations/UniRef50_L8JWQ4.pt (deflated 7%)\n",
            "  adding: data/token_representations/UniRef50_A0A1T4QC30.pt (deflated 7%)\n",
            "  adding: data/token_representations/UniRef50_A0A2K3DWG3.pt (deflated 7%)\n",
            "  adding: data/token_representations/UniRef50_A0A5C5XSN3.pt (deflated 7%)\n",
            "  adding: data/token_representations/UniRef50_A0A229H5I4.pt (deflated 7%)\n",
            "  adding: data/token_representations/UniRef50_A0A835W6S0.pt (deflated 7%)\n",
            "  adding: data/token_representations/UniRef50_A0A158NHA9.pt (deflated 7%)\n",
            "  adding: data/token_representations/UniRef50_UPI0023B0CF31.pt (deflated 7%)\n",
            "  adding: data/token_representations/UniRef50_A0A7W7YD03.pt (deflated 7%)\n",
            "  adding: data/token_representations/UniRef50_UPI001EEF8D04.pt (deflated 7%)\n",
            "  adding: data/token_representations/UniRef50_A0A2R9CTC3.pt (deflated 7%)\n",
            "  adding: data/token_representations/UniRef50_A0A4P9X909.pt (deflated 7%)\n",
            "  adding: data/token_representations/UniRef50_A0A0R3T1L2.pt (deflated 7%)\n",
            "  adding: data/token_representations/UniRef50_A0A7G3U967.pt (deflated 7%)\n",
            "  adding: data/token_representations/UniRef50_UPI0014041890.pt (deflated 7%)\n",
            "  adding: data/token_representations/UniRef50_UPI0024553974.pt (deflated 7%)\n",
            "  adding: data/token_representations/UniRef50_UPI00227C7E2F.pt (deflated 7%)\n",
            "  adding: data/token_representations/UniRef50_A0A1B1DU55.pt (deflated 7%)\n",
            "  adding: data/token_representations/UniRef50_A0A1I9J5K9.pt (deflated 7%)\n",
            "  adding: data/token_representations/UniRef50_UPI0003F72460.pt (deflated 7%)\n",
            "  adding: data/token_representations/UniRef50_A0A2E2AZM6.pt (deflated 7%)\n",
            "  adding: data/token_representations/UniRef50_A0A1I0R9F7.pt (deflated 7%)\n",
            "  adding: data/token_representations/UniRef50_A0A8C7Y2T1.pt (deflated 7%)\n",
            "  adding: data/token_representations/UniRef50_UPI0027380F19.pt (deflated 7%)\n",
            "  adding: data/token_representations/UniRef50_A0A7M5V0S1.pt (deflated 7%)\n",
            "  adding: data/token_representations/UniRef50_A0A8K0GFM5.pt (deflated 7%)\n",
            "  adding: data/token_representations/UniRef50_UPI001C204DE7.pt (deflated 7%)\n",
            "  adding: data/token_representations/UniRef50_UPI0025B50DD5.pt (deflated 7%)\n",
            "  adding: data/token_representations/UniRef50_A0A2K9LL63.pt (deflated 7%)\n",
            "  adding: data/token_representations/UniRef50_E7F8G7.pt (deflated 7%)\n",
            "  adding: data/token_representations/UniRef50_A0A1H2G9E5.pt (deflated 7%)\n",
            "  adding: data/token_representations/UniRef50_A0A836ESR1.pt (deflated 7%)\n",
            "  adding: data/token_representations/UniRef50_A0A3D5B2F4.pt (deflated 7%)\n",
            "  adding: data/token_representations/UniRef50_UPI00210F34D9.pt (deflated 7%)\n",
            "  adding: data/token_representations/UniRef50_V6U264.pt (deflated 7%)\n",
            "  adding: data/token_representations/UniRef50_UPI00237CB0B2.pt (deflated 7%)\n",
            "  adding: data/token_representations/UniRef50_A0A100J439.pt (deflated 7%)\n",
            "  adding: data/token_representations/UniRef50_A0A8N4L772.pt (deflated 7%)\n",
            "  adding: data/token_representations/UniRef50_A0A5N4A258.pt (deflated 7%)\n",
            "  adding: data/token_representations/UniRef50_A0A9D4IWJ9.pt (deflated 7%)\n",
            "  adding: data/token_representations/UniRef50_A0A0M3JX13.pt (deflated 7%)\n",
            "  adding: data/token_representations/UniRef50_A0A9P1MUH4.pt (deflated 7%)\n",
            "  adding: data/token_representations/UniRef50_A0A941QX64.pt (deflated 7%)\n",
            "  adding: data/token_representations/UniRef50_A0A9E0TNT4.pt (deflated 7%)\n",
            "  adding: data/token_representations/UniRef50_R7U8N7.pt (deflated 7%)\n",
            "  adding: data/token_representations/UniRef50_A0A6L4YX45.pt (deflated 7%)\n",
            "  adding: data/token_representations/UniRef50_UPI00221EB0C0.pt (deflated 7%)\n",
            "  adding: data/token_representations/UniRef50_G5EEG8.pt (deflated 7%)\n",
            "  adding: data/token_representations/UniRef50_A0A8C8GNA5.pt (deflated 7%)\n",
            "  adding: data/token_representations/UniRef50_A0A8H7LPZ7.pt (deflated 7%)\n",
            "  adding: data/token_representations/UniRef50_A0A7S2QV25.pt (deflated 7%)\n",
            "  adding: data/token_representations/UniRef50_A0A4D9D334.pt (deflated 7%)\n",
            "  adding: data/token_representations/UniRef50_A0A223QB21.pt (deflated 7%)\n",
            "  adding: data/token_representations/UniRef50_UPI0004E26606.pt (deflated 7%)\n",
            "  adding: data/token_representations/UniRef50_A0A291RHN5.pt (deflated 7%)\n",
            "  adding: data/token_representations/UniRef50_A0A1X0NPI7.pt (deflated 7%)\n",
            "  adding: data/token_representations/UniRef50_A0A5B7H7V5.pt (deflated 7%)\n",
            "  adding: data/token_representations/UniRef50_UPI0024561A7E.pt (deflated 7%)\n",
            "  adding: data/token_representations/UniRef50_UPI0022DEEE96.pt (deflated 7%)\n",
            "  adding: data/token_representations/UniRef50_UPI00223DBCCC.pt (deflated 7%)\n",
            "  adding: data/token_representations/UniRef50_A0A3N8QFU5.pt (deflated 7%)\n",
            "  adding: data/token_representations/UniRef50_UPI000B45C8CB.pt (deflated 7%)\n",
            "  adding: data/token_representations/UniRef50_A0A835P4B1.pt (deflated 7%)\n",
            "  adding: data/token_representations/UniRef50_A0A9E7VH86.pt (deflated 7%)\n",
            "  adding: data/token_representations/UniRef50_A0A2U9B2P5.pt (deflated 7%)\n",
            "  adding: data/token_representations/UniRef50_A0A0D8CWN5.pt (deflated 7%)\n",
            "  adding: data/token_representations/UniRef50_A0A2E3EUI7.pt (deflated 7%)\n",
            "  adding: data/token_representations/UniRef50_A0A2A4JT89.pt (deflated 7%)\n",
            "  adding: data/token_representations/UniRef50_A0A0L8IZP2.pt (deflated 7%)\n",
            "  adding: data/token_representations/UniRef50_UPI001EAE8BD6.pt (deflated 7%)\n",
            "  adding: data/token_representations/UniRef50_A0A8J5X3V7.pt (deflated 7%)\n",
            "  adding: data/token_representations/UniRef50_UPI001E669A2A.pt (deflated 7%)\n",
            "  adding: data/token_representations/UniRef50_UPI001CA62FC3.pt (deflated 7%)\n",
            "  adding: data/token_representations/UniRef50_UPI002740C80C.pt (deflated 7%)\n",
            "  adding: data/token_representations/UniRef50_A0A960CV98.pt (deflated 7%)\n",
            "  adding: data/token_representations/UniRef50_A0A9W6BSM2.pt (deflated 7%)\n",
            "  adding: data/token_representations/UniRef50_A0A5C6EM29.pt (deflated 7%)\n",
            "  adding: data/token_representations/UniRef50_A0A9C6SIT1.pt (deflated 7%)\n",
            "  adding: data/token_representations/UniRef50_A0A450SN37.pt (deflated 7%)\n",
            "  adding: data/token_representations/UniRef50_A0A9E6MRK7.pt (deflated 7%)\n",
            "  adding: data/token_representations/UniRef50_A0A699GEQ9.pt (deflated 7%)\n",
            "  adding: data/token_representations/UniRef50_A0A4V2M3G2.pt (deflated 7%)\n",
            "  adding: data/token_representations/UniRef50_A0A833SDT9.pt (deflated 7%)\n",
            "  adding: data/token_representations/UniRef50_A0A2A2WCM0.pt (deflated 7%)\n",
            "  adding: data/token_representations/UniRef50_A0A7K0DJW2.pt (deflated 7%)\n",
            "  adding: data/token_representations/UniRef50_A0A2E7D087.pt (deflated 7%)\n",
            "  adding: data/token_representations/UniRef50_A0A2P4TGP7.pt (deflated 10%)\n",
            "  adding: data/token_representations/UniRef50_A0A210PY69.pt (deflated 7%)\n",
            "  adding: data/token_representations/UniRef50_E5FNE8.pt (deflated 7%)\n",
            "  adding: data/token_representations/UniRef50_A0A6P0MLZ7.pt (deflated 7%)\n",
            "  adding: data/token_representations/UniRef50_A0A955S224.pt (deflated 7%)\n",
            "  adding: data/token_representations/UniRef50_UPI00082EDC06.pt (deflated 7%)\n",
            "  adding: data/token_representations/UniRef50_UPI00240E7D07.pt (deflated 7%)\n",
            "  adding: data/token_representations/UniRef50_A0A6I1KNH5.pt (deflated 7%)\n",
            "  adding: data/token_representations/UniRef50_A0A803W0B5.pt (deflated 7%)\n",
            "  adding: data/token_representations/UniRef50_UPI00193F5BFE.pt (deflated 7%)\n",
            "  adding: data/token_representations/UniRef50_A0A6H9URK3.pt (deflated 7%)\n",
            "  adding: data/token_representations/UniRef50_A0A2G0CE42.pt (deflated 7%)\n",
            "  adding: data/token_representations/UniRef50_A0A8S0ZX63.pt (deflated 7%)\n",
            "  adding: data/token_representations/UniRef50_A0A2D4F109.pt (deflated 7%)\n",
            "  adding: data/token_representations/UniRef50_UPI001E676BE7.pt (deflated 7%)\n",
            "  adding: data/token_representations/UniRef50_UPI00224417C2.pt (deflated 7%)\n",
            "  adding: data/token_representations/UniRef50_A0A8T2KWZ7.pt (deflated 7%)\n",
            "  adding: data/token_representations/UniRef50_M9PBJ0.pt (deflated 7%)\n",
            "  adding: data/token_representations/UniRef50_UPI001E31BAE9.pt (deflated 7%)\n",
            "  adding: data/token_representations/UniRef50_A0A2S0KIM3.pt (deflated 7%)\n",
            "  adding: data/token_representations/UniRef50_A0A1U7LTC9.pt (deflated 7%)\n",
            "  adding: data/token_representations/UniRef50_A0A1G0MD47.pt (deflated 7%)\n",
            "  adding: data/token_representations/UniRef50_A0A1B1Q559.pt (deflated 7%)\n",
            "  adding: data/token_representations/UniRef50_A0A2A9LZ28.pt (deflated 7%)\n",
            "  adding: data/token_representations/UniRef50_A0A8H7ALA8.pt (deflated 7%)\n",
            "  adding: data/token_representations/UniRef50_UPI002256EEAE.pt (deflated 7%)\n",
            "  adding: data/token_representations/UniRef50_A0A9P0JV65.pt (deflated 7%)\n",
            "  adding: data/token_representations/UniRef50_H2LSR2.pt (deflated 7%)\n",
            "  adding: data/token_representations/UniRef50_UPI001CF5E475.pt (deflated 7%)\n",
            "  adding: data/token_representations/UniRef50_A0A5N6GT08.pt (deflated 7%)\n",
            "  adding: data/token_representations/UniRef50_UPI0024C0B1E4.pt (deflated 7%)\n",
            "  adding: data/token_representations/UniRef50_UPI001AD8563F.pt (deflated 7%)\n",
            "  adding: data/token_representations/UniRef50_A0A8J2X0J9.pt (deflated 7%)\n",
            "  adding: data/token_representations/UniRef50_Q8W191.pt (deflated 7%)\n",
            "  adding: data/token_representations/UniRef50_A0A1B1CPL1.pt (deflated 7%)\n",
            "  adding: data/token_representations/UniRef50_UPI001BB2A354.pt (deflated 7%)\n",
            "  adding: data/token_representations/UniRef50_A0A2M7FH81.pt (deflated 7%)\n",
            "  adding: data/token_representations/UniRef50_A0A0H2XEP5.pt (deflated 7%)\n",
            "  adding: data/token_representations/UniRef50_Q8TDW7.pt (deflated 7%)\n",
            "  adding: data/token_representations/UniRef50_A0A840FFU8.pt (deflated 7%)\n",
            "  adding: data/token_representations/UniRef50_A0A7T0HYH5.pt (deflated 7%)\n",
            "  adding: data/token_representations/UniRef50_A0A9P3NR28.pt (deflated 7%)\n",
            "  adding: data/token_representations/UniRef50_A0A2P4ZIX1.pt (deflated 7%)\n",
            "  adding: data/token_representations/UniRef50_A0A535ULL6.pt (deflated 7%)\n",
            "  adding: data/token_representations/UniRef50_A0A2H6KJQ7.pt (deflated 7%)\n",
            "  adding: data/token_representations/UniRef50_A0A4U9Z740.pt (deflated 7%)\n",
            "  adding: data/token_representations/UniRef50_A0A2K8RB30.pt (deflated 7%)\n",
            "  adding: data/token_representations/UniRef50_A0A4Z0CB70.pt (deflated 7%)\n",
            "  adding: data/token_representations/UniRef50_UPI001E26B019.pt (deflated 7%)\n",
            "  adding: data/token_representations/UniRef50_UPI00233EC479.pt (deflated 7%)\n",
            "  adding: data/token_representations/UniRef50_A0A6J4G2J0.pt (deflated 7%)\n",
            "  adding: data/token_representations/UniRef50_A0A024G022.pt (deflated 7%)\n",
            "  adding: data/token_representations/UniRef50_UPI0018A02408.pt (deflated 7%)\n",
            "  adding: data/token_representations/UniRef50_A0A8C5XFY2.pt (deflated 7%)\n",
            "  adding: data/token_representations/UniRef50_A0A813FIX7.pt (deflated 7%)\n",
            "  adding: data/token_representations/UniRef50_A0A7Y4VD97.pt (deflated 7%)\n",
            "  adding: data/token_representations/UniRef50_UPI0010A40CF9.pt (deflated 7%)\n",
            "  adding: data/token_representations/UniRef50_A0A182JIA2.pt (deflated 7%)\n",
            "  adding: data/token_representations/UniRef50_A0A913YA73.pt (deflated 7%)\n",
            "  adding: data/token_representations/UniRef50_A0A6J0BKQ9.pt (deflated 7%)\n",
            "  adding: data/token_representations/UniRef50_UPI001BB1029F.pt (deflated 7%)\n",
            "  adding: data/token_representations/UniRef50_A0A2U2PGR9.pt (deflated 7%)\n",
            "  adding: data/token_representations/UniRef50_A0A8J2HLU9.pt (deflated 7%)\n",
            "  adding: data/token_representations/UniRef50_UPI0015A37AD2.pt (deflated 7%)\n",
            "  adding: data/token_representations/UniRef50_UPI001890D14B.pt (deflated 7%)\n",
            "  adding: data/token_representations/UniRef50_A0A6P9AEA5.pt (deflated 7%)\n",
            "  adding: data/token_representations/UniRef50_A0A5S9QJY3.pt (deflated 7%)\n",
            "  adding: data/token_representations/UniRef50_A0A2U9BTJ5.pt (deflated 7%)\n",
            "  adding: data/token_representations/UniRef50_A0A9W6BYR3.pt (deflated 7%)\n",
            "  adding: data/token_representations/UniRef50_A0A1Q9CGZ7.pt (deflated 7%)\n",
            "  adding: data/token_representations/UniRef50_A0A571BEV2.pt (deflated 7%)\n",
            "  adding: data/token_representations/UniRef50_A0A545UDA0.pt (deflated 7%)\n",
            "  adding: data/token_representations/UniRef50_Q0SKF9.pt (deflated 7%)\n",
            "  adding: data/token_representations/UniRef50_A0A1H6MQQ4.pt (deflated 7%)\n",
            "  adding: data/token_representations/UniRef50_A0A0G1NMC9.pt (deflated 7%)\n",
            "  adding: data/token_representations/UniRef50_A0A2Z2H077.pt (deflated 7%)\n",
            "  adding: data/token_representations/UniRef50_A0A6I8TL89.pt (deflated 7%)\n",
            "  adding: data/token_representations/UniRef50_A0A9W6F9R4.pt (deflated 7%)\n",
            "  adding: data/token_representations/UniRef50_UPI002203A21E.pt (deflated 7%)\n",
            "  adding: data/token_representations/UniRef50_A0A5S6QCP3.pt (deflated 7%)\n",
            "  adding: data/token_representations/UniRef50_A0A975MVF3.pt (deflated 7%)\n",
            "  adding: data/token_representations/UniRef50_A0A4V6ICJ4.pt (deflated 7%)\n",
            "  adding: data/token_representations/UniRef50_UPI001CC7DE70.pt (deflated 7%)\n",
            "  adding: data/token_representations/UniRef50_A0A0F7G0K2.pt (deflated 7%)\n",
            "  adding: data/token_representations/UniRef50_A0A3M6TG77.pt (deflated 7%)\n",
            "  adding: data/token_representations/UniRef50_A0A8D3AGZ3.pt (deflated 8%)\n",
            "  adding: data/token_representations/UniRef50_A0A6P3ETE9.pt (deflated 7%)\n",
            "  adding: data/token_representations/UniRef50_A0A7W7NSZ4.pt (deflated 7%)\n",
            "  adding: data/token_representations/UniRef50_A0A5F8GPG9.pt (deflated 7%)\n",
            "  adding: data/token_representations/UniRef50_A0A7R9JZ65.pt (deflated 7%)\n",
            "  adding: data/token_representations/UniRef50_A0A6B0TZ59.pt (deflated 7%)\n",
            "  adding: data/token_representations/UniRef50_N9GEX6.pt (deflated 7%)\n",
            "  adding: data/token_representations/UniRef50_UPI0005932E89.pt (deflated 7%)\n",
            "  adding: data/token_representations/UniRef50_A0A1Y3MZ92.pt (deflated 7%)\n",
            "  adding: data/token_representations/UniRef50_UPI001A8EB648.pt (deflated 7%)\n",
            "  adding: data/token_representations/UniRef50_A0A023BPF7.pt (deflated 7%)\n",
            "  adding: data/token_representations/UniRef50_A0A2R5G6Z5.pt (deflated 7%)\n",
            "  adding: data/token_representations/UniRef50_A0A9P9IE54.pt (deflated 7%)\n",
            "  adding: data/token_representations/UniRef50_A0A4R2J8V3.pt (deflated 7%)\n",
            "  adding: data/token_representations/UniRef50_A0A2M8MD06.pt (deflated 8%)\n",
            "  adding: data/token_representations/UniRef50_A0A494U380.pt (deflated 7%)\n",
            "  adding: data/token_representations/UniRef50_A0A0G4FFV2.pt (deflated 7%)\n",
            "  adding: data/token_representations/UniRef50_A0A9J7LSA4.pt (deflated 7%)\n",
            "  adding: data/token_representations/UniRef50_A0A2J7ZUW5.pt (deflated 7%)\n",
            "  adding: data/token_representations/UniRef50_A0A6P1IVZ6.pt (deflated 7%)\n",
            "  adding: data/token_representations/UniRef50_A0A1H9IRX0.pt (deflated 7%)\n",
            "  adding: data/token_representations/UniRef50_A0A1B3LNK3.pt (deflated 7%)\n",
            "  adding: data/token_representations/UniRef50_A0A0S8GYM0.pt (deflated 7%)\n",
            "  adding: data/token_representations/UniRef50_A0A4E0RCB2.pt (deflated 7%)\n",
            "  adding: data/token_representations/UniRef50_UPI00224741F3.pt (deflated 7%)\n",
            "  adding: data/token_representations/UniRef50_A0A7J6M1M2.pt (deflated 7%)\n",
            "  adding: data/token_representations/UniRef50_A0A248K1Z6.pt (deflated 7%)\n",
            "  adding: data/token_representations/UniRef50_UPI001CC0F939.pt (deflated 7%)\n",
            "  adding: data/token_representations/UniRef50_A0A7F5RKL6.pt (deflated 7%)\n",
            "  adding: data/token_representations/UniRef50_A0A2U8E526.pt (deflated 7%)\n",
            "  adding: data/token_representations/UniRef50_UPI001F03C645.pt (deflated 7%)\n",
            "  adding: data/token_representations/UniRef50_Q22M08.pt (deflated 7%)\n",
            "  adding: data/token_representations/UniRef50_UPI0004D04517.pt (deflated 7%)\n",
            "  adding: data/token_representations/UniRef50_A0A379KS67.pt (deflated 7%)\n",
            "  adding: data/token_representations/UniRef50_A0A3N0YDF0.pt (deflated 7%)\n",
            "  adding: data/token_representations/UniRef50_G7GNI8.pt (deflated 7%)\n",
            "  adding: data/token_representations/UniRef50_A0A7Y5JLT0.pt (deflated 7%)\n",
            "  adding: data/token_representations/UniRef50_G1NLL2.pt (deflated 7%)\n",
            "  adding: data/token_representations/UniRef50_E2Q805.pt (deflated 7%)\n",
            "  adding: data/token_representations/UniRef50_A0A2M9MAB8.pt (deflated 7%)\n",
            "  adding: data/token_representations/UniRef50_A0A1P8FMP0.pt (deflated 7%)\n",
            "  adding: data/token_representations/UniRef50_A0A6P8G3L6.pt (deflated 7%)\n",
            "  adding: data/token_representations/UniRef50_UPI0019D4AFF6.pt (deflated 7%)\n",
            "  adding: data/token_representations/UniRef50_A0A674C051.pt (deflated 7%)\n",
            "  adding: data/token_representations/UniRef50_UPI001BFD6DAB.pt (deflated 7%)\n",
            "  adding: data/token_representations/UniRef50_UPI002478BC6C.pt (deflated 7%)\n",
            "  adding: data/token_representations/UniRef50_A0A9W9C0Q6.pt (deflated 7%)\n",
            "  adding: data/token_representations/UniRef50_A0A543FVZ1.pt (deflated 7%)\n",
            "  adding: data/token_representations/UniRef50_A0A3Q2GLB3.pt (deflated 7%)\n",
            "  adding: data/token_representations/UniRef50_F0Y8F2.pt (deflated 7%)\n",
            "  adding: data/token_representations/UniRef50_A0A9Q0RE66.pt (deflated 7%)\n",
            "  adding: data/token_representations/UniRef50_G5BR15.pt (deflated 7%)\n",
            "  adding: data/token_representations/UniRef50_A0A7N5KGF2.pt (deflated 8%)\n",
            "  adding: data/token_representations/UniRef50_A0A369S074.pt (deflated 7%)\n",
            "  adding: data/token_representations/UniRef50_A0A7J6DHB1.pt (deflated 7%)\n",
            "  adding: data/token_representations/UniRef50_UPI001F41A9BF.pt (deflated 7%)\n",
            "  adding: data/token_representations/UniRef50_A0A539EEI0.pt (deflated 7%)\n",
            "  adding: data/token_representations/UniRef50_A0A2A4F895.pt (deflated 7%)\n",
            "  adding: data/token_representations/UniRef50_A0A0L0CN79.pt (deflated 7%)\n",
            "  adding: data/token_representations/UniRef50_UPI000853F7C4.pt (deflated 7%)\n",
            "  adding: data/token_representations/UniRef50_A0A2K6JYI5.pt (deflated 7%)\n",
            "  adding: data/token_representations/UniRef50_A0A7M7SY23.pt (deflated 7%)\n",
            "  adding: data/token_representations/UniRef50_A0A7Y5GTP4.pt (deflated 7%)\n",
            "  adding: data/token_representations/UniRef50_A0A857DCA0.pt (deflated 7%)\n",
            "  adding: data/token_representations/UniRef50_A0A812DX53.pt (deflated 7%)\n",
            "  adding: data/token_representations/UniRef50_UPI0017879B8C.pt (deflated 7%)\n",
            "  adding: data/token_representations/UniRef50_UPI001CF11C19.pt (deflated 7%)\n",
            "  adding: data/token_representations/UniRef50_UPI002048A4FB.pt (deflated 7%)\n",
            "  adding: data/token_representations/UniRef50_A0A6S7G1R8.pt (deflated 7%)\n",
            "  adding: data/token_representations/UniRef50_A0A7W9MYF5.pt (deflated 7%)\n",
            "  adding: data/token_representations/UniRef50_A0A6F8PJV8.pt (deflated 7%)\n",
            "  adding: data/token_representations/UniRef50_UPI000B8E250A.pt (deflated 7%)\n",
            "  adding: data/token_representations/UniRef50_A0A9P3K5U6.pt (deflated 7%)\n",
            "  adding: data/token_representations/UniRef50_UPI001C66D1A4.pt (deflated 7%)\n",
            "  adding: data/token_representations/UniRef50_A0A0L7LVD9.pt (deflated 7%)\n",
            "  adding: data/token_representations/UniRef50_A0A5S9QXA3.pt (deflated 7%)\n",
            "  adding: data/token_representations/UniRef50_A0A0J7M515.pt (deflated 7%)\n",
            "  adding: data/token_representations/UniRef50_A0A1B0DCW3.pt (deflated 8%)\n",
            "  adding: data/token_representations/UniRef50_A0A2M9IH00.pt (deflated 7%)\n",
            "  adding: data/token_representations/UniRef50_A0A936GW02.pt (deflated 7%)\n",
            "  adding: data/token_representations/UniRef50_A0A137SVZ1.pt (deflated 7%)\n",
            "  adding: data/token_representations/UniRef50_A0A8K0JFE1.pt (deflated 7%)\n",
            "  adding: data/token_representations/UniRef50_A0A0G4FFP3.pt (deflated 7%)\n",
            "  adding: data/token_representations/UniRef50_A0A7W1ZQR9.pt (deflated 7%)\n",
            "  adding: data/token_representations/UniRef50_A0A914CRB9.pt (deflated 7%)\n",
            "  adding: data/token_representations/UniRef50_A0A921ZGC5.pt (deflated 7%)\n",
            "  adding: data/token_representations/UniRef50_A0A6A5F214.pt (deflated 7%)\n",
            "  adding: data/token_representations/UniRef50_A0A6P8PSF6.pt (deflated 7%)\n",
            "  adding: data/token_representations/UniRef50_A0A6G2XBY7.pt (deflated 7%)\n",
            "  adding: data/token_representations/UniRef50_UPI002044906E.pt (deflated 7%)\n",
            "  adding: data/token_representations/UniRef50_A0A0P1FSU4.pt (deflated 7%)\n",
            "  adding: data/token_representations/UniRef50_K9FW81.pt (deflated 7%)\n",
            "  adding: data/token_representations/UniRef50_UPI001B8897FC.pt (deflated 7%)\n",
            "  adding: data/token_representations/UniRef50_A0A0M3I452.pt (deflated 7%)\n",
            "  adding: data/token_representations/UniRef50_UPI001FA7E3E2.pt (deflated 7%)\n",
            "  adding: data/token_representations/UniRef50_A0A6P7HHF8.pt (deflated 7%)\n",
            "  adding: data/token_representations/UniRef50_J9I3J5.pt (deflated 7%)\n",
            "  adding: data/token_representations/UniRef50_A0A8J9V3C1.pt (deflated 7%)\n",
            "  adding: data/token_representations/UniRef50_UPI001F19D369.pt (deflated 7%)\n",
            "  adding: data/token_representations/UniRef50_A0A1H5KG20.pt (deflated 7%)\n",
            "  adding: data/token_representations/UniRef50_A0A2X2LX14.pt (deflated 7%)\n",
            "  adding: data/token_representations/UniRef50_A0A6A3D4Q9.pt (deflated 7%)\n",
            "  adding: data/token_representations/UniRef50_A0A8J9VQ94.pt (deflated 7%)\n",
            "  adding: data/token_representations/UniRef50_UPI001BA73DE1.pt (deflated 7%)\n",
            "  adding: data/token_representations/UniRef50_UPI000D649439.pt (deflated 7%)\n",
            "  adding: data/token_representations/UniRef50_U6M397.pt (deflated 7%)\n",
            "  adding: data/token_representations/UniRef50_A0A4Q9YR67.pt (deflated 7%)\n",
            "  adding: data/token_representations/UniRef50_D2UBR8.pt (deflated 7%)\n",
            "  adding: data/token_representations/UniRef50_A0A8S4BIH8.pt (deflated 7%)\n",
            "  adding: data/token_representations/UniRef50_A0A672TKP4.pt (deflated 7%)\n",
            "  adding: data/token_representations/UniRef50_A0A6I9P0T0.pt (deflated 7%)\n",
            "  adding: data/token_representations/UniRef50_UPI0002D9E0FF.pt (deflated 7%)\n",
            "  adding: data/token_representations/UniRef50_A0A3D5B5A5.pt (deflated 7%)\n",
            "  adding: data/token_representations/UniRef50_A0A0K8VFZ0.pt (deflated 7%)\n",
            "  adding: data/token_representations/UniRef50_A0A6J2SYW5.pt (deflated 7%)\n",
            "  adding: data/token_representations/UniRef50_A0A9X9HXG4.pt (deflated 7%)\n",
            "  adding: data/token_representations/UniRef50_UPI001F182CAE.pt (deflated 7%)\n",
            "  adding: data/token_representations/UniRef50_A0A8B9QPU2.pt (deflated 7%)\n",
            "  adding: data/token_representations/UniRef50_A0A954ZIY5.pt (deflated 7%)\n",
            "  adding: data/token_representations/UniRef50_A0A8C5RHG6.pt (deflated 7%)\n",
            "  adding: data/token_representations/UniRef50_A0A8H4UI55.pt (deflated 7%)\n",
            "  adding: data/token_representations/UniRef50_UPI0015B1902C.pt (deflated 7%)\n",
            "  adding: data/token_representations/UniRef50_A0A7W7SKP1.pt (deflated 7%)\n",
            "  adding: data/token_representations/UniRef50_UPI00191469F7.pt (deflated 7%)\n",
            "  adding: data/token_representations/UniRef50_UPI0023DD1F64.pt (deflated 7%)\n",
            "  adding: data/token_representations/UniRef50_UPI001EF28E20.pt (deflated 7%)\n",
            "  adding: data/token_representations/UniRef50_A0A2A3HM73.pt (deflated 7%)\n",
            "  adding: data/token_representations/UniRef50_A0A813MD17.pt (deflated 7%)\n",
            "  adding: data/token_representations/UniRef50_A0A836H959.pt (deflated 7%)\n",
            "  adding: data/token_representations/UniRef50_Q664I0.pt (deflated 7%)\n",
            "  adding: data/token_representations/UniRef50_UPI001B7F88A6.pt (deflated 7%)\n",
            "  adding: data/token_representations/UniRef50_K2JKC4.pt (deflated 7%)\n",
            "  adding: data/token_representations/UniRef50_A0A849W4U4.pt (deflated 7%)\n",
            "  adding: data/token_representations/UniRef50_A0A6P8ZRT0.pt (deflated 7%)\n",
            "  adding: data/token_representations/UniRef50_A0A9W2YRP9.pt (deflated 7%)\n",
            "  adding: data/token_representations/UniRef50_A0A8T1ULH7.pt (deflated 7%)\n",
            "  adding: data/token_representations/UniRef50_A0A1W2GMX7.pt (deflated 7%)\n",
            "  adding: data/token_representations/UniRef50_A0A2K3E2P7.pt (deflated 7%)\n",
            "  adding: data/token_representations/UniRef50_A0A6L9EFR0.pt (deflated 7%)\n",
            "  adding: data/token_representations/UniRef50_UPI001895E8FF.pt (deflated 7%)\n",
            "  adding: data/token_representations/UniRef50_A0A8W8NF45.pt (deflated 7%)\n",
            "  adding: data/token_representations/UniRef50_A0A449B7I7.pt (deflated 7%)\n",
            "  adding: data/token_representations/UniRef50_UPI001942A433.pt (deflated 7%)\n",
            "  adding: data/token_representations/UniRef50_A0A1H9R9Q5.pt (deflated 7%)\n",
            "  adding: data/token_representations/UniRef50_A0FEM3.pt (deflated 7%)\n",
            "  adding: data/token_representations/UniRef50_A0A7R9LAS1.pt (deflated 7%)\n",
            "  adding: data/token_representations/UniRef50_UPI0015ABAC2D.pt (deflated 7%)\n",
            "  adding: data/token_representations/UniRef50_G3TNU4.pt (deflated 7%)\n",
            "  adding: data/token_representations/UniRef50_A0A1I9J5N8.pt (deflated 7%)\n",
            "  adding: data/token_representations/UniRef50_UPI0022874258.pt (deflated 7%)\n",
            "  adding: data/token_representations/UniRef50_UPI0020D0E452.pt (deflated 7%)\n",
            "  adding: data/token_representations/UniRef50_UPI000C719403.pt (deflated 7%)\n",
            "  adding: data/token_representations/UniRef50_A0A913YZ49.pt (deflated 7%)\n",
            "  adding: data/token_representations/UniRef50_M1WHF4.pt (deflated 7%)\n",
            "  adding: data/token_representations/UniRef50_A0A9D6JTE0.pt (deflated 7%)\n",
            "  adding: data/token_representations/UniRef50_UPI0024575357.pt (deflated 7%)\n",
            "  adding: data/token_representations/UniRef50_A0A6P8UI55.pt (deflated 7%)\n",
            "  adding: data/token_representations/UniRef50_S6BL89.pt (deflated 7%)\n",
            "  adding: data/token_representations/UniRef50_A0A1Z8U2U1.pt (deflated 7%)\n",
            "  adding: data/token_representations/UniRef50_Q8TE73.pt (deflated 7%)\n",
            "  adding: data/token_representations/UniRef50_A0A9E8IYM6.pt (deflated 7%)\n",
            "  adding: data/token_representations/UniRef50_UPI0008115092.pt (deflated 7%)\n",
            "  adding: data/token_representations/UniRef50_A0A3A1YKK4.pt (deflated 7%)\n",
            "  adding: data/token_representations/UniRef50_A0A918EWV8.pt (deflated 7%)\n",
            "  adding: data/token_representations/UniRef50_A0A2N3Y6W8.pt (deflated 7%)\n",
            "  adding: data/token_representations/UniRef50_A0A1Q9CYQ9.pt (deflated 7%)\n",
            "  adding: data/token_representations/UniRef50_K7FBT8.pt (deflated 7%)\n",
            "  adding: data/token_representations/UniRef50_A0A2I0LER4.pt (deflated 7%)\n",
            "  adding: data/token_representations/UniRef50_A0A2T7UH09.pt (deflated 7%)\n",
            "  adding: data/token_representations/UniRef50_F0VJC6.pt (deflated 7%)\n",
            "  adding: data/token_representations/UniRef50_UPI00137576FC.pt (deflated 7%)\n",
            "  adding: data/token_representations/UniRef50_UPI0015E22575.pt (deflated 7%)\n",
            "  adding: data/token_representations/UniRef50_A0A815BHW9.pt (deflated 7%)\n",
            "  adding: data/token_representations/UniRef50_UPI0022A94C9C.pt (deflated 7%)\n",
            "  adding: data/token_representations/UniRef50_A0A370U1R1.pt (deflated 7%)\n",
            "  adding: data/token_representations/UniRef50_V5U4Q0.pt (deflated 7%)\n",
            "  adding: data/token_representations/UniRef50_A0A9P1GLC3.pt (deflated 7%)\n",
            "  adding: data/token_representations/UniRef50_A0A1T4Z0B7.pt (deflated 7%)\n",
            "  adding: data/token_representations/UniRef50_UPI00189565CF.pt (deflated 7%)\n",
            "  adding: data/token_representations/UniRef50_A9V7V3.pt (deflated 7%)\n",
            "  adding: data/token_representations/UniRef50_N6YLE1.pt (deflated 7%)\n",
            "  adding: data/token_representations/UniRef50_F0VJR4.pt (deflated 7%)\n",
            "  adding: data/token_representations/UniRef50_A0A4R6JK46.pt (deflated 7%)\n",
            "  adding: data/token_representations/UniRef50_A0A821TMC6.pt (deflated 7%)\n",
            "  adding: data/token_representations/UniRef50_A0A3M2YB05.pt (deflated 8%)\n",
            "  adding: data/token_representations/UniRef50_UPI001151C7AE.pt (deflated 7%)\n",
            "  adding: data/token_representations/UniRef50_E0VNW8.pt (deflated 7%)\n",
            "  adding: data/token_representations/UniRef50_UPI000CC13CBE.pt (deflated 7%)\n",
            "  adding: data/token_representations/UniRef50_A0A540X646.pt (deflated 7%)\n",
            "  adding: data/token_representations/UniRef50_A0A388LZ49.pt (deflated 7%)\n",
            "  adding: data/token_representations/UniRef50_A0A0X3W7M4.pt (deflated 7%)\n",
            "  adding: data/token_representations/UniRef50_A4PHN0.pt (deflated 7%)\n",
            "  adding: data/token_representations/UniRef50_UPI000D630C6E.pt (deflated 7%)\n",
            "  adding: data/token_representations/UniRef50_A0A090L4A5.pt (deflated 7%)\n",
            "  adding: data/token_representations/UniRef50_A0A319D076.pt (deflated 7%)\n",
            "  adding: data/token_representations/UniRef50_M9PC23.pt (deflated 7%)\n",
            "  adding: data/token_representations/UniRef50_A0A811JTU2.pt (deflated 7%)\n",
            "  adding: data/token_representations/UniRef50_A0A086QCR3.pt (deflated 7%)\n",
            "  adding: data/token_representations/UniRef50_A0A850TGX1.pt (deflated 8%)\n",
            "  adding: data/token_representations/UniRef50_A0A2K3E5J0.pt (deflated 7%)\n",
            "  adding: data/token_representations/UniRef50_L1JA84.pt (deflated 7%)\n",
            "  adding: data/token_representations/UniRef50_A0A944ZJG5.pt (deflated 7%)\n",
            "  adding: data/token_representations/UniRef50_UPI002035C063.pt (deflated 7%)\n",
            "  adding: data/token_representations/UniRef50_A0A0N0BC30.pt (deflated 7%)\n",
            "  adding: data/token_representations/UniRef50_A0A8J6GBV7.pt (deflated 7%)\n",
            "  adding: data/token_representations/UniRef50_V3ZE94.pt (deflated 7%)\n",
            "  adding: data/token_representations/UniRef50_A0A922M1Q1.pt (deflated 7%)\n",
            "  adding: data/token_representations/UniRef50_UPI0024BC9EC5.pt (deflated 7%)\n",
            "  adding: data/token_representations/UniRef50_UPI0022E79389.pt (deflated 7%)\n",
            "  adding: data/token_representations/UniRef50_A0A3N2MSB3.pt (deflated 7%)\n",
            "  adding: data/token_representations/UniRef50_A0A2B4SCY1.pt (deflated 7%)\n",
            "  adding: data/token_representations/UniRef50_A0A8J7GKZ9.pt (deflated 7%)\n",
            "  adding: data/token_representations/UniRef50_UPI0024555E62.pt (deflated 7%)\n",
            "  adding: data/token_representations/UniRef50_UPI00273C2D4A.pt (deflated 7%)\n",
            "  adding: data/token_representations/UniRef50_A0A932CHD9.pt (deflated 7%)\n",
            "  adding: data/token_representations/UniRef50_UPI0014556156.pt (deflated 7%)\n",
            "  adding: data/token_representations/UniRef50_A0A6J2SU40.pt (deflated 7%)\n",
            "  adding: data/token_representations/UniRef50_UPI002226BECF.pt (deflated 7%)\n",
            "  adding: data/token_representations/UniRef50_A0A090AH11.pt (deflated 7%)\n",
            "  adding: data/token_representations/UniRef50_A0A4R7VH46.pt (deflated 7%)\n",
            "  adding: data/token_representations/UniRef50_A0A7M3M0W8.pt (deflated 7%)\n",
            "  adding: data/token_representations/UniRef50_A0A127AXE9.pt (deflated 7%)\n",
            "  adding: data/token_representations/UniRef50_W4BH68.pt (deflated 7%)\n",
            "  adding: data/token_representations/UniRef50_A0A7T1HZK6.pt (deflated 7%)\n",
            "  adding: data/token_representations/UniRef50_A0A7J6YB95.pt (deflated 7%)\n",
            "  adding: data/token_representations/UniRef50_UPI001CCE8845.pt (deflated 7%)\n",
            "  adding: data/token_representations/UniRef50_UPI001EF3679C.pt (deflated 7%)\n",
            "  adding: data/token_representations/UniRef50_A0A5B7ULP3.pt (deflated 7%)\n",
            "  adding: data/token_representations/UniRef50_A0A435Q1D9.pt (deflated 7%)\n",
            "  adding: data/token_representations/UniRef50_A0A344TPK2.pt (deflated 7%)\n",
            "  adding: data/token_representations/UniRef50_UPI0005C1EA61.pt (deflated 7%)\n",
            "  adding: data/token_representations/UniRef50_O77372.pt (deflated 7%)\n",
            "  adding: data/token_representations/UniRef50_A0A5P1QTV6.pt (deflated 7%)\n",
            "  adding: data/token_representations/UniRef50_UPI0022858838.pt (deflated 7%)\n",
            "  adding: data/token_representations/UniRef50_A0A855NFB1.pt (deflated 7%)\n",
            "  adding: data/token_representations/UniRef50_A0A3M6U633.pt (deflated 7%)\n",
            "  adding: data/token_representations/UniRef50_A0A6P5ANJ6.pt (deflated 7%)\n",
            "  adding: data/token_representations/UniRef50_UPI00254283B3.pt (deflated 7%)\n",
            "  adding: data/token_representations/UniRef50_A0A2X1XYE2.pt (deflated 7%)\n",
            "  adding: data/token_representations/UniRef50_UPI00201E8B59.pt (deflated 7%)\n",
            "  adding: data/token_representations/UniRef50_A0A2C6KGG4.pt (deflated 7%)\n",
            "  adding: data/token_representations/UniRef50_K8EDQ1.pt (deflated 7%)\n",
            "  adding: data/token_representations/UniRef50_A0A7Y4MNM1.pt (deflated 7%)\n",
            "  adding: data/token_representations/UniRef50_A0A8S9BZ43.pt (deflated 7%)\n",
            "  adding: data/token_representations/UniRef50_A0A2K8RGV8.pt (deflated 7%)\n",
            "  adding: data/token_representations/UniRef50_A0A345H2D3.pt (deflated 7%)\n",
            "  adding: data/token_representations/UniRef50_A0A4Q5SSI0.pt (deflated 7%)\n",
            "  adding: data/token_representations/UniRef50_UPI001CBA1903.pt (deflated 7%)\n",
            "  adding: data/token_representations/UniRef50_UPI00202A0112.pt (deflated 7%)\n",
            "  adding: data/token_representations/UniRef50_UPI0002FA1718.pt (deflated 7%)\n",
            "  adding: data/token_representations/UniRef50_M9MRD1.pt (deflated 7%)\n",
            "  adding: data/token_representations/UniRef50_A0A411K9V9.pt (deflated 7%)\n",
            "  adding: data/token_representations/UniRef50_UPI000E6E1981.pt (deflated 7%)\n",
            "  adding: data/token_representations/UniRef50_G4SLH0-4.pt (deflated 7%)\n",
            "  adding: data/token_representations/UniRef50_A0A178IQF3.pt (deflated 7%)\n",
            "  adding: data/token_representations/UniRef50_A0A2N0XFZ1.pt (deflated 7%)\n",
            "  adding: data/token_representations/UniRef50_A0A932V277.pt (deflated 7%)\n",
            "  adding: data/token_representations/UniRef50_A0A6G6K631.pt (deflated 7%)\n",
            "  adding: data/token_representations/UniRef50_A0A3R7B962.pt (deflated 7%)\n",
            "  adding: data/token_representations/UniRef50_UPI0010D52F38.pt (deflated 7%)\n",
            "  adding: data/token_representations/UniRef50_A0A835SWJ5.pt (deflated 7%)\n",
            "  adding: data/token_representations/UniRef50_A0A9R0E862.pt (deflated 7%)\n",
            "  adding: data/token_representations/UniRef50_A2Z3N5.pt (deflated 7%)\n",
            "  adding: data/token_representations/UniRef50_E0VU67.pt (deflated 7%)\n",
            "  adding: data/token_representations/UniRef50_UPI000C758F2E.pt (deflated 7%)\n",
            "  adding: data/token_representations/UniRef50_A0A8R2JV33.pt (deflated 7%)\n",
            "  adding: data/token_representations/UniRef50_A0A397B0W2.pt (deflated 7%)\n",
            "  adding: data/token_representations/UniRef50_A0A0K6S965.pt (deflated 7%)\n",
            "  adding: data/token_representations/UniRef50_A0A355KTI1.pt (deflated 7%)\n",
            "  adding: data/token_representations/UniRef50_A0A835VY86.pt (deflated 7%)\n",
            "  adding: data/token_representations/UniRef50_UPI002148FE57.pt (deflated 7%)\n",
            "  adding: data/token_representations/UniRef50_A0A1S2SXY3.pt (deflated 7%)\n",
            "  adding: data/token_representations/UniRef50_Q14517.pt (deflated 7%)\n",
            "  adding: data/token_representations/UniRef50_A0A9D7AL26.pt (deflated 7%)\n",
            "  adding: data/token_representations/UniRef50_A0A6G0TP31.pt (deflated 7%)\n",
            "  adding: data/token_representations/UniRef50_U3CKX2.pt (deflated 7%)\n",
            "  adding: data/token_representations/UniRef50_UPI001A7E18AA.pt (deflated 7%)\n",
            "  adding: data/token_representations/UniRef50_UPI00232E2EAD.pt (deflated 7%)\n",
            "  adding: data/token_representations/UniRef50_UPI0023FA34BA.pt (deflated 7%)\n",
            "  adding: data/token_representations/UniRef50_A0A917Q2M6.pt (deflated 7%)\n",
            "  adding: data/token_representations/UniRef50_A0A444HEL7.pt (deflated 7%)\n",
            "  adding: data/token_representations/UniRef50_A0A2K5RNE2.pt (deflated 7%)\n",
            "  adding: data/token_representations/UniRef50_UPI0021F38DB5.pt (deflated 7%)\n",
            "  adding: data/token_representations/UniRef50_A0A9D3XAP6.pt (deflated 7%)\n",
            "  adding: data/token_representations/UniRef50_A0A2J7QVE6.pt (deflated 7%)\n",
            "  adding: data/token_representations/UniRef50_A0A8B7D7P7.pt (deflated 7%)\n",
            "  adding: data/token_representations/UniRef50_A0A914BEI0.pt (deflated 7%)\n",
            "  adding: data/token_representations/UniRef50_A0A0N1IAZ8.pt (deflated 7%)\n",
            "  adding: data/token_representations/UniRef50_A0A5D6YGA6.pt (deflated 7%)\n",
            "  adding: data/token_representations/UniRef50_A0A8J5XDM2.pt (deflated 7%)\n",
            "  adding: data/token_representations/UniRef50_A0A372GQS0.pt (deflated 7%)\n",
            "  adding: data/token_representations/UniRef50_A0A7R8CV63.pt (deflated 7%)\n",
            "  adding: data/token_representations/UniRef50_A0A484CV37.pt (deflated 7%)\n",
            "  adding: data/token_representations/UniRef50_UPI00273A4E11.pt (deflated 7%)\n",
            "  adding: data/token_representations/UniRef50_A0A1J1J6T1.pt (deflated 7%)\n",
            "  adding: data/token_representations/UniRef50_A0A4D6P1M8.pt (deflated 7%)\n",
            "  adding: data/token_representations/UniRef50_A0A2I0KFC2.pt (deflated 7%)\n",
            "  adding: data/token_representations/UniRef50_A0A096XNJ3.pt (deflated 7%)\n",
            "  adding: data/token_representations/UniRef50_A0A1I7W4X8.pt (deflated 7%)\n",
            "  adding: data/token_representations/UniRef50_UPI00193FF25E.pt (deflated 7%)\n",
            "  adding: data/token_representations/UniRef50_UPI001B3AAEE6.pt (deflated 7%)\n",
            "  adding: data/token_representations/UniRef50_A0A9X0QMW3.pt (deflated 7%)\n",
            "  adding: data/token_representations/UniRef50_UPI002478857F.pt (deflated 7%)\n",
            "  adding: data/token_representations/UniRef50_A0A7W2Q0X1.pt (deflated 7%)\n",
            "  adding: data/token_representations/UniRef50_UPI00211F1322.pt (deflated 7%)\n",
            "  adding: data/token_representations/UniRef50_A0A8C6QQW3.pt (deflated 7%)\n",
            "  adding: data/token_representations/UniRef50_UPI0023DCA9E6.pt (deflated 7%)\n",
            "  adding: data/token_representations/UniRef50_UPI0010FB8FD9.pt (deflated 7%)\n",
            "  adding: data/token_representations/UniRef50_A0A6P4E7I7.pt (deflated 7%)\n",
            "  adding: data/token_representations/UniRef50_A0A562E4C1.pt (deflated 7%)\n",
            "  adding: data/token_representations/UniRef50_A0A0G1P5Z0.pt (deflated 7%)\n",
            "  adding: data/token_representations/UniRef50_A0A154L6V8.pt (deflated 7%)\n",
            "  adding: data/token_representations/UniRef50_A0A5D6WAU5.pt (deflated 7%)\n",
            "  adding: data/token_representations/UniRef50_UPI0024180C99.pt (deflated 7%)\n",
            "  adding: data/token_representations/UniRef50_A0A8H9IQ02.pt (deflated 7%)\n",
            "  adding: data/token_representations/UniRef50_A0A5P9K4K3.pt (deflated 8%)\n",
            "  adding: data/token_representations/UniRef50_A0A8S4GMN9.pt (deflated 7%)\n",
            "  adding: data/token_representations/UniRef50_A0A0P7BI40.pt (deflated 7%)\n",
            "  adding: data/token_representations/UniRef50_A0A0N0V196.pt (deflated 7%)\n",
            "  adding: data/token_representations/UniRef50_UPI0026307779.pt (deflated 7%)\n",
            "  adding: data/token_representations/UniRef50_UPI0022641929.pt (deflated 7%)\n",
            "  adding: data/token_representations/UniRef50_UPI0018B0B695.pt (deflated 7%)\n",
            "  adding: data/token_representations/UniRef50_A0A2J7PDP3.pt (deflated 7%)\n",
            "  adding: data/token_representations/UniRef50_A0A117PMN7.pt (deflated 7%)\n",
            "  adding: data/token_representations/UniRef50_A0A517VA40.pt (deflated 7%)\n",
            "  adding: data/token_representations/UniRef50_UPI0024566BEC.pt (deflated 7%)\n",
            "  adding: data/token_representations/UniRef50_A0A2H0LVT8.pt (deflated 7%)\n",
            "  adding: data/token_representations/UniRef50_A0A193FXN1.pt (deflated 7%)\n",
            "  adding: data/token_representations/UniRef50_UPI0024A5A2D6.pt (deflated 7%)\n",
            "  adding: data/token_representations/UniRef50_A0A239JWR1.pt (deflated 7%)\n",
            "  adding: data/token_representations/UniRef50_A0A419DV91.pt (deflated 7%)\n",
            "  adding: data/token_representations/UniRef50_A0A0J1EKA1.pt (deflated 7%)\n",
            "  adding: data/token_representations/UniRef50_A0A165KZF7.pt (deflated 7%)\n",
            "  adding: data/token_representations/UniRef50_A0A975N2Y9.pt (deflated 7%)\n",
            "  adding: data/token_representations/UniRef50_UPI0020FF8EA7.pt (deflated 7%)\n",
            "  adding: data/token_representations/UniRef50_A0A418WQ11.pt (deflated 7%)\n",
            "  adding: data/token_representations/UniRef50_F5YJR0.pt (deflated 7%)\n",
            "  adding: data/token_representations/UniRef50_UPI000A28F076.pt (deflated 7%)\n",
            "  adding: data/token_representations/UniRef50_UPI0010DF6D71.pt (deflated 7%)\n",
            "  adding: data/token_representations/UniRef50_UPI002270D3CB.pt (deflated 7%)\n",
            "  adding: data/token_representations/UniRef50_UPI00234F4201.pt (deflated 7%)\n",
            "  adding: data/token_representations/UniRef50_A0A9D5JPW1.pt (deflated 7%)\n",
            "  adding: data/token_representations/UniRef50_A0A0G4GJ59.pt (deflated 7%)\n",
            "  adding: data/token_representations/UniRef50_A0A8W8MBI1.pt (deflated 7%)\n",
            "  adding: data/token_representations/UniRef50_A0A5A8CP20.pt (deflated 7%)\n",
            "  adding: data/token_representations/UniRef50_A0A553NIJ1.pt (deflated 7%)\n",
            "  adding: data/token_representations/UniRef50_A0A5C6NQ36.pt (deflated 7%)\n",
            "  adding: data/token_representations/UniRef50_UPI001113EC7D.pt (deflated 7%)\n",
            "  adding: data/token_representations/UniRef50_UPI0022A9BF50.pt (deflated 7%)\n",
            "  adding: data/token_representations/UniRef50_A0A8J1ZFG3.pt (deflated 7%)\n",
            "  adding: data/token_representations/UniRef50_A0A5E4QY87.pt (deflated 7%)\n",
            "  adding: data/token_representations/UniRef50_A0A8A4TJZ8.pt (deflated 7%)\n",
            "  adding: data/token_representations/UniRef50_A0A378J3Z5.pt (deflated 7%)\n",
            "  adding: data/token_representations/UniRef50_A0A226EXV1.pt (deflated 7%)\n",
            "  adding: data/token_representations/UniRef50_R4LDQ0.pt (deflated 7%)\n",
            "  adding: data/token_representations/UniRef50_UPI0004635D4C.pt (deflated 7%)\n",
            "  adding: data/token_representations/UniRef50_R4LG23.pt (deflated 7%)\n",
            "  adding: data/token_representations/UniRef50_UPI0019AA57F8.pt (deflated 7%)\n",
            "  adding: data/token_representations/UniRef50_A0A964L754.pt (deflated 7%)\n",
            "  adding: data/token_representations/UniRef50_A0A7X6B1J2.pt (deflated 7%)\n",
            "  adding: data/token_representations/UniRef50_A0A815P5T2.pt (deflated 7%)\n",
            "  adding: data/token_representations/UniRef50_UPI0019D6BDAE.pt (deflated 7%)\n",
            "  adding: data/token_representations/UniRef50_A0A7X7S2E7.pt (deflated 7%)\n",
            "  adding: data/token_representations/UniRef50_A0A5N5PE48.pt (deflated 7%)\n",
            "  adding: data/token_representations/UniRef50_UPI001C909DFC.pt (deflated 7%)\n",
            "  adding: data/token_representations/UniRef50_Q4S6H2.pt (deflated 7%)\n",
            "  adding: data/token_representations/UniRef50_A0A2A4W5P4.pt (deflated 7%)\n",
            "  adding: data/token_representations/UniRef50_UPI00234D1549.pt (deflated 7%)\n",
            "  adding: data/token_representations/UniRef50_UPI001CFCB974.pt (deflated 7%)\n",
            "  adding: data/token_representations/UniRef50_A0A6M0J127.pt (deflated 7%)\n",
            "  adding: data/token_representations/UniRef50_A0A493TRR4.pt (deflated 7%)\n",
            "  adding: data/token_representations/UniRef50_A0A1H9XRB8.pt (deflated 7%)\n",
            "  adding: data/token_representations/UniRef50_A0A5C2H9D8.pt (deflated 7%)\n",
            "  adding: data/token_representations/UniRef50_A0A356EKJ1.pt (deflated 7%)\n",
            "  adding: data/token_representations/UniRef50_A0A1H4SSN8.pt (deflated 7%)\n",
            "  adding: data/token_representations/UniRef50_UPI00272C4516.pt (deflated 7%)\n",
            "  adding: data/token_representations/UniRef50_A0A8G1YMJ2.pt (deflated 7%)\n",
            "  adding: data/token_representations/UniRef50_A0A2N2HJ17.pt (deflated 7%)\n",
            "  adding: data/token_representations/UniRef50_UPI0022591142.pt (deflated 7%)\n",
            "  adding: data/token_representations/UniRef50_A0A963GWG9.pt (deflated 7%)\n",
            "  adding: data/token_representations/UniRef50_A0A8J6TRL4.pt (deflated 7%)\n",
            "  adding: data/token_representations/UniRef50_A0A8W8IAB9.pt (deflated 7%)\n",
            "  adding: data/token_representations/UniRef50_G3NBA0.pt (deflated 7%)\n",
            "  adding: data/token_representations/UniRef50_A0A9P3UBF5.pt (deflated 7%)\n",
            "  adding: data/token_representations/UniRef50_A0A6I3T2M4.pt (deflated 7%)\n",
            "  adding: data/token_representations/UniRef50_A0A8T5EWV3.pt (deflated 7%)\n",
            "  adding: data/token_representations/UniRef50_B4JBF2.pt (deflated 7%)\n",
            "  adding: data/token_representations/UniRef50_A0A2M9J585.pt (deflated 7%)\n",
            "  adding: data/token_representations/UniRef50_A0A916XBR1.pt (deflated 7%)\n",
            "  adding: data/token_representations/UniRef50_UPI00237D3DE9.pt (deflated 7%)\n",
            "  adding: data/token_representations/UniRef50_A0A8C7KDH8.pt (deflated 7%)\n",
            "  adding: data/token_representations/UniRef50_A0A7J6K067.pt (deflated 7%)\n",
            "  adding: data/token_representations/UniRef50_A0A1F6LIH6.pt (deflated 7%)\n",
            "  adding: data/token_representations/UniRef50_A0A812TAE6.pt (deflated 7%)\n",
            "  adding: data/token_representations/UniRef50_A0A8B6F476.pt (deflated 7%)\n",
            "  adding: data/token_representations/UniRef50_A0A1H9X695.pt (deflated 7%)\n",
            "  adding: data/token_representations/UniRef50_UPI001C568918.pt (deflated 7%)\n",
            "  adding: data/token_representations/UniRef50_UPI0019149EE7.pt (deflated 7%)\n",
            "  adding: data/token_representations/UniRef50_E3SIA9.pt (deflated 7%)\n",
            "  adding: data/token_representations/UniRef50_A0A3M6UMQ2.pt (deflated 7%)\n",
            "  adding: data/token_representations/UniRef50_A0A812M9Y2.pt (deflated 7%)\n",
            "  adding: data/token_representations/UniRef50_A0A5S9IQ46.pt (deflated 7%)\n",
            "  adding: data/token_representations/UniRef50_UPI000781E7DD.pt (deflated 7%)\n",
            "  adding: data/token_representations/UniRef50_UPI001F5D0E5C.pt (deflated 7%)\n",
            "  adding: data/token_representations/UniRef50_UPI00146D564B.pt (deflated 7%)\n",
            "  adding: data/token_representations/UniRef50_A0A498MZ29.pt (deflated 7%)\n",
            "  adding: data/token_representations/UniRef50_A0RVW5.pt (deflated 7%)\n",
            "  adding: data/token_representations/UniRef50_UPI001F5B93F4.pt (deflated 7%)\n",
            "  adding: data/token_representations/UniRef50_B4D818.pt (deflated 7%)\n",
            "  adding: data/token_representations/UniRef50_A0A517MLL7.pt (deflated 7%)\n",
            "  adding: data/token_representations/UniRef50_A0A5C3QL45.pt (deflated 7%)\n",
            "  adding: data/token_representations/UniRef50_A0A147GU44.pt (deflated 7%)\n",
            "  adding: data/token_representations/UniRef50_A0A1V5HHM3.pt (deflated 7%)\n",
            "  adding: data/token_representations/UniRef50_A0A7I9VYM1.pt (deflated 7%)\n",
            "  adding: data/token_representations/UniRef50_UPI001BFD7A09.pt (deflated 7%)\n",
            "  adding: data/token_representations/UniRef50_A0A2A4JMB9.pt (deflated 7%)\n",
            "  adding: data/token_representations/UniRef50_A0A9D5Z664.pt (deflated 7%)\n",
            "  adding: data/token_representations/UniRef50_A0A9Q0DRH6.pt (deflated 7%)\n",
            "  adding: data/token_representations/UniRef50_A0A6P8S3K5.pt (deflated 7%)\n",
            "  adding: data/token_representations/UniRef50_A0A7R8YX41.pt (deflated 7%)\n",
            "  adding: data/token_representations/UniRef50_UPI00272DED72.pt (deflated 7%)\n",
            "  adding: data/token_representations/UniRef50_A0A477LYW2.pt (deflated 7%)\n",
            "  adding: data/token_representations/UniRef50_UPI001CF9C697.pt (deflated 7%)\n",
            "  adding: data/token_representations/UniRef50_A0A979G8A7.pt (deflated 7%)\n",
            "  adding: data/token_representations/UniRef50_A0A1Z5KNZ8.pt (deflated 7%)\n",
            "  adding: data/token_representations/UniRef50_A0A9R1TUX1.pt (deflated 7%)\n",
            "  adding: data/token_representations/UniRef50_UPI0022467719.pt (deflated 7%)\n",
            "  adding: data/token_representations/UniRef50_A0A1I0C6I4.pt (deflated 7%)\n",
            "  adding: data/token_representations/UniRef50_A0A919SZQ2.pt (deflated 7%)\n",
            "  adding: data/token_representations/UniRef50_A0A699GJ20.pt (deflated 7%)\n",
            "  adding: data/token_representations/UniRef50_A0A2N2EP50.pt (deflated 7%)\n",
            "  adding: data/token_representations/UniRef50_A0A1H9SFL7.pt (deflated 7%)\n",
            "  adding: data/token_representations/UniRef50_A0A922II61.pt (deflated 7%)\n",
            "  adding: data/token_representations/UniRef50_UPI0025B3A05C.pt (deflated 7%)\n",
            "  adding: data/token_representations/UniRef50_E3M7G1.pt (deflated 7%)\n",
            "  adding: data/token_representations/UniRef50_A0A6A4SRW1.pt (deflated 7%)\n",
            "  adding: data/token_representations/UniRef50_A0A2E8D498.pt (deflated 7%)\n",
            "  adding: data/token_representations/UniRef50_A0A518I2I6.pt (deflated 7%)\n",
            "  adding: data/token_representations/UniRef50_A0A1A6GP75.pt (deflated 7%)\n",
            "  adding: data/token_representations/UniRef50_UPI0020791C65.pt (deflated 7%)\n",
            "  adding: data/token_representations/UniRef50_A0A955ADN9.pt (deflated 7%)\n",
            "  adding: data/token_representations/UniRef50_A0A2P4V9J2.pt (deflated 7%)\n",
            "  adding: data/token_representations/UniRef50_A0A1I4AP40.pt (deflated 7%)\n",
            "  adding: data/token_representations/UniRef50_UPI001FA86E0B.pt (deflated 7%)\n",
            "  adding: data/token_representations/UniRef50_A0A950BFY5.pt (deflated 7%)\n",
            "  adding: data/token_representations/UniRef50_A0A699GGK6.pt (deflated 7%)\n",
            "  adding: data/token_representations/UniRef50_A0A8C0SQW5.pt (deflated 8%)\n",
            "  adding: data/token_representations/UniRef50_A0A2C6L4N1.pt (deflated 7%)\n",
            "  adding: data/token_representations/UniRef50_UPI0022DEA0AE.pt (deflated 7%)\n",
            "  adding: data/token_representations/UniRef50_X1WBL9.pt (deflated 7%)\n",
            "  adding: data/token_representations/UniRef50_A0A3N6GDC2.pt (deflated 7%)\n",
            "  adding: data/token_representations/UniRef50_A0A817WHA6.pt (deflated 7%)\n",
            "  adding: data/token_representations/UniRef50_A0A060RXE9.pt (deflated 7%)\n",
            "  adding: data/token_representations/UniRef50_UPI0018809248.pt (deflated 7%)\n",
            "  adding: data/token_representations/UniRef50_A0A3Q2VA18.pt (deflated 7%)\n",
            "  adding: data/token_representations/UniRef50_UPI001E278590.pt (deflated 7%)\n",
            "  adding: data/token_representations/UniRef50_A0A5B8MW40.pt (deflated 7%)\n",
            "  adding: data/token_representations/UniRef50_UPI00240E99E6.pt (deflated 7%)\n",
            "  adding: data/token_representations/UniRef50_A0A0J5FRX8.pt (deflated 7%)\n",
            "  adding: data/token_representations/UniRef50_UPI002479B32A.pt (deflated 7%)\n",
            "  adding: data/token_representations/UniRef50_UPI001BC84018.pt (deflated 7%)\n",
            "  adding: data/token_representations/UniRef50_A0A6P8YPE2.pt (deflated 7%)\n",
            "  adding: data/token_representations/UniRef50_E4RRT6.pt (deflated 7%)\n",
            "  adding: data/token_representations/UniRef50_A0A9W8ACL1.pt (deflated 7%)\n",
            "  adding: data/token_representations/UniRef50_UPI0018E3059E.pt (deflated 7%)\n",
            "  adding: data/token_representations/UniRef50_A0A812ZC64.pt (deflated 7%)\n",
            "  adding: data/token_representations/UniRef50_A0A1I4LDS9.pt (deflated 7%)\n",
            "  adding: data/token_representations/UniRef50_A0A2R4SDL9.pt (deflated 7%)\n",
            "  adding: data/token_representations/UniRef50_A0A2C9L6R6.pt (deflated 7%)\n",
            "  adding: data/token_representations/UniRef50_A0A1N6GF71.pt (deflated 7%)\n",
            "  adding: data/token_representations/UniRef50_A0A9N8H9Y3.pt (deflated 7%)\n",
            "  adding: data/token_representations/UniRef50_UPI00056DE24A.pt (deflated 7%)\n",
            "  adding: data/token_representations/UniRef50_UPI001010F3EB.pt (deflated 7%)\n",
            "  adding: data/token_representations/UniRef50_A0A8J2EZ60.pt (deflated 7%)\n",
            "  adding: data/token_representations/UniRef50_UPI000375FB3F.pt (deflated 7%)\n",
            "  adding: data/token_representations/UniRef50_A0A8J5ZV28.pt (deflated 7%)\n",
            "  adding: data/token_representations/UniRef50_A0A958APE0.pt (deflated 7%)\n",
            "  adding: data/token_representations/UniRef50_A0A7D9DFN7.pt (deflated 7%)\n",
            "  adding: data/token_representations/UniRef50_A0A7C4WTR3.pt (deflated 7%)\n",
            "  adding: data/token_representations/UniRef50_A0A913ZPQ7.pt (deflated 7%)\n",
            "  adding: data/token_representations/UniRef50_A0A1I8MBV5.pt (deflated 7%)\n",
            "  adding: data/token_representations/UniRef50_A0A2A9PCW1.pt (deflated 7%)\n",
            "  adding: data/token_representations/UniRef50_A0A6C2YV47.pt (deflated 7%)\n",
            "  adding: data/token_representations/UniRef50_A0A1B0CHC8.pt (deflated 7%)\n",
            "  adding: data/token_representations/UniRef50_UPI0018920B28.pt (deflated 7%)\n",
            "  adding: data/token_representations/UniRef50_UPI001E54A2C3.pt (deflated 7%)\n",
            "  adding: data/token_representations/UniRef50_A0A5J5CT94.pt (deflated 7%)\n",
            "  adding: data/token_representations/UniRef50_UPI0013D556F3.pt (deflated 7%)\n",
            "  adding: data/token_representations/UniRef50_UPI00254BD258.pt (deflated 7%)\n",
            "  adding: data/token_representations/UniRef50_A0A1Z5IE87.pt (deflated 7%)\n",
            "  adding: data/token_representations/UniRef50_UPI00260A2265.pt (deflated 7%)\n",
            "  adding: data/token_representations/UniRef50_D8U0C7.pt (deflated 7%)\n",
            "  adding: data/token_representations/UniRef50_A0A2P2FG32.pt (deflated 7%)\n",
            "  adding: data/token_representations/UniRef50_A0A9X1IP94.pt (deflated 7%)\n",
            "  adding: data/token_representations/UniRef50_A0A8J5JMG9.pt (deflated 7%)\n",
            "  adding: data/token_representations/UniRef50_A0A058Z0F0.pt (deflated 7%)\n",
            "  adding: data/token_representations/UniRef50_A0A1Q3UZK8.pt (deflated 7%)\n",
            "  adding: data/token_representations/UniRef50_A0A2T3ZAA2.pt (deflated 7%)\n",
            "  adding: data/token_representations/UniRef50_UPI0021E01F9D.pt (deflated 7%)\n",
            "  adding: data/token_representations/UniRef50_A0A078AU56.pt (deflated 7%)\n",
            "  adding: data/token_representations/UniRef50_A0A2P9BVW4.pt (deflated 7%)\n",
            "  adding: data/token_representations/UniRef50_A0A349MFU4.pt (deflated 7%)\n",
            "  adding: data/token_representations/UniRef50_A0A813E2N1.pt (deflated 8%)\n",
            "  adding: data/token_representations/UniRef50_A0A803TWB8.pt (deflated 7%)\n",
            "  adding: data/token_representations/UniRef50_A0A9P8Y1S6.pt (deflated 7%)\n",
            "  adding: data/token_representations/UniRef50_A0A7J6AVG9.pt (deflated 7%)\n",
            "  adding: data/token_representations/UniRef50_A0A2E9QY65.pt (deflated 7%)\n",
            "  adding: data/token_representations/UniRef50_A0A6N8J9F7.pt (deflated 7%)\n",
            "  adding: data/token_representations/UniRef50_A0A5K4FDA3.pt (deflated 7%)\n",
            "  adding: data/token_representations/UniRef50_A0A813HD50.pt (deflated 7%)\n",
            "  adding: data/token_representations/UniRef50_A0A6J2YYV3.pt (deflated 7%)\n",
            "  adding: data/token_representations/UniRef50_A0A7H8K0W2.pt (deflated 7%)\n",
            "  adding: data/token_representations/UniRef50_UPI001FA824D8.pt (deflated 7%)\n",
            "  adding: data/token_representations/UniRef50_A0A9Q1BMD7.pt (deflated 7%)\n",
            "  adding: data/token_representations/UniRef50_A0A9P1BYU0.pt (deflated 7%)\n",
            "  adding: data/token_representations/UniRef50_A0A976FDW6.pt (deflated 7%)\n",
            "  adding: data/token_representations/UniRef50_A0A3P2A273.pt (deflated 7%)\n",
            "  adding: data/token_representations/UniRef50_A0A1Q9D5Z0.pt (deflated 7%)\n",
            "  adding: data/token_representations/UniRef50_A0A4U5LQI5.pt (deflated 7%)\n",
            "  adding: data/token_representations/UniRef50_UPI0024410CF8.pt (deflated 7%)\n",
            "  adding: data/token_representations/UniRef50_UPI000C71C400.pt (deflated 7%)\n",
            "  adding: data/token_representations/UniRef50_A0A954TT61.pt (deflated 7%)\n",
            "  adding: data/token_representations/UniRef50_UPI00031ACA95.pt (deflated 7%)\n",
            "  adding: data/token_representations/UniRef50_UPI00164CAE23.pt (deflated 7%)\n",
            "  adding: data/token_representations/UniRef50_UPI0021D7C8E4.pt (deflated 7%)\n",
            "  adding: data/token_representations/UniRef50_A0A8H4LJ66.pt (deflated 7%)\n",
            "  adding: data/token_representations/UniRef50_A0A9W6SLQ1.pt (deflated 7%)\n",
            "  adding: data/token_representations/UniRef50_UPI00227198DB.pt (deflated 7%)\n",
            "  adding: data/token_representations/UniRef50_A0A8T2BZF7.pt (deflated 7%)\n",
            "  adding: data/token_representations/UniRef50_A0A836EMV5.pt (deflated 7%)\n",
            "  adding: data/token_representations/UniRef50_A0A8H6ZKQ2.pt (deflated 7%)\n",
            "  adding: data/token_representations/UniRef50_K8EMY2.pt (deflated 7%)\n",
            "  adding: data/token_representations/UniRef50_A0A933I087.pt (deflated 7%)\n",
            "  adding: data/token_representations/UniRef50_UPI0022DDDEB8.pt (deflated 7%)\n",
            "  adding: data/token_representations/UniRef50_A0A7M7N6V3.pt (deflated 7%)\n",
            "  adding: data/token_representations/UniRef50_A0A4Z0BFR4.pt (deflated 7%)\n",
            "  adding: data/token_representations/UniRef50_A0A0C5RMA6.pt (deflated 7%)\n",
            "  adding: data/token_representations/UniRef50_A0A1H1XM54.pt (deflated 7%)\n",
            "  adding: data/token_representations/UniRef50_A0A4Q7JMT6.pt (deflated 7%)\n",
            "  adding: data/token_representations/UniRef50_UPI002258FF05.pt (deflated 7%)\n",
            "  adding: data/token_representations/UniRef50_A0A8B7ZT35.pt (deflated 7%)\n",
            "  adding: data/token_representations/UniRef50_A0A1J0TRM4.pt (deflated 7%)\n",
            "  adding: data/token_representations/UniRef50_A0A2P5GIV9.pt (deflated 7%)\n",
            "  adding: data/token_representations/UniRef50_A0A8H9ZCX1.pt (deflated 7%)\n",
            "  adding: data/token_representations/UniRef50_A0A415EJ16.pt (deflated 7%)\n",
            "  adding: data/token_representations/UniRef50_UPI001CF6494C.pt (deflated 7%)\n",
            "  adding: data/token_representations/UniRef50_A0A8H5WT51.pt (deflated 7%)\n",
            "  adding: data/token_representations/UniRef50_A0A248K158.pt (deflated 7%)\n",
            "  adding: data/token_representations/UniRef50_A0A1D3U9X8.pt (deflated 7%)\n",
            "  adding: data/token_representations/UniRef50_A0A5N4A0N2.pt (deflated 7%)\n",
            "  adding: data/token_representations/UniRef50_A0A0F0GPR4.pt (deflated 7%)\n",
            "  adding: data/token_representations/UniRef50_A0A1F9X507.pt (deflated 7%)\n",
            "  adding: data/token_representations/UniRef50_UPI0013CE477C.pt (deflated 7%)\n",
            "  adding: data/token_representations/UniRef50_A0A085WQT5.pt (deflated 7%)\n",
            "  adding: data/token_representations/UniRef50_A0A7M4CEP4.pt (deflated 7%)\n",
            "  adding: data/token_representations/UniRef50_A0A2C6LCX0.pt (deflated 7%)\n",
            "  adding: data/token_representations/UniRef50_A0A2S9IJT7.pt (deflated 7%)\n",
            "  adding: data/token_representations/UniRef50_A0A6S7H0Q1.pt (deflated 7%)\n",
            "  adding: data/token_representations/UniRef50_UPI0007B7B980.pt (deflated 7%)\n",
            "  adding: data/token_representations/UniRef50_A0A1I8P2P9.pt (deflated 7%)\n",
            "  adding: data/token_representations/UniRef50_A0A7S9GIR2.pt (deflated 7%)\n",
            "  adding: data/token_representations/UniRef50_A0A2D5Z3L4.pt (deflated 7%)\n",
            "  adding: data/token_representations/UniRef50_A0A6L8KLH0.pt (deflated 7%)\n",
            "  adding: data/token_representations/UniRef50_A0A3R6Y0L7.pt (deflated 7%)\n",
            "  adding: data/token_representations/UniRef50_A0A3Q3AP92.pt (deflated 7%)\n",
            "  adding: data/token_representations/UniRef50_A0A239N0W4.pt (deflated 7%)\n",
            "  adding: data/token_representations/UniRef50_UPI00078388AC.pt (deflated 7%)\n",
            "  adding: data/token_representations/UniRef50_A0A1A8WWV3.pt (deflated 7%)\n",
            "  adding: data/token_representations/UniRef50_A0A8D9EXZ1.pt (deflated 7%)\n",
            "  adding: data/token_representations/UniRef50_A0A6P7YDH2.pt (deflated 7%)\n",
            "  adding: data/token_representations/UniRef50_A0A0F7ZK19.pt (deflated 7%)\n",
            "  adding: data/token_representations/UniRef50_A0A1J0R2R2.pt (deflated 7%)\n",
            "  adding: data/token_representations/UniRef50_A0A2S8IMR8.pt (deflated 7%)\n",
            "  adding: data/token_representations/UniRef50_A0A401Z2V2.pt (deflated 7%)\n",
            "  adding: data/token_representations/UniRef50_A0A0D9RC60.pt (deflated 7%)\n",
            "  adding: data/token_representations/UniRef50_A0A8T2MEY2.pt (deflated 7%)\n",
            "  adding: data/token_representations/UniRef50_UPI0011EF6803.pt (deflated 7%)\n",
            "  adding: data/token_representations/UniRef50_A0A511HBB7.pt (deflated 7%)\n",
            "  adding: data/token_representations/UniRef50_A0A1Q4WBP5.pt (deflated 7%)\n",
            "  adding: data/token_representations/UniRef50_A9VDP0.pt (deflated 7%)\n",
            "  adding: data/token_representations/UniRef50_A0A6P8J4T9.pt (deflated 7%)\n",
            "  adding: data/token_representations/UniRef50_A0A8C7VLF2.pt (deflated 7%)\n",
            "  adding: data/token_representations/UniRef50_UPI001CA983AA.pt (deflated 7%)\n",
            "  adding: data/token_representations/UniRef50_A0A6A6D430.pt (deflated 7%)\n",
            "  adding: data/token_representations/UniRef50_A0A2E7P7D9.pt (deflated 7%)\n",
            "  adding: data/token_representations/UniRef50_F0VE30.pt (deflated 7%)\n",
            "  adding: data/token_representations/UniRef50_A0A1I6PQZ7.pt (deflated 7%)\n",
            "  adding: data/token_representations/UniRef50_A0A917BNG2.pt (deflated 7%)\n",
            "  adding: data/token_representations/UniRef50_A0A016SBX2.pt (deflated 7%)\n",
            "  adding: data/token_representations/UniRef50_A0A1H6E030.pt (deflated 7%)\n",
            "  adding: data/token_representations/UniRef50_A0A1H6UQI8.pt (deflated 7%)\n",
            "  adding: data/token_representations/UniRef50_A0A9D4IAU7.pt (deflated 7%)\n",
            "  adding: data/token_representations/UniRef50_A0A6G3QKA0.pt (deflated 7%)\n",
            "  adding: data/token_representations/UniRef50_UPI001E2C7776.pt (deflated 7%)\n",
            "  adding: data/token_representations/UniRef50_UPI00255B60C9.pt (deflated 7%)\n",
            "  adding: data/token_representations/UniRef50_A0A7J6N2X8.pt (deflated 7%)\n",
            "  adding: data/token_representations/UniRef50_UPI0021025816.pt (deflated 7%)\n",
            "  adding: data/token_representations/UniRef50_A0A179UJQ5.pt (deflated 7%)\n",
            "  adding: data/token_representations/UniRef50_UPI0004CBCFEB.pt (deflated 7%)\n",
            "  adding: data/token_representations/UniRef50_A0A6V7INE4.pt (deflated 7%)\n",
            "  adding: data/token_representations/UniRef50_A0A672GQ00.pt (deflated 7%)\n",
            "  adding: data/token_representations/UniRef50_A0A9P1C8V0.pt (deflated 7%)\n",
            "  adding: data/token_representations/UniRef50_UPI000A6A91F8.pt (deflated 7%)\n",
            "  adding: data/token_representations/UniRef50_A0A1F9QLM8.pt (deflated 7%)\n",
            "  adding: data/token_representations/UniRef50_UPI00131C914E.pt (deflated 7%)\n",
            "  adding: data/token_representations/UniRef50_UPI001F420721.pt (deflated 7%)\n",
            "  adding: data/token_representations/UniRef50_A0A7N4PM31.pt (deflated 7%)\n",
            "  adding: data/token_representations/UniRef50_A0A8K0SIS2.pt (deflated 7%)\n",
            "  adding: data/token_representations/UniRef50_A0A8R2NKU1.pt (deflated 8%)\n",
            "  adding: data/token_representations/UniRef50_A0A803YC03.pt (deflated 7%)\n",
            "  adding: data/token_representations/UniRef50_A0A8J9YPT4.pt (deflated 7%)\n",
            "  adding: data/token_representations/UniRef50_UPI0024349580.pt (deflated 7%)\n",
            "  adding: data/token_representations/UniRef50_G4ZS45.pt (deflated 7%)\n",
            "  adding: data/token_representations/UniRef50_G8YZM2.pt (deflated 7%)\n",
            "  adding: data/token_representations/UniRef50_A0A1H9V258.pt (deflated 7%)\n",
            "  adding: data/token_representations/UniRef50_F7CR78.pt (deflated 7%)\n",
            "  adding: data/token_representations/UniRef50_A0A1S8KN79.pt (deflated 7%)\n",
            "  adding: data/token_representations/UniRef50_A0A5C5VDD4.pt (deflated 7%)\n",
            "  adding: data/token_representations/UniRef50_Q9JKS6.pt (deflated 7%)\n",
            "  adding: data/token_representations/UniRef50_Q22DQ0.pt (deflated 7%)\n",
            "  adding: data/token_representations/UniRef50_UPI0012F9461A.pt (deflated 7%)\n",
            "  adding: data/token_representations/UniRef50_A0A8J5ZL40.pt (deflated 7%)\n",
            "  adding: data/token_representations/UniRef50_A0A2B4SNC6.pt (deflated 7%)\n",
            "  adding: data/token_representations/UniRef50_A0A315VBU6.pt (deflated 7%)\n",
            "  adding: data/token_representations/UniRef50_A0A7R6VZY0.pt (deflated 7%)\n",
            "  adding: data/token_representations/UniRef50_A0A7W7GY06.pt (deflated 7%)\n",
            "  adding: data/token_representations/UniRef50_A0A0G4IDK6.pt (deflated 7%)\n",
            "  adding: data/token_representations/UniRef50_UPI0022B4D428.pt (deflated 7%)\n",
            "  adding: data/token_representations/UniRef50_A0A1H3KHP6.pt (deflated 7%)\n",
            "  adding: data/token_representations/UniRef50_A0A553MPN7.pt (deflated 7%)\n",
            "  adding: data/token_representations/UniRef50_A0A9D3P306.pt (deflated 7%)\n",
            "  adding: data/token_representations/UniRef50_A0A4R2DB17.pt (deflated 7%)\n",
            "  adding: data/token_representations/UniRef50_A0A953C7F3.pt (deflated 7%)\n",
            "  adding: data/token_representations/UniRef50_A0A7K0D0C7.pt (deflated 7%)\n",
            "  adding: data/token_representations/UniRef50_A0A6P8RVC0.pt (deflated 7%)\n",
            "  adding: data/token_representations/UniRef50_A0A2A4K7U4.pt (deflated 7%)\n",
            "  adding: data/token_representations/UniRef50_A0A2N7UJK4.pt (deflated 7%)\n",
            "  adding: data/token_representations/UniRef50_A0A8D2L3M7.pt (deflated 7%)\n",
            "  adding: data/token_representations/UniRef50_A0A328RSR2.pt (deflated 7%)\n",
            "  adding: data/token_representations/UniRef50_A0A9P0TJM4.pt (deflated 7%)\n",
            "  adding: data/token_representations/UniRef50_A0A944VW56.pt (deflated 7%)\n",
            "  adding: data/token_representations/UniRef50_A0A1C3E8P8.pt (deflated 7%)\n",
            "  adding: data/token_representations/UniRef50_A0A9D8Z2H2.pt (deflated 7%)\n",
            "  adding: data/token_representations/UniRef50_A0A9E8K014.pt (deflated 7%)\n",
            "  adding: data/token_representations/UniRef50_UPI0025A5D63C.pt (deflated 7%)\n",
            "  adding: data/token_representations/UniRef50_UPI000DF35F27.pt (deflated 7%)\n",
            "  adding: data/token_representations/UniRef50_E9Q555.pt (deflated 7%)\n",
            "  adding: data/token_representations/UniRef50_UPI000C77155B.pt (deflated 7%)\n",
            "  adding: data/token_representations/UniRef50_A0A9P4ULF4.pt (deflated 7%)\n",
            "  adding: data/token_representations/UniRef50_A0A6P4YF28.pt (deflated 7%)\n",
            "  adding: data/token_representations/UniRef50_A0A5E4MV76.pt (deflated 7%)\n",
            "  adding: data/token_representations/UniRef50_UPI00163C6F8C.pt (deflated 7%)\n",
            "  adding: data/token_representations/UniRef50_A0A2A9M9F0.pt (deflated 7%)\n",
            "  adding: data/token_representations/UniRef50_A0A6V7J7J7.pt (deflated 8%)\n",
            "  adding: data/token_representations/UniRef50_A0A9W5EFZ9.pt (deflated 7%)\n",
            "  adding: data/token_representations/UniRef50_A0A8B7ZCQ4.pt (deflated 7%)\n",
            "  adding: data/token_representations/UniRef50_A0A7G8GIQ6.pt (deflated 7%)\n",
            "  adding: data/token_representations/UniRef50_UPI0011062BEF.pt (deflated 7%)\n",
            "  adding: data/token_representations/UniRef50_A0A917NP91.pt (deflated 7%)\n",
            "  adding: data/token_representations/UniRef50_A0A821LK81.pt (deflated 7%)\n",
            "  adding: data/token_representations/UniRef50_A0A9X3YQN9.pt (deflated 7%)\n",
            "  adding: data/token_representations/UniRef50_UPI0004F4FACB.pt (deflated 7%)\n",
            "  adding: data/token_representations/UniRef50_A0A0J1EP04.pt (deflated 7%)\n",
            "  adding: data/token_representations/UniRef50_U6KTN4.pt (deflated 7%)\n",
            "  adding: data/token_representations/UniRef50_A0A0G2JUA5.pt (deflated 7%)\n",
            "  adding: data/token_representations/UniRef50_A0A669EEY9.pt (deflated 7%)\n",
            "  adding: data/token_representations/UniRef50_R4LC06.pt (deflated 7%)\n",
            "  adding: data/token_representations/UniRef50_UPI0024C2309C.pt (deflated 7%)\n",
            "  adding: data/token_representations/UniRef50_UPI0026490431.pt (deflated 7%)\n",
            "  adding: data/token_representations/UniRef50_A0A8S9X681.pt (deflated 7%)\n",
            "  adding: data/token_representations/UniRef50_UPI00265A1309.pt (deflated 7%)\n",
            "  adding: data/token_representations/UniRef50_A0A2K3D0H4.pt (deflated 7%)\n",
            "  adding: data/token_representations/UniRef50_UPI002665D4B9.pt (deflated 7%)\n",
            "  adding: data/token_representations/UniRef50_UPI0024B4CA01.pt (deflated 7%)\n",
            "  adding: data/token_representations/UniRef50_A0A315AHG6.pt (deflated 7%)\n",
            "  adding: data/token_representations/UniRef50_UPI0003A778AD.pt (deflated 7%)\n",
            "  adding: data/token_representations/UniRef50_A0A6I8TVF9.pt (deflated 7%)\n",
            "  adding: data/token_representations/UniRef50_A0A7K7UXX9.pt (deflated 7%)\n",
            "  adding: data/token_representations/UniRef50_A0A151LZG1.pt (deflated 7%)\n",
            "  adding: data/token_representations/UniRef50_U6M9M4.pt (deflated 7%)\n",
            "  adding: data/token_representations/UniRef50_UPI001E3DEDCA.pt (deflated 7%)\n",
            "  adding: data/token_representations/UniRef50_A0A1Y1R6M7.pt (deflated 7%)\n",
            "  adding: data/token_representations/UniRef50_A0A1I8GJT8.pt (deflated 7%)\n",
            "  adding: data/token_representations/UniRef50_A0A432M2U1.pt (deflated 7%)\n",
            "  adding: data/token_representations/UniRef50_A0A518I9M6.pt (deflated 7%)\n",
            "  adding: data/token_representations/UniRef50_F1KPF6.pt (deflated 7%)\n",
            "  adding: data/token_representations/UniRef50_A0A6A6XN91.pt (deflated 7%)\n",
            "  adding: data/token_representations/UniRef50_UPI001E31027F.pt (deflated 7%)\n",
            "  adding: data/token_representations/UniRef50_A0A1S6GAR2.pt (deflated 7%)\n",
            "  adding: data/token_representations/UniRef50_A0A1I6MDK1.pt (deflated 7%)\n",
            "  adding: data/token_representations/UniRef50_UPI0015BE39C1.pt (deflated 7%)\n",
            "  adding: data/token_representations/UniRef50_A0A0D9XBJ0.pt (deflated 7%)\n",
            "  adding: data/token_representations/UniRef50_A0A9P1CAH6.pt (deflated 7%)\n",
            "  adding: data/token_representations/UniRef50_UPI001F2087D6.pt (deflated 7%)\n",
            "  adding: data/token_representations/UniRef50_A0A2K8RL62.pt (deflated 7%)\n",
            "  adding: data/token_representations/UniRef50_UPI0018B091C2.pt (deflated 7%)\n",
            "  adding: data/token_representations/UniRef50_A0A917WGN3.pt (deflated 7%)\n",
            "  adding: data/token_representations/UniRef50_A0A328KN75.pt (deflated 8%)\n",
            "  adding: data/token_representations/UniRef50_D8LR26.pt (deflated 7%)\n",
            "  adding: data/token_representations/UniRef50_UPI001918FE3A.pt (deflated 7%)\n",
            "  adding: data/token_representations/UniRef50_A0A6J3KGX0.pt (deflated 7%)\n",
            "  adding: data/token_representations/UniRef50_UPI001ADEEAC9.pt (deflated 7%)\n",
            "  adding: data/token_representations/UniRef50_A0A3B9YI35.pt (deflated 7%)\n",
            "  adding: data/token_representations/UniRef50_A0A7J6GAU4.pt (deflated 7%)\n",
            "  adding: data/token_representations/UniRef50_UPI002544ED27.pt (deflated 7%)\n",
            "  adding: data/token_representations/UniRef50_G0L5W6.pt (deflated 7%)\n",
            "  adding: data/token_representations/UniRef50_UPI001CA826D9.pt (deflated 7%)\n",
            "  adding: data/token_representations/UniRef50_A0A7W9NKA5.pt (deflated 7%)\n",
            "  adding: data/token_representations/UniRef50_A0A7R9QB47.pt (deflated 7%)\n",
            "  adding: data/token_representations/UniRef50_UPI0010A50180.pt (deflated 7%)\n",
            "  adding: data/token_representations/UniRef50_A0A1I3WDB0.pt (deflated 7%)\n",
            "  adding: data/token_representations/UniRef50_A0A6P1CNJ8.pt (deflated 7%)\n",
            "  adding: data/token_representations/UniRef50_A0A2N2EUZ1.pt (deflated 7%)\n",
            "  adding: data/token_representations/UniRef50_A0A5N5D0F5.pt (deflated 7%)\n",
            "  adding: data/token_representations/UniRef50_A0A6C0PWE0.pt (deflated 7%)\n",
            "  adding: data/token_representations/UniRef50_UPI0022275EE9.pt (deflated 7%)\n",
            "  adding: data/token_representations/UniRef50_UPI000B8E9EE2.pt (deflated 7%)\n",
            "  adding: data/token_representations/UniRef50_A0A6G8ZFD6.pt (deflated 7%)\n",
            "  adding: data/token_representations/UniRef50_A0A9W2XW52.pt (deflated 7%)\n",
            "  adding: data/token_representations/UniRef50_A0A6A4TPZ3.pt (deflated 7%)\n",
            "  adding: data/token_representations/UniRef50_A0A1I5I1X0.pt (deflated 7%)\n",
            "  adding: data/token_representations/UniRef50_UPI0003F0846B.pt (deflated 7%)\n",
            "  adding: data/token_representations/UniRef50_A0A9Q1CCD8.pt (deflated 7%)\n",
            "  adding: data/token_representations/UniRef50_K7F5L8.pt (deflated 8%)\n",
            "  adding: data/token_representations/UniRef50_A0A6G8RU98.pt (deflated 7%)\n",
            "  adding: data/token_representations/UniRef50_A0A942RI76.pt (deflated 7%)\n",
            "  adding: data/token_representations/UniRef50_J4J7W9.pt (deflated 7%)\n",
            "  adding: data/token_representations/UniRef50_A0A2V7GPY5.pt (deflated 7%)\n",
            "  adding: data/token_representations/UniRef50_A0A9P1FSR7.pt (deflated 7%)\n",
            "  adding: data/token_representations/UniRef50_UPI0018C864EC.pt (deflated 7%)\n",
            "  adding: data/token_representations/UniRef50_A0A520WGF6.pt (deflated 7%)\n",
            "  adding: data/token_representations/UniRef50_N9MU84.pt (deflated 7%)\n",
            "  adding: data/token_representations/UniRef50_A0A9W7EJ83.pt (deflated 7%)\n",
            "  adding: data/token_representations/UniRef50_A0A7X0FSK3.pt (deflated 7%)\n",
            "  adding: data/token_representations/UniRef50_A0A944Z6P6.pt (deflated 7%)\n",
            "  adding: data/token_representations/UniRef50_A0A8B7NJ44.pt (deflated 7%)\n",
            "  adding: data/token_representations/UniRef50_UPI0009E2444C.pt (deflated 7%)\n",
            "  adding: data/token_representations/UniRef50_A0A0D3V6K4.pt (deflated 7%)\n",
            "  adding: data/token_representations/UniRef50_UPI001F076EC1.pt (deflated 7%)\n",
            "  adding: data/token_representations/UniRef50_L7RRG8.pt (deflated 7%)\n",
            "  adding: data/token_representations/UniRef50_UPI000D73CD92.pt (deflated 7%)\n",
            "  adding: data/token_representations/UniRef50_UPI00266B48BF.pt (deflated 7%)\n",
            "  adding: data/token_representations/UniRef50_M9NE82.pt (deflated 7%)\n",
            "  adding: data/token_representations/UniRef50_A0A7K3L2E3.pt (deflated 7%)\n",
            "  adding: data/token_representations/UniRef50_A0A2H4T172.pt (deflated 7%)\n",
            "  adding: data/token_representations/UniRef50_UPI000CEB30AE.pt (deflated 7%)\n",
            "  adding: data/token_representations/UniRef50_J2T621.pt (deflated 7%)\n",
            "  adding: data/token_representations/UniRef50_A0A7M7T5K9.pt (deflated 7%)\n",
            "  adding: data/token_representations/UniRef50_A0A3S1D2B3.pt (deflated 7%)\n",
            "  adding: data/token_representations/UniRef50_UPI001864B27E.pt (deflated 7%)\n",
            "  adding: data/token_representations/UniRef50_A0A820V527.pt (deflated 7%)\n",
            "  adding: data/token_representations/UniRef50_A0A3Q1LV49.pt (deflated 7%)\n",
            "  adding: data/token_representations/UniRef50_UPI000ABFACBB.pt (deflated 7%)\n",
            "  adding: data/token_representations/UniRef50_A0A1Q9DGY0.pt (deflated 7%)\n",
            "  adding: data/token_representations/UniRef50_A0A0V0TYA5.pt (deflated 7%)\n",
            "  adding: data/token_representations/UniRef50_UPI00257785CA.pt (deflated 7%)\n",
            "  adding: data/token_representations/UniRef50_UPI0024919CF4.pt (deflated 7%)\n",
            "  adding: data/token_representations/UniRef50_A0A944VWD8.pt (deflated 7%)\n",
            "  adding: data/token_representations/UniRef50_A0A7Y7CTW5.pt (deflated 7%)\n",
            "  adding: data/token_representations/UniRef50_UPI00211491DF.pt (deflated 7%)\n",
            "  adding: data/token_representations/UniRef50_A0A8T5HE27.pt (deflated 7%)\n",
            "  adding: data/token_representations/UniRef50_A0A2R5GZA9.pt (deflated 7%)\n",
            "  adding: data/token_representations/UniRef50_A0A7I7JWT9.pt (deflated 7%)\n",
            "  adding: data/token_representations/UniRef50_A0A9P9YI87.pt (deflated 7%)\n",
            "  adding: data/token_representations/UniRef50_A0A667XG50.pt (deflated 8%)\n",
            "  adding: data/token_representations/UniRef50_A0A979EKY9.pt (deflated 7%)\n",
            "  adding: data/token_representations/UniRef50_R9UTS2.pt (deflated 7%)\n",
            "  adding: data/token_representations/UniRef50_A0A8M9Q0M9.pt (deflated 7%)\n",
            "  adding: data/token_representations/UniRef50_A0A3Q3MYZ7.pt (deflated 7%)\n",
            "  adding: data/token_representations/UniRef50_S4RBA9.pt (deflated 7%)\n",
            "  adding: data/token_representations/UniRef50_A0A2A4JUF5.pt (deflated 7%)\n",
            "  adding: data/token_representations/UniRef50_L0PGR1.pt (deflated 7%)\n",
            "  adding: data/token_representations/UniRef50_A0A834R3W0.pt (deflated 7%)\n",
            "  adding: data/token_representations/UniRef50_M3Z272.pt (deflated 7%)\n",
            "  adding: data/token_representations/UniRef50_A0A1S8LCX8.pt (deflated 7%)\n",
            "  adding: data/token_representations/UniRef50_A0A543FNW6.pt (deflated 7%)\n",
            "  adding: data/token_representations/UniRef50_A0A2M8TEN1.pt (deflated 7%)\n",
            "  adding: data/token_representations/UniRef50_A0A4W3JP89.pt (deflated 7%)\n",
            "  adding: data/token_representations/UniRef50_UPI0021660309.pt (deflated 7%)\n",
            "  adding: data/token_representations/UniRef50_UPI001C9BA685.pt (deflated 7%)\n",
            "  adding: data/token_representations/UniRef50_A0A979G7X9.pt (deflated 7%)\n",
            "  adding: data/token_representations/UniRef50_UPI001459189A.pt (deflated 7%)\n",
            "  adding: data/token_representations/UniRef50_K2QRK0.pt (deflated 7%)\n",
            "  adding: data/token_representations/UniRef50_A0A847DMC6.pt (deflated 7%)\n",
            "  adding: data/token_representations/UniRef50_A0A1F9VHX4.pt (deflated 7%)\n",
            "  adding: data/token_representations/UniRef50_A0A2M9JAX2.pt (deflated 7%)\n",
            "  adding: data/token_representations/UniRef50_UPI0027151C19.pt (deflated 7%)\n",
            "  adding: data/token_representations/UniRef50_A0A7R9BFD0.pt (deflated 7%)\n",
            "  adding: data/token_representations/UniRef50_S2LB15.pt (deflated 7%)\n",
            "  adding: data/token_representations/UniRef50_UPI00140379B0.pt (deflated 7%)\n",
            "  adding: data/token_representations/UniRef50_A0A1Q9DGD9.pt (deflated 7%)\n",
            "  adding: data/token_representations/UniRef50_A0A7W7WWQ4.pt (deflated 7%)\n",
            "  adding: data/token_representations/UniRef50_A0A2E4E0B3.pt (deflated 7%)\n",
            "  adding: data/token_representations/UniRef50_A0A232M2S0.pt (deflated 7%)\n",
            "  adding: data/token_representations/UniRef50_A0A2E6D8J0.pt (deflated 7%)\n",
            "  adding: data/token_representations/UniRef50_UPI00240740AC.pt (deflated 7%)\n",
            "  adding: data/token_representations/UniRef50_UPI002591E06C.pt (deflated 7%)\n",
            "  adding: data/token_representations/UniRef50_A0A6A4ZWS1.pt (deflated 7%)\n",
            "  adding: data/token_representations/UniRef50_A0A9P0G1H2.pt (deflated 7%)\n",
            "  adding: data/token_representations/UniRef50_UPI001894201D.pt (deflated 7%)\n",
            "  adding: data/token_representations/UniRef50_W7XGD7.pt (deflated 7%)\n",
            "  adding: data/token_representations/UniRef50_E0W2S6.pt (deflated 7%)\n",
            "  adding: data/token_representations/UniRef50_UPI0015608AA4.pt (deflated 7%)\n",
            "  adding: data/token_representations/UniRef50_W5W2X4.pt (deflated 7%)\n",
            "  adding: data/token_representations/UniRef50_A0A7J7JW88.pt (deflated 7%)\n",
            "  adding: data/token_representations/UniRef50_L1I7Q0.pt (deflated 7%)\n",
            "  adding: data/token_representations/UniRef50_A0A1F9X6H6.pt (deflated 7%)\n",
            "  adding: data/token_representations/UniRef50_A0A1Z8MC72.pt (deflated 7%)\n",
            "  adding: data/token_representations/UniRef50_A0A1Q3HBC8.pt (deflated 7%)\n",
            "  adding: data/token_representations/UniRef50_A0A914JFA0.pt (deflated 7%)\n",
            "  adding: data/token_representations/UniRef50_A0A0M9DYJ4.pt (deflated 7%)\n",
            "  adding: data/token_representations/UniRef50_UPI0022780101.pt (deflated 7%)\n",
            "  adding: data/token_representations/UniRef50_A0A1X1BI48.pt (deflated 7%)\n",
            "  adding: data/token_representations/UniRef50_A0A9X2VIE2.pt (deflated 7%)\n",
            "  adding: data/token_representations/UniRef50_UPI00083DC507.pt (deflated 7%)\n",
            "  adding: data/token_representations/UniRef50_A0A7I8WCL1.pt (deflated 7%)\n",
            "  adding: data/token_representations/UniRef50_A0A2J7QAR2.pt (deflated 7%)\n",
            "  adding: data/token_representations/UniRef50_A0A7G1KS36.pt (deflated 7%)\n",
            "  adding: data/token_representations/UniRef50_A0A9P1DKY2.pt (deflated 7%)\n",
            "  adding: data/token_representations/UniRef50_UPI001F0465F1.pt (deflated 7%)\n",
            "  adding: data/token_representations/UniRef50_A0A517NWE7.pt (deflated 7%)\n",
            "  adding: data/token_representations/UniRef50_UPI001B88E5D8.pt (deflated 7%)\n",
            "  adding: data/token_representations/UniRef50_UPI0022525AE0.pt (deflated 7%)\n",
            "  adding: data/token_representations/UniRef50_A7T5U4.pt (deflated 8%)\n",
            "  adding: data/token_representations/UniRef50_A0A127F2R9.pt (deflated 7%)\n",
            "  adding: data/token_representations/UniRef50_UPI001CA8D780.pt (deflated 7%)\n",
            "  adding: data/token_representations/UniRef50_A0A182QQP2.pt (deflated 7%)\n",
            "  adding: data/token_representations/UniRef50_A0A6V7DGF2.pt (deflated 7%)\n",
            "  adding: data/token_representations/UniRef50_UPI001ED87BDE.pt (deflated 7%)\n",
            "  adding: data/token_representations/UniRef50_UPI00235BB9C4.pt (deflated 7%)\n",
            "  adding: data/token_representations/UniRef50_A0A0D6EB63.pt (deflated 7%)\n",
            "  adding: data/token_representations/UniRef50_UPI000BBEE55D.pt (deflated 7%)\n",
            "  adding: data/token_representations/UniRef50_A0A0M9E5X0.pt (deflated 7%)\n",
            "  adding: data/token_representations/UniRef50_Q7Z6Z7-3.pt (deflated 7%)\n",
            "  adding: data/token_representations/UniRef50_A0A6J2SZM1.pt (deflated 7%)\n",
            "  adding: data/token_representations/UniRef50_A0A812XWQ5.pt (deflated 7%)\n",
            "  adding: data/token_representations/UniRef50_A0A518FT54.pt (deflated 7%)\n",
            "  adding: data/token_representations/UniRef50_W7AKC7.pt (deflated 7%)\n",
            "  adding: data/token_representations/UniRef50_UPI0006150296.pt (deflated 7%)\n",
            "  adding: data/token_representations/UniRef50_A0A835ZA69.pt (deflated 7%)\n",
            "  adding: data/token_representations/UniRef50_A0A4R6JCM1.pt (deflated 7%)\n",
            "  adding: data/token_representations/UniRef50_A0A0G4FMA1.pt (deflated 7%)\n",
            "  adding: data/token_representations/UniRef50_A0A090YU02.pt (deflated 7%)\n",
            "  adding: data/token_representations/UniRef50_A0A6F9DJ36.pt (deflated 7%)\n",
            "  adding: data/token_representations/UniRef50_A0A2T4QVM6.pt (deflated 7%)\n",
            "  adding: data/token_representations/UniRef50_A0A1H9P3F9.pt (deflated 7%)\n",
            "  adding: data/token_representations/UniRef50_A0A8R1TVD2.pt (deflated 7%)\n",
            "  adding: data/token_representations/UniRef50_A0A9D7HRE0.pt (deflated 7%)\n",
            "  adding: data/token_representations/UniRef50_A0A7W7CFJ6.pt (deflated 7%)\n",
            "  adding: data/token_representations/UniRef50_UPI0021E66C1E.pt (deflated 7%)\n",
            "  adding: data/token_representations/UniRef50_A0A430HFU6.pt (deflated 7%)\n",
            "  adding: data/token_representations/UniRef50_A0A6G1PV86.pt (deflated 7%)\n",
            "  adding: data/token_representations/UniRef50_A0A516SC59.pt (deflated 7%)\n",
            "  adding: data/token_representations/UniRef50_Q0KI05.pt (deflated 7%)\n",
            "  adding: data/token_representations/UniRef50_A0A814RZ03.pt (deflated 7%)\n",
            "  adding: data/token_representations/UniRef50_K6UIM5.pt (deflated 7%)\n",
            "  adding: data/token_representations/UniRef50_UPI0023B97647.pt (deflated 7%)\n",
            "  adding: data/token_representations/UniRef50_A0A840QBJ0.pt (deflated 7%)\n",
            "  adding: data/token_representations/UniRef50_UPI00224CE71F.pt (deflated 7%)\n",
            "  adding: data/token_representations/UniRef50_A0A2E0TKP4.pt (deflated 7%)\n",
            "  adding: data/token_representations/UniRef50_A0A835WGK3.pt (deflated 7%)\n",
            "  adding: data/token_representations/UniRef50_UPI001AADFB17.pt (deflated 7%)\n",
            "  adding: data/token_representations/UniRef50_A0A853Q8V4.pt (deflated 7%)\n",
            "  adding: data/token_representations/UniRef50_A0A8B0SL74.pt (deflated 7%)\n",
            "  adding: data/token_representations/UniRef50_A0A267GAD2.pt (deflated 7%)\n",
            "  adding: data/token_representations/UniRef50_A0A7X6M1X7.pt (deflated 7%)\n",
            "  adding: data/token_representations/UniRef50_D3BCI0.pt (deflated 7%)\n",
            "  adding: data/token_representations/UniRef50_A0A2A2KK73.pt (deflated 7%)\n",
            "  adding: data/token_representations/UniRef50_UPI002548BA66.pt (deflated 7%)\n",
            "  adding: data/token_representations/UniRef50_A0A8K1FFZ1.pt (deflated 7%)\n",
            "  adding: data/token_representations/UniRef50_A0A812G812.pt (deflated 7%)\n",
            "  adding: data/token_representations/UniRef50_A0A803JE65.pt (deflated 7%)\n",
            "  adding: data/token_representations/UniRef50_A0A2C6LB95.pt (deflated 7%)\n",
            "  adding: data/token_representations/UniRef50_UPI0022E62437.pt (deflated 7%)\n",
            "  adding: data/token_representations/UniRef50_A0A0K0F4A9.pt (deflated 7%)\n",
            "  adding: data/token_representations/UniRef50_A0A9Q1F0D4.pt (deflated 7%)\n",
            "  adding: data/token_representations/UniRef50_A0A150AGU1.pt (deflated 7%)\n",
            "  adding: data/token_representations/UniRef50_UPI0018772247.pt (deflated 7%)\n",
            "  adding: data/token_representations/UniRef50_UPI00234F4373.pt (deflated 7%)\n",
            "  adding: data/token_representations/UniRef50_A0A7Z2YG22.pt (deflated 7%)\n",
            "  adding: data/token_representations/UniRef50_A0A2G8Y019.pt (deflated 7%)\n",
            "  adding: data/token_representations/UniRef50_A0A6C0CTL9.pt (deflated 7%)\n",
            "  adding: data/token_representations/UniRef50_A0A3T0KA51.pt (deflated 7%)\n",
            "  adding: data/token_representations/UniRef50_F0VM75.pt (deflated 7%)\n",
            "  adding: data/token_representations/UniRef50_A0A6L6TIX5.pt (deflated 7%)\n",
            "  adding: data/token_representations/UniRef50_A0A9W8YE19.pt (deflated 7%)\n",
            "  adding: data/token_representations/UniRef50_A0A9W7CA36.pt (deflated 7%)\n",
            "  adding: data/token_representations/UniRef50_A0A162CHG6.pt (deflated 7%)\n",
            "  adding: data/token_representations/UniRef50_UPI001583294B.pt (deflated 7%)\n",
            "  adding: data/token_representations/UniRef50_A0A075A4I3.pt (deflated 7%)\n",
            "  adding: data/token_representations/UniRef50_A0A9P0G4C6.pt (deflated 7%)\n",
            "  adding: data/token_representations/UniRef50_R7GEQ6.pt (deflated 7%)\n",
            "  adding: data/token_representations/UniRef50_A0A819FNK7.pt (deflated 7%)\n",
            "  adding: data/token_representations/UniRef50_A0A6P8ING3.pt (deflated 7%)\n",
            "  adding: data/token_representations/UniRef50_UPI002548E20D.pt (deflated 7%)\n",
            "  adding: data/token_representations/UniRef50_A0A560UGG6.pt (deflated 7%)\n",
            "  adding: data/token_representations/UniRef50_A0A673C558.pt (deflated 7%)\n",
            "  adding: data/token_representations/UniRef50_A0A8I0RDU6.pt (deflated 7%)\n",
            "  adding: data/token_representations/UniRef50_A0A418EVD1.pt (deflated 7%)\n",
            "  adding: data/token_representations/UniRef50_A0A3N0ARV7.pt (deflated 7%)\n",
            "  adding: data/token_representations/UniRef50_UPI001267BF70.pt (deflated 7%)\n",
            "  adding: data/token_representations/UniRef50_A0A837F9H2.pt (deflated 7%)\n",
            "  adding: data/token_representations/UniRef50_L1IYI2.pt (deflated 7%)\n",
            "  adding: data/token_representations/UniRef50_UPI001E37A87C.pt (deflated 7%)\n",
            "  adding: data/token_representations/UniRef50_W6KUK8.pt (deflated 7%)\n",
            "  adding: data/token_representations/UniRef50_A0A1U9YYM4.pt (deflated 7%)\n",
            "  adding: data/token_representations/UniRef50_A0A1I6JM04.pt (deflated 7%)\n",
            "  adding: data/token_representations/UniRef50_A0A699XVK7.pt (deflated 8%)\n",
            "  adding: data/token_representations/UniRef50_UPI001AD1ACFE.pt (deflated 7%)\n",
            "  adding: data/token_representations/UniRef50_A0A267G5X0.pt (deflated 7%)\n",
            "  adding: data/token_representations/UniRef50_A0A4Q0YR82.pt (deflated 7%)\n",
            "  adding: data/token_representations/UniRef50_A0A2T2YRE1.pt (deflated 7%)\n",
            "  adding: data/token_representations/UniRef50_A0A553ZQV0.pt (deflated 7%)\n",
            "  adding: data/token_representations/UniRef50_A0A7E6EVP0.pt (deflated 7%)\n",
            "  adding: data/token_representations/UniRef50_A0A2D9GQM6.pt (deflated 7%)\n",
            "  adding: data/token_representations/UniRef50_A0A224YWG0.pt (deflated 7%)\n",
            "  adding: data/token_representations/UniRef50_A0A6J3J6M1.pt (deflated 7%)\n",
            "  adding: data/token_representations/UniRef50_A0A7M7NS86.pt (deflated 7%)\n",
            "  adding: data/token_representations/UniRef50_D8SPZ7.pt (deflated 7%)\n",
            "  adding: data/token_representations/UniRef50_UPI0023AE93AD.pt (deflated 7%)\n",
            "  adding: data/token_representations/UniRef50_G7YKP1.pt (deflated 7%)\n",
            "  adding: data/token_representations/UniRef50_A0A4Z2CWF3.pt (deflated 7%)\n",
            "  adding: data/token_representations/UniRef50_A0A0P7BH29.pt (deflated 7%)\n",
            "  adding: data/token_representations/UniRef50_A0A7M5V4H9.pt (deflated 7%)\n",
            "  adding: data/token_representations/UniRef50_A0A9W7XMY9.pt (deflated 7%)\n",
            "  adding: data/token_representations/UniRef50_A0A267EHF7.pt (deflated 7%)\n",
            "  adding: data/token_representations/UniRef50_V9TXE0.pt (deflated 7%)\n",
            "  adding: data/token_representations/UniRef50_A0A7M7PK96.pt (deflated 7%)\n",
            "  adding: data/token_representations/UniRef50_A0A840Q8C5.pt (deflated 7%)\n",
            "  adding: data/token_representations/UniRef50_A0A2B4SFA2.pt (deflated 7%)\n",
            "  adding: data/token_representations/UniRef50_A0A9P3K8T7.pt (deflated 7%)\n",
            "  adding: data/token_representations/UniRef50_H8KPG3.pt (deflated 7%)\n",
            "  adding: data/token_representations/UniRef50_UPI0015FFD524.pt (deflated 7%)\n",
            "  adding: data/token_representations/UniRef50_A0A662XLF0.pt (deflated 7%)\n",
            "  adding: data/token_representations/UniRef50_UPI001F158C5A.pt (deflated 7%)\n",
            "  adding: data/token_representations/UniRef50_A0A212C1Z1.pt (deflated 7%)\n",
            "  adding: data/token_representations/UniRef50_H6N1T2.pt (deflated 7%)\n",
            "  adding: data/token_representations/UniRef50_UPI0018CFA298.pt (deflated 7%)\n",
            "  adding: data/token_representations/UniRef50_A0A5Q0BGP2.pt (deflated 7%)\n",
            "  adding: data/token_representations/UniRef50_A0A7H8KJI6.pt (deflated 7%)\n",
            "  adding: data/token_representations/UniRef50_A0A516GHZ3.pt (deflated 7%)\n",
            "  adding: data/token_representations/UniRef50_UPI001CA6BE6A.pt (deflated 7%)\n",
            "  adding: data/token_representations/UniRef50_UPI00140D189E.pt (deflated 7%)\n",
            "  adding: data/token_representations/UniRef50_A8DYB0.pt (deflated 7%)\n",
            "  adding: data/token_representations/UniRef50_UPI00065B958D.pt (deflated 7%)\n",
            "  adding: data/token_representations/UniRef50_A0A8J9Z616.pt (deflated 7%)\n",
            "  adding: data/token_representations/UniRef50_UPI00225BD13D.pt (deflated 7%)\n",
            "  adding: data/token_representations/UniRef50_A0A6C0F6V5.pt (deflated 7%)\n",
            "  adding: data/token_representations/UniRef50_A0A315WAC2.pt (deflated 7%)\n",
            "  adding: data/token_representations/UniRef50_UPI00201EE1BF.pt (deflated 7%)\n",
            "  adding: data/token_representations/UniRef50_UPI00258DB017.pt (deflated 7%)\n",
            "  adding: data/token_representations/UniRef50_A0A834CTG4.pt (deflated 7%)\n",
            "  adding: data/token_representations/UniRef50_A0A941G5D8.pt (deflated 7%)\n",
            "  adding: data/token_representations/UniRef50_A0A8U7M6P0.pt (deflated 7%)\n",
            "  adding: data/token_representations/UniRef50_UPI001E66E805.pt (deflated 7%)\n",
            "  adding: data/token_representations/UniRef50_A0A249T071.pt (deflated 7%)\n",
            "  adding: data/token_representations/UniRef50_UPI0022B77375.pt (deflated 7%)\n",
            "  adding: data/token_representations/UniRef50_UPI0018A80D27.pt (deflated 7%)\n",
            "  adding: data/token_representations/UniRef50_M1VI87.pt (deflated 7%)\n",
            "  adding: data/token_representations/UniRef50_A0A2T3J2K2.pt (deflated 7%)\n",
            "  adding: data/token_representations/UniRef50_Q4FRA9.pt (deflated 7%)\n",
            "  adding: data/token_representations/UniRef50_UPI000BBBF12F.pt (deflated 7%)\n",
            "  adding: data/token_representations/UniRef50_A0A1J0VRW0.pt (deflated 7%)\n",
            "  adding: data/token_representations/UniRef50_UPI002240ECE4.pt (deflated 7%)\n",
            "  adding: data/token_representations/UniRef50_A0A3A6WG92.pt (deflated 7%)\n",
            "  adding: data/token_representations/UniRef50_A0A9P8LR21.pt (deflated 7%)\n",
            "  adding: data/token_representations/UniRef50_A0A0C1N6E7.pt (deflated 7%)\n",
            "  adding: data/token_representations/UniRef50_UPI001F0F39B5.pt (deflated 7%)\n",
            "  adding: data/token_representations/UniRef50_A0A9E3TQV2.pt (deflated 7%)\n",
            "  adding: data/token_representations/UniRef50_UPI0021C9A285.pt (deflated 7%)\n",
            "  adding: data/token_representations/UniRef50_A0A7V3PXT0.pt (deflated 7%)\n",
            "  adding: data/token_representations/UniRef50_A0A365XZQ6.pt (deflated 7%)\n",
            "  adding: data/token_representations/UniRef50_A0A5C0ZUT8.pt (deflated 7%)\n",
            "  adding: data/token_representations/UniRef50_A0A8M1MK00.pt (deflated 7%)\n",
            "  adding: data/token_representations/UniRef50_A0A8B7PM87.pt (deflated 7%)\n",
            "  adding: data/token_representations/UniRef50_UPI00235AF235.pt (deflated 7%)\n",
            "  adding: data/token_representations/UniRef50_UPI00081649E7.pt (deflated 7%)\n",
            "  adding: data/token_representations/UniRef50_UPI001300FACB.pt (deflated 7%)\n",
            "  adding: data/token_representations/UniRef50_A0A5P9PXC9.pt (deflated 7%)\n",
            "  adding: data/token_representations/UniRef50_A0A2I4AR26.pt (deflated 7%)\n",
            "  adding: data/token_representations/UniRef50_UPI00274087C7.pt (deflated 7%)\n",
            "  adding: data/token_representations/UniRef50_UPI001471A71C.pt (deflated 7%)\n",
            "  adding: data/token_representations/UniRef50_A0A507QL94.pt (deflated 7%)\n",
            "  adding: data/token_representations/UniRef50_A0A2E9RYK5.pt (deflated 7%)\n",
            "  adding: data/token_representations/UniRef50_W6PYC4.pt (deflated 7%)\n",
            "  adding: data/token_representations/UniRef50_A0A2I0KPX7.pt (deflated 7%)\n",
            "  adding: data/token_representations/UniRef50_A0A7R8XC63.pt (deflated 7%)\n",
            "  adding: data/token_representations/UniRef50_UPI00210E592E.pt (deflated 7%)\n",
            "  adding: data/token_representations/UniRef50_A0A1I6ECK1.pt (deflated 7%)\n",
            "  adding: data/token_representations/UniRef50_A0A1C6S1K3.pt (deflated 7%)\n",
            "  adding: data/token_representations/UniRef50_A0A060B920.pt (deflated 7%)\n",
            "  adding: data/token_representations/UniRef50_A0A178M8G9.pt (deflated 7%)\n",
            "  adding: data/token_representations/UniRef50_A0A0L8G183.pt (deflated 7%)\n",
            "  adding: data/token_representations/UniRef50_A0A1I6L3W2.pt (deflated 7%)\n",
            "  adding: data/token_representations/UniRef50_A0A8K0JDF4.pt (deflated 7%)\n",
            "  adding: data/token_representations/UniRef50_A0A835XQF5.pt (deflated 7%)\n",
            "  adding: data/token_representations/UniRef50_UPI00037BBC17.pt (deflated 7%)\n",
            "  adding: data/token_representations/UniRef50_A0A182Y667.pt (deflated 7%)\n",
            "  adding: data/token_representations/UniRef50_Q9P2P6.pt (deflated 7%)\n",
            "  adding: data/token_representations/UniRef50_A0A850RCZ0.pt (deflated 7%)\n",
            "  adding: data/token_representations/UniRef50_A0A8B6HMX2.pt (deflated 7%)\n",
            "  adding: data/token_representations/UniRef50_A0A059AHR2.pt (deflated 7%)\n",
            "  adding: data/token_representations/UniRef50_A0A818M6Q8.pt (deflated 7%)\n",
            "  adding: data/token_representations/UniRef50_A0A1A8W4L2.pt (deflated 7%)\n",
            "  adding: data/token_representations/UniRef50_A0A954TPD0.pt (deflated 7%)\n",
            "  adding: data/token_representations/UniRef50_A0A8R1IS11.pt (deflated 8%)\n",
            "  adding: data/token_representations/UniRef50_A0A378X6G3.pt (deflated 7%)\n",
            "  adding: data/token_representations/UniRef50_UPI001425A3E5.pt (deflated 7%)\n",
            "  adding: data/token_representations/UniRef50_A0A7K1U288.pt (deflated 7%)\n",
            "  adding: data/token_representations/UniRef50_A0A8J6G8A7.pt (deflated 7%)\n",
            "  adding: data/token_representations/UniRef50_A0A2X4X8X4.pt (deflated 7%)\n",
            "  adding: data/token_representations/UniRef50_UPI001C6A7C8B.pt (deflated 7%)\n",
            "  adding: data/token_representations/UniRef50_A0A0U1ZX74.pt (deflated 7%)\n",
            "  adding: data/token_representations/UniRef50_A0A7S7LDY5.pt (deflated 7%)\n",
            "  adding: data/token_representations/UniRef50_G3W287.pt (deflated 7%)\n",
            "  adding: data/token_representations/UniRef50_A0A4R3Z1U8.pt (deflated 7%)\n",
            "  adding: data/token_representations/UniRef50_A0A348AQU1.pt (deflated 7%)\n",
            "  adding: data/token_representations/UniRef50_UPI000BBCD13A.pt (deflated 7%)\n",
            "  adding: data/token_representations/UniRef50_Q3B5X6.pt (deflated 7%)\n",
            "  adding: data/token_representations/UniRef50_UPI00223BB255.pt (deflated 7%)\n",
            "  adding: data/token_representations/UniRef50_A0A075AFK7.pt (deflated 7%)\n",
            "  adding: data/token_representations/UniRef50_A0A1A2B194.pt (deflated 7%)\n",
            "  adding: data/token_representations/UniRef50_A0A6N6RPG1.pt (deflated 7%)\n",
            "  adding: data/token_representations/UniRef50_A0A8J9YTR5.pt (deflated 7%)\n",
            "  adding: data/token_representations/UniRef50_A0A2P9DPG6.pt (deflated 7%)\n",
            "  adding: data/token_representations/UniRef50_UPI00104E13AB.pt (deflated 7%)\n",
            "  adding: data/token_representations/UniRef50_A0A4U5TZD8.pt (deflated 7%)\n",
            "  adding: data/token_representations/UniRef50_A0A9Y1BJ50.pt (deflated 7%)\n",
            "  adding: data/token_representations/UniRef50_A0A8T3Z837.pt (deflated 7%)\n",
            "  adding: data/token_representations/UniRef50_A0A9Q0YDQ6.pt (deflated 7%)\n",
            "  adding: data/token_representations/UniRef50_A0A074YC66.pt (deflated 7%)\n",
            "  adding: data/token_representations/UniRef50_A0A3L7NEH4.pt (deflated 7%)\n",
            "  adding: data/token_representations/UniRef50_A0A378YJF8.pt (deflated 7%)\n",
            "  adding: data/token_representations/UniRef50_A0A1I9ZIL2.pt (deflated 7%)\n",
            "  adding: data/token_representations/UniRef50_A0A9P0L3M2.pt (deflated 7%)\n",
            "  adding: data/token_representations/UniRef50_UPI000A7D675F.pt (deflated 7%)\n",
            "  adding: data/token_representations/UniRef50_A0A0P1ARI6.pt (deflated 7%)\n",
            "  adding: data/token_representations/UniRef50_A0A1E3SIQ1.pt (deflated 7%)\n",
            "  adding: data/token_representations/UniRef50_A0A182VS38.pt (deflated 7%)\n",
            "  adding: data/token_representations/UniRef50_UPI00193A92C6.pt (deflated 7%)\n",
            "  adding: data/token_representations/UniRef50_UPI001ADF6D2C.pt (deflated 7%)\n",
            "  adding: data/token_representations/UniRef50_A0A8X7XLH0.pt (deflated 7%)\n",
            "  adding: data/token_representations/UniRef50_A0A507B510.pt (deflated 7%)\n",
            "  adding: data/token_representations/UniRef50_A0A1J1HE07.pt (deflated 7%)\n",
            "  adding: data/token_representations/UniRef50_UPI0021F30809.pt (deflated 7%)\n",
            "  adding: data/token_representations/UniRef50_A0A9Q1H5S7.pt (deflated 7%)\n",
            "  adding: data/token_representations/UniRef50_A0A1R1SDX3.pt (deflated 7%)\n",
            "  adding: data/token_representations/UniRef50_UPI0021D3A8D3.pt (deflated 7%)\n",
            "  adding: data/token_representations/UniRef50_A0A8H4X8T4.pt (deflated 7%)\n",
            "  adding: data/token_representations/UniRef50_A0A8J1XMC8.pt (deflated 7%)\n",
            "  adding: data/token_representations/UniRef50_A0A679J8X1.pt (deflated 7%)\n",
            "  adding: data/token_representations/UniRef50_A0A974Y7B4.pt (deflated 7%)\n",
            "  adding: data/token_representations/UniRef50_A0A2H4MZ81.pt (deflated 7%)\n",
            "  adding: data/token_representations/UniRef50_A0A1D8BYW9.pt (deflated 7%)\n",
            "  adding: data/token_representations/UniRef50_A0A2H6KAI4.pt (deflated 7%)\n",
            "  adding: data/token_representations/UniRef50_UPI002455ED8B.pt (deflated 7%)\n",
            "  adding: data/token_representations/UniRef50_W6UAM3.pt (deflated 7%)\n",
            "  adding: data/token_representations/UniRef50_A0A2W1BIP6.pt (deflated 7%)\n",
            "  adding: data/token_representations/UniRef50_A0A1I8NPG9.pt (deflated 7%)\n",
            "  adding: data/token_representations/UniRef50_A0A8K0LCU1.pt (deflated 7%)\n",
            "  adding: data/token_representations/UniRef50_A0A3L7VIR7.pt (deflated 7%)\n",
            "  adding: data/token_representations/UniRef50_A0A6J1XA11.pt (deflated 7%)\n",
            "  adding: data/token_representations/UniRef50_A0A139XDH3.pt (deflated 7%)\n",
            "  adding: data/token_representations/UniRef50_A0A498N6Z5.pt (deflated 7%)\n",
            "  adding: data/token_representations/UniRef50_UPI000B5C7B8C.pt (deflated 7%)\n",
            "  adding: data/token_representations/UniRef50_UPI0014498C8A.pt (deflated 7%)\n",
            "  adding: data/token_representations/UniRef50_UPI001477885E.pt (deflated 7%)\n",
            "  adding: data/token_representations/UniRef50_Q56I74.pt (deflated 8%)\n",
            "  adding: data/token_representations/UniRef50_A0A9J7HL71.pt (deflated 7%)\n",
            "  adding: data/token_representations/UniRef50_A0A5C6PU39.pt (deflated 7%)\n",
            "  adding: data/token_representations/UniRef50_A0A2J7PKC3.pt (deflated 7%)\n",
            "  adding: data/token_representations/UniRef50_A0A5P6VT73.pt (deflated 7%)\n",
            "  adding: data/token_representations/UniRef50_A0A6L2M906.pt (deflated 7%)\n",
            "  adding: data/token_representations/UniRef50_UPI001ED8773F.pt (deflated 7%)\n",
            "  adding: data/token_representations/UniRef50_A0A840MST5.pt (deflated 7%)\n",
            "  adding: data/token_representations/UniRef50_A0A8E2X3B0.pt (deflated 7%)\n",
            "  adding: data/token_representations/UniRef50_A0A0P0QKL0.pt (deflated 7%)\n",
            "  adding: data/token_representations/UniRef50_UPI0021C49C91.pt (deflated 7%)\n",
            "  adding: data/token_representations/UniRef50_A0A317NJJ9.pt (deflated 7%)\n",
            "  adding: data/token_representations/UniRef50_UPI0025B1A2B4.pt (deflated 7%)\n",
            "  adding: data/token_representations/UniRef50_A0A0G4HZ01.pt (deflated 7%)\n",
            "  adding: data/token_representations/UniRef50_A0A945T0X5.pt (deflated 7%)\n",
            "  adding: data/token_representations/UniRef50_A0A3D9SVM4.pt (deflated 7%)\n",
            "  adding: data/token_representations/UniRef50_A0A671XJX2.pt (deflated 7%)\n",
            "  adding: data/token_representations/UniRef50_A0A285LUY9.pt (deflated 7%)\n",
            "  adding: data/token_representations/UniRef50_UPI0013C2BD21.pt (deflated 7%)\n",
            "  adding: data/token_representations/UniRef50_A0A699GEJ4.pt (deflated 7%)\n",
            "  adding: data/token_representations/UniRef50_A0A817GP74.pt (deflated 7%)\n",
            "  adding: data/token_representations/UniRef50_UPI00093300C5.pt (deflated 7%)\n",
            "  adding: data/token_representations/UniRef50_UPI000A1EBE44.pt (deflated 7%)\n",
            "  adding: data/token_representations/UniRef50_UPI001E523C9C.pt (deflated 7%)\n",
            "  adding: data/token_representations/UniRef50_A0A327JUG7.pt (deflated 7%)\n",
            "  adding: data/token_representations/UniRef50_A0A1P8EEI4.pt (deflated 7%)\n",
            "  adding: data/token_representations/UniRef50_UPI0018CC2B42.pt (deflated 7%)\n",
            "  adding: data/token_representations/UniRef50_A0A182MQ24.pt (deflated 7%)\n",
            "  adding: data/token_representations/UniRef50_A0A2W7R3D5.pt (deflated 7%)\n",
            "  adding: data/token_representations/UniRef50_A0A8K0EDV9.pt (deflated 7%)\n",
            "  adding: data/token_representations/UniRef50_A0A556U740.pt (deflated 7%)\n",
            "  adding: data/token_representations/UniRef50_UPI001E2B73D5.pt (deflated 7%)\n",
            "  adding: data/token_representations/UniRef50_UPI001612D98A.pt (deflated 7%)\n",
            "  adding: data/token_representations/UniRef50_F2UI97.pt (deflated 7%)\n",
            "  adding: data/token_representations/UniRef50_UPI001C71CA8D.pt (deflated 7%)\n",
            "  adding: data/token_representations/UniRef50_A0A3G2UPI9.pt (deflated 7%)\n",
            "  adding: data/token_representations/UniRef50_UPI00106AB1E3.pt (deflated 7%)\n",
            "  adding: data/token_representations/UniRef50_A0A290ZJS4.pt (deflated 7%)\n",
            "  adding: data/token_representations/UniRef50_A0A0F9RQT8.pt (deflated 7%)\n",
            "  adding: data/token_representations/UniRef50_A0A1Q5AGK0.pt (deflated 7%)\n",
            "  adding: data/token_representations/UniRef50_UPI0018899B19.pt (deflated 7%)\n",
            "  adding: data/token_representations/UniRef50_A0A6H1L7M9.pt (deflated 7%)\n",
            "  adding: data/token_representations/UniRef50_UPI001BACC7A0.pt (deflated 7%)\n",
            "  adding: data/token_representations/UniRef50_A0A2C6KZC2.pt (deflated 7%)\n",
            "  adding: data/token_representations/UniRef50_A0A7Z0WLM0.pt (deflated 7%)\n",
            "  adding: data/token_representations/UniRef50_UPI0012929F2D.pt (deflated 7%)\n",
            "  adding: data/token_representations/UniRef50_A0A933X6V4.pt (deflated 7%)\n",
            "  adding: data/token_representations/UniRef50_A0A9X0CEB1.pt (deflated 7%)\n",
            "  adding: data/token_representations/UniRef50_UPI0023DC9BBE.pt (deflated 7%)\n",
            "  adding: data/token_representations/UniRef50_UPI0022FD525E.pt (deflated 7%)\n",
            "  adding: data/token_representations/UniRef50_A0A1I8GND0.pt (deflated 7%)\n",
            "  adding: data/token_representations/UniRef50_F0Y0K5.pt (deflated 7%)\n",
            "  adding: data/token_representations/UniRef50_F6VR91.pt (deflated 7%)\n",
            "  adding: data/token_representations/UniRef50_UPI00242B4535.pt (deflated 7%)\n",
            "  adding: data/token_representations/UniRef50_A0A8C5W8U7.pt (deflated 7%)\n",
            "  adding: data/token_representations/UniRef50_E2A653.pt (deflated 7%)\n",
            "  adding: data/token_representations/UniRef50_A0A4U5UVY9.pt (deflated 7%)\n",
            "  adding: data/token_representations/UniRef50_A0A9X0A1N3.pt (deflated 7%)\n",
            "  adding: data/token_representations/UniRef50_A0A6S7GI52.pt (deflated 7%)\n",
            "  adding: data/token_representations/UniRef50_UPI001359B996.pt (deflated 7%)\n",
            "  adding: data/token_representations/UniRef50_UPI0021BCE87B.pt (deflated 7%)\n",
            "  adding: data/token_representations/UniRef50_A0A1I8G338.pt (deflated 7%)\n",
            "  adding: data/token_representations/UniRef50_Q18DN4.pt (deflated 7%)\n",
            "  adding: data/token_representations/UniRef50_A0A7W3W6X4.pt (deflated 7%)\n",
            "  adding: data/token_representations/UniRef50_A0A3S8X3F7.pt (deflated 7%)\n",
            "  adding: data/token_representations/UniRef50_UPI002606E34F.pt (deflated 7%)\n",
            "  adding: data/token_representations/UniRef50_A0A058ZA17.pt (deflated 7%)\n",
            "  adding: data/token_representations/UniRef50_A0A9D8P723.pt (deflated 7%)\n",
            "  adding: data/token_representations/UniRef50_A0A836BBA9.pt (deflated 7%)\n",
            "  adding: data/token_representations/UniRef50_A0A8J1ZD56.pt (deflated 7%)\n",
            "  adding: data/token_representations/UniRef50_A0A6P7TK00.pt (deflated 7%)\n",
            "  adding: data/token_representations/UniRef50_A0A521HF89.pt (deflated 7%)\n",
            "  adding: data/token_representations/UniRef50_F2UJP7.pt (deflated 7%)\n",
            "  adding: data/token_representations/UniRef50_UPI00193A290F.pt (deflated 7%)\n",
            "  adding: data/token_representations/UniRef50_A0A6H5JBB5.pt (deflated 7%)\n",
            "  adding: data/token_representations/UniRef50_A0A927RJV0.pt (deflated 7%)\n",
            "  adding: data/token_representations/UniRef50_UPI0020A6AACA.pt (deflated 7%)\n",
            "  adding: data/token_representations/UniRef50_A0A0U3M3V0.pt (deflated 7%)\n",
            "  adding: data/token_representations/UniRef50_A0A498MNV3.pt (deflated 7%)\n",
            "  adding: data/token_representations/UniRef50_A0A813JBX1.pt (deflated 7%)\n",
            "  adding: data/token_representations/UniRef50_A0A449BF55.pt (deflated 7%)\n",
            "  adding: data/token_representations/UniRef50_A0A2B4STJ1.pt (deflated 7%)\n",
            "  adding: data/token_representations/UniRef50_A0A2T3FX74.pt (deflated 7%)\n",
            "  adding: data/token_representations/UniRef50_A0A386X593.pt (deflated 7%)\n",
            "  adding: data/token_representations/UniRef50_UPI00024850BB.pt (deflated 7%)\n",
            "  adding: data/token_representations/UniRef50_A0A2S0I5H9.pt (deflated 7%)\n",
            "  adding: data/token_representations/UniRef50_UPI001C47D35C.pt (deflated 7%)\n",
            "  adding: data/token_representations/UniRef50_UPI0010FD074B.pt (deflated 7%)\n",
            "  adding: data/token_representations/UniRef50_A0A9Q1BHR3.pt (deflated 7%)\n",
            "  adding: data/token_representations/UniRef50_A0A4E9EZX0.pt (deflated 7%)\n",
            "  adding: data/token_representations/UniRef50_A0A2S2DWK7.pt (deflated 7%)\n",
            "  adding: data/token_representations/UniRef50_A0A0M4L8N3.pt (deflated 7%)\n",
            "  adding: data/token_representations/UniRef50_A0A938RUJ5.pt (deflated 7%)\n",
            "  adding: data/token_representations/UniRef50_UPI0020CE2950.pt (deflated 7%)\n",
            "  adding: data/token_representations/UniRef50_UPI0022260DD4.pt (deflated 7%)\n",
            "  adding: data/token_representations/UniRef50_A0A812PLW5.pt (deflated 7%)\n",
            "  adding: data/token_representations/UniRef50_A0A9W7GNT4.pt (deflated 7%)\n",
            "  adding: data/token_representations/UniRef50_UPI0022B4B66B.pt (deflated 7%)\n",
            "  adding: data/token_representations/UniRef50_A0A6J2QKT6.pt (deflated 7%)\n",
            "  adding: data/token_representations/UniRef50_A0A8X6Q6V8.pt (deflated 7%)\n",
            "  adding: data/token_representations/UniRef50_A0A2I6SBB7.pt (deflated 7%)\n",
            "  adding: data/token_representations/UniRef50_A0A310SA67.pt (deflated 7%)\n",
            "  adding: data/token_representations/UniRef50_A0A1V9ZX41.pt (deflated 7%)\n",
            "  adding: data/token_representations/UniRef50_A0A1X2DM83.pt (deflated 7%)\n",
            "  adding: data/token_representations/UniRef50_Q7RTF4.pt (deflated 7%)\n",
            "  adding: data/token_representations/UniRef50_A0A5D6XJA3.pt (deflated 7%)\n",
            "  adding: data/token_representations/UniRef50_A0A4V2FP45.pt (deflated 7%)\n",
            "  adding: data/token_representations/UniRef50_A0A9P0BAQ0.pt (deflated 7%)\n",
            "  adding: data/token_representations/UniRef50_A0A0L0LIJ4.pt (deflated 7%)\n",
            "  adding: data/token_representations/UniRef50_A0A7R9CV67.pt (deflated 7%)\n",
            "  adding: data/token_representations/UniRef50_A0A2A9MM06.pt (deflated 7%)\n",
            "  adding: data/token_representations/UniRef50_A0A643ETN4.pt (deflated 7%)\n",
            "  adding: data/token_representations/UniRef50_UPI00187DC8B4.pt (deflated 7%)\n",
            "  adding: data/token_representations/UniRef50_A0A2A2WK47.pt (deflated 7%)\n",
            "  adding: data/token_representations/UniRef50_UPI0012322FE4.pt (deflated 7%)\n",
            "  adding: data/token_representations/UniRef50_UPI0024B55488.pt (deflated 7%)\n",
            "  adding: data/token_representations/UniRef50_A0A9C7FJS8.pt (deflated 7%)\n",
            "  adding: data/token_representations/UniRef50_A0A1B6JA77.pt (deflated 7%)\n",
            "  adding: data/token_representations/UniRef50_UPI00124B10D4.pt (deflated 7%)\n",
            "  adding: data/token_representations/UniRef50_A0A4W4GYM7.pt (deflated 7%)\n",
            "  adding: data/token_representations/UniRef50_A0A915Q055.pt (deflated 7%)\n",
            "  adding: data/token_representations/UniRef50_UPI0022B1027B.pt (deflated 7%)\n",
            "  adding: data/token_representations/UniRef50_A0A7M7N314.pt (deflated 7%)\n",
            "  adding: data/token_representations/UniRef50_A0A5C7XR47.pt (deflated 7%)\n",
            "  adding: data/token_representations/UniRef50_UPI001BB2BE77.pt (deflated 7%)\n",
            "  adding: data/token_representations/UniRef50_A0A1D9LE10.pt (deflated 7%)\n",
            "  adding: data/token_representations/UniRef50_UPI001C06ADEF.pt (deflated 7%)\n",
            "  adding: data/token_representations/UniRef50_UPI001C087F69.pt (deflated 7%)\n",
            "  adding: data/token_representations/UniRef50_A0A4Y9SC20.pt (deflated 7%)\n",
            "  adding: data/token_representations/UniRef50_A0A158QT50.pt (deflated 7%)\n",
            "  adding: data/token_representations/UniRef50_K4A4M0.pt (deflated 7%)\n",
            "  adding: data/token_representations/UniRef50_A0A6P7T297.pt (deflated 7%)\n",
            "  adding: data/token_representations/UniRef50_UPI0014582D29.pt (deflated 7%)\n",
            "  adding: data/token_representations/UniRef50_A0A5H2UCU7.pt (deflated 7%)\n",
            "  adding: data/token_representations/UniRef50_A0A0Q9X4I5.pt (deflated 7%)\n",
            "  adding: data/token_representations/UniRef50_UPI0022236D8A.pt (deflated 7%)\n",
            "  adding: data/token_representations/UniRef50_A0A916XJ24.pt (deflated 7%)\n",
            "  adding: data/token_representations/UniRef50_A0A1C6V0G9.pt (deflated 7%)\n",
            "  adding: data/token_representations/UniRef50_A0A835Z9J4.pt (deflated 7%)\n",
            "  adding: data/token_representations/UniRef50_A0A7M7N1F5.pt (deflated 7%)\n",
            "  adding: data/token_representations/UniRef50_A0A8S9DFQ4.pt (deflated 7%)\n",
            "  adding: data/token_representations/UniRef50_A0A0H5PID4.pt (deflated 7%)\n",
            "  adding: data/token_representations/UniRef50_A0A915CVV6.pt (deflated 7%)\n",
            "  adding: data/token_representations/UniRef50_A0A9X3F2H4.pt (deflated 7%)\n",
            "  adding: data/token_representations/UniRef50_UPI0013CE78C9.pt (deflated 7%)\n",
            "  adding: data/token_representations/UniRef50_A0A0Q9WEN3.pt (deflated 7%)\n",
            "  adding: data/token_representations/UniRef50_UPI0022F00CBE.pt (deflated 7%)\n",
            "  adding: data/token_representations/UniRef50_K8EN00.pt (deflated 7%)\n",
            "  adding: data/token_representations/UniRef50_A0A7I8MYL2.pt (deflated 7%)\n",
            "  adding: data/token_representations/UniRef50_UPI0003F0B1BE.pt (deflated 7%)\n",
            "  adding: data/token_representations/UniRef50_A0A058ZF60.pt (deflated 7%)\n",
            "  adding: data/token_representations/UniRef50_A0A0L0NEG2.pt (deflated 7%)\n",
            "  adding: data/token_representations/UniRef50_A0A1Q9E589.pt (deflated 7%)\n",
            "  adding: data/token_representations/UniRef50_UPI001F269EE2.pt (deflated 7%)\n",
            "  adding: data/token_representations/UniRef50_A6KMN2.pt (deflated 7%)\n",
            "  adding: data/token_representations/UniRef50_A0A945S7B3.pt (deflated 7%)\n",
            "  adding: data/token_representations/UniRef50_A0A2E6VSF6.pt (deflated 7%)\n",
            "  adding: data/token_representations/UniRef50_A0A255R5U4.pt (deflated 7%)\n",
            "  adding: data/token_representations/UniRef50_UPI001890B2AE.pt (deflated 7%)\n",
            "  adding: data/token_representations/UniRef50_A0A447LUJ7.pt (deflated 7%)\n",
            "  adding: data/token_representations/UniRef50_A0A935V504.pt (deflated 7%)\n",
            "  adding: data/token_representations/UniRef50_UPI00216560C4.pt (deflated 7%)\n",
            "  adding: data/token_representations/UniRef50_UPI002034DE2B.pt (deflated 7%)\n",
            "  adding: data/token_representations/UniRef50_U6M4L3.pt (deflated 7%)\n",
            "  adding: data/token_representations/UniRef50_UPI001F330514.pt (deflated 7%)\n",
            "  adding: data/token_representations/UniRef50_UPI0024A42DFE.pt (deflated 7%)\n",
            "  adding: data/token_representations/UniRef50_A0A0F7VSN1.pt (deflated 7%)\n",
            "  adding: data/token_representations/UniRef50_A0A6J2UUU9.pt (deflated 7%)\n",
            "  adding: data/token_representations/UniRef50_A0A379M183.pt (deflated 7%)\n",
            "  adding: data/token_representations/UniRef50_A0A2Z2NUP1.pt (deflated 7%)\n",
            "  adding: data/token_representations/UniRef50_A0A836CSR3.pt (deflated 7%)\n",
            "  adding: data/token_representations/UniRef50_A0A2T2YTC1.pt (deflated 7%)\n",
            "  adding: data/token_representations/UniRef50_A0A1E7JW20.pt (deflated 7%)\n",
            "  adding: data/token_representations/UniRef50_A0A813KLY6.pt (deflated 7%)\n",
            "  adding: data/token_representations/UniRef50_N8QA27.pt (deflated 7%)\n",
            "  adding: data/token_representations/UniRef50_A0A1Z8SK71.pt (deflated 7%)\n",
            "  adding: data/token_representations/UniRef50_A0A2T4F9X7.pt (deflated 7%)\n",
            "  adding: data/token_representations/UniRef50_UPI001872587B.pt (deflated 7%)\n",
            "  adding: data/token_representations/UniRef50_A0A8J2W8A2.pt (deflated 7%)\n",
            "  adding: data/token_representations/UniRef50_A0A2N1PLX3.pt (deflated 7%)\n",
            "  adding: data/token_representations/UniRef50_A0A1Q9CJB5.pt (deflated 7%)\n",
            "  adding: data/token_representations/UniRef50_A0A7V5DRU2.pt (deflated 7%)\n",
            "  adding: data/token_representations/UniRef50_A0A2D6MXV1.pt (deflated 7%)\n",
            "  adding: data/token_representations/UniRef50_A0A227J914.pt (deflated 7%)\n",
            "  adding: data/token_representations/UniRef50_A0A1Y3NP68.pt (deflated 7%)\n",
            "  adding: data/token_representations/UniRef50_A0A812B4M7.pt (deflated 7%)\n",
            "  adding: data/token_representations/UniRef50_A0A928RP16.pt (deflated 7%)\n",
            "  adding: data/token_representations/UniRef50_A0A2K2RC51.pt (deflated 7%)\n",
            "  adding: data/token_representations/UniRef50_A0A2R4WJM4.pt (deflated 7%)\n",
            "  adding: data/token_representations/UniRef50_UPI0014331C78.pt (deflated 7%)\n",
            "  adding: data/token_representations/UniRef50_UPI0025AF4843.pt (deflated 7%)\n",
            "  adding: data/token_representations/UniRef50_A0A1I1JRT0.pt (deflated 7%)\n",
            "  adding: data/token_representations/UniRef50_UPI0021AAB527.pt (deflated 7%)\n",
            "  adding: data/token_representations/UniRef50_C1B7B3.pt (deflated 7%)\n",
            "  adding: data/token_representations/UniRef50_A0A3E0H2T5.pt (deflated 7%)\n",
            "  adding: data/token_representations/UniRef50_I3K6M0.pt (deflated 7%)\n",
            "  adding: data/token_representations/UniRef50_A0A2K6ULY6.pt (deflated 7%)\n",
            "  adding: data/token_representations/UniRef50_UPI00255B011F.pt (deflated 7%)\n",
            "  adding: data/token_representations/UniRef50_A0A6P8ZVY6.pt (deflated 7%)\n",
            "  adding: data/token_representations/UniRef50_UPI001FEE622E.pt (deflated 7%)\n",
            "  adding: data/token_representations/UniRef50_A0A8B8IHX0.pt (deflated 7%)\n",
            "  adding: data/token_representations/UniRef50_UPI000D378DFC.pt (deflated 7%)\n",
            "  adding: data/token_representations/UniRef50_UPI0023E308C3.pt (deflated 7%)\n",
            "  adding: data/token_representations/UniRef50_A0A2N9ARQ6.pt (deflated 7%)\n",
            "  adding: data/token_representations/UniRef50_UPI0025DD8EE9.pt (deflated 7%)\n",
            "  adding: data/token_representations/UniRef50_F8AWN2.pt (deflated 7%)\n",
            "  adding: data/token_representations/UniRef50_A0A9Q9WNT6.pt (deflated 7%)\n",
            "  adding: data/token_representations/UniRef50_A0A0N0V0D4.pt (deflated 7%)\n",
            "  adding: data/token_representations/UniRef50_A0A849Q9A0.pt (deflated 7%)\n",
            "  adding: data/token_representations/UniRef50_A0A1V9Z629.pt (deflated 7%)\n",
            "  adding: data/token_representations/UniRef50_UPI000F08A703.pt (deflated 7%)\n",
            "  adding: data/token_representations/UniRef50_UPI002454328E.pt (deflated 7%)\n",
            "  adding: data/token_representations/UniRef50_A0A9E8IV97.pt (deflated 7%)\n",
            "  adding: data/token_representations/UniRef50_A0A6H5JCS4.pt (deflated 7%)\n",
            "  adding: data/token_representations/UniRef50_UPI001FF3CDC0.pt (deflated 7%)\n",
            "  adding: data/token_representations/UniRef50_A0A383WHB3.pt (deflated 7%)\n",
            "  adding: data/token_representations/UniRef50_UPI000360EDA8.pt (deflated 7%)\n",
            "  adding: data/token_representations/UniRef50_A0A0S6XHH0.pt (deflated 7%)\n",
            "  adding: data/token_representations/UniRef50_A0A366M3R1.pt (deflated 7%)\n",
            "  adding: data/token_representations/UniRef50_A0A542DJF8.pt (deflated 7%)\n",
            "  adding: data/token_representations/UniRef50_UPI002485DF3F.pt (deflated 7%)\n",
            "  adding: data/token_representations/UniRef50_A0A8W4FR76.pt (deflated 7%)\n",
            "  adding: data/token_representations/UniRef50_A0A6J4FZG3.pt (deflated 7%)\n",
            "  adding: data/token_representations/UniRef50_A0A6A6SZ70.pt (deflated 7%)\n",
            "  adding: data/token_representations/UniRef50_A0A060RRX0.pt (deflated 7%)\n",
            "  adding: data/token_representations/UniRef50_A0A8J2QBC5.pt (deflated 7%)\n",
            "  adding: data/token_representations/UniRef50_A0A6M6C7I7.pt (deflated 7%)\n",
            "  adding: data/token_representations/UniRef50_A0A1G7BTG7.pt (deflated 7%)\n",
            "  adding: data/token_representations/UniRef50_A0A1A9UCU1.pt (deflated 7%)\n",
            "  adding: data/token_representations/UniRef50_A0A8J2QZ08.pt (deflated 7%)\n",
            "  adding: data/token_representations/UniRef50_A0A7I8W065.pt (deflated 7%)\n",
            "  adding: data/token_representations/UniRef50_A0A653BL51.pt (deflated 7%)\n",
            "  adding: data/token_representations/UniRef50_A0A1M4LF02.pt (deflated 7%)\n",
            "  adding: data/token_representations/UniRef50_A0A7H0I576.pt (deflated 8%)\n",
            "  adding: data/token_representations/UniRef50_A0A1S3GL38.pt (deflated 7%)\n",
            "  adding: data/token_representations/UniRef50_A0A967DD50.pt (deflated 7%)\n",
            "  adding: data/token_representations/UniRef50_A3IHD9.pt (deflated 7%)\n",
            "  adding: data/token_representations/UniRef50_UPI001F23F23C.pt (deflated 7%)\n",
            "  adding: data/token_representations/UniRef50_UPI0024E14A23.pt (deflated 7%)\n",
            "  adding: data/token_representations/UniRef50_U5N4F8.pt (deflated 7%)\n",
            "  adding: data/token_representations/UniRef50_A0A6I6WMB4.pt (deflated 7%)\n",
            "  adding: data/token_representations/UniRef50_A0A0L0DK65.pt (deflated 7%)\n",
            "  adding: data/token_representations/UniRef50_UPI002480CA4D.pt (deflated 7%)\n",
            "  adding: data/token_representations/UniRef50_UPI001FA996CE.pt (deflated 7%)\n",
            "  adding: data/token_representations/UniRef50_A0A812XJJ1.pt (deflated 7%)\n",
            "  adding: data/token_representations/UniRef50_A0A386ZBC6.pt (deflated 7%)\n",
            "  adding: data/token_representations/UniRef50_UPI0024A9F3A1.pt (deflated 7%)\n",
            "  adding: data/token_representations/UniRef50_A0A285LSN0.pt (deflated 7%)\n",
            "  adding: data/token_representations/UniRef50_UPI001BD334AD.pt (deflated 7%)\n",
            "  adding: data/token_representations/UniRef50_U4UK51.pt (deflated 7%)\n",
            "  adding: data/token_representations/UniRef50_A0A7M7STC1.pt (deflated 7%)\n",
            "  adding: data/token_representations/UniRef50_UPI001FAFEC3D.pt (deflated 7%)\n",
            "  adding: data/token_representations/UniRef50_A0A1H0M7A1.pt (deflated 7%)\n",
            "  adding: data/token_representations/UniRef50_A0A229RN53.pt (deflated 7%)\n",
            "  adding: data/token_representations/UniRef50_A0A2A9CNY3.pt (deflated 7%)\n",
            "  adding: data/token_representations/UniRef50_A0A7W7Q9C7.pt (deflated 7%)\n",
            "  adding: data/token_representations/UniRef50_UPI002738EBAE.pt (deflated 7%)\n",
            "  adding: data/token_representations/UniRef50_UPI001396642B.pt (deflated 7%)\n",
            "  adding: data/token_representations/UniRef50_A0A178U7W3.pt (deflated 7%)\n",
            "  adding: data/token_representations/UniRef50_A0A846E7Z0.pt (deflated 7%)\n",
            "  adding: data/token_representations/UniRef50_A0A3M6UT45.pt (deflated 7%)\n",
            "  adding: data/token_representations/UniRef50_UPI0020773FC2.pt (deflated 7%)\n",
            "  adding: data/token_representations/UniRef50_A0A5S9NNY3.pt (deflated 7%)\n",
            "  adding: data/token_representations/UniRef50_A0A3D3IS24.pt (deflated 7%)\n",
            "  adding: data/token_representations/UniRef50_UPI00255041FA.pt (deflated 7%)\n",
            "  adding: data/token_representations/UniRef50_UPI00273C096D.pt (deflated 7%)\n",
            "  adding: data/token_representations/UniRef50_A0A2A9M9G9.pt (deflated 7%)\n",
            "  adding: data/token_representations/UniRef50_UPI001C223E89.pt (deflated 7%)\n",
            "  adding: data/token_representations/UniRef50_A0A450RVF4.pt (deflated 7%)\n",
            "  adding: data/token_representations/UniRef50_A0A3Q8V813.pt (deflated 7%)\n",
            "  adding: data/token_representations/UniRef50_A0A0G4H3B6.pt (deflated 7%)\n",
            "  adding: data/token_representations/UniRef50_A0A7H0I539.pt (deflated 7%)\n",
            "  adding: data/token_representations/UniRef50_A0A2E5ZWF4.pt (deflated 7%)\n",
            "  adding: data/token_representations/UniRef50_UPI0011765B6A.pt (deflated 7%)\n",
            "  adding: data/token_representations/UniRef50_A0A2C9K057.pt (deflated 7%)\n",
            "  adding: data/token_representations/UniRef50_UPI001887DE30.pt (deflated 7%)\n",
            "  adding: data/token_representations/UniRef50_S3BI08.pt (deflated 7%)\n",
            "  adding: data/token_representations/UniRef50_A0A9B0WYR7.pt (deflated 7%)\n",
            "  adding: data/token_representations/UniRef50_F2U5J8.pt (deflated 7%)\n",
            "  adding: data/token_representations/UniRef50_M4UND3.pt (deflated 7%)\n",
            "  adding: data/token_representations/UniRef50_A0A8C4ZL71.pt (deflated 7%)\n",
            "  adding: data/token_representations/UniRef50_A0A263DXR2.pt (deflated 7%)\n",
            "  adding: data/token_representations/UniRef50_A0A7M5UW14.pt (deflated 7%)\n",
            "  adding: data/token_representations/UniRef50_UPI00234E6A90.pt (deflated 7%)\n",
            "  adding: data/token_representations/UniRef50_A0A6P7WVM7.pt (deflated 7%)\n",
            "  adding: data/token_representations/UniRef50_A0A256SXR3.pt (deflated 7%)\n",
            "  adding: data/token_representations/UniRef50_UPI0013027BEE.pt (deflated 7%)\n",
            "  adding: data/token_representations/UniRef50_A0A1T1HXS3.pt (deflated 7%)\n",
            "  adding: data/token_representations/UniRef50_UPI00146F116B.pt (deflated 7%)\n",
            "  adding: data/token_representations/UniRef50_A0A8K9V3D1.pt (deflated 7%)\n",
            "  adding: data/token_representations/UniRef50_A0A7J6CFZ6.pt (deflated 7%)\n",
            "  adding: data/token_representations/UniRef50_A0A810N7C9.pt (deflated 7%)\n",
            "  adding: data/token_representations/UniRef50_A0A699GEI3.pt (deflated 7%)\n",
            "  adding: data/token_representations/UniRef50_UPI001EE1CBAE.pt (deflated 7%)\n",
            "  adding: data/token_representations/UniRef50_A0A353VNC9.pt (deflated 7%)\n",
            "  adding: data/token_representations/UniRef50_A0A359BJQ5.pt (deflated 7%)\n",
            "  adding: data/token_representations/UniRef50_UPI002102043A.pt (deflated 7%)\n",
            "  adding: data/token_representations/UniRef50_UPI0019409834.pt (deflated 7%)\n",
            "  adding: data/token_representations/UniRef50_A0A8D3D2T5.pt (deflated 7%)\n",
            "  adding: data/token_representations/UniRef50_A0A842RF91.pt (deflated 7%)\n",
            "  adding: data/token_representations/UniRef50_A0A9Q0RMN6.pt (deflated 7%)\n",
            "  adding: data/token_representations/UniRef50_A0A178INT3.pt (deflated 7%)\n",
            "  adding: data/token_representations/UniRef50_A0A1A8U7F0.pt (deflated 7%)\n",
            "  adding: data/token_representations/UniRef50_A0A2S7JT62.pt (deflated 7%)\n",
            "  adding: data/token_representations/UniRef50_A0A9Q1DWD5.pt (deflated 7%)\n",
            "  adding: data/token_representations/UniRef50_A0A931SRI1.pt (deflated 7%)\n",
            "  adding: data/token_representations/UniRef50_A0A066VBJ6.pt (deflated 7%)\n",
            "  adding: data/token_representations/UniRef50_A0A3P7WY11.pt (deflated 7%)\n",
            "  adding: data/token_representations/UniRef50_UPI001F5F2637.pt (deflated 7%)\n",
            "  adding: data/token_representations/UniRef50_A0A699GFX0.pt (deflated 7%)\n",
            "  adding: data/token_representations/UniRef50_A0A1D8MBT0.pt (deflated 7%)\n",
            "  adding: data/token_representations/UniRef50_A0A2P7QRU9.pt (deflated 7%)\n",
            "  adding: data/token_representations/UniRef50_A0A5N6UHS2.pt (deflated 7%)\n",
            "  adding: data/token_representations/UniRef50_UPI00234E466D.pt (deflated 7%)\n",
            "  adding: data/token_representations/UniRef50_A0A0G4HWH0.pt (deflated 7%)\n",
            "  adding: data/token_representations/UniRef50_A0A4Q9QZ58.pt (deflated 7%)\n",
            "  adding: data/token_representations/UniRef50_UPI002091F566.pt (deflated 7%)\n",
            "  adding: data/token_representations/UniRef50_A0A932NQX5.pt (deflated 7%)\n",
            "  adding: data/token_representations/UniRef50_A0A4R6JQ75.pt (deflated 7%)\n",
            "  adding: data/token_representations/UniRef50_F0VCZ1.pt (deflated 7%)\n",
            "  adding: data/token_representations/UniRef50_A9V4E5.pt (deflated 7%)\n",
            "  adding: data/token_representations/UniRef50_A0A0C1B487.pt (deflated 7%)\n",
            "  adding: data/token_representations/UniRef50_A0A7W5GQU2.pt (deflated 7%)\n",
            "  adding: data/token_representations/UniRef50_A0A913Z975.pt (deflated 7%)\n",
            "  adding: data/token_representations/UniRef50_UPI0018909EE2.pt (deflated 7%)\n",
            "  adding: data/token_representations/UniRef50_A0A017T6E6.pt (deflated 7%)\n",
            "  adding: data/token_representations/UniRef50_UPI0023EFFF23.pt (deflated 7%)\n",
            "  adding: data/token_representations/UniRef50_A0A1X7PRQ7.pt (deflated 7%)\n",
            "  adding: data/token_representations/UniRef50_A0A7C1MXC0.pt (deflated 7%)\n",
            "  adding: data/token_representations/UniRef50_UPI0024A01427.pt (deflated 7%)\n",
            "  adding: data/token_representations/UniRef50_A0A1C5K4P0.pt (deflated 7%)\n",
            "  adding: data/token_representations/UniRef50_A0A813JSP9.pt (deflated 7%)\n",
            "  adding: data/token_representations/UniRef50_F0VB05.pt (deflated 7%)\n",
            "  adding: data/token_representations/UniRef50_A0A369URF3.pt (deflated 7%)\n",
            "  adding: data/token_representations/UniRef50_A0A517NRE7.pt (deflated 7%)\n",
            "  adding: data/token_representations/UniRef50_UPI00174BECA6.pt (deflated 7%)\n",
            "  adding: data/token_representations/UniRef50_A0A2T7PXJ8.pt (deflated 7%)\n",
            "  adding: data/token_representations/UniRef50_UPI00160320F3.pt (deflated 7%)\n",
            "  adding: data/token_representations/UniRef50_A0A6G1PZX5.pt (deflated 7%)\n",
            "  adding: data/token_representations/UniRef50_A0A8J7Q3K6.pt (deflated 7%)\n",
            "  adding: data/token_representations/UniRef50_A0A8J6Z1J1.pt (deflated 7%)\n",
            "  adding: data/token_representations/UniRef50_A0A6G0WHI1.pt (deflated 7%)\n",
            "  adding: data/token_representations/UniRef50_A6VNH6.pt (deflated 7%)\n",
            "  adding: data/token_representations/UniRef50_A0A847RM13.pt (deflated 7%)\n",
            "  adding: data/token_representations/UniRef50_UPI0014301491.pt (deflated 7%)\n",
            "  adding: data/token_representations/UniRef50_A0A5B7TPI4.pt (deflated 7%)\n",
            "  adding: data/token_representations/UniRef50_F0YJ47.pt (deflated 7%)\n",
            "  adding: data/token_representations/UniRef50_A0A855L5X9.pt (deflated 7%)\n",
            "  adding: data/token_representations/UniRef50_A0A482MPP3.pt (deflated 7%)\n",
            "  adding: data/token_representations/UniRef50_A0A974CVB1.pt (deflated 7%)\n",
            "  adding: data/token_representations/UniRef50_UPI001FADCD00.pt (deflated 7%)\n",
            "  adding: data/token_representations/UniRef50_A0A6B9KG91.pt (deflated 7%)\n",
            "  adding: data/token_representations/UniRef50_A0A286EVM5.pt (deflated 7%)\n",
            "  adding: data/token_representations/UniRef50_A0A250KN36.pt (deflated 7%)\n",
            "  adding: data/token_representations/UniRef50_A0A6I8U8C7.pt (deflated 7%)\n",
            "  adding: data/token_representations/UniRef50_A0A2T7PGF8.pt (deflated 7%)\n",
            "  adding: data/token_representations/UniRef50_A0A1X7AG39.pt (deflated 7%)\n",
            "  adding: data/token_representations/UniRef50_A0A1J0VMK3.pt (deflated 7%)\n",
            "  adding: data/token_representations/UniRef50_UPI00200E7B2B.pt (deflated 7%)\n",
            "  adding: data/token_representations/UniRef50_A0A222SP01.pt (deflated 7%)\n",
            "  adding: data/token_representations/UniRef50_A0A0A2VIY5.pt (deflated 7%)\n",
            "  adding: data/token_representations/UniRef50_A0A183UPP9.pt (deflated 7%)\n",
            "  adding: data/token_representations/UniRef50_A0A976M8Z1.pt (deflated 7%)\n",
            "  adding: data/token_representations/UniRef50_A0A067RBL8.pt (deflated 7%)\n",
            "  adding: data/token_representations/UniRef50_A0A545U953.pt (deflated 7%)\n",
            "  adding: data/token_representations/UniRef50_A0A8J1Z085.pt (deflated 7%)\n",
            "  adding: data/token_representations/UniRef50_UPI000425ADC4.pt (deflated 7%)\n",
            "  adding: data/token_representations/UniRef50_UPI00262F4065.pt (deflated 7%)\n",
            "  adding: data/token_representations/UniRef50_UPI0011C12410.pt (deflated 7%)\n",
            "  adding: data/token_representations/UniRef50_A0A0G4EKZ3.pt (deflated 7%)\n",
            "  adding: data/token_representations/UniRef50_A0A7M1RUD9.pt (deflated 7%)\n",
            "  adding: data/token_representations/UniRef50_UPI000B45C5EC.pt (deflated 7%)\n",
            "  adding: data/token_representations/UniRef50_A0A1S6FJM5.pt (deflated 7%)\n",
            "  adding: data/token_representations/UniRef50_A0A7Y4Y3W3.pt (deflated 7%)\n",
            "  adding: data/token_representations/UniRef50_A0A8H7ELN3.pt (deflated 7%)\n",
            "  adding: data/token_representations/UniRef50_A0A482WXL8.pt (deflated 7%)\n",
            "  adding: data/token_representations/UniRef50_UPI0013312755.pt (deflated 7%)\n",
            "  adding: data/token_representations/UniRef50_A2DNH4.pt (deflated 7%)\n",
            "  adding: data/token_representations/UniRef50_A0A327VVG4.pt (deflated 7%)\n",
            "  adding: data/token_representations/UniRef50_A0A7W7YJR2.pt (deflated 7%)\n",
            "  adding: data/token_representations/UniRef50_R1DLD1.pt (deflated 7%)\n",
            "  adding: data/token_representations/UniRef50_A0A2P4Z126.pt (deflated 7%)\n",
            "  adding: data/token_representations/UniRef50_A0A363MWB9.pt (deflated 7%)\n",
            "  adding: data/token_representations/UniRef50_R9T726.pt (deflated 7%)\n",
            "  adding: data/token_representations/UniRef50_I1DZP4.pt (deflated 7%)\n",
            "  adding: data/token_representations/UniRef50_B2WW42.pt (deflated 7%)\n",
            "  adding: data/token_representations/UniRef50_Q12HX0.pt (deflated 7%)\n",
            "  adding: data/token_representations/UniRef50_A0A1I1AWJ4.pt (deflated 7%)\n",
            "  adding: data/token_representations/UniRef50_A0A8C7I4B6.pt (deflated 7%)\n",
            "  adding: data/token_representations/UniRef50_A0A0M9EDH0.pt (deflated 7%)\n",
            "  adding: data/token_representations/UniRef50_UPI0022251F40.pt (deflated 7%)\n",
            "  adding: data/token_representations/UniRef50_A0A8B6D8D6.pt (deflated 7%)\n",
            "  adding: data/token_representations/UniRef50_A0A8J2HJR2.pt (deflated 7%)\n",
            "  adding: data/token_representations/UniRef50_UPI0022AF1CCE.pt (deflated 7%)\n",
            "  adding: data/token_representations/UniRef50_A0A653HEP5.pt (deflated 7%)\n",
            "  adding: data/token_representations/UniRef50_A0A6A1THS4.pt (deflated 7%)\n",
            "  adding: data/token_representations/UniRef50_A0A7Z3BLF2.pt (deflated 7%)\n",
            "  adding: data/token_representations/UniRef50_UPI0014590559.pt (deflated 7%)\n",
            "  adding: data/token_representations/UniRef50_A0A158NVQ5.pt (deflated 7%)\n",
            "  adding: data/token_representations/UniRef50_A0A522WB52.pt (deflated 7%)\n",
            "  adding: data/token_representations/UniRef50_A0A9P5G7N4.pt (deflated 7%)\n",
            "  adding: data/token_representations/UniRef50_UPI001F16460C.pt (deflated 7%)\n",
            "  adding: data/token_representations/UniRef50_A0A1G9VFJ8.pt (deflated 7%)\n",
            "  adding: data/token_representations/UniRef50_A0A3A8LJH5.pt (deflated 7%)\n",
            "  adding: data/token_representations/UniRef50_W6RTA4.pt (deflated 7%)\n",
            "  adding: data/token_representations/UniRef50_A0A9Q8UU20.pt (deflated 7%)\n",
            "  adding: data/token_representations/UniRef50_A0A482XA58.pt (deflated 7%)\n",
            "  adding: data/token_representations/UniRef50_A0A388L5R0.pt (deflated 7%)\n",
            "  adding: data/token_representations/UniRef50_A0A812NIH4.pt (deflated 7%)\n",
            "  adding: data/token_representations/UniRef50_UPI001CD8EF92.pt (deflated 7%)\n",
            "  adding: data/token_representations/UniRef50_A0A8C3S940.pt (deflated 7%)\n",
            "  adding: data/token_representations/UniRef50_UPI00255CF1D1.pt (deflated 7%)\n",
            "  adding: data/token_representations/UniRef50_A0A1G1CBX7.pt (deflated 7%)\n",
            "  adding: data/token_representations/UniRef50_UPI001640C68C.pt (deflated 7%)\n",
            "  adding: data/token_representations/UniRef50_D0EZ85.pt (deflated 8%)\n",
            "  adding: data/token_representations/UniRef50_UPI0022506ADF.pt (deflated 7%)\n",
            "  adding: data/token_representations/UniRef50_A0A5A8CB30.pt (deflated 7%)\n",
            "  adding: data/token_representations/UniRef50_A0A7G9QS88.pt (deflated 7%)\n",
            "  adding: data/token_representations/UniRef50_A0A7X1ZC77.pt (deflated 7%)\n",
            "  adding: data/token_representations/UniRef50_A0A1Y1JDN1.pt (deflated 7%)\n",
            "  adding: data/token_representations/UniRef50_A0A8J5N2S7.pt (deflated 7%)\n",
            "  adding: data/token_representations/UniRef50_A0A6A4JB46.pt (deflated 7%)\n",
            "  adding: data/token_representations/UniRef50_UPI00257C5AB3.pt (deflated 7%)\n",
            "  adding: data/token_representations/UniRef50_A0A7X2ICC5.pt (deflated 7%)\n",
            "  adding: data/token_representations/UniRef50_A0A411CWB5.pt (deflated 7%)\n",
            "  adding: data/token_representations/UniRef50_A0A9F7RGJ1.pt (deflated 7%)\n",
            "  adding: data/token_representations/UniRef50_A0A517YHV1.pt (deflated 7%)\n",
            "  adding: data/token_representations/UniRef50_A0A915H9K1.pt (deflated 7%)\n",
            "  adding: data/token_representations/UniRef50_A0A6I8MC96.pt (deflated 7%)\n",
            "  adding: data/token_representations/UniRef50_A0A2C6KBG4.pt (deflated 7%)\n",
            "  adding: data/token_representations/UniRef50_A0A7Y6XGM2.pt (deflated 7%)\n",
            "  adding: data/token_representations/UniRef50_A0A952Q5T3.pt (deflated 7%)\n",
            "  adding: data/token_representations/UniRef50_UPI001FF437DA.pt (deflated 7%)\n",
            "  adding: data/token_representations/UniRef50_UPI001F5F2704.pt (deflated 7%)\n",
            "  adding: data/token_representations/UniRef50_A0A8J1Y0H7.pt (deflated 7%)\n",
            "  adding: data/token_representations/UniRef50_A0A818TAH6.pt (deflated 7%)\n",
            "  adding: data/token_representations/UniRef50_A0A0F7U8U3.pt (deflated 7%)\n",
            "  adding: data/token_representations/UniRef50_A0A7M7MVW4.pt (deflated 7%)\n",
            "  adding: data/token_representations/UniRef50_UPI0027D2B6E7.pt (deflated 7%)\n",
            "  adding: data/token_representations/UniRef50_A0A261G2W2.pt (deflated 7%)\n",
            "  adding: data/token_representations/UniRef50_A0A821CIF8.pt (deflated 7%)\n",
            "  adding: data/token_representations/UniRef50_A0A402A797.pt (deflated 7%)\n",
            "  adding: data/token_representations/UniRef50_A0A8J2EPW3.pt (deflated 7%)\n",
            "  adding: data/token_representations/UniRef50_UPI0022F3CB0A.pt (deflated 7%)\n",
            "  adding: data/token_representations/UniRef50_UPI001C67FCFC.pt (deflated 7%)\n",
            "  adding: data/token_representations/UniRef50_A0A1E5SLJ9.pt (deflated 7%)\n",
            "  adding: data/token_representations/UniRef50_A0A553NQQ2.pt (deflated 7%)\n",
            "  adding: data/token_representations/UniRef50_A0A2N8G8V0.pt (deflated 8%)\n",
            "  adding: data/token_representations/UniRef50_A0A2K8ZWS0.pt (deflated 7%)\n",
            "  adding: data/token_representations/UniRef50_UPI00224F89B7.pt (deflated 7%)\n",
            "  adding: data/token_representations/UniRef50_UPI002148BA23.pt (deflated 7%)\n",
            "  adding: data/token_representations/UniRef50_A0A8S1W1H2.pt (deflated 7%)\n",
            "  adding: data/token_representations/UniRef50_A0A0M9E6L3.pt (deflated 7%)\n",
            "  adding: data/token_representations/UniRef50_A0A0V0QZ87.pt (deflated 7%)\n",
            "  adding: data/token_representations/UniRef50_A0A3S0A5P0.pt (deflated 7%)\n",
            "  adding: data/token_representations/UniRef50_A0A6P7L0R1.pt (deflated 7%)\n",
            "  adding: data/token_representations/UniRef50_A0A8B7D8J8.pt (deflated 7%)\n",
            "  adding: data/token_representations/UniRef50_A0A7G5IJ03.pt (deflated 7%)\n",
            "  adding: data/token_representations/UniRef50_A0A0G4HDN7.pt (deflated 7%)\n",
            "  adding: data/token_representations/UniRef50_UPI0007425D13.pt (deflated 7%)\n",
            "  adding: data/token_representations/UniRef50_A0A2T3ZMC9.pt (deflated 7%)\n",
            "  adding: data/token_representations/UniRef50_A0A926Q182.pt (deflated 7%)\n",
            "  adding: data/token_representations/UniRef50_A0A914TGL8.pt (deflated 7%)\n",
            "  adding: data/token_representations/UniRef50_A0A9Q9MHT0.pt (deflated 7%)\n",
            "  adding: data/token_representations/UniRef50_A0A1I8FYT4.pt (deflated 7%)\n",
            "  adding: data/token_representations/UniRef50_UPI0002B6C073.pt (deflated 7%)\n",
            "  adding: data/token_representations/UniRef50_A0A1Q5GX34.pt (deflated 7%)\n",
            "  adding: data/token_representations/UniRef50_UPI00040B11A3.pt (deflated 7%)\n",
            "  adding: data/token_representations/UniRef50_A0A5B8MT46.pt (deflated 7%)\n",
            "  adding: data/token_representations/UniRef50_A0A8C2LB33.pt (deflated 7%)\n",
            "  adding: data/token_representations/UniRef50_A0A8J2AKF1.pt (deflated 7%)\n",
            "  adding: data/token_representations/UniRef50_A0A944XYT4.pt (deflated 7%)\n",
            "  adding: data/token_representations/UniRef50_C3YI86.pt (deflated 7%)\n",
            "  adding: data/token_representations/UniRef50_UPI000742AC48.pt (deflated 7%)\n",
            "  adding: data/token_representations/UniRef50_A0A961EBQ6.pt (deflated 7%)\n",
            "  adding: data/token_representations/UniRef50_A0A2A9MQA6.pt (deflated 7%)\n",
            "  adding: data/token_representations/UniRef50_A0A7M5X9E3.pt (deflated 7%)\n",
            "  adding: data/token_representations/UniRef50_UPI00224848F6.pt (deflated 7%)\n",
            "  adding: data/token_representations/UniRef50_A0A1H1R5C3.pt (deflated 7%)\n",
            "  adding: data/token_representations/UniRef50_A0A6I2SQY8.pt (deflated 7%)\n",
            "  adding: data/token_representations/UniRef50_A0A2S7QKS4.pt (deflated 7%)\n",
            "  adding: data/token_representations/UniRef50_A0A1R1PVP8.pt (deflated 7%)\n",
            "  adding: data/token_representations/UniRef50_A0A9C7F0P1.pt (deflated 7%)\n",
            "  adding: data/token_representations/UniRef50_UPI0023EE88BE.pt (deflated 7%)\n",
            "  adding: data/token_representations/UniRef50_A0A6P6RR25.pt (deflated 7%)\n",
            "  adding: data/token_representations/UniRef50_A0A397DDC8.pt (deflated 7%)\n",
            "  adding: data/token_representations/UniRef50_A0A158R584.pt (deflated 7%)\n",
            "  adding: data/token_representations/UniRef50_A0A933X5W1.pt (deflated 7%)\n",
            "  adding: data/token_representations/UniRef50_A0A1R3VMW9.pt (deflated 7%)\n",
            "  adding: data/token_representations/UniRef50_A0A7S0PRR7.pt (deflated 7%)\n",
            "  adding: data/token_representations/UniRef50_A0A3Q1LHE9.pt (deflated 7%)\n",
            "  adding: data/token_representations/UniRef50_A0A423PGU4.pt (deflated 7%)\n",
            "  adding: data/token_representations/UniRef50_A0A9P5AX01.pt (deflated 7%)\n",
            "  adding: data/token_representations/UniRef50_UPI000A4C7CA8.pt (deflated 7%)\n",
            "  adding: data/token_representations/UniRef50_A0A034UXN6.pt (deflated 7%)\n",
            "  adding: data/token_representations/UniRef50_UPI0023AF7AD5.pt (deflated 7%)\n",
            "  adding: data/token_representations/UniRef50_A0A7M7T0D4.pt (deflated 7%)\n",
            "  adding: data/token_representations/UniRef50_UPI00224D67B2.pt (deflated 7%)\n",
            "  adding: data/token_representations/UniRef50_A0A813WM85.pt (deflated 7%)\n",
            "  adding: data/token_representations/UniRef50_W7AYD2.pt (deflated 7%)\n",
            "  adding: data/token_representations/UniRef50_UPI000E4589EA.pt (deflated 7%)\n",
            "  adding: data/token_representations/UniRef50_A0A150G8N0.pt (deflated 7%)\n",
            "  adding: data/token_representations/UniRef50_A0A662WV02.pt (deflated 7%)\n",
            "  adding: data/token_representations/UniRef50_A0A812KD73.pt (deflated 7%)\n",
            "  adding: data/token_representations/UniRef50_A0A1Q9EN98.pt (deflated 7%)\n",
            "  adding: data/token_representations/UniRef50_A0A2C9M3U3.pt (deflated 7%)\n",
            "  adding: data/token_representations/UniRef50_A0A9Q1B8J5.pt (deflated 7%)\n",
            "  adding: data/token_representations/UniRef50_U6RLC5.pt (deflated 7%)\n",
            "  adding: data/token_representations/UniRef50_A0A858S1M9.pt (deflated 7%)\n",
            "  adding: data/token_representations/UniRef50_A0A674DZX6.pt (deflated 7%)\n",
            "  adding: data/token_representations/UniRef50_A0A0D0V5K3.pt (deflated 7%)\n",
            "  adding: data/token_representations/UniRef50_A0A1T2KXV5.pt (deflated 7%)\n",
            "  adding: data/token_representations/UniRef50_A0A9E3TWI9.pt (deflated 7%)\n",
            "  adding: data/token_representations/UniRef50_UPI0024AF4266.pt (deflated 7%)\n",
            "  adding: data/token_representations/UniRef50_UPI001421B650.pt (deflated 7%)\n",
            "  adding: data/token_representations/UniRef50_UPI0023F7A5B1.pt (deflated 7%)\n",
            "  adding: data/token_representations/UniRef50_UPI001EDD8BFA.pt (deflated 7%)\n",
            "  adding: data/token_representations/UniRef50_A0A9Q1E505.pt (deflated 7%)\n",
            "  adding: data/token_representations/UniRef50_UPI001CD4DC3E.pt (deflated 7%)\n",
            "  adding: data/token_representations/UniRef50_A0A0G4GK60.pt (deflated 7%)\n",
            "  adding: data/token_representations/UniRef50_G0PUC9.pt (deflated 7%)\n",
            "  adding: data/token_representations/UniRef50_A0A1X1FF47.pt (deflated 7%)\n",
            "  adding: data/token_representations/UniRef50_A0A1L9P7M2.pt (deflated 7%)\n",
            "  adding: data/token_representations/UniRef50_UPI001651F8A9.pt (deflated 7%)\n",
            "  adding: data/token_representations/UniRef50_J2W748.pt (deflated 8%)\n",
            "  adding: data/token_representations/UniRef50_A0A6P7FB25.pt (deflated 7%)\n",
            "  adding: data/token_representations/UniRef50_A0A931D7I7.pt (deflated 7%)\n",
            "  adding: data/token_representations/UniRef50_A0A9K3GFJ9.pt (deflated 7%)\n",
            "  adding: data/token_representations/UniRef50_A0A8K1GEA3.pt (deflated 7%)\n",
            "  adding: data/token_representations/UniRef50_UPI0020B79AFF.pt (deflated 7%)\n",
            "  adding: data/token_representations/UniRef50_U6M8N5.pt (deflated 7%)\n",
            "  adding: data/token_representations/UniRef50_A0A7M5UFE8.pt (deflated 7%)\n",
            "  adding: data/token_representations/UniRef50_UPI00174E004A.pt (deflated 7%)\n",
            "  adding: data/token_representations/UniRef50_UPI001F001209.pt (deflated 7%)\n",
            "  adding: data/token_representations/UniRef50_D8LP20.pt (deflated 7%)\n",
            "  adding: data/token_representations/UniRef50_G8NSW7.pt (deflated 7%)\n",
            "  adding: data/token_representations/UniRef50_E0ULS3.pt (deflated 7%)\n",
            "  adding: data/token_representations/UniRef50_A0A318XHB6.pt (deflated 7%)\n",
            "  adding: data/token_representations/UniRef50_A0A8J1JWX9.pt (deflated 7%)\n",
            "  adding: data/token_representations/UniRef50_A0A6H5JXK7.pt (deflated 7%)\n",
            "  adding: data/token_representations/UniRef50_UPI000E64FEDD.pt (deflated 7%)\n",
            "  adding: data/token_representations/UniRef50_A0A1Q2M7R8.pt (deflated 7%)\n",
            "  adding: data/token_representations/UniRef50_A0A821G977.pt (deflated 7%)\n",
            "  adding: data/token_representations/UniRef50_F4PXX1.pt (deflated 7%)\n",
            "  adding: data/token_representations/UniRef50_A0A3C1DBL5.pt (deflated 7%)\n",
            "  adding: data/token_representations/UniRef50_A0A812JU55.pt (deflated 7%)\n",
            "  adding: data/token_representations/UniRef50_UPI0007837492.pt (deflated 7%)\n",
            "  adding: data/token_representations/UniRef50_A0A3M6UUD8.pt (deflated 7%)\n",
            "  adding: data/token_representations/UniRef50_A0A0L0RZ62.pt (deflated 7%)\n",
            "  adding: data/token_representations/UniRef50_A0A356FBV1.pt (deflated 9%)\n",
            "  adding: data/token_representations/UniRef50_A0A1D2NDU0.pt (deflated 7%)\n",
            "  adding: data/token_representations/UniRef50_UPI0020C7E37F.pt (deflated 7%)\n",
            "  adding: data/token_representations/UniRef50_UPI0011EA2C2C.pt (deflated 7%)\n",
            "  adding: data/token_representations/UniRef50_A0A7J6KCF9.pt (deflated 7%)\n",
            "  adding: data/token_representations/UniRef50_A0A1J1IKL7.pt (deflated 7%)\n",
            "  adding: data/token_representations/UniRef50_A0A4W4GAC5.pt (deflated 7%)\n",
            "  adding: data/token_representations/UniRef50_A0A4U5VFU8.pt (deflated 7%)\n",
            "  adding: data/token_representations/UniRef50_A0A8S0ZPK5.pt (deflated 7%)\n",
            "  adding: data/token_representations/UniRef50_A0A101URN7.pt (deflated 7%)\n",
            "  adding: data/token_representations/UniRef50_A0A1Y1X3X5.pt (deflated 7%)\n",
            "  adding: data/token_representations/UniRef50_UPI001E3273FB.pt (deflated 7%)\n",
            "  adding: data/token_representations/UniRef50_UPI001662E29E.pt (deflated 7%)\n",
            "  adding: data/token_representations/UniRef50_A0A6P6JB26.pt (deflated 7%)\n",
            "  adding: data/token_representations/UniRef50_A0A4V0AXR1.pt (deflated 7%)\n",
            "  adding: data/token_representations/UniRef50_A0A2K9LG72.pt (deflated 7%)\n",
            "  adding: data/token_representations/UniRef50_UPI001B7E94D9.pt (deflated 7%)\n",
            "  adding: data/token_representations/UniRef50_A0A915AEV2.pt (deflated 7%)\n",
            "  adding: data/token_representations/UniRef50_A0A7W8YT85.pt (deflated 7%)\n",
            "  adding: data/token_representations/UniRef50_A0A3N1B2V9.pt (deflated 7%)\n",
            "  adding: data/token_representations/UniRef50_A0A3M5XAH1.pt (deflated 7%)\n",
            "  adding: data/token_representations/UniRef50_UPI001E677775.pt (deflated 7%)\n",
            "  adding: data/token_representations/UniRef50_A0A2R8CEP6.pt (deflated 7%)\n",
            "  adding: data/token_representations/UniRef50_A0A8W8P1K2.pt (deflated 7%)\n",
            "  adding: data/token_representations/UniRef50_A0A6S7G7I8.pt (deflated 7%)\n",
            "  adding: data/token_representations/UniRef50_D0I6A1.pt (deflated 7%)\n",
            "  adding: data/token_representations/UniRef50_A0A2M7GV99.pt (deflated 7%)\n",
            "  adding: data/token_representations/UniRef50_A0A1G4IL59.pt (deflated 7%)\n",
            "  adding: data/token_representations/UniRef50_K1XVL1.pt (deflated 7%)\n",
            "  adding: data/token_representations/UniRef50_A0A0Q9W192.pt (deflated 7%)\n",
            "  adding: data/token_representations/UniRef50_A0A0G4GB89.pt (deflated 7%)\n",
            "  adding: data/token_representations/UniRef50_A0A495JAG4.pt (deflated 7%)\n",
            "  adding: data/token_representations/UniRef50_A0A260BWD5.pt (deflated 7%)\n",
            "  adding: data/token_representations/UniRef50_A0A504YPA3.pt (deflated 7%)\n",
            "  adding: data/token_representations/UniRef50_UPI00201E8333.pt (deflated 7%)\n",
            "  adding: data/token_representations/UniRef50_A0A8D1CSL9.pt (deflated 7%)\n",
            "  adding: data/token_representations/UniRef50_A0A2C6L375.pt (deflated 7%)\n",
            "  adding: data/token_representations/UniRef50_A0A5A8CNM4.pt (deflated 7%)\n",
            "  adding: data/token_representations/UniRef50_A0A8J9ZI83.pt (deflated 7%)\n",
            "  adding: data/token_representations/UniRef50_A0A556TQP7.pt (deflated 7%)\n",
            "  adding: data/token_representations/UniRef50_A0A1L3KK54.pt (deflated 7%)\n",
            "  adding: data/token_representations/UniRef50_H8MN84.pt (deflated 7%)\n",
            "  adding: data/token_representations/UniRef50_UPI0024B5E72F.pt (deflated 7%)\n",
            "  adding: data/token_representations/UniRef50_A0A812KGH0.pt (deflated 7%)\n",
            "  adding: data/token_representations/UniRef50_L1JIF7.pt (deflated 7%)\n",
            "  adding: data/token_representations/UniRef50_A0A1B0FCE0.pt (deflated 7%)\n",
            "  adding: data/token_representations/UniRef50_A0A9F7QQS7.pt (deflated 7%)\n",
            "  adding: data/token_representations/UniRef50_A0A0C2D579.pt (deflated 7%)\n",
            "  adding: data/token_representations/UniRef50_UPI0021107CC7.pt (deflated 7%)\n",
            "  adding: data/token_representations/UniRef50_B4JEG8.pt (deflated 7%)\n",
            "  adding: data/token_representations/UniRef50_A0A9D2ELP4.pt (deflated 7%)\n",
            "  adding: data/token_representations/UniRef50_A0A4S2KG28.pt (deflated 7%)\n",
            "  adding: data/token_representations/UniRef50_A0A9E2R172.pt (deflated 7%)\n",
            "  adding: data/token_representations/UniRef50_UPI0022DF6B57.pt (deflated 7%)\n",
            "  adding: data/token_representations/UniRef50_A0A8S0YXW4.pt (deflated 7%)\n",
            "  adding: data/token_representations/UniRef50_A0A9P0E5V2.pt (deflated 7%)\n",
            "  adding: data/token_representations/UniRef50_A0A9D4RV71.pt (deflated 8%)\n",
            "  adding: data/token_representations/UniRef50_A0A7S6NZ26.pt (deflated 7%)\n",
            "  adding: data/token_representations/UniRef50_UPI0014455549.pt (deflated 7%)\n",
            "  adding: data/token_representations/UniRef50_A0A6A5QKW1.pt (deflated 7%)\n",
            "  adding: data/token_representations/UniRef50_A0A1P8MKB7.pt (deflated 7%)\n",
            "  adding: data/token_representations/UniRef50_A0A0H4WY16.pt (deflated 7%)\n",
            "  adding: data/token_representations/UniRef50_UPI001C2D1F7F.pt (deflated 7%)\n",
            "  adding: data/token_representations/UniRef50_A0A840IQY5.pt (deflated 7%)\n",
            "  adding: data/token_representations/UniRef50_A0A5A9NGC2.pt (deflated 7%)\n",
            "  adding: data/token_representations/UniRef50_UPI00224FBA0F.pt (deflated 7%)\n",
            "  adding: data/token_representations/UniRef50_A0A8R2B6S8.pt (deflated 7%)\n",
            "  adding: data/token_representations/UniRef50_UPI00211F17A3.pt (deflated 7%)\n",
            "  adding: data/token_representations/UniRef50_A0A7R9CMS2.pt (deflated 7%)\n",
            "  adding: data/token_representations/UniRef50_A0A6M0RPZ4.pt (deflated 7%)\n",
            "  adding: data/token_representations/UniRef50_UPI000C6E29A7.pt (deflated 7%)\n",
            "  adding: data/token_representations/UniRef50_Q0A9T7.pt (deflated 7%)\n",
            "  adding: data/token_representations/UniRef50_A0A435GTY6.pt (deflated 7%)\n",
            "  adding: data/token_representations/UniRef50_A0A834R5J2.pt (deflated 7%)\n",
            "  adding: data/token_representations/UniRef50_Q3ASY8.pt (deflated 7%)\n",
            "  adding: data/token_representations/UniRef50_A0A543HZ32.pt (deflated 7%)\n",
            "  adding: data/token_representations/UniRef50_K8FA16.pt (deflated 7%)\n",
            "  adding: data/token_representations/UniRef50_A0A6P6KRC2.pt (deflated 7%)\n",
            "  adding: data/token_representations/UniRef50_A0A554GRB5.pt (deflated 7%)\n",
            "  adding: data/token_representations/UniRef50_A0A1W4WRF6.pt (deflated 7%)\n",
            "  adding: data/token_representations/UniRef50_UPI001AADB6C0.pt (deflated 7%)\n",
            "  adding: data/token_representations/UniRef50_A0A0P0QKN0.pt (deflated 7%)\n",
            "  adding: data/token_representations/UniRef50_A0A836L9I1.pt (deflated 7%)\n",
            "  adding: data/token_representations/UniRef50_A0A812HZF3.pt (deflated 7%)\n",
            "  adding: data/token_representations/UniRef50_A0A371RL15.pt (deflated 7%)\n",
            "  adding: data/token_representations/UniRef50_A0A8B6HP62.pt (deflated 7%)\n",
            "  adding: data/token_representations/UniRef50_A0A250XN10.pt (deflated 7%)\n",
            "  adding: data/token_representations/UniRef50_C7PXR3.pt (deflated 7%)\n",
            "  adding: data/token_representations/UniRef50_A0A150Q5Z7.pt (deflated 8%)\n",
            "  adding: data/token_representations/UniRef50_A0A836K5I4.pt (deflated 7%)\n",
            "  adding: data/token_representations/UniRef50_A0A2T2Z7Y4.pt (deflated 7%)\n",
            "  adding: data/token_representations/UniRef50_A0A1B0D294.pt (deflated 7%)\n",
            "  adding: data/token_representations/UniRef50_UPI00138736C5.pt (deflated 7%)\n",
            "  adding: data/token_representations/UniRef50_A0A4P6UYV1.pt (deflated 7%)\n",
            "  adding: data/token_representations/UniRef50_UPI00200E2CB5.pt (deflated 7%)\n",
            "  adding: data/token_representations/UniRef50_A0A518GG20.pt (deflated 7%)\n",
            "  adding: data/token_representations/UniRef50_UPI00255A1693.pt (deflated 7%)\n",
            "  adding: data/token_representations/UniRef50_UPI001E672F5A.pt (deflated 7%)\n",
            "  adding: data/token_representations/UniRef50_T1ILZ8.pt (deflated 7%)\n",
            "  adding: data/token_representations/UniRef50_UPI001FD95F8A.pt (deflated 7%)\n",
            "  adding: data/token_representations/UniRef50_A0A853R045.pt (deflated 7%)\n",
            "  adding: data/token_representations/UniRef50_A0A292YYZ4.pt (deflated 7%)\n",
            "  adding: data/token_representations/UniRef50_Q24498.pt (deflated 7%)\n",
            "  adding: data/token_representations/UniRef50_UPI002738F254.pt (deflated 7%)\n",
            "  adding: data/token_representations/UniRef50_UPI001B8882AB.pt (deflated 7%)\n",
            "  adding: data/token_representations/UniRef50_A0A2P9CWD7.pt (deflated 7%)\n",
            "  adding: data/token_representations/UniRef50_UPI0015F84122.pt (deflated 7%)\n",
            "  adding: data/token_representations/UniRef50_A0A2E5VMS1.pt (deflated 7%)\n",
            "  adding: data/token_representations/UniRef50_A0A139WNC9.pt (deflated 7%)\n",
            "  adding: data/token_representations/UniRef50_UPI00210759E6.pt (deflated 7%)\n",
            "  adding: data/token_representations/UniRef50_A0A9J7XM75.pt (deflated 7%)\n",
            "  adding: data/token_representations/UniRef50_A0A5B9BJS2.pt (deflated 7%)\n",
            "  adding: data/token_representations/UniRef50_Q86UQ4.pt (deflated 7%)\n",
            "  adding: data/token_representations/UniRef50_A0A674DIM4.pt (deflated 7%)\n",
            "  adding: data/token_representations/UniRef50_A0A9P4KG59.pt (deflated 7%)\n",
            "  adding: data/token_representations/UniRef50_A0A315VHD1.pt (deflated 7%)\n",
            "  adding: data/token_representations/UniRef50_UPI001CF0F986.pt (deflated 7%)\n",
            "  adding: data/token_representations/UniRef50_A0A1Q9D860.pt (deflated 7%)\n",
            "  adding: data/token_representations/UniRef50_A0A6J1NSU9.pt (deflated 7%)\n",
            "  adding: data/token_representations/UniRef50_UPI0026E1102A.pt (deflated 7%)\n",
            "  adding: data/token_representations/UniRef50_T0QAI3.pt (deflated 7%)\n",
            "  adding: data/token_representations/UniRef50_A0A9W6BKP5.pt (deflated 7%)\n",
            "  adding: data/token_representations/UniRef50_A0A1V2Q4K6.pt (deflated 7%)\n",
            "  adding: data/token_representations/UniRef50_UPI001C89DAB2.pt (deflated 7%)\n",
            "  adding: data/token_representations/UniRef50_A0A8D6HH74.pt (deflated 7%)\n",
            "  adding: data/token_representations/UniRef50_A0A5C6PKI2.pt (deflated 7%)\n",
            "  adding: data/token_representations/UniRef50_W9DE72.pt (deflated 7%)\n",
            "  adding: data/token_representations/UniRef50_A0A921Z7I3.pt (deflated 7%)\n",
            "  adding: data/token_representations/UniRef50_A0A9D7SZ85.pt (deflated 7%)\n",
            "  adding: data/token_representations/UniRef50_A0A846URM0.pt (deflated 7%)\n",
            "  adding: data/token_representations/UniRef50_A0A7W7M803.pt (deflated 7%)\n",
            "  adding: data/token_representations/UniRef50_UPI0003691979.pt (deflated 7%)\n",
            "  adding: data/token_representations/UniRef50_UPI001FB25105.pt (deflated 7%)\n",
            "  adding: data/token_representations/UniRef50_A0A9J7DRN0.pt (deflated 7%)\n",
            "  adding: data/token_representations/UniRef50_A0A0H4I9Z1.pt (deflated 7%)\n",
            "  adding: data/token_representations/UniRef50_A0A5C7IR45.pt (deflated 7%)\n",
            "  adding: data/token_representations/UniRef50_A0A415EHJ2.pt (deflated 7%)\n",
            "  adding: data/token_representations/UniRef50_E1IG96.pt (deflated 7%)\n",
            "  adding: data/token_representations/UniRef50_A0A9D3NLI3.pt (deflated 7%)\n",
            "  adding: data/token_representations/UniRef50_UPI00186688D8.pt (deflated 7%)\n",
            "  adding: data/token_representations/UniRef50_A0A7R9FYW1.pt (deflated 7%)\n",
            "  adding: data/token_representations/UniRef50_UPI002405D0DB.pt (deflated 7%)\n",
            "  adding: data/token_representations/UniRef50_UPI0011F0AF04.pt (deflated 7%)\n",
            "  adding: data/token_representations/UniRef50_UPI000719DBB8.pt (deflated 7%)\n",
            "  adding: data/token_representations/UniRef50_A0A6A4SBE7.pt (deflated 7%)\n",
            "  adding: data/token_representations/UniRef50_UPI001EDDB84D.pt (deflated 7%)\n",
            "  adding: data/token_representations/UniRef50_Q9QXZ0-4.pt (deflated 7%)\n",
            "  adding: data/token_representations/UniRef50_UPI0021C3A0B4.pt (deflated 7%)\n",
            "  adding: data/token_representations/UniRef50_A0A9Q0MFK0.pt (deflated 7%)\n",
            "  adding: data/token_representations/UniRef50_UPI00249FA73E.pt (deflated 7%)\n",
            "  adding: data/token_representations/UniRef50_UPI00140F5D63.pt (deflated 7%)\n",
            "  adding: data/token_representations/UniRef50_A0A954YK20.pt (deflated 7%)\n",
            "  adding: data/token_representations/UniRef50_UPI001C3FF1E3.pt (deflated 7%)\n",
            "  adding: data/token_representations/UniRef50_A0A6L5QRC4.pt (deflated 7%)\n",
            "  adding: data/token_representations/UniRef50_UPI00174A83AE.pt (deflated 7%)\n",
            "  adding: data/token_representations/UniRef50_A0A8S4GIB7.pt (deflated 7%)\n",
            "  adding: data/token_representations/UniRef50_A0A9P0HK62.pt (deflated 7%)\n",
            "  adding: data/token_representations/UniRef50_A0A1X7A6D7.pt (deflated 7%)\n",
            "  adding: data/token_representations/UniRef50_UPI00083C6B95.pt (deflated 7%)\n",
            "  adding: data/token_representations/UniRef50_A0A9P0DU14.pt (deflated 7%)\n",
            "  adding: data/token_representations/UniRef50_A0A1L7N5F9.pt (deflated 7%)\n",
            "  adding: data/token_representations/UniRef50_A7S431.pt (deflated 7%)\n",
            "  adding: data/token_representations/UniRef50_A0A1Q5J474.pt (deflated 7%)\n",
            "  adding: data/token_representations/UniRef50_A0A1Y2QEP2.pt (deflated 7%)\n",
            "  adding: data/token_representations/UniRef50_A0A139W9B3.pt (deflated 7%)\n",
            "  adding: data/token_representations/UniRef50_UPI0020C4C9BD.pt (deflated 7%)\n",
            "  adding: data/token_representations/UniRef50_D3V2X9.pt (deflated 7%)\n",
            "  adding: data/token_representations/UniRef50_A0A356IYD9.pt (deflated 7%)\n",
            "  adding: data/token_representations/UniRef50_UPI00106B1D90.pt (deflated 7%)\n",
            "  adding: data/token_representations/UniRef50_A0A5C6E292.pt (deflated 7%)\n",
            "  adding: data/token_representations/UniRef50_Q740D1.pt (deflated 7%)\n",
            "  adding: data/token_representations/UniRef50_A0A238VAS5.pt (deflated 7%)\n",
            "  adding: data/token_representations/UniRef50_A0A5A8CI50.pt (deflated 7%)\n",
            "  adding: data/token_representations/UniRef50_UPI0013D8F4F4.pt (deflated 7%)\n",
            "  adding: data/token_representations/UniRef50_F0VDB1.pt (deflated 7%)\n",
            "  adding: data/token_representations/UniRef50_A0A9Q7CNQ1.pt (deflated 7%)\n",
            "  adding: data/token_representations/UniRef50_A0A4V0K7F2.pt (deflated 7%)\n",
            "  adding: data/token_representations/UniRef50_UPI0021015A24.pt (deflated 7%)\n",
            "  adding: data/token_representations/UniRef50_A0A699GFN4.pt (deflated 7%)\n",
            "  adding: data/token_representations/UniRef50_A0A699GFY8.pt (deflated 7%)\n",
            "  adding: data/token_representations/UniRef50_A0A7M7KXR7.pt (deflated 7%)\n",
            "  adding: data/token_representations/UniRef50_UPI0009B7DD2F.pt (deflated 7%)\n",
            "  adding: data/token_representations/UniRef50_A0A9E0TL96.pt (deflated 7%)\n",
            "  adding: data/token_representations/UniRef50_A0A1G9NDU9.pt (deflated 7%)\n",
            "  adding: data/token_representations/UniRef50_UPI001939AD5E.pt (deflated 7%)\n",
            "  adding: data/token_representations/UniRef50_A0A2A7UL86.pt (deflated 7%)\n",
            "  adding: data/token_representations/UniRef50_A0A5C5WSA3.pt (deflated 7%)\n",
            "  adding: data/token_representations/UniRef50_A0A8J4U9C7.pt (deflated 7%)\n",
            "  adding: data/token_representations/UniRef50_A0A6J4LYS9.pt (deflated 7%)\n",
            "  adding: data/token_representations/UniRef50_A0A6B7HGV7.pt (deflated 7%)\n",
            "  adding: data/token_representations/UniRef50_T2IUD8.pt (deflated 7%)\n",
            "  adding: data/token_representations/UniRef50_A0A2C9JQC9.pt (deflated 7%)\n",
            "  adding: data/token_representations/UniRef50_A0A3M2LDX8.pt (deflated 7%)\n",
            "  adding: data/token_representations/UniRef50_A0A369SJH1.pt (deflated 7%)\n",
            "  adding: data/token_representations/UniRef50_A0A8N4L651.pt (deflated 7%)\n",
            "  adding: data/token_representations/UniRef50_A0A2K8QW67.pt (deflated 7%)\n",
            "  adding: data/token_representations/UniRef50_UPI000EAB256D.pt (deflated 7%)\n",
            "  adding: data/token_representations/UniRef50_UPI001E5B6ED1.pt (deflated 7%)\n",
            "  adding: data/token_representations/UniRef50_UPI001574E99C.pt (deflated 7%)\n",
            "  adding: data/token_representations/UniRef50_UPI00210DD5E7.pt (deflated 7%)\n",
            "  adding: data/token_representations/UniRef50_A0A2C9GPU9.pt (deflated 7%)\n",
            "  adding: data/token_representations/UniRef50_UPI0016872705.pt (deflated 7%)\n",
            "  adding: data/token_representations/UniRef50_A0A484CAP2.pt (deflated 7%)\n",
            "  adding: data/token_representations/UniRef50_A0A354CVY8.pt (deflated 7%)\n",
            "  adding: data/token_representations/UniRef50_A0A3E1ERE8.pt (deflated 7%)\n",
            "  adding: data/token_representations/UniRef50_A0A0K0F0F6.pt (deflated 7%)\n",
            "  adding: data/token_representations/UniRef50_D0LUN1.pt (deflated 7%)\n",
            "  adding: data/token_representations/UniRef50_A0A836G4M2.pt (deflated 7%)\n",
            "  adding: data/token_representations/UniRef50_UPI0021CC41CF.pt (deflated 7%)\n",
            "  adding: data/token_representations/UniRef50_A0A8B7D8M2.pt (deflated 7%)\n",
            "  adding: data/token_representations/UniRef50_A0A9N8WID6.pt (deflated 7%)\n",
            "  adding: data/token_representations/UniRef50_A0A0N0P5C1.pt (deflated 7%)\n",
            "  adding: data/token_representations/UniRef50_A0A643C165.pt (deflated 7%)\n",
            "  adding: data/token_representations/UniRef50_UPI0014554649.pt (deflated 7%)\n",
            "  adding: data/token_representations/UniRef50_A0A388THE5.pt (deflated 7%)\n",
            "  adding: data/token_representations/UniRef50_U6LUS7.pt (deflated 7%)\n",
            "  adding: data/token_representations/UniRef50_A0A8J2SNV9.pt (deflated 7%)\n",
            "  adding: data/token_representations/UniRef50_A0A5B2X293.pt (deflated 7%)\n",
            "  adding: data/token_representations/UniRef50_A0A8I0RWS3.pt (deflated 8%)\n",
            "  adding: data/token_representations/UniRef50_F0VM91.pt (deflated 7%)\n",
            "  adding: data/token_representations/UniRef50_A1WHL7.pt (deflated 7%)\n",
            "  adding: data/token_representations/UniRef50_A3ZX37.pt (deflated 7%)\n",
            "  adding: data/token_representations/UniRef50_A0A2J8PRH4.pt (deflated 7%)\n",
            "  adding: data/token_representations/UniRef50_A0A654LWE6.pt (deflated 7%)\n",
            "  adding: data/token_representations/UniRef50_A0A2A4J4E1.pt (deflated 7%)\n",
            "  adding: data/token_representations/UniRef50_Q4Q3M9.pt (deflated 7%)\n",
            "  adding: data/token_representations/UniRef50_UPI0013D3F6FB.pt (deflated 7%)\n",
            "  adding: data/token_representations/UniRef50_UPI0023F7686E.pt (deflated 7%)\n",
            "  adding: data/token_representations/UniRef50_A0A2N3VGE0.pt (deflated 7%)\n",
            "  adding: data/token_representations/UniRef50_UPI0023D997EF.pt (deflated 7%)\n",
            "  adding: data/token_representations/UniRef50_E3ITY8.pt (deflated 7%)\n",
            "  adding: data/token_representations/UniRef50_A0A6P8IUF8.pt (deflated 7%)\n",
            "  adding: data/token_representations/UniRef50_A0A3B0C0Z1.pt (deflated 7%)\n",
            "  adding: data/token_representations/UniRef50_A0A2S6P074.pt (deflated 7%)\n",
            "  adding: data/token_representations/UniRef50_A0A482J263.pt (deflated 7%)\n",
            "  adding: data/token_representations/UniRef50_A0A914ZMZ4.pt (deflated 7%)\n",
            "  adding: data/token_representations/UniRef50_A0A024G564.pt (deflated 7%)\n",
            "  adding: data/token_representations/UniRef50_Q8IM09.pt (deflated 7%)\n",
            "  adding: data/token_representations/UniRef50_A0A8J9VGK0.pt (deflated 7%)\n",
            "  adding: data/token_representations/UniRef50_A0A0Q9W9U1.pt (deflated 7%)\n",
            "  adding: data/token_representations/UniRef50_A0A1S2QR99.pt (deflated 7%)\n",
            "  adding: data/token_representations/UniRef50_UPI002714D108.pt (deflated 7%)\n",
            "  adding: data/token_representations/UniRef50_A0A9D5DG89.pt (deflated 7%)\n",
            "  adding: data/token_representations/UniRef50_A0A2E2ZB31.pt (deflated 7%)\n",
            "  adding: data/token_representations/UniRef50_A0A6V7J2Y6.pt (deflated 8%)\n",
            "  adding: data/token_representations/UniRef50_A0A9D7SV04.pt (deflated 7%)\n",
            "  adding: data/token_representations/UniRef50_A0A154MUN3.pt (deflated 7%)\n",
            "  adding: data/token_representations/UniRef50_A0A6P6DU23.pt (deflated 7%)\n",
            "  adding: data/token_representations/UniRef50_UPI0021C3BE9D.pt (deflated 7%)\n",
            "  adding: data/token_representations/UniRef50_UPI0005628C6C.pt (deflated 7%)\n",
            "  adding: data/token_representations/UniRef50_A0A928DJN2.pt (deflated 7%)\n",
            "  adding: data/token_representations/UniRef50_A0A9E3N1D7.pt (deflated 7%)\n",
            "  adding: data/token_representations/UniRef50_A0A4P2R1L2.pt (deflated 7%)\n",
            "  adding: data/token_representations/UniRef50_A0A6A4G474.pt (deflated 7%)\n",
            "  adding: data/token_representations/UniRef50_UPI00034C551D.pt (deflated 7%)\n",
            "  adding: data/token_representations/UniRef50_A0A7K1UX76.pt (deflated 7%)\n",
            "  adding: data/token_representations/UniRef50_UPI001CD919EA.pt (deflated 7%)\n",
            "  adding: data/token_representations/UniRef50_A0A8D2I418.pt (deflated 7%)\n",
            "  adding: data/token_representations/UniRef50_A0A814IQ99.pt (deflated 7%)\n",
            "  adding: data/token_representations/UniRef50_A8BFS2.pt (deflated 7%)\n",
            "  adding: data/token_representations/UniRef50_A0A8J1M3Z2.pt (deflated 7%)\n",
            "  adding: data/token_representations/UniRef50_A0A377QXR3.pt (deflated 7%)\n",
            "  adding: data/token_representations/UniRef50_UPI0025B01DE8.pt (deflated 7%)\n",
            "  adding: data/token_representations/UniRef50_A0A0C9Z3B5.pt (deflated 7%)\n",
            "  adding: data/token_representations/UniRef50_UPI0011F260AD.pt (deflated 7%)\n",
            "  adding: data/token_representations/UniRef50_A0A7Z0HX00.pt (deflated 7%)\n",
            "  adding: data/token_representations/UniRef50_A0A6J1PS65.pt (deflated 7%)\n",
            "  adding: data/token_representations/UniRef50_A0A8X6LUG0.pt (deflated 7%)\n",
            "  adding: data/token_representations/UniRef50_A0A8J2X0P9.pt (deflated 7%)\n",
            "  adding: data/token_representations/UniRef50_A0A9D6K2N9.pt (deflated 7%)\n",
            "  adding: data/token_representations/UniRef50_A0A232F6W3.pt (deflated 7%)\n",
            "  adding: data/token_representations/UniRef50_A0A399I2M0.pt (deflated 7%)\n",
            "  adding: data/token_representations/UniRef50_A0A554V9M3.pt (deflated 7%)\n",
            "  adding: data/token_representations/UniRef50_A0A8C5V2X9.pt (deflated 7%)\n",
            "  adding: data/token_representations/UniRef50_A0A202DNC7.pt (deflated 7%)\n",
            "  adding: data/token_representations/UniRef50_A0A2D5Z3V5.pt (deflated 7%)\n",
            "  adding: data/token_representations/UniRef50_A0A7W7RBP9.pt (deflated 7%)\n",
            "  adding: data/token_representations/UniRef50_A0A9W6VFT4.pt (deflated 7%)\n",
            "  adding: data/token_representations/UniRef50_A0A8H4W6S9.pt (deflated 7%)\n",
            "  adding: data/token_representations/UniRef50_A0A8J6BAH3.pt (deflated 7%)\n",
            "  adding: data/token_representations/UniRef50_UPI0018CC054D.pt (deflated 7%)\n",
            "  adding: data/token_representations/UniRef50_A0A1E4IT75.pt (deflated 7%)\n",
            "  adding: data/token_representations/UniRef50_A0A060ZLB1.pt (deflated 7%)\n",
            "  adding: data/token_representations/UniRef50_B1H622.pt (deflated 7%)\n",
            "  adding: data/token_representations/UniRef50_A0A699GFD6.pt (deflated 7%)\n",
            "  adding: data/token_representations/UniRef50_A0A8B6XNE6.pt (deflated 7%)\n",
            "  adding: data/token_representations/UniRef50_A0A9Q4WG76.pt (deflated 7%)\n",
            "  adding: data/token_representations/UniRef50_A0A937BCD7.pt (deflated 7%)\n",
            "  adding: data/token_representations/UniRef50_UPI0018ED1D07.pt (deflated 7%)\n",
            "  adding: data/token_representations/UniRef50_A0A7X8P6T8.pt (deflated 7%)\n",
            "  adding: data/token_representations/UniRef50_UPI00235A82AD.pt (deflated 7%)\n",
            "  adding: data/token_representations/UniRef50_A0A5J4NR71.pt (deflated 7%)\n",
            "  adding: data/token_representations/UniRef50_A0A9E2Q7W6.pt (deflated 7%)\n",
            "  adding: data/token_representations/UniRef50_A0A9I3GIQ5.pt (deflated 7%)\n",
            "  adding: data/token_representations/UniRef50_A0A2J6SLU5.pt (deflated 7%)\n",
            "  adding: data/token_representations/UniRef50_A0A4Q7YMD5.pt (deflated 7%)\n",
            "  adding: data/token_representations/UniRef50_A0A1M3LY88.pt (deflated 7%)\n",
            "  adding: data/token_representations/UniRef50_A0A221W4E6.pt (deflated 7%)\n",
            "  adding: data/token_representations/UniRef50_U6G7H8.pt (deflated 7%)\n",
            "  adding: data/token_representations/UniRef50_UPI0026F3E0C5.pt (deflated 7%)\n",
            "  adding: data/token_representations/UniRef50_A0A9N9ZE80.pt (deflated 7%)\n",
            "  adding: data/token_representations/UniRef50_J9HYM5.pt (deflated 7%)\n",
            "  adding: data/token_representations/UniRef50_B5ZBY1.pt (deflated 7%)\n",
            "  adding: data/token_representations/UniRef50_A0A3P6UF24.pt (deflated 7%)\n",
            "  adding: data/token_representations/UniRef50_A0A1A0J419.pt (deflated 7%)\n",
            "  adding: data/token_representations/UniRef50_A0A1R1XPG6.pt (deflated 7%)\n",
            "  adding: data/token_representations/UniRef50_UPI0003F08059.pt (deflated 7%)\n",
            "  adding: data/token_representations/UniRef50_A0A1R1SEP9.pt (deflated 7%)\n",
            "  adding: data/token_representations/UniRef50_A0A8H6NC29.pt (deflated 7%)\n",
            "  adding: data/token_representations/UniRef50_A0A4R4PWC2.pt (deflated 7%)\n",
            "  adding: data/token_representations/UniRef50_M9MRJ4.pt (deflated 7%)\n",
            "  adding: data/token_representations/UniRef50_A0A2D6LPX4.pt (deflated 7%)\n",
            "  adding: data/token_representations/UniRef50_A0A0B2VT50.pt (deflated 7%)\n",
            "  adding: data/token_representations/UniRef50_UPI0012D47609.pt (deflated 7%)\n",
            "  adding: data/token_representations/UniRef50_A0A1E4ZIJ4.pt (deflated 7%)\n",
            "  adding: data/token_representations/UniRef50_A0A0K3BQV0.pt (deflated 7%)\n",
            "  adding: data/token_representations/UniRef50_UPI0018939859.pt (deflated 7%)\n",
            "  adding: data/token_representations/UniRef50_A0A8H4KYU7.pt (deflated 7%)\n",
            "  adding: data/token_representations/UniRef50_UPI0013C4B27F.pt (deflated 7%)\n",
            "  adding: data/token_representations/UniRef50_B4K645.pt (deflated 7%)\n",
            "  adding: data/token_representations/UniRef50_UPI002603EFA4.pt (deflated 7%)\n",
            "  adding: data/token_representations/UniRef50_A0A171EBL6.pt (deflated 7%)\n",
            "  adding: data/token_representations/UniRef50_A0A178U5S5.pt (deflated 7%)\n",
            "  adding: data/token_representations/UniRef50_D7FLK0.pt (deflated 7%)\n",
            "  adding: data/token_representations/UniRef50_A0A5C0UBE7.pt (deflated 7%)\n",
            "  adding: data/token_representations/UniRef50_A0A918XN60.pt (deflated 7%)\n",
            "  adding: data/token_representations/UniRef50_A0A3Q0H708.pt (deflated 7%)\n",
            "  adding: data/token_representations/UniRef50_UPI001B3307AC.pt (deflated 7%)\n",
            "  adding: data/token_representations/UniRef50_A0A812KB83.pt (deflated 7%)\n",
            "  adding: data/token_representations/UniRef50_V4BCY8.pt (deflated 7%)\n",
            "  adding: data/token_representations/UniRef50_UPI00201C7076.pt (deflated 7%)\n",
            "  adding: data/token_representations/UniRef50_UPI00223C9244.pt (deflated 7%)\n",
            "  adding: data/token_representations/UniRef50_A0A1V2TG13.pt (deflated 7%)\n",
            "  adding: data/token_representations/UniRef50_A0A7Y4NF59.pt (deflated 7%)\n",
            "  adding: data/token_representations/UniRef50_UPI001CF487A6.pt (deflated 7%)\n",
            "  adding: data/token_representations/UniRef50_F0WD32.pt (deflated 7%)\n",
            "  adding: data/token_representations/UniRef50_A0A2S5KJB4.pt (deflated 8%)\n",
            "  adding: data/token_representations/UniRef50_D9SQI9.pt (deflated 7%)\n",
            "  adding: data/token_representations/UniRef50_A0A9X3TV99.pt (deflated 7%)\n",
            "  adding: data/token_representations/UniRef50_UPI001F041BDF.pt (deflated 7%)\n",
            "  adding: data/token_representations/UniRef50_A0A812PF27.pt (deflated 7%)\n",
            "  adding: data/token_representations/UniRef50_A0A6G0UYA0.pt (deflated 7%)\n",
            "  adding: data/token_representations/UniRef50_UPI00214F977F.pt (deflated 7%)\n",
            "  adding: data/token_representations/UniRef50_A0A6B9ZQM4.pt (deflated 7%)\n",
            "  adding: data/token_representations/UniRef50_UPI0026F3E1F2.pt (deflated 7%)\n",
            "  adding: data/token_representations/UniRef50_A0A8T1ZXB2.pt (deflated 7%)\n",
            "  adding: data/token_representations/UniRef50_A0A6A7XY82.pt (deflated 7%)\n",
            "  adding: data/token_representations/UniRef50_F6DA74.pt (deflated 7%)\n",
            "  adding: data/token_representations/UniRef50_UPI0010A59695.pt (deflated 7%)\n",
            "  adding: data/token_representations/UniRef50_A0A850KJX2.pt (deflated 7%)\n",
            "  adding: data/token_representations/UniRef50_A0A4V2EM63.pt (deflated 7%)\n",
            "  adding: data/token_representations/UniRef50_UPI000D626AE0.pt (deflated 7%)\n",
            "  adding: data/token_representations/UniRef50_UPI00224830AB.pt (deflated 7%)\n",
            "  adding: data/token_representations/UniRef50_A0A2H1YGJ2.pt (deflated 7%)\n",
            "  adding: data/token_representations/UniRef50_UPI001FD8E9BA.pt (deflated 7%)\n",
            "  adding: data/token_representations/UniRef50_A0A9P1BQM3.pt (deflated 7%)\n",
            "  adding: data/token_representations/UniRef50_A0A1Z2SBU2.pt (deflated 7%)\n",
            "  adding: data/token_representations/UniRef50_UPI0014026512.pt (deflated 7%)\n",
            "  adding: data/token_representations/UniRef50_A0A4S2KIM8.pt (deflated 7%)\n",
            "  adding: data/token_representations/UniRef50_Q8TCU4.pt (deflated 7%)\n",
            "  adding: data/token_representations/UniRef50_A0A6L2N3T7.pt (deflated 7%)\n",
            "  adding: data/token_representations/UniRef50_A0A3E1EH52.pt (deflated 7%)\n",
            "  adding: data/token_representations/UniRef50_A0A965FFZ2.pt (deflated 7%)\n",
            "  adding: data/token_representations/UniRef50_A0A8B8YCY7.pt (deflated 7%)\n",
            "  adding: data/token_representations/UniRef50_A0A7V9VXL4.pt (deflated 7%)\n",
            "  adding: data/token_representations/UniRef50_A0A4Y8ZQ30.pt (deflated 7%)\n",
            "  adding: data/token_representations/UniRef50_UPI00241CD178.pt (deflated 7%)\n",
            "  adding: data/token_representations/UniRef50_A0A9W7DX25.pt (deflated 7%)\n",
            "  adding: data/token_representations/UniRef50_C3YA59.pt (deflated 7%)\n",
            "  adding: data/token_representations/UniRef50_A0A0V0RWN2.pt (deflated 7%)\n",
            "  adding: data/token_representations/UniRef50_A0A922MNX0.pt (deflated 7%)\n",
            "  adding: data/token_representations/UniRef50_A0A2Z5E8F7.pt (deflated 7%)\n",
            "  adding: data/token_representations/UniRef50_A0A5B1CSR4.pt (deflated 7%)\n",
            "  adding: data/token_representations/UniRef50_A0A183AIJ7.pt (deflated 7%)\n",
            "  adding: data/token_representations/UniRef50_A0A3N0AV11.pt (deflated 7%)\n",
            "  adding: data/token_representations/UniRef50_A0A1Q9EL36.pt (deflated 7%)\n",
            "  adding: data/token_representations/UniRef50_UPI000C765EC6.pt (deflated 7%)\n",
            "  adding: data/token_representations/UniRef50_A0A7T4YHX5.pt (deflated 7%)\n",
            "  adding: data/token_representations/UniRef50_A0A7W7S7F7.pt (deflated 7%)\n",
            "  adding: data/token_representations/UniRef50_A0A2I0I2S1.pt (deflated 7%)\n",
            "  adding: data/token_representations/UniRef50_A0A7X7J6P6.pt (deflated 7%)\n",
            "  adding: data/token_representations/UniRef50_A0A8K1G7V9.pt (deflated 7%)\n",
            "  adding: data/token_representations/UniRef50_A0A561ST16.pt (deflated 7%)\n",
            "  adding: data/token_representations/UniRef50_UPI002553BF4C.pt (deflated 7%)\n",
            "  adding: data/token_representations/UniRef50_A0A2D2DH59.pt (deflated 7%)\n",
            "  adding: data/token_representations/UniRef50_UPI0018654C58.pt (deflated 7%)\n",
            "  adding: data/token_representations/UniRef50_A0A5D6Y292.pt (deflated 7%)\n",
            "  adding: data/token_representations/UniRef50_A0A8C6P3U0.pt (deflated 7%)\n",
            "  adding: data/token_representations/UniRef50_A0A0J9RCC8.pt (deflated 7%)\n",
            "  adding: data/token_representations/UniRef50_A0A8C0EE14.pt (deflated 7%)\n",
            "  adding: data/token_representations/UniRef50_A0A2N3TBD8.pt (deflated 7%)\n",
            "  adding: data/token_representations/UniRef50_A0A848KZI8.pt (deflated 7%)\n",
            "  adding: data/token_representations/UniRef50_A0A8T9CH20.pt (deflated 7%)\n",
            "  adding: data/token_representations/UniRef50_A0A9P1GD96.pt (deflated 7%)\n",
            "  adding: data/token_representations/UniRef50_A0A9P0CBD2.pt (deflated 7%)\n",
            "  adding: data/token_representations/UniRef50_UPI001CECB3EC.pt (deflated 7%)\n",
            "  adding: data/token_representations/UniRef50_UPI001E58041A.pt (deflated 7%)\n",
            "  adding: data/token_representations/UniRef50_UPI0018D78106.pt (deflated 7%)\n",
            "  adding: data/token_representations/UniRef50_A0A6G1QWY1.pt (deflated 7%)\n",
            "  adding: data/token_representations/UniRef50_A0A8J6H5I9.pt (deflated 7%)\n",
            "  adding: data/token_representations/UniRef50_A0A2G9PAZ7.pt (deflated 7%)\n",
            "  adding: data/token_representations/UniRef50_UPI0019445EAB.pt (deflated 7%)\n",
            "  adding: data/token_representations/UniRef50_A0A2E0ZAV3.pt (deflated 7%)\n",
            "  adding: data/token_representations/UniRef50_A0A7K0DHV3.pt (deflated 7%)\n",
            "  adding: data/token_representations/UniRef50_A0A913XZ57.pt (deflated 7%)\n",
            "  adding: data/token_representations/UniRef50_UPI0022E57463.pt (deflated 7%)\n",
            "  adding: data/token_representations/UniRef50_A0A5R8PFN2.pt (deflated 7%)\n",
            "  adding: data/token_representations/UniRef50_UPI0018CEFB83.pt (deflated 7%)\n",
            "  adding: data/token_representations/UniRef50_A0A250X7P7.pt (deflated 7%)\n",
            "  adding: data/token_representations/UniRef50_A0A0C5E589.pt (deflated 7%)\n",
            "  adding: data/token_representations/UniRef50_UPI000DA6044C.pt (deflated 7%)\n",
            "  adding: data/token_representations/UniRef50_A0A5J4X7K2.pt (deflated 7%)\n",
            "  adding: data/token_representations/UniRef50_S4XU45.pt (deflated 7%)\n",
            "  adding: data/token_representations/UniRef50_A0A8I1MAM4.pt (deflated 7%)\n",
            "  adding: data/token_representations/UniRef50_A0A2P9B926.pt (deflated 7%)\n",
            "  adding: data/token_representations/UniRef50_UPI000D737554.pt (deflated 7%)\n",
            "  adding: data/token_representations/UniRef50_A0A2D5MV53.pt (deflated 7%)\n",
            "  adding: data/token_representations/UniRef50_UPI001E2787F7.pt (deflated 7%)\n",
            "  adding: data/token_representations/UniRef50_A0A1A0FHZ3.pt (deflated 7%)\n",
            "  adding: data/token_representations/UniRef50_UPI0024913E94.pt (deflated 7%)\n",
            "  adding: data/token_representations/UniRef50_A0A947KBG7.pt (deflated 7%)\n",
            "  adding: data/token_representations/UniRef50_UPI001FEEB81F.pt (deflated 7%)\n",
            "  adding: data/token_representations/UniRef50_U6KVG5.pt (deflated 7%)\n",
            "  adding: data/token_representations/UniRef50_A0A6G3TPG4.pt (deflated 7%)\n",
            "  adding: data/token_representations/UniRef50_UPI0022E36A83.pt (deflated 7%)\n",
            "  adding: data/token_representations/UniRef50_A0A1S3R3G5.pt (deflated 7%)\n",
            "  adding: data/token_representations/UniRef50_A0A1D3JJE7.pt (deflated 7%)\n",
            "  adding: data/token_representations/UniRef50_A0A4R4ZSC2.pt (deflated 7%)\n",
            "  adding: data/token_representations/UniRef50_A0A8J7SJ31.pt (deflated 7%)\n",
            "  adding: data/token_representations/UniRef50_A0A8J1KRU4.pt (deflated 7%)\n",
            "  adding: data/token_representations/UniRef50_A0A3M0J790.pt (deflated 7%)\n",
            "  adding: data/token_representations/UniRef50_A0A076PN34.pt (deflated 7%)\n",
            "  adding: data/token_representations/UniRef50_A0A2N8NTL0.pt (deflated 7%)\n",
            "  adding: data/token_representations/UniRef50_A0A914V448.pt (deflated 7%)\n",
            "  adding: data/token_representations/UniRef50_UPI000B8E85E6.pt (deflated 7%)\n",
            "  adding: data/token_representations/UniRef50_H9BR16.pt (deflated 7%)\n",
            "  adding: data/token_representations/UniRef50_A0A834EVS5.pt (deflated 7%)\n",
            "  adding: data/token_representations/UniRef50_A0A2P9CQ28.pt (deflated 7%)\n",
            "  adding: data/token_representations/UniRef50_UPI0024549D67.pt (deflated 7%)\n",
            "  adding: data/token_representations/UniRef50_D0LQW3.pt (deflated 7%)\n",
            "  adding: data/token_representations/UniRef50_A0A0L7QM43.pt (deflated 7%)\n",
            "  adding: data/token_representations/UniRef50_UPI001D0ECDF2.pt (deflated 7%)\n",
            "  adding: data/token_representations/UniRef50_I2NDW3.pt (deflated 7%)\n",
            "  adding: data/token_representations/UniRef50_UPI000CD61A12.pt (deflated 7%)\n",
            "  adding: data/token_representations/UniRef50_A4U1Q4.pt (deflated 7%)\n",
            "  adding: data/token_representations/UniRef50_A0A193BV96.pt (deflated 7%)\n",
            "  adding: data/token_representations/UniRef50_R9T5G7.pt (deflated 7%)\n",
            "  adding: data/token_representations/UniRef50_A0A3A8LHQ6.pt (deflated 7%)\n",
            "  adding: data/token_representations/UniRef50_A0A1V0PYE1.pt (deflated 7%)\n",
            "  adding: data/token_representations/UniRef50_A0A6I8MD36.pt (deflated 7%)\n",
            "  adding: data/token_representations/UniRef50_UPI001ED89D81.pt (deflated 7%)\n",
            "  adding: data/token_representations/UniRef50_A0A5B9PIH8.pt (deflated 7%)\n",
            "  adding: data/token_representations/UniRef50_A0A3M6UUK7.pt (deflated 7%)\n",
            "  adding: data/token_representations/UniRef50_A0A067RMA5.pt (deflated 7%)\n",
            "  adding: data/token_representations/UniRef50_A0A1W6L7Z8.pt (deflated 7%)\n",
            "  adding: data/token_representations/UniRef50_A0A8B9TPL7.pt (deflated 7%)\n",
            "  adding: data/token_representations/UniRef50_UPI002015361C.pt (deflated 7%)\n",
            "  adding: data/token_representations/UniRef50_A0A2V8LCB9.pt (deflated 7%)\n",
            "  adding: data/token_representations/UniRef50_A0A9P1G820.pt (deflated 7%)\n",
            "  adding: data/token_representations/UniRef50_A0A813HGM3.pt (deflated 7%)\n",
            "  adding: data/token_representations/UniRef50_K0E4D7.pt (deflated 7%)\n",
            "  adding: data/token_representations/UniRef50_UPI002147B1C2.pt (deflated 7%)\n",
            "  adding: data/token_representations/UniRef50_A0A291T1A5.pt (deflated 7%)\n",
            "  adding: data/token_representations/UniRef50_Q05TW6.pt (deflated 7%)\n",
            "  adding: data/token_representations/UniRef50_UPI0019CFC58A.pt (deflated 7%)\n",
            "  adding: data/token_representations/UniRef50_A0A1Y2DGE5.pt (deflated 7%)\n",
            "  adding: data/token_representations/UniRef50_A0A3A3D6B0.pt (deflated 7%)\n",
            "  adding: data/token_representations/UniRef50_A0A7W3QYT1.pt (deflated 7%)\n",
            "  adding: data/token_representations/UniRef50_A0A2C6L1H9.pt (deflated 7%)\n",
            "  adding: data/token_representations/UniRef50_Q23TU2.pt (deflated 7%)\n",
            "  adding: data/token_representations/UniRef50_A0A8S4N437.pt (deflated 7%)\n",
            "  adding: data/token_representations/UniRef50_A0A229RP76.pt (deflated 7%)\n",
            "  adding: data/token_representations/UniRef50_A0A9P7X5K5.pt (deflated 7%)\n",
            "  adding: data/token_representations/UniRef50_A0A1T0AZ81.pt (deflated 7%)\n",
            "  adding: data/token_representations/UniRef50_F6EJA3.pt (deflated 7%)\n",
            "  adding: data/token_representations/UniRef50_UPI0010AA60EA.pt (deflated 7%)\n",
            "  adding: data/token_representations/UniRef50_UPI0027B99CE5.pt (deflated 7%)\n",
            "  adding: data/token_representations/UniRef50_A0A8J7WJU3.pt (deflated 7%)\n",
            "  adding: data/token_representations/UniRef50_UPI001E616240.pt (deflated 7%)\n",
            "  adding: data/token_representations/UniRef50_A0A3A1Y3S2.pt (deflated 7%)\n",
            "  adding: data/token_representations/UniRef50_A0A6N4XSJ7.pt (deflated 7%)\n",
            "  adding: data/token_representations/UniRef50_A0A5M8FJ25.pt (deflated 7%)\n",
            "  adding: data/token_representations/UniRef50_Q2IZL4.pt (deflated 7%)\n",
            "  adding: data/token_representations/UniRef50_UPI0020A147D3.pt (deflated 7%)\n",
            "  adding: data/token_representations/UniRef50_UPI0020A5CDDF.pt (deflated 7%)\n",
            "  adding: data/token_representations/UniRef50_A0A226EJ42.pt (deflated 7%)\n",
            "  adding: data/token_representations/UniRef50_A0A250G569.pt (deflated 7%)\n",
            "  adding: data/token_representations/UniRef50_UPI00055D7E86.pt (deflated 7%)\n",
            "  adding: data/token_representations/UniRef50_A0A0R1FZJ7.pt (deflated 7%)\n",
            "  adding: data/token_representations/UniRef50_A0A949EJ50.pt (deflated 7%)\n",
            "  adding: data/token_representations/UniRef50_A0A127ES94.pt (deflated 7%)\n",
            "  adding: data/token_representations/UniRef50_UPI0018680BF5.pt (deflated 7%)\n",
            "  adding: data/token_representations/UniRef50_U3J3N3.pt (deflated 7%)\n",
            "  adding: data/token_representations/UniRef50_A0A931SG69.pt (deflated 7%)\n",
            "  adding: data/token_representations/UniRef50_A0A842W8R6.pt (deflated 7%)\n",
            "  adding: data/token_representations/UniRef50_A0A3A4R605.pt (deflated 7%)\n",
            "  adding: data/token_representations/UniRef50_A0A9W7L7U1.pt (deflated 7%)\n",
            "  adding: data/token_representations/UniRef50_A0A495W429.pt (deflated 7%)\n",
            "  adding: data/token_representations/UniRef50_A0A8T2HVZ7.pt (deflated 7%)\n",
            "  adding: data/token_representations/UniRef50_A0A554K549.pt (deflated 7%)\n",
            "  adding: data/token_representations/UniRef50_R4LEH4.pt (deflated 7%)\n",
            "  adding: data/token_representations/UniRef50_A0A3D1F913.pt (deflated 7%)\n",
            "  adding: data/token_representations/UniRef50_A0A424LZC6.pt (deflated 7%)\n",
            "  adding: data/token_representations/UniRef50_UPI000DF1CDFD.pt (deflated 7%)\n",
            "  adding: data/token_representations/UniRef50_A0A6P7I2C5.pt (deflated 7%)\n",
            "  adding: data/token_representations/UniRef50_B4S6Z1.pt (deflated 7%)\n",
            "  adding: data/token_representations/UniRef50_A0A954Q5I2.pt (deflated 7%)\n",
            "  adding: data/token_representations/UniRef50_UPI001ABE590F.pt (deflated 7%)\n",
            "  adding: data/token_representations/UniRef50_A0A8J1JNV9.pt (deflated 7%)\n",
            "  adding: data/token_representations/UniRef50_A0A833ITQ2.pt (deflated 7%)\n",
            "  adding: data/token_representations/UniRef50_UPI001FAEBEDF.pt (deflated 7%)\n",
            "  adding: data/token_representations/UniRef50_UPI0012ECBB07.pt (deflated 7%)\n",
            "  adding: data/token_representations/UniRef50_A0A0K0JSP5.pt (deflated 7%)\n",
            "  adding: data/token_representations/UniRef50_F0YLV9.pt (deflated 7%)\n",
            "  adding: data/token_representations/UniRef50_A0A086QW65.pt (deflated 7%)\n",
            "  adding: data/token_representations/UniRef50_UPI001B887699.pt (deflated 7%)\n",
            "  adding: data/token_representations/UniRef50_A0A674G9M4.pt (deflated 7%)\n",
            "  adding: data/token_representations/UniRef50_E9DK82.pt (deflated 7%)\n",
            "  adding: data/token_representations/UniRef50_UPI0018E4D3A5.pt (deflated 8%)\n",
            "  adding: data/token_representations/UniRef50_A0A1G1BWB3.pt (deflated 7%)\n",
            "  adding: data/token_representations/UniRef50_A0A814BFE4.pt (deflated 7%)\n",
            "  adding: data/token_representations/UniRef50_A0A8T0H129.pt (deflated 7%)\n",
            "  adding: data/token_representations/UniRef50_UPI00240609C1.pt (deflated 7%)\n",
            "  adding: data/token_representations/UniRef50_A0A8J6HA99.pt (deflated 7%)\n",
            "  adding: data/token_representations/UniRef50_A0A7Z3TS96.pt (deflated 7%)\n",
            "  adding: data/token_representations/UniRef50_UPI001C7DA64C.pt (deflated 7%)\n",
            "  adding: data/token_representations/UniRef50_A0A7M7T0E0.pt (deflated 7%)\n",
            "  adding: data/token_representations/UniRef50_A0A2C6L9U6.pt (deflated 7%)\n",
            "  adding: data/token_representations/UniRef50_UPI000F5F3B8E.pt (deflated 7%)\n",
            "  adding: data/token_representations/UniRef50_A0A7S3Z1K1.pt (deflated 7%)\n",
            "  adding: data/token_representations/UniRef50_K3VDP2.pt (deflated 7%)\n",
            "  adding: data/token_representations/UniRef50_UPI00074FBB04.pt (deflated 7%)\n",
            "  adding: data/token_representations/UniRef50_A0A2B7YGL2.pt (deflated 7%)\n",
            "  adding: data/token_representations/UniRef50_F6D150.pt (deflated 7%)\n",
            "  adding: data/token_representations/UniRef50_A0A235GAD5.pt (deflated 7%)\n",
            "  adding: data/token_representations/UniRef50_UPI00214B0C66.pt (deflated 7%)\n",
            "  adding: data/token_representations/UniRef50_A0A2S1LA92.pt (deflated 7%)\n",
            "  adding: data/token_representations/UniRef50_A0A1V2PM89.pt (deflated 7%)\n",
            "  adding: data/token_representations/UniRef50_A0A8B6CMQ4.pt (deflated 7%)\n",
            "  adding: data/token_representations/UniRef50_UPI001D0CD378.pt (deflated 7%)\n",
            "  adding: data/token_representations/UniRef50_E9AEM9.pt (deflated 7%)\n",
            "  adding: data/token_representations/UniRef50_A0A7U8UZB1.pt (deflated 7%)\n",
            "  adding: data/token_representations/UniRef50_UPI00248E9AB8.pt (deflated 7%)\n",
            "  adding: data/token_representations/UniRef50_W8AMD9.pt (deflated 7%)\n",
            "  adding: data/token_representations/UniRef50_A0A8S1D066.pt (deflated 7%)\n",
            "  adding: data/token_representations/UniRef50_A0A8U1BYP8.pt (deflated 7%)\n",
            "  adding: data/token_representations/UniRef50_A0A974CXT4.pt (deflated 7%)\n",
            "  adding: data/token_representations/UniRef50_A0A9W7D8M1.pt (deflated 7%)\n",
            "  adding: data/token_representations/UniRef50_A0A811UWY5.pt (deflated 7%)\n",
            "  adding: data/token_representations/UniRef50_A0A2J6JDX2.pt (deflated 7%)\n",
            "  adding: data/token_representations/UniRef50_A0A922HSS9.pt (deflated 7%)\n",
            "  adding: data/token_representations/UniRef50_A0A8T1VV92.pt (deflated 7%)\n",
            "  adding: data/token_representations/UniRef50_UPI001C07F643.pt (deflated 7%)\n",
            "  adding: data/token_representations/UniRef50_A0A5E8B3F1.pt (deflated 7%)\n",
            "  adding: data/token_representations/UniRef50_UPI00168A24B7.pt (deflated 7%)\n",
            "  adding: data/token_representations/UniRef50_UPI0014038E58.pt (deflated 7%)\n",
            "  adding: data/token_representations/UniRef50_A0A6P5AKU1.pt (deflated 7%)\n",
            "  adding: data/token_representations/UniRef50_A0A0P9NX53.pt (deflated 7%)\n",
            "  adding: data/token_representations/UniRef50_A0A1R0V024.pt (deflated 7%)\n",
            "  adding: data/token_representations/UniRef50_UPI0024E1B0CA.pt (deflated 7%)\n",
            "  adding: data/token_representations/UniRef50_A0A7T8JVB7.pt (deflated 8%)\n",
            "  adding: data/token_representations/UniRef50_A0A9Q9MKY8.pt (deflated 7%)\n",
            "  adding: data/token_representations/UniRef50_F2UFR5.pt (deflated 7%)\n",
            "  adding: data/token_representations/UniRef50_UPI001D07AA27.pt (deflated 7%)\n",
            "  adding: data/token_representations/UniRef50_A0A3M0KYX7.pt (deflated 7%)\n",
            "  adding: data/token_representations/UniRef50_A0A1S3F5A6.pt (deflated 7%)\n",
            "  adding: data/token_representations/UniRef50_A0A977T737.pt (deflated 7%)\n",
            "  adding: data/token_representations/UniRef50_UPI0025AE9F3B.pt (deflated 7%)\n",
            "  adding: data/token_representations/UniRef50_A0A8S4GQV6.pt (deflated 7%)\n",
            "  adding: data/token_representations/UniRef50_D7G6U7.pt (deflated 7%)\n",
            "  adding: data/token_representations/UniRef50_A9A4J1.pt (deflated 7%)\n",
            "  adding: data/token_representations/UniRef50_A0A835YHS2.pt (deflated 7%)\n",
            "  adding: data/token_representations/UniRef50_A0A2D5P7N9.pt (deflated 7%)\n",
            "  adding: data/token_representations/UniRef50_A0A5P9CZK1.pt (deflated 7%)\n",
            "  adding: data/token_representations/UniRef50_E2BP95.pt (deflated 7%)\n",
            "  adding: data/token_representations/UniRef50_A0A2K8RDY7.pt (deflated 7%)\n",
            "  adding: data/token_representations/UniRef50_A0A8B6D7X2.pt (deflated 7%)\n",
            "  adding: data/token_representations/UniRef50_A0A3D1A6E5.pt (deflated 7%)\n",
            "  adding: data/token_representations/UniRef50_A0A8C7FXH0.pt (deflated 7%)\n",
            "  adding: data/token_representations/UniRef50_H2KVD4.pt (deflated 7%)\n",
            "  adding: data/token_representations/UniRef50_A0A6L2MUJ9.pt (deflated 7%)\n",
            "  adding: data/token_representations/UniRef50_A0A699GEV5.pt (deflated 7%)\n",
            "  adding: data/token_representations/UniRef50_F0VJ77.pt (deflated 7%)\n",
            "  adding: data/token_representations/UniRef50_UPI00209AA210.pt (deflated 7%)\n",
            "  adding: data/token_representations/UniRef50_A0A250FWN6.pt (deflated 7%)\n",
            "  adding: data/token_representations/UniRef50_UPI001D08F4F3.pt (deflated 7%)\n",
            "  adding: data/token_representations/UniRef50_UPI001CC44A17.pt (deflated 7%)\n",
            "  adding: data/token_representations/UniRef50_A0A8H4N0R7.pt (deflated 7%)\n",
            "  adding: data/token_representations/UniRef50_A0A182HF68.pt (deflated 7%)\n",
            "  adding: data/token_representations/UniRef50_R1CGI9.pt (deflated 7%)\n",
            "  adding: data/token_representations/UniRef50_UPI0020CA5748.pt (deflated 7%)\n",
            "  adding: data/token_representations/UniRef50_A0A2S2BZX7.pt (deflated 7%)\n",
            "  adding: data/token_representations/UniRef50_A0A7K0DSA2.pt (deflated 7%)\n",
            "  adding: data/token_representations/UniRef50_A0A0J5KVW6.pt (deflated 7%)\n",
            "  adding: data/token_representations/UniRef50_UPI000719D8C4.pt (deflated 7%)\n",
            "  adding: data/token_representations/UniRef50_UPI001F135F8C.pt (deflated 7%)\n",
            "  adding: data/token_representations/UniRef50_A0A1V2T910.pt (deflated 7%)\n",
            "  adding: data/token_representations/UniRef50_A0A2E6EBH9.pt (deflated 7%)\n",
            "  adding: data/token_representations/UniRef50_A0A1V2QIJ2.pt (deflated 7%)\n",
            "  adding: data/token_representations/UniRef50_UPI00243515A9.pt (deflated 7%)\n",
            "  adding: data/token_representations/UniRef50_H2XR25.pt (deflated 7%)\n",
            "  adding: data/token_representations/UniRef50_A0A0K6S7K4.pt (deflated 7%)\n",
            "  adding: data/token_representations/UniRef50_A0A4S2LPJ2.pt (deflated 7%)\n",
            "  adding: data/token_representations/UniRef50_UPI000CD58570.pt (deflated 7%)\n",
            "  adding: data/token_representations/UniRef50_Q23NK5.pt (deflated 7%)\n",
            "  adding: data/token_representations/UniRef50_A0A8K0JWH7.pt (deflated 7%)\n",
            "  adding: data/token_representations/UniRef50_UPI0023AEB1DD.pt (deflated 7%)\n",
            "  adding: data/token_representations/UniRef50_A0A841H2K8.pt (deflated 7%)\n",
            "  adding: data/token_representations/UniRef50_UPI002455B561.pt (deflated 7%)\n",
            "  adding: data/token_representations/UniRef50_UPI0009E5044A.pt (deflated 7%)\n",
            "  adding: data/token_representations/UniRef50_T1J5I4.pt (deflated 7%)\n",
            "  adding: data/token_representations/UniRef50_A0A285LSG0.pt (deflated 7%)\n",
            "  adding: data/token_representations/UniRef50_UPI00195B6274.pt (deflated 7%)\n",
            "  adding: data/token_representations/UniRef50_A0A7E4VTD5.pt (deflated 7%)\n",
            "  adding: data/token_representations/UniRef50_A0A936DJR4.pt (deflated 7%)\n",
            "  adding: data/token_representations/UniRef50_UPI0007394327.pt (deflated 7%)\n",
            "  adding: data/token_representations/UniRef50_A0A849HKK8.pt (deflated 7%)\n",
            "  adding: data/token_representations/UniRef50_A0A1D3JKI4.pt (deflated 7%)\n",
            "  adding: data/token_representations/UniRef50_A0A521Y5U3.pt (deflated 7%)\n",
            "  adding: data/token_representations/UniRef50_A0A151L471.pt (deflated 7%)\n",
            "  adding: data/token_representations/UniRef50_A0A1J1HEG8.pt (deflated 7%)\n",
            "  adding: data/token_representations/UniRef50_A0A8J7IJX7.pt (deflated 7%)\n",
            "  adding: data/token_representations/UniRef50_UPI000C205758.pt (deflated 7%)\n",
            "  adding: data/token_representations/UniRef50_A0A813NTC8.pt (deflated 7%)\n",
            "  adding: data/token_representations/UniRef50_UPI001C251330.pt (deflated 7%)\n",
            "  adding: data/token_representations/UniRef50_UPI0018C40A5F.pt (deflated 7%)\n",
            "  adding: data/token_representations/UniRef50_UPI000B5E19A9.pt (deflated 7%)\n",
            "  adding: data/token_representations/UniRef50_A0A1Q9D320.pt (deflated 7%)\n",
            "  adding: data/token_representations/UniRef50_UPI00112B94C5.pt (deflated 7%)\n",
            "  adding: data/token_representations/UniRef50_A0A7Y7I9B5.pt (deflated 7%)\n",
            "  adding: data/token_representations/UniRef50_A0A836B594.pt (deflated 7%)\n",
            "  adding: data/token_representations/UniRef50_UPI00145827A1.pt (deflated 7%)\n",
            "  adding: data/token_representations/UniRef50_A0A918JSS0.pt (deflated 7%)\n",
            "  adding: data/token_representations/UniRef50_UPI00242F34CD.pt (deflated 7%)\n",
            "  adding: data/token_representations/UniRef50_A0A1B4FEV9.pt (deflated 7%)\n",
            "  adding: data/token_representations/UniRef50_A5VWV3.pt (deflated 7%)\n",
            "  adding: data/token_representations/UniRef50_A0A3D1A3M2.pt (deflated 7%)\n",
            "  adding: data/token_representations/UniRef50_A0A024WBY3.pt (deflated 7%)\n",
            "  adding: data/token_representations/UniRef50_UPI00137A0D9C.pt (deflated 7%)\n",
            "  adding: data/token_representations/UniRef50_A0A6I9WDV9.pt (deflated 7%)\n",
            "  adding: data/token_representations/UniRef50_A0A8J5XZL8.pt (deflated 7%)\n",
            "  adding: data/token_representations/UniRef50_A0A438EFJ4.pt (deflated 7%)\n",
            "  adding: data/token_representations/UniRef50_A0A0P7ZDW2.pt (deflated 7%)\n",
            "  adding: data/token_representations/UniRef50_A0A3N0XZJ4.pt (deflated 7%)\n",
            "  adding: data/token_representations/UniRef50_B1ZZE2.pt (deflated 7%)\n",
            "  adding: data/token_representations/UniRef50_UPI0026371AC7.pt (deflated 7%)\n",
            "  adding: data/token_representations/UniRef50_A0A087Y443.pt (deflated 7%)\n",
            "  adding: data/token_representations/UniRef50_A0A8S1A0E9.pt (deflated 7%)\n",
            "  adding: data/token_representations/UniRef50_A0A8B7PKW0.pt (deflated 7%)\n",
            "  adding: data/token_representations/UniRef50_A0A1M7ABD0.pt (deflated 7%)\n",
            "  adding: data/token_representations/UniRef50_A0A5M9K7M5.pt (deflated 7%)\n",
            "  adding: data/token_representations/UniRef50_U6M400.pt (deflated 7%)\n",
            "  adding: data/token_representations/UniRef50_A0A9D7XQK1.pt (deflated 7%)\n",
            "  adding: data/token_representations/UniRef50_E2BM24.pt (deflated 7%)\n",
            "  adding: data/token_representations/UniRef50_A0A679F964.pt (deflated 7%)\n",
            "  adding: data/token_representations/UniRef50_A0A1I3ZGL3.pt (deflated 7%)\n",
            "  adding: data/token_representations/UniRef50_A0A7Y5B9R3.pt (deflated 7%)\n",
            "  adding: data/token_representations/UniRef50_UPI0023597418.pt (deflated 7%)\n",
            "  adding: data/token_representations/UniRef50_A0A835SXL0.pt (deflated 7%)\n",
            "  adding: data/token_representations/UniRef50_P02732.pt (deflated 8%)\n",
            "  adding: data/token_representations/UniRef50_A0A6A5DBG9.pt (deflated 7%)\n",
            "  adding: data/token_representations/UniRef50_A0A7R8XF88.pt (deflated 7%)\n",
            "  adding: data/token_representations/UniRef50_Q09666.pt (deflated 7%)\n",
            "  adding: data/token_representations/UniRef50_A0A518JSW8.pt (deflated 7%)\n",
            "  adding: data/token_representations/UniRef50_A0A6I3L968.pt (deflated 7%)\n",
            "  adding: data/token_representations/UniRef50_A0A0C3HPI4.pt (deflated 7%)\n",
            "  adding: data/token_representations/UniRef50_A0A7D9HFM8.pt (deflated 7%)\n",
            "  adding: data/token_representations/UniRef50_A0A133PTL1.pt (deflated 7%)\n",
            "  adding: data/token_representations/UniRef50_A0A4R8QQK3.pt (deflated 7%)\n",
            "  adding: data/token_representations/UniRef50_UPI000960EDB8.pt (deflated 7%)\n",
            "  adding: data/token_representations/UniRef50_Q22R49.pt (deflated 7%)\n",
            "  adding: data/token_representations/UniRef50_A0A521F4M3.pt (deflated 7%)\n",
            "  adding: data/token_representations/UniRef50_A0A2H5BFE5.pt (deflated 7%)\n",
            "  adding: data/token_representations/UniRef50_UPI0016523AB7.pt (deflated 7%)\n",
            "  adding: data/token_representations/UniRef50_UPI001130E85F.pt (deflated 7%)\n",
            "  adding: data/token_representations/UniRef50_A0A6P5C241.pt (deflated 7%)\n",
            "  adding: data/token_representations/UniRef50_D3VEI8.pt (deflated 7%)\n",
            "  adding: data/token_representations/UniRef50_A0A7J6M017.pt (deflated 7%)\n",
            "  adding: data/token_representations/UniRef50_A0A160FGY6.pt (deflated 7%)\n",
            "  adding: data/token_representations/UniRef50_UPI0022E01E97.pt (deflated 7%)\n",
            "  adding: data/token_representations/UniRef50_UPI001401C557.pt (deflated 7%)\n",
            "  adding: data/token_representations/UniRef50_A0A840PXU0.pt (deflated 7%)\n",
            "  adding: data/token_representations/UniRef50_R7WM68.pt (deflated 7%)\n",
            "  adding: data/token_representations/UniRef50_A0A4E0RW69.pt (deflated 7%)\n",
            "  adding: data/token_representations/UniRef50_A0A9B0UBH8.pt (deflated 7%)\n",
            "  adding: data/token_representations/UniRef50_A0A8J2MKY2.pt (deflated 7%)\n",
            "  adding: data/token_representations/UniRef50_A0A1Q9EJG8.pt (deflated 7%)\n",
            "  adding: data/token_representations/UniRef50_A0A3B0KLE6.pt (deflated 7%)\n",
            "  adding: data/token_representations/UniRef50_A0A8P4KJC6.pt (deflated 7%)\n",
            "  adding: data/token_representations/UniRef50_UPI0021C573B5.pt (deflated 7%)\n",
            "  adding: data/token_representations/UniRef50_UPI00143C50CD.pt (deflated 7%)\n",
            "  adding: data/token_representations/UniRef50_A0A1G9W8Z2.pt (deflated 7%)\n",
            "  adding: data/token_representations/UniRef50_A0A0F7LJE5.pt (deflated 7%)\n",
            "  adding: data/token_representations/UniRef50_A0A0D9RVE4.pt (deflated 7%)\n",
            "  adding: data/token_representations/UniRef50_A0A2H0S2G9.pt (deflated 7%)\n",
            "  adding: data/token_representations/UniRef50_UPI001BC8365F.pt (deflated 7%)\n",
            "  adding: data/token_representations/UniRef50_UPI001FE81921.pt (deflated 7%)\n",
            "  adding: data/token_representations/UniRef50_A0A6G1Q3D5.pt (deflated 7%)\n",
            "  adding: data/token_representations/UniRef50_UPI00262CB4FA.pt (deflated 7%)\n",
            "  adding: data/token_representations/UniRef50_A0A2Y9MDF8.pt (deflated 7%)\n",
            "  adding: data/token_representations/UniRef50_A0A4U1I7X4.pt (deflated 7%)\n",
            "  adding: data/token_representations/UniRef50_A0A0G4L8J5.pt (deflated 7%)\n",
            "  adding: data/token_representations/UniRef50_A0A4X1WDQ0.pt (deflated 7%)\n",
            "  adding: data/token_representations/UniRef50_UPI002224358B.pt (deflated 7%)\n",
            "  adding: data/token_representations/UniRef50_A9UTX2.pt (deflated 7%)\n",
            "  adding: data/token_representations/UniRef50_UPI000CDFB646.pt (deflated 7%)\n",
            "  adding: data/token_representations/UniRef50_A0A814JUL1.pt (deflated 7%)\n",
            "  adding: data/token_representations/UniRef50_A0A9P1H391.pt (deflated 7%)\n",
            "  adding: data/token_representations/UniRef50_A0A6P8HH91.pt (deflated 7%)\n",
            "  adding: data/token_representations/UniRef50_A0A7X3GGV0.pt (deflated 7%)\n",
            "  adding: data/token_representations/UniRef50_A0A6V7KJJ8.pt (deflated 9%)\n",
            "  adding: data/token_representations/UniRef50_A0A6L2K023.pt (deflated 7%)\n",
            "  adding: data/token_representations/UniRef50_A0A917FM20.pt (deflated 7%)\n",
            "  adding: data/token_representations/UniRef50_A0A9W7KZZ0.pt (deflated 7%)\n",
            "  adding: data/token_representations/UniRef50_UPI00146F4874.pt (deflated 7%)\n",
            "  adding: data/token_representations/UniRef50_A0A1Q9P2M6.pt (deflated 7%)\n",
            "  adding: data/token_representations/UniRef50_A0A397AZ04.pt (deflated 7%)\n",
            "  adding: data/token_representations/UniRef50_A0A1V9Z1N9.pt (deflated 7%)\n",
            "  adding: data/token_representations/UniRef50_A0A848KKH7.pt (deflated 7%)\n",
            "  adding: data/token_representations/UniRef50_A0A2T7UEZ2.pt (deflated 7%)\n",
            "  adding: data/token_representations/UniRef50_A0A7W8DKK0.pt (deflated 7%)\n",
            "  adding: data/token_representations/UniRef50_A0A933UYV7.pt (deflated 7%)\n",
            "  adding: data/token_representations/UniRef50_A0A494UJN6.pt (deflated 7%)\n",
            "  adding: data/token_representations/UniRef50_A0A5N9HPF3.pt (deflated 7%)\n",
            "  adding: data/token_representations/UniRef50_A0A9D3P4Q7.pt (deflated 7%)\n",
            "  adding: data/token_representations/UniRef50_A0A3A8SS97.pt (deflated 7%)\n",
            "  adding: data/token_representations/UniRef50_A0A2S6NUH1.pt (deflated 7%)\n",
            "  adding: data/token_representations/UniRef50_A0A5A8EGP8.pt (deflated 7%)\n",
            "  adding: data/token_representations/UniRef50_A0A4Q7JCD1.pt (deflated 7%)\n",
            "  adding: data/token_representations/UniRef50_UPI00234F25A8.pt (deflated 7%)\n",
            "  adding: data/token_representations/UniRef50_W5VMR6.pt (deflated 7%)\n",
            "  adding: data/token_representations/UniRef50_A0A2A9MME3.pt (deflated 7%)\n",
            "  adding: data/token_representations/UniRef50_A0A6P8ZKS1.pt (deflated 7%)\n",
            "  adding: data/token_representations/UniRef50_UPI00160442B0.pt (deflated 7%)\n",
            "  adding: data/token_representations/UniRef50_UPI00200FE3A4.pt (deflated 7%)\n",
            "  adding: data/token_representations/UniRef50_A0A2K6R2A3.pt (deflated 7%)\n",
            "  adding: data/token_representations/UniRef50_UPI0025F6F3C7.pt (deflated 7%)\n",
            "  adding: data/token_representations/UniRef50_W1J126.pt (deflated 7%)\n",
            "  adding: data/token_representations/UniRef50_A0A9R0DXS0.pt (deflated 7%)\n",
            "  adding: data/token_representations/UniRef50_UPI0023DB0A7B.pt (deflated 7%)\n",
            "  adding: data/token_representations/UniRef50_A0A8C6M5G6.pt (deflated 7%)\n",
            "  adding: data/token_representations/UniRef50_B0VG09.pt (deflated 7%)\n",
            "  adding: data/token_representations/UniRef50_A0A841K3C5.pt (deflated 7%)\n",
            "  adding: data/token_representations/UniRef50_A0A1X4NFS7.pt (deflated 7%)\n",
            "  adding: data/token_representations/UniRef50_A0A553P3Y1.pt (deflated 7%)\n",
            "  adding: data/token_representations/UniRef50_A0A9E9AN70.pt (deflated 7%)\n",
            "  adding: data/token_representations/UniRef50_UPI000F659AC0.pt (deflated 7%)\n",
            "  adding: data/token_representations/UniRef50_A0A7I9V3B7.pt (deflated 7%)\n",
            "  adding: data/token_representations/UniRef50_UPI00055E066C.pt (deflated 7%)\n",
            "  adding: data/token_representations/UniRef50_UPI0020B448AA.pt (deflated 7%)\n",
            "  adding: data/token_representations/UniRef50_A0A1V6FJM9.pt (deflated 7%)\n",
            "  adding: data/token_representations/UniRef50_A0A024X9L7.pt (deflated 7%)\n",
            "  adding: data/token_representations/UniRef50_A0A7X8BUN9.pt (deflated 7%)\n",
            "  adding: data/token_representations/UniRef50_UPI001F5E3E76.pt (deflated 7%)\n",
            "  adding: data/token_representations/UniRef50_UPI0012938F3D.pt (deflated 7%)\n",
            "  adding: data/token_representations/UniRef50_A0A5C6F1Z9.pt (deflated 7%)\n",
            "  adding: data/token_representations/UniRef50_A0A6J0VH24.pt (deflated 7%)\n",
            "  adding: data/token_representations/UniRef50_UPI00148652B2.pt (deflated 7%)\n",
            "  adding: data/token_representations/UniRef50_A0A930UMS7.pt (deflated 7%)\n",
            "  adding: data/token_representations/UniRef50_A0A0B7MWI0.pt (deflated 7%)\n",
            "  adding: data/token_representations/UniRef50_UPI001BA8300B.pt (deflated 7%)\n",
            "  adding: data/token_representations/UniRef50_UPI00193A2A81.pt (deflated 7%)\n",
            "  adding: data/token_representations/UniRef50_UPI0013629950.pt (deflated 7%)\n",
            "  adding: data/token_representations/UniRef50_S4R6J1.pt (deflated 8%)\n",
            "  adding: data/token_representations/UniRef50_A0A0M0K5W5.pt (deflated 7%)\n",
            "  adding: data/token_representations/UniRef50_A0A7R8YZA0.pt (deflated 7%)\n",
            "  adding: data/token_representations/UniRef50_A0A8J6HFN9.pt (deflated 7%)\n",
            "  adding: data/token_representations/UniRef50_W7SVM1.pt (deflated 7%)\n",
            "  adding: data/token_representations/UniRef50_A0A5F8GI76.pt (deflated 7%)\n",
            "  adding: data/token_representations/UniRef50_UPI001395D771.pt (deflated 7%)\n",
            "  adding: data/token_representations/UniRef50_A0A814YY33.pt (deflated 7%)\n",
            "  adding: data/token_representations/UniRef50_UPI0021C37E98.pt (deflated 7%)\n",
            "  adding: data/token_representations/UniRef50_UPI00082EA304.pt (deflated 7%)\n",
            "  adding: data/token_representations/UniRef50_UPI000AB4989F.pt (deflated 7%)\n",
            "  adding: data/token_representations/UniRef50_A0A835NJ80.pt (deflated 7%)\n",
            "  adding: data/token_representations/UniRef50_Q0UZY2.pt (deflated 7%)\n",
            "  adding: data/token_representations/UniRef50_W7DT38.pt (deflated 7%)\n",
            "  adding: data/token_representations/UniRef50_UPI00135C5944.pt (deflated 7%)\n",
            "  adding: data/token_representations/UniRef50_A0A3M6TK88.pt (deflated 7%)\n",
            "  adding: data/token_representations/UniRef50_A0A4Z1SLY9.pt (deflated 7%)\n",
            "  adding: data/token_representations/UniRef50_UPI001C1FA23C.pt (deflated 7%)\n",
            "  adding: data/token_representations/UniRef50_A0A0P8XPY5.pt (deflated 7%)\n",
            "  adding: data/token_representations/UniRef50_A0A0A0EEE5.pt (deflated 7%)\n",
            "  adding: data/token_representations/UniRef50_A0A9D8RIY7.pt (deflated 7%)\n",
            "  adding: data/token_representations/UniRef50_A0A9W2YBV9.pt (deflated 7%)\n",
            "  adding: data/token_representations/UniRef50_UPI001E4F0E02.pt (deflated 7%)\n",
            "  adding: data/token_representations/UniRef50_UPI00225E6936.pt (deflated 7%)\n",
            "  adding: data/token_representations/UniRef50_U6GCF5.pt (deflated 7%)\n",
            "  adding: data/token_representations/UniRef50_A0A2S9YGC6.pt (deflated 7%)\n",
            "  adding: data/token_representations/UniRef50_A0A7J6MWU7.pt (deflated 7%)\n",
            "  adding: data/token_representations/UniRef50_UPI001F1B63D5.pt (deflated 7%)\n",
            "  adding: data/token_representations/UniRef50_A0A2C6JRB0.pt (deflated 7%)\n",
            "  adding: data/token_representations/UniRef50_UPI001962F8C4.pt (deflated 7%)\n",
            "  adding: data/token_representations/UniRef50_A0A1S3EYG3.pt (deflated 7%)\n",
            "  adding: data/token_representations/UniRef50_A0A9D6N348.pt (deflated 7%)\n",
            "  adding: data/token_representations/UniRef50_A0A7R8CK67.pt (deflated 7%)\n",
            "  adding: data/token_representations/UniRef50_A0A6F8Z1R3.pt (deflated 7%)\n",
            "  adding: data/token_representations/UniRef50_A0A2N6A820.pt (deflated 7%)\n",
            "  adding: data/token_representations/UniRef50_A0A086T7M5.pt (deflated 7%)\n",
            "  adding: data/token_representations/UniRef50_A0A1R1XTR0.pt (deflated 7%)\n",
            "  adding: data/token_representations/UniRef50_UPI001CDA47C5.pt (deflated 7%)\n",
            "  adding: data/token_representations/UniRef50_A0A8C4T5G8.pt (deflated 7%)\n",
            "  adding: data/token_representations/UniRef50_A0A1Q4VZ13.pt (deflated 7%)\n",
            "  adding: data/token_representations/UniRef50_A0A7I8D852.pt (deflated 7%)\n",
            "  adding: data/token_representations/UniRef50_A0A1D8KRT9.pt (deflated 7%)\n",
            "  adding: data/token_representations/UniRef50_A0A8X6XT19.pt (deflated 7%)\n",
            "  adding: data/token_representations/UniRef50_UPI001E653043.pt (deflated 7%)\n",
            "  adding: data/token_representations/UniRef50_UPI001C04E577.pt (deflated 7%)\n",
            "  adding: data/token_representations/UniRef50_A0A7X7P9Q2.pt (deflated 7%)\n",
            "  adding: data/token_representations/UniRef50_UPI00234ED268.pt (deflated 7%)\n",
            "  adding: data/token_representations/UniRef50_A0A0F7W6U4.pt (deflated 7%)\n",
            "  adding: data/token_representations/UniRef50_A0A2S7JT63.pt (deflated 7%)\n",
            "  adding: data/token_representations/UniRef50_A0A7D9NMB6.pt (deflated 7%)\n",
            "  adding: data/token_representations/UniRef50_A0A7K0K0Q7.pt (deflated 7%)\n",
            "  adding: data/token_representations/UniRef50_A0A9N8E4E9.pt (deflated 7%)\n",
            "  adding: data/token_representations/UniRef50_A0A4S2LHZ6.pt (deflated 7%)\n",
            "  adding: data/token_representations/UniRef50_A0A8T1D9V5.pt (deflated 7%)\n",
            "  adding: data/token_representations/UniRef50_J9J001.pt (deflated 7%)\n",
            "  adding: data/token_representations/UniRef50_Q4UH33.pt (deflated 7%)\n",
            "  adding: data/token_representations/UniRef50_A0A8J1JMB5.pt (deflated 7%)\n",
            "  adding: data/token_representations/UniRef50_A0A940BM97.pt (deflated 7%)\n",
            "  adding: data/token_representations/UniRef50_A0A379QWY4.pt (deflated 7%)\n",
            "  adding: data/token_representations/UniRef50_A0A1Y2WCD8.pt (deflated 7%)\n",
            "  adding: data/token_representations/UniRef50_A0A2A6CGQ2.pt (deflated 7%)\n",
            "  adding: data/token_representations/UniRef50_A4FKZ0.pt (deflated 7%)\n",
            "  adding: data/token_representations/UniRef50_A0A0K6S8Q6.pt (deflated 7%)\n",
            "  adding: data/token_representations/UniRef50_A0A956T3D4.pt (deflated 7%)\n",
            "  adding: data/token_representations/UniRef50_A0A3M7MUQ0.pt (deflated 7%)\n",
            "  adding: data/token_representations/UniRef50_UPI0013040090.pt (deflated 7%)\n",
            "  adding: data/token_representations/UniRef50_UPI00187E80A9.pt (deflated 7%)\n",
            "  adding: data/token_representations/UniRef50_A0A8J5ZLN1.pt (deflated 7%)\n",
            "  adding: data/token_representations/UniRef50_UPI002349971C.pt (deflated 7%)\n",
            "  adding: data/token_representations/UniRef50_UPI001414E0CF.pt (deflated 7%)\n",
            "  adding: data/token_representations/UniRef50_A0A814UUX1.pt (deflated 7%)\n",
            "  adding: data/token_representations/UniRef50_A0A699GEH3.pt (deflated 7%)\n",
            "  adding: data/token_representations/UniRef50_Q05470.pt (deflated 7%)\n",
            "  adding: data/token_representations/UniRef50_A0A2P6TVB6.pt (deflated 7%)\n",
            "  adding: data/token_representations/UniRef50_UPI00254621EC.pt (deflated 7%)\n",
            "  adding: data/token_representations/UniRef50_UPI001BB1716D.pt (deflated 7%)\n",
            "  adding: data/token_representations/UniRef50_A0A1I8PA48.pt (deflated 7%)\n",
            "  adding: data/token_representations/UniRef50_A0A249SX09.pt (deflated 7%)\n",
            "  adding: data/token_representations/UniRef50_Q7RQY0.pt (deflated 7%)\n",
            "  adding: data/token_representations/UniRef50_A0A9D4TY08.pt (deflated 7%)\n",
            "  adding: data/token_representations/UniRef50_UPI00193A68AC.pt (deflated 7%)\n",
            "  adding: data/token_representations/UniRef50_A0A6P6D2R9.pt (deflated 7%)\n",
            "  adding: data/token_representations/UniRef50_UPI00194DD8B0.pt (deflated 7%)\n",
            "  adding: data/token_representations/UniRef50_UPI00189CAA8F.pt (deflated 7%)\n",
            "  adding: data/token_representations/UniRef50_A0A674JPX7.pt (deflated 7%)\n",
            "  adding: data/token_representations/UniRef50_W4FP17.pt (deflated 7%)\n",
            "  adding: data/token_representations/UniRef50_A0A814VIW3.pt (deflated 7%)\n",
            "  adding: data/token_representations/UniRef50_UPI0008DD6D65.pt (deflated 7%)\n",
            "  adding: data/token_representations/UniRef50_A0A5E5PRZ2.pt (deflated 7%)\n",
            "  adding: data/token_representations/UniRef50_UPI001FED8832.pt (deflated 7%)\n",
            "  adding: data/token_representations/UniRef50_A0A1E4IBR5.pt (deflated 7%)\n",
            "  adding: data/token_representations/UniRef50_A0A846XCU3.pt (deflated 7%)\n",
            "  adding: data/token_representations/UniRef50_UPI000704325A.pt (deflated 7%)\n",
            "  adding: data/token_representations/UniRef50_A0A0G4FII4.pt (deflated 7%)\n",
            "  adding: data/token_representations/UniRef50_A0A202BEU9.pt (deflated 7%)\n",
            "  adding: data/token_representations/UniRef50_W7IWM5.pt (deflated 7%)\n",
            "  adding: data/token_representations/UniRef50_UPI00248D23D9.pt (deflated 7%)\n",
            "  adding: data/token_representations/UniRef50_A0A3G3NH30.pt (deflated 7%)\n",
            "  adding: data/token_representations/UniRef50_A0A8J2W3Y7.pt (deflated 7%)\n",
            "  adding: data/token_representations/UniRef50_A0A024UN31.pt (deflated 7%)\n",
            "  adding: data/token_representations/UniRef50_A0A1B2HQI0.pt (deflated 7%)\n",
            "  adding: data/token_representations/UniRef50_A0A814T2L6.pt (deflated 7%)\n",
            "  adding: data/token_representations/UniRef50_A0A0Q7NDB7.pt (deflated 7%)\n",
            "  adding: data/token_representations/UniRef50_X2JA38.pt (deflated 7%)\n",
            "  adding: data/token_representations/UniRef50_UPI0004B14AE4.pt (deflated 7%)\n",
            "  adding: data/token_representations/UniRef50_UPI000CE1C054.pt (deflated 7%)\n",
            "  adding: data/token_representations/UniRef50_A0A1M6UB22.pt (deflated 7%)\n",
            "  adding: data/token_representations/UniRef50_A0A533RCE3.pt (deflated 7%)\n",
            "  adding: data/token_representations/UniRef50_A0A6P7JL92.pt (deflated 7%)\n",
            "  adding: data/token_representations/UniRef50_A0A1V4A6V7.pt (deflated 7%)\n",
            "  adding: data/token_representations/UniRef50_UPI000F8D5C0E.pt (deflated 7%)\n",
            "  adding: data/token_representations/UniRef50_UPI00244DFAA9.pt (deflated 7%)\n",
            "  adding: data/token_representations/UniRef50_UPI00263A8AA2.pt (deflated 7%)\n",
            "  adding: data/token_representations/UniRef50_A0A2N8HNS2.pt (deflated 7%)\n",
            "  adding: data/token_representations/UniRef50_A0A6P8FPF3.pt (deflated 7%)\n",
            "  adding: data/token_representations/UniRef50_A0A9P8BXM6.pt (deflated 7%)\n",
            "  adding: data/token_representations/UniRef50_UPI001C72324B.pt (deflated 7%)\n",
            "  adding: data/token_representations/UniRef50_A0A1M5EQF8.pt (deflated 7%)\n",
            "  adding: data/token_representations/UniRef50_UPI001F5FE10F.pt (deflated 7%)\n",
            "  adding: data/token_representations/UniRef50_Q8GBX6.pt (deflated 7%)\n",
            "  adding: data/token_representations/UniRef50_A0A2A4J498.pt (deflated 7%)\n",
            "  adding: data/token_representations/UniRef50_A0A2T3LKG6.pt (deflated 7%)\n",
            "  adding: data/token_representations/UniRef50_A0A4Y2LHB2.pt (deflated 7%)\n",
            "  adding: data/token_representations/UniRef50_UPI0018E268AE.pt (deflated 7%)\n",
            "  adding: data/token_representations/UniRef50_A0A0S7BWL4.pt (deflated 7%)\n",
            "  adding: data/token_representations/UniRef50_A0A2K3DKX7.pt (deflated 7%)\n",
            "  adding: data/token_representations/UniRef50_UPI0023D88A42.pt (deflated 7%)\n",
            "  adding: data/token_representations/UniRef50_UPI002493F9CE.pt (deflated 7%)\n",
            "  adding: data/token_representations/UniRef50_Q6D739.pt (deflated 7%)\n",
            "  adding: data/token_representations/UniRef50_A0A1D7YFB2.pt (deflated 7%)\n",
            "  adding: data/token_representations/UniRef50_A0A3M7NW39.pt (deflated 7%)\n",
            "  adding: data/token_representations/UniRef50_A0A447GF81.pt (deflated 7%)\n",
            "  adding: data/token_representations/UniRef50_A0A9E3TEA9.pt (deflated 7%)\n",
            "  adding: data/token_representations/UniRef50_A0A238U751.pt (deflated 7%)\n",
            "  adding: data/token_representations/UniRef50_A0A699GDM2.pt (deflated 7%)\n",
            "  adding: data/token_representations/UniRef50_A0A257L5J6.pt (deflated 7%)\n",
            "  adding: data/token_representations/UniRef50_A0A9W2Z3Q4.pt (deflated 7%)\n",
            "  adding: data/token_representations/UniRef50_UPI0011CFB12B.pt (deflated 7%)\n",
            "  adding: data/token_representations/UniRef50_A0A935X215.pt (deflated 7%)\n",
            "  adding: data/token_representations/UniRef50_UPI002076E0DF.pt (deflated 7%)\n",
            "  adding: data/token_representations/UniRef50_A0A6C0IC79.pt (deflated 7%)\n",
            "  adding: data/token_representations/UniRef50_A0A290ZJW3.pt (deflated 7%)\n",
            "  adding: data/token_representations/UniRef50_A0A8C5VJZ9.pt (deflated 7%)\n",
            "  adding: data/token_representations/UniRef50_A0A194QND1.pt (deflated 7%)\n",
            "  adding: data/token_representations/UniRef50_A0A7V6SN40.pt (deflated 7%)\n",
            "  adding: data/token_representations/UniRef50_A0A9V1FJV9.pt (deflated 7%)\n",
            "  adding: data/token_representations/UniRef50_A0A2T2YYR8.pt (deflated 7%)\n",
            "  adding: data/token_representations/UniRef50_A0A9N6ZV77.pt (deflated 7%)\n",
            "  adding: data/token_representations/UniRef50_A0A5B8JLD3.pt (deflated 7%)\n",
            "  adding: data/token_representations/UniRef50_A0A2A5DWF2.pt (deflated 7%)\n",
            "  adding: data/token_representations/UniRef50_UPI000D08C0C4.pt (deflated 7%)\n",
            "  adding: data/token_representations/UniRef50_A0A847GV01.pt (deflated 7%)\n",
            "  adding: data/token_representations/UniRef50_A0A812P0Z2.pt (deflated 7%)\n",
            "  adding: data/token_representations/UniRef50_UPI0021E100C7.pt (deflated 7%)\n",
            "  adding: data/token_representations/UniRef50_A0A401RL00.pt (deflated 7%)\n",
            "  adding: data/token_representations/UniRef50_A0A835Y022.pt (deflated 7%)\n",
            "  adding: data/token_representations/UniRef50_A0A0V1EF89.pt (deflated 7%)\n",
            "  adding: data/token_representations/UniRef50_A0A1I8FTT0.pt (deflated 7%)\n",
            "  adding: data/token_representations/UniRef50_UPI00217567AB.pt (deflated 7%)\n",
            "  adding: data/token_representations/UniRef50_A0A6C2YP91.pt (deflated 7%)\n",
            "  adding: data/token_representations/UniRef50_A0A931ZCQ4.pt (deflated 7%)\n",
            "  adding: data/token_representations/UniRef50_A0A6P7TRK6.pt (deflated 7%)\n",
            "  adding: data/token_representations/UniRef50_A0A2Y9R0M8.pt (deflated 7%)\n",
            "  adding: data/token_representations/UniRef50_A0A7E4VTI0.pt (deflated 7%)\n",
            "  adding: data/token_representations/UniRef50_A0A2M6UYL9.pt (deflated 7%)\n",
            "  adding: data/token_representations/UniRef50_A0A7M7KZI6.pt (deflated 7%)\n",
            "  adding: data/token_representations/UniRef50_A0A1Y1I2E5.pt (deflated 7%)\n",
            "  adding: data/token_representations/UniRef50_A0A3Q3NQ34.pt (deflated 7%)\n",
            "  adding: data/token_representations/UniRef50_A0A9D4E9N7.pt (deflated 8%)\n",
            "  adding: data/token_representations/UniRef50_A0A078AZ98.pt (deflated 7%)\n",
            "  adding: data/token_representations/UniRef50_A0A5A8CSG4.pt (deflated 7%)\n",
            "  adding: data/token_representations/UniRef50_A0A518HP73.pt (deflated 7%)\n",
            "  adding: data/token_representations/UniRef50_A0A8J2EEX1.pt (deflated 7%)\n",
            "  adding: data/token_representations/UniRef50_A0A1K2FNM4.pt (deflated 7%)\n",
            "  adding: data/token_representations/UniRef50_UPI0012F628E1.pt (deflated 7%)\n",
            "  adding: data/token_representations/UniRef50_A0A1Q8CW42.pt (deflated 7%)\n",
            "  adding: data/token_representations/UniRef50_UPI00174D66BE.pt (deflated 7%)\n",
            "  adding: data/token_representations/UniRef50_A0A931SR47.pt (deflated 7%)\n",
            "  adding: data/token_representations/UniRef50_B6A9B5.pt (deflated 7%)\n",
            "  adding: data/token_representations/UniRef50_A0A8H7BV09.pt (deflated 7%)\n",
            "  adding: data/token_representations/UniRef50_A0A0L6JLW5.pt (deflated 7%)\n",
            "  adding: data/token_representations/UniRef50_UPI001115B58D.pt (deflated 7%)\n",
            "  adding: data/token_representations/UniRef50_A0A0R3UJQ6.pt (deflated 7%)\n",
            "  adding: data/token_representations/UniRef50_A0A154PPM1.pt (deflated 7%)\n",
            "  adding: data/token_representations/UniRef50_Q9UB28.pt (deflated 7%)\n",
            "  adding: data/token_representations/UniRef50_UPI001E445E21.pt (deflated 7%)\n",
            "  adding: data/token_representations/UniRef50_A0A7C6TN67.pt (deflated 7%)\n",
            "  adding: data/token_representations/UniRef50_Q4Q7B3.pt (deflated 7%)\n",
            "  adding: data/token_representations/UniRef50_A0A182WHD9.pt (deflated 7%)\n",
            "  adding: data/token_representations/UniRef50_A0A1S2MNK2.pt (deflated 7%)\n",
            "  adding: data/token_representations/UniRef50_A0A318Y3G2.pt (deflated 7%)\n",
            "  adding: data/token_representations/UniRef50_A0A1H9JRW0.pt (deflated 7%)\n",
            "  adding: data/token_representations/UniRef50_A0A229SCB7.pt (deflated 7%)\n",
            "  adding: data/token_representations/UniRef50_S5TP53.pt (deflated 7%)\n",
            "  adding: data/token_representations/UniRef50_A0A0D2LF56.pt (deflated 7%)\n",
            "  adding: data/token_representations/UniRef50_A0A125S480.pt (deflated 7%)\n",
            "  adding: data/token_representations/UniRef50_UPI00234F64E4.pt (deflated 7%)\n",
            "  adding: data/token_representations/UniRef50_UPI001AF41B7A.pt (deflated 7%)\n",
            "  adding: data/token_representations/UniRef50_C1DIQ6.pt (deflated 7%)\n",
            "  adding: data/token_representations/UniRef50_UPI0013798FD6.pt (deflated 7%)\n",
            "  adding: data/token_representations/UniRef50_A0A1Q8JJI1.pt (deflated 7%)\n",
            "  adding: data/token_representations/UniRef50_UPI0019396AAE.pt (deflated 7%)\n",
            "  adding: data/token_representations/UniRef50_A0A3B9ZI37.pt (deflated 7%)\n",
            "  adding: data/token_representations/UniRef50_A0A2K1R332.pt (deflated 7%)\n",
            "  adding: data/token_representations/UniRef50_A0A514JMH2.pt (deflated 7%)\n",
            "  adding: data/token_representations/UniRef50_A0A553NXX6.pt (deflated 7%)\n",
            "  adding: data/token_representations/UniRef50_A0A074ZVY9.pt (deflated 7%)\n",
            "  adding: data/token_representations/UniRef50_A0A1A9BCQ6.pt (deflated 7%)\n",
            "  adding: data/token_representations/UniRef50_A0A817U3P7.pt (deflated 7%)\n",
            "  adding: data/token_representations/UniRef50_A0A935G6Z7.pt (deflated 7%)\n",
            "  adding: data/token_representations/UniRef50_A0A7D8ULE2.pt (deflated 7%)\n",
            "  adding: data/token_representations/UniRef50_A0A0L0CHI6.pt (deflated 7%)\n",
            "  adding: data/token_representations/UniRef50_Q7Z5P9.pt (deflated 7%)\n",
            "  adding: data/token_representations/UniRef50_UPI000580B8CE.pt (deflated 7%)\n",
            "  adding: data/token_representations/UniRef50_UPI001CF4ED62.pt (deflated 7%)\n",
            "  adding: data/token_representations/UniRef50_A0A7C4I8S6.pt (deflated 7%)\n",
            "  adding: data/token_representations/UniRef50_UPI00193A61B8.pt (deflated 7%)\n",
            "  adding: data/token_representations/UniRef50_A0A939FS36.pt (deflated 7%)\n",
            "  adding: data/token_representations/UniRef50_UPI0023EB2218.pt (deflated 7%)\n",
            "  adding: data/token_representations/UniRef50_UPI00187DAAE9.pt (deflated 7%)\n",
            "  adding: data/token_representations/UniRef50_A0A365ZSN5.pt (deflated 7%)\n",
            "  adding: data/token_representations/UniRef50_A0A327JTC8.pt (deflated 7%)\n",
            "  adding: data/token_representations/UniRef50_A0A067R2N5.pt (deflated 7%)\n",
            "  adding: data/token_representations/UniRef50_UPI0023E255DF.pt (deflated 7%)\n",
            "  adding: data/token_representations/UniRef50_A0A7R9P609.pt (deflated 7%)\n",
            "  adding: data/token_representations/UniRef50_A0A074RZD5.pt (deflated 7%)\n",
            "  adding: data/token_representations/UniRef50_A0A9N9SD29.pt (deflated 7%)\n",
            "  adding: data/token_representations/UniRef50_UPI0010A20A6E.pt (deflated 7%)\n",
            "  adding: data/token_representations/UniRef50_A0A836CTH6.pt (deflated 7%)\n",
            "  adding: data/token_representations/UniRef50_UPI00188591E6.pt (deflated 7%)\n",
            "  adding: data/token_representations/UniRef50_A0A2T7U8W6.pt (deflated 7%)\n",
            "  adding: data/token_representations/UniRef50_UPI0022551E5B.pt (deflated 7%)\n",
            "  adding: data/token_representations/UniRef50_UPI00083C611E.pt (deflated 7%)\n",
            "  adding: data/token_representations/UniRef50_UPI001BADD683.pt (deflated 7%)\n",
            "  adding: data/token_representations/UniRef50_UPI000C759158.pt (deflated 7%)\n",
            "  adding: data/token_representations/UniRef50_A0A7M7NZK7.pt (deflated 7%)\n",
            "  adding: data/token_representations/UniRef50_A0A6I8RGP7.pt (deflated 7%)\n",
            "  adding: data/token_representations/UniRef50_A0A5C6B3J4.pt (deflated 7%)\n",
            "  adding: data/token_representations/UniRef50_A7S1V5.pt (deflated 7%)\n",
            "  adding: data/token_representations/UniRef50_UPI0025DFCBC4.pt (deflated 7%)\n",
            "  adding: data/token_representations/UniRef50_A0A8J4X3M1.pt (deflated 7%)\n",
            "  adding: data/token_representations/UniRef50_A0A5N6KG77.pt (deflated 7%)\n",
            "  adding: data/token_representations/UniRef50_A0A0K2U4L5.pt (deflated 7%)\n",
            "  adding: data/token_representations/UniRef50_UPI001F176D7C.pt (deflated 7%)\n",
            "  adding: data/token_representations/UniRef50_UPI00193AC2A5.pt (deflated 7%)\n",
            "  adding: data/token_representations/UniRef50_M2ZQW8.pt (deflated 7%)\n",
            "  adding: data/token_representations/UniRef50_UPI00148AD552.pt (deflated 7%)\n",
            "  adding: data/token_representations/UniRef50_A0A2B4SXZ3.pt (deflated 7%)\n",
            "  adding: data/token_representations/UniRef50_A0A561U3D4.pt (deflated 7%)\n",
            "  adding: data/token_representations/UniRef50_A0A1H0AXW8.pt (deflated 7%)\n",
            "  adding: data/token_representations/UniRef50_UPI0021B7F728.pt (deflated 7%)\n",
            "  adding: data/token_representations/UniRef50_C3Y0N1.pt (deflated 7%)\n",
            "  adding: data/token_representations/UniRef50_UPI000F8F1F23.pt (deflated 7%)\n",
            "  adding: data/token_representations/UniRef50_A0A9W6F0B8.pt (deflated 7%)\n",
            "  adding: data/token_representations/UniRef50_UPI0021F7A7CE.pt (deflated 7%)\n",
            "  adding: data/token_representations/UniRef50_A0A8J1XR23.pt (deflated 7%)\n",
            "  adding: data/token_representations/UniRef50_A0A368NRS4.pt (deflated 7%)\n",
            "  adding: data/token_representations/UniRef50_UPI00083C26B6.pt (deflated 7%)\n",
            "  adding: data/token_representations/UniRef50_UPI0022AC39D3.pt (deflated 7%)\n",
            "  adding: data/token_representations/UniRef50_A0A553N1X6.pt (deflated 7%)\n",
            "  adding: data/token_representations/UniRef50_A0A401SHF7.pt (deflated 7%)\n",
            "  adding: data/token_representations/UniRef50_A0A8H5R3T5.pt (deflated 7%)\n",
            "  adding: data/token_representations/UniRef50_A0A813PFR4.pt (deflated 7%)\n",
            "  adding: data/token_representations/UniRef50_UPI001B88CBD1.pt (deflated 7%)\n",
            "  adding: data/token_representations/UniRef50_UPI000CEA8B0E.pt (deflated 7%)\n",
            "  adding: data/token_representations/UniRef50_A0A6P7JUA1.pt (deflated 7%)\n",
            "  adding: data/token_representations/UniRef50_A0A7E6EZI8.pt (deflated 7%)\n",
            "  adding: data/token_representations/UniRef50_UPI0021DF564C.pt (deflated 7%)\n",
            "  adding: data/token_representations/UniRef50_A0A9P0IUL0.pt (deflated 7%)\n",
            "  adding: data/token_representations/UniRef50_W9HZA3.pt (deflated 7%)\n",
            "  adding: data/token_representations/UniRef50_F0V7S6.pt (deflated 7%)\n",
            "  adding: data/token_representations/UniRef50_W6V2K4.pt (deflated 7%)\n",
            "  adding: data/token_representations/UniRef50_A0A9W6BIW3.pt (deflated 7%)\n",
            "  adding: data/token_representations/UniRef50_UPI0022E707F0.pt (deflated 7%)\n",
            "  adding: data/token_representations/UniRef50_A0A935X7F7.pt (deflated 7%)\n",
            "  adding: data/token_representations/UniRef50_A0A1B1K1H0.pt (deflated 7%)\n",
            "  adding: data/token_representations/UniRef50_A0A4Z1D981.pt (deflated 7%)\n",
            "  adding: data/token_representations/UniRef50_P21817.pt (deflated 7%)\n",
            "  adding: data/token_representations/UniRef50_A0A8B6H779.pt (deflated 7%)\n",
            "  adding: data/token_representations/UniRef50_A0A7M2WYY7.pt (deflated 7%)\n",
            "  adding: data/token_representations/UniRef50_UPI0015E3C0A3.pt (deflated 7%)\n",
            "  adding: data/token_representations/UniRef50_UPI0021C5BA7C.pt (deflated 7%)\n",
            "  adding: data/token_representations/UniRef50_UPI002604ACD5.pt (deflated 7%)\n",
            "  adding: data/token_representations/UniRef50_UPI0025B467C2.pt (deflated 7%)\n",
            "  adding: data/token_representations/UniRef50_UPI001C08277E.pt (deflated 7%)\n",
            "  adding: data/token_representations/UniRef50_A0A094ZXW1.pt (deflated 7%)\n",
            "  adding: data/token_representations/UniRef50_UPI002484FC27.pt (deflated 7%)\n",
            "  adding: data/token_representations/UniRef50_A0A7S7UTD7.pt (deflated 7%)\n",
            "  adding: data/token_representations/UniRef50_UPI00201ED964.pt (deflated 7%)\n",
            "  adding: data/token_representations/UniRef50_UPI0013EE38F5.pt (deflated 7%)\n",
            "  adding: data/token_representations/UniRef50_A0A7W7FVE9.pt (deflated 7%)\n",
            "  adding: data/token_representations/UniRef50_A0A7E5VC10.pt (deflated 7%)\n",
            "  adding: data/token_representations/UniRef50_A0A0B4K7U9.pt (deflated 7%)\n",
            "  adding: data/token_representations/UniRef50_UPI00193CD0CC.pt (deflated 7%)\n",
            "  adding: data/token_representations/UniRef50_A0A0K0EP58.pt (deflated 7%)\n",
            "  adding: data/token_representations/UniRef50_A0A5J4YRP8.pt (deflated 7%)\n",
            "  adding: data/token_representations/UniRef50_UPI001EF7D8A1.pt (deflated 7%)\n",
            "  adding: data/token_representations/UniRef50_A2DVQ8.pt (deflated 7%)\n",
            "  adding: data/token_representations/UniRef50_A0A9N9VDJ2.pt (deflated 7%)\n",
            "  adding: data/token_representations/UniRef50_A0A2J8B175.pt (deflated 7%)\n",
            "  adding: data/token_representations/UniRef50_A0A7M1RU68.pt (deflated 7%)\n",
            "  adding: data/token_representations/UniRef50_A0A955A6Q6.pt (deflated 7%)\n",
            "  adding: data/token_representations/UniRef50_B1Q2K3.pt (deflated 7%)\n",
            "  adding: data/token_representations/UniRef50_A0A3A8QGW7.pt (deflated 7%)\n",
            "  adding: data/token_representations/UniRef50_A2CLL2.pt (deflated 7%)\n",
            "  adding: data/token_representations/UniRef50_UPI0024E0E4A7.pt (deflated 7%)\n",
            "  adding: data/token_representations/UniRef50_A7S1G0.pt (deflated 7%)\n",
            "  adding: data/token_representations/UniRef50_A0A317DTT7.pt (deflated 7%)\n",
            "  adding: data/token_representations/UniRef50_A0A1J7BUM7.pt (deflated 7%)\n",
            "  adding: data/token_representations/UniRef50_UPI00245423D2.pt (deflated 7%)\n",
            "  adding: data/token_representations/UniRef50_A0A7C6PWM6.pt (deflated 7%)\n",
            "  adding: data/token_representations/UniRef50_A0A6P1CYV2.pt (deflated 8%)\n",
            "  adding: data/token_representations/UniRef50_A0A2C6L1U9.pt (deflated 7%)\n",
            "  adding: data/token_representations/UniRef50_A0A813GJV6.pt (deflated 7%)\n",
            "  adding: data/token_representations/UniRef50_A0A8J2EX87.pt (deflated 7%)\n",
            "  adding: data/token_representations/UniRef50_A0A2D7QLT4.pt (deflated 7%)\n",
            "  adding: data/token_representations/UniRef50_A0A086SYD8.pt (deflated 7%)\n",
            "  adding: data/token_representations/UniRef50_A0A4U5V7B6.pt (deflated 7%)\n",
            "  adding: data/token_representations/UniRef50_A0A067N770.pt (deflated 7%)\n",
            "  adding: data/token_representations/UniRef50_UPI00254CD52E.pt (deflated 7%)\n",
            "  adding: data/token_representations/UniRef50_A0A6P8FD03.pt (deflated 7%)\n",
            "  adding: data/token_representations/UniRef50_A0A267FV83.pt (deflated 7%)\n",
            "  adding: data/token_representations/UniRef50_A0A699GET2.pt (deflated 7%)\n",
            "  adding: data/token_representations/UniRef50_A0A514ZS59.pt (deflated 7%)\n",
            "  adding: data/token_representations/UniRef50_A0A891H7A9.pt (deflated 7%)\n",
            "  adding: data/token_representations/UniRef50_UPI00248659FB.pt (deflated 7%)\n",
            "  adding: data/token_representations/UniRef50_A0A0N0UZG6.pt (deflated 7%)\n",
            "  adding: data/token_representations/UniRef50_A0A5N5N5S2.pt (deflated 7%)\n",
            "  adding: data/token_representations/UniRef50_A0A850J031.pt (deflated 7%)\n",
            "  adding: data/token_representations/UniRef50_A0A1M6YYL3.pt (deflated 8%)\n",
            "  adding: data/token_representations/UniRef50_UPI0016417161.pt (deflated 7%)\n",
            "  adding: data/token_representations/UniRef50_A0A4W6G954.pt (deflated 7%)\n",
            "  adding: data/token_representations/UniRef50_A5K2B3.pt (deflated 7%)\n",
            "  adding: data/token_representations/UniRef50_A0A9Q1E557.pt (deflated 7%)\n",
            "  adding: data/token_representations/UniRef50_A0A848LB03.pt (deflated 7%)\n",
            "  adding: data/token_representations/UniRef50_C5B5E2.pt (deflated 7%)\n",
            "  adding: data/token_representations/UniRef50_UPI0018F21EAE.pt (deflated 7%)\n",
            "  adding: data/token_representations/UniRef50_A0A8J6ADN1.pt (deflated 7%)\n",
            "  adding: data/token_representations/UniRef50_S4PRA2.pt (deflated 8%)\n",
            "  adding: data/token_representations/UniRef50_A0A7E4UMN5.pt (deflated 7%)\n",
            "  adding: data/token_representations/UniRef50_UPI00193A98AF.pt (deflated 7%)\n",
            "  adding: data/token_representations/UniRef50_A0A2E2SUR5.pt (deflated 7%)\n",
            "  adding: data/token_representations/UniRef50_A0A4W5PZ22.pt (deflated 7%)\n",
            "  adding: data/token_representations/UniRef50_A0A2J0KUL9.pt (deflated 7%)\n",
            "  adding: data/token_representations/UniRef50_A0A930UGQ3.pt (deflated 7%)\n",
            "  adding: data/token_representations/UniRef50_A0A1A8ZHW9.pt (deflated 7%)\n",
            "  adding: data/token_representations/UniRef50_A0A1Q9DVN0.pt (deflated 7%)\n",
            "  adding: data/token_representations/UniRef50_A0A1R2CAW9.pt (deflated 7%)\n",
            "  adding: data/token_representations/UniRef50_A0A395JIQ2.pt (deflated 7%)\n",
            "  adding: data/token_representations/UniRef50_Q8R0W0.pt (deflated 7%)\n",
            "  adding: data/token_representations/UniRef50_A0A7Y4VDV2.pt (deflated 7%)\n",
            "  adding: data/token_representations/UniRef50_A0A812C2P8.pt (deflated 7%)\n",
            "  adding: data/token_representations/UniRef50_A0A9P9IAI5.pt (deflated 7%)\n",
            "  adding: data/token_representations/UniRef50_A0A8S4EHI7.pt (deflated 7%)\n",
            "  adding: data/token_representations/UniRef50_A0A946SK81.pt (deflated 7%)\n",
            "  adding: data/token_representations/UniRef50_A0A937G3Z5.pt (deflated 7%)\n",
            "  adding: data/token_representations/UniRef50_A0A0F8BWK8.pt (deflated 7%)\n",
            "  adding: data/token_representations/UniRef50_A0A8J7Q2G1.pt (deflated 7%)\n",
            "  adding: data/token_representations/UniRef50_UPI0006B5BBF1.pt (deflated 7%)\n",
            "  adding: data/token_representations/UniRef50_UPI0008113A62.pt (deflated 7%)\n",
            "  adding: data/token_representations/UniRef50_A0A370EJN7.pt (deflated 7%)\n",
            "  adding: data/token_representations/UniRef50_A0A240FW11.pt (deflated 7%)\n",
            "  adding: data/token_representations/UniRef50_UPI0024787912.pt (deflated 7%)\n",
            "  adding: data/token_representations/UniRef50_A0A2B4RMM5.pt (deflated 7%)\n",
            "  adding: data/token_representations/UniRef50_E3JBU2.pt (deflated 7%)\n",
            "  adding: data/token_representations/UniRef50_A0A4U1W5P9.pt (deflated 7%)\n",
            "  adding: data/token_representations/UniRef50_UPI001ADE6699.pt (deflated 7%)\n",
            "  adding: data/token_representations/UniRef50_UPI0025A4F068.pt (deflated 7%)\n",
            "  adding: data/token_representations/UniRef50_UPI0024C321CA.pt (deflated 7%)\n",
            "  adding: data/token_representations/UniRef50_A0A6C1C6U1.pt (deflated 7%)\n",
            "  adding: data/token_representations/UniRef50_A0A2H0LPL7.pt (deflated 7%)\n",
            "  adding: data/token_representations/UniRef50_A0A9P0ARQ8.pt (deflated 7%)\n",
            "  adding: data/token_representations/UniRef50_A0A379DN98.pt (deflated 7%)\n",
            "  adding: data/token_representations/UniRef50_A0A8K9X683.pt (deflated 7%)\n",
            "  adding: data/token_representations/UniRef50_A0A0B7KRH2.pt (deflated 7%)\n",
            "  adding: data/token_representations/UniRef50_A0A7J6BZK3.pt (deflated 7%)\n",
            "  adding: data/token_representations/UniRef50_D2VUD4.pt (deflated 7%)\n",
            "  adding: data/token_representations/UniRef50_A0A7M7SS90.pt (deflated 7%)\n",
            "  adding: data/token_representations/UniRef50_A0A9E2MP38.pt (deflated 7%)\n",
            "  adding: data/token_representations/UniRef50_A0A7L5SM23.pt (deflated 7%)\n",
            "  adding: data/token_representations/UniRef50_A0A085MCS2.pt (deflated 7%)\n",
            "  adding: data/token_representations/UniRef50_A0A3M7MGS0.pt (deflated 7%)\n",
            "  adding: data/token_representations/UniRef50_UPI001F5040CB.pt (deflated 7%)\n",
            "  adding: data/token_representations/UniRef50_A0A6C0EDW2.pt (deflated 7%)\n",
            "  adding: data/token_representations/UniRef50_UPI0020C2F05D.pt (deflated 7%)\n",
            "  adding: data/token_representations/UniRef50_A0A9X0CCM7.pt (deflated 7%)\n",
            "  adding: data/token_representations/UniRef50_UPI0020CADAAE.pt (deflated 7%)\n",
            "  adding: data/token_representations/UniRef50_UPI0021107AB5.pt (deflated 7%)\n",
            "  adding: data/token_representations/UniRef50_UPI0025B42CCD.pt (deflated 7%)\n",
            "  adding: data/token_representations/UniRef50_A0A8H7J630.pt (deflated 7%)\n",
            "  adding: data/token_representations/UniRef50_UPI001FBBF165.pt (deflated 7%)\n",
            "  adding: data/token_representations/UniRef50_UPI001CCF9C95.pt (deflated 7%)\n",
            "  adding: data/token_representations/UniRef50_UPI0013D1D4FA.pt (deflated 7%)\n",
            "  adding: data/token_representations/UniRef50_UPI0021D405E4.pt (deflated 7%)\n",
            "  adding: data/token_representations/UniRef50_UPI00263ADBFD.pt (deflated 7%)\n",
            "  adding: data/token_representations/UniRef50_A0A6S6YJZ9.pt (deflated 7%)\n",
            "  adding: data/token_representations/UniRef50_K3WF50.pt (deflated 7%)\n",
            "  adding: data/token_representations/UniRef50_A0A949QGY5.pt (deflated 7%)\n",
            "  adding: data/token_representations/UniRef50_UPI0019650007.pt (deflated 7%)\n",
            "  adding: data/token_representations/UniRef50_A0A5B9MRJ3.pt (deflated 7%)\n",
            "  adding: data/token_representations/UniRef50_Q2W1P9.pt (deflated 7%)\n",
            "  adding: data/token_representations/UniRef50_A0A1B9R5N6.pt (deflated 7%)\n",
            "  adding: data/token_representations/UniRef50_A0A078AL50.pt (deflated 7%)\n",
            "  adding: data/token_representations/UniRef50_UPI0023ED3E3F.pt (deflated 7%)\n",
            "  adding: data/token_representations/UniRef50_A0A7J6BW33.pt (deflated 7%)\n",
            "  adding: data/token_representations/UniRef50_A0A250X0B3.pt (deflated 7%)\n",
            "  adding: data/token_representations/UniRef50_A0A1Q9CPE7.pt (deflated 7%)\n",
            "  adding: data/token_representations/UniRef50_UPI000C254060.pt (deflated 7%)\n",
            "  adding: data/token_representations/UniRef50_A0A934QQM6.pt (deflated 7%)\n",
            "  adding: data/token_representations/UniRef50_UPI00209C62E3.pt (deflated 7%)\n",
            "  adding: data/token_representations/UniRef50_A0A2V0PDE2.pt (deflated 7%)\n",
            "  adding: data/token_representations/UniRef50_A0A7J6P6Q5.pt (deflated 7%)\n",
            "  adding: data/token_representations/UniRef50_A0A1L9U705.pt (deflated 7%)\n",
            "  adding: data/token_representations/UniRef50_A0A850KE49.pt (deflated 7%)\n",
            "  adding: data/token_representations/UniRef50_UPI000718C91E.pt (deflated 7%)\n",
            "  adding: data/token_representations/UniRef50_A0A1J1GN45.pt (deflated 7%)\n",
            "  adding: data/token_representations/UniRef50_A0A6P8IJF5.pt (deflated 7%)\n",
            "  adding: data/token_representations/UniRef50_A0A172U822.pt (deflated 7%)\n",
            "  adding: data/token_representations/UniRef50_A0A7H8PLL1.pt (deflated 7%)\n",
            "  adding: data/token_representations/UniRef50_A0A0L6TD89.pt (deflated 7%)\n",
            "  adding: data/token_representations/UniRef50_UPI000C1FF671.pt (deflated 7%)\n",
            "  adding: data/token_representations/UniRef50_A0A3A9Z1X3.pt (deflated 7%)\n",
            "  adding: data/token_representations/UniRef50_A0A3M1SEQ2.pt (deflated 7%)\n",
            "  adding: data/token_representations/UniRef50_A0A1E4ZID5.pt (deflated 7%)\n",
            "  adding: data/token_representations/UniRef50_A0A7Y3NU39.pt (deflated 7%)\n",
            "  adding: data/token_representations/UniRef50_UPI0024741037.pt (deflated 7%)\n",
            "  adding: data/token_representations/UniRef50_UPI0024AFE6E7.pt (deflated 7%)\n",
            "  adding: data/token_representations/UniRef50_A0A1V2TK99.pt (deflated 7%)\n",
            "  adding: data/token_representations/UniRef50_UPI0021E43E01.pt (deflated 7%)\n",
            "  adding: data/token_representations/UniRef50_A0A480B038.pt (deflated 7%)\n",
            "  adding: data/token_representations/UniRef50_A0A2N3Y845.pt (deflated 7%)\n",
            "  adding: data/token_representations/UniRef50_UPI000877B8A9.pt (deflated 7%)\n",
            "  adding: data/token_representations/UniRef50_R9GUR9.pt (deflated 7%)\n",
            "  adding: data/token_representations/UniRef50_A0A2A4K999.pt (deflated 7%)\n",
            "  adding: data/token_representations/UniRef50_A0A2K8VCE0.pt (deflated 7%)\n",
            "  adding: data/token_representations/UniRef50_UPI0024B1CA21.pt (deflated 7%)\n",
            "  adding: data/token_representations/UniRef50_UPI001962E243.pt (deflated 7%)\n",
            "  adding: data/token_representations/UniRef50_A0A9P6RMF0.pt (deflated 7%)\n",
            "  adding: data/token_representations/UniRef50_A0A8A3S5X8.pt (deflated 7%)\n",
            "  adding: data/token_representations/UniRef50_A0A8N5I4Q9.pt (deflated 7%)\n",
            "  adding: data/token_representations/UniRef50_UPI00271540E8.pt (deflated 7%)\n",
            "  adding: data/token_representations/UniRef50_O75592.pt (deflated 7%)\n",
            "  adding: data/token_representations/UniRef50_A0A4S2KA88.pt (deflated 7%)\n",
            "  adding: data/token_representations/UniRef50_A0A1B9EXM1.pt (deflated 7%)\n",
            "  adding: data/token_representations/UniRef50_A0A1T4Y876.pt (deflated 7%)\n",
            "  adding: data/token_representations/UniRef50_A0A430HHV6.pt (deflated 7%)\n",
            "  adding: data/token_representations/UniRef50_UPI00034C190A.pt (deflated 7%)\n",
            "  adding: data/token_representations/UniRef50_A0A5B7ULK3.pt (deflated 7%)\n",
            "  adding: data/token_representations/UniRef50_U6LLY4.pt (deflated 7%)\n",
            "  adding: data/token_representations/UniRef50_A0A1Y1WWE9.pt (deflated 7%)\n",
            "  adding: data/token_representations/UniRef50_UPI0014259530.pt (deflated 7%)\n",
            "  adding: data/token_representations/UniRef50_A0A699GEL7.pt (deflated 7%)\n",
            "  adding: data/token_representations/UniRef50_A0A1G5XJM3.pt (deflated 7%)\n",
            "  adding: data/token_representations/UniRef50_A0A6H1K360.pt (deflated 7%)\n",
            "  adding: data/token_representations/UniRef50_N8W441.pt (deflated 7%)\n",
            "  adding: data/token_representations/UniRef50_A0A1G1KW23.pt (deflated 7%)\n",
            "  adding: data/token_representations/UniRef50_UPI00263B550B.pt (deflated 7%)\n",
            "  adding: data/token_representations/UniRef50_A0A847GXP1.pt (deflated 7%)\n",
            "  adding: data/token_representations/UniRef50_UPI00235962FD.pt (deflated 7%)\n",
            "  adding: data/token_representations/UniRef50_A0A1D7QJA9.pt (deflated 7%)\n",
            "  adding: data/token_representations/UniRef50_A0A8H5K222.pt (deflated 7%)\n",
            "  adding: data/token_representations/UniRef50_UPI00207772A7.pt (deflated 7%)\n",
            "  adding: data/token_representations/UniRef50_A0A7E6FEQ6.pt (deflated 7%)\n",
            "  adding: data/token_representations/UniRef50_A0A6S6WI43.pt (deflated 7%)\n",
            "  adding: data/token_representations/UniRef50_A0A9P0DWB3.pt (deflated 7%)\n",
            "  adding: data/token_representations/UniRef50_A0A345T6P9.pt (deflated 7%)\n",
            "  adding: data/token_representations/UniRef50_A0A7I8V6L2.pt (deflated 7%)\n",
            "  adding: data/token_representations/UniRef50_A0A1Q9CHP1.pt (deflated 7%)\n",
            "  adding: data/token_representations/UniRef50_UPI000C1B7ADB.pt (deflated 7%)\n",
            "  adding: data/token_representations/UniRef50_A0A1I5SEQ0.pt (deflated 7%)\n",
            "  adding: data/token_representations/UniRef50_J9I6L1.pt (deflated 7%)\n",
            "  adding: data/token_representations/UniRef50_A0A1L2FNM0.pt (deflated 7%)\n",
            "  adding: data/token_representations/UniRef50_A0A6G1QPL4.pt (deflated 7%)\n",
            "  adding: data/token_representations/UniRef50_E0VNW6.pt (deflated 7%)\n",
            "  adding: data/token_representations/UniRef50_A0A5N7DT62.pt (deflated 7%)\n",
            "  adding: data/token_representations/UniRef50_UPI0020C707BF.pt (deflated 7%)\n",
            "  adding: data/token_representations/UniRef50_S7W2X6.pt (deflated 7%)\n",
            "  adding: data/token_representations/UniRef50_A0A3M7TJ62.pt (deflated 7%)\n",
            "  adding: data/token_representations/UniRef50_UPI000BA80373.pt (deflated 7%)\n",
            "  adding: data/token_representations/UniRef50_UPI00254F98DA.pt (deflated 7%)\n",
            "  adding: data/token_representations/UniRef50_UPI001C3FF1FE.pt (deflated 7%)\n",
            "  adding: data/token_representations/UniRef50_A0A815F4K4.pt (deflated 7%)\n",
            "  adding: data/token_representations/UniRef50_UPI00234E68A8.pt (deflated 7%)\n",
            "  adding: data/token_representations/UniRef50_A0A5A8DKI3.pt (deflated 7%)\n",
            "  adding: data/token_representations/UniRef50_A0A1H0X3A3.pt (deflated 7%)\n",
            "  adding: data/token_representations/UniRef50_A0A2P9BTC8.pt (deflated 7%)\n",
            "  adding: data/token_representations/UniRef50_A0A2P9BVU4.pt (deflated 7%)\n",
            "  adding: data/token_representations/UniRef50_A0A8C3ARP2.pt (deflated 7%)\n",
            "  adding: data/token_representations/UniRef50_A0A480NE76.pt (deflated 7%)\n",
            "  adding: data/token_representations/UniRef50_UPI002264C7DB.pt (deflated 7%)\n",
            "  adding: data/token_representations/UniRef50_UPI00223E50DC.pt (deflated 7%)\n",
            "  adding: data/token_representations/UniRef50_A0A6A5DDP4.pt (deflated 7%)\n",
            "  adding: data/token_representations/UniRef50_A0A402A6V9.pt (deflated 7%)\n",
            "  adding: data/token_representations/UniRef50_UPI001314E6FC.pt (deflated 7%)\n",
            "  adding: data/token_representations/UniRef50_A0A0D9QR39.pt (deflated 7%)\n",
            "  adding: data/token_representations/UniRef50_A0A261GGA0.pt (deflated 7%)\n",
            "  adding: data/token_representations/UniRef50_A0A2T0SM72.pt (deflated 7%)\n",
            "  adding: data/token_representations/UniRef50_A0A0J9Y2Q0.pt (deflated 7%)\n",
            "  adding: data/token_representations/UniRef50_UPI002543EAFF.pt (deflated 7%)\n",
            "  adding: data/token_representations/UniRef50_A0A2K9NLE6.pt (deflated 7%)\n",
            "  adding: data/token_representations/UniRef50_A0A1F6LMH8.pt (deflated 7%)\n",
            "  adding: data/token_representations/UniRef50_A0A8K0EQ40.pt (deflated 7%)\n",
            "  adding: data/token_representations/UniRef50_A0A935XAZ1.pt (deflated 7%)\n",
            "  adding: data/token_representations/UniRef50_A0A2S6XVK1.pt (deflated 7%)\n",
            "  adding: data/token_representations/UniRef50_A0A210PVF6.pt (deflated 7%)\n",
            "  adding: data/token_representations/UniRef50_A0A1J1HZD3.pt (deflated 7%)\n",
            "  adding: data/token_representations/UniRef50_UPI001658B34B.pt (deflated 7%)\n",
            "  adding: data/token_representations/UniRef50_UPI00158C894E.pt (deflated 7%)\n",
            "  adding: data/token_representations/UniRef50_A0A250BCD8.pt (deflated 7%)\n",
            "  adding: data/token_representations/UniRef50_UPI00082DCEE1.pt (deflated 7%)\n",
            "  adding: data/token_representations/UniRef50_A0A6G9YRG0.pt (deflated 7%)\n",
            "  adding: data/token_representations/UniRef50_A0A2C6KN65.pt (deflated 7%)\n",
            "  adding: data/token_representations/UniRef50_A0A8T4L4T3.pt (deflated 7%)\n",
            "  adding: data/token_representations/UniRef50_H0KC13.pt (deflated 7%)\n",
            "  adding: data/token_representations/UniRef50_Q685J3.pt (deflated 7%)\n",
            "  adding: data/token_representations/UniRef50_UPI0024589C8C.pt (deflated 7%)\n",
            "  adding: data/token_representations/UniRef50_A0A9N9TXY1.pt (deflated 7%)\n",
            "  adding: data/token_representations/UniRef50_A0A0E3UNM8.pt (deflated 7%)\n",
            "  adding: data/token_representations/UniRef50_A0A8A5DAZ9.pt (deflated 7%)\n",
            "  adding: data/token_representations/UniRef50_A0A1A9F157.pt (deflated 7%)\n",
            "  adding: data/token_representations/UniRef50_A0A0D1BY56.pt (deflated 7%)\n",
            "  adding: data/token_representations/UniRef50_A0A2E3GZ32.pt (deflated 7%)\n",
            "  adding: data/token_representations/UniRef50_A0A9D3NQR7.pt (deflated 7%)\n",
            "  adding: data/token_representations/UniRef50_Q4U446.pt (deflated 7%)\n",
            "  adding: data/token_representations/UniRef50_UPI002472ECC9.pt (deflated 7%)\n",
            "  adding: data/token_representations/UniRef50_A0A8J3BSG2.pt (deflated 7%)\n",
            "  adding: data/token_representations/UniRef50_A0A835Y0T7.pt (deflated 7%)\n",
            "  adding: data/token_representations/UniRef50_A0A916BWX6.pt (deflated 7%)\n",
            "  adding: data/token_representations/UniRef50_A0A6A5E689.pt (deflated 7%)\n",
            "  adding: data/token_representations/UniRef50_A0A7K0DK09.pt (deflated 7%)\n",
            "  adding: data/token_representations/UniRef50_A0A183N2L7.pt (deflated 8%)\n",
            "  adding: data/token_representations/UniRef50_A0A0B6VM94.pt (deflated 7%)\n",
            "  adding: data/token_representations/UniRef50_A0A9D4NQP1.pt (deflated 7%)\n",
            "  adding: data/token_representations/UniRef50_A0A5B9R3Y2.pt (deflated 7%)\n",
            "  adding: data/token_representations/UniRef50_UPI001AEDCCBE.pt (deflated 7%)\n",
            "  adding: data/token_representations/UniRef50_UPI001CFA982B.pt (deflated 7%)\n",
            "  adding: data/token_representations/UniRef50_A0A2K6EXA6.pt (deflated 7%)\n",
            "  adding: data/token_representations/UniRef50_A0A672LG87.pt (deflated 7%)\n",
            "  adding: data/token_representations/UniRef50_R1GVA6.pt (deflated 7%)\n",
            "  adding: data/token_representations/UniRef50_UPI00193E1E58.pt (deflated 7%)\n",
            "  adding: data/token_representations/UniRef50_A0A699GI09.pt (deflated 7%)\n",
            "  adding: data/token_representations/UniRef50_W9FJV6.pt (deflated 7%)\n",
            "  adding: data/token_representations/UniRef50_A0A3E1KC02.pt (deflated 7%)\n",
            "  adding: data/token_representations/UniRef50_UPI001C092AE7.pt (deflated 7%)\n",
            "  adding: data/token_representations/UniRef50_R7FMF3.pt (deflated 7%)\n",
            "  adding: data/token_representations/UniRef50_UPI0021C34722.pt (deflated 7%)\n",
            "  adding: data/token_representations/UniRef50_A0A2R5G9A4.pt (deflated 7%)\n",
            "  adding: data/token_representations/UniRef50_A0A8H4CJ44.pt (deflated 7%)\n",
            "  adding: data/token_representations/UniRef50_UPI001E67AEE6.pt (deflated 7%)\n",
            "  adding: data/token_representations/UniRef50_UPI0027314D1E.pt (deflated 7%)\n",
            "  adding: data/token_representations/UniRef50_UPI001488E157.pt (deflated 7%)\n",
            "  adding: data/token_representations/UniRef50_A0A450SB24.pt (deflated 7%)\n",
            "  adding: data/token_representations/UniRef50_A0A815F877.pt (deflated 7%)\n",
            "  adding: data/token_representations/UniRef50_A0A067REZ4.pt (deflated 7%)\n",
            "  adding: data/token_representations/UniRef50_A0A971UJV0.pt (deflated 7%)\n",
            "  adding: data/token_representations/UniRef50_UPI000766E871.pt (deflated 7%)\n",
            "  adding: data/token_representations/UniRef50_UPI001C628115.pt (deflated 7%)\n",
            "  adding: data/token_representations/UniRef50_UPI000FF89EE0.pt (deflated 7%)\n",
            "  adding: data/token_representations/UniRef50_A0A2R5GG89.pt (deflated 7%)\n",
            "  adding: data/token_representations/UniRef50_A0A913Z346.pt (deflated 7%)\n",
            "  adding: data/token_representations/UniRef50_A0A950UGD8.pt (deflated 7%)\n",
            "  adding: data/token_representations/UniRef50_A0A0G4HVY3.pt (deflated 7%)\n",
            "  adding: data/token_representations/UniRef50_UPI0023E2430B.pt (deflated 7%)\n",
            "  adding: data/token_representations/UniRef50_UPI002447AB3E.pt (deflated 7%)\n",
            "  adding: data/token_representations/UniRef50_A0A1I8CUS4.pt (deflated 7%)\n",
            "  adding: data/token_representations/UniRef50_A0A5N6DJB6.pt (deflated 7%)\n",
            "  adding: data/token_representations/UniRef50_UPI0020B21346.pt (deflated 7%)\n",
            "  adding: data/token_representations/UniRef50_H2XS29.pt (deflated 7%)\n",
            "  adding: data/token_representations/UniRef50_A0A0Q9PE54.pt (deflated 7%)\n",
            "  adding: data/token_representations/UniRef50_A0A4S2KS19.pt (deflated 7%)\n",
            "  adding: data/token_representations/UniRef50_UPI0008F9B8CB.pt (deflated 7%)\n",
            "  adding: data/token_representations/UniRef50_A0A4Z0NAH9.pt (deflated 7%)\n",
            "  adding: data/token_representations/UniRef50_UPI0005002977.pt (deflated 7%)\n",
            "  adding: data/token_representations/UniRef50_A0A507DX61.pt (deflated 7%)\n",
            "  adding: data/token_representations/UniRef50_A0A9D5DKL6.pt (deflated 7%)\n",
            "  adding: data/token_representations/UniRef50_A0A9N8V9I0.pt (deflated 7%)\n",
            "  adding: data/token_representations/UniRef50_UPI0007A4809E.pt (deflated 7%)\n",
            "  adding: data/token_representations/UniRef50_A0A1L7P0A7.pt (deflated 7%)\n",
            "  adding: data/token_representations/UniRef50_A0A2T3M7F3.pt (deflated 7%)\n",
            "  adding: data/token_representations/UniRef50_UPI00262AD093.pt (deflated 7%)\n",
            "  adding: data/token_representations/UniRef50_UPI0003F0AF49.pt (deflated 7%)\n",
            "  adding: data/token_representations/UniRef50_A0A4W5Q7C4.pt (deflated 7%)\n",
            "  adding: data/token_representations/UniRef50_V5GDB2.pt (deflated 8%)\n",
            "  adding: data/token_representations/UniRef50_A0A254R4N9.pt (deflated 7%)\n",
            "  adding: data/token_representations/UniRef50_A3KFG5.pt (deflated 7%)\n",
            "  adding: data/token_representations/UniRef50_UPI002490A951.pt (deflated 7%)\n",
            "  adding: data/token_representations/UniRef50_A0A1D9PVD4.pt (deflated 7%)\n",
            "  adding: data/token_representations/UniRef50_A0A7V7X203.pt (deflated 7%)\n",
            "  adding: data/token_representations/UniRef50_A0A4R4ZA84.pt (deflated 7%)\n",
            "  adding: data/token_representations/UniRef50_A0A812L1X8.pt (deflated 7%)\n",
            "  adding: data/token_representations/UniRef50_UPI0014028C09.pt (deflated 7%)\n",
            "  adding: data/token_representations/UniRef50_UPI001D088C87.pt (deflated 7%)\n",
            "  adding: data/token_representations/UniRef50_UPI001F281B68.pt (deflated 7%)\n",
            "  adding: data/token_representations/UniRef50_A0A6A6WB93.pt (deflated 7%)\n",
            "  adding: data/token_representations/UniRef50_UPI001F44944F.pt (deflated 7%)\n",
            "  adding: data/token_representations/UniRef50_A0A7Y6NE79.pt (deflated 7%)\n",
            "  adding: data/token_representations/UniRef50_A0A4S2IY88.pt (deflated 7%)\n",
            "  adding: data/token_representations/UniRef50_A0A9W9YMB8.pt (deflated 7%)\n",
            "  adding: data/token_representations/UniRef50_A0A815X924.pt (deflated 7%)\n",
            "  adding: data/token_representations/UniRef50_UPI001E31846F.pt (deflated 7%)\n",
            "  adding: data/token_representations/UniRef50_A0A1G1AII1.pt (deflated 7%)\n",
            "  adding: data/token_representations/UniRef50_A0A0M3JUC8.pt (deflated 7%)\n",
            "  adding: data/token_representations/UniRef50_UPI001E678E14.pt (deflated 7%)\n",
            "  adding: data/token_representations/UniRef50_UPI000BA7F308.pt (deflated 7%)\n",
            "  adding: data/token_representations/UniRef50_UPI00276EEAC4.pt (deflated 7%)\n",
            "  adding: data/token_representations/UniRef50_A0A0P1AY64.pt (deflated 7%)\n",
            "  adding: data/token_representations/UniRef50_A0A914DFR3.pt (deflated 7%)\n",
            "  adding: data/token_representations/UniRef50_S3AQ97.pt (deflated 7%)\n",
            "  adding: data/token_representations/UniRef50_UPI00077ABE69.pt (deflated 7%)\n",
            "  adding: data/token_representations/UniRef50_A0A6J1VDE6.pt (deflated 7%)\n",
            "  adding: data/token_representations/UniRef50_A0A7X9ZGI2.pt (deflated 7%)\n",
            "  adding: data/token_representations/UniRef50_UPI0002F370F7.pt (deflated 7%)\n",
            "  adding: data/token_representations/UniRef50_A0A482VEV7.pt (deflated 7%)\n",
            "  adding: data/token_representations/UniRef50_A0A848LB38.pt (deflated 7%)\n",
            "  adding: data/token_representations/UniRef50_A0A6J2WJ84.pt (deflated 7%)\n",
            "  adding: data/token_representations/UniRef50_UPI0021AD0735.pt (deflated 7%)\n",
            "  adding: data/token_representations/UniRef50_A0A7U9L1U8.pt (deflated 7%)\n",
            "  adding: data/token_representations/UniRef50_UPI000E5BEBE4.pt (deflated 7%)\n",
            "  adding: data/token_representations/UniRef50_A0A2T3M5D0.pt (deflated 7%)\n",
            "  adding: data/token_representations/UniRef50_A0A3M6VKN5.pt (deflated 7%)\n",
            "  adding: data/token_representations/UniRef50_UPI0022558FB8.pt (deflated 7%)\n",
            "  adding: data/token_representations/UniRef50_A0A1G5L7Y7.pt (deflated 7%)\n",
            "  adding: data/token_representations/UniRef50_UPI0024B4FFFE.pt (deflated 7%)\n",
            "  adding: data/token_representations/UniRef50_UPI001E522CCC.pt (deflated 7%)\n",
            "  adding: data/token_representations/UniRef50_A0A6A6HBE1.pt (deflated 7%)\n",
            "  adding: data/token_representations/UniRef50_UPI0009713DE1.pt (deflated 7%)\n",
            "  adding: data/token_representations/UniRef50_A0A6P7L4Y4.pt (deflated 7%)\n",
            "  adding: data/token_representations/UniRef50_A0A365XW04.pt (deflated 7%)\n",
            "  adding: data/token_representations/UniRef50_A0A9D7TX04.pt (deflated 7%)\n",
            "  adding: data/token_representations/UniRef50_A0A3N5A087.pt (deflated 7%)\n",
            "  adding: data/token_representations/UniRef50_A0A1V9X9D5.pt (deflated 7%)\n",
            "  adding: data/token_representations/UniRef50_A0A6P5PYG4.pt (deflated 7%)\n",
            "  adding: data/token_representations/UniRef50_F0VK11.pt (deflated 7%)\n",
            "  adding: data/token_representations/UniRef50_A0A172UTW1.pt (deflated 7%)\n",
            "  adding: data/token_representations/UniRef50_A0A918FX92.pt (deflated 7%)\n",
            "  adding: data/token_representations/UniRef50_UPI001BAA1EB5.pt (deflated 7%)\n",
            "  adding: data/token_representations/UniRef50_A0A512IMI9.pt (deflated 7%)\n",
            "  adding: data/token_representations/UniRef50_UPI00240A1892.pt (deflated 7%)\n",
            "  adding: data/token_representations/UniRef50_UPI001C3FDEF1.pt (deflated 7%)\n",
            "  adding: data/token_representations/UniRef50_UPI001658BAF2.pt (deflated 7%)\n",
            "  adding: data/token_representations/UniRef50_A9EDD3.pt (deflated 7%)\n",
            "  adding: data/token_representations/UniRef50_A0A9N8DZD6.pt (deflated 7%)\n",
            "  adding: data/token_representations/UniRef50_A0A0M9ED40.pt (deflated 7%)\n",
            "  adding: data/token_representations/UniRef50_A0A6P7K4T4.pt (deflated 7%)\n",
            "  adding: data/token_representations/UniRef50_UPI001A98C7B9.pt (deflated 7%)\n",
            "  adding: data/token_representations/UniRef50_A0A0Q5Q9Q0.pt (deflated 7%)\n",
            "  adding: data/token_representations/UniRef50_A0A857CZA1.pt (deflated 7%)\n",
            "  adding: data/token_representations/UniRef50_A0A8I6TMH9.pt (deflated 7%)\n",
            "  adding: data/token_representations/UniRef50_A0A366DFT2.pt (deflated 7%)\n",
            "  adding: data/token_representations/UniRef50_A0A1S6TQV8.pt (deflated 7%)\n",
            "  adding: data/token_representations/UniRef50_A0A7W9B4T4.pt (deflated 7%)\n",
            "  adding: data/token_representations/UniRef50_UPI001455B1F9.pt (deflated 7%)\n",
            "  adding: data/token_representations/UniRef50_A0A7J6CTT3.pt (deflated 7%)\n",
            "  adding: data/token_representations/UniRef50_A0A1H1IPM1.pt (deflated 7%)\n",
            "  adding: data/token_representations/UniRef50_UPI00077DB535.pt (deflated 7%)\n",
            "  adding: data/token_representations/UniRef50_A0A8S4BGK1.pt (deflated 7%)\n",
            "  adding: data/token_representations/UniRef50_A0A1A9BVR4.pt (deflated 7%)\n",
            "  adding: data/token_representations/UniRef50_UPI001646C973.pt (deflated 7%)\n",
            "  adding: data/token_representations/UniRef50_A0A497XEU7.pt (deflated 7%)\n",
            "  adding: data/token_representations/UniRef50_UPI0022262729.pt (deflated 7%)\n",
            "  adding: data/token_representations/UniRef50_A0A6P7I8X9.pt (deflated 7%)\n",
            "  adding: data/token_representations/UniRef50_A0A1X1UFX9.pt (deflated 7%)\n",
            "  adding: data/token_representations/UniRef50_UPI001613DBE4.pt (deflated 7%)\n",
            "  adding: data/token_representations/UniRef50_A0A315C3I5.pt (deflated 7%)\n",
            "  adding: data/token_representations/UniRef50_A0A2C6KPA2.pt (deflated 7%)\n",
            "  adding: data/token_representations/UniRef50_G9NUS9.pt (deflated 7%)\n",
            "  adding: data/token_representations/UniRef50_A0A835TEA3.pt (deflated 7%)\n",
            "  adding: data/token_representations/UniRef50_A0A7L5SUJ8.pt (deflated 7%)\n",
            "  adding: data/token_representations/UniRef50_A0A1I9ZIC1.pt (deflated 7%)\n",
            "  adding: data/token_representations/UniRef50_UPI0019D6B394.pt (deflated 7%)\n",
            "  adding: data/token_representations/UniRef50_A0A137QLH3.pt (deflated 7%)\n",
            "  adding: data/token_representations/UniRef50_A0A838XXV5.pt (deflated 7%)\n",
            "  adding: data/token_representations/UniRef50_A0A835SKB7.pt (deflated 7%)\n",
            "  adding: data/token_representations/UniRef50_UPI0010FA926C.pt (deflated 7%)\n",
            "  adding: data/token_representations/UniRef50_A0A840QFM1.pt (deflated 7%)\n",
            "  adding: data/token_representations/UniRef50_A0A1T2XXJ9.pt (deflated 7%)\n",
            "  adding: data/token_representations/UniRef50_A0A8E0RYS4.pt (deflated 7%)\n",
            "  adding: data/token_representations/UniRef50_A0A0F4GFJ0.pt (deflated 7%)\n",
            "  adding: data/token_representations/UniRef50_A0A226MGY2.pt (deflated 7%)\n",
            "  adding: data/token_representations/UniRef50_A0A1F7N035.pt (deflated 7%)\n",
            "  adding: data/token_representations/UniRef50_A0A6P3WXI4.pt (deflated 7%)\n",
            "  adding: data/token_representations/UniRef50_UPI0023AF300A.pt (deflated 7%)\n",
            "  adding: data/token_representations/UniRef50_R9JIA4.pt (deflated 7%)\n",
            "  adding: data/token_representations/UniRef50_A0A2S7JKK6.pt (deflated 7%)\n",
            "  adding: data/token_representations/UniRef50_A0A6P8L1L1.pt (deflated 7%)\n",
            "  adding: data/token_representations/UniRef50_UPI00249393E2.pt (deflated 7%)\n",
            "  adding: data/token_representations/UniRef50_A0A2M9CD41.pt (deflated 7%)\n",
            "  adding: data/token_representations/UniRef50_A0A819LX09.pt (deflated 7%)\n",
            "  adding: data/token_representations/UniRef50_A0A917VZJ6.pt (deflated 7%)\n",
            "  adding: data/token_representations/UniRef50_A0A178U819.pt (deflated 7%)\n",
            "  adding: data/token_representations/UniRef50_A0A976X550.pt (deflated 7%)\n",
            "  adding: data/token_representations/UniRef50_UPI0021E24E2A.pt (deflated 7%)\n",
            "  adding: data/token_representations/UniRef50_A0A8H7WKR6.pt (deflated 7%)\n",
            "  adding: data/token_representations/UniRef50_A0A8A4TTG6.pt (deflated 7%)\n",
            "  adding: data/token_representations/UniRef50_A0A1L3KIZ5.pt (deflated 7%)\n",
            "  adding: data/token_representations/UniRef50_A0A8T5PZ80.pt (deflated 7%)\n",
            "  adding: data/token_representations/UniRef50_A0A8B7WPL3.pt (deflated 7%)\n",
            "  adding: data/token_representations/UniRef50_A0A2K3DA82.pt (deflated 7%)\n",
            "  adding: data/token_representations/UniRef50_A0A1X7VAW4.pt (deflated 7%)\n",
            "  adding: data/token_representations/UniRef50_A0A812KLQ7.pt (deflated 7%)\n",
            "  adding: data/token_representations/UniRef50_K3XA33.pt (deflated 7%)\n",
            "  adding: data/token_representations/UniRef50_A0A4Y2C6Q6.pt (deflated 7%)\n",
            "  adding: data/token_representations/UniRef50_A0A0G0W724.pt\n",
            "\n",
            "\n",
            "zip error: Interrupted (aborting)\n"
          ]
        }
      ],
      "source": [
        "!zip -r dataset25k.zip data/\n"
      ]
    },
    {
      "cell_type": "code",
      "execution_count": null,
      "metadata": {
        "colab": {
          "base_uri": "https://localhost:8080/"
        },
        "id": "8UxvAi2CO8dj",
        "outputId": "92bf0123-0b6d-4439-ec48-d71b2c46a33e"
      },
      "outputs": [
        {
          "name": "stdout",
          "output_type": "stream",
          "text": [
            "Drive already mounted at /content/drive; to attempt to forcibly remount, call drive.mount(\"/content/drive\", force_remount=True).\n"
          ]
        }
      ],
      "source": [
        "from google.colab import drive\n",
        "drive.mount('/content/drive')\n"
      ]
    },
    {
      "cell_type": "code",
      "execution_count": null,
      "metadata": {
        "colab": {
          "background_save": true
        },
        "id": "wPxUKasDZyIB",
        "outputId": "a9d2eb5b-9090-4f5f-9e72-fa19b37e3451"
      },
      "outputs": [
        {
          "name": "stdout",
          "output_type": "stream",
          "text": [
            "         35.92G 100%    1.21MB/s    7:52:30 (xfr#25002, to-chk=0/25004)\n"
          ]
        }
      ],
      "source": [
        "!mkdir -p \"/content/drive/My Drive/ColabBackups\"\n",
        "!cp -r data/ \"/content/drive/My Drive/ColabBackups/\""
      ]
    },
    {
      "cell_type": "code",
      "execution_count": null,
      "metadata": {
        "id": "woJuwRlcZ6Qo"
      },
      "outputs": [],
      "source": []
    }
  ],
  "metadata": {
    "accelerator": "GPU",
    "colab": {
      "gpuType": "T4",
      "provenance": []
    },
    "kernelspec": {
      "display_name": "Python 3",
      "name": "python3"
    },
    "language_info": {
      "name": "python"
    },
    "widgets": {
      "application/vnd.jupyter.widget-state+json": {
        "0861ee1e3d1444d8bf6dc012fffbe7c2": {
          "model_module": "@jupyter-widgets/base",
          "model_module_version": "1.2.0",
          "model_name": "LayoutModel",
          "state": {
            "_model_module": "@jupyter-widgets/base",
            "_model_module_version": "1.2.0",
            "_model_name": "LayoutModel",
            "_view_count": null,
            "_view_module": "@jupyter-widgets/base",
            "_view_module_version": "1.2.0",
            "_view_name": "LayoutView",
            "align_content": null,
            "align_items": null,
            "align_self": null,
            "border": null,
            "bottom": null,
            "display": null,
            "flex": null,
            "flex_flow": null,
            "grid_area": null,
            "grid_auto_columns": null,
            "grid_auto_flow": null,
            "grid_auto_rows": null,
            "grid_column": null,
            "grid_gap": null,
            "grid_row": null,
            "grid_template_areas": null,
            "grid_template_columns": null,
            "grid_template_rows": null,
            "height": null,
            "justify_content": null,
            "justify_items": null,
            "left": null,
            "margin": null,
            "max_height": null,
            "max_width": null,
            "min_height": null,
            "min_width": null,
            "object_fit": null,
            "object_position": null,
            "order": null,
            "overflow": null,
            "overflow_x": null,
            "overflow_y": null,
            "padding": null,
            "right": null,
            "top": null,
            "visibility": null,
            "width": null
          }
        },
        "0a2ea8c86ad64825a56ebacbfd4f8486": {
          "model_module": "@jupyter-widgets/base",
          "model_module_version": "1.2.0",
          "model_name": "LayoutModel",
          "state": {
            "_model_module": "@jupyter-widgets/base",
            "_model_module_version": "1.2.0",
            "_model_name": "LayoutModel",
            "_view_count": null,
            "_view_module": "@jupyter-widgets/base",
            "_view_module_version": "1.2.0",
            "_view_name": "LayoutView",
            "align_content": null,
            "align_items": null,
            "align_self": null,
            "border": null,
            "bottom": null,
            "display": null,
            "flex": null,
            "flex_flow": null,
            "grid_area": null,
            "grid_auto_columns": null,
            "grid_auto_flow": null,
            "grid_auto_rows": null,
            "grid_column": null,
            "grid_gap": null,
            "grid_row": null,
            "grid_template_areas": null,
            "grid_template_columns": null,
            "grid_template_rows": null,
            "height": null,
            "justify_content": null,
            "justify_items": null,
            "left": null,
            "margin": null,
            "max_height": null,
            "max_width": null,
            "min_height": null,
            "min_width": null,
            "object_fit": null,
            "object_position": null,
            "order": null,
            "overflow": null,
            "overflow_x": null,
            "overflow_y": null,
            "padding": null,
            "right": null,
            "top": null,
            "visibility": null,
            "width": null
          }
        },
        "0c154f9b4f6244f8ae208c8758c3ec8d": {
          "model_module": "@jupyter-widgets/controls",
          "model_module_version": "1.5.0",
          "model_name": "DescriptionStyleModel",
          "state": {
            "_model_module": "@jupyter-widgets/controls",
            "_model_module_version": "1.5.0",
            "_model_name": "DescriptionStyleModel",
            "_view_count": null,
            "_view_module": "@jupyter-widgets/base",
            "_view_module_version": "1.2.0",
            "_view_name": "StyleView",
            "description_width": ""
          }
        },
        "1196e0034a0b465e9aaa88b4e413d9b9": {
          "model_module": "@jupyter-widgets/controls",
          "model_module_version": "1.5.0",
          "model_name": "HTMLModel",
          "state": {
            "_dom_classes": [],
            "_model_module": "@jupyter-widgets/controls",
            "_model_module_version": "1.5.0",
            "_model_name": "HTMLModel",
            "_view_count": null,
            "_view_module": "@jupyter-widgets/controls",
            "_view_module_version": "1.5.0",
            "_view_name": "HTMLView",
            "description": "",
            "description_tooltip": null,
            "layout": "IPY_MODEL_0861ee1e3d1444d8bf6dc012fffbe7c2",
            "placeholder": "​",
            "style": "IPY_MODEL_0c154f9b4f6244f8ae208c8758c3ec8d",
            "value": "Resolving data files: 100%"
          }
        },
        "12d5426edd404b7692137834945c184d": {
          "model_module": "@jupyter-widgets/controls",
          "model_module_version": "1.5.0",
          "model_name": "HBoxModel",
          "state": {
            "_dom_classes": [],
            "_model_module": "@jupyter-widgets/controls",
            "_model_module_version": "1.5.0",
            "_model_name": "HBoxModel",
            "_view_count": null,
            "_view_module": "@jupyter-widgets/controls",
            "_view_module_version": "1.5.0",
            "_view_name": "HBoxView",
            "box_style": "",
            "children": [
              "IPY_MODEL_628d70b07d894fe19f465f48d1640c4f",
              "IPY_MODEL_c330d3620e844b71a9f154f7f3b27425",
              "IPY_MODEL_7889f24688394d05b2f9e1c116f795c8"
            ],
            "layout": "IPY_MODEL_fff0b89e91b94832b8a91b5f587ea913"
          }
        },
        "1f179512591f4e3183ec5a13a914146a": {
          "model_module": "@jupyter-widgets/base",
          "model_module_version": "1.2.0",
          "model_name": "LayoutModel",
          "state": {
            "_model_module": "@jupyter-widgets/base",
            "_model_module_version": "1.2.0",
            "_model_name": "LayoutModel",
            "_view_count": null,
            "_view_module": "@jupyter-widgets/base",
            "_view_module_version": "1.2.0",
            "_view_name": "LayoutView",
            "align_content": null,
            "align_items": null,
            "align_self": null,
            "border": null,
            "bottom": null,
            "display": null,
            "flex": null,
            "flex_flow": null,
            "grid_area": null,
            "grid_auto_columns": null,
            "grid_auto_flow": null,
            "grid_auto_rows": null,
            "grid_column": null,
            "grid_gap": null,
            "grid_row": null,
            "grid_template_areas": null,
            "grid_template_columns": null,
            "grid_template_rows": null,
            "height": null,
            "justify_content": null,
            "justify_items": null,
            "left": null,
            "margin": null,
            "max_height": null,
            "max_width": null,
            "min_height": null,
            "min_width": null,
            "object_fit": null,
            "object_position": null,
            "order": null,
            "overflow": null,
            "overflow_x": null,
            "overflow_y": null,
            "padding": null,
            "right": null,
            "top": null,
            "visibility": null,
            "width": null
          }
        },
        "2124c05e06f64f6088416d32ab1f2b38": {
          "model_module": "@jupyter-widgets/base",
          "model_module_version": "1.2.0",
          "model_name": "LayoutModel",
          "state": {
            "_model_module": "@jupyter-widgets/base",
            "_model_module_version": "1.2.0",
            "_model_name": "LayoutModel",
            "_view_count": null,
            "_view_module": "@jupyter-widgets/base",
            "_view_module_version": "1.2.0",
            "_view_name": "LayoutView",
            "align_content": null,
            "align_items": null,
            "align_self": null,
            "border": null,
            "bottom": null,
            "display": null,
            "flex": null,
            "flex_flow": null,
            "grid_area": null,
            "grid_auto_columns": null,
            "grid_auto_flow": null,
            "grid_auto_rows": null,
            "grid_column": null,
            "grid_gap": null,
            "grid_row": null,
            "grid_template_areas": null,
            "grid_template_columns": null,
            "grid_template_rows": null,
            "height": null,
            "justify_content": null,
            "justify_items": null,
            "left": null,
            "margin": null,
            "max_height": null,
            "max_width": null,
            "min_height": null,
            "min_width": null,
            "object_fit": null,
            "object_position": null,
            "order": null,
            "overflow": null,
            "overflow_x": null,
            "overflow_y": null,
            "padding": null,
            "right": null,
            "top": null,
            "visibility": null,
            "width": null
          }
        },
        "2e9a6645c42d40e1b8271980c9c38d34": {
          "model_module": "@jupyter-widgets/controls",
          "model_module_version": "1.5.0",
          "model_name": "DescriptionStyleModel",
          "state": {
            "_model_module": "@jupyter-widgets/controls",
            "_model_module_version": "1.5.0",
            "_model_name": "DescriptionStyleModel",
            "_view_count": null,
            "_view_module": "@jupyter-widgets/base",
            "_view_module_version": "1.2.0",
            "_view_name": "StyleView",
            "description_width": ""
          }
        },
        "3dce696809d848818fd1b6bfe95b1b89": {
          "model_module": "@jupyter-widgets/base",
          "model_module_version": "1.2.0",
          "model_name": "LayoutModel",
          "state": {
            "_model_module": "@jupyter-widgets/base",
            "_model_module_version": "1.2.0",
            "_model_name": "LayoutModel",
            "_view_count": null,
            "_view_module": "@jupyter-widgets/base",
            "_view_module_version": "1.2.0",
            "_view_name": "LayoutView",
            "align_content": null,
            "align_items": null,
            "align_self": null,
            "border": null,
            "bottom": null,
            "display": null,
            "flex": null,
            "flex_flow": null,
            "grid_area": null,
            "grid_auto_columns": null,
            "grid_auto_flow": null,
            "grid_auto_rows": null,
            "grid_column": null,
            "grid_gap": null,
            "grid_row": null,
            "grid_template_areas": null,
            "grid_template_columns": null,
            "grid_template_rows": null,
            "height": null,
            "justify_content": null,
            "justify_items": null,
            "left": null,
            "margin": null,
            "max_height": null,
            "max_width": null,
            "min_height": null,
            "min_width": null,
            "object_fit": null,
            "object_position": null,
            "order": null,
            "overflow": null,
            "overflow_x": null,
            "overflow_y": null,
            "padding": null,
            "right": null,
            "top": null,
            "visibility": null,
            "width": null
          }
        },
        "4c441251b2e14c0bbd5ab920568b30a3": {
          "model_module": "@jupyter-widgets/controls",
          "model_module_version": "1.5.0",
          "model_name": "FloatProgressModel",
          "state": {
            "_dom_classes": [],
            "_model_module": "@jupyter-widgets/controls",
            "_model_module_version": "1.5.0",
            "_model_name": "FloatProgressModel",
            "_view_count": null,
            "_view_module": "@jupyter-widgets/controls",
            "_view_module_version": "1.5.0",
            "_view_name": "ProgressView",
            "bar_style": "success",
            "description": "",
            "description_tooltip": null,
            "layout": "IPY_MODEL_2124c05e06f64f6088416d32ab1f2b38",
            "max": 40,
            "min": 0,
            "orientation": "horizontal",
            "style": "IPY_MODEL_8e03610655b24a3db70c0a9d5bbdb7b0",
            "value": 40
          }
        },
        "4fde6aa2415a477d9daf881412c7d3a6": {
          "model_module": "@jupyter-widgets/base",
          "model_module_version": "1.2.0",
          "model_name": "LayoutModel",
          "state": {
            "_model_module": "@jupyter-widgets/base",
            "_model_module_version": "1.2.0",
            "_model_name": "LayoutModel",
            "_view_count": null,
            "_view_module": "@jupyter-widgets/base",
            "_view_module_version": "1.2.0",
            "_view_name": "LayoutView",
            "align_content": null,
            "align_items": null,
            "align_self": null,
            "border": null,
            "bottom": null,
            "display": null,
            "flex": null,
            "flex_flow": null,
            "grid_area": null,
            "grid_auto_columns": null,
            "grid_auto_flow": null,
            "grid_auto_rows": null,
            "grid_column": null,
            "grid_gap": null,
            "grid_row": null,
            "grid_template_areas": null,
            "grid_template_columns": null,
            "grid_template_rows": null,
            "height": null,
            "justify_content": null,
            "justify_items": null,
            "left": null,
            "margin": null,
            "max_height": null,
            "max_width": null,
            "min_height": null,
            "min_width": null,
            "object_fit": null,
            "object_position": null,
            "order": null,
            "overflow": null,
            "overflow_x": null,
            "overflow_y": null,
            "padding": null,
            "right": null,
            "top": null,
            "visibility": null,
            "width": null
          }
        },
        "628d70b07d894fe19f465f48d1640c4f": {
          "model_module": "@jupyter-widgets/controls",
          "model_module_version": "1.5.0",
          "model_name": "HTMLModel",
          "state": {
            "_dom_classes": [],
            "_model_module": "@jupyter-widgets/controls",
            "_model_module_version": "1.5.0",
            "_model_name": "HTMLModel",
            "_view_count": null,
            "_view_module": "@jupyter-widgets/controls",
            "_view_module_version": "1.5.0",
            "_view_name": "HTMLView",
            "description": "",
            "description_tooltip": null,
            "layout": "IPY_MODEL_1f179512591f4e3183ec5a13a914146a",
            "placeholder": "​",
            "style": "IPY_MODEL_f866c418674540578976d8bc2cc7e6b8",
            "value": "Resolving data files: 100%"
          }
        },
        "7889f24688394d05b2f9e1c116f795c8": {
          "model_module": "@jupyter-widgets/controls",
          "model_module_version": "1.5.0",
          "model_name": "HTMLModel",
          "state": {
            "_dom_classes": [],
            "_model_module": "@jupyter-widgets/controls",
            "_model_module_version": "1.5.0",
            "_model_name": "HTMLModel",
            "_view_count": null,
            "_view_module": "@jupyter-widgets/controls",
            "_view_module_version": "1.5.0",
            "_view_name": "HTMLView",
            "description": "",
            "description_tooltip": null,
            "layout": "IPY_MODEL_3dce696809d848818fd1b6bfe95b1b89",
            "placeholder": "​",
            "style": "IPY_MODEL_2e9a6645c42d40e1b8271980c9c38d34",
            "value": " 40/40 [00:00&lt;00:00, 69.19it/s]"
          }
        },
        "800baa5042b64361b6a471e958373f49": {
          "model_module": "@jupyter-widgets/controls",
          "model_module_version": "1.5.0",
          "model_name": "HBoxModel",
          "state": {
            "_dom_classes": [],
            "_model_module": "@jupyter-widgets/controls",
            "_model_module_version": "1.5.0",
            "_model_name": "HBoxModel",
            "_view_count": null,
            "_view_module": "@jupyter-widgets/controls",
            "_view_module_version": "1.5.0",
            "_view_name": "HBoxView",
            "box_style": "",
            "children": [
              "IPY_MODEL_1196e0034a0b465e9aaa88b4e413d9b9",
              "IPY_MODEL_4c441251b2e14c0bbd5ab920568b30a3",
              "IPY_MODEL_e68e12e1832b474c91efda1598115685"
            ],
            "layout": "IPY_MODEL_c1505bf2263c4c99abd4e22ca98e4dab"
          }
        },
        "8e03610655b24a3db70c0a9d5bbdb7b0": {
          "model_module": "@jupyter-widgets/controls",
          "model_module_version": "1.5.0",
          "model_name": "ProgressStyleModel",
          "state": {
            "_model_module": "@jupyter-widgets/controls",
            "_model_module_version": "1.5.0",
            "_model_name": "ProgressStyleModel",
            "_view_count": null,
            "_view_module": "@jupyter-widgets/base",
            "_view_module_version": "1.2.0",
            "_view_name": "StyleView",
            "bar_color": null,
            "description_width": ""
          }
        },
        "bf6f1a8af6f04bc98035be50a72e74fe": {
          "model_module": "@jupyter-widgets/controls",
          "model_module_version": "1.5.0",
          "model_name": "ProgressStyleModel",
          "state": {
            "_model_module": "@jupyter-widgets/controls",
            "_model_module_version": "1.5.0",
            "_model_name": "ProgressStyleModel",
            "_view_count": null,
            "_view_module": "@jupyter-widgets/base",
            "_view_module_version": "1.2.0",
            "_view_name": "StyleView",
            "bar_color": null,
            "description_width": ""
          }
        },
        "c1505bf2263c4c99abd4e22ca98e4dab": {
          "model_module": "@jupyter-widgets/base",
          "model_module_version": "1.2.0",
          "model_name": "LayoutModel",
          "state": {
            "_model_module": "@jupyter-widgets/base",
            "_model_module_version": "1.2.0",
            "_model_name": "LayoutModel",
            "_view_count": null,
            "_view_module": "@jupyter-widgets/base",
            "_view_module_version": "1.2.0",
            "_view_name": "LayoutView",
            "align_content": null,
            "align_items": null,
            "align_self": null,
            "border": null,
            "bottom": null,
            "display": null,
            "flex": null,
            "flex_flow": null,
            "grid_area": null,
            "grid_auto_columns": null,
            "grid_auto_flow": null,
            "grid_auto_rows": null,
            "grid_column": null,
            "grid_gap": null,
            "grid_row": null,
            "grid_template_areas": null,
            "grid_template_columns": null,
            "grid_template_rows": null,
            "height": null,
            "justify_content": null,
            "justify_items": null,
            "left": null,
            "margin": null,
            "max_height": null,
            "max_width": null,
            "min_height": null,
            "min_width": null,
            "object_fit": null,
            "object_position": null,
            "order": null,
            "overflow": null,
            "overflow_x": null,
            "overflow_y": null,
            "padding": null,
            "right": null,
            "top": null,
            "visibility": null,
            "width": null
          }
        },
        "c2d5687dfd1a494699c28312757044e6": {
          "model_module": "@jupyter-widgets/controls",
          "model_module_version": "1.5.0",
          "model_name": "DescriptionStyleModel",
          "state": {
            "_model_module": "@jupyter-widgets/controls",
            "_model_module_version": "1.5.0",
            "_model_name": "DescriptionStyleModel",
            "_view_count": null,
            "_view_module": "@jupyter-widgets/base",
            "_view_module_version": "1.2.0",
            "_view_name": "StyleView",
            "description_width": ""
          }
        },
        "c330d3620e844b71a9f154f7f3b27425": {
          "model_module": "@jupyter-widgets/controls",
          "model_module_version": "1.5.0",
          "model_name": "FloatProgressModel",
          "state": {
            "_dom_classes": [],
            "_model_module": "@jupyter-widgets/controls",
            "_model_module_version": "1.5.0",
            "_model_name": "FloatProgressModel",
            "_view_count": null,
            "_view_module": "@jupyter-widgets/controls",
            "_view_module_version": "1.5.0",
            "_view_name": "ProgressView",
            "bar_style": "success",
            "description": "",
            "description_tooltip": null,
            "layout": "IPY_MODEL_0a2ea8c86ad64825a56ebacbfd4f8486",
            "max": 40,
            "min": 0,
            "orientation": "horizontal",
            "style": "IPY_MODEL_bf6f1a8af6f04bc98035be50a72e74fe",
            "value": 40
          }
        },
        "e68e12e1832b474c91efda1598115685": {
          "model_module": "@jupyter-widgets/controls",
          "model_module_version": "1.5.0",
          "model_name": "HTMLModel",
          "state": {
            "_dom_classes": [],
            "_model_module": "@jupyter-widgets/controls",
            "_model_module_version": "1.5.0",
            "_model_name": "HTMLModel",
            "_view_count": null,
            "_view_module": "@jupyter-widgets/controls",
            "_view_module_version": "1.5.0",
            "_view_name": "HTMLView",
            "description": "",
            "description_tooltip": null,
            "layout": "IPY_MODEL_4fde6aa2415a477d9daf881412c7d3a6",
            "placeholder": "​",
            "style": "IPY_MODEL_c2d5687dfd1a494699c28312757044e6",
            "value": " 40/40 [00:00&lt;00:00, 1654.51it/s]"
          }
        },
        "f866c418674540578976d8bc2cc7e6b8": {
          "model_module": "@jupyter-widgets/controls",
          "model_module_version": "1.5.0",
          "model_name": "DescriptionStyleModel",
          "state": {
            "_model_module": "@jupyter-widgets/controls",
            "_model_module_version": "1.5.0",
            "_model_name": "DescriptionStyleModel",
            "_view_count": null,
            "_view_module": "@jupyter-widgets/base",
            "_view_module_version": "1.2.0",
            "_view_name": "StyleView",
            "description_width": ""
          }
        },
        "fff0b89e91b94832b8a91b5f587ea913": {
          "model_module": "@jupyter-widgets/base",
          "model_module_version": "1.2.0",
          "model_name": "LayoutModel",
          "state": {
            "_model_module": "@jupyter-widgets/base",
            "_model_module_version": "1.2.0",
            "_model_name": "LayoutModel",
            "_view_count": null,
            "_view_module": "@jupyter-widgets/base",
            "_view_module_version": "1.2.0",
            "_view_name": "LayoutView",
            "align_content": null,
            "align_items": null,
            "align_self": null,
            "border": null,
            "bottom": null,
            "display": null,
            "flex": null,
            "flex_flow": null,
            "grid_area": null,
            "grid_auto_columns": null,
            "grid_auto_flow": null,
            "grid_auto_rows": null,
            "grid_column": null,
            "grid_gap": null,
            "grid_row": null,
            "grid_template_areas": null,
            "grid_template_columns": null,
            "grid_template_rows": null,
            "height": null,
            "justify_content": null,
            "justify_items": null,
            "left": null,
            "margin": null,
            "max_height": null,
            "max_width": null,
            "min_height": null,
            "min_width": null,
            "object_fit": null,
            "object_position": null,
            "order": null,
            "overflow": null,
            "overflow_x": null,
            "overflow_y": null,
            "padding": null,
            "right": null,
            "top": null,
            "visibility": null,
            "width": null
          }
        }
      }
    }
  },
  "nbformat": 4,
  "nbformat_minor": 0
}